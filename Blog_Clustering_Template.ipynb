{
 "cells": [
  {
   "cell_type": "raw",
   "id": "a0b3a901",
   "metadata": {},
   "source": [
    "---\n",
    "title: \"Grouping Parliamentary Constituencies using Clustering Analysis\"\n",
    "date: 2022-03-30\n",
    "updated: 2022-03-30\n",
    "authors_plus:\n",
    "- \"Areeb Shafqat\"\n",
    "contacts_plus:\n",
    "- \"https://www.linkedin.com/in/areebshafqat297/\"\n",
    "editor: \"Fernando A. Zepeda Herrera\"\n",
    "editor_contact: \"https://www.linkedin.com/in/fernando-antonio-zepeda-herrera/\"\n",
    "tags:\n",
    "- clustering\n",
    "- politics\n",
    "- visualization\n",
    "categories:\n",
    "- []\n",
    "languages:\n",
    "- python\n",
    "description: \"Do the London, Scotland, or the Red Wall parliamentary constituencies form cohesive groups? We explore using different choices of clustering techniques.\"\n",
    "cover: /banners/polish-countdown.jpg\n",
    "---\n"
   ]
  },
  {
   "cell_type": "markdown",
   "id": "573b9e7a",
   "metadata": {},
   "source": [
    "## Introduction\n",
    "\n",
    "The UK constituencies are the key determinant of the general election outcome due to the “First Past the Post” System, which mainly leads to the Conservative or Labour parties winning majority of the constituency seats and forming a government. Thus, by analyzing numerous characteristics of these constituencies like past voting behaviour or demographic data such as population density, one can employ clustering algorithms to group them into clusters with similar features. There may be several reasons to do this. For example, clustering may help explain general trends or patterns, provide a broad view of differences between constituencies, or even based on the analysis, political parties may attempt to adapt their campaign efforts to the set of constituencies prone to switch their voting behaviour in their favour.\n",
    "\n",
    "One example of this is an appealing [data science blog post by Ballard (2019)](https://www.cb91.io/projects/election) with its [associated GitHub repository](https://github.com/calbal91/project-understanding-elections) where the author: collects several types of constituency data from the UK parliament website; carries out feature engineering and scaling steps; implements a Hierarchical Agglomerative Clustering (HAC) algorithm to underline any anomalous voting behaviour from constituencies; and finally utilises the 2017 election data to predict the voting choices of each constituency in the 2019 general election. Although we can augment that analysis in several ways, our current project will dive deeper into investigating alternatives to HAC and search which clustering algorithms and metrics provide us with the best clusterings concerning the UK political datasets, which can be of benefit to political researchers and parties. Furthermore, we believe it is advantageous to provide an example analysis project that highlights the different degrees of freedom researchers have when performing clustering analysis and the effects those choices have on the results.\n",
    "\n",
    "Therefore, we will explore alternatives with the following Clustering workflow:\n",
    "\n",
    "1. **Feature Engineering and Selection**\n",
    "\n",
    "    The first key ingredient of any clustering analysis is the data upon which it is based. In this section, we will discuss some of the variables involved in our analysis and explore the (possible) effects of including or excluding them.\n",
    "\n",
    "2. **Dimensionality Reduction**\n",
    "\n",
    "    In certain contexts, it is vital to conduct dimensionality reduction before attempting clustering, especially for distance-based algorithms like K Means. Here we explore two possible methods: PCA (linear) and UMAP (non-linear).\n",
    "\n",
    "3. **Clustering Model**\n",
    "\n",
    "    The main component of a clustering analysis is the model or algorithm selection. Besides HAC, we will consider K-means, Gaussian Mixture Modelling (GMM) and DBScan.\n",
    "\n",
    "4. **Optimality Criteria/Metric**\n",
    "\n",
    "    Depending on the algorithm chosen, we require particular metrics that can assist in selecting the optimal number of clusters where different criteria may lead to varying results. Here we will review metrics such as Distortion, Silhouette Score, Calinski-Harabasz, and the Davies-Bouldin index. In addition, some criteria are method-specific, like Dendrograms for HAC or the Bayesian Information Criterion (BIC) for GMM.\n",
    "\n",
    "Once the hyperparameters have been optimized for each model, we will further inspect the generated segments, compare them across various algorithms and select the one that offers the most insightful and logical clusters.\n",
    "\n",
    "All the code for this project can be found in [this GitHub repository](https://github.com/Areeb297/Warwick-Data-Science-Research-Project) which reuses some helpful code snippets from Ballard.\n"
   ]
  },
  {
   "cell_type": "code",
   "execution_count": 3,
   "id": "eee82b6f",
   "metadata": {
    "tags": [
     "remove_input",
     "remove_all_output"
    ]
   },
   "outputs": [
    {
     "data": {
      "application/javascript": [
       "if (typeof require !== 'undefined')\n",
       "    require.config({\n",
       "        paths: {\n",
       "            jquery: 'https://code.jquery.com/jquery-3.5.1.min',\n",
       "            datatables: 'https://cdn.datatables.net/1.11.3/js/jquery.dataTables.min',\n",
       "        }\n",
       "    });\n"
      ],
      "text/plain": [
       "<IPython.core.display.Javascript object>"
      ]
     },
     "metadata": {},
     "output_type": "display_data"
    }
   ],
   "source": [
    "#For data manipulation\n",
    "import numpy as np\n",
    "import pandas as pd\n",
    "import json\n",
    "import math\n",
    "\n",
    "# Hide all warnings\n",
    "import warnings\n",
    "warnings.filterwarnings(\"ignore\")\n",
    "\n",
    "\n",
    "#For data visualisation\n",
    "import matplotlib as mpl\n",
    "import matplotlib.pyplot as plt\n",
    "%matplotlib inline\n",
    "from matplotlib.lines import Line2D\n",
    "import matplotlib.font_manager\n",
    "from matplotlib.colors import LinearSegmentedColormap\n",
    "import seaborn as sns\n",
    "sns.set()\n",
    "from matplotlib.pylab import rcParams\n",
    "import plotly.express as px\n",
    "\n",
    "\n",
    "#For data pre-processing\n",
    "from sklearn.preprocessing import StandardScaler\n",
    "from sklearn.preprocessing import OneHotEncoder\n",
    "from yellowbrick.cluster import KElbowVisualizer\n",
    "from yellowbrick.cluster import InterclusterDistance\n",
    "\n",
    "\n",
    "# Dimensionality Reduction\n",
    "import umap\n",
    "from sklearn.decomposition import PCA\n",
    "\n",
    "\n",
    "#For clustering analysis\n",
    "from sklearn.cluster import KMeans\n",
    "from sklearn.cluster import AgglomerativeClustering\n",
    "from sklearn.mixture import GaussianMixture\n",
    "from sklearn.cluster import MeanShift\n",
    "from sklearn.cluster import DBSCAN\n",
    "\n",
    "\n",
    "#For evaluating clusters\n",
    "from sklearn.metrics import calinski_harabasz_score\n",
    "from sklearn.metrics import davies_bouldin_score\n",
    "from sklearn.metrics import silhouette_score\n",
    "\n",
    "\n",
    "from scipy.cluster.hierarchy import dendrogram, ward\n",
    "from sklearn.neighbors import NearestNeighbors\n",
    "from kneed import KneeLocator\n",
    "from sklearn import metrics\n",
    "\n",
    "# Scaling\n",
    "from sklearn.preprocessing import StandardScaler\n",
    "from sklearn.preprocessing import MinMaxScaler\n",
    "\n",
    "#Suppress warnings from showing\n",
    "import warnings\n",
    "warnings.filterwarnings('ignore')\n",
    "\n",
    "#Allow ourselves to save things\n",
    "import pickle\n",
    "\n",
    "#For interactive tables\n",
    "import itables\n",
    "itables.init_notebook_mode(all_interactive=True) # to activate"
   ]
  },
  {
   "cell_type": "code",
   "execution_count": 4,
   "id": "1d0b3ecd",
   "metadata": {
    "tags": [
     "remove_all_output",
     "remove_input"
    ]
   },
   "outputs": [],
   "source": [
    "df_con = pd.read_csv('data_with_targets.csv') # Our base dataset\n",
    "df_con.set_index('ID', inplace=True)\n",
    "df = pd.read_csv('data_with_targets.csv') # We will use this dataset for feature engineering and preprocessing purposes"
   ]
  },
  {
   "cell_type": "code",
   "execution_count": 5,
   "id": "c062fbb7",
   "metadata": {
    "tags": [
     "remove_all_output",
     "remove_input"
    ]
   },
   "outputs": [],
   "source": [
    "#Define colours for the visuals\n",
    "CB91_Blue = '#2CBDFE'\n",
    "CB91_Green = '#47DBCD'\n",
    "CB91_Pink = '#F3A0F2'\n",
    "CB91_Purple = '#9D2EC5'\n",
    "CB91_Violet = '#661D98'\n",
    "CB91_Amber = '#F5B14C'\n",
    "\n",
    "CB91_BlueD = '#016794'\n",
    "CB91_GreenD = '#187970'\n",
    "CB91_PinkD = '#B317B1'\n",
    "CB91_PurpleD = '#4E1762'\n",
    "CB91_VioletD = '#330E4C'\n",
    "CB91_AmberD = '#985E09'\n",
    "\n",
    "CB91_BlueL = '#ABE5FF'\n",
    "CB91_GreenL = '#B5F1EB'\n",
    "CB91_PinkL = '#FAD9FA'\n",
    "CB91_PurpleL = '#D9A8EB'\n",
    "CB91_VioletL = '#ECD4F5'\n",
    "CB91_AmberL = '#F9D094'\n",
    "\n",
    "\n",
    "#The following gradients will be used for heatmaps, etc\n",
    "CB91_Grad_BP = ['#2CBDFE', '#2fb9fc', '#33b4fa', '#36b0f8',\n",
    "                '#3aacf6', '#3da8f4', '#41a3f2', '#449ff0',\n",
    "                '#489bee', '#4b97ec', '#4f92ea', '#528ee8',\n",
    "                '#568ae6', '#5986e4', '#5c81e2', '#607de0',\n",
    "                '#6379de', '#6775dc', '#6a70da', '#6e6cd8',\n",
    "                '#7168d7', '#7564d5', '#785fd3', '#7c5bd1',\n",
    "                '#7f57cf', '#8353cd', '#864ecb', '#894ac9',\n",
    "                '#8d46c7', '#9042c5', '#943dc3', '#9739c1',\n",
    "                '#9b35bf', '#9e31bd', '#a22cbb', '#a528b9',\n",
    "                '#a924b7', '#ac20b5', '#b01bb3', '#b317b1']\n",
    "\n",
    "CB91_Grad_BA = ['#2cbdfe', '#31bdf9', '#36bcf5', '#3bbcf0',\n",
    "                '#41bcec', '#46bbe7', '#4bbbe3', '#50bbde',\n",
    "                '#55bbd9', '#5abad5', '#60bad0', '#65bacc',\n",
    "                '#6ab9c7', '#6fb9c3', '#74b9be', '#79b8ba',\n",
    "                '#7eb8b5', '#84b8b0', '#89b7ac', '#8eb7a7',\n",
    "                '#93b7a3', '#98b79e', '#9db69a', '#a3b695',\n",
    "                '#a8b690', '#adb58c', '#b2b587', '#b7b583',\n",
    "                '#bcb47e', '#c1b47a', '#c7b475', '#ccb371',\n",
    "                '#d1b36c', '#d6b367', '#dbb363', '#e0b25e',\n",
    "                '#e6b25a', '#ebb255', '#f0b151', '#f5b14c']\n",
    "\n",
    "CB91_Grad_AP = ['#f5b14c', '#f3ae4f', '#f0aa52', '#eea755',\n",
    "                '#eca458', '#eaa05c', '#e79d5f', '#e59962',\n",
    "                '#e39665', '#e19368', '#de8f6b', '#dc8c6e',\n",
    "                '#da8971', '#d88574', '#d58277', '#d37f7b',\n",
    "                '#d17b7e', '#cf7881', '#cc7584', '#ca7187',\n",
    "                '#c86e8a', '#c66a8d', '#c36790', '#c16493',\n",
    "                '#bf6096', '#bd5d9a', '#ba5a9d', '#b856a0',\n",
    "                '#b653a3', '#b450a6', '#b14ca9', '#af49ac',\n",
    "                '#ad46af', '#ab42b2', '#a83fb5', '#a63bb9',\n",
    "                '#a438bc', '#a235bf', '#9f31c2', '#9d2ec5']\n",
    "\n",
    "CB91_Grad_GP = ['#47dbcd', '#4bd9ce', '#50d8cf', '#54d6d0',\n",
    "                '#59d5d1', '#5dd3d2', '#61d2d3', '#66d0d4',\n",
    "                '#6acfd5', '#6fcdd6', '#73ccd6', '#78cad7',\n",
    "                '#7cc9d8', '#80c7d9', '#85c6da', '#89c4db',\n",
    "                '#8ec3dc', '#92c1dd', '#96c0de', '#9bbedf',\n",
    "                '#9fbde0', '#a4bbe1', '#a8bae2', '#acb8e3',\n",
    "                '#b1b7e4', '#b5b5e5', '#bab4e6', '#beb2e7',\n",
    "                '#c2b1e8', '#c7afe9', '#cbaee9', '#d0acea',\n",
    "                '#d4abeb', '#d9a9ec', '#dda8ed', '#e1a6ee',\n",
    "                '#e6a5ef', '#eaa3f0', '#efa2f1', '#f3a0f2']\n",
    "\n",
    "CB91_Grad_GWP= ['#47dbcd','#4fdcce','#56ddd0','#5dded1',\n",
    "                '#64dfd2','#6ae0d3','#70e1d5','#75e2d6',\n",
    "                '#7be3d7','#80e4d8','#85e5da','#8ae6db',\n",
    "                '#8fe7dc','#94e8dd','#98e9df','#9deae0',\n",
    "                '#a1ebe1','#a6ece2','#aaede4','#afede5',\n",
    "                '#b3eee6','#b7efe8','#bbf0e9','#c0f1ea',\n",
    "                '#c4f2eb','#c8f3ed','#ccf4ee','#d0f5ef',\n",
    "                '#d4f6f1','#d8f6f2','#dcf7f3','#e0f8f5',\n",
    "                '#e4f9f6','#e8faf7','#ecfbf8','#f0fcfa',\n",
    "                '#f3fcfb','#f7fdfc','#fbfefe','#ffffff',\n",
    "                '#fdfafe','#fbf5fc','#f9f0fb','#f7eaf9',\n",
    "                '#f4e5f8','#f2e0f7','#f0dbf5','#eed6f4',\n",
    "                '#ecd1f2','#e9ccf1','#e7c7f0','#e5c1ee',\n",
    "                '#e2bced','#e0b7eb','#deb2ea','#dbade8',\n",
    "                '#d9a8e7','#d6a3e5','#d49ee4','#d199e2',\n",
    "                '#cf94e1','#cc8fdf','#ca89de','#c784dc',\n",
    "                '#c57fdb','#c27ad9','#bf75d8','#bd6fd6',\n",
    "                '#ba6ad5','#b765d3','#b45fd2','#b25ad0',\n",
    "                '#af54cf','#ac4ecd','#a949cb','#a642ca',\n",
    "                '#a33cc8','#a035c7','#9d2ec5']\n",
    "\n",
    "CB91_Grad_BWP= ['#2cbdfe','#31bffe','#37c0fe','#3cc2fe',\n",
    "                '#42c4fe','#47c5fe','#4cc7fe','#52c9fe',\n",
    "                '#57cbfe','#5dccfe','#62cefe','#68d0fe',\n",
    "                '#6dd1fe','#72d3fe','#78d5fe','#7dd6fe',\n",
    "                '#83d8fe','#88dafe','#8ddbfe','#93ddfe',\n",
    "                '#98dfff','#9ee1ff','#a3e2ff','#a8e4ff',\n",
    "                '#aee6ff','#b3e7ff','#b9e9ff','#beebff',\n",
    "                '#c3ecff','#c9eeff','#cef0ff','#d4f1ff',\n",
    "                '#d9f3ff','#dff5ff','#e4f7ff','#e9f8ff',\n",
    "                '#effaff','#f4fcff','#fafdff','#ffffff',\n",
    "                '#fdfafe','#fbf5fc','#f9f0fb','#f7eaf9',\n",
    "                '#f4e5f8','#f2e0f7','#f0dbf5','#eed6f4',\n",
    "                '#ecd1f2','#e9ccf1','#e7c7f0','#e5c1ee',\n",
    "                '#e2bced','#e0b7eb','#deb2ea','#dbade8',\n",
    "                '#d9a8e7','#d6a3e5','#d49ee4','#d199e2',\n",
    "                '#cf94e1','#cc8fdf','#ca89de','#c784dc',\n",
    "                '#c57fdb','#c27ad9','#bf75d8','#bd6fd6',\n",
    "                '#ba6ad5','#b765d3','#b45fd2','#b25ad0',\n",
    "                '#af54cf','#ac4ecd','#a949cb','#a642ca',\n",
    "                '#a33cc8','#a035c7','#9d2ec5']\n",
    "\n",
    "#Add party colors\n",
    "con_blue = '#0A3B7C'\n",
    "lab_red = '#E4003B'\n",
    "lib_yel = '#FAA61A'\n",
    "snp_yel = '#FFF481'\n",
    "green_green = '#52DF00'\n",
    "brex_blue = '#00E2ED'\n",
    "ukip_pur = '#470A65'\n",
    "plaid_green = '#006A56'\n",
    "\n",
    "con_lab = '#992281'\n",
    "con_lib = '#837859'\n",
    "con_snp = '#85987f'\n",
    "lab_lib = '#ef532b'\n",
    "lab_snp = '#f27a5e'\n",
    "lib_snp = '#fccf4d'\n",
    "\n",
    "\n",
    "#A list that we'll use to cycle through colors in charts\n",
    "color_list = [CB91_Blue, CB91_Green, CB91_Amber, CB91_Pink,\n",
    "              CB91_Violet, CB91_BlueD, CB91_GreenD, CB91_Purple,\n",
    "              CB91_AmberL, CB91_BlueL, CB91_GreenL, CB91_AmberD, \n",
    "              CB91_VioletD, CB91_PinkL, CB91_VioletL, CB91_PinkD]"
   ]
  },
  {
   "cell_type": "code",
   "execution_count": 6,
   "id": "fcafeab5",
   "metadata": {
    "tags": [
     "remove_all_output",
     "remove_input"
    ]
   },
   "outputs": [],
   "source": [
    "def cluster_IDs(cluster, cluster_data, cluster_col='Cluster'):\n",
    "    \n",
    "    '''\n",
    "    Takes a cluster label (1, 2, 3, etc.) and a cluster dataframe,\n",
    "    and returns a list of constituency IDs that belong to the given cluster\n",
    "    '''\n",
    "    return list(cluster_data.loc[cluster_data['Cluster']==cluster].index)\n",
    "\n",
    "\n",
    "\n",
    "def cluster_kpi(kpi, data, cluster_data, cluster_col='Cluster'):\n",
    "    \n",
    "    '''\n",
    "    For a given set of cluster labels, and a given KPI, returns a\n",
    "    dataframe with one row, for that given kpi\n",
    "    '''\n",
    "    \n",
    "    #Find the unique cluster labels\n",
    "    cluster_labels = sorted(list(cluster_data[cluster_col].unique()))\n",
    "    \n",
    "    #Declare an empty list to store the KPI data in\n",
    "    kpi_values = []\n",
    "    \n",
    "    #Iterate through the labels\n",
    "    for i in cluster_labels:\n",
    "        #Work out which constituencies are in the cluster\n",
    "        cluster_index = cluster_IDs(cluster = i,\n",
    "                                    cluster_data = cluster_data,\n",
    "                                    cluster_col = cluster_col)\n",
    "        \n",
    "        #Go to the data table, and find the mean for that kpi\n",
    "        #for those constituencies. Append to the list\n",
    "        mean = data.loc[cluster_index, kpi].mean()\n",
    "        kpi_values.append(mean)\n",
    "        \n",
    "    #Create and return a dataframe as required\n",
    "    return pd.DataFrame([kpi_values],\n",
    "                        columns = cluster_labels,\n",
    "                        index = [kpi])\n",
    "\n",
    "\n",
    "\n",
    "def cluster_kpis(kpis, data, cluster_data, cluster_col='Cluster'):\n",
    "    \n",
    "    '''\n",
    "    For a list of KPIs, return a dataframe showing mean\n",
    "    values on a cluster by cluster basis\n",
    "    \n",
    "    '''\n",
    "    \n",
    "    #Declare an empty dataframe\n",
    "    df_temp = pd.DataFrame()\n",
    "    \n",
    "    #For each kpi, find the average cluster means, and append to the dataframe\n",
    "    for i in kpis:\n",
    "        cluster_values = cluster_kpi(kpi=i,\n",
    "                                     data=data,\n",
    "                                     cluster_data=cluster_data,\n",
    "                                     cluster_col=cluster_col)\n",
    "        \n",
    "        df_temp = pd.concat([df_temp, cluster_values])\n",
    "        \n",
    "    return df_temp\n",
    "        \n",
    "        \n",
    "\n",
    "def heatmap_cluster_kpis(kpis, data,\n",
    "                       cluster_data,\n",
    "                       size=0.4,\n",
    "                       cmap=CB91_Grad_BP,\n",
    "                       cluster_col='Cluster'):\n",
    "    \n",
    "    '''\n",
    "    Heatmap the table produced by the cluster_kpis function\n",
    "    '''\n",
    "    \n",
    "    #Calculate the required table and transpose\n",
    "    df_temp = cluster_kpis(kpis=kpis,\n",
    "                           data=data,\n",
    "                           cluster_data=cluster_data,\n",
    "                           cluster_col=cluster_col).T\n",
    "    \n",
    "    #For each kpi, scale as required\n",
    "    scaler = MinMaxScaler()\n",
    "    scaler.fit(df_temp)\n",
    "    df_scale = scaler.transform(df_temp)\n",
    "    \n",
    "    df_scale = pd.DataFrame(df_scale,\n",
    "                            columns=df_temp.columns,\n",
    "                            index=df_temp.index)\n",
    "    \n",
    "    height = size*len(df_scale.index)\n",
    "    width = 1.1*size*len(df_scale.columns)\n",
    "    \n",
    "    plt.figure(figsize=(width,height))\n",
    "    sns.heatmap(df_scale,cbar=True,cmap=cmap)\n",
    "    plt.yticks(rotation='horizontal')\n",
    "\n",
    "\n",
    "#Use seaborn to set all the default chart visual settings\n",
    "sns.set(font='Franklin Gothic Book',\n",
    "        rc={\n",
    " 'axes.axisbelow': False,\n",
    " 'axes.edgecolor': 'lightgrey',\n",
    " 'axes.facecolor': 'white',\n",
    " 'axes.grid': False,\n",
    " 'axes.labelcolor': 'dimgrey',\n",
    " 'axes.spines.right': False,\n",
    " 'axes.spines.top': False,\n",
    " 'figure.facecolor': 'white',\n",
    " 'lines.solid_capstyle': 'round',\n",
    " 'patch.edgecolor': 'w',\n",
    " 'patch.force_edgecolor': True,\n",
    " 'text.color': 'dimgrey',\n",
    " 'xtick.bottom': False,\n",
    " 'xtick.color': 'dimgrey',\n",
    " 'xtick.direction': 'out',\n",
    " 'xtick.top': False,\n",
    " 'ytick.color': 'dimgrey',\n",
    " 'ytick.direction': 'out',\n",
    " 'ytick.left': False,\n",
    " 'ytick.right': False})\n",
    "\n",
    "sns.set_context(\"notebook\", rc={\"font.size\":16,\n",
    "                                \"axes.titlesize\":20,\n",
    "                                \"axes.labelsize\":16})\n",
    "\n",
    "plt.rcParams['axes.prop_cycle'] = plt.cycler(color=color_list)"
   ]
  },
  {
   "cell_type": "code",
   "execution_count": 7,
   "id": "ac120155",
   "metadata": {
    "tags": [
     "remove_all_output",
     "remove_input"
    ]
   },
   "outputs": [],
   "source": [
    "def gradient_mapper(kpi, grad, outliers=None, stretch=1, factor=1):\n",
    "    \n",
    "    '''\n",
    "    Takes a list/series of numbers, outputs a list of hex colours,\n",
    "    appropriate for heatmapping the initial data.\n",
    "    \n",
    "    Parameters:\n",
    "    - col (list/series, etc.): The data to be transformed\n",
    "    - grad (list hex codes): A list of colors that the data will be transformed to\n",
    "    - outliers (top,bottom,both): Stretches the outliers, resulting in more gradient\n",
    "                                  change amongst clustered values\n",
    "    - stretch (int): The number of colors to duplicate if outliers variable used\n",
    "    - factor (int): The scale of color duplication if outliers variable used\n",
    "    \n",
    "    '''\n",
    "    #Work out how many colours we have in the given gradient\n",
    "    colors = len(grad)\n",
    "    half = colors // 2\n",
    "    \n",
    "    #Ensure that stretch is possible\n",
    "    stretch = min(half//3, stretch)\n",
    "    \n",
    "    factors = [4*factor, 3*factor, 2*factor]\n",
    "    \n",
    "    if outliers != None:\n",
    "        #Stretch gradient if required. Declare three lists:\n",
    "        #Start is the stretch map for the bottom end\n",
    "        if (outliers.lower() == 'bottom') or (outliers.lower() == 'both'):\n",
    "            start = [factors[0]]*stretch + [factors[1]]*stretch + [factors[2]]*stretch\n",
    "        else:\n",
    "            start = []\n",
    "\n",
    "        #End is the stretch map for the top end\n",
    "        if (outliers.lower() == 'top') or (outliers.lower() == 'both'):\n",
    "            end = [factors[2]]*stretch + [factors[1]]*stretch + [factors[0]]*stretch\n",
    "        else:\n",
    "            end = []\n",
    "\n",
    "        #Middle is a list of 1s which will be non-transformed\n",
    "        middle = [1 for i in range(colors - len(start) - len(end))]\n",
    "\n",
    "        stretch_map = start + middle + end\n",
    "        \n",
    "    else:\n",
    "        stretch_map = [1 for i in range(colors)]\n",
    "        \n",
    "    #Create tuples of the gradients, and the number of\n",
    "    #times they should be repeated in the list\n",
    "    zip_list = list(zip(grad,stretch_map))\n",
    "    \n",
    "    #Use this to create a list of lists\n",
    "    #Each element will be a list of the same gradient\n",
    "    #repeated the required number of times\n",
    "    list_of_lists = [[i[0]]*i[1] for i in zip_list]\n",
    "    \n",
    "    #Melt this list of lists into a single list\n",
    "    grad = sum(list_of_lists, [])\n",
    "    \n",
    "    #Re-define colors variable\n",
    "    colors = len(grad)-1\n",
    "    \n",
    "    #Define the lowest and the highest points in the dataset\n",
    "    kpi_min = kpi.min()\n",
    "    kpi_max = kpi.max()\n",
    "    \n",
    "    #Transform the data to integers between zero and the length of the gradient list\n",
    "    first_map = list(map(lambda x: int(round(colors*(x-kpi_min) /\n",
    "                                             (kpi_max-kpi_min),0)), list(kpi)))\n",
    "    \n",
    "    #Map the integers onto the gradient list\n",
    "    second_map = list(map(lambda x: grad[x], first_map))\n",
    "    \n",
    "    #Return this, as well as the new gradient\n",
    "    return second_map, grad\n",
    "\n",
    "\n",
    "\n",
    "\n",
    "f = open('constituencieshex.json')\n",
    "datamap = json.load(f)\n",
    "datamap = pd.DataFrame(datamap['hexes']).T\n",
    "datamap = datamap[['n','q','r']]\n",
    "datamap.columns=['Name','X','Y']\n",
    "\n",
    "def kpi_map(kpi, width=6, colorbar=True,\n",
    "            outliers=None, stretch=1, factor=1,\n",
    "            exclude=[], title=None,\n",
    "            colors=None, exc_color='#999999',\n",
    "            grad=CB91_Grad_AP, data=df):\n",
    "    \n",
    "    '''\n",
    "    Outputs a choropleth map, showing each constituency in the same size.\n",
    "    \n",
    "    Parameters:\n",
    "    - kpi (list/series, etc.): The data to be transformed\n",
    "    - width (float): The desired width of the figure\n",
    "    - df (dataframe): The dataframe to get the data from\n",
    "    - grad (list hex codes): A list of colors that the data will be transformed to\n",
    "    - outliers (top,bottom,both): Stretches the outliers, resulting in more gradient\n",
    "                                  change amongst clustered values\n",
    "    - stretch (int): The number of colors to duplicate if outliers variable used\n",
    "    - factor (int): The scale of color duplication if outliers variable used\n",
    "    - exclude (list): A list of regions to exclude from the chart\n",
    "    - colors (dataframe): A dataframe of hex-codes (index should be constituency codes)\n",
    "    - title (string): The desired title of the chart\n",
    "    \n",
    "    '''    \n",
    "    \n",
    "    #Filter out different regions, depending on paramaters\n",
    "    df_filtered = pd.concat([datamap, data[['Region',kpi]]], axis=1)\n",
    "    \n",
    "    #If we have colors to add, concatonate these in\n",
    "    if isinstance(colors, pd.DataFrame):\n",
    "        df_filtered = pd.concat([df_filtered, colors], axis=1)\n",
    "        df_filtered.columns = ['Name', 'X', 'Y', 'Region', kpi, 'Colors']\n",
    "    \n",
    "    df_filtered = df_filtered.loc[~df_filtered['Region'].isin(exclude)]\n",
    "    kpi_filtered = df_filtered[kpi]\n",
    "    \n",
    "    if isinstance(colors, pd.DataFrame) is False:\n",
    "        #Use the gradient mapper function to return the colors for the plot\n",
    "        gradient_map = gradient_mapper(kpi=kpi_filtered,\n",
    "                                    grad=grad,\n",
    "                                    outliers=outliers,\n",
    "                                    stretch=stretch,\n",
    "                                    factor=factor)\n",
    "        colors_map = gradient_map[0]\n",
    "    \n",
    "    else:\n",
    "        #Fill in nan colors with white\n",
    "        df_filtered['Colors'].fillna(exc_color, inplace=True)\n",
    "        \n",
    "        #Return the column to be used as the colours list in the plot\n",
    "        colors_map = list(df_filtered['Colors'])\n",
    "    \n",
    "    #Work out the aspect ratio of the filtered constituencies\n",
    "    X_diff = np.max(df_filtered['X'])-np.min(df_filtered['X'])\n",
    "    Y_diff = np.max(df_filtered['Y'])-np.min(df_filtered['Y'])\n",
    "    \n",
    "    #Declare the width and height of the plot\n",
    "    height = width * (Y_diff/X_diff)\n",
    "    size = 500*math.pi*((width/X_diff)**2)\n",
    "    \n",
    "    #Create the figure\n",
    "    fig, ax = plt.subplots(figsize=(width,height))\n",
    "    \n",
    "    plt.xticks([])\n",
    "    plt.yticks([])\n",
    "\n",
    "    #Plot the scatter\n",
    "    ax1 = fig.add_subplot(1,1,1)\n",
    "    ax1.scatter(df_filtered['X'],\n",
    "                df_filtered['Y'],\n",
    "                s=size,\n",
    "                marker='s',\n",
    "                c=colors_map)\n",
    "    \n",
    "    #Remove axes\n",
    "    sns.despine(left=True, bottom=True)\n",
    "    ax1.set_title(title);\n",
    "    \n",
    "    #plot the colorbar\n",
    "    if (colorbar == True) and isinstance(colors, pd.DataFrame) is False:        \n",
    "        cmap = LinearSegmentedColormap.from_list(name= '',\n",
    "                                                 colors=gradient_map[1])\n",
    "        ax2 = fig.add_subplot(2,30,28)\n",
    "        norm = mpl.colors_map.Normalize(vmin=df_filtered[kpi].min(),\n",
    "                                    vmax=df_filtered[kpi].max())\n",
    "        cb = mpl.colorbar.ColorbarBase(ax2, cmap=cmap,\n",
    "                                       norm=norm, orientation='vertical')\n",
    "    \n",
    "        # remove the x and y ticks\n",
    "        for ax in [ax1,ax2]:\n",
    "            ax.set_xticks([])\n",
    "            ax.set_yticks([])\n",
    "    \n",
    "    else:\n",
    "        ax1.set_xticks([])\n",
    "        ax1.set_yticks([])"
   ]
  },
  {
   "cell_type": "markdown",
   "id": "73d91a8b",
   "metadata": {},
   "source": [
    "## Data pre-processing and Feature Engineering\n",
    "\n",
    "To advance the work of Ballard, we use the same 2019 UK parliament constituency and the 2011 UK census data where the key variables include the wages per constituency, median house prices, unemployment changes in the past decade, house ownership type proportions, percentage of ethnicities, religious and age groups, broadband speeds and many more. One central  differentiation of our project, however, is that we chose to remove the regions variable to have no geographical influence on the clusters generated to detect more interesting clustering behaviour. Furthermore, we reduce the  categories of age, religion, and ethnicity to lower the dimensionality of our data. Moreover, to exclusively keep numerical variables for our clustering analysis, we remove the 2017 voting results categories per constituency where instead, we use directly the percentage of Conservative, Labour, Liberal, and SNP voters per constituency from the 2017 election. Including and excluding the SNP voter percentage will make up a major part of our clustering analysis later on. Additionally, we exclude the UKIP party vote due to the already existing EU referendum outcome present in the data. Lastly, we apply some log transformations to reduce skewness and “outlier influence” on the following variables: population density, area, number of businesses, wages, and house prices.\n",
    "\n",
    "Here we can observe the full considered dataset interactively: \n"
   ]
  },
  {
   "cell_type": "code",
   "execution_count": 8,
   "id": "19ba27be",
   "metadata": {
    "tags": [
     "remove_all_output",
     "remove_input"
    ]
   },
   "outputs": [],
   "source": [
    "# We first remove the Northern Ireland Region and Chorley seat (Speaker Seat) since these will cause outliers\n",
    "df = df.loc[(df['Region'] != 'Northern Ireland')\n",
    "           &(df['Constituency'] != 'Chorley')]\n",
    "\n",
    "# Copy the data so you can use later if needed\n",
    "data = df.copy()\n",
    "\n",
    "df.set_index('ID', inplace=True)\n",
    "\n",
    "# Remove constituency, type, and region column as we do not any geographic location data to affect our clustering\n",
    "df = df.iloc[:, 4:]\n",
    "\n",
    "# Reduce the ranges of the age columns\n",
    "# Looking at all the age columns, it is best to combine some of them say above 60 category as the more older a person gets, \n",
    "# it maybe that he does not even vote or separating ages into such narrow categories does not seem to produce much benefit. \n",
    "# So our proposed categories would be (0-19) (how many kids/teenagers a household has, going uni etc), (20-29) \n",
    "# would involve uni,\n",
    "# marriage, work life etc, (30-59) would include mainly parents, adulthood, maturity, richer category compared \n",
    "# to other categories, 60-80+ would represent old age categories.\n",
    "# df['0-19%'] = df.iloc[:, 1] + df.iloc[:, 2]\n",
    "df['0-9'] = df.iloc[:, 1] + df.iloc[:, 2]\n",
    "df.rename(columns={'0-9': '0-19%'}, inplace=True)\n",
    "df.drop(columns=['10-19'], inplace=True)\n",
    "\n",
    "df['30-39'] = df['30-39'] + df['40-49'] + df['50-59']\n",
    "df.rename(columns={'30-39': '30-59%'}, inplace=True)\n",
    "df.rename(columns={'20-29': '20-29%'}, inplace=True)\n",
    "\n",
    "df.drop(columns=['40-49', '50-59'], inplace=True)\n",
    "df['60-69'] = df['60-69'] + df['70-79'] + df['80+']\n",
    "df.rename(columns={'60-69': '60+%'}, inplace=True)\n",
    "df.drop(columns=['70-79', '80+'], inplace=True)\n",
    "\n",
    "# We will restrict born regions to 'Born UK', 'Born Asia', 'Born Other Europe', 'Born Rest of the World' which can \n",
    "# signficantly better focus target campaigns of different political parties as to target even more than 3 ethnicities\n",
    "# does require lot of effort.\n",
    "\n",
    "# With regards to religion, we can use the top 3-4 categories of religion according to wikipedia which would be Christianity, \n",
    "# Islam, No religion or atheism and Hinduisim. There are 7 categories in the current dataframe and targeting all these religions\n",
    "# specifically would not be very effective. We will restrict to 4 categories specifically: Islam, Christianity, No religion and \n",
    "# other religion\n",
    "\n",
    "# Born UK and being Christian is highly correlated or being white and christian or being south asian and muslim. \n",
    "# As our focus on predicting clusters rather than interpreting the parameters obtained, having such intercorrelation \n",
    "# issues should not be an issue.\n",
    "\n",
    "# Lastly, concerning race colour, I believe the 4 mentioned (White, Black, Asian, Mixed) are sufficient to be used \n",
    "# for our clustering algorithms\n",
    "\n",
    "# Country of Birth\n",
    "df['%BornSouthAsia'] = df['%BornSouthAsia'] + df['%BornSEAsia'] + df['%BornEastAsia']\n",
    "df.rename(columns={'%BornSouthAsia': '%Born_Asia'}, inplace=True)\n",
    "df.drop(columns=['%BornSEAsia', '%BornEastAsia'], inplace=True)\n",
    "\n",
    "df['%BornIreland'] = df['%BornIreland'] + df['%BornOtherEU'] + df['%BornOtherEurope']\n",
    "df.rename(columns={'%BornIreland': '%Born_Other_Europe'}, inplace=True)\n",
    "df.drop(columns=['%BornOtherEU', '%BornOtherEurope'], inplace=True)\n",
    "\n",
    "\n",
    "df['%BornAfrica'] = df['%BornAfrica'] + df['%BornME'] + df['%BornNAmerica'] + df['%BornLatinAmerica'] + df['%BornAustralasia']\n",
    "df.rename(columns={'%BornAfrica': '%Born_RestOf_theWorld'}, inplace=True)\n",
    "df.drop(columns=['%BornME', '%BornNAmerica', '%BornLatinAmerica', '%BornAustralasia'], inplace=True)\n",
    "\n",
    "\n",
    "# Religion\n",
    "df['%Sikh'] = df['%Sikh'] + df['%Hindu'] + df['%Buddhist'] + df['%Jewish']\n",
    "df.rename(columns={'%Sikh': '%Other_Religion'}, inplace=True)\n",
    "df.drop(columns=['%Hindu', '%Jewish', '%Buddhist'], inplace=True)\n",
    "\n",
    "\n",
    "# Obtain only the Great Britian dataset by droppping all columns which have NAs\n",
    "# When we drop all columns with NAs, we keep rows with constituencies being from Scotland and Wales \n",
    "# as these constituencies cause the NAs mainly. \n",
    "# When we drop all rows with NAs, automatically these constituencies are removed\n",
    "\n",
    "df_gb = df.dropna(axis=1)\n",
    "\n",
    "# Apply log transformations to reduce skewness in the data for dimensionality reduction\n",
    "df_gb[['AreaKM2', 'Pop_Density','Businesses', 'BusinessesPer1kCap','2019_Wage', 'HousePrice', \n",
    "       'HousePricePerWage']].apply(np.log1p, inplace=True)\n",
    "\n",
    "# GB Dataset\n",
    "X_gb = df_gb.iloc[:,:-3]\n",
    "y17_gb = df_gb['Winner_17']\n",
    "y17_st_gb = df_gb['seat_types_17']\n",
    "y19_st_gb = df_gb['seat_types_yg'] # You Gov\n",
    "\n",
    "\n",
    "\n",
    "# Add percentages of seats won by the conservative, labour, liberal, Scottish and Green party in every constituency\n",
    "df_election = pd.read_csv('HoC-GE2017-constituency-results.csv', index_col='ons_id')\n",
    "df_election.drop(columns=['ons_region_id', 'constituency_name', 'county_name', 'region_name',\n",
    "       'country_name', 'constituency_type', 'declaration_time', 'result',\n",
    "       'first_party', 'second_party', 'electorate'], inplace=True)\n",
    "\n",
    "df_election.drop(columns=['invalid_votes', 'dup', 'sdlp', 'uup',\n",
    "       'alliance', 'other', 'other_winner'], inplace=True)\n",
    "\n",
    "df_election['con%'] = (df_election['con'] / df_election['valid_votes']) * 100\n",
    "df_election['lab%'] = (df_election['lab'] / df_election['valid_votes']) * 100\n",
    "df_election['ld%'] = (df_election['ld'] / df_election['valid_votes']) * 100\n",
    "df_election['snp%'] = (df_election['snp'] / df_election['valid_votes']) * 100\n",
    "df_election['green%'] = (df_election['green'] / df_election['valid_votes']) * 100\n",
    "df_election.index.names = ['ID']\n",
    "\n",
    "# Merge the two datasets together\n",
    "# We will work with two datasets at the end - one with the % of snp votes included and the other without\n",
    "# This is so we can analyze the clusters we get based on either including or excluding the column\n",
    "X_gb_with_snp = pd.concat([X_gb, df_election[['con%','lab%','ld%','snp%']]], axis=1, join='inner')\n",
    "\n",
    "X_gb_without_snp = pd.concat([X_gb, df_election[['con%','lab%','ld%']]], axis=1, join='inner')"
   ]
  },
  {
   "cell_type": "code",
   "execution_count": 9,
   "id": "0d5f183a",
   "metadata": {
    "tags": [
     "remove_input"
    ]
   },
   "outputs": [
    {
     "data": {
      "text/html": [
       "<table id=\"823e22a9-024b-43c9-be96-ad91210f31b4\" class=\"display\"style=\"max-width:100%\"><thead><th></th><th>0-19%</th><th>20-29%</th><th>30-59%</th><th>60+%</th><th>AreaKM2</th><th>Pop_Density</th><th>Businesses</th><th>%BusinessGrowth</th><th>BusinessesPer1kCap</th><th>%Unemployment</th><th>UnemploymentChange</th><th>2019_Wage</th><th>HousePrice</th><th>%HousePriceGrowth</th><th>HousePricePerWage</th><th>%OwnOutright</th><th>%OwnWithMort</th><th>%PrivateRent</th><th>%SocialHousing</th><th>%Heavy Industry & Manufacturing</th><th>%Wholesale & Retail</th><th>%Agriculture</th><th>%Hospitality</th><th>%Public Admin & Defence</th><th>%Transport</th><th>%Health & Social Work</th><th>%Support & Admin</th><th>%Education</th><th>%Sciences</th><th>%FS & ICT</th><th>%Other Industry</th><th>%NoQuals</th><th>%Level1</th><th>%Level2</th><th>%Level3</th><th>%Level4+</th><th>%White</th><th>%Mixed</th><th>%Asian</th><th>%Black</th><th>%NoReligion</th><th>%Christian</th><th>%Muslim</th><th>%Other_Religion</th><th>%BornUK</th><th>%Born_Other_Europe</th><th>%Born_RestOf_theWorld</th><th>%Born_Asia</th><th>MbpsSpeed</th><th>%UnableDecent</th><th>%Under10Mbps</th><th>%LeaveVote</th><th>%17Turnout</th><th>con%</th><th>lab%</th><th>ld%</th><th>snp%</th></thead><tbody><tr><td>Loading... (need <a href=https://mwouts.github.io/itables/troubleshooting.html>help</a>?)</td></tr></tbody></table>\n",
       "<link rel=\"stylesheet\" type=\"text/css\" href=\"https://cdn.datatables.net/1.11.3/css/jquery.dataTables.min.css\">\n",
       "<style> table td {\n",
       "    text-overflow: ellipsis;\n",
       "    overflow: hidden;\n",
       "} </style>\n",
       "<style> table th {\n",
       "    text-overflow: ellipsis;\n",
       "    overflow: hidden;\n",
       "} </style>\n",
       "<script type=\"module\">\n",
       "    // Define the table data\n",
       "    const data = [[\"E14000554\", 0.1765, 0.0902, 0.3761, 0.3556, 2379.418011, 31.698928, 3500, 0.136364, 46.403712, 0.028975, -0.003449, 520, 176100.0, 0.257857, 6.512574, 0.350176, 0.277085, 0.165075, 0.174864, 0.18, 0.149, 0.053, 0.081, 0.095, 0.037, 0.134, 0.036, 0.084, 0.051, 0.033, 0.068, 0.24, 0.1905, 0.1765, 0.1235, 0.2695, 0.986529, 0.004926, 0.00589, 0.001862, 0.285586, 0.70435, 0.002734, 0.004015, 0.968528, 0.016892, 0.00906, 0.005507, 29.6, 0.06252, 0.2489, 0.553, 0.719149, 52.461385, 24.55226, 21.121956, 0.0], [\"E14000569\", 0.2189, 0.1103, 0.3829, 0.2919, 922.670335, 96.908935, 3200, 0.128748, 35.788179, 0.057016, -0.000727, 520, 120000.0, 0.454545, 4.43787, 0.334835, 0.313943, 0.141584, 0.190768, 0.26, 0.151, 0.023, 0.055, 0.071, 0.042, 0.141, 0.037, 0.094, 0.038, 0.034, 0.055, 0.3, 0.1885, 0.1705, 0.1305, 0.2095, 0.987549, 0.00529, 0.005221, 0.001067, 0.246182, 0.745304, 0.001985, 0.003615, 0.976108, 0.013059, 0.006059, 0.004774, 29.0, 0.04792, 0.2432, 0.609, 0.640827, 46.916661, 48.076523, 2.717128, 0.0], [\"E14000574\", 0.2034, 0.0984, 0.3993, 0.292, 110.329843, 797.408914, 2305, 0.194301, 26.199732, 0.042835, -0.001086, 530, 140000.0, 0.272727, 5.079826, 0.328312, 0.359833, 0.089068, 0.209967, 0.202, 0.175, 0.003, 0.047, 0.083, 0.051, 0.138, 0.043, 0.094, 0.048, 0.06, 0.056, 0.254, 0.20675, 0.17175, 0.12775, 0.23975, 0.982001, 0.005709, 0.008756, 0.001812, 0.282575, 0.705622, 0.003579, 0.005482, 0.974581, 0.011475, 0.007839, 0.006106, 41.9, 0.02269, 0.2393, 0.561, 0.703311, 28.080027, 56.108061, 9.079943, 0.0], [\"E14000575\", 0.2179, 0.1087, 0.3908, 0.2806, 70.36252, 1198.649502, 1840, 0.222591, 21.816457, 0.057092, 0.001849, 520, 135846.0, 0.510239, 5.023891, 0.283642, 0.367833, 0.10397, 0.229216, 0.217, 0.159, 0.003, 0.049, 0.106, 0.048, 0.136, 0.045, 0.077, 0.041, 0.063, 0.055, 0.257, 0.222, 0.185, 0.14, 0.196, 0.986577, 0.005379, 0.006937, 0.000572, 0.341738, 0.648538, 0.00303, 0.003395, 0.976805, 0.011975, 0.005914, 0.005306, 30.5, 0.00114, 0.2446, 0.605, 0.671135, 37.314662, 55.942575, 4.582255, 0.0], [\"E14000641\", 0.3305, 0.211, 0.3419, 0.2359, 186.642526, 549.360332, 2450, 0.26615, 23.894513, 0.03286, -0.003883, 610, 148000.0, 0.233333, 4.665826, 0.315019, 0.332171, 0.146443, 0.193622, 0.172, 0.134, 0.004, 0.067, 0.11, 0.035, 0.124, 0.038, 0.17, 0.048, 0.041, 0.058, 0.205, 0.14425, 0.14125, 0.20725, 0.30225, 0.955073, 0.010532, 0.0256, 0.003571, 0.312095, 0.664032, 0.010077, 0.010416, 0.930628, 0.026458, 0.02186, 0.021054, 32.5, 0.0063, 0.2329, 0.433, 0.680566, 29.815413, 55.401043, 9.906051, 0.0], [\"E14000658\", 0.227, 0.1145, 0.3973, 0.255, 30.047046, 3057.60507, 2790, 0.430769, 30.368339, 0.062746, 0.001052, 500, 130995.0, 0.401016, 5.038269, 0.282769, 0.345901, 0.190182, 0.167869, 0.189, 0.171, 0.002, 0.057, 0.076, 0.053, 0.149, 0.044, 0.081, 0.042, 0.086, 0.05, 0.26, 0.19925, 0.17125, 0.13825, 0.23125, 0.959931, 0.0113, 0.022523, 0.003719, 0.310347, 0.666222, 0.009867, 0.010523, 0.944934, 0.028922, 0.011147, 0.014997, 69.8, 0.01678, 0.1776, 0.581, 0.676746, 43.289377, 50.608028, 2.300466, 0.0], [\"E14000677\", 0.2309, 0.1212, 0.3913, 0.261, 117.706716, 702.024515, 1635, 0.297619, 19.786284, 0.073133, 0.00452, 520, 80000.0, 0.185185, 2.95858, 0.288554, 0.349708, 0.118371, 0.226208, 0.273, 0.143, 0.004, 0.046, 0.079, 0.052, 0.142, 0.05, 0.084, 0.027, 0.047, 0.052, 0.335, 0.199, 0.177, 0.127, 0.163, 0.986964, 0.004881, 0.006488, 0.000701, 0.246276, 0.745074, 0.002755, 0.00389, 0.978216, 0.012819, 0.004507, 0.004458, 31.5, 0.00287, 0.2174, 0.66, 0.58381, 22.714773, 63.667363, 1.264987, 0.0], [\"E14000709\", 0.2692, 0.1578, 0.4018, 0.2131, 24.588364, 3965.940914, 2725, 0.24714, 27.944132, 0.071923, 0.000654, 500, 126000.0, 0.4, 4.846154, 0.195168, 0.282075, 0.16431, 0.34454, 0.19, 0.163, 0.001, 0.062, 0.074, 0.052, 0.145, 0.052, 0.09, 0.048, 0.063, 0.061, 0.305, 0.2, 0.16, 0.118, 0.218, 0.942543, 0.010148, 0.028464, 0.009227, 0.312562, 0.627875, 0.01766, 0.039299, 0.924915, 0.030792, 0.026432, 0.017851, 62.4, 0.00366, 0.1682, 0.562, 0.646979, 23.931786, 65.140251, 4.059093, 0.0], [\"E14000733\", 0.2381, 0.1224, 0.3882, 0.253, 93.592025, 996.260095, 2295, 0.330435, 24.613372, 0.079728, -0.016362, 550, 124950.0, 1.35866, 4.368881, 0.274274, 0.324084, 0.147673, 0.235322, 0.256, 0.15, 0.004, 0.051, 0.068, 0.042, 0.154, 0.042, 0.096, 0.04, 0.038, 0.06, 0.307, 0.2, 0.172, 0.135, 0.186, 0.976866, 0.005976, 0.01417, 0.001847, 0.286717, 0.699233, 0.007487, 0.004629, 0.972258, 0.01167, 0.006759, 0.009312, 70.6, 0.01348, 0.156, 0.696, 0.592791, 34.227322, 52.513446, 1.783196, 0.0], [\"E14000746\", 0.1876, 0.082, 0.3785, 0.3424, 2439.647059, 31.698847, 3990, 0.081301, 51.594383, 0.016654, -0.007639, 580, 230000.0, 0.337209, 7.625995, 0.394119, 0.313075, 0.137863, 0.127438, 0.167, 0.133, 0.041, 0.061, 0.063, 0.042, 0.152, 0.033, 0.107, 0.074, 0.054, 0.074, 0.187, 0.162, 0.162, 0.122, 0.368, 0.980036, 0.00627, 0.011596, 0.000918, 0.282635, 0.702424, 0.003699, 0.008487, 0.965646, 0.014114, 0.011871, 0.008369, 29.8, 0.06471, 0.2144, 0.453, 0.758407, 54.075805, 34.094843, 7.106698, 0.0], [\"E14000754\", 0.2271, 0.1214, 0.3898, 0.2707, 65.850511, 1335.16049, 1500, 0.214575, 17.06077, 0.061465, 0.000208, 530, 132995.0, 0.519943, 4.825653, 0.287669, 0.330517, 0.084624, 0.285864, 0.232, 0.155, 0.002, 0.046, 0.08, 0.053, 0.139, 0.048, 0.089, 0.031, 0.063, 0.062, 0.307, 0.217, 0.174, 0.125, 0.176, 0.984058, 0.004253, 0.008241, 0.001793, 0.25381, 0.736753, 0.003586, 0.003965, 0.980276, 0.008207, 0.005644, 0.005873, 42.9, 0.01237, 0.2298, 0.624, 0.610029, 29.710704, 59.462392, 2.189007, 0.0], [\"E14000765\", 0.2181, 0.1114, 0.3973, 0.2685, 47.244659, 1767.035713, 1790, 0.316176, 21.441491, 0.058706, -0.014574, 470, 137250.0, 0.491848, 5.615794, 0.257979, 0.346201, 0.078801, 0.306922, 0.227, 0.149, 0.001, 0.046, 0.095, 0.051, 0.14, 0.045, 0.089, 0.042, 0.058, 0.057, 0.269, 0.221, 0.172, 0.133, 0.206, 0.975883, 0.006233, 0.013007, 0.00179, 0.253531, 0.731468, 0.007026, 0.005573, 0.976075, 0.00926, 0.006366, 0.008299, 63.7, 0.0111, 0.2137, 0.618, 0.665349, 25.002905, 65.127955, 2.703205, 0.0], [\"E14000819\", 0.3055, 0.1813, 0.3601, 0.1927, 29.146748, 3291.104675, 2400, 0.344538, 25.019547, 0.096448, -0.02957, 470, 106000.0, 0.962963, 4.337152, 0.251336, 0.278083, 0.205988, 0.240544, 0.184, 0.172, 0.002, 0.077, 0.053, 0.062, 0.163, 0.051, 0.096, 0.036, 0.047, 0.056, 0.317, 0.19025, 0.16225, 0.14825, 0.18325, 0.843946, 0.01956, 0.105897, 0.015916, 0.292143, 0.59397, 0.098397, 0.013509, 0.894231, 0.027177, 0.030256, 0.048335, 64.9, 0.01474, 0.1834, 0.661, 0.584582, 26.744675, 65.673317, 1.032635, 0.0], [\"E14000820\", 0.2215, 0.1127, 0.3705, 0.2923, 197.141344, 476.257279, 2160, 0.345794, 23.005645, 0.045843, -0.025631, 570, 149000.0, 0.342342, 5.026991, 0.330098, 0.345507, 0.116245, 0.190915, 0.219, 0.15, 0.005, 0.054, 0.065, 0.044, 0.165, 0.039, 0.107, 0.051, 0.042, 0.058, 0.263, 0.19475, 0.17175, 0.13675, 0.23375, 0.975298, 0.008446, 0.011538, 0.002919, 0.277756, 0.707948, 0.007218, 0.004902, 0.973197, 0.011182, 0.00823, 0.00739, 65.1, 0.01891, 0.1523, 0.653, 0.660307, 49.649307, 47.50735, 2.843343, 0.0], [\"E14000831\", 0.3537, 0.2152, 0.3528, 0.161, 23.772099, 4401.504403, 3345, 0.382231, 31.968882, 0.085544, 0.001754, 500, 142000.0, 0.42, 5.461538, 0.186799, 0.241743, 0.199535, 0.353513, 0.124, 0.148, 0.001, 0.106, 0.058, 0.055, 0.166, 0.055, 0.102, 0.056, 0.065, 0.063, 0.266, 0.1605, 0.1375, 0.1525, 0.2825, 0.74219, 0.020076, 0.184165, 0.029725, 0.314997, 0.511618, 0.135069, 0.035627, 0.784605, 0.045937, 0.056109, 0.113349, 50.2, 0.00177, 0.1213, 0.48, 0.671381, 24.623928, 64.891896, 4.884887, 0.0], [\"E14000832\", 0.4586, 0.3499, 0.3015, 0.1594, 19.084612, 5382.084702, 2700, 0.230068, 26.286326, 0.060239, -0.00571, 570, 147000.0, 0.088889, 4.959514, 0.184889, 0.223147, 0.2611, 0.311621, 0.119, 0.148, 0.001, 0.1, 0.072, 0.035, 0.155, 0.046, 0.114, 0.069, 0.068, 0.073, 0.197, 0.1285, 0.1185, 0.2635, 0.2915, 0.88664, 0.015964, 0.070228, 0.018328, 0.409608, 0.534769, 0.029972, 0.022252, 0.878543, 0.03719, 0.036102, 0.048165, 57.9, 0.00823, 0.1414, 0.411, 0.673039, 21.293561, 67.552898, 6.182002, 0.0], [\"E14000833\", 0.2293, 0.1196, 0.3801, 0.2624, 70.578403, 1315.529907, 2120, 0.333333, 22.833017, 0.048452, 0.001618, 580, 171500.0, 0.247273, 5.68634, 0.299827, 0.346187, 0.110806, 0.228827, 0.166, 0.151, 0.001, 0.056, 0.082, 0.05, 0.153, 0.044, 0.102, 0.058, 0.075, 0.062, 0.251, 0.19275, 0.15775, 0.12375, 0.27575, 0.937807, 0.009593, 0.034534, 0.006854, 0.311535, 0.650036, 0.022454, 0.014016, 0.937664, 0.01922, 0.023082, 0.020034, 41.6, 0.01108, 0.2469, 0.568, 0.732084, 33.921471, 55.353297, 5.24561, 0.0], [\"E14000840\", 0.2192, 0.1151, 0.3939, 0.2752, 104.087633, 846.286896, 1905, 0.22508, 21.626101, 0.052464, -0.000472, 560, 113247.5, 0.332324, 3.888994, 0.297647, 0.372544, 0.114529, 0.203542, 0.229, 0.167, 0.003, 0.051, 0.097, 0.051, 0.131, 0.042, 0.088, 0.038, 0.047, 0.055, 0.273, 0.20325, 0.18125, 0.13125, 0.21125, 0.9862, 0.004684, 0.007562, 0.000783, 0.283911, 0.706329, 0.00282, 0.003533, 0.978546, 0.010393, 0.005617, 0.005444, 30.3, 0.02078, 0.2253, 0.603, 0.647633, 29.983366, 59.876629, 4.576749, 0.0], [\"E14000853\", 0.2201, 0.1192, 0.413, 0.2542, 44.183528, 2386.568151, 2420, 0.394813, 22.949918, 0.052921, -0.0116, 550, 144975.0, 0.457035, 5.069056, 0.237274, 0.359511, 0.121771, 0.2684, 0.184, 0.152, 0.001, 0.054, 0.113, 0.05, 0.141, 0.049, 0.085, 0.046, 0.072, 0.056, 0.266, 0.2205, 0.1725, 0.1285, 0.2115, 0.966347, 0.008575, 0.018532, 0.00489, 0.341085, 0.643255, 0.00588, 0.007213, 0.961134, 0.015778, 0.01077, 0.012318, 44.3, 0.01177, 0.2409, 0.595, 0.658742, 27.310568, 64.472366, 2.879057, 0.0], [\"E14000856\", 0.2104, 0.1044, 0.3958, 0.2818, 701.040263, 134.772573, 2795, 0.191898, 29.582667, 0.043456, -0.000639, 520, 117000.0, 0.172932, 4.326923, 0.332077, 0.368081, 0.117418, 0.166914, 0.239, 0.141, 0.013, 0.05, 0.087, 0.044, 0.153, 0.036, 0.099, 0.043, 0.038, 0.056, 0.259, 0.188, 0.173, 0.134, 0.245, 0.988927, 0.004852, 0.004907, 0.00076, 0.252586, 0.739326, 0.002052, 0.00279, 0.973089, 0.015838, 0.006817, 0.004255, 30.1, 0.02013, 0.2279, 0.55, 0.667051, 34.478727, 52.832867, 7.09365, 0.0], [\"E14000891\", 0.2281, 0.1174, 0.3783, 0.2745, 72.455113, 1206.926557, 1920, 0.342657, 21.955905, 0.062245, -0.027779, 480, 126000.0, 0.448276, 5.048077, 0.316617, 0.336703, 0.113775, 0.21726, 0.227, 0.165, 0.003, 0.053, 0.066, 0.048, 0.156, 0.048, 0.091, 0.044, 0.038, 0.062, 0.295, 0.2085, 0.1755, 0.1425, 0.1775, 0.984004, 0.006847, 0.007204, 0.001013, 0.286566, 0.703733, 0.005167, 0.002002, 0.977836, 0.011761, 0.005409, 0.004983, 71.3, 0.01217, 0.1908, 0.677, 0.63777, 33.218985, 55.505169, 6.694079, 0.0], [\"E14000915\", 0.2156, 0.1065, 0.3893, 0.2826, 366.835527, 230.411162, 2545, 0.178241, 30.110148, 0.051639, 0.003597, 580, 115000.0, 0.484829, 3.812997, 0.301533, 0.360241, 0.116297, 0.20897, 0.255, 0.138, 0.012, 0.052, 0.073, 0.047, 0.15, 0.039, 0.09, 0.041, 0.05, 0.053, 0.274, 0.193, 0.175, 0.136, 0.222, 0.986254, 0.005874, 0.005767, 0.001094, 0.263698, 0.727396, 0.00258, 0.003674, 0.974209, 0.014328, 0.006397, 0.005065, 33.0, 0.03973, 0.2034, 0.594, 0.651959, 38.813686, 53.381741, 1.91628, 0.0], [\"E14000944\", 0.2304, 0.1247, 0.3937, 0.2651, 24.606559, 3405.433455, 1775, 0.431452, 21.182395, 0.087702, -0.005181, 520, 120000.0, 0.394538, 4.43787, 0.250396, 0.300185, 0.11876, 0.31533, 0.215, 0.151, 0.001, 0.058, 0.082, 0.061, 0.155, 0.048, 0.086, 0.036, 0.049, 0.058, 0.291, 0.21425, 0.17125, 0.12725, 0.19625, 0.945646, 0.010949, 0.030415, 0.003888, 0.285598, 0.676015, 0.028921, 0.006999, 0.958114, 0.010949, 0.013026, 0.017911, 65.6, 0.0048, 0.1824, 0.621, 0.643971, 25.924654, 61.507898, 1.670264, 0.0], [\"E14000970\", 0.2401, 0.1259, 0.3909, 0.242, 120.637874, 769.50958, 2450, 0.33515, 26.391761, 0.068081, -0.012661, 530, 120000.0, 0.487035, 4.354136, 0.272021, 0.357974, 0.130957, 0.228213, 0.219, 0.173, 0.003, 0.056, 0.061, 0.05, 0.151, 0.049, 0.089, 0.048, 0.047, 0.054, 0.279, 0.21475, 0.17875, 0.13675, 0.19075, 0.95971, 0.009996, 0.021601, 0.006552, 0.299067, 0.679713, 0.013256, 0.005628, 0.961025, 0.013267, 0.012517, 0.013191, 70.4, 0.02044, 0.184, 0.663, 0.645772, 36.481711, 56.876741, 1.511783, 0.0], [\"E14000971\", 0.2361, 0.117, 0.4002, 0.2394, 84.302059, 1238.178532, 3015, 0.34, 28.884567, 0.039469, -0.011839, 610, 163000.0, 0.273438, 5.138714, 0.315098, 0.421975, 0.131463, 0.119047, 0.202, 0.16, 0.002, 0.046, 0.074, 0.043, 0.146, 0.042, 0.109, 0.062, 0.062, 0.053, 0.199, 0.1885, 0.1775, 0.1535, 0.2805, 0.93369, 0.010816, 0.046637, 0.005323, 0.271709, 0.684566, 0.029354, 0.012694, 0.947669, 0.014732, 0.01416, 0.023439, 65.5, 0.04006, 0.1962, 0.578, 0.712807, 46.845273, 48.495095, 1.76687, 0.0], [\"E14000982\", 0.2665, 0.1634, 0.3818, 0.248, 28.988533, 3508.111336, 2535, 0.224638, 24.927479, 0.070349, -0.013625, 480, 124975.0, 0.302501, 5.007011, 0.286305, 0.304486, 0.18519, 0.212622, 0.194, 0.151, 0.001, 0.07, 0.071, 0.047, 0.155, 0.048, 0.101, 0.032, 0.065, 0.065, 0.275, 0.1975, 0.1625, 0.1395, 0.2255, 0.919537, 0.00857, 0.056795, 0.00913, 0.274345, 0.682795, 0.028813, 0.012164, 0.925935, 0.018291, 0.018161, 0.037613, 47.5, 0.0042, 0.2085, 0.599, 0.621315, 33.382102, 55.542994, 3.939172, 0.0], [\"E14001006\", 0.2011, 0.0909, 0.4109, 0.2731, 38.139758, 2636.04192, 2770, 0.34466, 27.551771, 0.036269, -0.006146, 610, 197500.0, 0.431159, 6.226356, 0.326889, 0.375474, 0.125922, 0.158872, 0.16, 0.136, 0.001, 0.05, 0.106, 0.039, 0.153, 0.037, 0.12, 0.058, 0.076, 0.061, 0.207, 0.18325, 0.16725, 0.12725, 0.31525, 0.96616, 0.009518, 0.019482, 0.00238, 0.348272, 0.633319, 0.009042, 0.006673, 0.960075, 0.015583, 0.011472, 0.01287, 64.9, 0.00485, 0.1802, 0.476, 0.735646, 36.457491, 56.975272, 3.032115, 0.0], [\"E14001014\", 0.2101, 0.1039, 0.3915, 0.2904, 136.906671, 604.557831, 1970, 0.250794, 23.801469, 0.058484, -0.000616, 540, 132997.0, 0.564671, 4.73636, 0.310034, 0.340061, 0.127643, 0.207963, 0.194, 0.143, 0.006, 0.05, 0.102, 0.042, 0.194, 0.038, 0.088, 0.042, 0.044, 0.058, 0.269, 0.18825, 0.17425, 0.13525, 0.23325, 0.983919, 0.004872, 0.009255, 0.000977, 0.299487, 0.689841, 0.003419, 0.004225, 0.976227, 0.010928, 0.006154, 0.006691, 30.0, 0.00277, 0.2414, 0.563, 0.683995, 32.748386, 57.327931, 4.746314, 0.0], [\"E14001020\", 0.2313, 0.1199, 0.3891, 0.2598, 42.557217, 2063.128316, 1620, 0.208955, 18.450815, 0.063563, -0.00462, 460, 113570.0, 0.291302, 4.74791, 0.23543, 0.349184, 0.085011, 0.322189, 0.242, 0.179, 0.001, 0.051, 0.084, 0.057, 0.116, 0.053, 0.077, 0.031, 0.058, 0.054, 0.292, 0.234, 0.182, 0.124, 0.168, 0.979688, 0.006229, 0.010675, 0.002313, 0.29532, 0.692199, 0.005191, 0.005495, 0.97575, 0.010991, 0.006398, 0.006861, 58.2, 0.01517, 0.184, 0.619, 0.604162, 28.833736, 60.726081, 2.368512, 0.0], [\"E14000532\", 0.2135, 0.0845, 0.4153, 0.2411, 50.926031, 2000.175498, 6460, 0.468182, 63.419758, 0.019401, -0.006516, 790, 315000.0, 0.586302, 7.667965, 0.353514, 0.387291, 0.119332, 0.122612, 0.148, 0.148, 0.002, 0.044, 0.04, 0.04, 0.131, 0.055, 0.104, 0.118, 0.107, 0.064, 0.152, 0.15125, 0.16125, 0.12325, 0.41225, 0.904339, 0.021306, 0.055895, 0.009763, 0.271992, 0.65269, 0.031349, 0.041919, 0.905405, 0.039196, 0.025976, 0.029423, 54.8, 0.01122, 0.159, 0.386, 0.722721, 51.019132, 38.846372, 7.673802, 0.0], [\"E14000537\", 0.2424, 0.1286, 0.4011, 0.2259, 27.805726, 3330.321287, 2505, 0.224939, 27.051252, 0.05832, -0.003018, 480, 130000.0, 0.604938, 5.208333, 0.281956, 0.341759, 0.149635, 0.211544, 0.225, 0.189, 0.001, 0.048, 0.056, 0.058, 0.123, 0.05, 0.078, 0.048, 0.065, 0.059, 0.296, 0.221, 0.185, 0.131, 0.167, 0.873514, 0.016964, 0.095608, 0.011361, 0.257526, 0.650424, 0.059359, 0.030105, 0.907575, 0.029884, 0.020169, 0.042372, 44.3, 0.00093, 0.219, 0.618, 0.588912, 31.956352, 60.355015, 1.624217, 0.0], [\"E14000543\", 0.2165, 0.1103, 0.3864, 0.2918, 281.406526, 308.194701, 3085, 0.14684, 35.570981, 0.033182, -0.00777, 630, 132000.0, 0.87234, 4.029304, 0.384738, 0.356828, 0.137508, 0.107457, 0.3, 0.146, 0.009, 0.067, 0.059, 0.039, 0.141, 0.034, 0.084, 0.036, 0.034, 0.051, 0.24, 0.2265, 0.1615, 0.1415, 0.2315, 0.984284, 0.005134, 0.008443, 0.001047, 0.287551, 0.702002, 0.002195, 0.00555, 0.970279, 0.013374, 0.008815, 0.007532, 32.2, 0.00925, 0.1898, 0.573, 0.685868, 47.03299, 47.472158, 2.685438, 0.0], [\"E14000559\", 0.2407, 0.1212, 0.3982, 0.2324, 25.105826, 3593.269512, 2355, 0.23622, 26.105174, 0.07776, -0.013124, 540, 120000.0, 0.411765, 4.273504, 0.239576, 0.289765, 0.204602, 0.247096, 0.19, 0.152, 0.001, 0.054, 0.07, 0.05, 0.174, 0.053, 0.087, 0.054, 0.05, 0.067, 0.278, 0.196, 0.187, 0.13, 0.209, 0.958229, 0.012148, 0.02558, 0.002398, 0.297068, 0.682666, 0.010111, 0.007735, 0.953804, 0.021009, 0.009041, 0.016145, 56.0, 0.00034, 0.1228, 0.517, 0.678789, 18.422921, 76.856835, 2.56052, 0.0], [\"E14000570\", 0.2783, 0.1321, 0.3863, 0.1802, 40.336231, 2713.614981, 3655, 0.422179, 33.392108, 0.077708, 0.011402, 490, 107750.0, 0.596296, 4.228807, 0.316165, 0.291745, 0.1511, 0.218436, 0.22, 0.192, 0.001, 0.052, 0.053, 0.047, 0.148, 0.049, 0.103, 0.039, 0.047, 0.047, 0.308, 0.199, 0.166, 0.126, 0.2, 0.592675, 0.013837, 0.375389, 0.007571, 0.169358, 0.458078, 0.362596, 0.008233, 0.813793, 0.028309, 0.0305, 0.127389, 52.9, 0.00182, 0.215, 0.537, 0.675054, 26.896769, 69.763233, 1.49216, 0.0], [\"E14000571\", 0.2869, 0.1507, 0.3916, 0.1452, 28.115285, 4358.412128, 4515, 0.885177, 36.845713, 0.086962, 0.001827, 490, 129995.0, 1.096694, 5.101845, 0.161407, 0.203224, 0.235971, 0.372757, 0.13, 0.178, 0.0, 0.086, 0.041, 0.06, 0.139, 0.075, 0.103, 0.052, 0.069, 0.067, 0.318, 0.17675, 0.16075, 0.12375, 0.21975, 0.680427, 0.037263, 0.170287, 0.082832, 0.23517, 0.504325, 0.16738, 0.09029, 0.736804, 0.081433, 0.093423, 0.08834, 41.4, 0.02618, 0.2443, 0.5, 0.561272, 21.581532, 70.44599, 1.83731, 0.0], [\"E14000572\", 0.2127, 0.1101, 0.3793, 0.2991, 23.013372, 3613.638268, 1975, 0.122159, 23.748828, 0.059868, 0.009038, 460, 123050.0, 0.160849, 5.144231, 0.345328, 0.331145, 0.203604, 0.103903, 0.164, 0.155, 0.002, 0.098, 0.123, 0.046, 0.146, 0.041, 0.078, 0.036, 0.048, 0.063, 0.297, 0.20375, 0.18275, 0.12875, 0.18675, 0.972575, 0.009893, 0.013647, 0.002123, 0.29189, 0.692197, 0.005204, 0.006535, 0.954264, 0.025362, 0.009138, 0.011236, 45.2, 0.00176, 0.1706, 0.669, 0.641987, 49.394006, 44.460702, 1.82164, 0.0], [\"E14000573\", 0.2346, 0.1245, 0.3884, 0.2538, 20.185814, 3936.180036, 2460, 0.069565, 30.960921, 0.088585, 0.016106, 450, 110000.0, 0.250711, 4.700855, 0.288366, 0.312762, 0.291926, 0.09405, 0.165, 0.168, 0.001, 0.13, 0.076, 0.048, 0.148, 0.047, 0.061, 0.031, 0.051, 0.075, 0.32, 0.21225, 0.18325, 0.12625, 0.15825, 0.96589, 0.013007, 0.016083, 0.002412, 0.310154, 0.670034, 0.008072, 0.007962, 0.943913, 0.033766, 0.010189, 0.012121, 55.1, 0.0, 0.1341, 0.678, 0.598546, 43.080708, 50.298973, 1.813864, 0.0], [\"E14000578\", 0.2473, 0.1262, 0.3893, 0.2275, 35.9645, 2735.725508, 3990, 0.497186, 40.553314, 0.070567, 0.008832, 500, 135000.0, 0.646341, 5.192308, 0.299177, 0.307238, 0.146468, 0.226331, 0.206, 0.188, 0.001, 0.051, 0.056, 0.051, 0.124, 0.049, 0.1, 0.05, 0.061, 0.059, 0.269, 0.19825, 0.17025, 0.13225, 0.23025, 0.825319, 0.018365, 0.132231, 0.01782, 0.242098, 0.621128, 0.116667, 0.017263, 0.888905, 0.030801, 0.029563, 0.05072, 59.8, 0.003, 0.1829, 0.581, 0.673375, 42.212779, 50.616382, 2.9126, 0.0], [\"E14000579\", 0.263, 0.1298, 0.3868, 0.1951, 36.796807, 2891.22914, 3220, 0.376068, 30.266571, 0.070033, -0.000579, 460, 102000.0, 0.458184, 4.264214, 0.270652, 0.303768, 0.146232, 0.253019, 0.214, 0.208, 0.001, 0.05, 0.049, 0.064, 0.134, 0.055, 0.078, 0.041, 0.054, 0.052, 0.308, 0.20675, 0.17375, 0.13175, 0.17975, 0.729899, 0.01949, 0.216272, 0.024128, 0.210178, 0.566493, 0.185873, 0.035048, 0.84143, 0.029898, 0.04233, 0.086342, 55.9, 0.00089, 0.183, 0.63, 0.6158, 29.652907, 60.666777, 1.845332, 0.0], [\"E14000580\", 0.2218, 0.111, 0.4039, 0.2555, 71.777665, 1337.129036, 3660, 0.373358, 38.134534, 0.038103, -0.001609, 570, 146500.0, 0.331818, 4.942645, 0.33894, 0.384695, 0.110437, 0.150346, 0.21, 0.172, 0.002, 0.045, 0.062, 0.042, 0.133, 0.047, 0.1, 0.062, 0.065, 0.058, 0.221, 0.1915, 0.1695, 0.1345, 0.2825, 0.931445, 0.013637, 0.045597, 0.006813, 0.236503, 0.716662, 0.025983, 0.018271, 0.948171, 0.017477, 0.016451, 0.0179, 58.9, 0.00539, 0.1416, 0.556, 0.702433, 47.908097, 46.074744, 2.908685, 0.0], [\"E14000581\", 0.2393, 0.1283, 0.3984, 0.2339, 25.592844, 3893.236659, 2485, 0.428161, 24.940034, 0.079915, -0.017178, 510, 118000.0, 0.493671, 4.449472, 0.23759, 0.323627, 0.135303, 0.285235, 0.151, 0.164, 0.001, 0.051, 0.105, 0.066, 0.151, 0.051, 0.087, 0.039, 0.071, 0.063, 0.312, 0.2025, 0.1805, 0.1325, 0.1735, 0.975947, 0.01031, 0.007984, 0.002986, 0.207285, 0.782111, 0.004327, 0.004154, 0.970685, 0.016415, 0.007567, 0.005333, 68.5, 0.00253, 0.1451, 0.548, 0.692324, 12.0486, 84.033964, 1.664413, 0.0], [\"E14000609\", 0.2355, 0.119, 0.3856, 0.2435, 110.687125, 799.794919, 2955, 0.374419, 33.379647, 0.069199, 0.013168, 520, 91000.0, 1.394737, 3.365385, 0.314647, 0.335366, 0.193529, 0.140639, 0.263, 0.167, 0.002, 0.048, 0.054, 0.038, 0.157, 0.046, 0.085, 0.034, 0.047, 0.057, 0.293, 0.202, 0.17, 0.135, 0.199, 0.873591, 0.011211, 0.110017, 0.002424, 0.257641, 0.636339, 0.098554, 0.004755, 0.922983, 0.020457, 0.008109, 0.04845, 56.8, 0.00254, 0.1857, 0.666, 0.623607, 30.972946, 46.741127, 15.006205, 0.0], [\"E14000611\", 0.2337, 0.1146, 0.3975, 0.2442, 50.992292, 1761.207362, 4320, 0.59116, 48.102619, 0.047008, 0.001277, 580, 145000.0, 0.342593, 4.807692, 0.328046, 0.379003, 0.133696, 0.142225, 0.19, 0.17, 0.002, 0.045, 0.064, 0.051, 0.141, 0.045, 0.108, 0.057, 0.074, 0.056, 0.225, 0.184, 0.182, 0.136, 0.273, 0.880953, 0.016533, 0.08966, 0.00806, 0.242312, 0.664393, 0.081807, 0.009161, 0.91652, 0.027437, 0.016098, 0.039946, 37.9, 0.00214, 0.2305, 0.537, 0.711142, 44.481556, 53.614596, 1.903847, 0.0], [\"E14000612\", 0.2354, 0.118, 0.4028, 0.228, 48.460304, 2069.735282, 4215, 0.59962, 42.023928, 0.041274, -0.003138, 580, 170000.0, 0.619048, 5.636605, 0.309022, 0.377815, 0.141702, 0.156594, 0.161, 0.177, 0.001, 0.047, 0.057, 0.048, 0.139, 0.049, 0.108, 0.066, 0.084, 0.061, 0.226, 0.19125, 0.18425, 0.13425, 0.26425, 0.901423, 0.019654, 0.057102, 0.012162, 0.248523, 0.593702, 0.042354, 0.113182, 0.910468, 0.038194, 0.026543, 0.024795, 49.2, 0.00158, 0.1727, 0.545, 0.693387, 41.57678, 53.275152, 2.088645, 0.0], [\"E14000620\", 0.2264, 0.1226, 0.3904, 0.2662, 210.710316, 410.497225, 3095, 0.240481, 35.782001, 0.033244, -0.005373, 510, 130000.0, 0.444444, 4.901961, 0.326939, 0.339967, 0.145993, 0.166124, 0.211, 0.198, 0.011, 0.071, 0.064, 0.066, 0.131, 0.043, 0.073, 0.039, 0.036, 0.059, 0.256, 0.2095, 0.1745, 0.1395, 0.2205, 0.978879, 0.005234, 0.013422, 0.001349, 0.303993, 0.683027, 0.00492, 0.005629, 0.947359, 0.031426, 0.009619, 0.011596, 40.4, 0.01777, 0.2859, 0.606, 0.692587, 49.869937, 43.833612, 2.917131, 0.0], [\"E14000627\", 0.2064, 0.0892, 0.3925, 0.2844, 39.373105, 2382.997213, 4305, 0.237069, 45.882804, 0.016867, -0.008613, 660, 270000.0, 0.500417, 7.867133, 0.426674, 0.410542, 0.085958, 0.0616, 0.145, 0.164, 0.001, 0.041, 0.047, 0.05, 0.134, 0.045, 0.115, 0.095, 0.102, 0.06, 0.159, 0.165, 0.168, 0.131, 0.377, 0.889248, 0.017611, 0.077354, 0.006009, 0.271777, 0.640432, 0.054404, 0.029015, 0.915791, 0.025169, 0.026971, 0.032069, 61.6, 0.00097, 0.1145, 0.427, 0.745021, 44.585135, 19.088544, 36.326321, 0.0], [\"E14000640\", 0.2519, 0.1473, 0.3835, 0.2551, 133.478096, 725.954315, 4645, 0.429231, 47.936511, 0.034222, -0.000981, 600, 214000.0, 0.380645, 6.858974, 0.318977, 0.31705, 0.17984, 0.162061, 0.159, 0.162, 0.006, 0.079, 0.05, 0.041, 0.126, 0.041, 0.102, 0.076, 0.097, 0.061, 0.19, 0.15725, 0.15325, 0.15225, 0.34825, 0.958471, 0.012872, 0.020797, 0.005194, 0.324813, 0.65325, 0.009549, 0.009108, 0.925856, 0.041293, 0.018022, 0.014829, 30.3, 0.00575, 0.2733, 0.423, 0.776363, 40.493788, 56.757236, 2.748976, 0.0], [\"E14000646\", 0.1938, 0.0869, 0.3862, 0.314, 211.01388, 455.145415, 4535, 0.161332, 47.218925, 0.019866, -0.007868, 630, 212500.0, 0.465517, 6.486569, 0.402963, 0.380363, 0.098158, 0.103651, 0.212, 0.163, 0.014, 0.046, 0.041, 0.044, 0.115, 0.044, 0.102, 0.072, 0.088, 0.059, 0.201, 0.17575, 0.17075, 0.13475, 0.31875, 0.981883, 0.007123, 0.008373, 0.001327, 0.277436, 0.712636, 0.003023, 0.00423, 0.967171, 0.016246, 0.010385, 0.006198, 30.8, 0.01469, 0.2234, 0.526, 0.734464, 56.605787, 34.164429, 5.160854, 0.0], [\"E14000647\", 0.2056, 0.104, 0.39, 0.3033, 1184.573877, 66.217905, 3165, 0.058528, 40.349312, 0.03433, -0.004513, 670, 145000.0, 0.705882, 4.161883, 0.384497, 0.325381, 0.092431, 0.178348, 0.339, 0.117, 0.024, 0.083, 0.053, 0.029, 0.119, 0.04, 0.077, 0.046, 0.022, 0.05, 0.256, 0.20375, 0.16575, 0.13175, 0.24075, 0.983966, 0.004957, 0.008901, 0.001286, 0.216761, 0.774178, 0.003103, 0.003733, 0.968464, 0.01418, 0.009247, 0.00811, 30.7, 0.02311, 0.2528, 0.592, 0.696539, 49.064691, 45.116127, 3.270669, 0.0], [\"E14000653\", 0.2344, 0.1222, 0.3962, 0.2487, 136.19271, 813.758681, 3695, 0.312611, 33.33995, 0.032852, -0.012696, 530, 165000.0, 0.386555, 5.986938, 0.338752, 0.370732, 0.148897, 0.127569, 0.211, 0.186, 0.01, 0.055, 0.037, 0.075, 0.13, 0.049, 0.091, 0.044, 0.062, 0.053, 0.227, 0.198, 0.177, 0.144, 0.254, 0.963252, 0.012893, 0.015326, 0.006311, 0.305553, 0.678263, 0.007532, 0.0055, 0.9311, 0.046639, 0.011783, 0.010478, 33.2, 0.01151, 0.2503, 0.603, 0.698752, 47.031457, 47.118687, 2.424264, 0.0], [\"E14000661\", 0.2322, 0.124, 0.4082, 0.2348, 25.678017, 3385.58077, 2575, 0.232057, 29.619831, 0.041544, -0.01107, 520, 142500.0, 0.532258, 5.26997, 0.298335, 0.376014, 0.130993, 0.179354, 0.219, 0.18, 0.0, 0.042, 0.056, 0.06, 0.121, 0.052, 0.085, 0.05, 0.072, 0.062, 0.277, 0.221, 0.184, 0.136, 0.183, 0.943925, 0.018012, 0.026482, 0.009251, 0.306867, 0.667106, 0.015064, 0.007911, 0.949821, 0.024501, 0.012676, 0.013002, 58.2, 0.00109, 0.1834, 0.61, 0.603352, 27.990606, 63.539483, 2.154095, 0.0], [\"E14000686\", 0.206, 0.0917, 0.3835, 0.297, 712.446173, 127.52402, 4820, 0.17561, 53.05215, 0.025669, -0.007967, 640, 234995.0, 0.437278, 7.061148, 0.382199, 0.359055, 0.113358, 0.12365, 0.205, 0.166, 0.039, 0.052, 0.044, 0.043, 0.106, 0.048, 0.094, 0.071, 0.072, 0.061, 0.217, 0.17975, 0.16875, 0.12575, 0.30875, 0.98462, 0.006796, 0.006411, 0.001495, 0.26498, 0.726157, 0.002639, 0.003737, 0.968015, 0.015999, 0.010346, 0.00564, 29.8, 0.04819, 0.2543, 0.522, 0.7315, 56.883415, 33.613282, 5.463863, 0.0], [\"E14000688\", 0.2198, 0.1095, 0.3895, 0.2776, 119.754106, 730.847592, 2435, 0.242347, 27.821576, 0.038367, -0.004121, 600, 165000.0, 0.269231, 5.288462, 0.338799, 0.38295, 0.091947, 0.169373, 0.225, 0.184, 0.005, 0.056, 0.051, 0.041, 0.13, 0.047, 0.086, 0.059, 0.063, 0.053, 0.229, 0.20775, 0.17775, 0.13875, 0.24675, 0.97807, 0.008526, 0.009975, 0.002048, 0.268452, 0.721595, 0.003958, 0.004188, 0.959925, 0.023207, 0.009078, 0.007789, 52.4, 0.00351, 0.1772, 0.583, 0.742842, 36.802843, 59.16292, 1.751114, 0.0], [\"E14000706\", 0.1891, 0.0877, 0.3815, 0.3334, 173.959896, 492.918206, 3480, 0.124394, 40.584037, 0.026662, 0.004023, 610, 199995.0, 0.302899, 6.305013, 0.400531, 0.337884, 0.167212, 0.077961, 0.199, 0.134, 0.009, 0.071, 0.098, 0.031, 0.126, 0.038, 0.095, 0.058, 0.079, 0.062, 0.208, 0.173, 0.176, 0.134, 0.31, 0.972825, 0.010047, 0.012538, 0.00232, 0.244232, 0.737444, 0.005127, 0.010303, 0.951632, 0.026064, 0.01294, 0.009363, 38.2, 0.01426, 0.2096, 0.567, 0.706644, 58.824542, 33.419416, 5.037984, 0.0], [\"E14000708\", 0.2232, 0.1188, 0.3946, 0.2563, 51.013492, 1952.346264, 3765, 1.274924, 37.802723, 0.051596, -0.022514, 570, 170997.5, 0.436984, 5.769146, 0.280508, 0.318615, 0.114017, 0.267524, 0.166, 0.164, 0.001, 0.053, 0.071, 0.064, 0.153, 0.047, 0.113, 0.048, 0.059, 0.062, 0.302, 0.18025, 0.16625, 0.12325, 0.22925, 0.944655, 0.01955, 0.022283, 0.008956, 0.210221, 0.76507, 0.009018, 0.013941, 0.95005, 0.022959, 0.013747, 0.013245, 55.4, 0.00176, 0.1516, 0.48, 0.713175, 17.656291, 77.723179, 3.219237, 0.0], [\"E14000725\", 0.2355, 0.1204, 0.3978, 0.241, 50.854159, 1927.688961, 2585, 0.298995, 26.36921, 0.05392, -0.011588, 540, 134997.5, 0.363611, 4.807603, 0.28529, 0.356889, 0.107545, 0.23521, 0.228, 0.189, 0.001, 0.046, 0.065, 0.068, 0.117, 0.052, 0.078, 0.044, 0.059, 0.051, 0.272, 0.21525, 0.19325, 0.13525, 0.18325, 0.979504, 0.009895, 0.007421, 0.00199, 0.227001, 0.764451, 0.002158, 0.00399, 0.974304, 0.014706, 0.005885, 0.005106, 58.0, 0.00338, 0.1822, 0.577, 0.675266, 21.628499, 72.933075, 1.809443, 0.0], [\"E14000738\", 0.1992, 0.0918, 0.3832, 0.3049, 58.305, 1375.833972, 2915, 0.110476, 36.338478, 0.025676, -0.010055, 640, 209950.0, 0.447931, 6.308594, 0.397325, 0.373541, 0.085518, 0.126048, 0.197, 0.159, 0.002, 0.04, 0.055, 0.047, 0.137, 0.047, 0.101, 0.072, 0.082, 0.06, 0.211, 0.1935, 0.1735, 0.1335, 0.2885, 0.966895, 0.011986, 0.015169, 0.003574, 0.318758, 0.665795, 0.007604, 0.005267, 0.960643, 0.018062, 0.011759, 0.009536, 64.8, 0.00635, 0.1419, 0.522, 0.700472, 45.425088, 20.474939, 32.930753, 0.0], [\"E14000747\", 0.2347, 0.123, 0.3963, 0.2393, 72.594814, 1477.639992, 3430, 0.345098, 31.975687, 0.050114, -0.008907, 490, 132997.5, 0.478571, 5.219682, 0.291413, 0.357777, 0.120105, 0.213139, 0.212, 0.185, 0.002, 0.043, 0.053, 0.061, 0.136, 0.05, 0.096, 0.047, 0.06, 0.057, 0.281, 0.19925, 0.18025, 0.12925, 0.20925, 0.922334, 0.014755, 0.048097, 0.011637, 0.253191, 0.699838, 0.038472, 0.006497, 0.935492, 0.02824, 0.015362, 0.020906, 50.4, 0.00312, 0.1904, 0.624, 0.625299, 38.024667, 53.29991, 2.179886, 0.0], [\"E14000758\", 0.2424, 0.1228, 0.3874, 0.2365, 90.25067, 1028.335859, 2745, 0.066019, 29.577192, 0.056463, 0.010118, 480, 105000.0, 0.75146, 4.206731, 0.331712, 0.344167, 0.179241, 0.130616, 0.259, 0.181, 0.003, 0.047, 0.054, 0.049, 0.14, 0.041, 0.099, 0.037, 0.039, 0.051, 0.276, 0.20425, 0.17525, 0.13725, 0.20725, 0.872435, 0.009092, 0.11497, 0.00147, 0.232977, 0.655124, 0.105012, 0.003643, 0.926936, 0.022358, 0.007903, 0.042803, 48.0, 0.00172, 0.1937, 0.658, 0.632709, 40.495996, 53.360471, 1.822928, 0.0], [\"E14000775\", 0.2488, 0.1348, 0.3827, 0.2326, 54.248844, 1965.571846, 2420, 0.444776, 22.695302, 0.069144, -0.017864, 540, 125000.0, 0.315789, 4.451567, 0.251712, 0.345365, 0.100822, 0.284361, 0.202, 0.164, 0.001, 0.047, 0.068, 0.067, 0.158, 0.054, 0.081, 0.035, 0.058, 0.064, 0.364, 0.1945, 0.1675, 0.1235, 0.1515, 0.9775, 0.012097, 0.00613, 0.00307, 0.17878, 0.815119, 0.002396, 0.002656, 0.98031, 0.010422, 0.005428, 0.00384, 61.0, 0.00223, 0.1795, 0.523, 0.67944, 9.258692, 85.343258, 2.142999, 0.0], [\"E14000776\", 0.3344, 0.2056, 0.3302, 0.2412, 437.758148, 209.236539, 3080, 0.128205, 33.62629, 0.036721, 0.002642, 570, 150000.0, 0.304348, 5.060729, 0.346763, 0.317531, 0.196254, 0.11973, 0.161, 0.149, 0.022, 0.079, 0.071, 0.038, 0.152, 0.034, 0.156, 0.042, 0.041, 0.054, 0.211, 0.15325, 0.15025, 0.21025, 0.27625, 0.942054, 0.00974, 0.040473, 0.004812, 0.327121, 0.63805, 0.017969, 0.011575, 0.919792, 0.036018, 0.015799, 0.02839, 50.9, 0.01096, 0.1741, 0.52, 0.686229, 40.620583, 55.104482, 2.544087, 0.0], [\"E14000785\", 0.2273, 0.1156, 0.4148, 0.2403, 67.064093, 1571.750186, 3075, 0.208251, 29.172359, 0.04852, -0.002937, 540, 134950.0, 0.500278, 4.805912, 0.296773, 0.381447, 0.13214, 0.173863, 0.226, 0.18, 0.002, 0.046, 0.06, 0.055, 0.133, 0.058, 0.08, 0.05, 0.056, 0.056, 0.258, 0.20975, 0.18675, 0.13575, 0.21175, 0.96764, 0.009913, 0.013748, 0.006282, 0.23258, 0.751663, 0.007573, 0.005689, 0.961096, 0.018748, 0.012039, 0.008117, 63.4, 0.00226, 0.1675, 0.633, 0.616506, 35.825831, 56.208132, 2.028843, 0.0], [\"E14000793\", 0.4614, 0.3439, 0.3242, 0.1364, 24.098792, 5611.401529, 6055, 0.297964, 44.77623, 0.054687, -0.027975, 570, 124995.0, -0.031047, 4.217105, 0.137011, 0.158552, 0.365275, 0.318979, 0.095, 0.146, 0.001, 0.108, 0.061, 0.04, 0.152, 0.046, 0.129, 0.069, 0.071, 0.083, 0.214, 0.11125, 0.11925, 0.24425, 0.31025, 0.796458, 0.041638, 0.077167, 0.046632, 0.32681, 0.573364, 0.07212, 0.02426, 0.824809, 0.048808, 0.071415, 0.054969, 45.9, 0.02139, 0.1326, 0.273, 0.631164, 9.68763, 84.546022, 2.471887, 0.0], [\"E14000794\", 0.2567, 0.1458, 0.4033, 0.2116, 19.761224, 4659.832886, 1665, 0.417021, 18.081317, 0.086105, -0.02754, 480, 86000.0, 0.323077, 3.445513, 0.204698, 0.266197, 0.210351, 0.300845, 0.164, 0.161, 0.001, 0.063, 0.081, 0.065, 0.171, 0.062, 0.074, 0.033, 0.059, 0.066, 0.365, 0.1965, 0.1715, 0.1245, 0.1425, 0.95126, 0.011929, 0.018536, 0.011276, 0.199835, 0.782566, 0.010101, 0.005094, 0.951228, 0.02043, 0.015336, 0.012996, 61.3, 0.0003, 0.1137, 0.522, 0.674233, 8.588288, 85.728843, 1.511956, 0.0], [\"E14000795\", 0.291, 0.1851, 0.385, 0.1989, 17.053609, 5591.367667, 2225, 0.381988, 23.334347, 0.06431, -0.021203, 550, 138000.0, 0.623529, 4.825175, 0.24624, 0.280873, 0.256558, 0.199523, 0.124, 0.146, 0.001, 0.077, 0.069, 0.049, 0.174, 0.048, 0.125, 0.051, 0.067, 0.068, 0.255, 0.15675, 0.14875, 0.16275, 0.27775, 0.847073, 0.034196, 0.050874, 0.042524, 0.243975, 0.682856, 0.04718, 0.023202, 0.872045, 0.040371, 0.052972, 0.034612, 60.7, 0.00121, 0.0923, 0.353, 0.701142, 12.032539, 79.553162, 6.549038, 0.0], [\"E14000796\", 0.2436, 0.1312, 0.4012, 0.2184, 20.606133, 4521.809055, 1490, 0.560209, 15.991071, 0.062042, -0.027001, 560, 120000.0, 0.334074, 4.120879, 0.22495, 0.322539, 0.155222, 0.279637, 0.162, 0.15, 0.001, 0.057, 0.073, 0.065, 0.183, 0.052, 0.093, 0.036, 0.063, 0.064, 0.328, 0.18875, 0.17475, 0.12675, 0.18175, 0.940875, 0.013365, 0.025735, 0.013961, 0.186708, 0.796315, 0.009963, 0.005777, 0.942709, 0.021969, 0.018357, 0.016965, 62.6, 0.00043, 0.1977, 0.498, 0.694785, 9.881983, 82.746939, 1.20674, 0.0], [\"E14000802\", 0.1905, 0.0859, 0.4013, 0.3013, 301.759199, 309.435472, 4865, 0.136682, 52.10174, 0.022493, -0.005266, 640, 230000.0, 0.483871, 6.911058, 0.371882, 0.373226, 0.121803, 0.116331, 0.193, 0.149, 0.01, 0.047, 0.035, 0.037, 0.136, 0.05, 0.091, 0.101, 0.086, 0.064, 0.182, 0.15975, 0.16675, 0.13275, 0.35875, 0.968253, 0.009081, 0.017938, 0.003013, 0.306697, 0.675912, 0.004278, 0.010154, 0.949243, 0.022366, 0.013617, 0.014775, 54.1, 0.02258, 0.1715, 0.472, 0.72372, 52.654354, 36.803727, 6.168634, 0.0], [\"E14000805\", 0.2275, 0.1124, 0.4011, 0.2562, 55.866539, 1798.017223, 2310, 0.305085, 22.996745, 0.036907, -0.008701, 580, 130000.0, 0.354872, 4.310345, 0.340203, 0.404742, 0.098237, 0.144144, 0.244, 0.178, 0.001, 0.042, 0.067, 0.059, 0.122, 0.047, 0.089, 0.038, 0.051, 0.06, 0.265, 0.213, 0.185, 0.135, 0.203, 0.98107, 0.006955, 0.006853, 0.003513, 0.18966, 0.800697, 0.00447, 0.003279, 0.975255, 0.012383, 0.007749, 0.004613, 61.8, 0.00085, 0.1451, 0.649, 0.633418, 31.327637, 60.181535, 2.816781, 0.0], [\"E14000807\", 0.465, 0.3457, 0.3285, 0.0942, 28.453025, 5716.650441, 11925, 0.904952, 73.314234, 0.06091, -0.022677, 540, 160000.0, 0.454545, 5.698006, 0.106595, 0.164539, 0.345826, 0.359069, 0.095, 0.167, 0.001, 0.105, 0.039, 0.043, 0.121, 0.072, 0.104, 0.089, 0.095, 0.071, 0.214, 0.1345, 0.1305, 0.2045, 0.3155, 0.626208, 0.050236, 0.146115, 0.141037, 0.350446, 0.487247, 0.125248, 0.032622, 0.697728, 0.074974, 0.129744, 0.097554, 31.1, 0.02344, 0.2438, 0.364, 0.552509, 14.169348, 77.413516, 3.374899, 0.0], [\"E14000808\", 0.3728, 0.2283, 0.3673, 0.1133, 17.302902, 6888.093234, 2625, 0.875, 22.024768, 0.078704, -0.006876, 510, 140000.0, 0.75, 5.279035, 0.164268, 0.226923, 0.32799, 0.255409, 0.102, 0.17, 0.001, 0.111, 0.04, 0.056, 0.134, 0.066, 0.119, 0.058, 0.071, 0.072, 0.22, 0.14125, 0.13825, 0.21725, 0.28225, 0.524254, 0.049317, 0.291921, 0.097664, 0.288243, 0.393784, 0.287865, 0.026062, 0.674616, 0.069606, 0.102133, 0.153636, 42.9, 0.00568, 0.2353, 0.382, 0.611688, 7.300938, 76.349749, 5.651426, 0.0], [\"E14000809\", 0.3482, 0.2561, 0.3943, 0.1443, 19.304056, 5135.34569, 3190, 0.548544, 32.178992, 0.037257, -0.006707, 620, 245000.0, 0.53125, 7.599256, 0.192882, 0.277119, 0.321512, 0.189996, 0.091, 0.122, 0.001, 0.071, 0.042, 0.033, 0.162, 0.048, 0.154, 0.107, 0.099, 0.071, 0.147, 0.09825, 0.10725, 0.18525, 0.46225, 0.765734, 0.047131, 0.124239, 0.033786, 0.398702, 0.453695, 0.110057, 0.033554, 0.823136, 0.061636, 0.05706, 0.058168, 57.1, 0.00243, 0.1443, 0.249, 0.719801, 10.316779, 71.683892, 15.949032, 0.0], [\"E14000825\", 0.2207, 0.112, 0.3641, 0.2966, 253.517126, 352.915014, 2730, 0.123457, 30.513021, 0.050607, 0.008302, 500, 143500.0, 0.435718, 5.519231, 0.377805, 0.336126, 0.169587, 0.097705, 0.194, 0.163, 0.011, 0.066, 0.052, 0.057, 0.159, 0.045, 0.113, 0.036, 0.043, 0.059, 0.245, 0.188, 0.182, 0.138, 0.247, 0.979517, 0.008143, 0.008405, 0.002771, 0.283829, 0.703569, 0.004186, 0.004277, 0.950777, 0.030975, 0.011256, 0.006991, 69.7, 0.00424, 0.2098, 0.582, 0.684381, 47.688197, 44.624045, 3.721226, 0.0], [\"E14000870\", 0.2516, 0.1222, 0.3853, 0.2184, 104.409049, 1023.608598, 3375, 0.240809, 31.579243, 0.063011, 0.002897, 510, 135000.0, 0.646844, 5.090498, 0.309257, 0.348317, 0.129376, 0.194574, 0.215, 0.182, 0.002, 0.049, 0.054, 0.055, 0.135, 0.045, 0.103, 0.05, 0.053, 0.057, 0.275, 0.19275, 0.17075, 0.13175, 0.22875, 0.813791, 0.018799, 0.153119, 0.012027, 0.235342, 0.614905, 0.14243, 0.005344, 0.900857, 0.020305, 0.014498, 0.06434, 51.9, 0.00797, 0.1933, 0.599, 0.653067, 37.092076, 54.486893, 3.578034, 0.0], [\"E14000871\", 0.2732, 0.132, 0.3816, 0.1961, 30.851043, 3506.947831, 2580, 0.219858, 23.846275, 0.072516, 0.001512, 500, 121000.0, 0.61441, 4.653846, 0.291717, 0.338149, 0.114076, 0.23862, 0.202, 0.198, 0.001, 0.073, 0.05, 0.062, 0.133, 0.05, 0.089, 0.038, 0.054, 0.051, 0.318, 0.20675, 0.16775, 0.12775, 0.17875, 0.70068, 0.017502, 0.265319, 0.013702, 0.193907, 0.547546, 0.245771, 0.011178, 0.848406, 0.022248, 0.016216, 0.113131, 60.3, 0.00186, 0.2042, 0.613, 0.63379, 27.622958, 65.183017, 2.087883, 0.0], [\"E14000875\", 0.2306, 0.1135, 0.3878, 0.2434, 169.38649, 539.623909, 2820, 0.134809, 30.851704, 0.043827, -0.000204, 540, 105000.0, 1.058824, 3.739316, 0.359725, 0.325185, 0.181, 0.116017, 0.288, 0.175, 0.007, 0.048, 0.044, 0.043, 0.125, 0.044, 0.092, 0.038, 0.044, 0.051, 0.282, 0.1955, 0.1655, 0.1395, 0.2165, 0.798607, 0.010576, 0.187888, 0.001409, 0.281, 0.537081, 0.17416, 0.004025, 0.891853, 0.02901, 0.007166, 0.071972, 43.8, 0.01335, 0.1543, 0.632, 0.691727, 49.01681, 46.165336, 2.097918, 0.0], [\"E14000877\", 0.1905, 0.0874, 0.3809, 0.3363, 3120.204845, 26.483197, 5765, 0.050091, 69.766316, 0.016675, 0.000415, 560, 182500.0, 0.19281, 6.26717, 0.432326, 0.286051, 0.146864, 0.105139, 0.19, 0.161, 0.078, 0.093, 0.056, 0.054, 0.107, 0.035, 0.09, 0.049, 0.03, 0.057, 0.23, 0.1855, 0.1765, 0.1285, 0.2795, 0.98968, 0.003957, 0.004971, 0.000672, 0.276612, 0.714875, 0.001808, 0.003786, 0.968039, 0.017599, 0.009123, 0.005239, 29.0, 0.10946, 0.2738, 0.552, 0.714595, 60.421777, 26.184635, 7.835162, 0.0], [\"E14000885\", 0.3354, 0.2101, 0.3658, 0.161, 26.456341, 3655.796612, 3405, 0.227027, 35.205079, 0.063155, -0.002565, 470, 99000.0, 0.192771, 4.050736, 0.222637, 0.277798, 0.223941, 0.252839, 0.184, 0.204, 0.003, 0.077, 0.069, 0.054, 0.132, 0.059, 0.08, 0.035, 0.049, 0.052, 0.267, 0.184, 0.159, 0.18, 0.21, 0.762703, 0.028993, 0.184585, 0.014718, 0.268253, 0.554326, 0.139608, 0.034364, 0.838563, 0.052659, 0.030133, 0.078645, 54.5, 0.00248, 0.1476, 0.557, 0.617051, 23.841897, 68.011349, 3.382307, 0.0], [\"E14000894\", 0.2149, 0.1011, 0.3936, 0.2875, 632.619597, 158.622971, 4970, 0.126984, 49.527644, 0.016668, -0.001549, 600, 183000.0, 0.298333, 5.865385, 0.402543, 0.383926, 0.121353, 0.074933, 0.227, 0.16, 0.02, 0.052, 0.071, 0.035, 0.133, 0.034, 0.109, 0.055, 0.049, 0.056, 0.194, 0.18725, 0.16725, 0.14125, 0.30925, 0.975694, 0.008202, 0.013247, 0.001981, 0.208606, 0.776713, 0.007119, 0.005303, 0.964417, 0.018601, 0.00879, 0.008192, 40.8, 0.03172, 0.2041, 0.587, 0.710073, 57.824275, 33.913043, 5.882246, 0.0], [\"E14000897\", 0.2657, 0.1322, 0.3889, 0.1974, 85.561406, 1317.556659, 3230, 0.230476, 28.652024, 0.070521, -0.011258, 490, 125000.0, 0.488095, 4.905808, 0.263739, 0.322379, 0.144512, 0.250346, 0.209, 0.184, 0.001, 0.055, 0.055, 0.061, 0.152, 0.046, 0.096, 0.038, 0.05, 0.054, 0.293, 0.19375, 0.17475, 0.13175, 0.20575, 0.714707, 0.018886, 0.247048, 0.01448, 0.241362, 0.514605, 0.23588, 0.006094, 0.843811, 0.031557, 0.021826, 0.102806, 42.7, 0.00402, 0.2492, 0.575, 0.642383, 28.407002, 58.018943, 8.046919, 0.0], [\"E14000902\", 0.2244, 0.1091, 0.4134, 0.2425, 217.504762, 452.34412, 3550, 0.160131, 36.082003, 0.041343, 0.005103, 510, 129950.0, 0.547024, 4.900075, 0.313141, 0.396563, 0.150702, 0.123935, 0.248, 0.157, 0.004, 0.039, 0.061, 0.04, 0.148, 0.042, 0.106, 0.048, 0.05, 0.058, 0.236, 0.19025, 0.17425, 0.14125, 0.25825, 0.956907, 0.008252, 0.031141, 0.002218, 0.29702, 0.672482, 0.022454, 0.005048, 0.959861, 0.017934, 0.008241, 0.013964, 42.3, 0.01083, 0.1993, 0.589, 0.693789, 50.839381, 44.427387, 3.090358, 0.0], [\"E14000911\", 0.3077, 0.211, 0.4064, 0.1746, 31.743452, 3775.707838, 6890, 1.251634, 57.486609, 0.049471, -0.012429, 510, 155000.0, 0.565657, 5.844646, 0.195332, 0.25686, 0.238726, 0.288505, 0.149, 0.169, 0.001, 0.077, 0.054, 0.05, 0.141, 0.062, 0.081, 0.065, 0.088, 0.063, 0.259, 0.17375, 0.15875, 0.14875, 0.26075, 0.881064, 0.021613, 0.050946, 0.034299, 0.304774, 0.643368, 0.031489, 0.01697, 0.862888, 0.057754, 0.046137, 0.033221, 51.5, 0.03543, 0.1576, 0.536, 0.611296, 25.275625, 65.452865, 2.700603, 0.0], [\"E14000916\", 0.1929, 0.0901, 0.3631, 0.3514, 83.305405, 1001.147526, 2400, 0.221374, 28.776633, 0.020851, -0.015123, 590, 202950.0, 0.252778, 6.615059, 0.469646, 0.385394, 0.073396, 0.059721, 0.154, 0.15, 0.003, 0.038, 0.102, 0.045, 0.146, 0.036, 0.119, 0.06, 0.082, 0.064, 0.212, 0.1835, 0.1705, 0.1315, 0.3025, 0.981379, 0.007863, 0.007745, 0.00186, 0.18125, 0.811123, 0.001919, 0.004532, 0.971128, 0.015337, 0.007804, 0.005732, 59.2, 0.00596, 0.1547, 0.441, 0.756415, 33.04979, 63.038845, 2.651741, 0.0], [\"E14000943\", 0.2102, 0.1005, 0.3957, 0.2859, 196.765681, 505.936806, 3735, 0.087336, 37.518458, 0.022615, -0.001902, 580, 171997.5, 0.246359, 5.702835, 0.390826, 0.400595, 0.088867, 0.103645, 0.202, 0.16, 0.019, 0.04, 0.102, 0.042, 0.123, 0.045, 0.104, 0.054, 0.05, 0.058, 0.206, 0.1935, 0.1755, 0.1405, 0.2845, 0.972025, 0.010167, 0.013382, 0.002722, 0.226905, 0.75733, 0.005166, 0.007764, 0.96347, 0.019102, 0.009469, 0.007959, 47.5, 0.01515, 0.1856, 0.566, 0.725077, 52.850421, 39.316847, 3.780501, 0.0], [\"E14000958\", 0.2014, 0.0987, 0.3688, 0.3262, 46.014446, 2007.108802, 2945, 0.113422, 31.887479, 0.038286, -0.006303, 580, 165000.0, 0.235955, 5.470822, 0.39018, 0.334838, 0.186539, 0.070162, 0.147, 0.181, 0.008, 0.065, 0.068, 0.041, 0.168, 0.042, 0.102, 0.055, 0.059, 0.065, 0.226, 0.17925, 0.17425, 0.13925, 0.28225, 0.965712, 0.01258, 0.014107, 0.003806, 0.270223, 0.711134, 0.006639, 0.009139, 0.933039, 0.041336, 0.015269, 0.010356, 37.8, 0.00092, 0.1395, 0.463, 0.691916, 38.662524, 32.586121, 26.401285, 0.0], [\"E14000962\", 0.2251, 0.1166, 0.3907, 0.2661, 83.853957, 1184.440224, 2285, 0.294618, 23.006444, 0.046964, -0.009754, 530, 138000.0, 0.408163, 5.007257, 0.333991, 0.339023, 0.092922, 0.213914, 0.213, 0.178, 0.003, 0.043, 0.061, 0.06, 0.145, 0.05, 0.096, 0.044, 0.05, 0.056, 0.277, 0.19825, 0.17725, 0.13125, 0.21625, 0.983506, 0.006216, 0.007677, 0.001274, 0.204345, 0.786693, 0.002942, 0.003492, 0.975714, 0.013013, 0.005833, 0.005439, 65.9, 0.01226, 0.1958, 0.584, 0.661234, 27.091713, 63.74099, 2.562622, 0.0], [\"E14000963\", 0.2303, 0.1212, 0.3959, 0.2559, 64.116773, 1607.161349, 2645, 0.280872, 25.668148, 0.051851, -0.012375, 580, 123500.0, 0.266667, 4.094828, 0.323303, 0.344971, 0.11106, 0.202898, 0.204, 0.169, 0.002, 0.047, 0.062, 0.059, 0.178, 0.048, 0.085, 0.038, 0.05, 0.06, 0.288, 0.1935, 0.1745, 0.1315, 0.2125, 0.973593, 0.008554, 0.014495, 0.001927, 0.196877, 0.791182, 0.003974, 0.00614, 0.970434, 0.013352, 0.006468, 0.009746, 60.4, 0.00996, 0.212, 0.561, 0.670138, 21.812956, 67.842151, 3.972696, 0.0], [\"E14000967\", 0.2325, 0.1187, 0.4042, 0.2315, 63.222053, 1497.547056, 2670, 0.16849, 28.200849, 0.049901, -0.006899, 500, 137995.0, 0.452579, 5.3075, 0.272564, 0.369997, 0.123939, 0.219047, 0.241, 0.165, 0.002, 0.044, 0.059, 0.048, 0.128, 0.045, 0.091, 0.053, 0.064, 0.061, 0.263, 0.20925, 0.18425, 0.13225, 0.21125, 0.929714, 0.012154, 0.051831, 0.005047, 0.317615, 0.630085, 0.040495, 0.008851, 0.944942, 0.020395, 0.010453, 0.02421, 33.1, 0.0019, 0.2102, 0.593, 0.596339, 38.139765, 57.180206, 2.345903, 0.0], [\"E14000969\", 0.2362, 0.1249, 0.4252, 0.1997, 21.910762, 4074.207937, 3425, 0.187175, 38.367182, 0.048539, -0.01209, 630, 165000.0, 0.434783, 5.03663, 0.256904, 0.354513, 0.150354, 0.217199, 0.168, 0.154, 0.001, 0.048, 0.047, 0.058, 0.148, 0.058, 0.105, 0.072, 0.083, 0.062, 0.237, 0.18675, 0.16575, 0.12775, 0.28275, 0.907324, 0.021946, 0.05617, 0.009362, 0.358204, 0.587566, 0.039881, 0.010973, 0.921543, 0.031966, 0.020276, 0.026215, 63.5, 0.00095, 0.1364, 0.468, 0.64825, 28.415656, 63.263046, 4.2798, 0.0], [\"E14000979\", 0.2363, 0.1119, 0.4195, 0.2116, 46.754888, 2165.463417, 3725, 0.121988, 36.791577, 0.044564, -0.009515, 630, 206000.0, 0.584615, 6.288156, 0.29023, 0.353237, 0.118104, 0.221243, 0.159, 0.168, 0.001, 0.05, 0.054, 0.058, 0.145, 0.056, 0.101, 0.06, 0.087, 0.062, 0.227, 0.192, 0.179, 0.134, 0.268, 0.792545, 0.033621, 0.109601, 0.053347, 0.266666, 0.613849, 0.09351, 0.023312, 0.868829, 0.046279, 0.040426, 0.044466, 53.0, 0.00155, 0.1555, 0.489, 0.70004, 27.522863, 66.782889, 1.994381, 0.0], [\"E14000987\", 0.1887, 0.0815, 0.3985, 0.2999, 330.460769, 260.145857, 6285, 0.247024, 73.108599, 0.01657, -0.009364, 700, 310000.0, 0.497585, 8.516484, 0.390845, 0.362222, 0.115536, 0.112901, 0.163, 0.158, 0.016, 0.051, 0.035, 0.046, 0.107, 0.052, 0.089, 0.11, 0.102, 0.069, 0.176, 0.15375, 0.16375, 0.12275, 0.38275, 0.955023, 0.012505, 0.024452, 0.00401, 0.278299, 0.693808, 0.011496, 0.013774, 0.938579, 0.0273, 0.019469, 0.014652, 43.9, 0.02287, 0.2164, 0.456, 0.725167, 58.563401, 28.457122, 9.0215, 0.0], [\"E14001010\", 0.2294, 0.1171, 0.3904, 0.259, 23.206568, 3886.572178, 1980, 0.356164, 21.95268, 0.055066, -0.010541, 560, 130000.0, 0.313131, 4.464286, 0.299277, 0.347267, 0.199087, 0.140824, 0.187, 0.154, 0.001, 0.048, 0.083, 0.051, 0.158, 0.049, 0.096, 0.053, 0.053, 0.068, 0.253, 0.203, 0.192, 0.142, 0.211, 0.972184, 0.011169, 0.012645, 0.002605, 0.305957, 0.679833, 0.004852, 0.006082, 0.963217, 0.01885, 0.009067, 0.008866, 48.9, 0.00703, 0.2123, 0.499, 0.717971, 23.229169, 71.457821, 1.596592, 0.0], [\"E14001017\", 0.2268, 0.1168, 0.409, 0.2444, 91.397537, 1060.531866, 3245, 0.272549, 33.477767, 0.035692, -0.013885, 550, 160000.0, 0.355932, 5.594406, 0.299747, 0.376343, 0.103332, 0.203941, 0.19, 0.189, 0.002, 0.048, 0.057, 0.068, 0.119, 0.057, 0.08, 0.059, 0.077, 0.054, 0.234, 0.20875, 0.18075, 0.13875, 0.23775, 0.964973, 0.011059, 0.017813, 0.003781, 0.26571, 0.715543, 0.008329, 0.007688, 0.947843, 0.029166, 0.011543, 0.011448, 59.5, 0.00354, 0.1753, 0.581, 0.675992, 36.634582, 56.38436, 2.487788, 0.0], [\"E14001018\", 0.2239, 0.108, 0.4181, 0.2388, 89.225625, 1262.159832, 6230, 0.767376, 55.320245, 0.025598, -0.008254, 640, 193000.0, 0.287096, 5.799279, 0.337416, 0.413601, 0.120122, 0.11353, 0.186, 0.163, 0.003, 0.046, 0.056, 0.055, 0.131, 0.047, 0.091, 0.075, 0.09, 0.057, 0.183, 0.18675, 0.17075, 0.13375, 0.32675, 0.954203, 0.010195, 0.030043, 0.003121, 0.260066, 0.71276, 0.012185, 0.012624, 0.939868, 0.02752, 0.013484, 0.019128, 55.1, 0.00235, 0.156, 0.511, 0.725498, 44.269699, 48.381321, 5.385918, 0.0], [\"E14001024\", 0.2193, 0.1007, 0.3981, 0.267, 166.15788, 542.887284, 3505, 0.267631, 38.855939, 0.03399, -0.011331, 590, 189995.0, 0.51996, 6.192797, 0.313627, 0.384052, 0.102864, 0.179454, 0.202, 0.167, 0.008, 0.048, 0.054, 0.053, 0.114, 0.053, 0.096, 0.071, 0.083, 0.051, 0.216, 0.18925, 0.17725, 0.13225, 0.28525, 0.976372, 0.009982, 0.010175, 0.001974, 0.282331, 0.706689, 0.003108, 0.005172, 0.962953, 0.019544, 0.009812, 0.007679, 40.6, 0.00921, 0.1598, 0.506, 0.734917, 43.739751, 51.500603, 3.206686, 0.0], [\"E14001033\", 0.2658, 0.1425, 0.3561, 0.2715, 262.319441, 372.275115, 3695, 0.184295, 37.837284, 0.033502, -0.014369, 580, 175000.0, 0.346154, 5.802387, 0.343575, 0.367044, 0.107562, 0.162944, 0.192, 0.17, 0.019, 0.051, 0.053, 0.052, 0.14, 0.042, 0.117, 0.049, 0.061, 0.054, 0.234, 0.184, 0.167, 0.152, 0.262, 0.980495, 0.008017, 0.008692, 0.001719, 0.232381, 0.758104, 0.002574, 0.004874, 0.96137, 0.024589, 0.008038, 0.006002, 29.6, 0.02238, 0.229, 0.55, 0.743997, 37.399106, 58.890584, 1.965471, 0.0], [\"E14001037\", 0.1888, 0.0854, 0.3689, 0.3574, 1349.522903, 62.941503, 5270, 0.038424, 62.043065, 0.010198, -0.001423, 530, 235000.0, 0.342857, 8.526851, 0.445694, 0.275372, 0.147616, 0.106113, 0.175, 0.182, 0.029, 0.128, 0.037, 0.031, 0.112, 0.037, 0.109, 0.053, 0.035, 0.07, 0.189, 0.17325, 0.16725, 0.12825, 0.34325, 0.982757, 0.006399, 0.007984, 0.001907, 0.310132, 0.679405, 0.001811, 0.004898, 0.948987, 0.027407, 0.014645, 0.008961, 45.6, 0.03157, 0.2582, 0.471, 0.779744, 44.322557, 9.253778, 45.825836, 0.0], [\"E14001039\", 0.2298, 0.1194, 0.4077, 0.2432, 60.482486, 1733.559684, 3095, 0.194981, 29.51836, 0.050959, -0.011228, 490, 135000.0, 0.5, 5.298273, 0.303897, 0.328814, 0.120729, 0.228535, 0.237, 0.179, 0.003, 0.049, 0.059, 0.053, 0.132, 0.052, 0.088, 0.039, 0.048, 0.06, 0.29, 0.205, 0.172, 0.125, 0.208, 0.970573, 0.00905, 0.012407, 0.00531, 0.197157, 0.787373, 0.008275, 0.005163, 0.959422, 0.020554, 0.01171, 0.008314, 59.6, 0.01159, 0.1557, 0.63, 0.632147, 28.496908, 62.208153, 1.926717, 0.0], [\"E14001043\", 0.2021, 0.0938, 0.3789, 0.3122, 60.808162, 1203.703543, 2325, 0.291667, 31.764465, 0.024128, -0.012074, 600, 180000.0, 0.286174, 5.769231, 0.412514, 0.377119, 0.104055, 0.093901, 0.196, 0.141, 0.002, 0.045, 0.073, 0.037, 0.155, 0.039, 0.107, 0.075, 0.07, 0.059, 0.195, 0.1795, 0.1745, 0.1345, 0.3155, 0.978136, 0.007675, 0.010731, 0.001991, 0.250705, 0.738328, 0.003208, 0.00585, 0.964211, 0.017176, 0.01051, 0.008104, 52.7, 0.00282, 0.183, 0.465, 0.78514, 38.827304, 57.243058, 2.925102, 0.0], [\"E14001044\", 0.194, 0.0859, 0.3703, 0.3293, 47.938539, 1452.568266, 2040, 0.275, 29.296034, 0.024077, -0.011948, 660, 204475.0, 0.283987, 5.957896, 0.419172, 0.366958, 0.09991, 0.098748, 0.163, 0.13, 0.002, 0.046, 0.081, 0.038, 0.167, 0.036, 0.129, 0.073, 0.068, 0.066, 0.197, 0.1675, 0.1695, 0.1305, 0.3345, 0.973298, 0.009435, 0.013539, 0.001517, 0.259634, 0.72703, 0.00354, 0.007138, 0.960525, 0.016963, 0.012036, 0.010476, 32.9, 0.00889, 0.1845, 0.447, 0.786392, 42.094605, 54.301381, 2.627927, 0.0], [\"E14001053\", 0.2077, 0.1044, 0.3826, 0.3032, 675.697024, 117.878276, 3285, 0.093178, 41.242938, 0.037562, -0.000857, 590, 146000.0, 0.717647, 4.758801, 0.380761, 0.303273, 0.093593, 0.202365, 0.287, 0.155, 0.031, 0.07, 0.065, 0.041, 0.12, 0.033, 0.082, 0.04, 0.022, 0.055, 0.283, 0.2015, 0.1715, 0.1265, 0.2175, 0.989791, 0.004288, 0.004658, 0.000651, 0.227863, 0.765412, 0.002131, 0.002284, 0.976392, 0.01248, 0.006393, 0.004734, 30.0, 0.02674, 0.2224, 0.61, 0.692458, 41.731452, 51.149343, 2.718591, 0.0], [\"E14001054\", 0.2375, 0.1197, 0.4027, 0.2151, 59.661373, 1738.243612, 2885, 0.370546, 27.819027, 0.052011, -0.010341, 540, 161500.0, 0.693316, 5.751425, 0.25898, 0.345299, 0.118654, 0.258095, 0.188, 0.188, 0.001, 0.05, 0.053, 0.057, 0.135, 0.061, 0.082, 0.055, 0.072, 0.058, 0.268, 0.20475, 0.17975, 0.13275, 0.21375, 0.940581, 0.016079, 0.025075, 0.013165, 0.278708, 0.693263, 0.013479, 0.011951, 0.936088, 0.030873, 0.018406, 0.014632, 60.1, 0.01498, 0.1762, 0.598, 0.620947, 38.707769, 57.06586, 2.381578, 0.0], [\"E14001057\", 0.2037, 0.097, 0.3739, 0.3218, 266.191677, 338.902407, 4075, 0.105834, 45.170873, 0.015362, 0.000417, 560, 192500.0, 0.283333, 6.610577, 0.4584, 0.376342, 0.100319, 0.045906, 0.186, 0.147, 0.019, 0.051, 0.099, 0.034, 0.148, 0.031, 0.117, 0.059, 0.056, 0.054, 0.194, 0.17475, 0.16675, 0.13575, 0.32975, 0.934855, 0.009382, 0.049433, 0.003674, 0.203224, 0.747864, 0.029232, 0.017566, 0.949256, 0.016809, 0.013407, 0.020517, 38.2, 0.01127, 0.2228, 0.542, 0.729711, 58.28363, 35.022604, 4.845572, 0.0], [\"E14001059\", 0.2344, 0.1233, 0.4184, 0.1973, 36.555359, 2960.632914, 3010, 0.308696, 27.811914, 0.049548, -0.017315, 530, 173250.0, 0.408537, 6.286284, 0.202275, 0.310196, 0.137474, 0.330746, 0.136, 0.149, 0.001, 0.069, 0.04, 0.074, 0.15, 0.074, 0.093, 0.066, 0.085, 0.062, 0.267, 0.18575, 0.16675, 0.11975, 0.26075, 0.871232, 0.032815, 0.055805, 0.028443, 0.314137, 0.634344, 0.030511, 0.018134, 0.880356, 0.050513, 0.035547, 0.033584, 65.2, 0.02905, 0.1934, 0.496, 0.601315, 29.623086, 62.219169, 3.280548, 0.0], [\"E14000541\", 0.2327, 0.1276, 0.4075, 0.2425, 48.367326, 1887.059056, 2580, 0.258537, 28.267158, 0.046919, -0.018121, 510, 120646.0, 0.370977, 4.549246, 0.294843, 0.334847, 0.137916, 0.211032, 0.25, 0.176, 0.002, 0.048, 0.058, 0.052, 0.143, 0.05, 0.089, 0.037, 0.04, 0.054, 0.319, 0.1955, 0.1735, 0.1285, 0.1825, 0.97312, 0.007093, 0.009882, 0.007198, 0.309879, 0.676529, 0.006638, 0.004433, 0.956285, 0.024617, 0.011958, 0.00714, 51.9, 0.00754, 0.1774, 0.682, 0.609822, 24.141019, 63.913833, 1.404559, 0.0], [\"E14000542\", 0.2335, 0.1241, 0.3936, 0.2509, 86.809204, 1094.538323, 2005, 0.332226, 21.101709, 0.046735, -0.020493, 520, 117500.0, 0.416516, 4.345414, 0.29246, 0.335041, 0.12116, 0.23097, 0.261, 0.183, 0.003, 0.045, 0.056, 0.052, 0.138, 0.056, 0.084, 0.031, 0.042, 0.05, 0.342, 0.2, 0.176, 0.122, 0.159, 0.981268, 0.006989, 0.005286, 0.005275, 0.305626, 0.686523, 0.002377, 0.002941, 0.971559, 0.016565, 0.007519, 0.004357, 39.6, 0.0042, 0.2331, 0.71, 0.590444, 26.969296, 59.54483, 1.839317, 0.0], [\"E14000548\", 0.2419, 0.1168, 0.3977, 0.2247, 55.047036, 2029.246405, 3545, 0.263815, 31.735659, 0.049706, -0.004942, 520, 130000.0, 0.34715, 4.807692, 0.302678, 0.367836, 0.143742, 0.164146, 0.262, 0.183, 0.002, 0.044, 0.048, 0.055, 0.112, 0.048, 0.09, 0.045, 0.067, 0.044, 0.286, 0.21075, 0.16875, 0.12875, 0.20475, 0.77795, 0.01329, 0.202189, 0.004124, 0.264636, 0.536075, 0.18774, 0.008981, 0.901918, 0.017442, 0.0119, 0.068731, 40.6, 0.00745, 0.2187, 0.596, 0.672497, 38.83042, 55.492748, 2.275939, 0.0], [\"E14000556\", 0.1886, 0.0829, 0.3778, 0.339, 776.193495, 129.6133, 3945, 0.114407, 39.212763, 0.024017, -0.011889, 620, 168000.0, 0.317647, 5.210918, 0.388274, 0.367063, 0.129386, 0.095741, 0.209, 0.146, 0.028, 0.051, 0.095, 0.044, 0.14, 0.034, 0.117, 0.051, 0.035, 0.052, 0.225, 0.18825, 0.17125, 0.13225, 0.28325, 0.984982, 0.005835, 0.006937, 0.001243, 0.31737, 0.673026, 0.002346, 0.004531, 0.968651, 0.01592, 0.008953, 0.006476, 57.8, 0.02567, 0.1606, 0.587, 0.692091, 58.411517, 33.173371, 5.04691, 0.0], [\"E14000587\", 0.2914, 0.1323, 0.38, 0.1498, 28.452996, 4191.509372, 2750, 0.331719, 23.05867, 0.086772, 0.001148, 480, 109000.0, 0.586031, 4.366987, 0.253767, 0.339664, 0.195924, 0.186068, 0.188, 0.192, 0.001, 0.071, 0.048, 0.068, 0.116, 0.058, 0.102, 0.037, 0.07, 0.05, 0.329, 0.2055, 0.1645, 0.1225, 0.1775, 0.531067, 0.030979, 0.393165, 0.024548, 0.229362, 0.368239, 0.369496, 0.030452, 0.770594, 0.04038, 0.029371, 0.159656, 52.5, 0.00367, 0.1548, 0.552, 0.649249, 20.365175, 65.387313, 1.847793, 0.0], [\"E14000588\", 0.2525, 0.1159, 0.3953, 0.1959, 43.285352, 2445.746568, 2285, 0.280112, 21.584093, 0.065522, -0.00123, 470, 114250.0, 0.503289, 4.674714, 0.251311, 0.381498, 0.171591, 0.177691, 0.218, 0.187, 0.002, 0.046, 0.049, 0.055, 0.128, 0.057, 0.095, 0.039, 0.075, 0.049, 0.309, 0.21775, 0.17175, 0.12475, 0.17475, 0.788567, 0.032803, 0.146959, 0.020424, 0.315663, 0.530809, 0.123108, 0.027997, 0.887853, 0.032291, 0.024304, 0.055542, 54.1, 0.00845, 0.2151, 0.636, 0.606787, 38.159273, 54.48123, 1.257034, 0.0], [\"E14000589\", 0.3248, 0.1631, 0.3745, 0.1393, 35.201219, 3373.860431, 3835, 0.460952, 32.29093, 0.094609, 0.01514, 480, 103500.0, 0.326923, 4.146635, 0.257528, 0.303709, 0.242513, 0.172984, 0.16, 0.19, 0.002, 0.076, 0.043, 0.073, 0.13, 0.053, 0.117, 0.036, 0.069, 0.049, 0.306, 0.18225, 0.15125, 0.13825, 0.22125, 0.37084, 0.027483, 0.54522, 0.02859, 0.173299, 0.282378, 0.512997, 0.027605, 0.67624, 0.0586, 0.047743, 0.217417, 51.5, 0.00584, 0.1559, 0.467, 0.677081, 16.56563, 64.67229, 1.563873, 0.0], [\"E14000596\", 0.2052, 0.1005, 0.391, 0.2964, 637.305945, 139.499719, 3225, 0.098807, 36.275083, 0.032644, -0.011063, 580, 148500.0, 0.296943, 4.92374, 0.357825, 0.370106, 0.135723, 0.118859, 0.266, 0.171, 0.024, 0.044, 0.051, 0.075, 0.122, 0.04, 0.087, 0.039, 0.036, 0.046, 0.261, 0.21025, 0.18025, 0.13025, 0.21825, 0.982965, 0.006412, 0.008142, 0.001153, 0.280834, 0.709628, 0.002929, 0.004256, 0.951607, 0.034657, 0.007266, 0.00647, 32.2, 0.02431, 0.2022, 0.662, 0.682877, 60.410147, 32.971569, 1.855428, 0.0], [\"E14000614\", 0.2081, 0.0965, 0.4133, 0.2681, 306.25986, 342.353059, 5060, 0.299101, 48.259878, 0.032599, -0.010862, 580, 147500.0, 0.277056, 4.890584, 0.329856, 0.368287, 0.153242, 0.13048, 0.223, 0.143, 0.005, 0.042, 0.054, 0.032, 0.131, 0.037, 0.122, 0.057, 0.096, 0.058, 0.207, 0.18625, 0.16725, 0.13225, 0.30725, 0.965395, 0.0125, 0.017482, 0.003283, 0.385641, 0.590039, 0.011927, 0.007343, 0.961199, 0.02027, 0.009227, 0.009304, 34.9, 0.02131, 0.2628, 0.532, 0.735897, 46.146691, 45.097668, 3.362387, 0.0], [\"E14000643\", 0.2076, 0.0994, 0.3837, 0.2995, 330.370299, 285.694568, 3250, 0.175407, 34.433438, 0.033694, -0.014934, 600, 147000.0, 0.487102, 4.711538, 0.35771, 0.373158, 0.1562, 0.100165, 0.26, 0.177, 0.009, 0.053, 0.054, 0.083, 0.121, 0.038, 0.092, 0.039, 0.025, 0.05, 0.27, 0.21975, 0.18475, 0.12375, 0.20175, 0.979304, 0.006197, 0.01014, 0.001987, 0.328134, 0.657827, 0.006165, 0.005054, 0.966237, 0.017138, 0.008633, 0.007981, 62.7, 0.02442, 0.1414, 0.695, 0.659089, 57.104339, 35.367026, 2.32004, 0.0], [\"E14000645\", 0.2183, 0.1026, 0.4055, 0.2532, 180.373688, 620.48407, 3945, 0.234742, 35.248707, 0.034194, -0.008618, 570, 162500.0, 0.477273, 5.482456, 0.356535, 0.375148, 0.154872, 0.095887, 0.235, 0.153, 0.004, 0.047, 0.057, 0.04, 0.132, 0.035, 0.12, 0.059, 0.063, 0.054, 0.21, 0.1875, 0.1585, 0.1365, 0.3085, 0.874717, 0.021602, 0.083635, 0.014762, 0.356865, 0.555929, 0.069862, 0.014029, 0.924405, 0.02065, 0.018754, 0.036172, 46.7, 0.02238, 0.2664, 0.501, 0.717859, 46.181728, 47.696127, 4.127772, 0.0], [\"E14000666\", 0.2459, 0.1133, 0.3896, 0.2303, 126.049227, 905.305038, 3855, 0.225755, 33.782304, 0.043932, -0.005427, 550, 155000.0, 0.409091, 5.41958, 0.334302, 0.353566, 0.129273, 0.160389, 0.25, 0.177, 0.005, 0.043, 0.05, 0.053, 0.116, 0.042, 0.105, 0.051, 0.059, 0.05, 0.272, 0.1935, 0.1655, 0.1315, 0.2385, 0.783822, 0.014801, 0.194436, 0.004261, 0.269185, 0.538024, 0.184705, 0.005415, 0.900974, 0.017327, 0.011893, 0.069806, 44.1, 0.0083, 0.2561, 0.571, 0.697048, 45.084446, 50.957644, 2.146963, 0.0], [\"E14000667\", 0.2215, 0.1124, 0.3903, 0.2745, 250.914654, 400.841475, 2940, 0.427184, 29.231335, 0.037572, -0.016151, 560, 139000.0, 0.376306, 4.773352, 0.343322, 0.357234, 0.118118, 0.160642, 0.238, 0.18, 0.006, 0.047, 0.069, 0.06, 0.134, 0.045, 0.091, 0.036, 0.045, 0.05, 0.302, 0.204, 0.181, 0.121, 0.193, 0.971082, 0.008689, 0.013317, 0.005187, 0.294699, 0.688513, 0.007724, 0.006019, 0.963368, 0.01892, 0.009277, 0.008435, 32.9, 0.01142, 0.2157, 0.685, 0.622827, 41.710881, 52.95077, 1.861355, 0.0], [\"E14000668\", 0.2402, 0.1317, 0.4063, 0.2288, 60.570568, 1828.165118, 3530, 0.42915, 31.878482, 0.051985, -0.022459, 500, 130000.0, 0.27451, 5.0, 0.288312, 0.332584, 0.184462, 0.175203, 0.21, 0.197, 0.003, 0.054, 0.053, 0.079, 0.14, 0.05, 0.083, 0.032, 0.049, 0.05, 0.279, 0.20975, 0.18575, 0.12375, 0.20175, 0.911758, 0.015188, 0.05212, 0.013587, 0.312949, 0.630291, 0.036808, 0.016732, 0.885946, 0.066079, 0.021601, 0.026374, 46.2, 0.00251, 0.1852, 0.667, 0.601606, 34.362216, 57.909539, 2.261528, 0.0], [\"E14000669\", 0.2331, 0.1163, 0.3902, 0.2482, 256.537996, 386.812096, 2580, 0.309645, 25.999678, 0.052821, -0.017641, 530, 118000.0, 0.475092, 4.281567, 0.301634, 0.343178, 0.139422, 0.195345, 0.233, 0.206, 0.008, 0.048, 0.055, 0.068, 0.125, 0.051, 0.082, 0.031, 0.043, 0.05, 0.328, 0.222, 0.182, 0.114, 0.154, 0.977499, 0.008804, 0.00841, 0.004043, 0.328502, 0.66044, 0.0037, 0.004387, 0.969433, 0.017952, 0.007268, 0.005347, 39.1, 0.01489, 0.2484, 0.717, 0.585656, 27.621006, 60.765268, 1.668557, 0.0], [\"E14000683\", 0.186, 0.0848, 0.3627, 0.3539, 1052.838195, 96.763207, 4415, 0.088779, 43.336998, 0.033279, -0.009606, 560, 170000.0, 0.308195, 5.837912, 0.398657, 0.31676, 0.168893, 0.093344, 0.199, 0.171, 0.044, 0.066, 0.07, 0.042, 0.128, 0.035, 0.101, 0.047, 0.038, 0.06, 0.269, 0.1935, 0.1755, 0.1225, 0.2405, 0.985305, 0.006256, 0.005679, 0.001843, 0.303466, 0.68688, 0.002491, 0.003935, 0.966666, 0.019307, 0.008388, 0.005639, 31.3, 0.02749, 0.1996, 0.637, 0.666786, 58.273408, 30.461858, 3.955075, 0.0], [\"E14000689\", 0.2072, 0.101, 0.38, 0.3, 246.028167, 406.953403, 4330, 0.306184, 43.247238, 0.017125, -0.009309, 630, 215000.0, 0.433811, 6.562882, 0.378132, 0.388083, 0.089345, 0.12773, 0.199, 0.16, 0.006, 0.045, 0.057, 0.038, 0.123, 0.045, 0.094, 0.076, 0.097, 0.061, 0.229, 0.19, 0.171, 0.124, 0.285, 0.97085, 0.010108, 0.01333, 0.003634, 0.287925, 0.690945, 0.006163, 0.012648, 0.965078, 0.016583, 0.01073, 0.007609, 35.3, 0.02098, 0.2241, 0.568, 0.743246, 54.334755, 37.867388, 4.376742, 0.0], [\"E14000716\", 0.246, 0.13, 0.3886, 0.23, 28.059685, 3156.307662, 2300, 0.082353, 25.969627, 0.070802, -0.027061, 470, 110000.0, 0.692308, 4.500818, 0.265073, 0.339143, 0.196312, 0.185357, 0.254, 0.195, 0.005, 0.053, 0.043, 0.077, 0.139, 0.048, 0.085, 0.03, 0.023, 0.048, 0.312, 0.21875, 0.19275, 0.11775, 0.15775, 0.970899, 0.008307, 0.014902, 0.002844, 0.411183, 0.569303, 0.009168, 0.006414, 0.94999, 0.028048, 0.010562, 0.0114, 74.2, 0.00354, 0.1212, 0.714, 0.576276, 42.172236, 49.393317, 2.685735, 0.0], [\"E14000723\", 0.2431, 0.1221, 0.3977, 0.2221, 57.723332, 1823.058322, 3475, 0.268248, 33.021961, 0.05953, -0.010967, 510, 120000.0, 0.463415, 4.524887, 0.293378, 0.337259, 0.175779, 0.175592, 0.227, 0.15, 0.001, 0.047, 0.052, 0.047, 0.13, 0.044, 0.093, 0.041, 0.118, 0.05, 0.271, 0.207, 0.178, 0.135, 0.211, 0.826739, 0.014971, 0.149457, 0.005562, 0.318505, 0.534536, 0.134576, 0.009528, 0.889426, 0.038001, 0.011848, 0.060725, 45.5, 0.00316, 0.2259, 0.588, 0.679195, 41.699809, 52.835778, 2.216422, 0.0], [\"E14000724\", 0.1946, 0.0826, 0.3876, 0.3208, 431.815099, 207.917695, 3790, 0.186228, 42.213361, 0.016014, -0.008907, 700, 194975.0, 0.304181, 5.356456, 0.424198, 0.40006, 0.095904, 0.065128, 0.213, 0.148, 0.019, 0.043, 0.078, 0.041, 0.142, 0.034, 0.113, 0.058, 0.054, 0.057, 0.189, 0.1815, 0.1685, 0.1425, 0.3175, 0.971825, 0.008382, 0.01437, 0.002711, 0.306499, 0.67581, 0.007343, 0.008428, 0.961376, 0.016437, 0.011387, 0.0108, 69.0, 0.02324, 0.1467, 0.552, 0.721473, 60.95451, 31.006998, 4.825039, 0.0], [\"E14000730\", 0.196, 0.0844, 0.4078, 0.2866, 148.164474, 698.615512, 5145, 0.209166, 49.705342, 0.018806, -0.00652, 640, 264995.0, 0.568018, 7.96259, 0.362128, 0.350015, 0.177269, 0.091657, 0.135, 0.17, 0.008, 0.07, 0.058, 0.031, 0.142, 0.043, 0.095, 0.09, 0.086, 0.071, 0.169, 0.1655, 0.1755, 0.1305, 0.3595, 0.956964, 0.012474, 0.01875, 0.008901, 0.31636, 0.668305, 0.004451, 0.007322, 0.904978, 0.042641, 0.035931, 0.016451, 58.0, 0.00695, 0.1357, 0.472, 0.736012, 55.475855, 20.082834, 23.456116, 0.0], [\"E14000740\", 0.2218, 0.1139, 0.3912, 0.2616, 150.004819, 661.618743, 2275, 0.27451, 22.922838, 0.036603, -0.015031, 480, 135995.0, 0.478207, 5.448518, 0.308762, 0.341169, 0.110233, 0.225203, 0.207, 0.218, 0.004, 0.046, 0.059, 0.062, 0.128, 0.047, 0.089, 0.037, 0.047, 0.054, 0.33, 0.1905, 0.1705, 0.1135, 0.1955, 0.967136, 0.007629, 0.018726, 0.004546, 0.292481, 0.686723, 0.013583, 0.004631, 0.957181, 0.023133, 0.009486, 0.01019, 30.2, 0.01278, 0.2437, 0.681, 0.64042, 33.880376, 56.024726, 1.985025, 0.0], [\"E14000756\", 0.2943, 0.1788, 0.3755, 0.2057, 47.039502, 2146.940233, 3315, 0.267686, 32.824707, 0.059519, -0.015502, 480, 125000.0, 0.329787, 5.008013, 0.282579, 0.29964, 0.195694, 0.198015, 0.211, 0.188, 0.002, 0.06, 0.05, 0.048, 0.13, 0.041, 0.106, 0.049, 0.057, 0.057, 0.25, 0.18025, 0.15925, 0.15825, 0.25225, 0.719243, 0.045836, 0.161948, 0.056445, 0.326016, 0.503536, 0.137099, 0.029498, 0.834642, 0.043045, 0.053108, 0.069205, 65.7, 0.0043, 0.228, 0.519, 0.655608, 32.999498, 60.386914, 2.634941, 0.0], [\"E14000766\", 0.2244, 0.1012, 0.3868, 0.2601, 164.407452, 592.953656, 3605, 0.176183, 36.979669, 0.040471, -0.003897, 550, 157000.0, 0.365217, 5.48951, 0.3582, 0.366847, 0.156742, 0.098052, 0.204, 0.167, 0.005, 0.051, 0.046, 0.047, 0.143, 0.04, 0.107, 0.058, 0.075, 0.056, 0.243, 0.1835, 0.1665, 0.1285, 0.2785, 0.836089, 0.012568, 0.141719, 0.004992, 0.303139, 0.556016, 0.130859, 0.006341, 0.904714, 0.027226, 0.012723, 0.055337, 48.5, 0.01502, 0.1846, 0.533, 0.725266, 46.055227, 46.517384, 2.370731, 0.0], [\"E14000771\", 0.2527, 0.1419, 0.3853, 0.2295, 28.663363, 3142.05983, 1940, 0.179331, 21.540716, 0.061273, -0.036507, 450, 106000.0, 0.696, 4.529915, 0.226417, 0.327646, 0.146223, 0.279854, 0.265, 0.188, 0.003, 0.052, 0.063, 0.061, 0.133, 0.055, 0.072, 0.03, 0.026, 0.051, 0.341, 0.2195, 0.1765, 0.1275, 0.1355, 0.973134, 0.008517, 0.010551, 0.00484, 0.416209, 0.568629, 0.007255, 0.005167, 0.961582, 0.022178, 0.008528, 0.007712, 90.2, 0.01521, 0.2803, 0.728, 0.556376, 29.911567, 58.286479, 3.433594, 0.0], [\"E14000772\", 0.3239, 0.2055, 0.3716, 0.171, 24.81506, 3965.333988, 1545, 0.271605, 15.70122, 0.063436, -0.043317, 480, 120000.0, 0.791045, 4.807692, 0.189153, 0.293314, 0.226603, 0.274855, 0.237, 0.172, 0.004, 0.069, 0.057, 0.046, 0.135, 0.056, 0.106, 0.034, 0.031, 0.055, 0.279, 0.18175, 0.15975, 0.17575, 0.20375, 0.923629, 0.015388, 0.034911, 0.01639, 0.442228, 0.523557, 0.023056, 0.007552, 0.89261, 0.055583, 0.027707, 0.0241, 72.3, 0.00684, 0.2135, 0.598, 0.575242, 25.22224, 63.803136, 5.03475, 0.0], [\"E14000773\", 0.2551, 0.1539, 0.4019, 0.2173, 23.709232, 3682.447473, 3405, 0.20531, 38.999863, 0.070049, -0.041441, 500, 119995.0, 1.051197, 4.615192, 0.199848, 0.288196, 0.232535, 0.258501, 0.249, 0.186, 0.005, 0.065, 0.054, 0.05, 0.141, 0.058, 0.076, 0.035, 0.031, 0.05, 0.313, 0.20275, 0.17275, 0.13375, 0.17775, 0.93131, 0.01577, 0.028858, 0.012013, 0.385667, 0.572257, 0.031823, 0.007406, 0.89755, 0.055696, 0.029437, 0.017317, 67.3, 0.0089, 0.2214, 0.68, 0.575148, 29.848112, 53.065239, 6.393751, 0.0], [\"E14000777\", 0.4295, 0.3, 0.3308, 0.1101, 40.942761, 3804.066819, 6700, 0.380021, 43.017933, 0.067485, -0.039076, 480, 117500.0, 0.298343, 4.707532, 0.122867, 0.19326, 0.320008, 0.339848, 0.156, 0.173, 0.001, 0.094, 0.034, 0.05, 0.129, 0.068, 0.082, 0.063, 0.092, 0.058, 0.256, 0.161, 0.139, 0.209, 0.236, 0.746171, 0.038487, 0.117311, 0.074377, 0.383934, 0.483266, 0.097993, 0.031172, 0.787224, 0.061892, 0.085658, 0.065226, 49.9, 0.00909, 0.2118, 0.46, 0.533735, 20.462316, 70.171795, 2.229774, 0.0], [\"E14000778\", 0.2699, 0.1343, 0.3742, 0.1937, 33.696496, 3001.617697, 3305, 1.240678, 32.676184, 0.069813, -0.021842, 490, 154500.0, 0.66129, 6.063579, 0.231662, 0.289323, 0.127587, 0.330176, 0.196, 0.166, 0.001, 0.064, 0.046, 0.056, 0.16, 0.061, 0.083, 0.042, 0.07, 0.055, 0.332, 0.20825, 0.16525, 0.11725, 0.17625, 0.779854, 0.031227, 0.126168, 0.055002, 0.307275, 0.565593, 0.106098, 0.018683, 0.856228, 0.038849, 0.045073, 0.05985, 58.9, 0.00703, 0.1919, 0.614, 0.629719, 30.588065, 61.359523, 1.783258, 0.0], [\"E14000779\", 0.2426, 0.1284, 0.4087, 0.2145, 39.478484, 2344.720241, 3090, 0.492754, 33.381587, 0.034937, -0.017988, 630, 230000.0, 0.4375, 7.020757, 0.299883, 0.340386, 0.160048, 0.181027, 0.115, 0.129, 0.001, 0.048, 0.055, 0.032, 0.18, 0.044, 0.139, 0.09, 0.1, 0.068, 0.18, 0.14125, 0.14225, 0.11725, 0.41925, 0.702815, 0.043125, 0.163597, 0.071377, 0.305303, 0.473625, 0.097468, 0.119893, 0.819118, 0.044893, 0.065299, 0.07069, 62.5, 0.0033, 0.1691, 0.374, 0.757388, 31.028887, 63.087983, 3.683088, 0.0], [\"E14000780\", 0.3877, 0.2786, 0.3077, 0.215, 62.152749, 1386.422994, 2775, 0.287703, 32.203783, 0.021986, -0.01614, 600, 226997.5, 0.418734, 7.275561, 0.308618, 0.293178, 0.230737, 0.151434, 0.126, 0.152, 0.003, 0.089, 0.048, 0.028, 0.131, 0.044, 0.138, 0.082, 0.089, 0.071, 0.141, 0.123, 0.127, 0.269, 0.341, 0.905027, 0.023637, 0.048977, 0.00998, 0.395916, 0.542668, 0.031583, 0.026286, 0.914498, 0.028355, 0.031914, 0.025233, 54.3, 0.00824, 0.1626, 0.354, 0.680596, 19.653466, 44.107417, 34.981744, 0.0], [\"E14000781\", 0.2974, 0.1921, 0.3936, 0.1798, 30.242777, 3122.861363, 2520, 0.269521, 26.682479, 0.056881, -0.022439, 540, 133000.0, 0.33, 4.736467, 0.203223, 0.311639, 0.175541, 0.28945, 0.181, 0.167, 0.001, 0.063, 0.046, 0.056, 0.125, 0.059, 0.097, 0.057, 0.087, 0.061, 0.273, 0.194, 0.155, 0.147, 0.232, 0.891085, 0.02669, 0.050105, 0.023878, 0.409478, 0.529977, 0.036948, 0.019665, 0.902679, 0.041926, 0.032412, 0.022983, 61.1, 0.00425, 0.1894, 0.533, 0.622485, 26.162116, 63.967889, 2.143077, 0.0], [\"E14000826\", 0.2249, 0.1199, 0.4177, 0.2364, 68.603196, 1444.728615, 3265, 0.327236, 32.942197, 0.020349, -0.01522, 610, 165000.0, 0.320528, 5.201765, 0.294645, 0.433314, 0.125174, 0.130375, 0.211, 0.185, 0.002, 0.038, 0.062, 0.049, 0.117, 0.046, 0.086, 0.054, 0.101, 0.049, 0.242, 0.209, 0.178, 0.133, 0.239, 0.953675, 0.012426, 0.024738, 0.006187, 0.341911, 0.632243, 0.008519, 0.014561, 0.957158, 0.018343, 0.011265, 0.013234, 43.1, 0.01145, 0.227, 0.598, 0.687038, 50.709552, 46.690987, 2.599461, 0.0], [\"E14000836\", 0.2312, 0.1256, 0.4046, 0.2386, 86.377394, 1314.533756, 2850, 0.34434, 25.099959, 0.041256, -0.01121, 520, 140000.0, 0.489362, 5.177515, 0.278692, 0.352114, 0.102796, 0.252301, 0.252, 0.202, 0.003, 0.05, 0.051, 0.062, 0.121, 0.048, 0.073, 0.034, 0.051, 0.053, 0.34, 0.2095, 0.1745, 0.1145, 0.1615, 0.975232, 0.006885, 0.011446, 0.005028, 0.306283, 0.682308, 0.004506, 0.004496, 0.963207, 0.021363, 0.008088, 0.007332, 40.6, 0.01187, 0.211, 0.693, 0.603545, 30.023785, 59.498689, 1.408794, 0.0], [\"E14000876\", 0.2034, 0.0986, 0.393, 0.3022, 293.840211, 304.740456, 2870, 0.205882, 32.050924, 0.020541, -0.013472, 600, 163000.0, 0.381356, 5.224359, 0.371928, 0.386329, 0.081435, 0.147017, 0.229, 0.152, 0.009, 0.041, 0.062, 0.042, 0.147, 0.037, 0.106, 0.051, 0.063, 0.06, 0.249, 0.19425, 0.17225, 0.13025, 0.25425, 0.976875, 0.008014, 0.008163, 0.004575, 0.315188, 0.672843, 0.004437, 0.004231, 0.973963, 0.011717, 0.008679, 0.005641, 26.2, 0.03702, 0.3048, 0.607, 0.700069, 43.153835, 45.809147, 4.101472, 0.0], [\"E14000886\", 0.2236, 0.116, 0.403, 0.2414, 54.973425, 1667.969577, 3485, 0.276557, 38.006849, 0.019956, -0.010177, 590, 195000.0, 0.413043, 6.355932, 0.32982, 0.399595, 0.12953, 0.121535, 0.18, 0.144, 0.002, 0.04, 0.056, 0.037, 0.123, 0.046, 0.123, 0.08, 0.109, 0.059, 0.194, 0.18675, 0.15775, 0.12875, 0.33275, 0.932666, 0.013809, 0.044196, 0.005031, 0.348737, 0.604344, 0.018457, 0.025288, 0.946081, 0.019357, 0.014687, 0.019875, 52.9, 0.00286, 0.1957, 0.486, 0.744637, 47.350766, 46.737338, 3.263589, 0.0], [\"E14000895\", 0.2091, 0.1064, 0.3822, 0.3076, 2077.86104, 52.533831, 5945, 0.128083, 54.462339, 0.017065, -0.004035, 540, 203750.0, 0.205621, 7.256054, 0.382296, 0.287693, 0.17999, 0.124594, 0.155, 0.13, 0.047, 0.065, 0.199, 0.032, 0.114, 0.036, 0.082, 0.047, 0.033, 0.059, 0.19, 0.18575, 0.18075, 0.13575, 0.30875, 0.968584, 0.008266, 0.015321, 0.005648, 0.274573, 0.709928, 0.002619, 0.010177, 0.938584, 0.029916, 0.016412, 0.015088, 30.4, 0.07912, 0.225, 0.547, 0.706359, 63.946819, 23.415712, 5.893393, 0.0], [\"E14000903\", 0.2176, 0.1074, 0.3874, 0.2768, 166.704119, 581.977222, 2735, 0.251716, 28.190645, 0.03317, -0.01503, 550, 150000.0, 0.515152, 5.244755, 0.355188, 0.3854, 0.107015, 0.135161, 0.248, 0.166, 0.004, 0.041, 0.059, 0.052, 0.132, 0.042, 0.1, 0.043, 0.062, 0.051, 0.264, 0.21, 0.181, 0.13, 0.215, 0.969696, 0.008023, 0.01687, 0.003625, 0.289468, 0.692394, 0.011976, 0.003985, 0.971577, 0.012039, 0.007642, 0.008741, 38.2, 0.00578, 0.2224, 0.667, 0.659245, 40.290575, 48.134901, 2.333899, 0.0], [\"E14000904\", 0.2535, 0.1321, 0.3896, 0.2263, 45.085016, 2038.127241, 2310, 0.265753, 25.139026, 0.063911, -0.01679, 490, 105000.0, 0.280488, 4.120879, 0.258311, 0.30189, 0.122089, 0.29493, 0.249, 0.187, 0.002, 0.053, 0.048, 0.061, 0.135, 0.055, 0.085, 0.032, 0.044, 0.049, 0.331, 0.2145, 0.1765, 0.1215, 0.1565, 0.866205, 0.014058, 0.092467, 0.016333, 0.301214, 0.600042, 0.089813, 0.006633, 0.903888, 0.033792, 0.022665, 0.039656, 53.0, 0.00266, 0.2274, 0.683, 0.601009, 26.41405, 56.440682, 4.625162, 0.0], [\"E14000913\", 0.2029, 0.1025, 0.3633, 0.3321, 738.482116, 131.498107, 3720, 0.078261, 38.307469, 0.031596, -0.020954, 510, 157500.0, 0.22093, 5.938914, 0.377037, 0.270517, 0.201314, 0.127929, 0.202, 0.164, 0.021, 0.121, 0.046, 0.036, 0.156, 0.035, 0.091, 0.038, 0.026, 0.066, 0.254, 0.193, 0.176, 0.135, 0.242, 0.97348, 0.008337, 0.013604, 0.002433, 0.323545, 0.661927, 0.005493, 0.005185, 0.948665, 0.027115, 0.012054, 0.012166, 30.9, 0.02429, 0.2021, 0.613, 0.686463, 48.367658, 41.558802, 2.683899, 0.0], [\"E14000914\", 0.2382, 0.1199, 0.3933, 0.2418, 182.422834, 505.408221, 2320, 0.180662, 25.163236, 0.052114, -0.016668, 490, 120000.0, 0.412596, 4.709576, 0.299096, 0.348071, 0.143184, 0.193235, 0.313, 0.175, 0.01, 0.055, 0.045, 0.057, 0.129, 0.041, 0.077, 0.027, 0.029, 0.044, 0.274, 0.23, 0.182, 0.13, 0.184, 0.939442, 0.008837, 0.043602, 0.004458, 0.327292, 0.627556, 0.03134, 0.011667, 0.906485, 0.057111, 0.011431, 0.024973, 65.1, 0.00955, 0.1698, 0.687, 0.654032, 43.492861, 52.027262, 1.378041, 0.0], [\"E14000917\", 0.215, 0.099, 0.4047, 0.2671, 844.904355, 121.581809, 5055, 0.249691, 49.209053, 0.017488, -0.014689, 600, 201000.0, 0.34, 6.442308, 0.355054, 0.397754, 0.111707, 0.114338, 0.225, 0.161, 0.026, 0.048, 0.054, 0.048, 0.109, 0.045, 0.094, 0.065, 0.067, 0.058, 0.204, 0.19475, 0.17675, 0.13675, 0.28875, 0.981452, 0.007469, 0.00775, 0.002549, 0.280608, 0.711028, 0.001342, 0.00464, 0.954612, 0.026933, 0.011121, 0.007334, 30.3, 0.0358, 0.2408, 0.577, 0.740549, 58.707825, 34.148299, 4.089093, 0.0], [\"E14000919\", 0.5079, 0.3933, 0.2949, 0.1121, 20.151562, 6632.73651, 5075, 0.309677, 37.969475, 0.035545, -0.026324, 530, 141000.0, 0.175, 5.11611, 0.161991, 0.20136, 0.360039, 0.255513, 0.109, 0.15, 0.001, 0.104, 0.046, 0.03, 0.156, 0.04, 0.148, 0.065, 0.077, 0.072, 0.157, 0.10675, 0.10675, 0.29075, 0.33975, 0.720152, 0.030733, 0.151218, 0.057779, 0.455085, 0.394131, 0.113051, 0.032572, 0.775971, 0.049695, 0.077409, 0.096926, 50.5, 0.03533, 0.2038, 0.319, 0.619056, 12.981181, 70.938029, 5.14861, 0.0], [\"E14000920\", 0.2455, 0.1283, 0.3917, 0.2402, 44.305666, 2137.108146, 2980, 0.57672, 31.472446, 0.03737, -0.019895, 510, 125000.0, 0.385809, 4.713424, 0.285086, 0.368754, 0.090474, 0.242254, 0.238, 0.176, 0.001, 0.048, 0.057, 0.056, 0.13, 0.043, 0.086, 0.045, 0.066, 0.054, 0.309, 0.21625, 0.17325, 0.13025, 0.17325, 0.852881, 0.016767, 0.094998, 0.021944, 0.31545, 0.576767, 0.09997, 0.005844, 0.913956, 0.019824, 0.024226, 0.041994, 35.6, 0.00622, 0.2758, 0.663, 0.633636, 31.475365, 58.537481, 3.284705, 0.0], [\"E14000921\", 0.2764, 0.1419, 0.3829, 0.1825, 27.365525, 4122.413075, 1940, -0.122172, 17.196752, 0.061864, -0.036249, 470, 115000.0, 0.513158, 4.705401, 0.216497, 0.282503, 0.113535, 0.374641, 0.199, 0.162, 0.001, 0.057, 0.045, 0.059, 0.191, 0.052, 0.089, 0.035, 0.048, 0.061, 0.34, 0.20975, 0.16775, 0.11375, 0.16875, 0.753134, 0.033228, 0.105041, 0.064869, 0.350059, 0.492248, 0.147836, 0.006692, 0.853125, 0.02927, 0.0706, 0.047004, 55.3, 0.0057, 0.2671, 0.6, 0.596213, 21.614521, 67.334607, 2.534034, 0.0], [\"E14000922\", 0.2755, 0.144, 0.3611, 0.2631, 135.290581, 681.466512, 2775, 0.201299, 30.09892, 0.012517, -0.010312, 670, 275000.0, 0.609571, 7.893226, 0.4108, 0.362414, 0.130507, 0.085818, 0.132, 0.113, 0.003, 0.045, 0.065, 0.02, 0.186, 0.026, 0.183, 0.081, 0.084, 0.061, 0.13, 0.1155, 0.1305, 0.1805, 0.4435, 0.92296, 0.018913, 0.040098, 0.009759, 0.397936, 0.561887, 0.019999, 0.016921, 0.926194, 0.023737, 0.025303, 0.024766, 36.8, 0.00424, 0.2489, 0.34, 0.777469, 23.782883, 38.374255, 34.647492, 0.0], [\"E14000923\", 0.2464, 0.1381, 0.3964, 0.2336, 25.260075, 3766.1013, 1755, 0.38189, 18.448051, 0.04782, -0.020171, 510, 146500.0, 0.42233, 5.524133, 0.259634, 0.31796, 0.107693, 0.303929, 0.196, 0.161, 0.001, 0.051, 0.058, 0.043, 0.157, 0.043, 0.116, 0.046, 0.064, 0.065, 0.29, 0.1955, 0.1625, 0.1235, 0.2275, 0.898883, 0.026256, 0.030268, 0.034376, 0.397096, 0.562943, 0.027604, 0.008217, 0.927353, 0.024276, 0.031894, 0.016477, 45.8, 0.00108, 0.213, 0.572, 0.651161, 28.707095, 59.973771, 4.571971, 0.0], [\"E14000925\", 0.2035, 0.0977, 0.404, 0.2746, 95.073948, 1007.605153, 3310, 0.205829, 34.55223, 0.02988, -0.008336, 530, 172000.0, 0.295913, 6.240929, 0.343482, 0.385727, 0.144129, 0.107843, 0.187, 0.15, 0.003, 0.041, 0.065, 0.034, 0.128, 0.044, 0.132, 0.065, 0.091, 0.061, 0.192, 0.18325, 0.16925, 0.12925, 0.32625, 0.924729, 0.018355, 0.043477, 0.006651, 0.347546, 0.605258, 0.030459, 0.012745, 0.941666, 0.024964, 0.014415, 0.018954, 49.4, 0.01203, 0.2039, 0.522, 0.731995, 51.347504, 42.580766, 4.123982, 0.0], [\"E14000928\", 0.1917, 0.0826, 0.3777, 0.3338, 2094.24116, 47.862683, 6570, 0.127897, 65.545313, 0.014393, -0.007098, 560, 220000.0, 0.333333, 7.554945, 0.408458, 0.305157, 0.166745, 0.092524, 0.187, 0.157, 0.046, 0.07, 0.061, 0.034, 0.114, 0.041, 0.105, 0.063, 0.06, 0.062, 0.197, 0.173, 0.172, 0.132, 0.326, 0.975148, 0.008009, 0.012361, 0.00275, 0.293927, 0.69209, 0.005984, 0.004614, 0.943727, 0.024893, 0.022022, 0.009359, 40.5, 0.06988, 0.2221, 0.532, 0.746748, 62.652654, 28.277547, 0.0, 0.0], [\"E14000993\", 0.1893, 0.0887, 0.3728, 0.3414, 2136.849112, 47.624795, 6300, 0.111111, 61.906119, 0.017274, -0.006093, 530, 208000.0, 0.272171, 7.54717, 0.417971, 0.270037, 0.16375, 0.118835, 0.197, 0.157, 0.064, 0.074, 0.064, 0.034, 0.111, 0.037, 0.09, 0.057, 0.037, 0.079, 0.235, 0.17775, 0.17275, 0.12475, 0.29075, 0.98622, 0.005848, 0.005312, 0.001661, 0.27205, 0.720152, 0.001609, 0.003115, 0.957968, 0.023713, 0.012109, 0.006209, 32.4, 0.08294, 0.2218, 0.564, 0.712127, 60.026105, 26.052674, 6.899819, 0.0], [\"E14001009\", 0.2274, 0.1184, 0.409, 0.2408, 77.869706, 1289.821232, 3620, 0.210702, 36.042135, 0.038508, -0.014957, 520, 149995.0, 0.287511, 5.547152, 0.270281, 0.319342, 0.137709, 0.258789, 0.213, 0.191, 0.003, 0.05, 0.068, 0.061, 0.123, 0.051, 0.084, 0.044, 0.06, 0.051, 0.281, 0.20425, 0.17325, 0.12325, 0.21925, 0.917044, 0.012432, 0.05076, 0.014242, 0.323821, 0.618865, 0.045638, 0.007689, 0.912836, 0.041242, 0.021425, 0.024486, 45.1, 0.00596, 0.2424, 0.628, 0.659596, 44.963702, 49.665111, 2.037421, 0.0], [\"E14001028\", 0.2293, 0.1156, 0.3942, 0.2541, 90.291302, 1098.112419, 2545, 0.492669, 25.66818, 0.049537, -0.013531, 520, 123995.0, 0.449386, 4.585614, 0.291862, 0.343536, 0.123654, 0.221766, 0.259, 0.177, 0.003, 0.041, 0.055, 0.05, 0.13, 0.064, 0.093, 0.033, 0.05, 0.045, 0.325, 0.20525, 0.17925, 0.12525, 0.16525, 0.978891, 0.007403, 0.007802, 0.003974, 0.287421, 0.702324, 0.00495, 0.0028, 0.975871, 0.011975, 0.007141, 0.005012, 37.2, 0.00811, 0.275, 0.703, 0.590559, 31.274035, 64.95779, 3.768175, 0.0], [\"E14001061\", 0.3614, 0.2549, 0.3636, 0.1767, 23.512925, 4812.33184, 3295, 0.211397, 29.120122, 0.020601, -0.025101, 520, 210000.0, 0.468583, 7.766272, 0.252772, 0.277726, 0.25827, 0.189214, 0.128, 0.161, 0.002, 0.1, 0.056, 0.045, 0.13, 0.045, 0.125, 0.062, 0.079, 0.066, 0.181, 0.15075, 0.13975, 0.19075, 0.33775, 0.927328, 0.014565, 0.042948, 0.008279, 0.426671, 0.540126, 0.01307, 0.015351, 0.883393, 0.054245, 0.028134, 0.034228, 48.2, 0.00531, 0.2002, 0.388, 0.689401, 30.174427, 65.163502, 4.662071, 0.0], [\"E14001062\", 0.2424, 0.113, 0.3598, 0.2998, 248.422689, 389.420952, 3810, 0.257426, 39.383509, 0.010303, -0.011691, 650, 250000.0, 0.488095, 7.39645, 0.44173, 0.373661, 0.085837, 0.081291, 0.161, 0.164, 0.009, 0.054, 0.069, 0.049, 0.136, 0.038, 0.118, 0.063, 0.081, 0.058, 0.178, 0.17275, 0.15975, 0.16075, 0.33075, 0.960125, 0.009531, 0.0241, 0.003522, 0.325695, 0.656289, 0.007557, 0.007813, 0.937006, 0.026715, 0.016021, 0.020258, 38.9, 0.0126, 0.238, 0.447, 0.759188, 51.118812, 36.684835, 10.291326, 0.0], [\"E14000533\", 0.2163, 0.1134, 0.3979, 0.2796, 124.637738, 727.067108, 2960, 0.149515, 32.663871, 0.032759, -0.015123, 540, 140000.0, 0.4, 4.985755, 0.367575, 0.357107, 0.114674, 0.143541, 0.315, 0.172, 0.004, 0.043, 0.051, 0.05, 0.113, 0.04, 0.084, 0.041, 0.034, 0.053, 0.297, 0.20625, 0.16925, 0.13025, 0.19725, 0.983888, 0.0066, 0.006702, 0.002003, 0.388869, 0.600162, 0.001616, 0.004904, 0.973237, 0.015964, 0.006361, 0.004438, 28.5, 0.01201, 0.2383, 0.653, 0.674502, 56.547554, 38.429635, 2.40117, 0.0], [\"E14000535\", 0.2251, 0.1162, 0.3961, 0.2592, 107.725735, 994.191405, 2585, 0.126362, 24.136321, 0.03838, -0.012176, 480, 130000.0, 0.382979, 5.208333, 0.341735, 0.349153, 0.125631, 0.165142, 0.29, 0.193, 0.003, 0.045, 0.047, 0.059, 0.133, 0.042, 0.075, 0.035, 0.031, 0.047, 0.323, 0.218, 0.175, 0.127, 0.157, 0.979571, 0.008036, 0.008291, 0.002846, 0.405754, 0.582069, 0.002983, 0.00522, 0.969798, 0.018378, 0.006005, 0.005819, 65.8, 0.00561, 0.1615, 0.705, 0.641106, 41.693837, 42.575961, 1.938271, 0.0], [\"E14000546\", 0.2159, 0.111, 0.3902, 0.2793, 479.568098, 224.153776, 3415, 0.215302, 31.768328, 0.036365, -0.001447, 550, 144000.0, 0.333333, 5.034965, 0.335689, 0.35271, 0.126963, 0.16364, 0.246, 0.191, 0.014, 0.049, 0.053, 0.056, 0.149, 0.034, 0.084, 0.034, 0.035, 0.054, 0.288, 0.2, 0.177, 0.124, 0.21, 0.974212, 0.008863, 0.01077, 0.004422, 0.277859, 0.708067, 0.00524, 0.005655, 0.952778, 0.029294, 0.009681, 0.008246, 33.7, 0.00994, 0.2371, 0.683, 0.666883, 43.282297, 52.568421, 2.208612, 0.0], [\"E14000577\", 0.223, 0.117, 0.3994, 0.2662, 226.396312, 438.059256, 2830, 0.214592, 28.535417, 0.030444, -0.016682, 510, 126000.0, 0.467249, 4.751131, 0.331305, 0.335558, 0.12079, 0.195434, 0.265, 0.19, 0.008, 0.049, 0.05, 0.056, 0.142, 0.042, 0.077, 0.035, 0.035, 0.052, 0.328, 0.2, 0.173, 0.124, 0.174, 0.980502, 0.006891, 0.008373, 0.0038, 0.336943, 0.653287, 0.002202, 0.004043, 0.970277, 0.017232, 0.007134, 0.005356, 36.5, 0.01591, 0.2126, 0.704, 0.634981, 40.553322, 51.920721, 2.949333, 0.0], [\"E14000582\", 0.2089, 0.1066, 0.3734, 0.3008, 708.102486, 151.857961, 3625, 0.085329, 33.711209, 0.043628, 0.001, 460, 150000.0, 0.25, 6.270903, 0.355145, 0.279984, 0.17562, 0.165346, 0.221, 0.201, 0.049, 0.075, 0.034, 0.049, 0.138, 0.057, 0.071, 0.028, 0.019, 0.058, 0.348, 0.2025, 0.1725, 0.1125, 0.1645, 0.972513, 0.009589, 0.012047, 0.003845, 0.282168, 0.703326, 0.005674, 0.005468, 0.887072, 0.09266, 0.01011, 0.010159, 29.3, 0.04339, 0.2674, 0.756, 0.628213, 63.599897, 24.951608, 1.798083, 0.0], [\"E14000583\", 0.2114, 0.1044, 0.3998, 0.2774, 288.999652, 365.405285, 4420, 0.196211, 41.855268, 0.02665, -0.004635, 570, 192000.0, 0.477491, 6.477733, 0.367433, 0.392978, 0.116258, 0.107234, 0.256, 0.187, 0.01, 0.043, 0.045, 0.057, 0.105, 0.04, 0.097, 0.054, 0.054, 0.051, 0.248, 0.201, 0.171, 0.134, 0.247, 0.968295, 0.009412, 0.018243, 0.002371, 0.332553, 0.646751, 0.00466, 0.012383, 0.960369, 0.018142, 0.011528, 0.009961, 51.3, 0.01826, 0.1746, 0.608, 0.689448, 56.729811, 24.058183, 17.347956, 0.0], [\"E14000607\", 0.2299, 0.127, 0.398, 0.2631, 65.834582, 1489.278086, 2850, 0.205074, 29.067988, 0.024417, -0.010627, 620, 170000.0, 0.259726, 5.272953, 0.369863, 0.364778, 0.145798, 0.104628, 0.201, 0.171, 0.002, 0.041, 0.066, 0.043, 0.127, 0.039, 0.137, 0.059, 0.061, 0.053, 0.218, 0.1785, 0.1575, 0.1325, 0.3135, 0.918954, 0.017826, 0.046551, 0.009677, 0.392415, 0.56334, 0.017058, 0.023576, 0.91609, 0.032894, 0.023007, 0.027998, 67.9, 0.00151, 0.1507, 0.525, 0.751598, 46.809469, 45.254738, 4.048065, 0.0], [\"E14000625\", 0.2202, 0.1092, 0.3922, 0.2733, 171.491602, 600.647489, 4025, 0.332781, 39.075394, 0.015452, -0.010379, 580, 220000.0, 0.47651, 7.29443, 0.414088, 0.402075, 0.09626, 0.070594, 0.241, 0.179, 0.004, 0.037, 0.059, 0.039, 0.122, 0.04, 0.111, 0.057, 0.056, 0.056, 0.225, 0.2025, 0.1665, 0.1325, 0.2735, 0.883702, 0.014808, 0.09197, 0.005647, 0.329601, 0.57958, 0.008116, 0.079231, 0.923682, 0.019304, 0.031484, 0.025531, 55.9, 0.00624, 0.1621, 0.579, 0.708214, 60.38495, 30.768813, 3.719008, 0.0], [\"E14000632\", 0.219, 0.118, 0.4001, 0.2732, 47.343349, 1990.374617, 3010, 0.148855, 31.942779, 0.040595, -0.009627, 510, 150000.0, 0.401869, 5.656109, 0.324127, 0.307935, 0.126384, 0.228041, 0.204, 0.18, 0.002, 0.051, 0.056, 0.055, 0.164, 0.042, 0.094, 0.044, 0.054, 0.055, 0.271, 0.192, 0.18, 0.132, 0.227, 0.963871, 0.010778, 0.016161, 0.007732, 0.344576, 0.638276, 0.006874, 0.006713, 0.960771, 0.017727, 0.01081, 0.010692, 38.6, 0.005, 0.2539, 0.593, 0.666042, 34.763286, 54.804181, 5.449955, 0.0], [\"E14000648\", 0.2257, 0.1047, 0.4118, 0.2317, 553.870844, 222.091488, 5325, 0.519258, 43.289163, 0.032694, -0.009941, 550, 196000.0, 0.574297, 6.853147, 0.275842, 0.387155, 0.142027, 0.176601, 0.269, 0.206, 0.01, 0.038, 0.043, 0.068, 0.094, 0.051, 0.088, 0.043, 0.044, 0.048, 0.247, 0.21375, 0.18875, 0.12875, 0.22275, 0.963315, 0.01218, 0.011826, 0.011072, 0.37132, 0.614156, 0.004251, 0.007175, 0.899391, 0.068538, 0.022779, 0.009292, 51.6, 0.00558, 0.1496, 0.601, 0.723814, 49.225795, 44.742237, 2.575129, 0.0], [\"E14000660\", 0.2126, 0.0986, 0.3995, 0.2755, 748.51257, 135.142687, 5535, 0.182692, 54.717466, 0.024965, -0.002437, 610, 270000.0, 0.688028, 8.51198, 0.346046, 0.382802, 0.116036, 0.133683, 0.214, 0.178, 0.016, 0.046, 0.046, 0.061, 0.098, 0.047, 0.099, 0.067, 0.07, 0.06, 0.192, 0.2035, 0.1805, 0.1275, 0.2965, 0.967171, 0.012413, 0.013799, 0.005551, 0.331731, 0.650133, 0.005029, 0.0096, 0.944188, 0.028982, 0.017517, 0.009302, 57.1, 0.0259, 0.2176, 0.586, 0.740886, 63.711981, 24.666295, 7.21305, 0.0], [\"E14000662\", 0.2859, 0.1655, 0.3766, 0.2148, 29.516655, 3472.920672, 2925, 0.236786, 28.53408, 0.037251, -0.012918, 590, 149972.5, 0.268266, 4.888282, 0.289838, 0.314121, 0.177475, 0.197651, 0.225, 0.163, 0.001, 0.062, 0.044, 0.05, 0.153, 0.042, 0.103, 0.05, 0.054, 0.053, 0.215, 0.18325, 0.15525, 0.16625, 0.28125, 0.866611, 0.024541, 0.077978, 0.020952, 0.383073, 0.538391, 0.033033, 0.041237, 0.892388, 0.044965, 0.027641, 0.035007, 63.9, 0.00175, 0.1581, 0.543, 0.697679, 44.39308, 48.533037, 4.647436, 0.0], [\"E14000663\", 0.2793, 0.1442, 0.3886, 0.1789, 31.226841, 3719.972791, 3335, 0.336673, 28.709658, 0.060762, -0.020438, 550, 130000.0, 0.382979, 4.545455, 0.253509, 0.290236, 0.185911, 0.248501, 0.247, 0.16, 0.002, 0.066, 0.038, 0.071, 0.147, 0.055, 0.082, 0.039, 0.043, 0.051, 0.287, 0.21025, 0.16325, 0.12825, 0.21225, 0.690376, 0.038655, 0.205824, 0.044719, 0.315349, 0.470207, 0.141622, 0.068819, 0.799617, 0.062846, 0.043171, 0.094366, 64.0, 0.00362, 0.1441, 0.614, 0.649489, 33.50991, 58.336644, 2.712665, 0.0], [\"E14000664\", 0.1891, 0.0855, 0.3783, 0.346, 910.928945, 88.195682, 5265, 0.111932, 65.533981, 0.013859, -0.004968, 590, 249995.0, 0.351324, 8.148468, 0.444814, 0.28424, 0.126165, 0.116696, 0.226, 0.137, 0.036, 0.071, 0.051, 0.039, 0.114, 0.036, 0.112, 0.066, 0.042, 0.072, 0.214, 0.16225, 0.15825, 0.11925, 0.34725, 0.985306, 0.006711, 0.005974, 0.001322, 0.302594, 0.687682, 0.002034, 0.00436, 0.967333, 0.015876, 0.010944, 0.005847, 28.0, 0.08388, 0.2682, 0.512, 0.771721, 60.002824, 31.100845, 6.306106, 0.0], [\"E14000695\", 0.2299, 0.1236, 0.406, 0.2478, 60.051828, 1621.166305, 3095, 0.161351, 31.791195, 0.039661, -0.016727, 540, 140000.0, 0.296296, 4.985755, 0.321971, 0.386268, 0.136566, 0.138298, 0.271, 0.184, 0.002, 0.046, 0.047, 0.064, 0.11, 0.042, 0.091, 0.045, 0.047, 0.05, 0.269, 0.22125, 0.17725, 0.13425, 0.19925, 0.968368, 0.011834, 0.013195, 0.00538, 0.425157, 0.559479, 0.002541, 0.00925, 0.962137, 0.019947, 0.009888, 0.008028, 61.1, 0.00156, 0.1597, 0.632, 0.683156, 52.106225, 42.998333, 2.496937, 0.0], [\"E14000707\", 0.2027, 0.0964, 0.3764, 0.3151, 1201.076023, 81.1131, 3840, 0.139466, 39.415744, 0.037198, -0.002808, 560, 169950.0, 0.307811, 5.836195, 0.38392, 0.342289, 0.136769, 0.110458, 0.221, 0.158, 0.042, 0.042, 0.076, 0.046, 0.14, 0.036, 0.108, 0.047, 0.031, 0.053, 0.231, 0.1995, 0.1765, 0.1295, 0.2625, 0.98165, 0.007087, 0.008014, 0.002508, 0.287007, 0.702537, 0.002333, 0.004732, 0.959888, 0.02174, 0.010718, 0.007654, 36.9, 0.07172, 0.216, 0.62, 0.679575, 61.818182, 28.715605, 7.058824, 0.0], [\"E14000710\", 0.2249, 0.115, 0.406, 0.2552, 38.139767, 2500.251225, 2585, 0.159193, 27.108086, 0.029824, -0.010615, 560, 160000.0, 0.311475, 5.494505, 0.358859, 0.38038, 0.138261, 0.106911, 0.202, 0.178, 0.002, 0.042, 0.072, 0.046, 0.138, 0.04, 0.108, 0.053, 0.056, 0.061, 0.239, 0.19625, 0.16925, 0.14125, 0.25325, 0.924005, 0.025299, 0.031178, 0.016794, 0.412253, 0.554894, 0.015011, 0.014525, 0.940583, 0.026445, 0.017864, 0.015097, 67.1, 0.00183, 0.1103, 0.563, 0.726802, 42.836965, 51.91943, 2.035525, 0.0], [\"E14000714\", 0.2094, 0.0975, 0.3942, 0.28, 685.72552, 162.567962, 4460, 0.150968, 40.008253, 0.031293, -0.003574, 530, 193497.5, 0.382125, 7.020954, 0.32079, 0.350461, 0.159414, 0.14323, 0.224, 0.176, 0.018, 0.052, 0.066, 0.043, 0.116, 0.046, 0.094, 0.05, 0.056, 0.061, 0.221, 0.19675, 0.18675, 0.13575, 0.26075, 0.972287, 0.008842, 0.013239, 0.004177, 0.294585, 0.691832, 0.003286, 0.006888, 0.925243, 0.046862, 0.01571, 0.012185, 44.7, 0.01809, 0.2035, 0.61, 0.693651, 62.004135, 26.497977, 5.513049, 0.0], [\"E14000728\", 0.2268, 0.1042, 0.3864, 0.2735, 204.883496, 519.822252, 4655, 0.294854, 43.707689, 0.017964, -0.011047, 580, 220000.0, 0.471572, 7.29443, 0.402456, 0.383657, 0.111385, 0.08252, 0.197, 0.184, 0.007, 0.043, 0.059, 0.038, 0.122, 0.046, 0.122, 0.062, 0.067, 0.055, 0.209, 0.187, 0.168, 0.146, 0.289, 0.828833, 0.017057, 0.136556, 0.008712, 0.306302, 0.556228, 0.034899, 0.098567, 0.8897, 0.025412, 0.04236, 0.042528, 49.9, 0.00407, 0.1401, 0.524, 0.732344, 52.319525, 30.740651, 12.649745, 0.0], [\"E14000748\", 0.2175, 0.1092, 0.4028, 0.2755, 540.207158, 170.714139, 3965, 0.171344, 42.994546, 0.023308, -0.013167, 550, 185000.0, 0.34058, 6.468531, 0.351589, 0.36887, 0.134314, 0.126971, 0.229, 0.144, 0.01, 0.053, 0.048, 0.047, 0.132, 0.039, 0.116, 0.065, 0.056, 0.06, 0.209, 0.17975, 0.16875, 0.13975, 0.30275, 0.978678, 0.010386, 0.007822, 0.002024, 0.347885, 0.641025, 0.001958, 0.004852, 0.964771, 0.018604, 0.010133, 0.006491, 29.0, 0.03474, 0.2229, 0.505, 0.737399, 45.366089, 49.677827, 4.956084, 0.0], [\"E14000769\", 0.224, 0.1071, 0.4065, 0.2381, 233.4981, 433.690895, 3690, 0.240336, 36.438686, 0.032982, -0.009135, 550, 193000.0, 0.556452, 6.748252, 0.304023, 0.390217, 0.152339, 0.130652, 0.23, 0.194, 0.005, 0.04, 0.045, 0.055, 0.139, 0.046, 0.093, 0.052, 0.053, 0.05, 0.228, 0.21125, 0.18325, 0.13125, 0.24625, 0.938647, 0.014047, 0.03234, 0.010602, 0.375223, 0.590489, 0.007735, 0.022091, 0.9154, 0.042225, 0.022723, 0.019652, 59.0, 0.0075, 0.1441, 0.61, 0.693225, 57.922435, 36.5436, 3.275038, 0.0], [\"E14000782\", 0.2744, 0.1402, 0.3828, 0.1968, 23.301905, 5004.226006, 4170, 0.695122, 35.76084, 0.036923, -0.035101, 420, 177750.0, 0.51988, 8.138736, 0.275134, 0.306593, 0.179211, 0.216804, 0.262, 0.2, 0.001, 0.049, 0.044, 0.051, 0.129, 0.051, 0.08, 0.033, 0.055, 0.044, 0.323, 0.1885, 0.1535, 0.1205, 0.2135, 0.314403, 0.031036, 0.580658, 0.045604, 0.159574, 0.242407, 0.200009, 0.392057, 0.567352, 0.040269, 0.154875, 0.237495, 55.2, 0.00683, 0.1559, 0.541, 0.677251, 24.202655, 66.984587, 2.561804, 0.0], [\"E14000783\", 0.403, 0.2648, 0.3289, 0.1437, 21.198091, 6104.134661, 5745, 0.507874, 44.39859, 0.047499, -0.033267, 480, 157000.0, 0.292181, 6.290064, 0.227981, 0.23411, 0.276392, 0.240836, 0.189, 0.18, 0.001, 0.067, 0.049, 0.047, 0.131, 0.052, 0.136, 0.044, 0.053, 0.052, 0.246, 0.1535, 0.1395, 0.1915, 0.2695, 0.492241, 0.034036, 0.373989, 0.069857, 0.297032, 0.304887, 0.277918, 0.115453, 0.662117, 0.058707, 0.118705, 0.16047, 62.4, 0.00133, 0.1076, 0.424, 0.671208, 21.568977, 73.553457, 2.547657, 0.0], [\"E14000784\", 0.3223, 0.2013, 0.3734, 0.1514, 28.898159, 3779.271864, 2860, 0.525333, 26.187119, 0.052636, -0.030886, 490, 136750.0, 0.296209, 5.366954, 0.183291, 0.271834, 0.220258, 0.302016, 0.215, 0.188, 0.001, 0.064, 0.044, 0.066, 0.144, 0.06, 0.087, 0.034, 0.045, 0.052, 0.293, 0.1835, 0.1585, 0.1445, 0.2195, 0.723293, 0.040693, 0.145494, 0.071576, 0.400619, 0.433168, 0.064519, 0.095509, 0.769719, 0.080612, 0.091383, 0.058276, 66.4, 0.00776, 0.1766, 0.508, 0.580386, 31.357965, 60.841864, 2.111324, 0.0], [\"E14000792\", 0.3256, 0.2036, 0.3574, 0.2049, 63.883465, 1763.554932, 2830, 0.148073, 25.119384, 0.044482, -0.014201, 520, 150000.0, 0.363636, 5.547337, 0.25686, 0.314603, 0.204748, 0.203861, 0.201, 0.186, 0.008, 0.067, 0.096, 0.04, 0.142, 0.045, 0.088, 0.036, 0.036, 0.053, 0.215, 0.184, 0.175, 0.194, 0.232, 0.958442, 0.012527, 0.017746, 0.00774, 0.38664, 0.59205, 0.008774, 0.007702, 0.907856, 0.059896, 0.017661, 0.014586, 70.7, 0.00508, 0.1373, 0.574, 0.667437, 44.737058, 47.894002, 2.635576, 0.0], [\"E14000797\", 0.3337, 0.208, 0.3512, 0.2132, 130.581471, 835.539677, 3670, 0.30373, 33.637014, 0.024963, -0.009797, 620, 189200.0, 0.391176, 5.868486, 0.325929, 0.343032, 0.167869, 0.143602, 0.218, 0.169, 0.006, 0.06, 0.044, 0.042, 0.096, 0.037, 0.157, 0.061, 0.048, 0.062, 0.188, 0.16575, 0.14475, 0.21375, 0.28775, 0.869859, 0.015982, 0.096928, 0.010224, 0.375158, 0.541174, 0.034161, 0.045767, 0.879357, 0.03645, 0.032044, 0.052139, 58.7, 0.00787, 0.1377, 0.501, 0.681573, 49.903967, 42.020019, 3.577233, 0.0], [\"E14000798\", 0.1776, 0.0864, 0.346, 0.3825, 1376.307248, 72.67418, 3955, 0.029948, 39.541301, 0.035561, -0.000946, 500, 165000.0, 0.32, 6.346154, 0.43961, 0.275088, 0.161864, 0.099637, 0.199, 0.165, 0.046, 0.07, 0.077, 0.043, 0.136, 0.035, 0.101, 0.041, 0.025, 0.062, 0.306, 0.1935, 0.1705, 0.1215, 0.2095, 0.986541, 0.006255, 0.005006, 0.001497, 0.304619, 0.685534, 0.002281, 0.003313, 0.967167, 0.018042, 0.008701, 0.00609, 31.8, 0.05712, 0.2425, 0.689, 0.668991, 63.923367, 26.704061, 3.771011, 0.0], [\"E14000810\", 0.2224, 0.1188, 0.4029, 0.2517, 76.658224, 1419.821577, 2775, 0.222467, 25.495907, 0.038122, -0.010655, 470, 130000.0, 0.413812, 5.319149, 0.326255, 0.339432, 0.136107, 0.182492, 0.246, 0.19, 0.004, 0.059, 0.062, 0.05, 0.143, 0.043, 0.081, 0.033, 0.035, 0.053, 0.304, 0.20725, 0.17825, 0.13425, 0.17725, 0.971819, 0.010587, 0.012339, 0.00381, 0.368618, 0.616459, 0.005389, 0.006347, 0.944499, 0.040128, 0.007543, 0.00783, 61.7, 0.00164, 0.165, 0.709, 0.645873, 46.637558, 44.530175, 1.389637, 0.0], [\"E14000814\", 0.2017, 0.0947, 0.3956, 0.297, 92.144159, 915.228927, 2690, 0.192905, 31.897359, 0.016824, -0.011604, 680, 195000.0, 0.392857, 5.514706, 0.414912, 0.391964, 0.104387, 0.073198, 0.256, 0.146, 0.004, 0.043, 0.054, 0.046, 0.128, 0.036, 0.117, 0.061, 0.054, 0.056, 0.197, 0.188, 0.159, 0.134, 0.322, 0.965886, 0.012405, 0.014401, 0.005062, 0.333634, 0.651216, 0.003303, 0.007486, 0.959719, 0.018394, 0.012346, 0.009542, 50.0, 0.00693, 0.168, 0.525, 0.748629, 58.591253, 35.530365, 3.559588, 0.0], [\"E14000829\", 0.2111, 0.1023, 0.3893, 0.2922, 700.371747, 149.743333, 4995, 0.186461, 47.627675, 0.025329, -0.000818, 560, 192500.0, 0.375, 6.610577, 0.370871, 0.355137, 0.130244, 0.123792, 0.218, 0.166, 0.021, 0.052, 0.072, 0.043, 0.118, 0.038, 0.096, 0.059, 0.055, 0.061, 0.222, 0.18425, 0.17025, 0.13225, 0.29125, 0.969233, 0.011917, 0.011613, 0.005509, 0.316363, 0.667546, 0.006125, 0.006206, 0.942913, 0.035851, 0.012786, 0.00845, 49.9, 0.01912, 0.1751, 0.557, 0.730751, 62.666691, 29.693688, 5.061589, 0.0], [\"E14000843\", 0.206, 0.1032, 0.3832, 0.3125, 228.275226, 402.483447, 2985, 0.099448, 32.489089, 0.02622, -0.012655, 610, 180000.0, 0.555076, 5.674653, 0.379056, 0.330941, 0.075786, 0.201228, 0.24, 0.176, 0.008, 0.046, 0.056, 0.045, 0.132, 0.038, 0.095, 0.05, 0.055, 0.059, 0.264, 0.1965, 0.1785, 0.1295, 0.2315, 0.980672, 0.008158, 0.007707, 0.002254, 0.317593, 0.672402, 0.002903, 0.004024, 0.976417, 0.011412, 0.006882, 0.005288, 29.5, 0.02408, 0.274, 0.621, 0.699863, 49.19214, 43.515284, 2.759031, 0.0], [\"E14000858\", 0.2227, 0.1113, 0.4055, 0.2587, 279.328196, 365.612929, 4290, 0.213579, 42.006933, 0.020541, -0.009643, 600, 196995.0, 0.470661, 6.313942, 0.347092, 0.377709, 0.112733, 0.143069, 0.26, 0.174, 0.009, 0.047, 0.043, 0.078, 0.097, 0.045, 0.099, 0.054, 0.044, 0.052, 0.26, 0.18775, 0.16475, 0.13475, 0.25375, 0.975596, 0.009426, 0.011491, 0.002193, 0.337591, 0.648789, 0.002204, 0.00719, 0.961324, 0.02144, 0.00888, 0.008356, 56.7, 0.01154, 0.1557, 0.607, 0.712481, 58.185316, 33.370688, 6.387628, 0.0], [\"E14000861\", 0.2442, 0.1243, 0.3918, 0.2256, 22.364089, 3929.961126, 3400, 0.581395, 38.68472, 0.038612, -0.014191, 500, 189997.5, 0.51998, 7.307596, 0.289699, 0.37022, 0.154802, 0.166976, 0.189, 0.187, 0.001, 0.047, 0.045, 0.073, 0.136, 0.051, 0.095, 0.042, 0.082, 0.05, 0.247, 0.203, 0.172, 0.146, 0.232, 0.851715, 0.032834, 0.05808, 0.051594, 0.363479, 0.572524, 0.036639, 0.022264, 0.848002, 0.070157, 0.048415, 0.033425, 65.4, 0.00185, 0.1841, 0.603, 0.687059, 47.216306, 45.217693, 2.513745, 0.0], [\"E14000862\", 0.2545, 0.1433, 0.414, 0.1871, 32.915687, 3086.765322, 4015, 0.406305, 39.51655, 0.039656, -0.024053, 570, 179995.0, 0.499958, 6.072706, 0.22133, 0.334972, 0.209024, 0.206603, 0.177, 0.193, 0.001, 0.05, 0.044, 0.09, 0.131, 0.057, 0.076, 0.044, 0.084, 0.052, 0.235, 0.2035, 0.1765, 0.1365, 0.2485, 0.824099, 0.033787, 0.074988, 0.058676, 0.361673, 0.550873, 0.053987, 0.028468, 0.807841, 0.093297, 0.056561, 0.042301, 60.3, 0.00116, 0.1526, 0.59, 0.665496, 46.866014, 44.041527, 3.42399, 0.0], [\"E14000865\", 0.3887, 0.2621, 0.3576, 0.132, 18.691739, 5909.616096, 3485, 0.391218, 31.549597, 0.068852, -0.02039, 490, 122500.0, 0.195834, 4.807692, 0.169773, 0.230056, 0.296639, 0.282471, 0.146, 0.17, 0.002, 0.088, 0.05, 0.048, 0.14, 0.064, 0.112, 0.05, 0.062, 0.068, 0.226, 0.15125, 0.14525, 0.19925, 0.27925, 0.648285, 0.078266, 0.167761, 0.087823, 0.414654, 0.40826, 0.131941, 0.039294, 0.753197, 0.082536, 0.079122, 0.085144, 62.7, 0.00013, 0.1293, 0.429, 0.638617, 21.644163, 71.457269, 2.550411, 0.0], [\"E14000866\", 0.2775, 0.142, 0.3756, 0.1892, 23.345773, 4293.79654, 1795, 0.45935, 17.906666, 0.077877, -0.024623, 450, 118000.0, 0.433343, 5.042735, 0.197566, 0.288831, 0.125448, 0.368286, 0.199, 0.188, 0.001, 0.064, 0.044, 0.063, 0.167, 0.064, 0.081, 0.029, 0.039, 0.061, 0.358, 0.20525, 0.17225, 0.11725, 0.14625, 0.796912, 0.072654, 0.048505, 0.07707, 0.469844, 0.479891, 0.028205, 0.018622, 0.887838, 0.038005, 0.049905, 0.024252, 69.1, 0.00127, 0.1716, 0.638, 0.573962, 31.073358, 60.197291, 1.758919, 0.0], [\"E14000867\", 0.4591, 0.3212, 0.294, 0.149, 32.560461, 3696.692178, 4005, 0.308824, 33.273516, 0.044615, -0.016678, 510, 158750.0, 0.175926, 5.986048, 0.230561, 0.236044, 0.26838, 0.242234, 0.151, 0.175, 0.002, 0.083, 0.043, 0.051, 0.136, 0.052, 0.123, 0.057, 0.066, 0.063, 0.2, 0.13575, 0.12475, 0.27075, 0.26875, 0.704055, 0.049756, 0.170901, 0.054718, 0.396519, 0.43994, 0.101407, 0.056933, 0.778565, 0.058169, 0.071032, 0.092234, 66.1, 0.00763, 0.1571, 0.465, 0.678065, 30.856656, 62.359492, 3.2496, 0.0], [\"E14000908\", 0.2234, 0.1108, 0.3979, 0.2652, 309.270628, 323.490144, 4525, 0.271067, 45.229195, 0.016277, -0.00743, 680, 269000.0, 0.49486, 7.607466, 0.393583, 0.370471, 0.1375, 0.081946, 0.161, 0.152, 0.009, 0.041, 0.066, 0.029, 0.119, 0.037, 0.147, 0.093, 0.081, 0.065, 0.162, 0.14225, 0.14825, 0.14025, 0.40725, 0.924887, 0.018112, 0.046797, 0.005865, 0.369828, 0.582711, 0.01708, 0.027211, 0.931426, 0.026073, 0.020387, 0.022114, 62.1, 0.00633, 0.116, 0.415, 0.782306, 51.830701, 38.094013, 4.731526, 0.0], [\"E14000909\", 0.2094, 0.0947, 0.3862, 0.3018, 1117.664038, 93.675735, 5370, 0.175055, 51.290378, 0.018619, -0.003885, 560, 229950.0, 0.360611, 7.896635, 0.382002, 0.343274, 0.142496, 0.105224, 0.223, 0.154, 0.026, 0.049, 0.08, 0.035, 0.099, 0.04, 0.114, 0.065, 0.049, 0.063, 0.194, 0.18525, 0.17725, 0.13425, 0.30925, 0.96544, 0.00976, 0.018915, 0.00428, 0.301518, 0.677011, 0.002794, 0.015189, 0.942384, 0.028803, 0.018558, 0.010255, 44.6, 0.02734, 0.1732, 0.539, 0.735506, 62.827216, 22.694506, 8.183224, 0.0], [\"E14000924\", 0.2191, 0.1098, 0.3971, 0.267, 307.238592, 329.909727, 3115, 0.258586, 30.731741, 0.029386, -0.009201, 580, 165000.0, 0.5, 5.470822, 0.36331, 0.365004, 0.113746, 0.139156, 0.237, 0.168, 0.013, 0.057, 0.065, 0.046, 0.138, 0.041, 0.092, 0.043, 0.042, 0.057, 0.275, 0.2045, 0.1735, 0.1325, 0.2155, 0.974631, 0.009956, 0.010487, 0.004034, 0.365439, 0.62141, 0.003344, 0.006645, 0.970927, 0.014393, 0.007844, 0.006836, 55.0, 0.00758, 0.1504, 0.637, 0.701638, 51.517877, 41.777228, 2.085676, 0.0], [\"E14000929\", 0.1982, 0.0904, 0.3883, 0.3072, 1122.343148, 105.675346, 4660, 0.128329, 39.290412, 0.018853, -0.006314, 590, 190000.0, 0.357628, 6.19296, 0.380963, 0.369763, 0.124553, 0.103878, 0.199, 0.159, 0.03, 0.046, 0.129, 0.04, 0.128, 0.036, 0.094, 0.048, 0.04, 0.053, 0.22, 0.1905, 0.1815, 0.1365, 0.2715, 0.98281, 0.007132, 0.006708, 0.002188, 0.28202, 0.708399, 0.002026, 0.004151, 0.950394, 0.029571, 0.01284, 0.007195, 42.7, 0.02939, 0.1938, 0.616, 0.724785, 64.205055, 25.849203, 4.136967, 0.0], [\"E14000935\", 0.2276, 0.1115, 0.4153, 0.2402, 338.100133, 309.059329, 3715, 0.190705, 35.552621, 0.019303, -0.009445, 620, 197250.0, 0.483083, 6.118176, 0.33948, 0.414931, 0.130463, 0.099431, 0.268, 0.162, 0.012, 0.044, 0.039, 0.063, 0.121, 0.042, 0.095, 0.055, 0.045, 0.053, 0.22, 0.19825, 0.17525, 0.13725, 0.26925, 0.956834, 0.011225, 0.025103, 0.004492, 0.333524, 0.639693, 0.003499, 0.019744, 0.961506, 0.016298, 0.010009, 0.012187, 36.1, 0.03238, 0.2405, 0.604, 0.690639, 58.723946, 35.980696, 3.553039, 0.0], [\"E14000939\", 0.2009, 0.099, 0.3812, 0.3052, 779.542765, 138.688992, 4615, 0.27135, 42.686424, 0.025142, -0.010302, 520, 179995.0, 0.384577, 6.65662, 0.387563, 0.344078, 0.124095, 0.123349, 0.245, 0.202, 0.054, 0.036, 0.039, 0.063, 0.098, 0.059, 0.073, 0.044, 0.043, 0.046, 0.293, 0.2085, 0.1835, 0.1235, 0.1895, 0.978678, 0.008978, 0.008436, 0.002884, 0.272159, 0.718273, 0.002628, 0.004066, 0.911423, 0.070237, 0.010799, 0.007541, 28.6, 0.04142, 0.239, 0.711, 0.659897, 69.91752, 20.435258, 2.848057, 0.0], [\"E14000940\", 0.219, 0.1042, 0.4071, 0.2568, 284.490312, 375.844081, 5100, 0.201413, 47.69743, 0.016117, -0.008804, 580, 217000.0, 0.497068, 7.19496, 0.362611, 0.432976, 0.102486, 0.08521, 0.228, 0.197, 0.01, 0.04, 0.055, 0.05, 0.111, 0.04, 0.103, 0.052, 0.064, 0.051, 0.21, 0.21125, 0.17525, 0.13625, 0.26725, 0.932909, 0.014355, 0.042676, 0.007376, 0.35289, 0.603748, 0.006074, 0.034097, 0.944908, 0.020866, 0.017973, 0.016253, 40.7, 0.01231, 0.216, 0.581, 0.719137, 61.378751, 28.513468, 4.238918, 0.0], [\"E14000942\", 0.2152, 0.094, 0.4192, 0.2358, 610.350346, 194.765188, 6930, 0.346939, 58.29653, 0.011204, -0.007031, 650, 280000.0, 0.555556, 8.284024, 0.309471, 0.450183, 0.123733, 0.089, 0.187, 0.173, 0.014, 0.039, 0.054, 0.046, 0.098, 0.049, 0.102, 0.074, 0.096, 0.069, 0.161, 0.19425, 0.17925, 0.13725, 0.32825, 0.944557, 0.016194, 0.025718, 0.010704, 0.337623, 0.63431, 0.007959, 0.016912, 0.925895, 0.029504, 0.030139, 0.014462, 43.3, 0.04112, 0.2066, 0.533, 0.759372, 62.461922, 27.322379, 5.574018, 0.0], [\"E14001025\", 0.2224, 0.1049, 0.4018, 0.2455, 165.543635, 687.564942, 6380, 0.838617, 56.052433, 0.031151, -0.017816, 520, 190000.0, 0.583333, 7.026627, 0.296431, 0.384729, 0.13229, 0.166105, 0.225, 0.208, 0.005, 0.035, 0.051, 0.072, 0.103, 0.051, 0.089, 0.048, 0.063, 0.052, 0.254, 0.22375, 0.18375, 0.12775, 0.21175, 0.896306, 0.024605, 0.046996, 0.029107, 0.377924, 0.571379, 0.012858, 0.032743, 0.894347, 0.049464, 0.033101, 0.023088, 54.6, 0.00705, 0.1425, 0.63, 0.673026, 57.436138, 34.032682, 3.347107, 0.0], [\"E14000531\", 0.2145, 0.1055, 0.3842, 0.2926, 44.033494, 1759.478824, 2505, 0.195704, 32.332593, 0.032333, -0.01672, 580, 179995.0, 0.333296, 5.968004, 0.388985, 0.366956, 0.082004, 0.145424, 0.258, 0.176, 0.001, 0.039, 0.053, 0.049, 0.118, 0.042, 0.108, 0.045, 0.055, 0.057, 0.295, 0.18925, 0.17125, 0.12825, 0.21625, 0.931288, 0.015525, 0.040364, 0.009705, 0.258282, 0.701743, 0.007223, 0.029763, 0.961377, 0.013836, 0.009393, 0.015395, 50.0, 0.00189, 0.1791, 0.678, 0.667992, 65.408227, 29.849633, 3.33789, 0.0], [\"E14000560\", 0.3332, 0.1916, 0.3595, 0.1816, 28.310222, 3739.144126, 2955, 0.337104, 27.915281, 0.078138, -0.00408, 540, 199700.0, 0.396503, 7.111823, 0.252159, 0.262585, 0.20212, 0.251983, 0.126, 0.129, 0.001, 0.062, 0.05, 0.036, 0.199, 0.045, 0.138, 0.074, 0.072, 0.068, 0.219, 0.1365, 0.1345, 0.1725, 0.3375, 0.686708, 0.051932, 0.163605, 0.076878, 0.316886, 0.524035, 0.070054, 0.084396, 0.80304, 0.049437, 0.070531, 0.076982, 61.2, 0.01978, 0.1442, 0.473, 0.642082, 39.454737, 55.315051, 3.586169, 0.0], [\"E14000561\", 0.2795, 0.1494, 0.3891, 0.1819, 22.031576, 4723.720128, 2440, 0.564103, 23.445532, 0.108057, -0.004329, 450, 140000.0, 0.349398, 5.982906, 0.214373, 0.299941, 0.167138, 0.288822, 0.198, 0.178, 0.001, 0.057, 0.046, 0.065, 0.142, 0.056, 0.1, 0.042, 0.057, 0.058, 0.336, 0.185, 0.167, 0.129, 0.183, 0.730819, 0.055779, 0.10397, 0.101884, 0.318231, 0.575303, 0.077717, 0.02474, 0.849864, 0.055595, 0.053233, 0.041308, 62.7, 0.02407, 0.2128, 0.63, 0.573701, 38.385684, 57.960072, 2.015208, 0.0], [\"E14000562\", 0.3109, 0.1594, 0.3799, 0.158, 19.760734, 6079.379571, 3540, 0.427419, 29.46734, 0.102352, -0.004486, 550, 180000.0, 0.323529, 6.293706, 0.291713, 0.290974, 0.21616, 0.178295, 0.14, 0.159, 0.001, 0.061, 0.046, 0.061, 0.132, 0.048, 0.144, 0.065, 0.08, 0.061, 0.276, 0.1635, 0.1435, 0.1275, 0.2895, 0.355277, 0.03842, 0.495082, 0.060904, 0.187379, 0.266212, 0.465817, 0.076934, 0.68222, 0.042578, 0.084682, 0.19052, 58.1, 0.00531, 0.1275, 0.336, 0.69626, 15.096667, 77.597128, 5.7761, 0.0], [\"E14000563\", 0.3333, 0.1546, 0.3489, 0.1325, 20.509354, 6316.044907, 2055, 0.748936, 15.864071, 0.129357, -0.025152, 460, 130000.0, 0.27451, 5.434783, 0.25649, 0.275587, 0.151736, 0.282147, 0.174, 0.19, 0.001, 0.071, 0.037, 0.099, 0.128, 0.065, 0.102, 0.033, 0.052, 0.049, 0.392, 0.19275, 0.15675, 0.11675, 0.14175, 0.356654, 0.041503, 0.498249, 0.083918, 0.171313, 0.293669, 0.521187, 0.012098, 0.71201, 0.037057, 0.052532, 0.198401, 60.6, 0.00512, 0.2566, 0.515, 0.614983, 14.182868, 81.057895, 1.735138, 0.0], [\"E14000564\", 0.4066, 0.2671, 0.3563, 0.0918, 25.736807, 5739.445382, 12335, 0.725175, 83.505399, 0.132817, -0.023952, 530, 160000.0, 0.259843, 5.805515, 0.131733, 0.155169, 0.296327, 0.381901, 0.115, 0.154, 0.001, 0.107, 0.043, 0.055, 0.137, 0.065, 0.106, 0.073, 0.081, 0.062, 0.263, 0.15425, 0.13925, 0.17025, 0.27325, 0.273322, 0.059025, 0.40479, 0.226437, 0.228489, 0.32533, 0.352237, 0.086761, 0.597105, 0.068765, 0.151248, 0.182883, 39.4, 0.02267, 0.1444, 0.356, 0.59212, 13.198731, 82.712373, 2.798557, 0.0], [\"E14000565\", 0.2621, 0.1376, 0.3728, 0.218, 24.426213, 4254.36391, 1815, 0.417969, 17.465694, 0.085446, -0.007707, 520, 155000.0, 0.435185, 5.732249, 0.250932, 0.318027, 0.102553, 0.300854, 0.183, 0.142, 0.001, 0.05, 0.051, 0.045, 0.186, 0.052, 0.121, 0.045, 0.064, 0.059, 0.3, 0.19075, 0.17175, 0.13175, 0.20675, 0.858433, 0.046844, 0.042052, 0.04427, 0.352892, 0.607787, 0.022599, 0.012759, 0.915344, 0.029185, 0.032951, 0.02252, 65.8, 0.02169, 0.2294, 0.618, 0.61529, 42.682872, 53.206458, 2.162443, 0.0], [\"E14000566\", 0.3026, 0.1594, 0.3858, 0.1641, 24.868516, 4521.540488, 2745, 0.491848, 24.412152, 0.107209, 0.006148, 480, 140000.0, 0.296296, 5.608974, 0.301098, 0.317599, 0.182613, 0.177649, 0.178, 0.171, 0.001, 0.061, 0.056, 0.068, 0.133, 0.056, 0.105, 0.043, 0.068, 0.06, 0.29, 0.18475, 0.16375, 0.14775, 0.21375, 0.396732, 0.041143, 0.388449, 0.152405, 0.191185, 0.416584, 0.226613, 0.149706, 0.702045, 0.048455, 0.088524, 0.160977, 61.0, 0.0055, 0.2031, 0.512, 0.63277, 26.531213, 68.124533, 2.443605, 0.0], [\"E14000567\", 0.3662, 0.255, 0.3328, 0.182, 21.872699, 5030.197634, 2120, 0.308642, 19.268523, 0.06779, -0.005613, 580, 180000.0, 0.384615, 5.96817, 0.260231, 0.305313, 0.187526, 0.217945, 0.15, 0.138, 0.001, 0.057, 0.05, 0.039, 0.166, 0.043, 0.16, 0.058, 0.07, 0.069, 0.227, 0.143, 0.139, 0.211, 0.28, 0.775683, 0.043808, 0.12393, 0.044904, 0.342558, 0.53552, 0.073337, 0.043943, 0.857207, 0.043453, 0.044539, 0.054801, 66.2, 0.01451, 0.1486, 0.469, 0.660522, 31.905685, 62.949883, 3.356129, 0.0], [\"E14000568\", 0.2854, 0.1463, 0.3752, 0.1768, 22.601358, 5012.088255, 2825, 0.323185, 24.938206, 0.08887, -0.009851, 490, 150000.0, 0.315789, 5.88697, 0.259126, 0.333438, 0.158226, 0.225541, 0.201, 0.17, 0.001, 0.065, 0.043, 0.071, 0.133, 0.059, 0.096, 0.039, 0.066, 0.055, 0.334, 0.195, 0.168, 0.126, 0.177, 0.656374, 0.040951, 0.236898, 0.05283, 0.244561, 0.509565, 0.206037, 0.0371, 0.821207, 0.050348, 0.038159, 0.090286, 62.4, 0.00739, 0.1637, 0.601, 0.614555, 19.828322, 57.071592, 17.940767, 0.0], [\"E14000605\", 0.2082, 0.0988, 0.3948, 0.2858, 217.034253, 454.591838, 5640, 0.370595, 57.164866, 0.023414, -0.006043, 690, 268500.0, 0.471233, 7.483278, 0.406216, 0.388665, 0.088013, 0.099739, 0.203, 0.145, 0.007, 0.045, 0.054, 0.03, 0.141, 0.045, 0.117, 0.073, 0.076, 0.064, 0.213, 0.17825, 0.16725, 0.12625, 0.31425, 0.957912, 0.014909, 0.020558, 0.004742, 0.289747, 0.688916, 0.005361, 0.012965, 0.960432, 0.017963, 0.011032, 0.010573, 40.3, 0.01165, 0.2349, 0.554, 0.737329, 61.978164, 31.310141, 4.603997, 0.0], [\"E14000610\", 0.231, 0.1196, 0.402, 0.2396, 243.342338, 440.733005, 3965, 0.223765, 36.970042, 0.027577, -0.010954, 520, 164972.5, 0.434543, 6.101054, 0.337065, 0.344257, 0.156821, 0.143587, 0.263, 0.178, 0.011, 0.054, 0.039, 0.066, 0.125, 0.045, 0.087, 0.041, 0.037, 0.053, 0.254, 0.202, 0.177, 0.132, 0.235, 0.896565, 0.014815, 0.075284, 0.009734, 0.290545, 0.631319, 0.065657, 0.00917, 0.90808, 0.043327, 0.01464, 0.033953, 31.3, 0.01431, 0.2709, 0.648, 0.676826, 57.975196, 37.845365, 2.528501, 0.0], [\"E14000618\", 0.2294, 0.1204, 0.4114, 0.2471, 78.894781, 1268.89255, 3385, 0.130217, 33.813144, 0.028728, -0.021659, 540, 160500.0, 0.433676, 5.715812, 0.304643, 0.386534, 0.121434, 0.169191, 0.281, 0.189, 0.003, 0.048, 0.058, 0.058, 0.118, 0.043, 0.077, 0.035, 0.037, 0.051, 0.282, 0.2095, 0.1885, 0.1375, 0.1825, 0.977366, 0.008896, 0.010076, 0.002873, 0.29746, 0.691469, 0.002247, 0.00592, 0.975242, 0.013872, 0.00472, 0.006167, 38.7, 0.00398, 0.2183, 0.689, 0.643279, 54.975769, 37.447777, 1.65859, 0.0], [\"E14000649\", 0.2981, 0.1771, 0.3854, 0.162, 27.184868, 4686.614699, 3205, 0.544578, 25.155999, 0.050951, -0.037215, 480, 154995.0, 0.589692, 6.209736, 0.263243, 0.302557, 0.214054, 0.200602, 0.184, 0.184, 0.002, 0.058, 0.039, 0.079, 0.148, 0.056, 0.093, 0.036, 0.065, 0.055, 0.283, 0.2075, 0.1635, 0.1305, 0.2145, 0.67044, 0.030069, 0.206305, 0.073549, 0.262978, 0.516826, 0.107998, 0.106189, 0.756151, 0.073223, 0.070789, 0.099827, 59.3, 0.01129, 0.2016, 0.578, 0.615584, 29.928184, 63.427797, 2.487744, 0.0], [\"E14000650\", 0.2879, 0.1821, 0.3801, 0.2015, 38.554592, 2943.047647, 2685, 0.459239, 23.663059, 0.035924, -0.026123, 550, 170000.0, 0.491228, 5.944056, 0.319646, 0.344596, 0.196511, 0.122621, 0.201, 0.168, 0.002, 0.053, 0.051, 0.06, 0.114, 0.05, 0.128, 0.045, 0.069, 0.06, 0.235, 0.20275, 0.16575, 0.15075, 0.24475, 0.817313, 0.023099, 0.114353, 0.033508, 0.306963, 0.577197, 0.039129, 0.072448, 0.838498, 0.066698, 0.039734, 0.05507, 56.4, 0.01205, 0.1985, 0.584, 0.664091, 36.738952, 53.950932, 2.579791, 0.0], [\"E14000651\", 0.4139, 0.28, 0.3137, 0.1711, 32.887521, 3828.564667, 4170, 0.263636, 33.118368, 0.037658, -0.029475, 580, 187500.0, 0.549587, 6.216844, 0.296383, 0.29132, 0.207516, 0.187478, 0.171, 0.172, 0.002, 0.059, 0.048, 0.056, 0.112, 0.05, 0.137, 0.055, 0.077, 0.061, 0.2, 0.166, 0.148, 0.2, 0.286, 0.734005, 0.024409, 0.16352, 0.059255, 0.314434, 0.518598, 0.073719, 0.088068, 0.773426, 0.069144, 0.069655, 0.087775, 38.9, 0.02223, 0.1931, 0.504, 0.666181, 38.135251, 55.040524, 2.8569, 0.0], [\"E14000671\", 0.2431, 0.1239, 0.3904, 0.2358, 23.052476, 3702.942788, 2130, 0.279279, 24.952555, 0.07378, 0.001078, 540, 142000.0, 0.340255, 5.05698, 0.318485, 0.311061, 0.088637, 0.254504, 0.266, 0.176, 0.001, 0.045, 0.062, 0.047, 0.13, 0.045, 0.092, 0.035, 0.05, 0.051, 0.327, 0.18825, 0.17525, 0.12625, 0.18225, 0.854909, 0.024206, 0.087899, 0.028885, 0.262737, 0.648699, 0.052648, 0.032493, 0.929437, 0.015268, 0.019306, 0.03599, 59.3, 0.0007, 0.204, 0.714, 0.628306, 46.435364, 46.491904, 0.945772, 0.0], [\"E14000672\", 0.234, 0.1201, 0.3833, 0.2592, 25.395315, 3204.764332, 2805, 0.113095, 34.465387, 0.056752, -0.008877, 570, 150000.0, 0.315789, 5.060729, 0.350039, 0.33278, 0.093507, 0.204997, 0.27, 0.183, 0.001, 0.041, 0.06, 0.043, 0.132, 0.044, 0.091, 0.039, 0.048, 0.049, 0.311, 0.19525, 0.18225, 0.12725, 0.18325, 0.923212, 0.017515, 0.04486, 0.011764, 0.292349, 0.661661, 0.028839, 0.014049, 0.958505, 0.010471, 0.011124, 0.0199, 59.8, 0.00211, 0.186, 0.704, 0.62448, 56.44807, 36.235749, 1.634243, 0.0], [\"E14000722\", 0.231, 0.1167, 0.3906, 0.2533, 29.750093, 3009.368748, 2745, 0.111336, 30.660456, 0.049649, -0.016524, 540, 160000.0, 0.385281, 5.698006, 0.337656, 0.342198, 0.0962, 0.202331, 0.233, 0.178, 0.001, 0.043, 0.059, 0.05, 0.12, 0.043, 0.103, 0.049, 0.063, 0.059, 0.306, 0.191, 0.174, 0.13, 0.201, 0.890585, 0.019984, 0.061018, 0.014682, 0.297942, 0.630344, 0.044217, 0.024771, 0.943277, 0.013754, 0.018472, 0.024496, 59.6, 0.00142, 0.1549, 0.666, 0.645826, 51.853354, 40.016675, 1.9356, 0.0], [\"E14000743\", 0.2182, 0.1149, 0.3901, 0.2805, 724.19897, 140.392356, 4650, 0.085181, 45.735306, 0.02274, -0.010298, 520, 195000.0, 0.326531, 7.211538, 0.360475, 0.29532, 0.157485, 0.160408, 0.231, 0.174, 0.038, 0.057, 0.058, 0.032, 0.134, 0.045, 0.089, 0.044, 0.04, 0.058, 0.24, 0.181, 0.176, 0.137, 0.266, 0.978696, 0.007949, 0.009385, 0.001959, 0.317708, 0.667952, 0.002646, 0.006483, 0.925625, 0.04984, 0.014637, 0.009888, 31.2, 0.03493, 0.2968, 0.604, 0.711161, 53.490215, 23.75208, 7.043816, 0.0], [\"E14000767\", 0.2296, 0.1144, 0.3692, 0.3021, 620.534606, 135.834487, 5025, 0.082974, 59.615613, 0.013284, -0.005144, 720, 325000.0, 0.666667, 8.680556, 0.412522, 0.356128, 0.111562, 0.099134, 0.184, 0.144, 0.017, 0.048, 0.053, 0.034, 0.106, 0.042, 0.129, 0.094, 0.08, 0.068, 0.164, 0.15625, 0.15325, 0.13725, 0.38925, 0.956617, 0.011208, 0.026139, 0.003359, 0.303353, 0.672139, 0.00443, 0.016574, 0.931743, 0.02923, 0.020322, 0.018704, 42.0, 0.02697, 0.2124, 0.462, 0.775343, 60.807467, 25.586017, 9.588667, 0.0], [\"E14000791\", 0.2067, 0.0971, 0.3883, 0.2999, 329.124163, 293.017077, 4315, 0.149134, 44.743309, 0.022419, -0.007191, 680, 230000.0, 0.4375, 6.504525, 0.389927, 0.368756, 0.096951, 0.127232, 0.219, 0.168, 0.013, 0.048, 0.056, 0.045, 0.117, 0.043, 0.108, 0.062, 0.06, 0.06, 0.22, 0.179, 0.169, 0.13, 0.303, 0.974523, 0.009808, 0.010948, 0.003807, 0.291757, 0.69508, 0.003613, 0.00656, 0.964285, 0.019336, 0.009174, 0.007205, 50.1, 0.01525, 0.1601, 0.575, 0.721094, 63.556535, 28.841267, 4.956655, 0.0], [\"E14000799\", 0.1789, 0.0815, 0.3672, 0.3663, 1554.970676, 55.702015, 5245, 0.070408, 60.555331, 0.022914, -0.00242, 610, 219975.0, 0.277068, 6.934899, 0.429868, 0.262288, 0.154503, 0.122295, 0.23, 0.157, 0.057, 0.059, 0.043, 0.031, 0.114, 0.039, 0.099, 0.056, 0.046, 0.07, 0.236, 0.17075, 0.17375, 0.12675, 0.29375, 0.986566, 0.005633, 0.005751, 0.001226, 0.290453, 0.698304, 0.002428, 0.004372, 0.965247, 0.018019, 0.010465, 0.006269, 26.4, 0.11257, 0.2847, 0.579, 0.736543, 62.903742, 24.308585, 10.678407, 0.0], [\"E14000812\", 0.2334, 0.1118, 0.3836, 0.2562, 145.561787, 773.279874, 4405, 0.20191, 39.134684, 0.049662, -0.012005, 580, 267000.0, 0.376289, 8.852785, 0.339323, 0.347486, 0.091369, 0.20756, 0.208, 0.158, 0.003, 0.051, 0.044, 0.051, 0.116, 0.058, 0.097, 0.069, 0.086, 0.059, 0.248, 0.1885, 0.1705, 0.1225, 0.2715, 0.918716, 0.02482, 0.033062, 0.019748, 0.30164, 0.663295, 0.010625, 0.021862, 0.943397, 0.02304, 0.019396, 0.014167, 59.5, 0.01477, 0.1585, 0.588, 0.672127, 61.989642, 26.856139, 4.873451, 0.0], [\"E14000818\", 0.2017, 0.0961, 0.3878, 0.3019, 440.829717, 234.628012, 5025, 0.165893, 48.583113, 0.020824, -0.010877, 570, 255000.0, 0.473988, 8.603239, 0.373137, 0.349704, 0.109497, 0.150259, 0.22, 0.179, 0.024, 0.05, 0.057, 0.042, 0.109, 0.048, 0.088, 0.066, 0.056, 0.06, 0.227, 0.18675, 0.16875, 0.12875, 0.28875, 0.976412, 0.008777, 0.010989, 0.002234, 0.269856, 0.71601, 0.003822, 0.006553, 0.940606, 0.037606, 0.012938, 0.008851, 32.2, 0.02046, 0.2488, 0.594, 0.725653, 65.288896, 22.946505, 6.262593, 0.0], [\"E14000834\", 0.2828, 0.1692, 0.3712, 0.2435, 81.083322, 1166.281773, 2525, 0.147727, 26.700928, 0.029564, -0.016889, 540, 129000.0, 0.357895, 4.594017, 0.332398, 0.330307, 0.110446, 0.20898, 0.208, 0.19, 0.004, 0.051, 0.044, 0.048, 0.146, 0.04, 0.112, 0.042, 0.055, 0.06, 0.264, 0.17, 0.165, 0.164, 0.237, 0.937759, 0.013424, 0.036618, 0.008522, 0.326033, 0.643206, 0.014605, 0.012446, 0.94021, 0.022092, 0.014841, 0.022857, 57.8, 0.00573, 0.1909, 0.616, 0.670986, 48.113681, 48.182108, 3.704211, 0.0], [\"E14000847\", 0.19, 0.0888, 0.3669, 0.3459, 1455.512152, 62.132769, 5585, 0.111443, 61.757063, 0.018748, -0.004853, 530, 249475.0, 0.344879, 9.052068, 0.432492, 0.268476, 0.152372, 0.115038, 0.217, 0.158, 0.073, 0.047, 0.05, 0.029, 0.123, 0.043, 0.096, 0.058, 0.038, 0.067, 0.218, 0.17, 0.169, 0.129, 0.313, 0.985684, 0.005757, 0.006094, 0.001628, 0.300541, 0.689457, 0.001233, 0.004291, 0.943165, 0.034669, 0.013991, 0.008176, 27.0, 0.08565, 0.3077, 0.58, 0.742321, 61.97461, 18.923013, 11.706559, 0.0], [\"E14000849\", 0.2156, 0.1037, 0.3885, 0.2937, 935.256449, 117.609454, 5175, 0.12868, 47.047593, 0.026715, -0.008892, 540, 190000.0, 0.317158, 6.766382, 0.37568, 0.325432, 0.145001, 0.131717, 0.215, 0.162, 0.042, 0.053, 0.068, 0.045, 0.133, 0.041, 0.099, 0.046, 0.041, 0.053, 0.238, 0.1875, 0.1845, 0.1305, 0.2605, 0.981739, 0.00657, 0.008325, 0.002292, 0.282321, 0.707926, 0.002858, 0.004047, 0.952497, 0.028456, 0.011039, 0.008008, 30.6, 0.05652, 0.2457, 0.598, 0.692184, 60.508283, 31.092286, 5.302254, 0.0], [\"E14000854\", 0.2181, 0.1096, 0.3956, 0.2702, 266.51581, 350.193109, 3775, 0.262542, 40.447006, 0.030538, -0.012348, 570, 173000.0, 0.418033, 5.836707, 0.343641, 0.38219, 0.112909, 0.143407, 0.24, 0.179, 0.007, 0.05, 0.046, 0.086, 0.106, 0.049, 0.086, 0.041, 0.056, 0.055, 0.288, 0.21175, 0.17575, 0.12875, 0.19575, 0.948675, 0.009907, 0.032266, 0.005753, 0.290413, 0.673801, 0.003676, 0.028334, 0.955306, 0.020337, 0.010285, 0.014072, 43.8, 0.01217, 0.1859, 0.678, 0.654634, 56.933316, 38.895248, 2.178982, 0.0], [\"E14000868\", 0.2326, 0.1209, 0.4009, 0.2404, 83.031305, 1136.077538, 2800, 0.244444, 29.683028, 0.042771, -0.011219, 570, 165000.0, 0.473214, 5.566802, 0.319051, 0.380907, 0.135134, 0.149942, 0.218, 0.197, 0.003, 0.043, 0.052, 0.081, 0.13, 0.044, 0.09, 0.04, 0.05, 0.051, 0.27, 0.21325, 0.18025, 0.13125, 0.20625, 0.919197, 0.010704, 0.059581, 0.007575, 0.303757, 0.636937, 0.029104, 0.026316, 0.933612, 0.023406, 0.014986, 0.027985, 58.1, 0.00393, 0.1789, 0.645, 0.666724, 51.566197, 41.279007, 1.984067, 0.0], [\"E14000892\", 0.2264, 0.1131, 0.3981, 0.25, 148.653017, 610.347517, 3560, 0.196639, 39.237297, 0.033862, -0.013983, 540, 200000.0, 0.408451, 7.122507, 0.279248, 0.388023, 0.115369, 0.202011, 0.271, 0.185, 0.007, 0.042, 0.048, 0.045, 0.117, 0.053, 0.077, 0.05, 0.059, 0.046, 0.246, 0.20575, 0.18275, 0.13375, 0.23075, 0.92415, 0.019002, 0.045274, 0.009635, 0.316859, 0.640443, 0.032004, 0.007326, 0.92347, 0.042597, 0.012177, 0.021756, 60.5, 0.00689, 0.1798, 0.61, 0.703243, 52.323961, 36.035219, 2.594961, 0.0], [\"E14000905\", 0.2219, 0.1057, 0.4082, 0.2427, 246.617527, 419.086191, 4600, 0.442006, 44.507228, 0.029424, -0.009211, 600, 208000.0, 0.486245, 6.666667, 0.328436, 0.363925, 0.142449, 0.144541, 0.205, 0.184, 0.007, 0.047, 0.056, 0.087, 0.107, 0.045, 0.098, 0.055, 0.059, 0.052, 0.205, 0.2045, 0.1755, 0.1325, 0.2825, 0.903034, 0.020062, 0.053579, 0.020156, 0.311096, 0.636889, 0.012605, 0.036054, 0.882826, 0.058996, 0.031207, 0.026971, 53.5, 0.0138, 0.1955, 0.586, 0.713253, 54.293283, 38.296712, 5.553608, 0.0], [\"E14000926\", 0.2191, 0.1057, 0.3913, 0.2841, 601.618902, 178.90894, 4810, 0.183272, 44.688066, 0.02432, -0.0062, 520, 210000.0, 0.443299, 7.766272, 0.36111, 0.326582, 0.147528, 0.144229, 0.174, 0.168, 0.021, 0.055, 0.068, 0.04, 0.167, 0.038, 0.104, 0.056, 0.051, 0.059, 0.205, 0.1775, 0.1775, 0.1365, 0.3035, 0.971948, 0.008703, 0.015667, 0.002041, 0.333389, 0.652312, 0.003829, 0.006612, 0.944541, 0.027036, 0.013948, 0.014465, 28.7, 0.04322, 0.311, 0.529, 0.737725, 49.951033, 38.565022, 7.308902, 0.0], [\"E14000931\", 0.2187, 0.1047, 0.3895, 0.2764, 32.715005, 3128.503299, 3890, 0.318644, 38.007211, 0.020547, -0.01063, 720, 260000.0, 0.403509, 6.944444, 0.413179, 0.382355, 0.106968, 0.084857, 0.194, 0.153, 0.001, 0.045, 0.054, 0.039, 0.118, 0.049, 0.112, 0.074, 0.103, 0.058, 0.204, 0.1715, 0.1715, 0.1315, 0.3215, 0.861734, 0.017477, 0.101147, 0.011223, 0.250777, 0.647976, 0.041501, 0.056802, 0.906646, 0.029195, 0.024662, 0.039497, 65.2, 0.00879, 0.1518, 0.533, 0.731055, 58.125396, 21.875661, 15.685134, 0.0], [\"E14000945\", 0.213, 0.1123, 0.3865, 0.3047, 273.717341, 355.86346, 3900, 0.289256, 40.038601, 0.023475, -0.011423, 640, 205500.0, 0.37, 6.17488, 0.398352, 0.358498, 0.080461, 0.144933, 0.241, 0.168, 0.008, 0.042, 0.066, 0.038, 0.117, 0.04, 0.105, 0.05, 0.063, 0.062, 0.245, 0.18975, 0.17475, 0.13475, 0.25475, 0.956083, 0.014532, 0.02127, 0.005712, 0.245764, 0.731258, 0.003662, 0.016507, 0.97226, 0.011307, 0.007538, 0.008894, 30.7, 0.02346, 0.2296, 0.652, 0.698465, 69.764621, 25.285175, 2.6375, 0.0], [\"E14000965\", 0.2292, 0.1219, 0.3952, 0.2697, 291.007548, 339.602876, 3445, 0.146423, 34.858895, 0.024368, -0.007738, 600, 189750.0, 0.406076, 6.081731, 0.344907, 0.348605, 0.13628, 0.151693, 0.185, 0.166, 0.011, 0.051, 0.102, 0.047, 0.146, 0.041, 0.098, 0.047, 0.048, 0.059, 0.204, 0.17925, 0.17325, 0.14925, 0.29525, 0.939709, 0.014571, 0.030886, 0.010372, 0.30874, 0.659084, 0.010267, 0.017448, 0.931374, 0.027988, 0.017899, 0.022739, 57.7, 0.01867, 0.1976, 0.575, 0.760406, 54.741545, 39.856328, 2.965873, 0.0], [\"E14000966\", 0.2011, 0.0952, 0.3873, 0.3151, 513.489485, 153.350755, 3410, 0.127273, 43.304887, 0.018452, -0.006657, 610, 162500.0, 0.294821, 5.122951, 0.445115, 0.351778, 0.098775, 0.088258, 0.243, 0.156, 0.025, 0.045, 0.044, 0.044, 0.131, 0.04, 0.092, 0.049, 0.065, 0.065, 0.266, 0.18, 0.169, 0.133, 0.252, 0.986649, 0.006424, 0.005134, 0.001161, 0.278446, 0.713337, 0.001832, 0.003147, 0.977013, 0.013106, 0.00534, 0.004541, 40.6, 0.04767, 0.2099, 0.647, 0.707224, 58.141306, 33.888702, 3.34565, 0.0], [\"E14000972\", 0.2911, 0.1756, 0.3797, 0.2009, 30.275349, 2862.691999, 2350, 0.217617, 27.114655, 0.063805, -0.010969, 510, 100000.0, 0.492537, 3.770739, 0.254164, 0.271614, 0.181706, 0.270381, 0.203, 0.202, 0.001, 0.063, 0.038, 0.065, 0.155, 0.051, 0.077, 0.028, 0.048, 0.07, 0.319, 0.18175, 0.16375, 0.15075, 0.18475, 0.852209, 0.020613, 0.097252, 0.020408, 0.334268, 0.571236, 0.069539, 0.020504, 0.884398, 0.031852, 0.02894, 0.054811, 63.7, 0.00497, 0.175, 0.648, 0.583484, 39.782773, 51.540202, 2.051591, 0.0], [\"E14000973\", 0.244, 0.1295, 0.3861, 0.2346, 42.189883, 2361.11107, 2245, 0.206989, 22.536767, 0.05686, -0.008363, 470, 110000.0, 0.617647, 4.500818, 0.297517, 0.320199, 0.135294, 0.227686, 0.26, 0.196, 0.002, 0.049, 0.037, 0.065, 0.133, 0.049, 0.074, 0.029, 0.05, 0.057, 0.355, 0.2005, 0.1735, 0.1205, 0.1495, 0.900202, 0.018456, 0.061955, 0.013111, 0.316952, 0.617309, 0.057158, 0.005511, 0.930011, 0.021196, 0.019821, 0.028972, 59.2, 0.00362, 0.1738, 0.721, 0.585665, 45.261571, 50.907002, 2.192122, 0.0], [\"E14000974\", 0.2366, 0.1228, 0.3804, 0.2523, 32.839862, 2736.948133, 1915, 0.164134, 21.305949, 0.045685, -0.008215, 520, 125000.0, 0.563477, 4.622781, 0.318274, 0.344205, 0.104116, 0.214524, 0.242, 0.194, 0.001, 0.048, 0.044, 0.064, 0.146, 0.046, 0.08, 0.032, 0.045, 0.057, 0.335, 0.193, 0.178, 0.125, 0.169, 0.925005, 0.013, 0.050001, 0.009236, 0.29949, 0.648522, 0.041702, 0.006835, 0.947755, 0.016138, 0.012129, 0.023978, 50.2, 0.00252, 0.2279, 0.711, 0.632651, 49.054929, 47.46462, 1.938115, 0.0], [\"E14000975\", 0.1979, 0.0949, 0.3846, 0.324, 621.070435, 138.499589, 4065, 0.130737, 47.257551, 0.015007, -0.006619, 570, 208950.0, 0.393, 7.049595, 0.422277, 0.363849, 0.104383, 0.091883, 0.218, 0.149, 0.028, 0.047, 0.061, 0.04, 0.133, 0.04, 0.109, 0.055, 0.054, 0.066, 0.22, 0.17, 0.168, 0.128, 0.314, 0.979798, 0.007941, 0.008617, 0.002516, 0.24354, 0.745006, 0.003442, 0.005163, 0.968498, 0.015193, 0.009543, 0.006754, 34.9, 0.04388, 0.218, 0.575, 0.739134, 63.18756, 28.219939, 4.441158, 0.0], [\"E14000976\", 0.223, 0.1101, 0.3887, 0.2723, 27.402611, 3300.561409, 2865, 0.085227, 31.67706, 0.046385, -0.012494, 600, 172000.0, 0.376, 5.512821, 0.359187, 0.358947, 0.100472, 0.15899, 0.243, 0.18, 0.001, 0.04, 0.061, 0.042, 0.123, 0.042, 0.104, 0.055, 0.056, 0.053, 0.276, 0.18325, 0.17825, 0.13325, 0.22925, 0.919322, 0.014318, 0.05533, 0.006409, 0.295455, 0.645206, 0.04521, 0.010508, 0.952113, 0.013341, 0.009886, 0.02466, 61.0, 0.0034, 0.1634, 0.637, 0.672321, 54.536968, 38.298504, 2.297656, 0.0], [\"E14000977\", 0.1933, 0.0906, 0.3801, 0.3276, 670.730348, 139.862465, 6470, 0.169982, 68.969193, 0.017579, -0.00375, 620, 305000.0, 0.441416, 9.460298, 0.398353, 0.315814, 0.133492, 0.125854, 0.177, 0.167, 0.023, 0.07, 0.035, 0.032, 0.093, 0.056, 0.097, 0.087, 0.086, 0.078, 0.195, 0.16475, 0.16675, 0.12675, 0.34775, 0.971228, 0.011018, 0.013617, 0.002373, 0.281501, 0.703763, 0.002757, 0.008476, 0.933484, 0.03632, 0.018273, 0.011922, 37.3, 0.0331, 0.2159, 0.51, 0.739734, 62.872674, 21.854218, 11.87514, 0.0], [\"E14000985\", 0.2175, 0.1054, 0.3807, 0.2853, 57.658188, 1637.148234, 3875, 0.194145, 41.050903, 0.025601, -0.006951, 710, 275000.0, 0.494565, 7.448537, 0.402587, 0.391531, 0.107403, 0.083511, 0.18, 0.146, 0.001, 0.04, 0.058, 0.037, 0.128, 0.041, 0.133, 0.083, 0.088, 0.063, 0.185, 0.165, 0.163, 0.129, 0.358, 0.886664, 0.021744, 0.06662, 0.019904, 0.269812, 0.665787, 0.019241, 0.041154, 0.926041, 0.026675, 0.019641, 0.027643, 57.1, 0.01271, 0.1735, 0.517, 0.700563, 60.963336, 31.944077, 4.355065, 0.0], [\"E14000986\", 0.2301, 0.1167, 0.393, 0.2597, 179.611961, 531.863244, 3640, 0.179903, 38.103613, 0.030336, -0.015017, 550, 190000.0, 0.450382, 6.643357, 0.305867, 0.396058, 0.106264, 0.177364, 0.23, 0.204, 0.006, 0.05, 0.044, 0.081, 0.092, 0.052, 0.08, 0.046, 0.059, 0.057, 0.259, 0.21575, 0.18575, 0.13275, 0.20675, 0.966528, 0.01072, 0.015713, 0.005696, 0.338756, 0.643107, 0.004374, 0.010406, 0.961116, 0.022825, 0.008255, 0.007794, 55.5, 0.00992, 0.1806, 0.66, 0.663179, 61.023137, 34.814264, 4.162598, 0.0], [\"E14000989\", 0.245, 0.1267, 0.4024, 0.2104, 50.558651, 1928.512681, 2765, 0.223451, 28.358102, 0.048104, -0.014852, 520, 150000.0, 0.428571, 5.547337, 0.24315, 0.362077, 0.160078, 0.219212, 0.268, 0.172, 0.004, 0.05, 0.076, 0.041, 0.103, 0.05, 0.083, 0.031, 0.069, 0.052, 0.267, 0.20875, 0.19475, 0.13375, 0.19575, 0.934915, 0.018604, 0.03298, 0.010569, 0.37444, 0.590655, 0.007393, 0.022831, 0.936387, 0.03101, 0.01514, 0.017464, 58.4, 0.00084, 0.1245, 0.662, 0.658268, 48.733384, 47.122141, 2.134897, 0.0], [\"E14000992\", 0.2471, 0.1262, 0.3895, 0.2485, 345.25346, 278.997928, 2925, 0.125, 30.365949, 0.024175, -0.010762, 610, 187972.5, 0.392389, 5.925993, 0.31556, 0.355157, 0.143007, 0.168052, 0.218, 0.155, 0.017, 0.046, 0.11, 0.037, 0.112, 0.04, 0.103, 0.041, 0.067, 0.053, 0.219, 0.18225, 0.18725, 0.15225, 0.25925, 0.926472, 0.015577, 0.045543, 0.009373, 0.294013, 0.659311, 0.026886, 0.016347, 0.923227, 0.037765, 0.015093, 0.023915, 54.3, 0.01442, 0.1496, 0.593, 0.723544, 55.43081, 36.118571, 2.71591, 0.0], [\"E14001011\", 0.2538, 0.1313, 0.383, 0.2144, 26.941969, 3713.537014, 2200, 0.195652, 21.989005, 0.076497, -0.023157, 510, 129000.0, 0.329897, 4.864253, 0.260075, 0.292335, 0.11883, 0.308885, 0.274, 0.203, 0.001, 0.042, 0.043, 0.064, 0.128, 0.047, 0.082, 0.027, 0.038, 0.053, 0.39, 0.19375, 0.16575, 0.11375, 0.13575, 0.862822, 0.026854, 0.081925, 0.021752, 0.299495, 0.619208, 0.032414, 0.044377, 0.937898, 0.015371, 0.013262, 0.033469, 54.9, 0.00887, 0.1811, 0.742, 0.567481, 49.632719, 42.809172, 1.537331, 0.0], [\"E14001012\", 0.2752, 0.1373, 0.3825, 0.1905, 33.018977, 3205.79286, 2955, 0.340136, 27.916336, 0.071551, -0.019743, 480, 138750.0, 0.388194, 5.558894, 0.295351, 0.287624, 0.144053, 0.253563, 0.217, 0.198, 0.001, 0.058, 0.046, 0.066, 0.128, 0.047, 0.101, 0.035, 0.052, 0.052, 0.321, 0.18625, 0.16525, 0.12625, 0.20125, 0.607123, 0.035625, 0.306933, 0.036356, 0.223954, 0.475521, 0.18835, 0.104386, 0.819246, 0.025744, 0.03137, 0.12363, 50.9, 0.00147, 0.1986, 0.616, 0.655458, 37.198221, 57.374297, 1.331911, 0.0], [\"E14001016\", 0.2684, 0.1343, 0.4017, 0.1747, 19.363585, 5104.116799, 2545, 0.394521, 25.750248, 0.065462, -0.027752, 480, 144000.0, 0.44, 5.769231, 0.263427, 0.300288, 0.160787, 0.24771, 0.198, 0.169, 0.001, 0.059, 0.048, 0.069, 0.142, 0.056, 0.101, 0.042, 0.055, 0.059, 0.333, 0.1815, 0.1595, 0.1235, 0.2035, 0.573736, 0.043459, 0.27285, 0.087081, 0.23323, 0.477652, 0.139608, 0.144402, 0.770599, 0.048308, 0.054782, 0.126311, 46.6, 0.00097, 0.2166, 0.616, 0.632611, 26.167736, 67.164105, 1.932547, 0.0], [\"E14001019\", 0.2849, 0.18, 0.3851, 0.2142, 90.164999, 1130.083744, 5315, 0.320497, 52.162051, 0.02196, -0.013294, 630, 275000.0, 0.627219, 8.394383, 0.283592, 0.333517, 0.202261, 0.160099, 0.183, 0.153, 0.003, 0.057, 0.047, 0.034, 0.123, 0.046, 0.114, 0.094, 0.085, 0.062, 0.174, 0.1485, 0.1375, 0.1595, 0.3815, 0.873049, 0.023152, 0.084805, 0.008266, 0.357165, 0.558061, 0.010428, 0.070311, 0.87414, 0.056516, 0.027764, 0.041579, 56.9, 0.01664, 0.1607, 0.416, 0.729825, 44.438072, 46.669133, 5.198409, 0.0], [\"E14001029\", 0.2488, 0.1253, 0.3954, 0.2133, 27.79725, 3374.506505, 2510, 0.489614, 26.758491, 0.065567, -0.018947, 510, 144995.0, 0.330229, 5.467383, 0.295746, 0.286645, 0.115548, 0.27677, 0.244, 0.179, 0.001, 0.048, 0.047, 0.068, 0.135, 0.054, 0.083, 0.034, 0.051, 0.057, 0.353, 0.19025, 0.16325, 0.12125, 0.17325, 0.68129, 0.032693, 0.205646, 0.062422, 0.219471, 0.569806, 0.064285, 0.137555, 0.82924, 0.046655, 0.037953, 0.086152, 51.5, 0.0052, 0.1619, 0.682, 0.614541, 38.239808, 57.967159, 1.598547, 0.0], [\"E14001030\", 0.2547, 0.1322, 0.4037, 0.1946, 27.537148, 3494.406895, 2695, 0.36802, 28.006984, 0.065294, -0.025255, 500, 130000.0, 0.368421, 5.0, 0.236105, 0.315059, 0.119734, 0.301802, 0.276, 0.194, 0.001, 0.046, 0.046, 0.065, 0.119, 0.053, 0.076, 0.029, 0.044, 0.052, 0.366, 0.192, 0.171, 0.123, 0.148, 0.767582, 0.027187, 0.149793, 0.045936, 0.260037, 0.587963, 0.055848, 0.090907, 0.88103, 0.032819, 0.025269, 0.060882, 55.2, 0.00164, 0.1979, 0.687, 0.548517, 39.699119, 52.055743, 0.922591, 0.0], [\"E14001035\", 0.1885, 0.0841, 0.3624, 0.3551, 705.309605, 136.508846, 5490, 0.115854, 57.020596, 0.022272, -0.007337, 530, 259995.0, 0.368755, 9.433781, 0.425538, 0.293092, 0.115416, 0.141678, 0.204, 0.151, 0.029, 0.049, 0.055, 0.028, 0.121, 0.045, 0.112, 0.08, 0.06, 0.067, 0.204, 0.16175, 0.16475, 0.12375, 0.34675, 0.978573, 0.007888, 0.010496, 0.001811, 0.305887, 0.681861, 0.002237, 0.005259, 0.952323, 0.022257, 0.014827, 0.010594, 29.3, 0.05534, 0.2803, 0.525, 0.76078, 61.452781, 23.684723, 9.397744, 0.0], [\"E14001049\", 0.2569, 0.1374, 0.3919, 0.2059, 24.763956, 3704.254752, 1925, 0.323024, 20.985043, 0.083825, -0.013622, 480, 135000.0, 0.452042, 5.408654, 0.25779, 0.281992, 0.101801, 0.335307, 0.236, 0.175, 0.002, 0.052, 0.052, 0.065, 0.155, 0.05, 0.082, 0.028, 0.046, 0.055, 0.337, 0.20175, 0.17275, 0.12275, 0.16575, 0.763109, 0.054983, 0.093073, 0.077668, 0.290747, 0.614129, 0.020713, 0.068021, 0.87694, 0.035025, 0.045393, 0.042643, 62.8, 0.00574, 0.1595, 0.677, 0.602156, 40.251452, 52.815821, 1.561302, 0.0], [\"E14001050\", 0.2524, 0.1287, 0.3901, 0.2126, 24.77333, 3808.854045, 2640, 0.254157, 27.97855, 0.087537, -0.01961, 450, 122000.0, 0.402299, 5.213675, 0.278739, 0.262886, 0.115322, 0.319911, 0.255, 0.196, 0.002, 0.049, 0.047, 0.066, 0.13, 0.048, 0.081, 0.029, 0.047, 0.05, 0.372, 0.192, 0.165, 0.114, 0.157, 0.665582, 0.049083, 0.201663, 0.06318, 0.256926, 0.540209, 0.017147, 0.168559, 0.844744, 0.023702, 0.038831, 0.092723, 59.0, 0.00059, 0.1927, 0.681, 0.603473, 34.770273, 58.222234, 1.234024, 0.0], [\"E14001051\", 0.2473, 0.1392, 0.3962, 0.2338, 23.125059, 3820.055038, 3040, 0.243354, 34.412887, 0.070335, -0.010976, 580, 173000.0, 0.351562, 5.736074, 0.332417, 0.294963, 0.170473, 0.182485, 0.191, 0.156, 0.002, 0.05, 0.062, 0.05, 0.142, 0.042, 0.127, 0.047, 0.068, 0.062, 0.235, 0.1655, 0.1625, 0.1325, 0.3035, 0.644907, 0.044775, 0.227621, 0.059649, 0.243638, 0.529, 0.068223, 0.147245, 0.803929, 0.04494, 0.05256, 0.098548, 60.0, 0.0017, 0.1261, 0.544, 0.708026, 44.193076, 49.35295, 1.851415, 0.0], [\"E14001052\", 0.275, 0.1597, 0.3877, 0.2205, 33.292034, 3060.521946, 3090, 0.159475, 30.326525, 0.031711, -0.013315, 540, 189000.0, 0.340426, 6.730769, 0.289734, 0.354312, 0.181842, 0.153133, 0.196, 0.175, 0.002, 0.056, 0.069, 0.047, 0.131, 0.044, 0.108, 0.053, 0.053, 0.064, 0.213, 0.1785, 0.1615, 0.1575, 0.2895, 0.934452, 0.014124, 0.044205, 0.004789, 0.323364, 0.636957, 0.028825, 0.007361, 0.918769, 0.041218, 0.015066, 0.024947, 34.7, 0.00021, 0.2577, 0.537, 0.697157, 48.093266, 43.216071, 3.416759, 0.0], [\"E14001058\", 0.2046, 0.1033, 0.3782, 0.3065, 195.415453, 517.164832, 4205, 0.289877, 41.608122, 0.032531, -0.015358, 550, 174725.0, 0.275365, 6.109266, 0.376783, 0.32951, 0.131674, 0.144353, 0.248, 0.185, 0.007, 0.048, 0.048, 0.048, 0.124, 0.044, 0.09, 0.047, 0.045, 0.068, 0.278, 0.1915, 0.1725, 0.1255, 0.2325, 0.972422, 0.010186, 0.014187, 0.002184, 0.298147, 0.686502, 0.006951, 0.00492, 0.961225, 0.022057, 0.007196, 0.009523, 47.4, 0.01418, 0.2112, 0.631, 0.658697, 58.399343, 32.32021, 3.800192, 0.0], [\"E14000544\", 0.2332, 0.1145, 0.4051, 0.2233, 60.215769, 1597.455304, 4510, 0.483553, 46.885396, 0.037466, -0.009642, 590, 300000.0, 0.886822, 9.778357, 0.307988, 0.358037, 0.0963, 0.222703, 0.198, 0.156, 0.002, 0.041, 0.045, 0.058, 0.107, 0.048, 0.084, 0.062, 0.141, 0.057, 0.258, 0.22175, 0.18475, 0.11775, 0.21675, 0.92708, 0.016903, 0.027774, 0.025556, 0.363464, 0.6102, 0.009489, 0.013581, 0.925218, 0.026894, 0.02754, 0.020326, 49.8, 0.01988, 0.2099, 0.671, 0.651333, 60.957745, 31.125607, 3.44628, 0.0], [\"E14000552\", 0.2433, 0.1239, 0.4075, 0.214, 33.967227, 3143.059062, 3835, 0.3, 35.921357, 0.054382, -0.005545, 540, 240000.0, 0.804511, 8.547009, 0.280175, 0.311934, 0.194155, 0.193887, 0.172, 0.18, 0.003, 0.052, 0.061, 0.062, 0.133, 0.053, 0.11, 0.058, 0.06, 0.057, 0.224, 0.1965, 0.1695, 0.1385, 0.2715, 0.744266, 0.04038, 0.154295, 0.052025, 0.297934, 0.561237, 0.079235, 0.049304, 0.773455, 0.10033, 0.051006, 0.075208, 66.5, 0.00356, 0.1318, 0.519, 0.677387, 45.22071, 46.848185, 5.851898, 0.0], [\"E14000590\", 0.2157, 0.1009, 0.4024, 0.2643, 467.497405, 215.79585, 4545, 0.113971, 45.051743, 0.023458, -0.010316, 560, 267500.0, 0.621212, 9.186126, 0.310834, 0.381421, 0.137023, 0.153502, 0.22, 0.167, 0.012, 0.04, 0.057, 0.062, 0.11, 0.048, 0.09, 0.061, 0.073, 0.061, 0.223, 0.2165, 0.1945, 0.1335, 0.2315, 0.966772, 0.011641, 0.013921, 0.005775, 0.375123, 0.608228, 0.00511, 0.007369, 0.940403, 0.03243, 0.016455, 0.010711, 30.3, 0.05586, 0.2512, 0.615, 0.695735, 62.823453, 27.617246, 4.301877, 0.0], [\"E14000594\", 0.217, 0.1044, 0.4021, 0.2659, 316.746316, 304.707569, 5865, 0.320946, 60.767756, 0.018458, -0.008117, 780, 417750.0, 0.77766, 10.299556, 0.377705, 0.370508, 0.109221, 0.124055, 0.166, 0.128, 0.007, 0.039, 0.05, 0.042, 0.107, 0.046, 0.104, 0.082, 0.162, 0.065, 0.209, 0.19075, 0.17975, 0.12275, 0.29675, 0.941737, 0.015577, 0.028228, 0.010758, 0.283475, 0.684456, 0.008305, 0.020773, 0.924589, 0.03067, 0.026959, 0.017772, 48.2, 0.01444, 0.2507, 0.612, 0.706262, 65.792856, 20.42903, 8.365148, 0.0], [\"E14000603\", 0.1929, 0.0882, 0.3808, 0.3249, 764.131145, 129.781387, 4295, 0.098465, 43.309469, 0.014833, -0.007498, 570, 247000.0, 0.594063, 8.333333, 0.415703, 0.343861, 0.120008, 0.098804, 0.204, 0.17, 0.025, 0.053, 0.053, 0.037, 0.133, 0.04, 0.093, 0.054, 0.075, 0.063, 0.23, 0.20475, 0.18575, 0.12975, 0.25075, 0.982088, 0.007249, 0.007291, 0.002154, 0.341314, 0.647067, 0.002101, 0.005337, 0.96009, 0.018626, 0.013426, 0.007858, 29.6, 0.05728, 0.2597, 0.541, 0.725102, 57.89784, 29.640349, 7.948759, 0.0], [\"E14000606\", 0.2309, 0.1151, 0.4039, 0.2361, 66.889114, 1528.529749, 4590, 0.283916, 44.893488, 0.026962, -0.011153, 630, 347000.0, 0.835979, 10.592186, 0.335337, 0.401223, 0.109758, 0.135317, 0.197, 0.193, 0.003, 0.042, 0.051, 0.064, 0.081, 0.054, 0.088, 0.063, 0.094, 0.069, 0.251, 0.2245, 0.1855, 0.1265, 0.2125, 0.90413, 0.022472, 0.024203, 0.040773, 0.304322, 0.652566, 0.024102, 0.016034, 0.882853, 0.071121, 0.033313, 0.012714, 65.5, 0.00364, 0.1693, 0.655, 0.647425, 62.15647, 28.899653, 3.11888, 0.0], [\"E14000613\", 0.2156, 0.1089, 0.3879, 0.2907, 502.019564, 235.132271, 4665, 0.106762, 39.520167, 0.020339, -0.003107, 560, 257000.0, 0.60625, 8.825549, 0.357882, 0.335371, 0.144642, 0.138509, 0.201, 0.171, 0.017, 0.047, 0.088, 0.046, 0.132, 0.042, 0.086, 0.054, 0.052, 0.062, 0.213, 0.191, 0.181, 0.138, 0.276, 0.967707, 0.012157, 0.012949, 0.005269, 0.359401, 0.628301, 0.00336, 0.005621, 0.927699, 0.033533, 0.026417, 0.012333, 31.8, 0.01488, 0.2412, 0.54, 0.72396, 59.192407, 29.525418, 5.735199, 0.0], [\"E14000617\", 0.3828, 0.2595, 0.3397, 0.1653, 36.184347, 3220.729676, 4660, 0.227931, 39.986271, 0.021902, -0.00951, 630, 425000.0, 1.148499, 12.973138, 0.240818, 0.224001, 0.270085, 0.237838, 0.092, 0.108, 0.002, 0.065, 0.027, 0.025, 0.113, 0.04, 0.231, 0.143, 0.097, 0.06, 0.12, 0.10525, 0.10225, 0.18725, 0.48425, 0.825763, 0.032116, 0.108689, 0.017143, 0.473331, 0.443751, 0.039934, 0.037276, 0.705081, 0.133188, 0.080974, 0.080756, 66.6, 0.00611, 0.1271, 0.262, 0.713855, 16.328172, 51.90403, 29.268423, 0.0], [\"E14000622\", 0.2139, 0.1075, 0.3664, 0.3151, 45.024377, 2000.471872, 3225, 0.205607, 35.805485, 0.021848, -0.015328, 610, 293000.0, 0.723529, 9.237074, 0.430598, 0.395445, 0.108891, 0.053485, 0.228, 0.163, 0.001, 0.035, 0.048, 0.06, 0.101, 0.044, 0.086, 0.054, 0.121, 0.06, 0.299, 0.237, 0.189, 0.117, 0.157, 0.96889, 0.010351, 0.011499, 0.00751, 0.343673, 0.640511, 0.004295, 0.007999, 0.964402, 0.01585, 0.011533, 0.008215, 46.1, 0.00225, 0.1968, 0.727, 0.644839, 67.269067, 25.059271, 2.346231, 0.0], [\"E14000624\", 0.2053, 0.0862, 0.3808, 0.3069, 796.198064, 127.992022, 4610, 0.127139, 45.237324, 0.018396, -0.005221, 630, 260000.0, 0.575758, 7.936508, 0.399141, 0.347938, 0.107511, 0.125086, 0.183, 0.159, 0.029, 0.042, 0.055, 0.062, 0.117, 0.043, 0.099, 0.054, 0.096, 0.06, 0.231, 0.18925, 0.17425, 0.12825, 0.27725, 0.957285, 0.016981, 0.015788, 0.007267, 0.359367, 0.622409, 0.00658, 0.008157, 0.945772, 0.021812, 0.01971, 0.012695, 36.6, 0.04321, 0.2707, 0.549, 0.725037, 60.137287, 29.734272, 4.300828, 0.0], [\"E14000628\", 0.236, 0.126, 0.4177, 0.2199, 42.401899, 2626.698413, 4625, 0.427469, 41.525629, 0.023113, -0.009048, 630, 318725.0, 0.800706, 9.72909, 0.311364, 0.387411, 0.133694, 0.149922, 0.154, 0.149, 0.003, 0.043, 0.071, 0.046, 0.117, 0.043, 0.102, 0.075, 0.138, 0.061, 0.182, 0.1945, 0.1805, 0.1365, 0.3065, 0.923367, 0.018298, 0.038018, 0.016059, 0.36651, 0.598535, 0.015395, 0.016031, 0.909338, 0.035438, 0.030638, 0.024586, 53.8, 0.00204, 0.1994, 0.507, 0.702969, 53.684488, 29.815336, 12.163208, 0.0], [\"E14000642\", 0.1898, 0.095, 0.317, 0.3945, 132.254115, 682.519406, 2230, 0.051887, 24.704761, 0.066792, -0.006373, 470, 215000.0, 0.482759, 8.797054, 0.473105, 0.261402, 0.171558, 0.07747, 0.182, 0.194, 0.009, 0.058, 0.049, 0.062, 0.154, 0.043, 0.092, 0.036, 0.049, 0.072, 0.388, 0.2005, 0.1655, 0.0995, 0.1465, 0.974426, 0.011083, 0.009653, 0.003233, 0.341593, 0.64565, 0.003233, 0.005412, 0.957298, 0.024215, 0.010403, 0.008084, 28.6, 0.01477, 0.2606, 0.73, 0.638407, 61.232303, 25.377732, 2.009288, 0.0], [\"E14000644\", 0.2893, 0.1784, 0.3956, 0.1794, 45.612367, 2714.044653, 3830, 0.223642, 30.938495, 0.028994, -0.012395, 580, 235000.0, 0.587838, 7.791777, 0.258656, 0.328805, 0.230539, 0.166722, 0.145, 0.16, 0.002, 0.05, 0.095, 0.045, 0.146, 0.046, 0.11, 0.052, 0.09, 0.06, 0.192, 0.1895, 0.1825, 0.1535, 0.2825, 0.900829, 0.022033, 0.04553, 0.019114, 0.410901, 0.543734, 0.020431, 0.019722, 0.867388, 0.056873, 0.040871, 0.034868, 59.0, 0.00096, 0.1649, 0.515, 0.670746, 45.877299, 35.275002, 16.970772, 0.0], [\"E14000693\", 0.223, 0.1147, 0.4098, 0.24, 126.214742, 797.196894, 5730, 0.382388, 56.948061, 0.022447, -0.014706, 730, 450000.0, 1.0, 11.854584, 0.3374, 0.373676, 0.114488, 0.157581, 0.164, 0.145, 0.003, 0.035, 0.051, 0.053, 0.101, 0.053, 0.099, 0.084, 0.133, 0.08, 0.235, 0.1965, 0.1725, 0.1225, 0.2745, 0.8871, 0.023863, 0.058149, 0.023474, 0.301449, 0.600616, 0.022843, 0.071411, 0.896786, 0.043067, 0.033465, 0.026682, 56.9, 0.01931, 0.1985, 0.61, 0.681175, 61.958684, 26.032415, 5.679513, 0.0], [\"E14000717\", 0.2181, 0.1096, 0.3631, 0.3062, 174.482187, 569.513724, 2830, 0.05597, 28.47942, 0.06024, -0.005272, 480, 169995.0, 0.428529, 6.810697, 0.357043, 0.286342, 0.164595, 0.172414, 0.204, 0.18, 0.011, 0.095, 0.044, 0.049, 0.147, 0.047, 0.077, 0.048, 0.032, 0.063, 0.328, 0.21875, 0.17575, 0.12075, 0.15675, 0.968523, 0.011914, 0.012377, 0.004513, 0.374621, 0.610453, 0.005325, 0.00623, 0.934938, 0.040801, 0.013744, 0.010516, 47.3, 0.01051, 0.1728, 0.715, 0.621065, 54.140806, 36.080279, 2.235763, 0.0], [\"E14000729\", 0.2316, 0.1181, 0.4078, 0.2158, 79.702315, 1218.885543, 3990, 0.383016, 41.071355, 0.039893, -0.013342, 540, 288500.0, 0.923333, 10.274217, 0.232857, 0.354982, 0.107516, 0.286563, 0.203, 0.198, 0.003, 0.044, 0.046, 0.066, 0.132, 0.054, 0.08, 0.05, 0.068, 0.055, 0.257, 0.2345, 0.1855, 0.1255, 0.1975, 0.898907, 0.020399, 0.041796, 0.034265, 0.394735, 0.566236, 0.019824, 0.015277, 0.89078, 0.047394, 0.034547, 0.027278, 69.4, 0.01659, 0.1725, 0.677, 0.66354, 54.029345, 38.351246, 2.162958, 0.0], [\"E14000734\", 0.2287, 0.1125, 0.3609, 0.3077, 393.066974, 245.25337, 4230, 0.154161, 43.879213, 0.025646, -0.005327, 610, 264995.0, 0.656219, 8.354193, 0.415574, 0.34691, 0.133209, 0.088203, 0.179, 0.159, 0.016, 0.046, 0.049, 0.066, 0.127, 0.046, 0.117, 0.057, 0.077, 0.061, 0.23, 0.197, 0.181, 0.137, 0.255, 0.961862, 0.011199, 0.016924, 0.006252, 0.35697, 0.625063, 0.006077, 0.007886, 0.935966, 0.029878, 0.018383, 0.015773, 26.6, 0.09121, 0.2654, 0.59, 0.71849, 58.506873, 30.435463, 5.449639, 0.0], [\"E14000739\", 0.2253, 0.1151, 0.4227, 0.2138, 104.375487, 1022.376064, 4940, 0.353425, 46.293259, 0.02357, -0.015499, 600, 345000.0, 0.916667, 11.057692, 0.253853, 0.348641, 0.11922, 0.262386, 0.165, 0.186, 0.003, 0.046, 0.051, 0.061, 0.104, 0.059, 0.089, 0.07, 0.1, 0.065, 0.207, 0.21225, 0.17725, 0.12925, 0.27325, 0.888297, 0.022738, 0.05895, 0.026493, 0.374107, 0.567418, 0.027845, 0.026705, 0.886046, 0.039714, 0.039583, 0.034657, 59.8, 0.01772, 0.1783, 0.555, 0.704603, 54.961555, 36.896064, 6.183773, 0.0], [\"E14000744\", 0.2231, 0.1026, 0.4309, 0.223, 156.620265, 730.595111, 9715, 0.939122, 84.902033, 0.014193, -0.008424, 720, 379000.0, 0.84878, 10.122863, 0.309066, 0.400788, 0.140989, 0.126505, 0.175, 0.157, 0.003, 0.043, 0.058, 0.053, 0.088, 0.05, 0.105, 0.095, 0.113, 0.06, 0.169, 0.17625, 0.17625, 0.12925, 0.34925, 0.949096, 0.017486, 0.022341, 0.008284, 0.358464, 0.617162, 0.008256, 0.013016, 0.912183, 0.04575, 0.026183, 0.015884, 61.9, 0.00698, 0.1429, 0.492, 0.731391, 60.314709, 28.585478, 8.076077, 0.0], [\"E14000745\", 0.2272, 0.1059, 0.4033, 0.2347, 101.113727, 1030.572236, 7410, 0.527835, 71.109832, 0.024481, -0.009323, 680, 448250.0, 0.97467, 12.676753, 0.313968, 0.36221, 0.12522, 0.174267, 0.131, 0.166, 0.002, 0.042, 0.045, 0.047, 0.112, 0.055, 0.104, 0.093, 0.115, 0.089, 0.194, 0.1845, 0.1725, 0.1265, 0.3225, 0.850366, 0.026182, 0.073907, 0.039258, 0.269846, 0.51708, 0.024013, 0.182144, 0.830133, 0.069149, 0.06585, 0.034869, 60.8, 0.00805, 0.1626, 0.508, 0.712184, 61.102712, 28.662469, 5.347061, 0.0], [\"E14000749\", 0.2097, 0.0864, 0.4212, 0.2337, 256.306495, 405.86174, 5810, 0.237487, 55.851959, 0.015511, -0.007821, 820, 445000.0, 0.934783, 10.43621, 0.339506, 0.379251, 0.131917, 0.130611, 0.148, 0.141, 0.005, 0.036, 0.054, 0.034, 0.1, 0.045, 0.114, 0.122, 0.132, 0.07, 0.14, 0.1475, 0.1525, 0.1195, 0.4405, 0.904003, 0.026093, 0.046613, 0.018252, 0.352003, 0.60053, 0.014477, 0.029265, 0.894064, 0.038772, 0.04067, 0.026494, 58.2, 0.01603, 0.1377, 0.398, 0.776134, 53.057857, 32.591055, 10.608509, 0.0], [\"E14000757\", 0.2169, 0.1111, 0.414, 0.2485, 334.950512, 358.34846, 5175, 0.245487, 43.114581, 0.015777, -0.012789, 600, 269450.0, 0.738387, 8.636218, 0.316151, 0.381039, 0.146246, 0.138173, 0.217, 0.155, 0.006, 0.045, 0.077, 0.04, 0.113, 0.047, 0.089, 0.072, 0.07, 0.07, 0.191, 0.19675, 0.17875, 0.13375, 0.29875, 0.937638, 0.016651, 0.030755, 0.011956, 0.376908, 0.593553, 0.014965, 0.010269, 0.889628, 0.052022, 0.036809, 0.021542, 55.2, 0.01249, 0.1636, 0.535, 0.710263, 55.115539, 30.877428, 8.523108, 0.0], [\"E14000761\", 0.2503, 0.1378, 0.4059, 0.2109, 31.529448, 3605.074205, 3555, 0.227979, 31.275843, 0.043484, -0.01054, 520, 183000.0, 0.487805, 6.767751, 0.24405, 0.303391, 0.220102, 0.214284, 0.173, 0.169, 0.004, 0.058, 0.054, 0.074, 0.142, 0.051, 0.079, 0.039, 0.105, 0.051, 0.249, 0.209, 0.178, 0.131, 0.234, 0.882737, 0.036127, 0.048118, 0.024054, 0.424328, 0.524793, 0.029118, 0.016669, 0.871169, 0.064374, 0.033247, 0.03121, 59.1, 0.00263, 0.1671, 0.565, 0.677129, 45.745742, 47.370788, 2.321216, 0.0], [\"E14000800\", 0.247, 0.1124, 0.3985, 0.1949, 18.780016, 5356.864359, 2600, 0.543027, 25.844417, 0.033861, -0.021636, 620, 255000.0, 0.821494, 7.909429, 0.288909, 0.38608, 0.149151, 0.162783, 0.186, 0.167, 0.001, 0.051, 0.048, 0.091, 0.13, 0.057, 0.105, 0.047, 0.06, 0.056, 0.244, 0.2105, 0.1755, 0.1295, 0.2405, 0.548829, 0.044104, 0.288104, 0.108199, 0.221816, 0.494204, 0.223776, 0.055717, 0.729411, 0.071432, 0.076122, 0.123036, 68.4, 0.00044, 0.1627, 0.592, 0.699615, 33.033761, 63.84325, 1.733087, 0.0], [\"E14000801\", 0.2751, 0.1522, 0.4141, 0.1506, 55.755133, 2150.689866, 4920, 0.621087, 41.030089, 0.042599, -0.023156, 540, 232500.0, 0.788462, 8.279915, 0.228548, 0.321297, 0.286611, 0.148163, 0.178, 0.185, 0.002, 0.07, 0.041, 0.106, 0.088, 0.068, 0.096, 0.048, 0.06, 0.059, 0.229, 0.20125, 0.16825, 0.14325, 0.25725, 0.566918, 0.036204, 0.295299, 0.084144, 0.234816, 0.466019, 0.252986, 0.04185, 0.669287, 0.115375, 0.069414, 0.145925, 65.6, 0.006, 0.1445, 0.546, 0.688114, 32.252401, 62.436867, 2.289034, 0.0], [\"E14000806\", 0.2051, 0.0952, 0.3854, 0.307, 375.947287, 244.377345, 4855, 0.15733, 52.844688, 0.01631, -0.011349, 670, 335000.0, 0.786667, 9.615385, 0.391257, 0.401661, 0.098134, 0.094185, 0.228, 0.159, 0.011, 0.037, 0.052, 0.044, 0.097, 0.045, 0.093, 0.069, 0.102, 0.064, 0.221, 0.2145, 0.1895, 0.1245, 0.2515, 0.974684, 0.009426, 0.010316, 0.003649, 0.337635, 0.648265, 0.004133, 0.006825, 0.957667, 0.018604, 0.01526, 0.008469, 29.3, 0.02605, 0.2481, 0.61, 0.703806, 67.947492, 21.276045, 4.344448, 0.0], [\"E14000813\", 0.2179, 0.1028, 0.4182, 0.2391, 457.472909, 245.227636, 5405, 0.191841, 48.179347, 0.014519, -0.00648, 680, 319995.0, 0.684184, 9.049632, 0.335201, 0.408454, 0.122369, 0.11146, 0.197, 0.155, 0.009, 0.038, 0.078, 0.049, 0.095, 0.045, 0.116, 0.074, 0.079, 0.064, 0.172, 0.1945, 0.1765, 0.1375, 0.3195, 0.935977, 0.017768, 0.031682, 0.010457, 0.330101, 0.639476, 0.009139, 0.017289, 0.921795, 0.03347, 0.025479, 0.019257, 52.5, 0.01674, 0.1771, 0.529, 0.752403, 61.668092, 28.43454, 5.999557, 0.0], [\"E14000816\", 0.2075, 0.0987, 0.37, 0.3156, 760.379344, 140.696878, 4220, 0.140541, 39.445519, 0.019308, -0.011618, 550, 229995.0, 0.559288, 8.041783, 0.396403, 0.325991, 0.136734, 0.117553, 0.207, 0.168, 0.04, 0.043, 0.069, 0.042, 0.129, 0.041, 0.095, 0.05, 0.056, 0.061, 0.263, 0.1985, 0.1865, 0.1265, 0.2255, 0.978315, 0.009856, 0.007302, 0.003656, 0.349249, 0.638442, 0.002865, 0.004788, 0.943159, 0.033694, 0.014874, 0.008263, 28.6, 0.05338, 0.2484, 0.606, 0.696815, 58.971043, 30.074729, 5.116045, 0.0], [\"E14000841\", 0.2072, 0.0944, 0.4166, 0.2447, 542.687852, 215.440607, 5275, 0.226744, 45.117477, 0.020138, -0.006774, 640, 309997.5, 0.823568, 9.314829, 0.33146, 0.41183, 0.105785, 0.126837, 0.21, 0.162, 0.012, 0.034, 0.064, 0.044, 0.104, 0.042, 0.107, 0.074, 0.079, 0.068, 0.18, 0.19925, 0.17525, 0.13325, 0.31125, 0.940603, 0.019043, 0.026403, 0.011176, 0.346334, 0.626913, 0.006416, 0.016843, 0.927684, 0.031884, 0.024485, 0.015937, 49.7, 0.02327, 0.1778, 0.534, 0.735432, 60.945188, 28.459981, 5.750545, 0.0], [\"E14000842\", 0.2153, 0.1113, 0.3832, 0.2834, 724.163323, 165.390867, 4310, 0.135705, 35.985639, 0.027829, -0.01347, 530, 185000.0, 0.456693, 6.712627, 0.3497, 0.348545, 0.150951, 0.129951, 0.262, 0.171, 0.033, 0.034, 0.059, 0.056, 0.109, 0.058, 0.077, 0.046, 0.044, 0.052, 0.302, 0.21375, 0.18575, 0.12275, 0.17575, 0.971889, 0.009815, 0.011364, 0.005126, 0.329216, 0.656448, 0.004254, 0.006291, 0.915427, 0.059639, 0.015555, 0.009379, 37.7, 0.02294, 0.1718, 0.694, 0.632182, 64.447114, 24.528939, 4.472262, 0.0], [\"E14000845\", 0.2059, 0.0914, 0.4119, 0.2591, 502.210498, 200.69473, 5045, 0.117386, 50.054072, 0.01864, -0.008012, 760, 345000.0, 0.815789, 8.729757, 0.322006, 0.35294, 0.111162, 0.195403, 0.202, 0.166, 0.01, 0.037, 0.052, 0.038, 0.1, 0.048, 0.102, 0.091, 0.086, 0.068, 0.193, 0.186, 0.174, 0.125, 0.322, 0.926359, 0.020108, 0.037592, 0.012205, 0.36168, 0.600078, 0.006265, 0.027192, 0.918204, 0.033279, 0.026342, 0.022175, 50.9, 0.03157, 0.1644, 0.514, 0.733864, 58.630802, 28.34113, 7.693415, 0.0], [\"E14000848\", 0.1696, 0.0818, 0.3328, 0.4156, 728.118445, 119.948891, 3500, 0.06383, 40.074653, 0.019147, -0.01779, 500, 250000.0, 0.562744, 9.615385, 0.467495, 0.239516, 0.14213, 0.126514, 0.19, 0.173, 0.034, 0.082, 0.044, 0.037, 0.136, 0.048, 0.093, 0.05, 0.042, 0.071, 0.273, 0.19975, 0.17375, 0.11575, 0.23775, 0.986615, 0.006061, 0.005033, 0.001642, 0.329765, 0.658054, 0.001512, 0.004808, 0.960269, 0.021147, 0.011554, 0.007029, 28.8, 0.05155, 0.2416, 0.584, 0.754703, 41.672415, 9.925653, 48.401931, 0.0], [\"E14000855\", 0.2201, 0.1086, 0.4134, 0.2258, 745.9807, 179.979187, 5635, 0.235746, 41.97049, 0.023548, -0.011846, 560, 210000.0, 0.500054, 7.211538, 0.285801, 0.389345, 0.164693, 0.139589, 0.194, 0.163, 0.013, 0.041, 0.084, 0.045, 0.11, 0.053, 0.085, 0.061, 0.092, 0.058, 0.2, 0.20225, 0.18925, 0.14025, 0.26825, 0.937239, 0.018439, 0.026435, 0.014449, 0.34795, 0.622664, 0.012946, 0.012882, 0.894499, 0.056884, 0.03236, 0.016256, 49.2, 0.01455, 0.1784, 0.569, 0.68786, 58.64731, 30.505852, 4.950696, 0.0], [\"E14000859\", 0.1982, 0.0961, 0.3647, 0.3271, 787.496198, 124.299013, 3465, 0.123177, 35.398682, 0.027053, -0.013411, 520, 210000.0, 0.544118, 7.766272, 0.390486, 0.28644, 0.146753, 0.150963, 0.241, 0.181, 0.027, 0.065, 0.044, 0.038, 0.146, 0.044, 0.084, 0.038, 0.034, 0.06, 0.292, 0.19775, 0.17975, 0.11975, 0.21075, 0.969345, 0.009388, 0.015821, 0.003711, 0.32301, 0.66222, 0.003942, 0.007317, 0.91694, 0.056768, 0.013729, 0.012563, 29.4, 0.02543, 0.2597, 0.658, 0.678457, 60.248714, 32.000983, 2.853865, 0.0], [\"E14000863\", 0.2288, 0.1271, 0.3946, 0.2594, 36.188916, 2474.929053, 2395, 0.154217, 26.740356, 0.030718, -0.016025, 490, 200000.0, 0.538462, 7.849294, 0.329574, 0.318836, 0.134126, 0.203129, 0.193, 0.192, 0.003, 0.057, 0.054, 0.045, 0.126, 0.047, 0.078, 0.045, 0.095, 0.065, 0.263, 0.2175, 0.1795, 0.1295, 0.2105, 0.954311, 0.01518, 0.018523, 0.008815, 0.432045, 0.544933, 0.009799, 0.008197, 0.927248, 0.038225, 0.019713, 0.014814, 61.2, 0.0018, 0.1976, 0.567, 0.687003, 47.717616, 46.612921, 3.224752, 0.0], [\"E14000864\", 0.3504, 0.2381, 0.345, 0.2044, 28.784007, 3620.586955, 3705, 0.199029, 35.551504, 0.036998, -0.022624, 570, 204000.0, 0.511111, 6.882591, 0.229738, 0.220227, 0.224077, 0.306506, 0.131, 0.164, 0.003, 0.075, 0.046, 0.031, 0.145, 0.044, 0.13, 0.065, 0.099, 0.066, 0.208, 0.15375, 0.14175, 0.17775, 0.31975, 0.900124, 0.023068, 0.051319, 0.01593, 0.499328, 0.452219, 0.020513, 0.021465, 0.865305, 0.052974, 0.039712, 0.042009, 59.5, 0.00592, 0.1472, 0.405, 0.694252, 30.598337, 60.964972, 5.53165, 0.0], [\"E14000878\", 0.2439, 0.1242, 0.4043, 0.1972, 175.072115, 708.867887, 4280, 0.412541, 34.487482, 0.050104, -0.015502, 500, 158765.0, 0.430315, 6.106346, 0.262412, 0.313869, 0.190494, 0.214357, 0.193, 0.194, 0.01, 0.051, 0.049, 0.07, 0.109, 0.084, 0.078, 0.037, 0.073, 0.051, 0.278, 0.21425, 0.18025, 0.12425, 0.20325, 0.774473, 0.028558, 0.163854, 0.022978, 0.292755, 0.54178, 0.136994, 0.025491, 0.753791, 0.128355, 0.04178, 0.076065, 60.8, 0.00553, 0.1707, 0.627, 0.669486, 46.803385, 48.074909, 3.345343, 0.0], [\"E14000888\", 0.2155, 0.1063, 0.3942, 0.2829, 112.142864, 906.575743, 4295, 0.252187, 42.246179, 0.016047, -0.008255, 700, 325000.0, 0.766304, 8.928571, 0.413265, 0.431468, 0.083693, 0.061072, 0.203, 0.146, 0.003, 0.033, 0.057, 0.051, 0.099, 0.041, 0.087, 0.066, 0.153, 0.06, 0.235, 0.23275, 0.19475, 0.12975, 0.20875, 0.966863, 0.010991, 0.013487, 0.006769, 0.343003, 0.641107, 0.004263, 0.008546, 0.960956, 0.01586, 0.013816, 0.009368, 38.4, 0.00516, 0.1867, 0.677, 0.705471, 66.724509, 24.337075, 2.814381, 0.0], [\"E14000899\", 0.233, 0.1208, 0.4055, 0.2336, 93.15219, 1136.795608, 4085, 0.236006, 38.575948, 0.05653, -0.008785, 610, 250000.0, 0.754386, 7.881463, 0.271468, 0.312947, 0.235795, 0.164518, 0.163, 0.146, 0.003, 0.052, 0.062, 0.053, 0.125, 0.053, 0.091, 0.052, 0.134, 0.068, 0.261, 0.21475, 0.19075, 0.12475, 0.20875, 0.913372, 0.022172, 0.03615, 0.023321, 0.402266, 0.549434, 0.018385, 0.02404, 0.896306, 0.04782, 0.032203, 0.02367, 57.3, 0.00829, 0.0966, 0.609, 0.643842, 48.706824, 36.964528, 2.677362, 0.0], [\"E14000910\", 0.2135, 0.0929, 0.4069, 0.2592, 795.363035, 142.831632, 6690, 0.190391, 58.88929, 0.0138, -0.007762, 700, 395000.0, 0.755556, 10.851648, 0.347371, 0.37291, 0.123694, 0.130659, 0.184, 0.147, 0.016, 0.038, 0.056, 0.056, 0.099, 0.048, 0.107, 0.088, 0.099, 0.062, 0.184, 0.18275, 0.17975, 0.13075, 0.32275, 0.963878, 0.012427, 0.015575, 0.005561, 0.334066, 0.645671, 0.005953, 0.01074, 0.93008, 0.032729, 0.023019, 0.014172, 32.0, 0.07059, 0.261, 0.512, 0.735603, 61.777019, 20.789348, 14.000755, 0.0], [\"E14000933\", 0.2382, 0.1223, 0.3974, 0.2317, 131.355206, 771.876526, 3400, 0.440678, 33.533879, 0.037462, -0.01306, 640, 272500.0, 0.885813, 8.188101, 0.281786, 0.380694, 0.109012, 0.207895, 0.217, 0.183, 0.003, 0.041, 0.047, 0.074, 0.114, 0.049, 0.078, 0.046, 0.093, 0.055, 0.28, 0.24225, 0.19025, 0.12025, 0.16725, 0.929247, 0.015689, 0.022955, 0.029137, 0.363437, 0.612854, 0.009145, 0.011385, 0.935553, 0.022573, 0.026134, 0.01574, 58.0, 0.01264, 0.1641, 0.73, 0.641786, 56.899406, 32.514856, 1.55348, 0.0], [\"E14000934\", 0.2141, 0.0907, 0.4108, 0.2491, 629.201867, 185.577962, 5965, 0.162768, 51.085076, 0.01013, -0.004904, 750, 389995.0, 0.950463, 9.999872, 0.350615, 0.357195, 0.111245, 0.146209, 0.16, 0.127, 0.012, 0.037, 0.04, 0.028, 0.131, 0.04, 0.158, 0.126, 0.084, 0.059, 0.145, 0.15175, 0.14875, 0.12675, 0.42775, 0.928839, 0.017549, 0.04069, 0.007969, 0.381406, 0.585901, 0.010783, 0.018041, 0.881483, 0.049241, 0.039451, 0.029816, 51.2, 0.01034, 0.1644, 0.385, 0.763456, 51.800567, 27.2303, 18.640256, 0.0], [\"E14000937\", 0.2084, 0.094, 0.4151, 0.2542, 750.625493, 161.270835, 6130, 0.228457, 50.638558, 0.012672, -0.008289, 690, 313000.0, 0.738937, 8.723523, 0.330371, 0.349167, 0.139922, 0.141478, 0.183, 0.135, 0.024, 0.036, 0.05, 0.038, 0.115, 0.038, 0.131, 0.102, 0.076, 0.071, 0.184, 0.1745, 0.1615, 0.1245, 0.3555, 0.943883, 0.015996, 0.028158, 0.008277, 0.371331, 0.604997, 0.007676, 0.012102, 0.888725, 0.049966, 0.039807, 0.021502, 49.0, 0.01984, 0.1452, 0.453, 0.734176, 53.333228, 27.686423, 18.98035, 0.0], [\"E14000941\", 0.1949, 0.0912, 0.387, 0.3049, 791.245603, 138.762225, 4640, 0.168766, 42.260577, 0.018265, -0.006038, 600, 247995.0, 0.521442, 7.948558, 0.405795, 0.340875, 0.111891, 0.115352, 0.19, 0.163, 0.031, 0.042, 0.053, 0.039, 0.134, 0.039, 0.104, 0.066, 0.077, 0.062, 0.222, 0.186, 0.181, 0.126, 0.285, 0.976027, 0.009461, 0.010001, 0.003055, 0.360932, 0.625584, 0.003198, 0.006212, 0.951962, 0.021855, 0.016804, 0.009379, 29.4, 0.04601, 0.268, 0.509, 0.737981, 58.221924, 30.930602, 8.302924, 0.0], [\"E14000946\", 0.1994, 0.0877, 0.3717, 0.3297, 652.669198, 146.34979, 4395, 0.083847, 46.01227, 0.021107, -0.004522, 620, 275000.0, 0.661882, 8.529777, 0.398627, 0.320961, 0.125537, 0.130494, 0.226, 0.155, 0.02, 0.05, 0.057, 0.044, 0.11, 0.044, 0.097, 0.062, 0.074, 0.06, 0.227, 0.19275, 0.18475, 0.12575, 0.26975, 0.978921, 0.009155, 0.007477, 0.00291, 0.355415, 0.634003, 0.00218, 0.004839, 0.950693, 0.024228, 0.016174, 0.008904, 45.6, 0.01994, 0.24, 0.54, 0.720024, 60.531022, 27.804923, 5.815433, 0.0], [\"E14000949\", 0.2194, 0.1094, 0.4182, 0.2291, 126.612684, 892.177596, 5910, 0.64624, 52.318942, 0.017734, -0.021095, 620, 270000.0, 0.810841, 8.37469, 0.307374, 0.40442, 0.121255, 0.14783, 0.202, 0.188, 0.003, 0.041, 0.051, 0.064, 0.096, 0.05, 0.103, 0.06, 0.076, 0.066, 0.212, 0.216, 0.182, 0.135, 0.255, 0.924552, 0.022415, 0.0271, 0.022493, 0.359038, 0.612226, 0.009154, 0.016015, 0.910302, 0.043595, 0.029648, 0.016456, 55.2, 0.00776, 0.1354, 0.581, 0.70047, 59.24508, 33.779096, 4.72724, 0.0], [\"E14000951\", 0.2134, 0.092, 0.418, 0.2454, 173.813877, 636.542963, 6875, 0.239856, 62.138467, 0.015816, -0.006748, 650, 505000.0, 1.091097, 14.940828, 0.355007, 0.375285, 0.113411, 0.141876, 0.146, 0.145, 0.003, 0.04, 0.053, 0.041, 0.101, 0.05, 0.11, 0.109, 0.124, 0.078, 0.16, 0.1605, 0.1635, 0.1235, 0.3925, 0.896182, 0.020549, 0.066879, 0.012611, 0.325252, 0.599218, 0.017159, 0.052579, 0.878197, 0.044317, 0.048657, 0.028829, 57.7, 0.00885, 0.1632, 0.462, 0.749701, 57.916344, 25.683808, 11.669662, 0.0], [\"E14000952\", 0.2066, 0.1059, 0.3745, 0.3019, 1310.654631, 83.43922, 3995, 0.102069, 36.530724, 0.022568, -0.014252, 520, 199995.0, 0.454509, 7.396265, 0.367145, 0.314087, 0.159501, 0.133833, 0.243, 0.162, 0.042, 0.054, 0.089, 0.051, 0.101, 0.044, 0.078, 0.037, 0.032, 0.067, 0.291, 0.20475, 0.17775, 0.13075, 0.19475, 0.972114, 0.012577, 0.008668, 0.004807, 0.340167, 0.646782, 0.003485, 0.005251, 0.903397, 0.055271, 0.033224, 0.008108, 29.4, 0.04805, 0.2493, 0.667, 0.675065, 62.755647, 27.81975, 4.511981, 0.0], [\"E14000957\", 0.2047, 0.0966, 0.4111, 0.2621, 19.676676, 4715.837236, 3745, 0.359347, 40.359083, 0.030348, -0.010154, 620, 292500.0, 0.783537, 9.072581, 0.34883, 0.383706, 0.186544, 0.070145, 0.16, 0.136, 0.001, 0.042, 0.058, 0.045, 0.129, 0.043, 0.107, 0.062, 0.149, 0.066, 0.232, 0.202, 0.187, 0.129, 0.249, 0.927524, 0.018474, 0.033493, 0.015875, 0.384164, 0.571801, 0.017123, 0.022524, 0.918861, 0.033752, 0.026394, 0.020994, 45.9, 0.00012, 0.148, 0.551, 0.69879, 55.192727, 34.002246, 4.471192, 0.0], [\"E14000960\", 0.2203, 0.1003, 0.4331, 0.2083, 67.23659, 1534.595958, 6545, 0.430601, 63.432221, 0.020446, -0.003759, 710, 500000.0, 1.0004, 13.542795, 0.322415, 0.376955, 0.149502, 0.134039, 0.121, 0.148, 0.003, 0.039, 0.046, 0.037, 0.109, 0.045, 0.119, 0.123, 0.141, 0.071, 0.138, 0.1445, 0.1445, 0.1165, 0.4565, 0.859804, 0.031465, 0.079897, 0.020417, 0.338521, 0.572899, 0.047643, 0.03766, 0.850312, 0.058231, 0.050162, 0.041295, 59.7, 0.0021, 0.1535, 0.378, 0.784772, 43.10853, 23.048177, 32.39061, 0.0], [\"E14000968\", 0.2342, 0.1236, 0.4173, 0.2141, 63.429187, 1548.230464, 3770, 0.336879, 38.389866, 0.025904, -0.019331, 580, 275000.0, 0.809211, 9.118037, 0.237419, 0.360333, 0.113716, 0.269116, 0.193, 0.185, 0.002, 0.048, 0.054, 0.051, 0.123, 0.051, 0.081, 0.063, 0.087, 0.061, 0.209, 0.223, 0.188, 0.129, 0.251, 0.884873, 0.025565, 0.053975, 0.030852, 0.400565, 0.554134, 0.018261, 0.021807, 0.887559, 0.041023, 0.036001, 0.035406, 69.9, 0.00371, 0.1485, 0.57, 0.699046, 50.27267, 43.408275, 4.119448, 0.0], [\"E14000981\", 0.1852, 0.0855, 0.3514, 0.3707, 754.330577, 136.867049, 4680, 0.137303, 45.32995, 0.019636, -0.004717, 600, 270000.0, 0.636364, 8.653846, 0.434406, 0.275281, 0.141534, 0.127997, 0.159, 0.145, 0.023, 0.064, 0.065, 0.105, 0.117, 0.043, 0.091, 0.05, 0.068, 0.069, 0.228, 0.1925, 0.1775, 0.1215, 0.2805, 0.970888, 0.011503, 0.0121, 0.003983, 0.354716, 0.630556, 0.003548, 0.006773, 0.941664, 0.026272, 0.020055, 0.012009, 34.8, 0.03251, 0.2351, 0.552, 0.734697, 58.051796, 30.480077, 6.970417, 0.0], [\"E14000995\", 0.2488, 0.1221, 0.4319, 0.1588, 68.03717, 1909.191698, 4805, 0.740942, 36.991131, 0.040752, -0.018002, 620, 270000.0, 0.824324, 8.37469, 0.215478, 0.400388, 0.154037, 0.216545, 0.177, 0.205, 0.001, 0.044, 0.05, 0.105, 0.095, 0.056, 0.076, 0.047, 0.093, 0.05, 0.265, 0.22575, 0.18775, 0.12375, 0.19775, 0.824971, 0.02215, 0.046372, 0.099514, 0.325466, 0.621573, 0.024747, 0.02522, 0.852901, 0.0566, 0.064118, 0.026382, 59.4, 0.02812, 0.1699, 0.703, 0.645162, 39.503229, 38.817685, 1.585693, 0.0], [\"E14001021\", 0.2331, 0.1153, 0.4345, 0.1894, 36.950192, 3316.924534, 6070, 0.513716, 49.526358, 0.028435, -0.004932, 670, 378500.0, 0.992105, 10.863949, 0.264669, 0.382151, 0.176784, 0.158024, 0.145, 0.17, 0.001, 0.047, 0.051, 0.06, 0.12, 0.055, 0.095, 0.074, 0.111, 0.071, 0.177, 0.185, 0.171, 0.134, 0.333, 0.75119, 0.032104, 0.157092, 0.050949, 0.283965, 0.557943, 0.082185, 0.070513, 0.779533, 0.075521, 0.066208, 0.07873, 65.8, 0.00223, 0.1617, 0.512, 0.678824, 45.608258, 42.038901, 9.102542, 0.0], [\"E14001022\", 0.2098, 0.1037, 0.3593, 0.3211, 247.253204, 425.806413, 3190, 0.105719, 30.299576, 0.050262, -0.000916, 520, 179995.0, 0.463433, 6.65662, 0.390778, 0.299879, 0.153232, 0.140332, 0.242, 0.176, 0.013, 0.07, 0.05, 0.041, 0.131, 0.045, 0.089, 0.05, 0.034, 0.059, 0.301, 0.211, 0.175, 0.13, 0.183, 0.976004, 0.010725, 0.008695, 0.003455, 0.386742, 0.600572, 0.003601, 0.004557, 0.962449, 0.020005, 0.009632, 0.007914, 33.7, 0.00906, 0.2264, 0.634, 0.653047, 54.377871, 36.883472, 1.921251, 0.0], [\"E14001027\", 0.3074, 0.1896, 0.3761, 0.1938, 114.067799, 1029.037123, 4870, 0.379603, 41.48918, 0.024392, -0.010948, 610, 365000.0, 0.871795, 11.506936, 0.252722, 0.305467, 0.138415, 0.280804, 0.152, 0.209, 0.002, 0.047, 0.048, 0.047, 0.113, 0.054, 0.097, 0.075, 0.094, 0.064, 0.172, 0.17675, 0.16275, 0.17375, 0.31375, 0.836674, 0.025799, 0.080709, 0.046681, 0.355003, 0.569395, 0.02578, 0.045067, 0.825056, 0.063149, 0.059533, 0.052262, 60.2, 0.00783, 0.1851, 0.528, 0.710378, 51.044146, 36.78221, 7.424181, 0.0], [\"E14001034\", 0.2377, 0.1318, 0.3796, 0.247, 818.35563, 147.73406, 4850, 0.184371, 40.11613, 0.020454, -0.007233, 530, 229975.0, 0.586034, 8.344521, 0.295797, 0.324793, 0.187468, 0.154061, 0.218, 0.148, 0.023, 0.048, 0.064, 0.05, 0.102, 0.046, 0.069, 0.056, 0.044, 0.134, 0.25, 0.2105, 0.1825, 0.1325, 0.2255, 0.938127, 0.021121, 0.018325, 0.016747, 0.353749, 0.629072, 0.006094, 0.007293, 0.842611, 0.051528, 0.090172, 0.015689, 35.8, 0.01518, 0.1903, 0.632, 0.670347, 61.162215, 28.187686, 4.212886, 0.0], [\"E14001045\", 0.2103, 0.0992, 0.3944, 0.2792, 372.514124, 247.969121, 4335, 0.176391, 46.929806, 0.020994, -0.008487, 700, 300000.0, 0.734154, 8.241758, 0.348999, 0.383422, 0.111707, 0.140198, 0.212, 0.157, 0.01, 0.039, 0.054, 0.05, 0.106, 0.043, 0.09, 0.067, 0.11, 0.063, 0.227, 0.21025, 0.18625, 0.12725, 0.24825, 0.969885, 0.011908, 0.011422, 0.005304, 0.347443, 0.639044, 0.00354, 0.006615, 0.947472, 0.026326, 0.016443, 0.009759, 32.3, 0.04017, 0.2031, 0.605, 0.714523, 64.316322, 26.449503, 5.513698, 0.0], [\"E14000540\", 0.2808, 0.1398, 0.4156, 0.1161, 20.454601, 6880.261217, 4850, 1.266355, 34.462422, 0.052461, -0.027206, 590, 300000.0, 0.892744, 9.778357, 0.146396, 0.28314, 0.187019, 0.358474, 0.158, 0.153, 0.001, 0.062, 0.052, 0.084, 0.138, 0.078, 0.088, 0.044, 0.08, 0.063, 0.272, 0.19375, 0.17275, 0.11775, 0.24475, 0.55004, 0.044084, 0.186293, 0.202235, 0.245698, 0.534547, 0.166638, 0.05033, 0.66401, 0.099507, 0.132512, 0.103971, 57.5, 0.00544, 0.1913, 0.6, 0.620368, 22.464817, 67.784559, 1.256318, 0.0], [\"E14000549\", 0.2822, 0.2106, 0.4835, 0.1165, 10.296476, 11426.142034, 6885, 0.270295, 58.521534, 0.023482, -0.012163, 830, 749825.0, 1.458443, 17.373146, 0.166639, 0.25333, 0.316918, 0.235055, 0.066, 0.096, 0.0, 0.055, 0.04, 0.028, 0.081, 0.056, 0.072, 0.191, 0.219, 0.094, 0.107, 0.08975, 0.09875, 0.10875, 0.59475, 0.73484, 0.050389, 0.0708, 0.122389, 0.364758, 0.550553, 0.055459, 0.025265, 0.655821, 0.13326, 0.16486, 0.04606, 50.3, 0.00242, 0.1325, 0.22, 0.711192, 41.548912, 45.937012, 7.993389, 0.0], [\"E14000551\", 0.2131, 0.0984, 0.4219, 0.2419, 34.480725, 2700.030209, 4445, 0.402208, 47.744874, 0.016882, -0.007573, 800, 490000.0, 0.975806, 11.778846, 0.375862, 0.392971, 0.135268, 0.080997, 0.122, 0.117, 0.001, 0.031, 0.073, 0.036, 0.107, 0.047, 0.109, 0.105, 0.17, 0.08, 0.156, 0.16925, 0.17725, 0.13125, 0.36625, 0.866913, 0.034708, 0.050155, 0.03842, 0.326258, 0.620485, 0.021951, 0.02833, 0.868017, 0.05189, 0.049281, 0.030801, 62.8, 0.0005, 0.1131, 0.466, 0.762782, 59.329847, 30.108464, 7.888824, 0.0], [\"E14000553\", 0.3291, 0.2378, 0.4562, 0.1079, 10.426518, 14041.696822, 10490, 0.541514, 71.650069, 0.043684, -0.013392, 750, 565000.0, 1.332301, 14.487179, 0.077001, 0.167033, 0.280874, 0.43504, 0.063, 0.097, 0.0, 0.086, 0.047, 0.038, 0.101, 0.066, 0.08, 0.144, 0.196, 0.081, 0.158, 0.12225, 0.11525, 0.13625, 0.46925, 0.584531, 0.057342, 0.121181, 0.201459, 0.357748, 0.512622, 0.085424, 0.039669, 0.58216, 0.140474, 0.197752, 0.079615, 35.9, 0.01341, 0.2141, 0.261, 0.672178, 12.954324, 53.247552, 31.08115, 0.0], [\"E14000555\", 0.3477, 0.2356, 0.431, 0.0966, 9.176221, 16383.324132, 8825, 0.682555, 58.701451, 0.048118, -0.032694, 700, 532500.0, 1.62963, 14.629121, 0.083515, 0.150154, 0.305865, 0.426693, 0.055, 0.119, 0.0, 0.102, 0.038, 0.036, 0.092, 0.048, 0.102, 0.144, 0.179, 0.084, 0.208, 0.12275, 0.11175, 0.13575, 0.42075, 0.469426, 0.041659, 0.400204, 0.066262, 0.364999, 0.249866, 0.354277, 0.027483, 0.593924, 0.108974, 0.095524, 0.201578, 32.3, 0.00559, 0.2154, 0.309, 0.698228, 12.663602, 71.824488, 4.984538, 0.0], [\"E14000558\", 0.2413, 0.122, 0.4131, 0.2119, 21.61366, 4375.658814, 3125, 0.495215, 33.042908, 0.024449, -0.018107, 690, 340000.0, 0.954023, 9.476031, 0.322309, 0.406575, 0.097855, 0.158049, 0.175, 0.148, 0.001, 0.038, 0.076, 0.064, 0.107, 0.048, 0.094, 0.071, 0.113, 0.065, 0.238, 0.22875, 0.19075, 0.12575, 0.21575, 0.841146, 0.021059, 0.061948, 0.068801, 0.322591, 0.614516, 0.021492, 0.038362, 0.879735, 0.035983, 0.053046, 0.031236, 56.7, 0.0258, 0.208, 0.653, 0.693271, 55.573259, 35.495364, 2.657726, 0.0], [\"E14000591\", 0.2802, 0.1583, 0.4252, 0.1513, 18.254527, 8170.028281, 6545, 0.50287, 43.88494, 0.053259, -0.023764, 590, 471000.0, 1.243391, 15.352021, 0.166032, 0.187576, 0.324303, 0.290231, 0.139, 0.161, 0.001, 0.092, 0.035, 0.061, 0.102, 0.074, 0.087, 0.074, 0.091, 0.083, 0.209, 0.1645, 0.1515, 0.1385, 0.3375, 0.387506, 0.058768, 0.237925, 0.255417, 0.184483, 0.481155, 0.212445, 0.115499, 0.457763, 0.176552, 0.230671, 0.135014, 39.2, 0.0151, 0.2177, 0.429, 0.65212, 19.525394, 73.061037, 4.816812, 0.0], [\"E14000592\", 0.2466, 0.1306, 0.4207, 0.1896, 20.796063, 6552.682592, 6575, 0.623457, 48.249798, 0.026961, -0.012861, 580, 450000.0, 1.022386, 14.920424, 0.270355, 0.282902, 0.266222, 0.151662, 0.166, 0.197, 0.0, 0.065, 0.037, 0.06, 0.105, 0.063, 0.071, 0.072, 0.1, 0.063, 0.188, 0.15525, 0.15025, 0.13625, 0.36925, 0.266056, 0.036082, 0.524221, 0.123019, 0.115337, 0.327465, 0.174629, 0.36224, 0.407335, 0.127105, 0.182832, 0.282728, 56.7, 0.00438, 0.1618, 0.426, 0.686073, 32.66069, 62.887109, 2.859471, 0.0], [\"E14000593\", 0.2353, 0.1321, 0.4545, 0.168, 26.11909, 5200.563995, 8280, 0.465487, 60.956756, 0.038678, 0.004063, 720, 490000.0, 0.979798, 13.087607, 0.216138, 0.278625, 0.266214, 0.204843, 0.102, 0.131, 0.001, 0.073, 0.039, 0.077, 0.091, 0.064, 0.083, 0.1, 0.156, 0.083, 0.138, 0.1385, 0.1345, 0.1305, 0.4585, 0.577507, 0.044751, 0.280337, 0.061576, 0.256293, 0.449851, 0.124654, 0.162956, 0.571269, 0.135093, 0.125852, 0.167787, 61.0, 0.00268, 0.1508, 0.433, 0.725483, 37.615408, 57.382077, 5.002515, 0.0], [\"E14000604\", 0.222, 0.1076, 0.4301, 0.2101, 29.3631, 3270.873946, 4715, 0.448541, 49.092594, 0.026593, -0.009744, 770, 430000.0, 0.954545, 10.739261, 0.305912, 0.370243, 0.13374, 0.171794, 0.125, 0.127, 0.001, 0.039, 0.063, 0.04, 0.112, 0.052, 0.098, 0.106, 0.162, 0.075, 0.19, 0.1725, 0.1695, 0.1255, 0.3445, 0.840014, 0.034163, 0.060564, 0.054494, 0.341013, 0.59646, 0.026773, 0.031692, 0.848025, 0.056931, 0.058195, 0.036849, 60.2, 0.00186, 0.156, 0.498, 0.718415, 53.951824, 33.399769, 7.220008, 0.0], [\"E14000615\", 0.2711, 0.1667, 0.4626, 0.1256, 11.381556, 11616.074143, 4145, 0.588123, 31.351875, 0.057861, -0.020478, 620, 470000.0, 1.42268, 14.578164, 0.084656, 0.185962, 0.193979, 0.50633, 0.069, 0.107, 0.001, 0.091, 0.054, 0.042, 0.147, 0.089, 0.099, 0.098, 0.11, 0.094, 0.183, 0.14475, 0.14275, 0.12875, 0.40075, 0.448421, 0.0664, 0.076086, 0.373804, 0.325476, 0.547187, 0.098686, 0.023797, 0.592097, 0.10164, 0.257702, 0.04856, 44.2, 0.00775, 0.2403, 0.315, 0.673356, 12.80046, 77.797325, 5.94475, 0.0], [\"E14000621\", 0.2274, 0.1059, 0.4404, 0.1906, 25.493734, 4022.360975, 3850, 0.412844, 37.544493, 0.034725, -0.003991, 680, 350301.5, 0.97353, 9.906717, 0.256568, 0.39196, 0.129508, 0.205483, 0.147, 0.151, 0.001, 0.036, 0.075, 0.057, 0.139, 0.055, 0.096, 0.069, 0.104, 0.07, 0.201, 0.19475, 0.18175, 0.13475, 0.28675, 0.785905, 0.040064, 0.102537, 0.061088, 0.326462, 0.585416, 0.035805, 0.047943, 0.822885, 0.052706, 0.065735, 0.058664, 64.2, 0.00722, 0.1639, 0.563, 0.717724, 38.322858, 18.44226, 41.020235, 0.0], [\"E14000629\", 0.2465, 0.1571, 0.4519, 0.1819, 8.274164, 13197.465964, 8855, 0.309911, 81.091229, 0.028205, -0.005614, 830, 1000000.0, 1.564103, 23.169601, 0.227198, 0.175852, 0.333897, 0.226472, 0.065, 0.097, 0.001, 0.049, 0.024, 0.025, 0.077, 0.05, 0.063, 0.18, 0.255, 0.117, 0.103, 0.094, 0.109, 0.129, 0.564, 0.77322, 0.047712, 0.074269, 0.059377, 0.294313, 0.599194, 0.068469, 0.033946, 0.567405, 0.193449, 0.180525, 0.05862, 46.0, 0.00362, 0.1293, 0.291, 0.663037, 52.646696, 33.210691, 10.983194, 0.0], [\"E14000634\", 0.2251, 0.1134, 0.4206, 0.2207, 19.064733, 4974.735409, 4320, 0.57377, 45.54944, 0.027485, -0.017046, 750, 440000.0, 1.0, 11.282051, 0.322675, 0.365552, 0.141735, 0.151226, 0.14, 0.13, 0.0, 0.039, 0.061, 0.052, 0.106, 0.047, 0.128, 0.086, 0.134, 0.078, 0.216, 0.1825, 0.1655, 0.1265, 0.3105, 0.735516, 0.047601, 0.103393, 0.090676, 0.273684, 0.575106, 0.094386, 0.052831, 0.802562, 0.08227, 0.067692, 0.047476, 59.6, 0.01953, 0.1781, 0.499, 0.714561, 49.138647, 43.947105, 4.350418, 0.0], [\"E14000636\", 0.2234, 0.1066, 0.4273, 0.2204, 34.609116, 3432.014881, 6480, 0.459459, 54.555098, 0.025685, -0.011003, 760, 535000.0, 1.177009, 13.537449, 0.319922, 0.346497, 0.192904, 0.117257, 0.108, 0.14, 0.0, 0.043, 0.049, 0.039, 0.117, 0.045, 0.126, 0.112, 0.124, 0.098, 0.16, 0.1465, 0.1545, 0.1275, 0.4125, 0.718352, 0.04869, 0.145142, 0.054415, 0.274879, 0.508087, 0.072723, 0.132746, 0.708251, 0.118877, 0.101471, 0.071401, 37.0, 0.00569, 0.24, 0.411, 0.720389, 46.33275, 45.69583, 5.434567, 0.0], [\"E14000639\", 0.2702, 0.183, 0.4583, 0.1796, 16.39101, 7924.649017, 69060, 0.484682, 531.668373, 0.024372, -0.009534, 780, 1200000.0, 2.351955, 29.585799, 0.19627, 0.119159, 0.421002, 0.215027, 0.057, 0.086, 0.001, 0.061, 0.052, 0.02, 0.066, 0.04, 0.059, 0.176, 0.264, 0.119, 0.1, 0.094, 0.103, 0.128, 0.575, 0.685373, 0.045173, 0.138355, 0.048073, 0.324082, 0.477182, 0.127736, 0.0656, 0.481236, 0.207409, 0.211582, 0.099755, 24.0, 0.00401, 0.217, 0.281, 0.630345, 46.579914, 38.435867, 11.046722, 0.0], [\"E14000654\", 0.2497, 0.1261, 0.4251, 0.1823, 25.697582, 4728.460404, 4630, 0.525535, 38.10386, 0.055681, 0.004164, 670, 357000.0, 0.961269, 10.246843, 0.22905, 0.323814, 0.201664, 0.22312, 0.122, 0.142, 0.0, 0.048, 0.081, 0.058, 0.125, 0.055, 0.096, 0.075, 0.132, 0.068, 0.198, 0.186, 0.172, 0.13, 0.314, 0.614175, 0.065621, 0.125452, 0.179443, 0.314598, 0.560473, 0.059466, 0.060224, 0.741764, 0.066858, 0.117179, 0.074199, 55.4, 0.00686, 0.1456, 0.503, 0.714598, 42.425251, 52.325235, 1.896972, 0.0], [\"E14000655\", 0.2524, 0.1232, 0.4419, 0.152, 17.551185, 8332.086837, 4760, 0.605396, 32.549679, 0.067888, -0.000675, 620, 332000.0, 0.952941, 10.297767, 0.183939, 0.322072, 0.26516, 0.200045, 0.1, 0.16, 0.0, 0.061, 0.079, 0.064, 0.15, 0.062, 0.093, 0.063, 0.094, 0.074, 0.178, 0.18075, 0.17075, 0.13775, 0.33175, 0.35168, 0.076402, 0.233814, 0.315479, 0.227897, 0.542295, 0.129392, 0.093212, 0.59236, 0.085884, 0.195297, 0.126459, 51.6, 0.01016, 0.1423, 0.412, 0.683207, 19.871526, 74.154269, 2.777452, 0.0], [\"E14000656\", 0.2202, 0.1045, 0.4192, 0.2287, 43.298651, 2715.973742, 5525, 0.391688, 46.982092, 0.031252, -0.001743, 740, 430350.0, 0.892064, 11.183732, 0.320187, 0.401726, 0.15333, 0.106066, 0.128, 0.133, 0.001, 0.034, 0.076, 0.047, 0.11, 0.052, 0.104, 0.096, 0.152, 0.067, 0.152, 0.17025, 0.17525, 0.13525, 0.36725, 0.727184, 0.053041, 0.119223, 0.086603, 0.295847, 0.594492, 0.045184, 0.059399, 0.801818, 0.056433, 0.081817, 0.059914, 60.0, 0.00517, 0.1858, 0.458, 0.734931, 54.416638, 35.796725, 5.780564, 0.0], [\"E14000657\", 0.2612, 0.1327, 0.398, 0.1802, 40.949598, 2745.081913, 3610, 0.778325, 32.114581, 0.045843, -0.021296, 570, 319750.0, 0.880882, 10.787787, 0.27273, 0.336594, 0.13639, 0.238588, 0.182, 0.156, 0.001, 0.042, 0.056, 0.083, 0.127, 0.063, 0.088, 0.05, 0.093, 0.061, 0.296, 0.21325, 0.18025, 0.11625, 0.19325, 0.722137, 0.033519, 0.084112, 0.150622, 0.277667, 0.626653, 0.058253, 0.034607, 0.797786, 0.064473, 0.095573, 0.042169, 59.4, 0.01115, 0.1993, 0.703, 0.650221, 39.931942, 50.07962, 1.014332, 0.0], [\"E14000673\", 0.2474, 0.137, 0.4751, 0.1331, 14.817076, 7855.261076, 5165, 0.553383, 44.375902, 0.045764, -0.017201, 730, 527000.0, 1.509524, 13.883035, 0.14693, 0.263715, 0.243713, 0.324369, 0.065, 0.096, 0.001, 0.059, 0.057, 0.033, 0.13, 0.061, 0.113, 0.137, 0.149, 0.1, 0.142, 0.1205, 0.1255, 0.1165, 0.4965, 0.594181, 0.078133, 0.057363, 0.249643, 0.395442, 0.516491, 0.055246, 0.027338, 0.676955, 0.10766, 0.179769, 0.035615, 52.0, 0.00073, 0.1322, 0.229, 0.721517, 19.485956, 69.636464, 7.970718, 0.0], [\"E14000674\", 0.2569, 0.1591, 0.448, 0.1643, 17.946294, 6852.946779, 8915, 0.469909, 72.488515, 0.03877, -0.00288, 670, 596000.0, 1.384, 17.106774, 0.213265, 0.24175, 0.34353, 0.165921, 0.112, 0.117, 0.0, 0.064, 0.035, 0.044, 0.091, 0.059, 0.096, 0.124, 0.169, 0.089, 0.116, 0.1165, 0.1215, 0.1285, 0.5175, 0.633065, 0.05124, 0.157663, 0.090429, 0.302104, 0.489713, 0.133639, 0.069235, 0.53494, 0.192515, 0.174637, 0.097899, 56.7, 0.01224, 0.1316, 0.292, 0.748423, 34.74757, 59.696072, 5.556359, 0.0], [\"E14000675\", 0.2429, 0.1145, 0.4213, 0.1832, 23.253068, 5181.810916, 4805, 0.620573, 39.877835, 0.043649, -0.00771, 590, 420975.0, 0.958023, 13.72148, 0.232235, 0.317891, 0.223084, 0.198421, 0.163, 0.156, 0.0, 0.061, 0.039, 0.085, 0.107, 0.072, 0.089, 0.067, 0.093, 0.069, 0.19, 0.173, 0.158, 0.136, 0.343, 0.498733, 0.046368, 0.26372, 0.130229, 0.189816, 0.502687, 0.155238, 0.147419, 0.535053, 0.169861, 0.148286, 0.146792, 53.8, 0.00675, 0.1816, 0.463, 0.704457, 28.452281, 65.951329, 2.427832, 0.0], [\"E14000676\", 0.2345, 0.1091, 0.4391, 0.1784, 14.351296, 6863.770169, 4165, 0.522852, 42.282547, 0.045815, -0.016727, 610, 440000.0, 0.955556, 13.871375, 0.248974, 0.295231, 0.242389, 0.18067, 0.129, 0.166, 0.001, 0.081, 0.04, 0.099, 0.095, 0.076, 0.084, 0.065, 0.103, 0.061, 0.194, 0.16775, 0.14975, 0.13875, 0.34975, 0.304485, 0.03402, 0.507287, 0.105073, 0.154116, 0.293015, 0.1883, 0.356735, 0.476178, 0.09438, 0.128686, 0.300747, 41.6, 0.00991, 0.2452, 0.418, 0.695189, 21.331266, 70.262488, 4.19094, 0.0], [\"E14000679\", 0.2824, 0.1513, 0.439, 0.1119, 18.879195, 8672.509477, 5375, 1.31681, 32.828437, 0.040722, -0.023731, 610, 389000.0, 1.047368, 12.263556, 0.147297, 0.234693, 0.34878, 0.246147, 0.112, 0.198, 0.001, 0.114, 0.042, 0.069, 0.096, 0.084, 0.083, 0.049, 0.092, 0.06, 0.205, 0.16925, 0.15125, 0.13725, 0.33825, 0.230863, 0.038754, 0.538087, 0.158654, 0.127281, 0.334392, 0.37378, 0.161343, 0.444595, 0.100299, 0.128862, 0.326237, 45.4, 0.01478, 0.2609, 0.463, 0.676914, 12.785832, 83.209436, 1.158335, 0.0], [\"E14000687\", 0.2795, 0.1352, 0.4081, 0.154, 19.749312, 6093.528829, 3620, 0.60177, 30.080686, 0.059327, -0.027509, 580, 360000.0, 1.022472, 11.93634, 0.211704, 0.279935, 0.235002, 0.245555, 0.12, 0.183, 0.001, 0.071, 0.054, 0.066, 0.141, 0.063, 0.101, 0.051, 0.074, 0.074, 0.273, 0.1835, 0.1675, 0.1275, 0.2495, 0.472626, 0.058844, 0.129441, 0.273142, 0.19065, 0.510829, 0.245299, 0.049715, 0.570396, 0.192104, 0.183225, 0.054275, 57.7, 0.01152, 0.1446, 0.455, 0.665749, 23.137506, 71.479921, 1.964376, 0.0], [\"E14000690\", 0.238, 0.1218, 0.4288, 0.1965, 21.58718, 4397.285808, 3210, 0.788301, 33.816171, 0.033606, -0.018609, 720, 405000.0, 1.222222, 10.817308, 0.247046, 0.339343, 0.120137, 0.275499, 0.136, 0.127, 0.001, 0.056, 0.067, 0.052, 0.114, 0.057, 0.116, 0.074, 0.118, 0.083, 0.235, 0.178, 0.162, 0.13, 0.295, 0.765784, 0.038603, 0.079012, 0.098731, 0.340935, 0.56645, 0.0458, 0.04287, 0.796165, 0.075135, 0.080293, 0.048407, 55.4, 0.00061, 0.1626, 0.518, 0.718196, 40.801647, 54.442639, 3.156754, 0.0], [\"E14000691\", 0.2588, 0.1258, 0.4139, 0.1708, 37.256707, 2958.205597, 3650, 0.477733, 33.11769, 0.046179, -0.016914, 650, 380000.0, 0.979167, 11.242604, 0.251995, 0.344088, 0.193383, 0.188188, 0.137, 0.162, 0.001, 0.051, 0.062, 0.058, 0.127, 0.053, 0.115, 0.064, 0.094, 0.076, 0.243, 0.18825, 0.16525, 0.12525, 0.27825, 0.675051, 0.055515, 0.073496, 0.154872, 0.257217, 0.568048, 0.134678, 0.035904, 0.727839, 0.135406, 0.102598, 0.034157, 62.7, 0.00879, 0.2164, 0.492, 0.71523, 36.919592, 58.01915, 2.133224, 0.0], [\"E14000692\", 0.2336, 0.1316, 0.4324, 0.2084, 25.158346, 4106.50999, 6005, 0.620783, 58.124341, 0.026617, -0.016888, 700, 526500.0, 1.19375, 14.464286, 0.328112, 0.328662, 0.237225, 0.086697, 0.114, 0.139, 0.001, 0.059, 0.049, 0.038, 0.103, 0.051, 0.118, 0.105, 0.127, 0.097, 0.172, 0.141, 0.149, 0.132, 0.405, 0.699632, 0.050003, 0.131623, 0.073125, 0.255213, 0.530384, 0.110668, 0.092138, 0.657323, 0.190757, 0.094973, 0.056947, 61.9, 0.00266, 0.1466, 0.379, 0.743536, 42.695746, 51.707085, 3.983198, 0.0], [\"E14000696\", 0.2666, 0.1344, 0.4299, 0.1474, 23.342877, 5220.736049, 3480, 0.826772, 28.555721, 0.043344, -0.016991, 580, 305000.0, 0.906846, 10.112732, 0.1958, 0.323242, 0.18345, 0.27437, 0.147, 0.149, 0.001, 0.061, 0.072, 0.071, 0.137, 0.073, 0.086, 0.053, 0.08, 0.069, 0.224, 0.199, 0.179, 0.127, 0.271, 0.577934, 0.040699, 0.110657, 0.256902, 0.279262, 0.588029, 0.055542, 0.073481, 0.69372, 0.068406, 0.167879, 0.069995, 49.1, 0.01741, 0.2324, 0.546, 0.638847, 35.019341, 57.540932, 1.686758, 0.0], [\"E14000701\", 0.2523, 0.1327, 0.4298, 0.1628, 29.843019, 4521.928623, 5005, 0.781139, 37.08836, 0.048255, 0.003499, 560, 315000.0, 0.721311, 10.817308, 0.20555, 0.303088, 0.196422, 0.256008, 0.112, 0.169, 0.0, 0.096, 0.047, 0.16, 0.085, 0.079, 0.063, 0.044, 0.092, 0.055, 0.211, 0.1985, 0.1645, 0.1315, 0.2945, 0.448665, 0.03665, 0.408434, 0.070948, 0.190309, 0.389383, 0.156626, 0.257805, 0.563632, 0.094561, 0.104656, 0.237151, 61.1, 0.01138, 0.21, 0.559, 0.650292, 31.793237, 61.21787, 2.615649, 0.0], [\"E14000703\", 0.2468, 0.1336, 0.4294, 0.1885, 20.828971, 6348.033273, 10250, 0.527571, 77.520552, 0.028965, -0.007009, 640, 620000.0, 1.302445, 18.629808, 0.283469, 0.262714, 0.319683, 0.110356, 0.092, 0.133, 0.0, 0.061, 0.033, 0.032, 0.111, 0.05, 0.114, 0.134, 0.136, 0.104, 0.133, 0.11525, 0.13225, 0.12425, 0.49425, 0.66455, 0.04746, 0.169052, 0.058512, 0.267445, 0.347879, 0.094347, 0.280172, 0.576239, 0.163372, 0.165138, 0.095242, 46.4, 0.00388, 0.1408, 0.311, 0.716551, 46.958099, 43.794979, 6.610671, 0.0], [\"E14000718\", 0.2785, 0.1759, 0.4547, 0.1169, 16.780427, 7902.301717, 5550, 0.828666, 41.853941, 0.039433, -0.019833, 730, 455000.0, 1.219512, 11.986301, 0.113573, 0.209306, 0.251434, 0.39264, 0.09, 0.111, 0.001, 0.072, 0.064, 0.04, 0.112, 0.068, 0.099, 0.1, 0.157, 0.086, 0.178, 0.13425, 0.13725, 0.12625, 0.42225, 0.586053, 0.054551, 0.138846, 0.201007, 0.35556, 0.481541, 0.080859, 0.077805, 0.642247, 0.102523, 0.159001, 0.096219, 46.7, 0.01374, 0.1637, 0.357, 0.690582, 25.422739, 64.427748, 7.127255, 0.0], [\"E14000720\", 0.2653, 0.1528, 0.469, 0.1082, 9.074018, 15746.276474, 7120, 0.932157, 49.831329, 0.044985, -0.025628, 730, 540000.0, 1.511628, 14.225501, 0.10179, 0.16878, 0.324841, 0.372988, 0.07, 0.115, 0.001, 0.066, 0.041, 0.03, 0.103, 0.057, 0.129, 0.144, 0.133, 0.113, 0.2, 0.121, 0.121, 0.112, 0.445, 0.577424, 0.060756, 0.106298, 0.19582, 0.379643, 0.338788, 0.138508, 0.137907, 0.620169, 0.156198, 0.1721, 0.051532, 52.7, 0.00021, 0.1385, 0.205, 0.664076, 12.657643, 75.073715, 6.779992, 0.0], [\"E14000721\", 0.2865, 0.184, 0.4866, 0.1073, 9.98592, 13697.585571, 14180, 1.507515, 103.667853, 0.045865, -0.034259, 670, 530000.0, 1.409146, 15.2124, 0.067222, 0.137618, 0.254208, 0.501104, 0.065, 0.116, 0.0, 0.069, 0.04, 0.034, 0.107, 0.06, 0.098, 0.156, 0.156, 0.1, 0.191, 0.12375, 0.12775, 0.11975, 0.43775, 0.51327, 0.068424, 0.103667, 0.26884, 0.376305, 0.437725, 0.143723, 0.036741, 0.59833, 0.15109, 0.196526, 0.054045, 45.2, 0.00423, 0.1438, 0.228, 0.668708, 10.917007, 79.441413, 5.723164, 0.0], [\"E14000726\", 0.279, 0.1857, 0.4582, 0.1442, 11.265622, 10543.58092, 7660, 0.352162, 64.488971, 0.052622, -0.000688, 800, 700000.0, 1.8, 16.826923, 0.13886, 0.168619, 0.319502, 0.343241, 0.072, 0.11, 0.001, 0.077, 0.033, 0.035, 0.102, 0.054, 0.089, 0.148, 0.18, 0.101, 0.136, 0.11375, 0.11275, 0.13475, 0.50275, 0.633217, 0.05873, 0.103065, 0.141429, 0.332115, 0.51069, 0.11845, 0.033898, 0.554112, 0.171471, 0.205496, 0.068921, 42.4, 0.00542, 0.1447, 0.313, 0.719517, 28.178826, 63.873153, 5.362474, 0.0], [\"E14000727\", 0.2517, 0.1567, 0.4554, 0.1641, 12.775698, 11605.393662, 9385, 0.411278, 63.297969, 0.027066, -0.020576, 850, 760000.0, 1.375, 17.19457, 0.195969, 0.185736, 0.361084, 0.234329, 0.064, 0.101, 0.001, 0.059, 0.031, 0.026, 0.095, 0.045, 0.089, 0.178, 0.21, 0.103, 0.115, 0.099, 0.106, 0.113, 0.567, 0.655209, 0.059113, 0.132234, 0.101655, 0.39838, 0.384602, 0.106871, 0.10414, 0.541077, 0.171853, 0.202763, 0.084292, 57.8, 0.00132, 0.0974, 0.237, 0.706053, 32.365984, 59.006626, 7.019707, 0.0], [\"E14000731\", 0.2421, 0.1285, 0.4032, 0.2186, 23.704996, 4578.739506, 6465, 0.752033, 59.563843, 0.023699, -0.013744, 630, 515000.0, 1.06, 15.720391, 0.329354, 0.346106, 0.197311, 0.104552, 0.152, 0.196, 0.0, 0.041, 0.045, 0.055, 0.108, 0.051, 0.084, 0.092, 0.111, 0.066, 0.197, 0.161, 0.157, 0.129, 0.355, 0.392363, 0.034339, 0.457301, 0.083644, 0.126801, 0.336957, 0.129827, 0.371585, 0.530845, 0.106842, 0.179759, 0.182545, 59.1, 0.01123, 0.1811, 0.475, 0.710571, 49.422755, 45.967155, 3.093716, 0.0], [\"E14000732\", 0.2469, 0.1286, 0.4287, 0.1818, 17.821785, 6165.431819, 6650, 0.705128, 60.521119, 0.028521, -0.009473, 700, 465000.0, 1.032787, 12.774725, 0.267823, 0.331843, 0.263729, 0.109052, 0.119, 0.164, 0.0, 0.05, 0.049, 0.059, 0.109, 0.053, 0.103, 0.096, 0.132, 0.065, 0.147, 0.15075, 0.15275, 0.13575, 0.41275, 0.401469, 0.045918, 0.428906, 0.093486, 0.174291, 0.39208, 0.133442, 0.284001, 0.533663, 0.107944, 0.145174, 0.21321, 58.5, 0.0081, 0.1619, 0.451, 0.723283, 34.407705, 60.847979, 2.516135, 0.0], [\"E14000737\", 0.2603, 0.1292, 0.4335, 0.1396, 45.05175, 2828.125459, 4745, 0.871795, 37.24139, 0.035963, -0.021045, 560, 365000.0, 0.881443, 12.534341, 0.214236, 0.330883, 0.210735, 0.212231, 0.139, 0.176, 0.001, 0.082, 0.042, 0.157, 0.096, 0.073, 0.073, 0.042, 0.072, 0.05, 0.223, 0.21175, 0.16775, 0.13375, 0.26275, 0.433957, 0.041105, 0.36534, 0.118765, 0.185022, 0.40097, 0.166335, 0.242116, 0.597296, 0.083454, 0.113635, 0.205606, 55.8, 0.01744, 0.1864, 0.582, 0.654037, 28.620141, 66.516045, 1.25727, 0.0], [\"E14000741\", 0.2643, 0.142, 0.4224, 0.1635, 31.370901, 4499.010071, 7355, 0.597177, 52.112117, 0.033749, -0.010323, 640, 482901.0, 1.054898, 14.510246, 0.238043, 0.280994, 0.253518, 0.200058, 0.116, 0.163, 0.0, 0.067, 0.035, 0.046, 0.12, 0.059, 0.102, 0.095, 0.103, 0.093, 0.173, 0.15025, 0.15725, 0.13525, 0.38425, 0.548984, 0.048407, 0.236477, 0.115351, 0.195299, 0.387844, 0.139106, 0.267703, 0.558693, 0.143904, 0.167433, 0.129971, 45.1, 0.00252, 0.1943, 0.416, 0.683856, 48.028344, 45.975294, 3.80159, 0.0], [\"E14000750\", 0.3393, 0.2247, 0.4033, 0.1529, 13.181104, 12088.820451, 25280, 0.58794, 158.650467, 0.036859, -0.021893, 680, 725000.0, 1.705224, 20.503394, 0.141115, 0.133862, 0.280639, 0.41847, 0.051, 0.102, 0.001, 0.071, 0.038, 0.031, 0.107, 0.041, 0.11, 0.17, 0.169, 0.111, 0.147, 0.10775, 0.10475, 0.16775, 0.47375, 0.636403, 0.056767, 0.17833, 0.092656, 0.471432, 0.336946, 0.141195, 0.044824, 0.597684, 0.149238, 0.1464, 0.106663, 54.1, 0.00062, 0.1002, 0.267, 0.671771, 18.363646, 70.076445, 6.813906, 0.0], [\"E14000751\", 0.2336, 0.1184, 0.3922, 0.2488, 57.650373, 1926.006621, 4225, 0.467014, 38.051065, 0.027875, -0.01492, 650, 380000.0, 0.938776, 11.242604, 0.375349, 0.367827, 0.085718, 0.159232, 0.176, 0.143, 0.001, 0.033, 0.064, 0.064, 0.106, 0.047, 0.094, 0.068, 0.142, 0.06, 0.264, 0.2135, 0.1855, 0.1245, 0.2115, 0.897838, 0.017628, 0.040838, 0.038835, 0.286876, 0.668981, 0.016073, 0.024999, 0.910429, 0.033827, 0.033215, 0.022529, 58.0, 0.00796, 0.1601, 0.695, 0.69497, 60.219467, 28.596663, 2.446249, 0.0], [\"E14000752\", 0.2375, 0.1345, 0.4799, 0.1581, 16.443456, 7821.713356, 7065, 0.495238, 54.930957, 0.030905, -0.022493, 710, 620000.0, 1.530612, 16.793066, 0.189051, 0.266296, 0.322416, 0.197852, 0.077, 0.1, 0.0, 0.062, 0.041, 0.026, 0.107, 0.051, 0.123, 0.147, 0.158, 0.109, 0.124, 0.10175, 0.11575, 0.11675, 0.54275, 0.712942, 0.062782, 0.082434, 0.106461, 0.41399, 0.424691, 0.091384, 0.064047, 0.633158, 0.190558, 0.129081, 0.047204, 59.8, 0.00502, 0.1203, 0.25, 0.781165, 14.842759, 65.397396, 16.053168, 0.0], [\"E14000759\", 0.2559, 0.1312, 0.422, 0.1888, 28.994183, 3812.626793, 5145, 0.874317, 46.542553, 0.025346, -0.019794, 630, 425000.0, 0.888889, 12.973138, 0.299496, 0.384768, 0.163889, 0.1322, 0.123, 0.15, 0.0, 0.046, 0.059, 0.064, 0.115, 0.051, 0.112, 0.083, 0.13, 0.07, 0.204, 0.1785, 0.1645, 0.1295, 0.3235, 0.525173, 0.042207, 0.33177, 0.077562, 0.194884, 0.4152, 0.152784, 0.233163, 0.692092, 0.077347, 0.080067, 0.150484, 62.0, 0.01076, 0.1654, 0.533, 0.72677, 39.572354, 57.779415, 1.953118, 0.0], [\"E14000760\", 0.2806, 0.1421, 0.4162, 0.1383, 15.672835, 9285.939843, 6260, 1.083195, 43.013117, 0.041157, -0.024342, 650, 370000.0, 0.78744, 10.946746, 0.239941, 0.32797, 0.30256, 0.104596, 0.113, 0.174, 0.0, 0.055, 0.061, 0.065, 0.113, 0.056, 0.102, 0.067, 0.133, 0.06, 0.184, 0.1665, 0.1575, 0.1345, 0.3575, 0.242157, 0.038204, 0.572481, 0.113153, 0.120769, 0.279505, 0.349197, 0.245133, 0.533743, 0.074606, 0.110902, 0.280734, 56.6, 0.0006, 0.1191, 0.433, 0.677183, 20.946286, 75.834677, 1.338953, 0.0], [\"E14000763\", 0.3177, 0.2222, 0.4418, 0.1244, 7.380221, 15949.252315, 5220, 0.482955, 44.346651, 0.042944, -0.029943, 740, 548112.0, 1.293356, 14.244075, 0.11424, 0.188277, 0.269994, 0.403442, 0.061, 0.097, 0.0, 0.059, 0.045, 0.029, 0.106, 0.046, 0.108, 0.177, 0.17, 0.1, 0.165, 0.111, 0.105, 0.112, 0.507, 0.670558, 0.069731, 0.079995, 0.145213, 0.470895, 0.392939, 0.099566, 0.031613, 0.654457, 0.154384, 0.146276, 0.044883, 59.3, 0.00503, 0.1321, 0.216, 0.735658, 12.509103, 72.979173, 9.004515, 0.0], [\"E14000764\", 0.3622, 0.273, 0.4213, 0.1193, 7.479164, 16236.173516, 14910, 0.828326, 122.783757, 0.038404, -0.022034, 870, 696250.0, 1.504496, 15.390141, 0.112098, 0.153487, 0.26909, 0.437386, 0.061, 0.093, 0.0, 0.054, 0.039, 0.03, 0.087, 0.043, 0.085, 0.207, 0.213, 0.088, 0.174, 0.10875, 0.10175, 0.12175, 0.49375, 0.692926, 0.059656, 0.104787, 0.109774, 0.461015, 0.411296, 0.089805, 0.03349, 0.638287, 0.155802, 0.142749, 0.063162, 50.8, 0.00178, 0.1362, 0.283, 0.693109, 20.655997, 62.82753, 12.089742, 0.0], [\"E14000768\", 0.2355, 0.1403, 0.4569, 0.1967, 8.97741, 12658.99671, 9905, 0.271502, 87.157376, 0.029232, -0.015226, 840, 1325000.0, 1.849462, 30.334249, 0.21283, 0.124941, 0.356367, 0.265959, 0.062, 0.097, 0.001, 0.054, 0.024, 0.027, 0.066, 0.043, 0.063, 0.166, 0.283, 0.116, 0.105, 0.099, 0.109, 0.134, 0.554, 0.679496, 0.060089, 0.106306, 0.075421, 0.316426, 0.521274, 0.109309, 0.047607, 0.477395, 0.21657, 0.223191, 0.082843, 55.8, 0.00783, 0.1948, 0.312, 0.640308, 42.177522, 42.229232, 12.213977, 0.0], [\"E14000770\", 0.2518, 0.1473, 0.4335, 0.1859, 28.39412, 4483.040811, 6610, 0.415418, 51.927851, 0.024072, -0.00189, 740, 455000.0, 1.058824, 11.824324, 0.273649, 0.362713, 0.223028, 0.124353, 0.111, 0.153, 0.001, 0.049, 0.058, 0.043, 0.107, 0.054, 0.109, 0.1, 0.136, 0.08, 0.145, 0.1465, 0.1465, 0.1575, 0.4055, 0.749335, 0.03666, 0.163777, 0.026296, 0.333859, 0.535677, 0.05483, 0.070753, 0.728945, 0.087727, 0.081177, 0.102151, 65.5, 0.0037, 0.1136, 0.408, 0.763164, 38.09386, 14.801055, 44.726431, 0.0], [\"E14000787\", 0.2412, 0.1233, 0.4626, 0.1531, 14.826449, 7480.685318, 3340, 0.590476, 30.113964, 0.04596, -0.013659, 630, 410000.0, 1.246575, 12.515263, 0.18735, 0.312344, 0.210748, 0.273645, 0.094, 0.122, 0.0, 0.06, 0.068, 0.046, 0.136, 0.058, 0.115, 0.087, 0.126, 0.087, 0.201, 0.1595, 0.1545, 0.1225, 0.3625, 0.557169, 0.070104, 0.087451, 0.258184, 0.330215, 0.559987, 0.06075, 0.044674, 0.700487, 0.093214, 0.150314, 0.055985, 52.0, 0.0013, 0.1414, 0.354, 0.694498, 23.005869, 67.947713, 4.419398, 0.0], [\"E14000788\", 0.2233, 0.1203, 0.483, 0.1474, 15.844629, 7304.746441, 4070, 0.547529, 35.164721, 0.044099, -0.014742, 710, 416400.0, 1.393103, 11.27844, 0.164922, 0.308176, 0.213556, 0.293367, 0.095, 0.113, 0.0, 0.051, 0.069, 0.041, 0.13, 0.057, 0.115, 0.096, 0.132, 0.102, 0.175, 0.1565, 0.1525, 0.1235, 0.3925, 0.619965, 0.072967, 0.065504, 0.224402, 0.374128, 0.539771, 0.053258, 0.027747, 0.723444, 0.096091, 0.140679, 0.039776, 48.6, 0.0066, 0.1339, 0.346, 0.731862, 23.026167, 66.567035, 6.235431, 0.0], [\"E14000789\", 0.2908, 0.1974, 0.4697, 0.1093, 12.036513, 10508.774648, 4680, 0.730129, 36.999265, 0.045283, -0.021709, 690, 450000.0, 1.5, 12.541806, 0.10982, 0.233914, 0.292004, 0.334407, 0.071, 0.108, 0.0, 0.09, 0.056, 0.037, 0.117, 0.065, 0.114, 0.101, 0.134, 0.107, 0.153, 0.1315, 0.1365, 0.1395, 0.4395, 0.498985, 0.075337, 0.108414, 0.288743, 0.385502, 0.491682, 0.072695, 0.04381, 0.610838, 0.120352, 0.197249, 0.071561, 39.7, 0.00631, 0.225, 0.244, 0.705001, 13.72115, 77.044927, 5.281971, 0.0], [\"E14000790\", 0.2618, 0.1586, 0.4578, 0.1432, 15.328504, 7224.710327, 4960, 1.219239, 44.787979, 0.033423, -0.027011, 680, 450000.0, 1.307692, 12.726244, 0.20261, 0.265737, 0.307362, 0.205853, 0.123, 0.124, 0.0, 0.086, 0.051, 0.049, 0.119, 0.067, 0.112, 0.079, 0.111, 0.078, 0.175, 0.1515, 0.1495, 0.1285, 0.3955, 0.491539, 0.052101, 0.246326, 0.171381, 0.250655, 0.462907, 0.226352, 0.055815, 0.569325, 0.166169, 0.140589, 0.123917, 61.0, 0.00577, 0.1217, 0.348, 0.710863, 20.849847, 69.811362, 6.412839, 0.0], [\"E14000823\", 0.2403, 0.1271, 0.4553, 0.1616, 16.446999, 6469.994781, 4055, 0.774617, 38.106605, 0.044199, -0.004825, 580, 390000.0, 1.063492, 12.931034, 0.218376, 0.343103, 0.217376, 0.201605, 0.135, 0.163, 0.0, 0.066, 0.056, 0.063, 0.134, 0.073, 0.085, 0.064, 0.086, 0.075, 0.201, 0.18125, 0.16825, 0.13725, 0.31325, 0.537358, 0.05155, 0.217207, 0.17403, 0.237797, 0.558239, 0.106933, 0.093526, 0.597427, 0.125094, 0.148522, 0.128957, 60.1, 0.00788, 0.1671, 0.447, 0.702191, 24.240409, 68.662455, 3.104867, 0.0], [\"E14000869\", 0.24, 0.1268, 0.3981, 0.2453, 24.570164, 3641.57115, 3585, 0.425447, 40.067506, 0.014781, -0.013551, 730, 375000.0, 0.913265, 9.87882, 0.378233, 0.419663, 0.101571, 0.086031, 0.163, 0.136, 0.001, 0.034, 0.077, 0.053, 0.097, 0.046, 0.104, 0.08, 0.139, 0.069, 0.22, 0.21525, 0.19225, 0.13325, 0.23725, 0.889762, 0.020042, 0.055427, 0.02827, 0.31037, 0.637011, 0.020541, 0.029373, 0.901077, 0.035674, 0.03311, 0.030139, 47.2, 0.00532, 0.253, 0.624, 0.729354, 61.498272, 29.305608, 3.272137, 0.0], [\"E14000872\", 0.2089, 0.092, 0.3977, 0.2627, 78.751449, 1172.651439, 4365, 0.455, 47.26686, 0.019761, -0.008564, 770, 420000.0, 0.787234, 10.48951, 0.409, 0.388448, 0.078913, 0.107175, 0.139, 0.138, 0.002, 0.033, 0.069, 0.045, 0.109, 0.047, 0.102, 0.089, 0.155, 0.071, 0.2, 0.19325, 0.18325, 0.12825, 0.29525, 0.899647, 0.021691, 0.042389, 0.030517, 0.32327, 0.637286, 0.014231, 0.021849, 0.90029, 0.033327, 0.03695, 0.029433, 56.6, 0.01941, 0.1899, 0.575, 0.744676, 62.943659, 24.377242, 6.56943, 0.0], [\"E14000882\", 0.3059, 0.1991, 0.4621, 0.0855, 10.590515, 15803.574865, 8530, 0.981417, 50.965537, 0.045761, -0.030868, 850, 475000.0, 0.916095, 10.746606, 0.087151, 0.163442, 0.343707, 0.367839, 0.061, 0.096, 0.0, 0.094, 0.037, 0.038, 0.071, 0.05, 0.08, 0.126, 0.279, 0.069, 0.191, 0.13125, 0.11125, 0.11625, 0.45025, 0.434782, 0.039908, 0.422036, 0.080182, 0.326102, 0.291172, 0.336223, 0.04338, 0.546545, 0.120789, 0.103134, 0.229531, 30.6, 0.00721, 0.2903, 0.342, 0.676633, 20.141463, 67.259496, 6.73139, 0.0], [\"E14000887\", 0.2543, 0.157, 0.4658, 0.1463, 12.765573, 7773.250493, 4995, 0.37414, 50.3376, 0.022988, -0.007689, 850, 600000.0, 1.352941, 13.574661, 0.20702, 0.259086, 0.303558, 0.204302, 0.076, 0.107, 0.001, 0.062, 0.041, 0.033, 0.096, 0.056, 0.091, 0.159, 0.188, 0.091, 0.119, 0.09925, 0.11025, 0.13225, 0.54025, 0.753394, 0.047636, 0.101278, 0.073847, 0.338558, 0.545751, 0.07874, 0.03255, 0.629502, 0.137672, 0.165328, 0.067498, 44.7, 0.00257, 0.189, 0.278, 0.722824, 44.097326, 40.783469, 11.617691, 0.0], [\"E14000896\", 0.2183, 0.1028, 0.4473, 0.1939, 37.118576, 3418.881197, 8260, 0.285603, 65.088571, 0.018419, -0.001381, 790, 719000.0, 1.313757, 17.502434, 0.294553, 0.314929, 0.242044, 0.128937, 0.082, 0.105, 0.001, 0.041, 0.042, 0.029, 0.095, 0.048, 0.106, 0.161, 0.193, 0.095, 0.096, 0.097, 0.115, 0.122, 0.57, 0.816451, 0.041311, 0.098677, 0.016937, 0.360269, 0.540575, 0.046078, 0.0482, 0.702232, 0.115793, 0.116495, 0.065471, 65.7, 0.00263, 0.1129, 0.287, 0.793015, 45.141323, 9.115743, 45.070267, 0.0], [\"E14000900\", 0.2426, 0.1344, 0.4026, 0.2203, 29.394229, 3593.562564, 4130, 0.469751, 39.098741, 0.02871, -0.012581, 690, 350000.0, 0.866667, 9.754738, 0.333401, 0.397881, 0.130281, 0.121262, 0.178, 0.143, 0.001, 0.034, 0.064, 0.064, 0.111, 0.045, 0.094, 0.067, 0.133, 0.065, 0.249, 0.21575, 0.18775, 0.12875, 0.21875, 0.865497, 0.022775, 0.058043, 0.047073, 0.297401, 0.64174, 0.024684, 0.033714, 0.887063, 0.043663, 0.038397, 0.030878, 61.8, 0.00271, 0.1822, 0.693, 0.681289, 59.408538, 31.82164, 2.432725, 0.0], [\"E14000906\", 0.2031, 0.0979, 0.4041, 0.2672, 49.532001, 1972.260307, 5995, 0.44284, 61.367591, 0.017518, -0.007316, 740, 560000.0, 1.24, 14.553015, 0.379514, 0.353015, 0.137557, 0.115026, 0.135, 0.138, 0.001, 0.033, 0.056, 0.054, 0.114, 0.049, 0.11, 0.108, 0.132, 0.072, 0.152, 0.155, 0.16, 0.125, 0.409, 0.704277, 0.033943, 0.217466, 0.028362, 0.236416, 0.522152, 0.05618, 0.172532, 0.754524, 0.066691, 0.095469, 0.083316, 57.9, 0.00885, 0.1483, 0.495, 0.728996, 57.238395, 31.049792, 7.142857, 0.0], [\"E14000978\", 0.2767, 0.1886, 0.4818, 0.1187, 10.445456, 11905.463461, 4435, 0.518836, 35.663166, 0.038008, -0.023462, 710, 500000.0, 1.325581, 13.542795, 0.138911, 0.254677, 0.315971, 0.268154, 0.078, 0.103, 0.0, 0.075, 0.053, 0.033, 0.103, 0.074, 0.09, 0.136, 0.158, 0.097, 0.135, 0.1225, 0.1285, 0.1225, 0.4925, 0.581941, 0.074953, 0.077265, 0.24332, 0.353998, 0.534308, 0.079725, 0.027024, 0.611382, 0.149358, 0.196348, 0.042913, 42.7, 0.00202, 0.1229, 0.205, 0.711465, 21.376467, 68.486424, 6.471906, 0.0], [\"E14000984\", 0.2109, 0.1026, 0.4435, 0.2109, 18.34224, 5559.844322, 4750, 0.539708, 46.57776, 0.023797, -0.00525, 660, 377000.0, 0.885, 10.984848, 0.314406, 0.395831, 0.187467, 0.088767, 0.141, 0.136, 0.001, 0.037, 0.07, 0.05, 0.134, 0.055, 0.094, 0.086, 0.122, 0.073, 0.171, 0.178, 0.171, 0.134, 0.346, 0.786035, 0.03496, 0.129303, 0.03477, 0.30796, 0.583006, 0.045484, 0.059552, 0.780425, 0.071206, 0.071069, 0.077301, 62.5, 0.00012, 0.0989, 0.513, 0.739915, 51.119877, 20.517606, 26.68655, 0.0], [\"E14000998\", 0.2689, 0.1822, 0.474, 0.1259, 11.217074, 9770.373665, 5220, 0.462185, 47.62991, 0.025007, -0.014157, 760, 577500.0, 1.406751, 14.612854, 0.183629, 0.300724, 0.328234, 0.166659, 0.076, 0.104, 0.0, 0.049, 0.05, 0.031, 0.116, 0.06, 0.087, 0.151, 0.187, 0.09, 0.122, 0.10525, 0.11025, 0.12625, 0.53625, 0.658977, 0.05066, 0.152718, 0.11974, 0.339732, 0.494621, 0.107344, 0.054102, 0.65413, 0.114071, 0.145926, 0.085873, 47.7, 0.00462, 0.158, 0.256, 0.747765, 33.068024, 59.641402, 5.255196, 0.0], [\"E14001002\", 0.285, 0.163, 0.4526, 0.1246, 13.152337, 10797.168233, 5275, 0.815835, 37.145795, 0.056199, -0.04012, 640, 450000.0, 1.556818, 13.521635, 0.128738, 0.187073, 0.306525, 0.342463, 0.111, 0.138, 0.0, 0.114, 0.044, 0.05, 0.113, 0.078, 0.105, 0.074, 0.081, 0.093, 0.234, 0.15325, 0.14725, 0.13525, 0.33025, 0.500894, 0.066985, 0.106695, 0.266557, 0.270673, 0.474168, 0.190688, 0.060114, 0.477998, 0.257542, 0.209607, 0.054853, 56.7, 0.01465, 0.171, 0.238, 0.678969, 11.481789, 81.576441, 3.419202, 0.0], [\"E14001005\", 0.2086, 0.094, 0.4505, 0.2065, 29.151543, 4053.919267, 7460, 0.329768, 63.125116, 0.020486, -0.001416, 810, 585000.0, 1.166667, 13.888889, 0.299146, 0.369559, 0.198072, 0.113475, 0.099, 0.111, 0.0, 0.041, 0.052, 0.05, 0.086, 0.048, 0.12, 0.137, 0.17, 0.088, 0.116, 0.1145, 0.1295, 0.1305, 0.5095, 0.856687, 0.034723, 0.079348, 0.015641, 0.368612, 0.549259, 0.033404, 0.043858, 0.790004, 0.084856, 0.077904, 0.047236, 65.5, 0.00463, 0.1251, 0.333, 0.796922, 38.025343, 9.223111, 52.751546, 0.0], [\"E14001007\", 0.2983, 0.1809, 0.3954, 0.1728, 30.045599, 3709.461741, 4955, 0.524615, 44.458202, 0.022885, -0.014627, 650, 417995.0, 0.971675, 12.366716, 0.278807, 0.36848, 0.179614, 0.152771, 0.152, 0.156, 0.001, 0.048, 0.066, 0.092, 0.102, 0.051, 0.107, 0.065, 0.097, 0.063, 0.179, 0.18825, 0.16325, 0.17525, 0.29525, 0.69846, 0.038768, 0.180978, 0.055672, 0.274598, 0.544335, 0.078949, 0.097079, 0.758845, 0.073584, 0.074898, 0.092662, 61.8, 0.01425, 0.1803, 0.572, 0.668869, 50.790251, 40.009423, 3.929841, 0.0], [\"E14001008\", 0.339, 0.2515, 0.4538, 0.1142, 8.563249, 14458.064187, 6380, 0.438557, 51.531403, 0.041873, -0.018244, 720, 545000.0, 1.206478, 14.556624, 0.090941, 0.170347, 0.294909, 0.412056, 0.061, 0.099, 0.0, 0.08, 0.056, 0.033, 0.098, 0.078, 0.076, 0.153, 0.171, 0.094, 0.142, 0.113, 0.113, 0.12, 0.512, 0.584322, 0.071102, 0.070506, 0.24699, 0.373164, 0.530215, 0.0667, 0.024002, 0.590548, 0.146589, 0.215683, 0.047179, 48.1, 7e-05, 0.1454, 0.224, 0.672793, 18.671197, 57.367101, 20.577014, 0.0], [\"E14001013\", 0.2476, 0.1353, 0.4676, 0.1219, 16.175352, 7350.133745, 4820, 0.871845, 40.541336, 0.046861, -0.025145, 690, 450000.0, 1.5, 12.541806, 0.15732, 0.29723, 0.283907, 0.237014, 0.132, 0.139, 0.001, 0.079, 0.055, 0.053, 0.114, 0.072, 0.111, 0.068, 0.089, 0.088, 0.206, 0.16425, 0.15325, 0.13025, 0.34825, 0.465492, 0.056281, 0.243243, 0.188778, 0.252429, 0.445359, 0.253516, 0.044831, 0.570118, 0.165329, 0.137476, 0.127077, 60.4, 0.01703, 0.1565, 0.335, 0.710773, 14.074736, 80.578693, 2.874769, 0.0], [\"E14001032\", 0.3221, 0.2151, 0.4348, 0.1054, 17.331894, 10862.92121, 7190, 1.836292, 38.18882, 0.041356, -0.036803, 630, 397000.0, 1.145946, 12.118437, 0.11198, 0.180706, 0.333688, 0.338083, 0.129, 0.148, 0.001, 0.122, 0.041, 0.053, 0.11, 0.091, 0.087, 0.058, 0.094, 0.066, 0.208, 0.1595, 0.1515, 0.1385, 0.3435, 0.345405, 0.05146, 0.33683, 0.230698, 0.190184, 0.461693, 0.268417, 0.07585, 0.480625, 0.147298, 0.170688, 0.201389, 50.0, 0.00575, 0.1907, 0.48, 0.658627, 16.203795, 76.746063, 3.024313, 0.0], [\"E14001036\", 0.2502, 0.1461, 0.4637, 0.1564, 7.972098, 16825.810054, 6240, 0.256798, 46.519603, 0.03313, -0.021513, 830, 805000.0, 1.563694, 18.651529, 0.161952, 0.142171, 0.367636, 0.297037, 0.061, 0.108, 0.0, 0.068, 0.028, 0.031, 0.078, 0.046, 0.068, 0.168, 0.242, 0.102, 0.153, 0.114, 0.114, 0.115, 0.505, 0.562965, 0.057506, 0.150577, 0.09743, 0.27905, 0.417321, 0.226349, 0.071165, 0.464807, 0.180593, 0.259088, 0.095512, 33.2, 2e-05, 0.0973, 0.337, 0.681123, 33.311006, 59.900681, 5.203834, 0.0], [\"E14001040\", 0.2155, 0.1224, 0.4635, 0.1795, 21.178232, 4711.158136, 7200, 0.431412, 72.163089, 0.016173, -0.001447, 890, 633950.0, 1.264512, 13.698142, 0.292857, 0.330709, 0.277314, 0.081489, 0.09, 0.1, 0.0, 0.041, 0.047, 0.026, 0.101, 0.053, 0.099, 0.158, 0.199, 0.086, 0.1, 0.1025, 0.1185, 0.1135, 0.5655, 0.768691, 0.041589, 0.142186, 0.0294, 0.318357, 0.563598, 0.054111, 0.059287, 0.650023, 0.116541, 0.139862, 0.093573, 65.0, 0.00703, 0.139, 0.294, 0.77348, 46.473625, 35.562629, 14.501417, 0.0], [\"E14000530\", 0.2363, 0.1276, 0.4339, 0.1996, 53.002, 1992.396518, 3825, 0.225962, 36.221248, 0.017457, -0.010669, 640, 305000.0, 0.794118, 9.164663, 0.244856, 0.409404, 0.168006, 0.152656, 0.158, 0.16, 0.001, 0.053, 0.111, 0.051, 0.11, 0.067, 0.073, 0.061, 0.101, 0.056, 0.185, 0.218, 0.188, 0.142, 0.267, 0.855334, 0.021343, 0.097737, 0.019293, 0.335213, 0.581417, 0.013818, 0.065636, 0.831556, 0.047353, 0.036316, 0.084775, 70.6, 0.01342, 0.1368, 0.579, 0.643685, 55.05618, 31.617978, 7.430031, 0.0], [\"E14000534\", 0.1808, 0.0734, 0.3712, 0.3465, 645.220941, 157.432894, 6120, 0.167939, 60.248673, 0.013748, -0.005104, 630, 390000.0, 0.591837, 11.904762, 0.422557, 0.337145, 0.112662, 0.103178, 0.167, 0.149, 0.02, 0.048, 0.046, 0.047, 0.115, 0.052, 0.103, 0.08, 0.089, 0.085, 0.179, 0.16975, 0.18175, 0.12975, 0.33975, 0.977485, 0.009993, 0.009345, 0.002149, 0.329978, 0.654837, 0.003053, 0.007351, 0.934222, 0.027728, 0.025548, 0.012502, 31.4, 0.03632, 0.2169, 0.497, 0.760085, 62.355616, 22.719729, 7.937799, 0.0], [\"E14000536\", 0.2299, 0.1083, 0.3959, 0.2426, 503.659276, 245.94206, 5985, 0.269353, 48.316394, 0.032166, 0.001781, 610, 268000.0, 0.60479, 8.448928, 0.312821, 0.36562, 0.145335, 0.147935, 0.205, 0.172, 0.016, 0.052, 0.05, 0.054, 0.126, 0.055, 0.086, 0.06, 0.064, 0.06, 0.213, 0.2085, 0.1905, 0.1325, 0.2555, 0.934957, 0.014459, 0.035072, 0.012086, 0.340083, 0.62728, 0.008934, 0.020143, 0.905472, 0.037569, 0.025297, 0.031663, 46.7, 0.037, 0.2237, 0.599, 0.686761, 58.982281, 29.793417, 5.178777, 0.0], [\"E14000538\", 0.2317, 0.1181, 0.4249, 0.2028, 185.468105, 667.133576, 4905, 0.238636, 39.64213, 0.018496, -0.005273, 620, 308500.0, 0.83631, 9.568859, 0.292901, 0.402231, 0.151923, 0.132915, 0.166, 0.163, 0.006, 0.043, 0.087, 0.047, 0.127, 0.05, 0.089, 0.068, 0.091, 0.061, 0.181, 0.19375, 0.17875, 0.13375, 0.31275, 0.857943, 0.027364, 0.083933, 0.025549, 0.329001, 0.591232, 0.057504, 0.018616, 0.870079, 0.046544, 0.037787, 0.04559, 51.3, 0.0135, 0.1781, 0.518, 0.713602, 54.969974, 30.037596, 9.628634, 0.0], [\"E14000539\", 0.2205, 0.1032, 0.4241, 0.2256, 463.644231, 268.417014, 5790, 0.169697, 46.524709, 0.016552, -0.005227, 620, 299950.0, 0.781414, 9.30366, 0.288776, 0.388712, 0.170578, 0.128444, 0.204, 0.182, 0.012, 0.043, 0.07, 0.047, 0.101, 0.046, 0.095, 0.065, 0.072, 0.062, 0.197, 0.208, 0.176, 0.132, 0.287, 0.924166, 0.017731, 0.041525, 0.013517, 0.325996, 0.634591, 0.02343, 0.011863, 0.888746, 0.052388, 0.034402, 0.024464, 40.5, 0.01323, 0.1985, 0.503, 0.735792, 54.234755, 34.094084, 5.607355, 0.0], [\"E14000545\", 0.232, 0.1193, 0.4373, 0.1927, 58.900191, 1950.46905, 4445, 0.380435, 38.691538, 0.022538, -0.00962, 640, 285000.0, 0.601573, 8.563702, 0.238564, 0.404619, 0.123825, 0.208039, 0.185, 0.186, 0.002, 0.045, 0.048, 0.047, 0.1, 0.055, 0.068, 0.061, 0.151, 0.052, 0.177, 0.20725, 0.18225, 0.13925, 0.29325, 0.903617, 0.020445, 0.056493, 0.015871, 0.391922, 0.564391, 0.011667, 0.028047, 0.870819, 0.051252, 0.034149, 0.043779, 55.4, 0.00559, 0.1954, 0.536, 0.685166, 52.734096, 35.818442, 6.08649, 0.0], [\"E14000550\", 0.2008, 0.087, 0.3986, 0.2793, 176.279889, 583.157843, 7675, 0.230954, 74.660259, 0.013907, -0.005706, 790, 525000.0, 0.858407, 12.779942, 0.37961, 0.359087, 0.118506, 0.117564, 0.174, 0.151, 0.003, 0.048, 0.038, 0.053, 0.089, 0.051, 0.091, 0.105, 0.126, 0.071, 0.165, 0.1665, 0.1615, 0.1235, 0.3825, 0.875527, 0.02283, 0.083965, 0.010112, 0.287271, 0.630133, 0.019691, 0.059293, 0.866542, 0.047894, 0.046958, 0.038607, 38.3, 0.0233, 0.19, 0.49, 0.724124, 65.251303, 21.44642, 7.938888, 0.0], [\"E14000557\", 0.1856, 0.0857, 0.3469, 0.3738, 528.952119, 200.636308, 4810, 0.121212, 45.323056, 0.028841, -0.002347, 540, 280000.0, 0.555556, 9.97151, 0.441252, 0.308753, 0.141021, 0.088901, 0.175, 0.151, 0.017, 0.047, 0.053, 0.038, 0.153, 0.046, 0.1, 0.067, 0.079, 0.075, 0.234, 0.189, 0.18, 0.127, 0.27, 0.971845, 0.010901, 0.012172, 0.003137, 0.336424, 0.645904, 0.004686, 0.007267, 0.938308, 0.026011, 0.022189, 0.013492, 30.1, 0.01234, 0.2096, 0.577, 0.732488, 61.968658, 24.699018, 7.541364, 0.0], [\"E14000576\", 0.2012, 0.1067, 0.3675, 0.32, 61.196387, 1752.11323, 3100, 0.192308, 28.911707, 0.0304, -0.007017, 460, 255000.0, 0.613924, 10.660535, 0.394192, 0.308887, 0.178894, 0.09757, 0.196, 0.177, 0.019, 0.071, 0.051, 0.045, 0.148, 0.055, 0.078, 0.042, 0.053, 0.066, 0.26, 0.20425, 0.18425, 0.13325, 0.21725, 0.965906, 0.010891, 0.017006, 0.004318, 0.340008, 0.64202, 0.006573, 0.006654, 0.902512, 0.064074, 0.018673, 0.014731, 30.2, 0.0016, 0.2155, 0.648, 0.678518, 58.957782, 24.890949, 6.527496, 0.0], [\"E14000586\", 0.2356, 0.1088, 0.4288, 0.2055, 73.921757, 1515.0208, 4255, 0.205382, 37.993446, 0.017332, -0.010138, 740, 327500.0, 0.819722, 8.510915, 0.260146, 0.428473, 0.11343, 0.177219, 0.154, 0.166, 0.002, 0.045, 0.063, 0.053, 0.103, 0.059, 0.088, 0.074, 0.127, 0.066, 0.165, 0.1975, 0.1815, 0.1395, 0.3175, 0.909355, 0.01959, 0.048308, 0.018713, 0.357037, 0.599767, 0.010672, 0.028393, 0.874629, 0.046963, 0.042547, 0.035852, 55.2, 0.0143, 0.1799, 0.532, 0.707559, 58.831318, 30.176054, 7.489444, 0.0], [\"E14000597\", 0.3047, 0.1934, 0.3715, 0.2257, 39.723257, 2430.742295, 2845, 0.21322, 29.464461, 0.042713, -0.009616, 610, 318000.0, 0.761773, 10.025221, 0.267519, 0.274123, 0.215436, 0.219722, 0.131, 0.154, 0.001, 0.069, 0.042, 0.052, 0.156, 0.053, 0.109, 0.053, 0.1, 0.078, 0.225, 0.17475, 0.14875, 0.16775, 0.28375, 0.904387, 0.030317, 0.03866, 0.015628, 0.45939, 0.492033, 0.018598, 0.021394, 0.868675, 0.057706, 0.044973, 0.028646, 58.9, 0.00087, 0.1257, 0.436, 0.727041, 38.277074, 58.331132, 2.960961, 0.0], [\"E14000598\", 0.3815, 0.2638, 0.3879, 0.1424, 29.050486, 3900.72651, 7320, 0.648649, 64.596975, 0.027131, -0.015156, 610, 357500.0, 0.986111, 11.270492, 0.222324, 0.312863, 0.326947, 0.116717, 0.1, 0.129, 0.001, 0.068, 0.047, 0.034, 0.129, 0.048, 0.14, 0.084, 0.134, 0.085, 0.122, 0.12375, 0.12875, 0.20875, 0.41675, 0.890755, 0.040621, 0.041991, 0.01502, 0.575309, 0.371, 0.018428, 0.026044, 0.842808, 0.074223, 0.051664, 0.031305, 69.1, 0.023, 0.1534, 0.259, 0.766248, 19.210567, 26.782464, 0.0, 0.0], [\"E14000608\", 0.2124, 0.0884, 0.4001, 0.272, 866.95636, 122.603634, 6910, 0.138386, 65.009596, 0.01163, -0.004845, 710, 385000.0, 0.652361, 10.427952, 0.363599, 0.393358, 0.107942, 0.112138, 0.171, 0.155, 0.02, 0.036, 0.057, 0.034, 0.096, 0.047, 0.118, 0.095, 0.099, 0.071, 0.162, 0.1705, 0.1695, 0.1315, 0.3665, 0.956917, 0.014426, 0.017493, 0.008355, 0.317295, 0.661374, 0.008314, 0.0096, 0.927519, 0.028945, 0.029727, 0.013809, 65.5, 0.05803, 0.2422, 0.489, 0.686378, 0.0, 0.0, 0.0, 0.0], [\"E14000619\", 0.3627, 0.2304, 0.3104, 0.2359, 248.68382, 482.70933, 3950, 0.207951, 32.90515, 0.029168, -0.000913, 620, 305000.0, 0.648649, 9.460298, 0.345554, 0.284142, 0.20801, 0.139238, 0.128, 0.164, 0.009, 0.073, 0.058, 0.034, 0.141, 0.039, 0.18, 0.062, 0.051, 0.062, 0.179, 0.14875, 0.14875, 0.21275, 0.31075, 0.914477, 0.019381, 0.042341, 0.016298, 0.373664, 0.586365, 0.01541, 0.019208, 0.867789, 0.059746, 0.038717, 0.033748, 29.3, 0.01541, 0.2398, 0.453, 0.728787, 44.691901, 45.021127, 8.02993, 0.0], [\"E14000626\", 0.2499, 0.1282, 0.4089, 0.2035, 61.446647, 1663.882495, 2865, 0.320276, 28.0223, 0.034848, -0.016083, 600, 240000.0, 0.777778, 7.692308, 0.259037, 0.404396, 0.151945, 0.162259, 0.213, 0.187, 0.003, 0.043, 0.066, 0.06, 0.116, 0.059, 0.08, 0.046, 0.071, 0.055, 0.242, 0.23125, 0.19725, 0.13525, 0.19425, 0.915338, 0.017732, 0.036852, 0.024455, 0.366351, 0.593929, 0.015974, 0.020107, 0.904092, 0.045703, 0.027549, 0.022646, 67.7, 0.00633, 0.1506, 0.639, 0.638507, 56.999332, 33.702384, 2.486077, 0.0], [\"E14000631\", 0.2109, 0.0824, 0.3939, 0.2728, 196.377975, 488.481461, 6435, 0.228053, 67.08226, 0.014653, -0.004085, 660, 545000.0, 0.775244, 15.879953, 0.411168, 0.358009, 0.089698, 0.123775, 0.148, 0.145, 0.005, 0.036, 0.039, 0.038, 0.102, 0.049, 0.113, 0.12, 0.128, 0.078, 0.147, 0.1505, 0.1615, 0.1215, 0.4205, 0.91487, 0.022022, 0.054472, 0.005657, 0.311966, 0.632083, 0.024947, 0.027301, 0.889901, 0.042705, 0.038657, 0.028736, 47.7, 0.01003, 0.1762, 0.45, 0.772992, 60.656628, 20.58568, 12.993195, 0.0], [\"E14000633\", 0.2074, 0.1047, 0.3549, 0.3352, 621.193104, 179.169729, 5965, 0.153772, 53.594372, 0.022061, -0.004165, 650, 355000.0, 0.56044, 10.502959, 0.406625, 0.267721, 0.148076, 0.148404, 0.158, 0.153, 0.02, 0.065, 0.064, 0.033, 0.137, 0.05, 0.103, 0.071, 0.07, 0.077, 0.195, 0.161, 0.169, 0.139, 0.335, 0.968469, 0.009638, 0.014822, 0.004771, 0.326413, 0.656725, 0.003919, 0.008527, 0.919463, 0.036475, 0.027296, 0.016767, 29.9, 0.02182, 0.2324, 0.507, 0.70651, 60.135519, 22.382256, 11.263727, 0.0], [\"E14000652\", 0.2374, 0.1208, 0.4345, 0.1831, 44.971581, 2500.423557, 3510, 0.418182, 31.214428, 0.02826, -0.01332, 570, 285000.0, 0.696429, 9.615385, 0.221874, 0.368573, 0.145435, 0.238585, 0.143, 0.17, 0.001, 0.08, 0.044, 0.155, 0.09, 0.078, 0.06, 0.045, 0.089, 0.045, 0.201, 0.23525, 0.19225, 0.13425, 0.23625, 0.799084, 0.029063, 0.129694, 0.032543, 0.324268, 0.54206, 0.072056, 0.057412, 0.797799, 0.070443, 0.064514, 0.067244, 67.4, 0.00158, 0.1565, 0.584, 0.68715, 50.575856, 45.688541, 3.735604, 0.0], [\"E14000659\", 0.2314, 0.1155, 0.4274, 0.1988, 85.912506, 1347.289305, 4735, 0.542345, 40.907481, 0.02463, -0.012138, 650, 310000.0, 0.91358, 9.171598, 0.287412, 0.391094, 0.152992, 0.144989, 0.19, 0.175, 0.002, 0.041, 0.061, 0.065, 0.118, 0.051, 0.082, 0.062, 0.096, 0.06, 0.211, 0.2285, 0.1945, 0.1285, 0.2365, 0.87875, 0.021386, 0.057616, 0.034767, 0.334041, 0.611822, 0.01532, 0.035688, 0.890969, 0.041318, 0.036492, 0.031221, 43.3, 0.01777, 0.2136, 0.64, 0.692189, 57.557539, 33.239894, 2.63352, 0.0], [\"E14000670\", 0.2152, 0.1088, 0.3795, 0.2941, 214.187787, 478.692093, 2640, 0.211009, 25.748561, 0.049235, 0.006039, 610, 225000.0, 0.666667, 7.093317, 0.345504, 0.313393, 0.174988, 0.145551, 0.153, 0.144, 0.009, 0.055, 0.093, 0.107, 0.144, 0.052, 0.099, 0.047, 0.04, 0.057, 0.255, 0.19925, 0.19025, 0.13525, 0.22025, 0.966073, 0.008984, 0.019053, 0.003565, 0.340248, 0.63781, 0.004763, 0.012713, 0.92603, 0.038394, 0.01722, 0.018357, 40.7, 0.01484, 0.2133, 0.63, 0.697951, 52.363084, 39.976138, 2.570912, 0.0], [\"E14000680\", 0.2114, 0.0923, 0.388, 0.2914, 463.61122, 213.72865, 5615, 0.123, 56.667373, 0.012392, -0.005911, 650, 370000.0, 0.728972, 10.946746, 0.361416, 0.356788, 0.125048, 0.130396, 0.174, 0.144, 0.014, 0.044, 0.062, 0.034, 0.111, 0.055, 0.105, 0.088, 0.099, 0.07, 0.17, 0.167, 0.175, 0.137, 0.351, 0.962837, 0.012174, 0.017401, 0.005269, 0.338175, 0.645967, 0.003589, 0.007892, 0.911316, 0.037468, 0.03137, 0.019846, 35.6, 0.03359, 0.2012, 0.493, 0.749376, 63.642434, 16.984912, 15.16568, 0.0], [\"E14000681\", 0.2079, 0.0954, 0.4104, 0.2569, 259.426949, 434.684987, 5990, 0.211325, 53.117435, 0.015293, -0.004545, 710, 400000.0, 0.754386, 10.834236, 0.352508, 0.395906, 0.120828, 0.108611, 0.152, 0.14, 0.005, 0.041, 0.056, 0.063, 0.112, 0.057, 0.092, 0.087, 0.127, 0.068, 0.172, 0.18175, 0.18675, 0.13475, 0.32475, 0.934951, 0.021052, 0.029008, 0.011116, 0.33445, 0.639054, 0.009574, 0.013667, 0.906742, 0.036812, 0.035794, 0.020652, 48.0, 0.01203, 0.1665, 0.542, 0.723428, 59.642248, 19.249025, 10.467375, 0.0], [\"E14000682\", 0.2031, 0.0929, 0.4034, 0.2766, 55.340637, 1802.852406, 3535, 0.192243, 35.431137, 0.024586, -0.010943, 570, 300000.0, 0.780415, 10.121457, 0.364284, 0.373387, 0.136935, 0.109696, 0.203, 0.163, 0.002, 0.041, 0.052, 0.047, 0.153, 0.044, 0.089, 0.053, 0.087, 0.065, 0.236, 0.20725, 0.17925, 0.12925, 0.24825, 0.949773, 0.015881, 0.024025, 0.006259, 0.390569, 0.580542, 0.011091, 0.011695, 0.927102, 0.031732, 0.02189, 0.019276, 66.7, 0.00193, 0.1063, 0.537, 0.70423, 48.925956, 39.313214, 4.749892, 0.0], [\"E14000684\", 0.2083, 0.1037, 0.3676, 0.3161, 54.96368, 2013.929939, 3245, 0.140598, 29.315314, 0.042581, 0.000103, 540, 235000.0, 0.459627, 8.368946, 0.349891, 0.287007, 0.221732, 0.124325, 0.147, 0.182, 0.002, 0.072, 0.051, 0.043, 0.184, 0.043, 0.108, 0.046, 0.053, 0.068, 0.234, 0.18725, 0.18025, 0.13925, 0.25825, 0.943249, 0.017314, 0.027, 0.007393, 0.367733, 0.601159, 0.013842, 0.011408, 0.885683, 0.060963, 0.030996, 0.022349, 32.0, 0.00084, 0.2358, 0.575, 0.730261, 44.087426, 8.134796, 46.889586, 0.0], [\"E14000685\", 0.2251, 0.1144, 0.4099, 0.2416, 72.646581, 1518.461001, 6215, 0.874811, 56.340709, 0.01893, -0.005225, 610, 282000.0, 0.62536, 8.89029, 0.305862, 0.405836, 0.127931, 0.140639, 0.195, 0.166, 0.003, 0.044, 0.063, 0.06, 0.117, 0.047, 0.092, 0.062, 0.091, 0.06, 0.185, 0.217, 0.184, 0.145, 0.27, 0.950936, 0.013781, 0.027013, 0.004867, 0.35768, 0.616347, 0.006862, 0.014842, 0.931527, 0.027669, 0.022262, 0.018542, 47.7, 0.00477, 0.194, 0.543, 0.706989, 50.434707, 19.996508, 25.680866, 0.0], [\"E14000694\", 0.215, 0.0932, 0.4074, 0.2493, 51.726762, 2136.998238, 5180, 0.333333, 46.860865, 0.01194, -0.00735, 730, 500000.0, 0.972387, 13.17176, 0.384781, 0.400396, 0.114351, 0.084737, 0.133, 0.135, 0.001, 0.034, 0.06, 0.041, 0.13, 0.05, 0.102, 0.107, 0.131, 0.075, 0.158, 0.16125, 0.17225, 0.13125, 0.37625, 0.878845, 0.023897, 0.072564, 0.013225, 0.313531, 0.626304, 0.025097, 0.031728, 0.855735, 0.048725, 0.053504, 0.042036, 59.2, 0.00099, 0.1531, 0.478, 0.743081, 59.58391, 25.036277, 12.487767, 0.0], [\"E14000697\", 0.2011, 0.0773, 0.4209, 0.2333, 80.504416, 1422.493403, 6950, 0.27406, 60.689679, 0.011965, -0.00837, 820, 570000.0, 1.046862, 13.36773, 0.345266, 0.391888, 0.137442, 0.105788, 0.122, 0.127, 0.002, 0.037, 0.044, 0.042, 0.09, 0.057, 0.1, 0.133, 0.157, 0.086, 0.139, 0.13975, 0.15375, 0.12475, 0.44175, 0.905019, 0.025276, 0.053019, 0.007875, 0.311715, 0.639887, 0.017878, 0.027183, 0.825981, 0.063792, 0.075701, 0.034527, 63.2, 0.00107, 0.1352, 0.416, 0.739999, 58.605996, 19.673473, 17.335651, 0.0], [\"E14000699\", 0.2134, 0.1035, 0.3981, 0.2828, 63.276367, 1612.260712, 4105, 0.172857, 40.237997, 0.012651, -0.008406, 670, 282000.0, 0.566667, 8.094145, 0.377824, 0.421007, 0.101435, 0.08469, 0.195, 0.149, 0.003, 0.042, 0.1, 0.053, 0.111, 0.047, 0.096, 0.062, 0.089, 0.054, 0.174, 0.197, 0.181, 0.144, 0.304, 0.965858, 0.012543, 0.015917, 0.003426, 0.352652, 0.631102, 0.004995, 0.006707, 0.943951, 0.025107, 0.018102, 0.01284, 61.4, 0.00653, 0.1649, 0.555, 0.724761, 62.9933, 25.186796, 6.833409, 0.0], [\"E14000700\", 0.2132, 0.0967, 0.3952, 0.2675, 388.041992, 256.799527, 4440, 0.226519, 44.556393, 0.024634, -0.005302, 560, 310250.0, 0.677027, 10.65419, 0.341089, 0.37221, 0.103702, 0.159757, 0.196, 0.163, 0.02, 0.046, 0.065, 0.051, 0.11, 0.049, 0.101, 0.064, 0.074, 0.062, 0.229, 0.202, 0.18, 0.126, 0.264, 0.965799, 0.012359, 0.014482, 0.005463, 0.339867, 0.641352, 0.006605, 0.008383, 0.936953, 0.030484, 0.019859, 0.012693, 44.1, 0.03729, 0.1965, 0.587, 0.690063, 61.086655, 26.084946, 6.530785, 0.0], [\"E14000704\", 0.2043, 0.1014, 0.3796, 0.3097, 433.749831, 272.01855, 4215, 0.228863, 35.723972, 0.042768, -0.004604, 560, 250000.0, 0.633987, 8.585165, 0.356841, 0.298022, 0.216971, 0.110429, 0.177, 0.154, 0.011, 0.059, 0.075, 0.063, 0.14, 0.06, 0.09, 0.047, 0.069, 0.056, 0.244, 0.19925, 0.18825, 0.13225, 0.23525, 0.948276, 0.011648, 0.033004, 0.004142, 0.338921, 0.625782, 0.007134, 0.023419, 0.909961, 0.039554, 0.018702, 0.031783, 41.4, 0.03097, 0.192, 0.616, 0.683559, 54.687049, 28.511253, 7.171125, 0.0], [\"E14000711\", 0.2538, 0.1329, 0.3893, 0.2249, 30.445284, 3379.505364, 2585, 0.315522, 25.123919, 0.03802, -0.008137, 600, 233000.0, 0.792308, 7.467949, 0.312883, 0.391986, 0.175026, 0.104294, 0.197, 0.181, 0.003, 0.043, 0.067, 0.06, 0.126, 0.047, 0.086, 0.048, 0.083, 0.058, 0.221, 0.231, 0.198, 0.146, 0.204, 0.896064, 0.019286, 0.054326, 0.022352, 0.36754, 0.578276, 0.021704, 0.027876, 0.898118, 0.040565, 0.027603, 0.033714, 71.3, 0.00324, 0.1248, 0.636, 0.67155, 55.437096, 36.140214, 2.807563, 0.0], [\"E14000713\", 0.2282, 0.1144, 0.3834, 0.2768, 36.353365, 2739.883945, 2360, 0.162562, 23.693828, 0.022442, -0.006818, 580, 215000.0, 0.535714, 7.128647, 0.32252, 0.357251, 0.152167, 0.148718, 0.194, 0.145, 0.001, 0.051, 0.15, 0.049, 0.123, 0.052, 0.087, 0.04, 0.055, 0.054, 0.212, 0.2165, 0.1885, 0.1435, 0.2405, 0.966597, 0.01243, 0.012286, 0.00636, 0.382031, 0.602271, 0.005202, 0.005409, 0.941778, 0.027756, 0.017363, 0.013103, 62.8, 0.00045, 0.1385, 0.618, 0.667669, 61.936905, 27.153857, 4.704836, 0.0], [\"E14000715\", 0.2367, 0.1141, 0.4024, 0.2255, 99.048609, 1074.068587, 3910, 0.486692, 36.753302, 0.042206, -0.005419, 620, 282500.0, 0.799363, 8.762407, 0.306893, 0.338626, 0.161361, 0.173332, 0.209, 0.186, 0.008, 0.047, 0.056, 0.066, 0.1, 0.054, 0.089, 0.052, 0.075, 0.058, 0.244, 0.2245, 0.1875, 0.1285, 0.2175, 0.828018, 0.020311, 0.104247, 0.028362, 0.277792, 0.608445, 0.01862, 0.089186, 0.859654, 0.057599, 0.030112, 0.052635, 53.5, 0.00817, 0.1952, 0.654, 0.673109, 55.589118, 36.51244, 2.469539, 0.0], [\"E14000719\", 0.3223, 0.1933, 0.3612, 0.2105, 188.725093, 609.510894, 5710, 0.176107, 49.639225, 0.011729, -0.012101, 780, 440000.0, 0.842932, 10.848126, 0.331834, 0.334784, 0.166921, 0.136989, 0.131, 0.142, 0.003, 0.051, 0.043, 0.035, 0.11, 0.047, 0.128, 0.108, 0.129, 0.074, 0.136, 0.13825, 0.14425, 0.16225, 0.41925, 0.898189, 0.019092, 0.056111, 0.011955, 0.36019, 0.591508, 0.023238, 0.021401, 0.830397, 0.066949, 0.057938, 0.044705, 61.0, 0.00964, 0.156, 0.412, 0.739212, 54.576735, 18.996919, 23.879011, 0.0], [\"E14000735\", 0.2167, 0.1098, 0.386, 0.2849, 177.046363, 631.506902, 3725, 0.178797, 33.316638, 0.055143, -0.011923, 500, 225000.0, 0.667284, 8.653846, 0.304693, 0.280367, 0.258719, 0.140092, 0.178, 0.164, 0.007, 0.061, 0.067, 0.041, 0.175, 0.041, 0.094, 0.049, 0.056, 0.067, 0.255, 0.1995, 0.1845, 0.1305, 0.2305, 0.944344, 0.019595, 0.020957, 0.010252, 0.430332, 0.540302, 0.011455, 0.0109, 0.918636, 0.037691, 0.025643, 0.01803, 30.1, 0.00273, 0.2506, 0.559, 0.700507, 46.868495, 46.236716, 3.441917, 0.0], [\"E14000736\", 0.2226, 0.1099, 0.3727, 0.2913, 47.200566, 2035.166252, 3025, 0.202783, 31.490407, 0.030144, -0.010676, 590, 260000.0, 0.625, 8.474576, 0.343134, 0.323686, 0.103474, 0.213516, 0.246, 0.164, 0.003, 0.053, 0.061, 0.044, 0.121, 0.055, 0.09, 0.044, 0.062, 0.057, 0.261, 0.20175, 0.17875, 0.12775, 0.23175, 0.97058, 0.012746, 0.011494, 0.003483, 0.399543, 0.586405, 0.003875, 0.005431, 0.949497, 0.023859, 0.015303, 0.011341, 64.2, 0.00296, 0.1464, 0.626, 0.640127, 59.757309, 25.305523, 6.047847, 0.0], [\"E14000742\", 0.2003, 0.0836, 0.3946, 0.2963, 684.037964, 145.601568, 6835, 0.123254, 68.626565, 0.0116, -0.003721, 770, 455000.0, 0.82, 11.363636, 0.403811, 0.339642, 0.131623, 0.100418, 0.163, 0.136, 0.013, 0.047, 0.063, 0.03, 0.103, 0.044, 0.117, 0.11, 0.104, 0.07, 0.158, 0.15975, 0.15675, 0.12875, 0.39675, 0.963829, 0.013598, 0.015785, 0.004815, 0.332209, 0.650513, 0.004856, 0.008874, 0.909316, 0.040782, 0.034106, 0.015796, 52.7, 0.01463, 0.1842, 0.431, 0.762937, 59.106114, 20.061647, 14.860155, 0.0], [\"E14000753\", 0.2205, 0.0963, 0.4101, 0.2522, 344.359943, 329.556333, 5590, 0.240844, 49.257177, 0.013398, -0.009395, 660, 368000.0, 0.711628, 10.722611, 0.345899, 0.39005, 0.123848, 0.116095, 0.159, 0.151, 0.01, 0.042, 0.045, 0.072, 0.099, 0.059, 0.097, 0.082, 0.115, 0.069, 0.156, 0.18125, 0.19025, 0.14025, 0.33225, 0.952629, 0.015141, 0.023898, 0.006172, 0.348204, 0.632585, 0.006066, 0.009355, 0.912472, 0.03685, 0.029973, 0.020706, 34.4, 0.01906, 0.2197, 0.495, 0.750169, 59.53829, 21.652927, 12.331618, 0.0], [\"E14000755\", 0.2492, 0.15, 0.4456, 0.1928, 23.937813, 4335.94325, 5620, 0.382534, 54.146233, 0.031816, -0.008799, 630, 350000.0, 0.944444, 10.683761, 0.245129, 0.324062, 0.30473, 0.106856, 0.123, 0.136, 0.001, 0.056, 0.045, 0.046, 0.126, 0.05, 0.113, 0.082, 0.139, 0.083, 0.165, 0.155, 0.149, 0.132, 0.398, 0.892063, 0.037392, 0.038194, 0.013604, 0.466432, 0.467495, 0.026886, 0.031327, 0.840516, 0.072218, 0.061392, 0.025874, 64.3, 0.00368, 0.1123, 0.329, 0.777466, 31.573373, 64.139871, 2.2762, 0.0], [\"E14000762\", 0.1942, 0.0941, 0.36, 0.3504, 380.195502, 372.276893, 4620, 0.075669, 32.641411, 0.033668, -0.011619, 510, 202000.0, 0.320261, 7.616893, 0.410756, 0.290186, 0.174167, 0.106786, 0.186, 0.158, 0.012, 0.091, 0.068, 0.04, 0.156, 0.038, 0.098, 0.043, 0.033, 0.075, 0.243, 0.20725, 0.17925, 0.13325, 0.23725, 0.973095, 0.01236, 0.01095, 0.002191, 0.377717, 0.60515, 0.00379, 0.006799, 0.948801, 0.024909, 0.015036, 0.011254, 30.4, 0.01027, 0.1862, 0.619, 0.673762, 51.276199, 22.987688, 3.678889, 0.0], [\"E14000786\", 0.1939, 0.0854, 0.3701, 0.3341, 370.748938, 251.717511, 4560, 0.19685, 48.862029, 0.023814, -0.005992, 640, 320500.0, 0.687286, 9.630409, 0.420741, 0.310748, 0.14123, 0.107379, 0.157, 0.144, 0.011, 0.052, 0.064, 0.045, 0.136, 0.043, 0.121, 0.072, 0.075, 0.081, 0.209, 0.1745, 0.1665, 0.1255, 0.3245, 0.970315, 0.012189, 0.012416, 0.003232, 0.403892, 0.574565, 0.004354, 0.010761, 0.929631, 0.031307, 0.025717, 0.013346, 30.8, 0.00863, 0.1861, 0.471, 0.765819, 49.4907, 11.182462, 39.326838, 0.0], [\"E14000803\", 0.2046, 0.0857, 0.422, 0.2453, 183.349507, 582.117737, 6615, 0.217111, 61.978244, 0.015292, -0.009327, 770, 456000.0, 0.824365, 11.388611, 0.355982, 0.378246, 0.132163, 0.112988, 0.153, 0.144, 0.005, 0.046, 0.036, 0.046, 0.078, 0.054, 0.1, 0.11, 0.155, 0.074, 0.152, 0.16075, 0.15375, 0.12475, 0.40875, 0.870207, 0.01978, 0.094045, 0.009119, 0.297259, 0.612902, 0.04353, 0.042989, 0.846664, 0.057492, 0.047175, 0.048659, 50.1, 0.02022, 0.1769, 0.45, 0.766957, 64.764161, 19.33584, 11.229588, 0.0], [\"E14000804\", 0.2324, 0.1163, 0.4038, 0.2405, 223.645343, 490.021382, 4880, 0.204938, 44.529204, 0.023935, -0.003224, 600, 280000.0, 0.641627, 8.974359, 0.325759, 0.361363, 0.17751, 0.110239, 0.176, 0.158, 0.014, 0.046, 0.081, 0.047, 0.122, 0.055, 0.095, 0.064, 0.083, 0.06, 0.193, 0.193, 0.19, 0.139, 0.286, 0.931393, 0.015912, 0.039151, 0.009795, 0.338907, 0.623071, 0.012204, 0.02142, 0.890782, 0.049576, 0.027977, 0.031665, 46.9, 0.02726, 0.1893, 0.559, 0.687644, 56.376047, 22.106851, 16.348589, 0.0], [\"E14000811\", 0.2033, 0.0946, 0.3821, 0.3073, 402.189416, 236.502991, 6025, 0.304113, 63.341709, 0.014604, -0.00613, 670, 312500.0, 0.570352, 8.969575, 0.384096, 0.386384, 0.103077, 0.106442, 0.202, 0.15, 0.014, 0.041, 0.078, 0.04, 0.111, 0.047, 0.099, 0.071, 0.085, 0.062, 0.178, 0.18475, 0.17675, 0.13275, 0.32675, 0.97386, 0.01026, 0.011963, 0.00197, 0.344302, 0.640442, 0.004963, 0.006276, 0.944304, 0.02289, 0.020053, 0.012753, 49.9, 0.03538, 0.2179, 0.519, 0.731447, 65.73664, 18.327428, 10.887216, 0.0], [\"E14000817\", 0.2051, 0.0941, 0.4162, 0.2553, 188.093022, 603.605592, 5490, 0.171825, 48.355559, 0.012371, -0.006152, 640, 347500.0, 0.695122, 10.441707, 0.343744, 0.392733, 0.133672, 0.108342, 0.143, 0.135, 0.005, 0.044, 0.045, 0.061, 0.136, 0.057, 0.097, 0.077, 0.133, 0.068, 0.146, 0.17975, 0.18475, 0.14475, 0.34575, 0.945661, 0.014388, 0.031055, 0.006391, 0.346972, 0.62343, 0.009312, 0.013074, 0.898403, 0.040423, 0.034893, 0.026281, 33.5, 0.00629, 0.1863, 0.464, 0.733575, 56.921729, 25.001623, 12.745003, 0.0], [\"E14000821\", 0.2322, 0.1136, 0.4299, 0.1915, 228.801569, 579.969799, 6915, 0.483906, 52.110808, 0.025824, -0.022876, 650, 265000.0, 0.766726, 7.840237, 0.221527, 0.360784, 0.189307, 0.16913, 0.143, 0.206, 0.003, 0.048, 0.046, 0.066, 0.089, 0.056, 0.105, 0.067, 0.114, 0.057, 0.169, 0.20575, 0.18075, 0.13175, 0.31175, 0.799578, 0.030789, 0.09088, 0.073146, 0.375269, 0.529106, 0.051257, 0.039615, 0.805678, 0.063967, 0.074147, 0.0562, 32.8, 0.01631, 0.26, 0.497, 0.71787, 47.50485, 44.415243, 3.90933, 0.0], [\"E14000822\", 0.2316, 0.1032, 0.4297, 0.1853, 79.842103, 1702.222205, 7190, 0.726291, 52.903045, 0.028034, -0.020364, 630, 275000.0, 0.71875, 8.394383, 0.20789, 0.364553, 0.157382, 0.190914, 0.146, 0.207, 0.001, 0.042, 0.044, 0.065, 0.098, 0.052, 0.105, 0.065, 0.12, 0.055, 0.191, 0.21275, 0.18375, 0.12875, 0.28475, 0.800698, 0.035309, 0.092212, 0.064728, 0.383159, 0.526739, 0.044638, 0.040449, 0.823796, 0.054565, 0.069334, 0.052305, 35.1, 0.00707, 0.252, 0.531, 0.699741, 47.488613, 44.909057, 2.935891, 0.0], [\"E14000824\", 0.2062, 0.0892, 0.3909, 0.2978, 369.4528, 263.113448, 6555, 0.142982, 67.432722, 0.010887, -0.007023, 640, 513750.0, 0.836625, 15.4372, 0.395741, 0.340322, 0.120766, 0.11824, 0.147, 0.128, 0.008, 0.045, 0.045, 0.039, 0.098, 0.058, 0.103, 0.119, 0.124, 0.086, 0.156, 0.1535, 0.1705, 0.1245, 0.3955, 0.955584, 0.013974, 0.021919, 0.004388, 0.327528, 0.648806, 0.007261, 0.012501, 0.899961, 0.03967, 0.039997, 0.020372, 43.6, 0.01029, 0.1899, 0.473, 0.762841, 61.862285, 13.863132, 19.312132, 0.0], [\"E14000827\", 0.203, 0.0984, 0.3769, 0.3152, 396.816707, 235.912446, 3690, 0.142415, 39.417181, 0.016178, -0.006628, 570, 285000.0, 0.540541, 9.615385, 0.397455, 0.353799, 0.113614, 0.11711, 0.202, 0.148, 0.008, 0.061, 0.064, 0.056, 0.125, 0.046, 0.091, 0.068, 0.067, 0.065, 0.202, 0.21025, 0.18025, 0.13825, 0.26825, 0.973729, 0.009454, 0.009269, 0.004884, 0.351168, 0.634624, 0.003357, 0.005306, 0.94565, 0.023867, 0.020033, 0.01045, 37.4, 0.03624, 0.2422, 0.602, 0.70925, 62.613402, 19.793248, 15.157887, 0.0], [\"E14000828\", 0.1747, 0.0779, 0.335, 0.4032, 356.187812, 241.8359, 4360, 0.11509, 50.615865, 0.017403, -0.002894, 660, 360000.0, 0.551724, 10.48951, 0.473619, 0.274404, 0.128452, 0.102388, 0.185, 0.158, 0.013, 0.066, 0.041, 0.039, 0.138, 0.048, 0.096, 0.07, 0.069, 0.078, 0.221, 0.18375, 0.17375, 0.12275, 0.29875, 0.977697, 0.008881, 0.009618, 0.001914, 0.317074, 0.670693, 0.00208, 0.005409, 0.935518, 0.028461, 0.022362, 0.013648, 29.5, 0.02089, 0.2259, 0.553, 0.722894, 66.838616, 19.624398, 9.633869, 0.0], [\"E14000830\", 0.2228, 0.0984, 0.4122, 0.2423, 596.76423, 187.754216, 6655, 0.192652, 59.395778, 0.017059, -0.007215, 720, 325000.0, 0.585366, 8.680556, 0.298726, 0.368192, 0.149762, 0.152384, 0.175, 0.158, 0.011, 0.047, 0.054, 0.035, 0.079, 0.052, 0.094, 0.083, 0.141, 0.071, 0.174, 0.184, 0.173, 0.133, 0.336, 0.956201, 0.013443, 0.02189, 0.006233, 0.339731, 0.636816, 0.006754, 0.012634, 0.909248, 0.040831, 0.030775, 0.019146, 61.7, 0.02085, 0.2049, 0.478, 0.735529, 61.46198, 14.126773, 21.395586, 0.0], [\"E14000844\", 0.2046, 0.0848, 0.4186, 0.254, 401.461111, 252.482737, 5535, 0.142415, 54.606263, 0.00801, -0.006845, 710, 400000.0, 0.626016, 10.834236, 0.353449, 0.415276, 0.121884, 0.084909, 0.152, 0.136, 0.006, 0.043, 0.081, 0.04, 0.083, 0.051, 0.095, 0.095, 0.155, 0.062, 0.133, 0.164, 0.167, 0.138, 0.398, 0.954813, 0.015163, 0.023114, 0.004433, 0.324293, 0.65354, 0.005183, 0.01381, 0.910281, 0.036206, 0.032949, 0.020564, 54.9, 0.0207, 0.161, 0.462, 0.774351, 65.514429, 17.321742, 12.124525, 0.0], [\"E14000852\", 0.2164, 0.1089, 0.3579, 0.3095, 136.915883, 724.532447, 2970, 0.250526, 29.939516, 0.054216, 0.002241, 560, 240000.0, 0.6, 8.241758, 0.351891, 0.31778, 0.195653, 0.116331, 0.182, 0.169, 0.008, 0.051, 0.053, 0.049, 0.171, 0.042, 0.113, 0.047, 0.051, 0.064, 0.284, 0.2065, 0.1775, 0.1255, 0.2075, 0.964579, 0.013069, 0.014983, 0.004962, 0.341811, 0.638554, 0.006321, 0.008834, 0.939223, 0.031988, 0.016309, 0.012481, 30.2, 0.00922, 0.2087, 0.652, 0.666295, 56.209002, 33.988619, 3.281945, 0.0], [\"E14000857\", 0.2111, 0.0981, 0.4071, 0.2581, 589.528639, 184.362545, 5030, 0.220874, 46.279684, 0.017775, -0.002804, 640, 294000.0, 0.589189, 8.834135, 0.319331, 0.369128, 0.123613, 0.162921, 0.207, 0.16, 0.015, 0.038, 0.077, 0.037, 0.087, 0.049, 0.085, 0.064, 0.121, 0.061, 0.189, 0.2005, 0.1775, 0.1385, 0.2935, 0.967461, 0.012576, 0.013576, 0.004317, 0.332719, 0.651962, 0.00407, 0.006951, 0.920048, 0.039936, 0.024696, 0.015319, 44.7, 0.03624, 0.1983, 0.548, 0.723075, 62.05506, 23.466957, 9.712108, 0.0], [\"E14000873\", 0.4075, 0.2808, 0.3271, 0.1495, 30.62206, 4016.483478, 3395, 0.266791, 27.603197, 0.029578, -0.011439, 620, 370000.0, 0.761905, 11.476427, 0.219695, 0.232707, 0.270615, 0.241152, 0.108, 0.121, 0.001, 0.074, 0.032, 0.036, 0.162, 0.038, 0.211, 0.083, 0.073, 0.06, 0.154, 0.131, 0.112, 0.208, 0.395, 0.758527, 0.041183, 0.13325, 0.053966, 0.403844, 0.483924, 0.076459, 0.030769, 0.724262, 0.105339, 0.086608, 0.083791, 63.4, 0.01092, 0.1467, 0.325, 0.689036, 21.957103, 65.158824, 9.099005, 0.0], [\"E14000874\", 0.2602, 0.1394, 0.3826, 0.2484, 128.750752, 856.55422, 4440, 0.193548, 40.260423, 0.014768, -0.004774, 640, 364950.0, 0.658864, 10.966046, 0.357694, 0.31377, 0.183816, 0.116354, 0.14, 0.123, 0.003, 0.044, 0.051, 0.028, 0.107, 0.035, 0.208, 0.108, 0.091, 0.063, 0.144, 0.1475, 0.1325, 0.1295, 0.4465, 0.89991, 0.022607, 0.054989, 0.014011, 0.374713, 0.576591, 0.021512, 0.022786, 0.820239, 0.076096, 0.06215, 0.041515, 63.5, 0.00215, 0.1504, 0.38, 0.795697, 42.385871, 12.617461, 43.745418, 0.0], [\"E14000883\", 0.2537, 0.1321, 0.3986, 0.2162, 26.931111, 3702.186704, 3200, 0.300813, 32.095001, 0.029179, -0.013486, 570, 212000.0, 0.514286, 7.152497, 0.297839, 0.377815, 0.153817, 0.152807, 0.223, 0.151, 0.002, 0.055, 0.092, 0.052, 0.134, 0.054, 0.09, 0.035, 0.06, 0.051, 0.239, 0.2165, 0.1825, 0.1435, 0.2185, 0.930449, 0.018024, 0.037105, 0.010285, 0.402895, 0.567267, 0.017316, 0.008766, 0.924537, 0.030434, 0.02098, 0.024049, 69.3, 0.0121, 0.1407, 0.637, 0.662524, 54.77653, 33.668714, 5.524253, 0.0], [\"E14000884\", 0.3815, 0.2637, 0.3493, 0.1583, 13.420223, 8601.124157, 2975, 0.337079, 25.773419, 0.041272, -0.016807, 520, 195000.0, 0.48855, 7.211538, 0.192277, 0.246724, 0.327184, 0.208412, 0.16, 0.146, 0.001, 0.082, 0.101, 0.045, 0.117, 0.06, 0.112, 0.045, 0.067, 0.064, 0.188, 0.155, 0.146, 0.234, 0.276, 0.841142, 0.034479, 0.082309, 0.025783, 0.440821, 0.480651, 0.050868, 0.021304, 0.837723, 0.06251, 0.053591, 0.046176, 63.8, 0.01185, 0.1669, 0.518, 0.639966, 37.553292, 41.040255, 17.275502, 0.0], [\"E14000889\", 0.3058, 0.1887, 0.3976, 0.1677, 27.564059, 4211.825227, 5550, 0.397985, 47.805676, 0.024628, -0.011944, 650, 345500.0, 0.848088, 10.221893, 0.255766, 0.334515, 0.266049, 0.119441, 0.126, 0.146, 0.001, 0.056, 0.045, 0.039, 0.102, 0.052, 0.11, 0.099, 0.167, 0.055, 0.142, 0.15, 0.136, 0.172, 0.401, 0.755961, 0.032971, 0.151258, 0.047558, 0.368752, 0.488078, 0.07278, 0.06596, 0.757027, 0.073901, 0.068386, 0.100677, 59.8, 0.00309, 0.1063, 0.383, 0.733018, 42.260763, 49.047757, 6.115355, 0.0], [\"E14000890\", 0.2333, 0.1162, 0.4148, 0.2064, 50.899686, 2046.083333, 3950, 0.32107, 37.927889, 0.03323, -0.010525, 580, 305000.0, 0.826347, 10.112732, 0.265401, 0.372624, 0.169311, 0.168562, 0.159, 0.172, 0.002, 0.05, 0.05, 0.053, 0.108, 0.058, 0.09, 0.074, 0.13, 0.055, 0.209, 0.20825, 0.16525, 0.12425, 0.29325, 0.808863, 0.037949, 0.085359, 0.062931, 0.345753, 0.568178, 0.049499, 0.03247, 0.821822, 0.065631, 0.059156, 0.053382, 59.4, 0.00531, 0.1777, 0.515, 0.696604, 48.895028, 43.339257, 5.874512, 0.0], [\"E14000893\", 0.2158, 0.0987, 0.4224, 0.2293, 111.830974, 953.331588, 5565, 0.292683, 52.198627, 0.015191, -0.007963, 740, 395000.0, 0.717391, 10.265073, 0.324421, 0.397547, 0.132896, 0.122488, 0.138, 0.125, 0.003, 0.04, 0.054, 0.054, 0.125, 0.057, 0.093, 0.094, 0.153, 0.065, 0.162, 0.16275, 0.17275, 0.12975, 0.37275, 0.900241, 0.02275, 0.054298, 0.017107, 0.334771, 0.618736, 0.019716, 0.023236, 0.87511, 0.045531, 0.044608, 0.034751, 52.7, 0.00512, 0.1539, 0.48, 0.723495, 57.402969, 24.677183, 10.941419, 0.0], [\"E14000898\", 0.2474, 0.1309, 0.4059, 0.2158, 148.660135, 760.937019, 4525, 0.383792, 40.001414, 0.034287, -0.007777, 630, 250000.0, 0.689189, 7.631258, 0.299432, 0.381594, 0.155987, 0.137572, 0.209, 0.16, 0.004, 0.044, 0.091, 0.059, 0.108, 0.048, 0.096, 0.05, 0.075, 0.056, 0.223, 0.22675, 0.19475, 0.13875, 0.21775, 0.903563, 0.018904, 0.04989, 0.021402, 0.360118, 0.585498, 0.015731, 0.031975, 0.907496, 0.036496, 0.027918, 0.028089, 55.6, 0.01428, 0.1893, 0.637, 0.651, 54.365899, 36.046793, 2.211311, 0.0], [\"E14000901\", 0.2691, 0.1474, 0.3555, 0.271, 420.37461, 217.800975, 4715, 0.388807, 51.497411, 0.01674, -0.005022, 640, 333000.0, 0.548837, 10.00601, 0.358202, 0.325636, 0.158887, 0.133462, 0.156, 0.148, 0.013, 0.05, 0.063, 0.044, 0.127, 0.044, 0.116, 0.081, 0.093, 0.065, 0.166, 0.15675, 0.15175, 0.17375, 0.35275, 0.903558, 0.014665, 0.063599, 0.008919, 0.338203, 0.607899, 0.023187, 0.026485, 0.871872, 0.044594, 0.036831, 0.046702, 46.1, 0.02968, 0.2448, 0.461, 0.747849, 57.189595, 19.178902, 21.189754, 0.0], [\"E14000907\", 0.2705, 0.1562, 0.3897, 0.2228, 93.848884, 1173.258492, 6395, 0.268849, 58.078813, 0.012915, -0.007601, 750, 425000.0, 0.752577, 10.897436, 0.330457, 0.365312, 0.166289, 0.114579, 0.141, 0.15, 0.002, 0.05, 0.045, 0.077, 0.098, 0.054, 0.091, 0.095, 0.12, 0.076, 0.166, 0.16625, 0.15725, 0.15725, 0.35325, 0.889855, 0.022725, 0.066982, 0.009901, 0.30851, 0.637419, 0.019666, 0.030485, 0.819667, 0.06924, 0.065017, 0.046075, 54.9, 0.00528, 0.1652, 0.498, 0.691019, 60.911856, 25.937337, 7.295239, 0.0], [\"E14000918\", 0.2119, 0.0924, 0.3948, 0.266, 249.600216, 391.009277, 5405, 0.190529, 55.381368, 0.016308, -0.005327, 710, 380000.0, 0.688889, 10.292524, 0.372273, 0.35654, 0.108847, 0.130847, 0.159, 0.148, 0.006, 0.038, 0.053, 0.043, 0.093, 0.049, 0.101, 0.101, 0.137, 0.072, 0.19, 0.1815, 0.1735, 0.1195, 0.3355, 0.955047, 0.014867, 0.019201, 0.008627, 0.329473, 0.651978, 0.005887, 0.009611, 0.914493, 0.034839, 0.033511, 0.017157, 47.7, 0.01284, 0.2109, 0.54, 0.717725, 63.735406, 20.943809, 8.356437, 0.0], [\"E14000927\", 0.2408, 0.1218, 0.3848, 0.2412, 239.289561, 498.6887, 3730, 0.251678, 31.257594, 0.047577, -0.000889, 590, 235000.0, 0.694304, 7.659713, 0.305871, 0.375642, 0.158502, 0.13847, 0.238, 0.169, 0.011, 0.045, 0.077, 0.065, 0.104, 0.05, 0.085, 0.045, 0.057, 0.054, 0.282, 0.2265, 0.1875, 0.1255, 0.1775, 0.961972, 0.012072, 0.012118, 0.012294, 0.354914, 0.628426, 0.00629, 0.007021, 0.943795, 0.031386, 0.015263, 0.009556, 47.4, 0.01314, 0.1783, 0.654, 0.629808, 60.151005, 30.551285, 2.708751, 0.0], [\"E14000930\", 0.2498, 0.1149, 0.4346, 0.1418, 26.921329, 5295.280986, 5810, 0.832808, 40.755913, 0.034194, -0.010545, 620, 317000.0, 0.898204, 9.832506, 0.188978, 0.340763, 0.237472, 0.209649, 0.155, 0.166, 0.001, 0.069, 0.036, 0.121, 0.105, 0.08, 0.072, 0.05, 0.098, 0.048, 0.203, 0.20225, 0.16725, 0.13425, 0.29325, 0.450816, 0.033667, 0.402542, 0.087245, 0.176556, 0.408122, 0.238288, 0.173639, 0.607603, 0.107685, 0.08667, 0.198041, 54.6, 0.00335, 0.187, 0.541, 0.654037, 31.627222, 62.933972, 2.409062, 0.0], [\"E14000948\", 0.2202, 0.103, 0.3645, 0.3011, 127.572465, 796.167106, 3225, 0.282306, 31.751814, 0.063046, 0.001732, 520, 230000.0, 0.672727, 8.505917, 0.345572, 0.287209, 0.234111, 0.115763, 0.177, 0.159, 0.012, 0.058, 0.051, 0.051, 0.148, 0.046, 0.126, 0.06, 0.048, 0.063, 0.27, 0.19275, 0.17675, 0.12675, 0.23275, 0.955952, 0.016035, 0.018447, 0.006625, 0.362578, 0.611398, 0.008789, 0.011698, 0.910072, 0.053271, 0.020849, 0.015807, 29.3, 0.01056, 0.2203, 0.617, 0.689095, 50.774828, 37.937411, 3.043033, 0.0], [\"E14000953\", 0.2119, 0.0857, 0.3987, 0.2657, 256.288868, 416.600225, 7265, 0.251507, 68.043458, 0.010315, -0.008815, 750, 430000.0, 0.747967, 11.025641, 0.364779, 0.365953, 0.117186, 0.125521, 0.132, 0.138, 0.005, 0.044, 0.046, 0.032, 0.102, 0.053, 0.117, 0.12, 0.134, 0.076, 0.151, 0.14125, 0.15825, 0.13325, 0.41725, 0.95846, 0.013876, 0.01951, 0.004509, 0.335609, 0.644377, 0.006749, 0.008921, 0.892494, 0.045448, 0.04123, 0.020828, 38.7, 0.0075, 0.2, 0.407, 0.776287, 55.737027, 12.586047, 9.873908, 0.0], [\"E14000955\", 0.3196, 0.2095, 0.3636, 0.1881, 20.347957, 5423.73861, 3140, 0.374179, 28.451822, 0.040142, -0.003815, 540, 210000.0, 0.438356, 7.478632, 0.225224, 0.303343, 0.209654, 0.23855, 0.202, 0.187, 0.001, 0.06, 0.044, 0.072, 0.116, 0.049, 0.089, 0.048, 0.075, 0.058, 0.223, 0.2085, 0.1725, 0.1755, 0.2205, 0.908022, 0.023391, 0.042159, 0.017278, 0.412582, 0.53754, 0.027032, 0.01722, 0.880445, 0.056964, 0.03626, 0.026331, 53.3, 0.01701, 0.2007, 0.603, 0.653565, 46.54041, 46.474147, 3.037428, 0.0], [\"E14000956\", 0.3432, 0.2329, 0.3667, 0.1637, 22.048499, 5110.370647, 3240, 0.336082, 28.755014, 0.043045, -0.003262, 560, 204950.0, 0.423264, 7.038118, 0.199027, 0.264323, 0.286877, 0.23072, 0.161, 0.166, 0.003, 0.068, 0.039, 0.065, 0.151, 0.055, 0.109, 0.062, 0.069, 0.053, 0.21, 0.17075, 0.14775, 0.18375, 0.28775, 0.83056, 0.025001, 0.107451, 0.025426, 0.400906, 0.501109, 0.051673, 0.040687, 0.791496, 0.096598, 0.046491, 0.065405, 59.4, 0.00862, 0.1407, 0.494, 0.669839, 34.125749, 58.650833, 4.033857, 0.0], [\"E14000959\", 0.2105, 0.1031, 0.4217, 0.2397, 51.16627, 1941.396166, 4610, 0.349927, 46.409085, 0.016953, -0.010245, 640, 385000.0, 0.855422, 11.56851, 0.339213, 0.386414, 0.126645, 0.124291, 0.146, 0.146, 0.001, 0.044, 0.057, 0.15, 0.086, 0.058, 0.079, 0.063, 0.104, 0.066, 0.204, 0.2155, 0.1765, 0.1295, 0.2745, 0.872979, 0.024917, 0.076309, 0.016161, 0.295048, 0.637607, 0.018913, 0.044802, 0.85939, 0.051968, 0.043003, 0.045639, 53.4, 0.00929, 0.2201, 0.603, 0.691359, 57.25232, 30.463933, 5.497356, 0.0], [\"E14000983\", 0.2177, 0.1019, 0.4137, 0.2513, 108.115291, 1008.284756, 5370, 0.17377, 49.261084, 0.010131, -0.011391, 700, 380000.0, 0.715576, 10.43956, 0.343372, 0.422134, 0.11714, 0.099754, 0.156, 0.149, 0.002, 0.043, 0.068, 0.058, 0.107, 0.057, 0.086, 0.083, 0.125, 0.067, 0.159, 0.18525, 0.17425, 0.13525, 0.34525, 0.910683, 0.01779, 0.055461, 0.010102, 0.316367, 0.634771, 0.016758, 0.028128, 0.875994, 0.043248, 0.040729, 0.040029, 65.3, 0.00335, 0.1402, 0.519, 0.718736, 64.19356, 21.055999, 10.845353, 0.0], [\"E14000997\", 0.2238, 0.0954, 0.4033, 0.2476, 300.694416, 355.074768, 5555, 0.271167, 52.02821, 0.01729, -0.00377, 690, 374995.0, 0.588962, 10.451366, 0.337781, 0.361319, 0.108535, 0.162942, 0.161, 0.146, 0.01, 0.042, 0.05, 0.044, 0.101, 0.052, 0.109, 0.09, 0.128, 0.069, 0.191, 0.18375, 0.18175, 0.12875, 0.31375, 0.958929, 0.014872, 0.020045, 0.002829, 0.341783, 0.63805, 0.006052, 0.010568, 0.925446, 0.029452, 0.027916, 0.017186, 45.8, 0.02109, 0.1928, 0.529, 0.736466, 63.644191, 22.334686, 6.654717, 0.0], [\"E14001004\", 0.2134, 0.0917, 0.4231, 0.2417, 248.052839, 435.217757, 5815, 0.185525, 53.864038, 0.016962, -0.004132, 690, 360000.0, 0.714327, 10.033445, 0.316287, 0.340935, 0.173324, 0.149942, 0.135, 0.157, 0.011, 0.046, 0.037, 0.035, 0.12, 0.05, 0.097, 0.096, 0.15, 0.066, 0.169, 0.1635, 0.1755, 0.1315, 0.3605, 0.947768, 0.016836, 0.026306, 0.005682, 0.348425, 0.625516, 0.011459, 0.010859, 0.899105, 0.044913, 0.032845, 0.023137, 43.0, 0.0271, 0.201, 0.446, 0.726218, 56.920438, 26.547252, 9.878433, 0.0], [\"E14001015\", 0.2147, 0.1032, 0.417, 0.2346, 584.439459, 206.012784, 5485, 0.204171, 45.555722, 0.015088, -0.004863, 690, 334995.0, 0.775043, 9.336538, 0.332057, 0.362493, 0.138817, 0.139699, 0.171, 0.146, 0.012, 0.038, 0.081, 0.038, 0.098, 0.047, 0.105, 0.115, 0.083, 0.065, 0.172, 0.177, 0.162, 0.129, 0.359, 0.960146, 0.011089, 0.017638, 0.008659, 0.349079, 0.632176, 0.005179, 0.00987, 0.912655, 0.041402, 0.02975, 0.016184, 55.4, 0.01187, 0.1649, 0.465, 0.743222, 54.179114, 26.852929, 14.518411, 0.0], [\"E14001023\", 0.2061, 0.0906, 0.3797, 0.308, 571.034159, 191.524444, 5955, 0.102778, 54.449697, 0.015722, -0.00175, 630, 330000.0, 0.609756, 10.07326, 0.397226, 0.374457, 0.110203, 0.091027, 0.172, 0.156, 0.015, 0.047, 0.044, 0.036, 0.127, 0.05, 0.1, 0.082, 0.094, 0.076, 0.183, 0.18425, 0.18525, 0.13525, 0.31225, 0.972981, 0.010141, 0.012351, 0.002545, 0.344701, 0.6363, 0.004242, 0.006215, 0.926755, 0.032662, 0.026161, 0.014412, 31.1, 0.01758, 0.2043, 0.528, 0.743961, 61.238092, 22.160294, 10.387999, 0.0], [\"E14001041\", 0.2536, 0.1199, 0.369, 0.2678, 324.877679, 314.056664, 5260, 0.262905, 51.553465, 0.013829, -0.00383, 670, 425000.0, 0.70034, 12.198622, 0.365403, 0.320529, 0.136937, 0.15103, 0.129, 0.137, 0.009, 0.052, 0.075, 0.033, 0.131, 0.042, 0.127, 0.092, 0.109, 0.064, 0.138, 0.1335, 0.1555, 0.1535, 0.4195, 0.943568, 0.015436, 0.031582, 0.004758, 0.350616, 0.62179, 0.006865, 0.016639, 0.900517, 0.03892, 0.033658, 0.026895, 48.1, 0.0145, 0.1716, 0.396, 0.789771, 52.013787, 10.509833, 34.519561, 0.0], [\"E14001042\", 0.2278, 0.0968, 0.4288, 0.2257, 148.31272, 717.483975, 6710, 0.196078, 63.056798, 0.013546, -0.007144, 680, 474715.0, 0.89924, 13.425198, 0.301273, 0.374377, 0.181221, 0.115215, 0.141, 0.133, 0.002, 0.051, 0.056, 0.079, 0.078, 0.056, 0.1, 0.094, 0.136, 0.075, 0.148, 0.165, 0.165, 0.131, 0.391, 0.868549, 0.025164, 0.08124, 0.016799, 0.281949, 0.640163, 0.025448, 0.048814, 0.827279, 0.066366, 0.06362, 0.042736, 46.0, 0.01327, 0.2112, 0.467, 0.7349, 64.386788, 22.874205, 10.077706, 0.0], [\"E14001046\", 0.2083, 0.0998, 0.4008, 0.2742, 714.429343, 153.689096, 5725, 0.104147, 52.140255, 0.014161, -0.000126, 640, 335000.0, 0.675042, 10.066106, 0.344927, 0.35212, 0.14854, 0.124581, 0.185, 0.15, 0.013, 0.045, 0.092, 0.032, 0.101, 0.041, 0.118, 0.08, 0.075, 0.071, 0.176, 0.18225, 0.16825, 0.13325, 0.33925, 0.96841, 0.012054, 0.013591, 0.004171, 0.330372, 0.65411, 0.004152, 0.007368, 0.919488, 0.037364, 0.029548, 0.0136, 44.7, 0.02951, 0.1894, 0.463, 0.737982, 55.540237, 20.677204, 20.445779, 0.0], [\"E14001047\", 0.2134, 0.0977, 0.4262, 0.2229, 98.984969, 1091.41823, 5435, 0.271345, 50.308236, 0.012762, -0.010539, 710, 410000.0, 0.906977, 11.105092, 0.319691, 0.383423, 0.160418, 0.117556, 0.135, 0.144, 0.002, 0.04, 0.067, 0.053, 0.103, 0.056, 0.082, 0.106, 0.137, 0.075, 0.152, 0.1635, 0.1595, 0.1285, 0.3955, 0.842042, 0.023038, 0.109587, 0.014452, 0.305535, 0.592236, 0.069784, 0.029121, 0.807273, 0.066402, 0.059072, 0.067252, 63.5, 0.00397, 0.1489, 0.443, 0.726966, 54.126996, 23.855121, 17.577743, 0.0], [\"E14001048\", 0.2242, 0.0962, 0.4249, 0.2159, 156.04453, 714.065401, 5860, 0.365967, 52.590957, 0.012543, -0.00621, 690, 412950.0, 0.795435, 11.509197, 0.324997, 0.43847, 0.12789, 0.082023, 0.15, 0.142, 0.003, 0.033, 0.062, 0.035, 0.087, 0.047, 0.113, 0.099, 0.169, 0.06, 0.127, 0.15925, 0.16225, 0.13525, 0.41625, 0.885703, 0.020966, 0.071563, 0.014182, 0.344779, 0.58614, 0.024032, 0.041933, 0.875902, 0.039352, 0.042754, 0.041972, 56.1, 0.01759, 0.1611, 0.427, 0.757025, 56.635952, 25.14324, 15.935668, 0.0], [\"E14001055\", 0.1805, 0.0895, 0.3715, 0.347, 30.442718, 3268.827698, 3410, 0.190227, 34.267224, 0.027919, -0.007867, 550, 285000.0, 0.632069, 9.965035, 0.407881, 0.307296, 0.171124, 0.099252, 0.181, 0.16, 0.005, 0.044, 0.063, 0.042, 0.16, 0.049, 0.081, 0.057, 0.091, 0.067, 0.23, 0.1895, 0.1825, 0.1305, 0.2675, 0.950847, 0.014674, 0.024376, 0.00663, 0.361345, 0.610859, 0.010082, 0.012035, 0.915544, 0.037414, 0.025516, 0.021505, 55.2, 0.0001, 0.1542, 0.56, 0.702368, 55.374933, 33.192668, 5.471258, 0.0], [\"E14001056\", 0.2523, 0.1209, 0.4094, 0.1992, 139.947328, 795.363523, 5225, 0.182127, 46.941397, 0.02808, -0.007411, 650, 339950.0, 0.817914, 10.057692, 0.277907, 0.379334, 0.169622, 0.146281, 0.174, 0.183, 0.002, 0.048, 0.044, 0.051, 0.1, 0.052, 0.097, 0.081, 0.103, 0.066, 0.179, 0.17975, 0.16575, 0.14475, 0.32975, 0.733244, 0.034179, 0.176872, 0.049875, 0.30957, 0.522721, 0.134132, 0.030106, 0.810217, 0.053762, 0.052818, 0.083202, 41.7, 0.01278, 0.2286, 0.485, 0.695798, 50.036453, 37.739517, 7.752416, 0.0], [\"E14000547\", 0.3855, 0.2554, 0.3205, 0.2042, 28.681652, 3389.867532, 4275, 0.211048, 43.969268, 0.027669, -0.00145, 650, 357750.0, 0.745122, 10.58432, 0.30565, 0.265968, 0.234138, 0.174987, 0.109, 0.141, 0.002, 0.087, 0.066, 0.026, 0.132, 0.035, 0.149, 0.089, 0.095, 0.071, 0.139, 0.124, 0.132, 0.214, 0.391, 0.916531, 0.02289, 0.04192, 0.012053, 0.455868, 0.511518, 0.010781, 0.015451, 0.86384, 0.058801, 0.04003, 0.037329, 45.1, 0.00717, 0.1899, 0.317, 0.744182, 35.782425, 14.680435, 47.2662, 0.0], [\"E14000584\", 0.2292, 0.1254, 0.4165, 0.2313, 25.207869, 4245.618691, 3435, 0.298677, 32.095905, 0.036733, -0.004266, 550, 244100.0, 0.419186, 8.534965, 0.271161, 0.307605, 0.309764, 0.095287, 0.149, 0.162, 0.002, 0.076, 0.039, 0.042, 0.147, 0.044, 0.092, 0.051, 0.125, 0.072, 0.186, 0.186, 0.174, 0.156, 0.298, 0.917133, 0.023367, 0.03995, 0.010524, 0.364271, 0.588701, 0.018424, 0.022192, 0.842588, 0.082328, 0.043014, 0.03207, 61.1, 0.00033, 0.1263, 0.537, 0.653336, 51.875848, 35.550619, 6.516105, 0.0], [\"E14000585\", 0.289, 0.1822, 0.3712, 0.2356, 27.111993, 3885.254763, 4040, 0.248841, 38.353095, 0.035151, -0.004641, 530, 240000.0, 0.387283, 8.708273, 0.285121, 0.28754, 0.266063, 0.142994, 0.163, 0.183, 0.001, 0.084, 0.037, 0.043, 0.127, 0.045, 0.084, 0.049, 0.116, 0.07, 0.209, 0.18575, 0.16875, 0.18675, 0.24875, 0.927067, 0.02134, 0.035294, 0.008063, 0.403464, 0.554856, 0.01552, 0.019673, 0.871383, 0.063566, 0.037022, 0.028029, 58.9, 0.00075, 0.1415, 0.577, 0.610069, 53.501696, 36.176332, 6.580987, 0.0], [\"E14000595\", 0.2059, 0.1033, 0.3655, 0.3183, 1082.212992, 105.075434, 4515, 0.089264, 39.704874, 0.033635, -0.001289, 540, 203000.0, 0.353333, 7.229345, 0.382457, 0.298984, 0.154788, 0.142152, 0.222, 0.187, 0.031, 0.081, 0.05, 0.041, 0.119, 0.045, 0.092, 0.043, 0.032, 0.058, 0.254, 0.2045, 0.1835, 0.1285, 0.2295, 0.985533, 0.00698, 0.005683, 0.000836, 0.34403, 0.645026, 0.002085, 0.003626, 0.948614, 0.033791, 0.010183, 0.007412, 29.7, 0.05187, 0.2937, 0.621, 0.653997, 55.110097, 28.597662, 10.867215, 0.0], [\"E14000599\", 0.2673, 0.1637, 0.4076, 0.1925, 23.715761, 4264.379344, 2935, 0.365116, 29.02119, 0.032311, -0.011795, 580, 240000.0, 0.846154, 7.95756, 0.275206, 0.35008, 0.195414, 0.160143, 0.17, 0.17, 0.001, 0.052, 0.062, 0.052, 0.141, 0.052, 0.087, 0.058, 0.102, 0.053, 0.238, 0.20525, 0.16825, 0.14425, 0.24425, 0.836287, 0.037298, 0.060555, 0.057262, 0.409498, 0.512153, 0.05354, 0.018675, 0.873312, 0.049629, 0.045068, 0.031992, 67.6, 0.0169, 0.1677, 0.468, 0.703335, 34.356976, 60.723636, 2.734306, 0.0], [\"E14000600\", 0.2776, 0.1496, 0.3713, 0.2182, 44.182267, 2409.247118, 3630, 0.452, 34.101798, 0.031841, -0.011354, 570, 277500.0, 0.790323, 9.362348, 0.302484, 0.304481, 0.135886, 0.235985, 0.142, 0.154, 0.001, 0.05, 0.052, 0.053, 0.158, 0.051, 0.109, 0.077, 0.097, 0.055, 0.214, 0.16475, 0.14775, 0.13775, 0.33675, 0.868295, 0.030682, 0.052981, 0.041117, 0.399488, 0.545715, 0.031148, 0.018619, 0.866589, 0.05557, 0.043627, 0.034213, 67.8, 0.00792, 0.1359, 0.416, 0.71888, 41.849675, 50.650695, 5.201863, 0.0], [\"E14000601\", 0.2748, 0.1705, 0.3995, 0.1873, 24.566068, 4627.114093, 3125, 0.407658, 27.491862, 0.036724, -0.013236, 570, 240000.0, 0.739193, 8.097166, 0.254664, 0.312074, 0.168667, 0.242163, 0.18, 0.157, 0.001, 0.053, 0.051, 0.048, 0.12, 0.057, 0.095, 0.07, 0.113, 0.055, 0.279, 0.2, 0.151, 0.117, 0.254, 0.925674, 0.027625, 0.0243, 0.018311, 0.480883, 0.489554, 0.01575, 0.008867, 0.917264, 0.042835, 0.023946, 0.015955, 69.9, 0.00743, 0.1158, 0.471, 0.656459, 30.670075, 60.067669, 3.348534, 0.0], [\"E14000602\", 0.4546, 0.3523, 0.3429, 0.1052, 17.233557, 8248.790588, 8640, 0.372518, 60.7783, 0.032932, -0.017524, 650, 295000.0, 0.697842, 8.727811, 0.172029, 0.228455, 0.400558, 0.176232, 0.09, 0.11, 0.001, 0.074, 0.053, 0.025, 0.142, 0.049, 0.135, 0.12, 0.133, 0.066, 0.102, 0.0925, 0.1045, 0.2175, 0.4845, 0.745196, 0.046691, 0.079636, 0.113576, 0.513626, 0.351562, 0.096871, 0.028558, 0.772383, 0.074648, 0.10141, 0.051559, 62.4, 0.01506, 0.0864, 0.207, 0.771825, 13.793152, 65.932577, 7.263155, 0.0], [\"E14000616\", 0.2244, 0.1105, 0.3719, 0.2891, 279.362669, 332.821848, 3045, 0.240326, 32.749683, 0.034546, 0.001013, 480, 189950.0, 0.266333, 7.610176, 0.394754, 0.306834, 0.157642, 0.11984, 0.202, 0.176, 0.021, 0.071, 0.057, 0.036, 0.156, 0.047, 0.098, 0.046, 0.029, 0.062, 0.242, 0.192, 0.183, 0.149, 0.233, 0.982794, 0.007854, 0.006566, 0.001381, 0.406199, 0.581043, 0.001873, 0.004483, 0.9588, 0.02218, 0.011728, 0.007292, 24.9, 0.03113, 0.3083, 0.584, 0.709584, 47.467806, 44.213307, 6.147845, 0.0], [\"E14000623\", 0.1898, 0.0831, 0.3806, 0.326, 1413.376577, 66.602915, 5825, 0.104265, 61.879216, 0.016047, -0.00311, 520, 249000.0, 0.345946, 9.20858, 0.421766, 0.31204, 0.149772, 0.093934, 0.184, 0.152, 0.056, 0.063, 0.054, 0.038, 0.13, 0.04, 0.104, 0.066, 0.045, 0.068, 0.205, 0.175, 0.174, 0.127, 0.319, 0.985842, 0.007467, 0.005139, 0.000686, 0.364921, 0.621494, 0.001507, 0.005634, 0.951701, 0.023233, 0.016699, 0.008367, 27.7, 0.11244, 0.2764, 0.509, 0.778916, 54.073024, 26.965632, 11.703893, 0.0], [\"E14000630\", 0.26, 0.1417, 0.3928, 0.2371, 37.209771, 2857.663378, 4960, 0.254109, 46.645914, 0.023777, -0.013363, 620, 257250.0, 0.513235, 7.979218, 0.309491, 0.320437, 0.224809, 0.127165, 0.165, 0.15, 0.002, 0.063, 0.084, 0.024, 0.12, 0.048, 0.111, 0.071, 0.105, 0.057, 0.163, 0.15325, 0.15325, 0.15125, 0.37825, 0.941698, 0.016802, 0.031831, 0.006494, 0.390819, 0.580755, 0.009383, 0.014504, 0.88638, 0.055003, 0.032985, 0.025632, 61.2, 0.01104, 0.176, 0.429, 0.724144, 46.683154, 9.485722, 42.177086, 0.0], [\"E14000635\", 0.2062, 0.0905, 0.4071, 0.272, 167.620988, 595.056749, 4085, 0.180636, 40.954844, 0.021061, -0.008757, 570, 250000.0, 0.488095, 8.434548, 0.340379, 0.377057, 0.121297, 0.144339, 0.196, 0.158, 0.009, 0.051, 0.09, 0.039, 0.106, 0.044, 0.104, 0.062, 0.079, 0.061, 0.182, 0.19325, 0.18125, 0.13425, 0.30825, 0.967125, 0.01391, 0.011917, 0.00546, 0.37582, 0.607748, 0.00356, 0.007723, 0.931718, 0.035708, 0.01964, 0.012934, 39.2, 0.0061, 0.1958, 0.516, 0.75034, 54.719986, 19.663983, 25.616031, 0.0], [\"E14000638\", 0.1726, 0.0786, 0.3283, 0.4146, 108.684084, 800.365578, 3775, 0.149163, 43.397289, 0.019827, -0.002485, 670, 350000.0, 0.489362, 10.045924, 0.501209, 0.289217, 0.092341, 0.101639, 0.189, 0.177, 0.005, 0.057, 0.049, 0.042, 0.129, 0.042, 0.09, 0.059, 0.09, 0.071, 0.244, 0.1995, 0.1745, 0.1215, 0.2605, 0.97787, 0.008649, 0.010359, 0.001627, 0.308388, 0.676671, 0.003983, 0.006173, 0.945691, 0.024439, 0.018721, 0.011149, 38.1, 0.00321, 0.2529, 0.6, 0.722454, 69.577754, 19.866098, 7.939329, 0.0], [\"E14000665\", 0.2456, 0.1253, 0.3798, 0.2472, 1023.361486, 100.743483, 4420, 0.136247, 42.872247, 0.016238, -0.00336, 540, 279995.0, 0.534219, 9.971332, 0.305223, 0.291776, 0.186917, 0.185808, 0.158, 0.125, 0.022, 0.045, 0.215, 0.028, 0.093, 0.043, 0.086, 0.061, 0.061, 0.062, 0.171, 0.1965, 0.1945, 0.1425, 0.2955, 0.95929, 0.012069, 0.013336, 0.012749, 0.327174, 0.654729, 0.003731, 0.008688, 0.910706, 0.041112, 0.032094, 0.016078, 38.8, 0.02205, 0.1906, 0.535, 0.702372, 62.743858, 20.967327, 9.301682, 0.0], [\"E14000678\", 0.196, 0.0929, 0.3561, 0.343, 333.253729, 319.12321, 4195, 0.188385, 39.445599, 0.015045, -0.003519, 590, 276000.0, 0.3819, 8.996089, 0.45336, 0.292478, 0.14236, 0.090278, 0.15, 0.157, 0.016, 0.072, 0.094, 0.04, 0.143, 0.041, 0.099, 0.065, 0.054, 0.07, 0.194, 0.1805, 0.1795, 0.1245, 0.3215, 0.981608, 0.007599, 0.007865, 0.00166, 0.338627, 0.649719, 0.002554, 0.004374, 0.947507, 0.025331, 0.016795, 0.010356, 33.8, 0.03578, 0.2427, 0.504, 0.733808, 48.534331, 11.356033, 2.431188, 0.0], [\"E14000698\", 0.3597, 0.2453, 0.3442, 0.1973, 37.98212, 3044.669477, 3555, 0.173267, 30.74116, 0.020814, -0.015006, 550, 235000.0, 0.516129, 8.216783, 0.28713, 0.293098, 0.215991, 0.182255, 0.143, 0.17, 0.004, 0.073, 0.064, 0.048, 0.152, 0.045, 0.121, 0.064, 0.054, 0.064, 0.185, 0.169, 0.152, 0.202, 0.292, 0.926716, 0.017038, 0.041595, 0.005821, 0.436895, 0.528501, 0.016538, 0.012142, 0.88597, 0.046869, 0.029812, 0.03735, 61.0, 0.02627, 0.2136, 0.448, 0.718402, 32.872634, 61.952619, 2.818325, 0.0], [\"E14000702\", 0.272, 0.1554, 0.4033, 0.2022, 80.706325, 1283.356658, 3510, 0.409639, 33.888487, 0.016622, -0.005628, 630, 261000.0, 0.711475, 7.967033, 0.308377, 0.404077, 0.171724, 0.100849, 0.18, 0.159, 0.002, 0.044, 0.083, 0.052, 0.121, 0.044, 0.084, 0.06, 0.122, 0.049, 0.164, 0.198, 0.169, 0.161, 0.308, 0.916525, 0.01824, 0.046001, 0.013524, 0.392689, 0.567549, 0.01402, 0.022288, 0.898058, 0.041619, 0.028127, 0.032196, 65.7, 0.00507, 0.152, 0.488, 0.701765, 49.976332, 41.712358, 6.019486, 0.0], [\"E14000705\", 0.21, 0.1003, 0.3721, 0.3153, 584.110634, 155.62634, 4435, 0.171731, 48.788269, 0.026373, -0.006811, 570, 210000.0, 0.4, 7.08502, 0.412321, 0.334263, 0.11144, 0.121005, 0.245, 0.152, 0.027, 0.044, 0.06, 0.039, 0.123, 0.045, 0.093, 0.053, 0.059, 0.06, 0.241, 0.19675, 0.17775, 0.12975, 0.25575, 0.984588, 0.006476, 0.005849, 0.002333, 0.328026, 0.661216, 0.001114, 0.00441, 0.962039, 0.018685, 0.012789, 0.006487, 24.9, 0.10398, 0.3268, 0.579, 0.731304, 54.273958, 35.918635, 3.919485, 0.0], [\"E14000712\", 0.2458, 0.1294, 0.4066, 0.2136, 37.70366, 3181.150033, 3470, 0.259528, 28.930891, 0.035124, -0.01234, 550, 181000.0, 0.414062, 6.328671, 0.279132, 0.375764, 0.180583, 0.143205, 0.213, 0.174, 0.002, 0.048, 0.069, 0.048, 0.148, 0.046, 0.078, 0.042, 0.083, 0.049, 0.222, 0.2175, 0.1845, 0.1435, 0.2315, 0.886052, 0.030547, 0.050127, 0.030511, 0.334338, 0.617417, 0.033739, 0.010209, 0.891972, 0.048281, 0.031733, 0.028015, 68.0, 0.0136, 0.1604, 0.588, 0.652649, 50.319025, 40.110225, 5.023025, 0.0], [\"E14000774\", 0.2262, 0.1186, 0.4091, 0.2401, 43.106372, 2127.086924, 2710, 0.29976, 29.555791, 0.017238, -0.009538, 560, 245000.0, 0.622517, 8.413462, 0.337775, 0.409192, 0.12117, 0.116488, 0.208, 0.173, 0.002, 0.034, 0.073, 0.044, 0.131, 0.045, 0.081, 0.055, 0.105, 0.05, 0.212, 0.23125, 0.18325, 0.14225, 0.23125, 0.960339, 0.013912, 0.015357, 0.007811, 0.383003, 0.599358, 0.006755, 0.007707, 0.955373, 0.020438, 0.014107, 0.010081, 68.8, 0.00106, 0.1291, 0.571, 0.704316, 54.890134, 39.502677, 3.588355, 0.0], [\"E14000815\", 0.2052, 0.0884, 0.3709, 0.3205, 175.796114, 472.052528, 3455, 0.127243, 41.63403, 0.015898, -0.005012, 560, 317643.0, 0.588215, 10.90807, 0.418519, 0.359649, 0.106804, 0.098461, 0.216, 0.161, 0.005, 0.046, 0.061, 0.036, 0.122, 0.039, 0.103, 0.057, 0.084, 0.07, 0.189, 0.20875, 0.18475, 0.13775, 0.28075, 0.980085, 0.008466, 0.00911, 0.001349, 0.350847, 0.636949, 0.002686, 0.005174, 0.950231, 0.023554, 0.015818, 0.010397, 46.3, 0.01025, 0.2069, 0.571, 0.744028, 59.238612, 13.310814, 27.450574, 0.0], [\"E14000835\", 0.1927, 0.0943, 0.3745, 0.3327, 203.688261, 450.909638, 3290, 0.115254, 35.821221, 0.021476, -0.00394, 520, 234895.0, 0.432287, 8.686945, 0.398829, 0.330321, 0.159772, 0.089553, 0.183, 0.184, 0.011, 0.066, 0.062, 0.042, 0.154, 0.041, 0.095, 0.057, 0.041, 0.065, 0.225, 0.19975, 0.18075, 0.12975, 0.26575, 0.982392, 0.007235, 0.008133, 0.001155, 0.364555, 0.6238, 0.002089, 0.004177, 0.956172, 0.021342, 0.012976, 0.00951, 41.7, 0.03198, 0.2177, 0.56, 0.721867, 55.454422, 22.222437, 20.529853, 0.0], [\"E14000837\", 0.1972, 0.0921, 0.3663, 0.3275, 1195.232141, 78.296087, 5185, 0.134573, 55.405954, 0.028617, 0.003147, 520, 225000.0, 0.259798, 8.321006, 0.418409, 0.266069, 0.163823, 0.125718, 0.212, 0.178, 0.054, 0.1, 0.043, 0.033, 0.113, 0.042, 0.086, 0.046, 0.028, 0.065, 0.242, 0.19825, 0.18725, 0.13225, 0.24125, 0.984365, 0.006784, 0.006338, 0.001325, 0.370857, 0.616763, 0.001222, 0.004009, 0.955289, 0.023937, 0.012448, 0.008326, 25.1, 0.05393, 0.2833, 0.602, 0.741488, 50.712547, 12.074042, 36.579381, 0.0], [\"E14000838\", 0.2016, 0.0967, 0.3723, 0.3184, 1085.973651, 88.501226, 4925, 0.088398, 51.243367, 0.021976, 0.000486, 480, 230000.0, 0.322219, 9.214744, 0.39094, 0.293618, 0.18352, 0.107897, 0.206, 0.171, 0.043, 0.098, 0.056, 0.029, 0.131, 0.044, 0.09, 0.043, 0.028, 0.06, 0.241, 0.20175, 0.18275, 0.13475, 0.23975, 0.979448, 0.008381, 0.008915, 0.001687, 0.3736, 0.613087, 0.003, 0.005263, 0.95595, 0.022068, 0.012779, 0.009203, 30.3, 0.07659, 0.2514, 0.57, 0.735755, 45.807378, 12.679293, 38.030697, 0.0], [\"E14000839\", 0.1996, 0.0858, 0.3712, 0.3283, 880.668073, 111.979761, 5065, 0.098698, 51.360313, 0.015553, 0.0003, 550, 287750.0, 0.475641, 10.061189, 0.397416, 0.321992, 0.134705, 0.121081, 0.207, 0.153, 0.035, 0.04, 0.085, 0.033, 0.105, 0.042, 0.112, 0.055, 0.056, 0.075, 0.197, 0.1955, 0.1855, 0.1355, 0.2855, 0.978702, 0.007711, 0.010341, 0.002379, 0.316578, 0.668385, 0.003068, 0.007242, 0.939299, 0.030262, 0.017635, 0.012804, 29.6, 0.04303, 0.2142, 0.566, 0.732286, 64.907401, 18.649056, 13.559687, 0.0], [\"E14000846\", 0.2339, 0.1169, 0.3703, 0.2779, 322.495875, 294.202213, 4160, 0.175141, 43.845319, 0.021169, -0.000636, 570, 281250.0, 0.635174, 9.488866, 0.399386, 0.368952, 0.101075, 0.11216, 0.208, 0.153, 0.011, 0.046, 0.065, 0.037, 0.126, 0.043, 0.106, 0.067, 0.077, 0.061, 0.206, 0.19275, 0.17375, 0.13175, 0.29475, 0.975607, 0.009913, 0.009775, 0.002926, 0.367796, 0.619744, 0.002536, 0.005702, 0.953372, 0.019838, 0.016465, 0.010326, 38.0, 0.04075, 0.2183, 0.516, 0.75884, 53.646171, 34.707548, 8.254538, 0.0], [\"E14000850\", 0.1864, 0.0777, 0.3903, 0.3101, 228.307709, 447.615197, 4940, 0.263427, 48.339433, 0.013313, -0.00335, 660, 320000.0, 0.684211, 9.324009, 0.405214, 0.387873, 0.112568, 0.077289, 0.173, 0.153, 0.008, 0.039, 0.067, 0.043, 0.118, 0.048, 0.097, 0.081, 0.111, 0.063, 0.164, 0.1795, 0.1745, 0.1325, 0.3485, 0.977299, 0.009656, 0.009768, 0.001781, 0.362431, 0.624769, 0.003144, 0.0058, 0.95004, 0.023607, 0.017166, 0.009188, 46.4, 0.03015, 0.2084, 0.476, 0.771325, 54.206859, 26.618705, 9.649321, 0.0], [\"E14000851\", 0.2218, 0.1059, 0.4238, 0.2188, 106.340019, 1062.450438, 3640, 0.516667, 32.217807, 0.027526, -0.010332, 570, 224000.0, 0.544828, 7.557355, 0.265049, 0.425494, 0.143085, 0.148547, 0.223, 0.187, 0.002, 0.044, 0.049, 0.064, 0.084, 0.056, 0.073, 0.05, 0.118, 0.05, 0.214, 0.24425, 0.18825, 0.13325, 0.22025, 0.931384, 0.017832, 0.036297, 0.011254, 0.383465, 0.584048, 0.009894, 0.017692, 0.907497, 0.039567, 0.025648, 0.027288, 56.6, 0.03128, 0.1966, 0.573, 0.686246, 53.59764, 38.418532, 3.573055, 0.0], [\"E14000860\", 0.2053, 0.0896, 0.4047, 0.2723, 714.264125, 132.925618, 5430, 0.2, 57.191608, 0.015946, -0.007712, 650, 285475.0, 0.526604, 8.446006, 0.355758, 0.368843, 0.142337, 0.111011, 0.181, 0.138, 0.022, 0.049, 0.114, 0.039, 0.089, 0.046, 0.096, 0.073, 0.092, 0.06, 0.176, 0.18075, 0.17875, 0.13475, 0.32975, 0.96834, 0.011065, 0.013199, 0.005691, 0.326897, 0.655398, 0.003782, 0.009394, 0.932322, 0.02982, 0.023192, 0.014667, 104.4, 0.0509, 0.211, 0.503, 0.753375, 60.324731, 17.500838, 17.728001, 0.0], [\"E14000879\", 0.2337, 0.1167, 0.3765, 0.2587, 32.644508, 2870.22245, 1490, 0.27897, 15.902323, 0.039966, -0.009589, 470, 160000.0, 0.481481, 6.546645, 0.279677, 0.323208, 0.103092, 0.275611, 0.21, 0.17, 0.001, 0.052, 0.108, 0.06, 0.15, 0.047, 0.087, 0.028, 0.034, 0.053, 0.287, 0.22425, 0.18625, 0.13625, 0.16725, 0.975013, 0.008697, 0.010576, 0.00366, 0.382571, 0.604143, 0.004895, 0.004873, 0.953839, 0.022911, 0.011931, 0.011319, 69.5, 0.00935, 0.1537, 0.664, 0.655981, 51.890261, 40.839333, 2.019068, 0.0], [\"E14000880\", 0.3431, 0.2326, 0.3648, 0.1856, 21.153213, 5418.656787, 3045, 0.121547, 26.565581, 0.057044, -0.004612, 490, 158000.0, 0.373913, 6.200942, 0.201433, 0.270192, 0.318545, 0.190237, 0.167, 0.152, 0.002, 0.08, 0.101, 0.051, 0.139, 0.043, 0.109, 0.045, 0.047, 0.065, 0.185, 0.1685, 0.1675, 0.2215, 0.2575, 0.938774, 0.019002, 0.02451, 0.010817, 0.450984, 0.518271, 0.014193, 0.009891, 0.893792, 0.056026, 0.029057, 0.021125, 67.6, 0.01495, 0.143, 0.544, 0.669735, 39.98594, 53.278785, 2.429308, 0.0], [\"E14000881\", 0.207, 0.1057, 0.3977, 0.2824, 30.940634, 3194.472317, 4460, 0.267045, 45.123888, 0.027202, -0.00247, 570, 275000.0, 0.470588, 9.278003, 0.350592, 0.328199, 0.184289, 0.115284, 0.21, 0.163, 0.002, 0.052, 0.053, 0.041, 0.141, 0.046, 0.079, 0.051, 0.095, 0.069, 0.22, 0.19825, 0.17325, 0.13225, 0.27525, 0.956133, 0.013229, 0.024065, 0.003517, 0.375612, 0.600061, 0.007801, 0.011256, 0.912833, 0.043626, 0.022837, 0.020705, 58.3, 0.00231, 0.1488, 0.574, 0.677218, 57.94985, 29.446339, 8.892678, 0.0], [\"E14000912\", 0.2011, 0.0898, 0.3979, 0.2861, 612.601533, 158.313349, 4385, 0.181941, 45.21411, 0.020951, -0.000883, 560, 280000.0, 0.435897, 9.615385, 0.342709, 0.309335, 0.158545, 0.161854, 0.146, 0.154, 0.013, 0.049, 0.098, 0.035, 0.145, 0.041, 0.092, 0.087, 0.08, 0.06, 0.193, 0.1705, 0.1705, 0.1335, 0.3325, 0.96742, 0.010044, 0.016918, 0.003978, 0.324105, 0.658233, 0.005137, 0.007148, 0.918151, 0.040416, 0.023225, 0.018197, 50.4, 0.01131, 0.1896, 0.499, 0.732577, 58.059312, 25.546323, 11.220949, 0.0], [\"E14000932\", 0.1952, 0.0816, 0.3754, 0.3227, 950.798242, 113.30164, 5940, 0.118644, 55.13938, 0.024163, 0.00293, 580, 257000.0, 0.511765, 8.52122, 0.398062, 0.326107, 0.134447, 0.116156, 0.217, 0.159, 0.035, 0.057, 0.054, 0.037, 0.11, 0.041, 0.112, 0.06, 0.048, 0.068, 0.209, 0.184, 0.178, 0.13, 0.299, 0.983639, 0.007401, 0.006287, 0.001831, 0.340095, 0.647361, 0.001802, 0.004611, 0.942741, 0.028363, 0.018783, 0.010113, 35.0, 0.09885, 0.2483, 0.503, 0.757914, 56.70663, 17.213423, 20.855506, 0.0], [\"E14000936\", 0.2011, 0.0986, 0.3656, 0.3359, 371.394867, 252.378286, 3005, 0.039792, 32.059489, 0.027596, -0.001354, 510, 230000.0, 0.377246, 8.6727, 0.386094, 0.285256, 0.174222, 0.133265, 0.178, 0.146, 0.012, 0.093, 0.12, 0.037, 0.135, 0.039, 0.089, 0.045, 0.036, 0.072, 0.218, 0.20725, 0.18425, 0.13925, 0.25225, 0.977011, 0.009391, 0.008685, 0.003924, 0.361743, 0.62217, 0.003902, 0.005772, 0.945695, 0.02962, 0.015033, 0.009652, 30.4, 0.01244, 0.2227, 0.594, 0.688378, 56.130312, 33.599199, 5.881786, 0.0], [\"E14000938\", 0.1884, 0.0843, 0.3701, 0.3431, 719.426241, 125.536149, 3835, 0.097282, 42.462963, 0.028872, 0.002179, 510, 198000.0, 0.342373, 7.466063, 0.403077, 0.308462, 0.144952, 0.119952, 0.192, 0.164, 0.033, 0.071, 0.082, 0.043, 0.129, 0.041, 0.106, 0.043, 0.034, 0.062, 0.212, 0.195, 0.184, 0.135, 0.273, 0.985924, 0.007151, 0.004711, 0.001317, 0.366532, 0.621788, 0.001271, 0.004189, 0.96077, 0.019967, 0.012089, 0.007174, 33.7, 0.02985, 0.2099, 0.551, 0.742307, 55.412972, 22.640162, 19.438599, 0.0], [\"E14000947\", 0.2298, 0.1179, 0.4337, 0.2057, 123.765569, 880.818476, 3880, 0.371025, 35.591432, 0.030613, -0.01534, 590, 213437.5, 0.690654, 6.956894, 0.249502, 0.368852, 0.178457, 0.177669, 0.192, 0.174, 0.003, 0.054, 0.042, 0.066, 0.096, 0.061, 0.073, 0.057, 0.131, 0.051, 0.196, 0.224, 0.188, 0.129, 0.264, 0.863552, 0.022707, 0.092998, 0.016235, 0.372475, 0.56568, 0.024318, 0.032273, 0.833675, 0.058044, 0.036005, 0.072265, 60.4, 0.03523, 0.1529, 0.517, 0.709639, 48.387978, 43.582142, 4.054924, 0.0], [\"E14000950\", 0.2014, 0.0904, 0.3785, 0.3111, 370.638402, 242.875534, 2980, 0.168627, 33.104122, 0.014672, -0.005052, 570, 220000.0, 0.403061, 7.422402, 0.40528, 0.381432, 0.126069, 0.067645, 0.186, 0.154, 0.012, 0.04, 0.112, 0.045, 0.143, 0.034, 0.114, 0.052, 0.048, 0.06, 0.179, 0.202, 0.183, 0.145, 0.29, 0.984723, 0.00734, 0.004717, 0.002207, 0.329513, 0.662618, 0.001632, 0.003254, 0.959358, 0.019814, 0.012722, 0.008106, 51.8, 0.03833, 0.1923, 0.551, 0.74311, 59.84827, 29.926027, 5.168663, 0.0], [\"E14000954\", 0.2079, 0.0968, 0.3912, 0.2881, 737.478066, 140.066539, 4085, 0.147472, 39.546546, 0.023453, -0.007115, 530, 224995.0, 0.485116, 8.163824, 0.348226, 0.335378, 0.163094, 0.132395, 0.193, 0.17, 0.019, 0.063, 0.098, 0.037, 0.102, 0.049, 0.09, 0.054, 0.062, 0.062, 0.209, 0.2025, 0.1865, 0.1385, 0.2635, 0.96814, 0.01187, 0.010446, 0.00612, 0.355356, 0.628407, 0.005781, 0.005566, 0.918106, 0.047666, 0.020614, 0.013613, 48.8, 0.01712, 0.1744, 0.569, 0.713894, 59.982466, 26.510931, 9.789776, 0.0], [\"E14000961\", 0.2049, 0.0999, 0.3822, 0.2995, 396.770239, 271.013271, 3865, 0.223101, 35.943458, 0.030227, -0.005025, 490, 200000.0, 0.226994, 7.849294, 0.378646, 0.307968, 0.185898, 0.104001, 0.207, 0.172, 0.018, 0.111, 0.059, 0.041, 0.121, 0.048, 0.087, 0.039, 0.028, 0.068, 0.249, 0.203, 0.195, 0.137, 0.217, 0.983277, 0.008372, 0.005261, 0.001343, 0.394967, 0.593359, 0.001545, 0.003989, 0.959415, 0.021762, 0.012158, 0.006665, 28.7, 0.02069, 0.255, 0.641, 0.69258, 49.538847, 28.986202, 21.47495, 0.0], [\"E14000964\", 0.1925, 0.0884, 0.3653, 0.3444, 530.400423, 164.62091, 3840, 0.098712, 43.978698, 0.024037, -0.006033, 450, 239000.0, 0.291892, 10.213675, 0.410853, 0.256776, 0.175486, 0.129832, 0.148, 0.157, 0.038, 0.112, 0.085, 0.039, 0.123, 0.042, 0.097, 0.05, 0.034, 0.076, 0.218, 0.1845, 0.1845, 0.1355, 0.2765, 0.982461, 0.00904, 0.005102, 0.001493, 0.3949, 0.589265, 0.00107, 0.006172, 0.955177, 0.021853, 0.015364, 0.007606, 26.1, 0.02273, 0.2832, 0.548, 0.764539, 43.181197, 14.246672, 42.572131, 0.0], [\"E14000980\", 0.2057, 0.0932, 0.4015, 0.2834, 385.498075, 274.154417, 5285, 0.145179, 50.006623, 0.017433, -0.010176, 540, 253250.0, 0.489706, 9.018875, 0.374218, 0.354846, 0.124024, 0.12728, 0.242, 0.142, 0.013, 0.046, 0.05, 0.032, 0.124, 0.042, 0.105, 0.072, 0.073, 0.06, 0.183, 0.189, 0.167, 0.132, 0.33, 0.978701, 0.011221, 0.006522, 0.002475, 0.366615, 0.617366, 0.002204, 0.00557, 0.946081, 0.027911, 0.018454, 0.007554, 38.6, 0.03192, 0.2663, 0.459, 0.771533, 45.92422, 47.000752, 3.217062, 0.0], [\"E14000988\", 0.213, 0.1037, 0.3815, 0.2919, 462.332709, 257.344976, 4885, 0.154846, 41.057666, 0.02651, -0.000815, 540, 215000.0, 0.34417, 7.656695, 0.348114, 0.321146, 0.154071, 0.156075, 0.166, 0.172, 0.017, 0.047, 0.088, 0.033, 0.176, 0.042, 0.1, 0.06, 0.046, 0.056, 0.205, 0.1785, 0.1905, 0.1345, 0.2925, 0.972129, 0.009166, 0.014593, 0.002596, 0.364771, 0.620935, 0.003621, 0.005618, 0.930055, 0.036102, 0.017806, 0.016027, 29.6, 0.05161, 0.3028, 0.529, 0.738992, 52.86505, 15.366438, 27.668787, 0.0], [\"E14000990\", 0.2007, 0.0978, 0.3969, 0.2833, 368.802692, 293.761413, 4610, 0.264746, 42.551228, 0.018957, -0.008186, 610, 254997.5, 0.593734, 8.039013, 0.389622, 0.362573, 0.121269, 0.107033, 0.211, 0.148, 0.011, 0.05, 0.089, 0.033, 0.113, 0.044, 0.095, 0.062, 0.087, 0.056, 0.187, 0.1935, 0.1785, 0.1345, 0.3075, 0.969878, 0.0102, 0.014511, 0.003638, 0.319094, 0.664153, 0.00484, 0.00856, 0.933142, 0.035523, 0.019524, 0.01181, 52.4, 0.03544, 0.2284, 0.536, 0.726903, 59.995938, 21.789317, 13.507887, 0.0], [\"E14000991\", 0.194, 0.0878, 0.3795, 0.3267, 1239.744951, 82.561336, 6870, 0.160473, 67.11934, 0.015859, -0.004561, 600, 345000.0, 0.516484, 11.057692, 0.384601, 0.285107, 0.145327, 0.146239, 0.186, 0.155, 0.03, 0.069, 0.046, 0.03, 0.095, 0.046, 0.1, 0.087, 0.079, 0.078, 0.184, 0.168, 0.166, 0.128, 0.354, 0.978788, 0.008284, 0.009328, 0.002525, 0.308021, 0.680491, 0.001899, 0.005634, 0.932223, 0.029934, 0.02575, 0.012093, 87.2, 0.04609, 0.2534, 0.479, 0.743689, 60.63616, 17.925698, 16.327761, 0.0], [\"E14000994\", 0.2119, 0.0987, 0.3943, 0.2824, 373.140758, 234.169005, 3940, 0.106742, 45.091442, 0.013984, -0.005133, 590, 284000.0, 0.695522, 9.256845, 0.393072, 0.401013, 0.110538, 0.077578, 0.213, 0.158, 0.014, 0.045, 0.071, 0.051, 0.116, 0.042, 0.087, 0.058, 0.091, 0.054, 0.184, 0.2095, 0.1795, 0.1365, 0.2905, 0.97587, 0.009213, 0.010117, 0.003425, 0.364964, 0.622989, 0.003473, 0.005065, 0.953525, 0.022888, 0.01517, 0.008417, 57.5, 0.01773, 0.1926, 0.522, 0.748115, 55.253502, 12.057605, 31.440126, 0.0], [\"E14000996\", 0.1919, 0.0865, 0.3621, 0.3438, 903.584188, 114.144317, 5500, 0.115619, 53.326094, 0.019849, -0.001687, 510, 232500.0, 0.359649, 8.766968, 0.424499, 0.288615, 0.145207, 0.116446, 0.209, 0.175, 0.052, 0.055, 0.048, 0.046, 0.125, 0.04, 0.088, 0.06, 0.039, 0.063, 0.235, 0.19025, 0.18225, 0.12825, 0.26425, 0.985076, 0.006174, 0.006808, 0.001104, 0.346703, 0.64284, 0.001482, 0.004426, 0.952295, 0.023694, 0.014587, 0.009425, 33.1, 0.0887, 0.2728, 0.578, 0.718274, 61.35259, 27.103693, 8.023869, 0.0], [\"E14000999\", 0.2024, 0.1017, 0.3709, 0.3195, 35.766458, 2805.561587, 2980, 0.075812, 29.697543, 0.042071, -0.008711, 520, 180000.0, 0.241379, 6.656805, 0.341041, 0.307622, 0.25844, 0.074536, 0.165, 0.176, 0.004, 0.107, 0.055, 0.038, 0.178, 0.04, 0.085, 0.041, 0.038, 0.074, 0.253, 0.20725, 0.18725, 0.13225, 0.21925, 0.971564, 0.011675, 0.012529, 0.002244, 0.354971, 0.629257, 0.004653, 0.005662, 0.940648, 0.032368, 0.015, 0.011984, 42.9, 0.00468, 0.1557, 0.625, 0.674942, 53.036698, 18.192832, 25.126041, 0.0], [\"E14001000\", 0.1848, 0.0837, 0.3646, 0.354, 1702.868741, 59.807311, 5305, 0.084867, 52.08947, 0.022637, -0.003544, 500, 213975.0, 0.229741, 8.229808, 0.434594, 0.289729, 0.159083, 0.092003, 0.206, 0.157, 0.064, 0.068, 0.051, 0.034, 0.139, 0.037, 0.1, 0.05, 0.032, 0.061, 0.232, 0.19325, 0.18125, 0.13025, 0.26325, 0.986407, 0.006935, 0.00462, 0.000957, 0.355618, 0.632734, 0.001626, 0.003818, 0.962288, 0.017369, 0.013109, 0.007234, 27.4, 0.11512, 0.3058, 0.572, 0.74045, 56.509751, 21.731675, 17.696705, 0.0], [\"E14001001\", 0.1774, 0.0773, 0.3508, 0.3771, 569.105797, 151.848743, 4480, 0.131313, 51.841052, 0.021513, -0.006294, 520, 265000.0, 0.417112, 9.800296, 0.44033, 0.262623, 0.152035, 0.120059, 0.173, 0.162, 0.031, 0.094, 0.05, 0.034, 0.137, 0.044, 0.105, 0.058, 0.038, 0.074, 0.219, 0.18625, 0.17225, 0.12325, 0.29825, 0.98384, 0.008261, 0.004976, 0.001316, 0.370234, 0.611541, 0.002307, 0.007669, 0.950833, 0.023503, 0.017923, 0.007742, 29.6, 0.05704, 0.2371, 0.539, 0.73065, 53.654267, 26.845037, 12.862542, 0.0], [\"E14001003\", 0.2463, 0.1414, 0.3585, 0.2928, 444.662648, 216.998213, 4680, 0.223529, 48.501933, 0.023699, -0.004573, 530, 260000.0, 0.333675, 9.433962, 0.393406, 0.276808, 0.178717, 0.124109, 0.155, 0.16, 0.019, 0.087, 0.055, 0.033, 0.168, 0.042, 0.108, 0.059, 0.042, 0.071, 0.18, 0.165, 0.169, 0.16, 0.326, 0.975092, 0.01036, 0.01064, 0.001725, 0.397137, 0.585358, 0.002632, 0.00859, 0.947754, 0.022982, 0.018199, 0.011065, 27.1, 0.02441, 0.2443, 0.459, 0.759437, 44.350098, 37.65601, 14.943422, 0.0], [\"E14001026\", 0.208, 0.0913, 0.3687, 0.3225, 555.799997, 193.357324, 5185, 0.099682, 48.24692, 0.027792, 0.003602, 570, 235000.0, 0.413534, 7.928475, 0.399192, 0.318395, 0.150832, 0.108584, 0.202, 0.184, 0.022, 0.067, 0.046, 0.04, 0.118, 0.038, 0.109, 0.057, 0.054, 0.063, 0.228, 0.18825, 0.18125, 0.12725, 0.27525, 0.979539, 0.008904, 0.008817, 0.001762, 0.341689, 0.637937, 0.003436, 0.006136, 0.943205, 0.030256, 0.01628, 0.010259, 29.2, 0.03906, 0.225, 0.536, 0.739518, 50.109298, 11.717042, 37.647716, 0.0], [\"E14001031\", 0.178, 0.0751, 0.35, 0.3834, 1033.040348, 95.589684, 5420, 0.122153, 54.887188, 0.019221, 0.004365, 540, 282500.0, 0.384804, 10.060541, 0.440888, 0.251461, 0.138568, 0.139503, 0.183, 0.149, 0.041, 0.069, 0.079, 0.027, 0.146, 0.041, 0.102, 0.056, 0.037, 0.069, 0.202, 0.17875, 0.17375, 0.12775, 0.31775, 0.979803, 0.007731, 0.009606, 0.001739, 0.333323, 0.652504, 0.00265, 0.005552, 0.944553, 0.023455, 0.018825, 0.013157, 30.4, 0.03232, 0.2396, 0.51, 0.75587, 55.506896, 18.282493, 23.473942, 0.0], [\"E14001038\", 0.2132, 0.1056, 0.3828, 0.2887, 146.338124, 763.471587, 3815, 0.214968, 34.146341, 0.037401, -0.001398, 510, 200000.0, 0.408451, 7.541478, 0.334271, 0.337432, 0.206495, 0.105088, 0.181, 0.19, 0.011, 0.061, 0.058, 0.053, 0.147, 0.041, 0.08, 0.051, 0.066, 0.061, 0.226, 0.202, 0.189, 0.141, 0.242, 0.96875, 0.010394, 0.014153, 0.004382, 0.387849, 0.595888, 0.00537, 0.005523, 0.935486, 0.037627, 0.014412, 0.012475, 29.6, 0.01975, 0.2522, 0.572, 0.68803, 53.14544, 32.682797, 9.173092, 0.0], [\"E14001060\", 0.2122, 0.1097, 0.3734, 0.2996, 400.988779, 278.090076, 3980, 0.077131, 35.691546, 0.024031, 0.00045, 570, 198725.0, 0.31606, 6.704622, 0.364066, 0.32454, 0.137973, 0.15151, 0.266, 0.176, 0.02, 0.048, 0.08, 0.034, 0.126, 0.039, 0.079, 0.043, 0.034, 0.055, 0.225, 0.2115, 0.1825, 0.1395, 0.2425, 0.978433, 0.007529, 0.010301, 0.0025, 0.338518, 0.649813, 0.002884, 0.004121, 0.939972, 0.03539, 0.013495, 0.011144, 30.0, 0.03062, 0.2433, 0.599, 0.71757, 54.489597, 12.487375, 29.70507, 0.0], [\"S14000001\", 0.3222, 0.2266, 0.3886, 0.1844, 47.452237, 2138.171083, 2540, 0.245098, 25.03425, 0.042456, 0.007872, 550, 163269.6, 0.893349, 5.708729, 0.186654, 0.259535, 0.177536, 0.354573, 0.2, 0.163, 0.004, 0.089, 0.037, 0.059, 0.145, 0.059, 0.078, 0.08, 0.034, 0.05, 0.225, 0.229, 0.166, 0.092, 0.29, 0.901901, 0.007125, 0.051398, 0.0318, 0.570725, 0.383065, 0.02313, 0.018815, 0.811307, 0.095701, 0.050826, 0.042166, 29.3, 0.01491, 0.188, 0.431, 0.5925, 22.692276, 30.01061, 4.605925, 41.27105], [\"S14000002\", 0.2463, 0.1619, 0.4386, 0.2156, 82.309075, 1152.132985, 5015, 0.26962, 52.883551, 0.024334, 0.001273, 650, 163269.6, 0.893349, 4.830463, 0.285501, 0.333831, 0.192821, 0.16739, 0.238, 0.137, 0.003, 0.065, 0.039, 0.048, 0.117, 0.045, 0.085, 0.131, 0.043, 0.047, 0.17, 0.194, 0.135, 0.098, 0.403, 0.925759, 0.007028, 0.038392, 0.022908, 0.537313, 0.427353, 0.01734, 0.014754, 0.843267, 0.072824, 0.051225, 0.032683, 29.4, 0.00469, 0.2189, 0.321, 0.685857, 42.13247, 20.5493, 5.866091, 31.452139], [\"S14000003\", 0.239, 0.1223, 0.4154, 0.2298, 229.469561, 377.984774, 1870, 0.234323, 21.559675, 0.0548, -0.019421, 590, 103919.4, 0.508762, 3.387203, 0.217798, 0.381632, 0.07005, 0.321256, 0.236, 0.167, 0.007, 0.039, 0.07, 0.066, 0.153, 0.057, 0.063, 0.029, 0.069, 0.045, 0.36, 0.258, 0.128, 0.098, 0.155, 0.98439, 0.001794, 0.011521, 0.001666, 0.287891, 0.701462, 0.007129, 0.00212, 0.974314, 0.014305, 0.005487, 0.005894, 59.8, 0.00825, 0.1783, 0.398, 0.593162, 23.190885, 37.092785, 2.110415, 37.605915], [\"S14000004\", 0.214, 0.109, 0.3896, 0.2943, 1973.580864, 43.512785, 3140, 0.152294, 36.564349, 0.045454, 0.004939, 520, 143764.2, 0.799097, 5.316722, 0.305212, 0.290588, 0.127468, 0.253169, 0.248, 0.149, 0.051, 0.056, 0.064, 0.04, 0.156, 0.034, 0.074, 0.043, 0.027, 0.057, 0.298, 0.256, 0.129, 0.107, 0.21, 0.988675, 0.002116, 0.006686, 0.001651, 0.47871, 0.513348, 0.002767, 0.002325, 0.953886, 0.02851, 0.011023, 0.006581, 26.8, 0.07981, 0.2531, 0.482, 0.630592, 45.153264, 13.020004, 3.254379, 38.572353], [\"S14000005\", 0.2053, 0.1044, 0.3742, 0.3294, 7007.062876, 12.310436, 3795, 0.044017, 43.994899, 0.033626, -0.003565, 520, 142614.7, 0.359332, 5.274214, 0.376399, 0.284536, 0.125308, 0.189059, 0.155, 0.119, 0.051, 0.097, 0.115, 0.057, 0.147, 0.044, 0.079, 0.04, 0.034, 0.062, 0.247, 0.228, 0.148, 0.088, 0.289, 0.987535, 0.003142, 0.006408, 0.002166, 0.40046, 0.590216, 0.00211, 0.00363, 0.951659, 0.0251, 0.016174, 0.007066, 26.7, 0.1183, 0.3342, 0.394, 0.71602, 33.235557, 12.573592, 18.192598, 35.998253], [\"S14000006\", 0.2143, 0.11, 0.3767, 0.3108, 1628.60645, 56.366595, 2825, 0.179541, 30.773756, 0.065126, 0.004949, 560, 133933.7, 0.285095, 4.599372, 0.320873, 0.31609, 0.096631, 0.252368, 0.191, 0.158, 0.033, 0.072, 0.065, 0.055, 0.189, 0.036, 0.075, 0.031, 0.034, 0.061, 0.329, 0.234, 0.133, 0.094, 0.21, 0.989004, 0.002176, 0.007191, 0.00104, 0.421422, 0.569597, 0.002229, 0.003922, 0.971042, 0.015251, 0.008016, 0.005691, 35.3, 0.0319, 0.2246, 0.441, 0.649851, 40.132404, 23.850115, 1.886548, 34.130933], [\"S14000007\", 0.2185, 0.1123, 0.4015, 0.2679, 1589.930573, 57.730194, 4755, 0.133492, 51.804722, 0.030711, 0.006037, 530, 192005.5, 0.885754, 6.966818, 0.356858, 0.319306, 0.086197, 0.21867, 0.311, 0.148, 0.067, 0.051, 0.039, 0.052, 0.118, 0.033, 0.069, 0.052, 0.02, 0.041, 0.313, 0.277, 0.125, 0.098, 0.186, 0.989762, 0.001905, 0.005902, 0.001653, 0.505086, 0.488081, 0.001719, 0.002398, 0.936304, 0.048355, 0.009362, 0.005979, 28.3, 0.10246, 0.2704, 0.536, 0.616692, 47.969647, 9.451769, 3.477175, 39.10141], [\"S14000008\", 0.1981, 0.0964, 0.3795, 0.3221, 3839.180208, 24.699283, 4105, 0.064851, 43.290272, 0.035556, -0.001439, 530, 154601.4, 0.471122, 5.60963, 0.327298, 0.269272, 0.142065, 0.228081, 0.191, 0.152, 0.09, 0.054, 0.06, 0.035, 0.16, 0.038, 0.075, 0.041, 0.036, 0.067, 0.292, 0.234, 0.137, 0.088, 0.25, 0.986724, 0.002778, 0.00659, 0.002746, 0.451982, 0.538766, 0.002419, 0.003897, 0.949495, 0.029351, 0.014575, 0.00658, 27.8, 0.09486, 0.2748, 0.433, 0.716796, 53.875532, 8.62948, 4.739626, 32.755361], [\"S14000009\", 0.2046, 0.0978, 0.378, 0.3174, 8627.323935, 7.018862, 3220, 0.156194, 53.175678, 0.044991, -0.002358, 560, 157947.2, 0.582176, 5.424012, 0.383442, 0.266581, 0.086396, 0.233115, 0.236, 0.138, 0.055, 0.07, 0.063, 0.044, 0.136, 0.042, 0.075, 0.05, 0.038, 0.054, 0.298, 0.257, 0.138, 0.096, 0.211, 0.991981, 0.002041, 0.004596, 0.000852, 0.461521, 0.529351, 0.001527, 0.003085, 0.963313, 0.020939, 0.01096, 0.004789, 26.2, 0.15458, 0.3194, 0.513, 0.660067, 22.620627, 12.404129, 35.794958, 29.180285], [\"S14000010\", 0.2122, 0.1089, 0.3863, 0.2967, 232.404334, 375.763216, 2270, 0.176166, 25.993656, 0.056073, -0.003258, 580, 133933.7, 0.285095, 4.440773, 0.298095, 0.362466, 0.09104, 0.236026, 0.199, 0.167, 0.015, 0.064, 0.072, 0.057, 0.173, 0.04, 0.071, 0.037, 0.048, 0.059, 0.296, 0.238, 0.138, 0.112, 0.215, 0.986989, 0.002055, 0.008754, 0.001272, 0.412641, 0.578401, 0.002032, 0.004893, 0.973353, 0.012273, 0.008629, 0.005745, 46.3, 0.01856, 0.1897, 0.416, 0.654531, 34.386852, 26.087342, 2.328831, 37.196975], [\"S14000011\", 0.2391, 0.1213, 0.4185, 0.2291, 83.446725, 1136.090129, 2270, 0.388379, 23.94439, 0.047604, -0.015094, 570, 103919.4, 0.508762, 3.506053, 0.209199, 0.409646, 0.066717, 0.305932, 0.22, 0.168, 0.004, 0.047, 0.07, 0.067, 0.137, 0.053, 0.069, 0.033, 0.079, 0.053, 0.339, 0.253, 0.135, 0.103, 0.17, 0.980802, 0.002406, 0.014585, 0.001492, 0.268229, 0.718762, 0.008333, 0.003342, 0.97352, 0.013965, 0.00559, 0.006925, 62.5, 0.01091, 0.1885, 0.388, 0.633712, 16.24778, 42.613233, 2.047069, 39.091918], [\"S14000012\", 0.2388, 0.122, 0.4022, 0.2465, 190.590008, 461.036761, 2065, 0.349673, 23.500893, 0.044685, -0.009581, 580, 103919.4, 0.508762, 3.445604, 0.252623, 0.426704, 0.086207, 0.225187, 0.203, 0.163, 0.005, 0.048, 0.087, 0.06, 0.143, 0.046, 0.077, 0.035, 0.076, 0.055, 0.272, 0.262, 0.154, 0.113, 0.198, 0.979474, 0.002253, 0.015021, 0.002402, 0.372742, 0.612226, 0.008574, 0.004356, 0.971096, 0.012803, 0.008574, 0.007528, 58.3, 0.00991, 0.1901, 0.37, 0.659359, 18.273903, 33.896836, 2.824356, 43.624666], [\"S14000013\", 0.2046, 0.1031, 0.3744, 0.3249, 3995.716422, 23.877821, 3925, 0.03836, 41.138677, 0.043889, 0.000954, 490, 125170.9, 0.308731, 4.912514, 0.372947, 0.263148, 0.134562, 0.198651, 0.172, 0.16, 0.085, 0.07, 0.062, 0.053, 0.172, 0.035, 0.075, 0.032, 0.026, 0.058, 0.323, 0.244, 0.134, 0.079, 0.22, 0.987276, 0.002895, 0.007407, 0.001432, 0.430602, 0.558992, 0.002977, 0.004255, 0.96389, 0.020337, 0.009499, 0.006274, 27.1, 0.07577, 0.2818, 0.451, 0.695955, 43.303165, 20.882188, 2.405085, 32.366906], [\"S14000014\", 0.1962, 0.0903, 0.385, 0.3238, 4292.789713, 20.11396, 3975, 0.115007, 46.03625, 0.030261, -0.003933, 510, 125170.9, 0.308731, 4.719867, 0.360425, 0.291557, 0.12546, 0.192251, 0.202, 0.145, 0.08, 0.065, 0.059, 0.047, 0.149, 0.032, 0.077, 0.044, 0.042, 0.057, 0.309, 0.234, 0.133, 0.076, 0.248, 0.989678, 0.002514, 0.005827, 0.001355, 0.4344, 0.555683, 0.002143, 0.004727, 0.962697, 0.019799, 0.011736, 0.005769, 27.1, 0.09869, 0.2684, 0.446, 0.724436, 49.377093, 16.546851, 3.980475, 30.09558], [\"S14000015\", 0.238, 0.1328, 0.3843, 0.2696, 152.929676, 588.3227, 2015, 0.291667, 22.395856, 0.044523, -0.009291, 570, 118357.8, 0.709348, 3.993179, 0.296622, 0.331772, 0.128748, 0.228576, 0.172, 0.166, 0.009, 0.057, 0.085, 0.037, 0.176, 0.033, 0.106, 0.041, 0.058, 0.059, 0.253, 0.24, 0.137, 0.106, 0.264, 0.964768, 0.003511, 0.024598, 0.004079, 0.462132, 0.512589, 0.017156, 0.005067, 0.941954, 0.026211, 0.015815, 0.01602, 64.1, 0.01243, 0.1312, 0.384, 0.652732, 27.362095, 26.03429, 3.762113, 42.841502], [\"S14000016\", 0.3151, 0.2087, 0.3645, 0.2216, 118.484861, 750.661299, 2105, 0.196023, 23.667109, 0.074761, 0.003672, 540, 118357.8, 0.709348, 4.215023, 0.217996, 0.251869, 0.209339, 0.30703, 0.156, 0.171, 0.007, 0.072, 0.066, 0.035, 0.197, 0.036, 0.102, 0.037, 0.056, 0.064, 0.263, 0.216, 0.17, 0.099, 0.253, 0.930032, 0.005133, 0.045043, 0.012754, 0.469269, 0.488311, 0.028265, 0.010894, 0.895367, 0.045144, 0.027626, 0.031863, 64.4, 0.00722, 0.1168, 0.407, 0.61899, 16.177573, 33.05065, 3.074178, 46.655635], [\"S14000017\", 0.2204, 0.1104, 0.421, 0.2438, 228.662007, 444.297684, 2565, 0.325581, 25.247554, 0.042433, -0.008843, 580, 130071.1, 0.500303, 4.312704, 0.280282, 0.415562, 0.09798, 0.193477, 0.191, 0.139, 0.008, 0.051, 0.078, 0.045, 0.134, 0.048, 0.074, 0.047, 0.133, 0.053, 0.243, 0.248, 0.145, 0.117, 0.247, 0.979638, 0.002665, 0.013395, 0.003194, 0.540105, 0.445707, 0.007038, 0.00418, 0.956234, 0.021583, 0.012785, 0.009398, 31.5, 0.00975, 0.259, 0.394, 0.675058, 24.687316, 33.869829, 5.918447, 35.524407], [\"S14000018\", 0.2143, 0.1021, 0.3775, 0.3024, 85.18385, 986.677635, 2430, 0.227273, 28.911706, 0.016946, -0.011722, 720, 212117.6, 0.436704, 5.665534, 0.437583, 0.419233, 0.055821, 0.076809, 0.148, 0.134, 0.003, 0.041, 0.073, 0.041, 0.158, 0.03, 0.131, 0.071, 0.103, 0.065, 0.179, 0.178, 0.164, 0.096, 0.383, 0.950094, 0.00453, 0.039408, 0.00246, 0.341972, 0.623613, 0.012032, 0.020678, 0.952104, 0.013944, 0.015113, 0.018839, 68.3, 0.0045, 0.1307, 0.269, 0.782338, 14.600104, 14.538329, 40.584159, 30.277408], [\"S14000019\", 0.2263, 0.1158, 0.4103, 0.2572, 408.396198, 252.044462, 2840, 0.224138, 27.590495, 0.032461, -0.014349, 580, 125997.3, 0.462969, 4.177629, 0.284648, 0.443139, 0.086408, 0.176593, 0.205, 0.166, 0.01, 0.045, 0.098, 0.05, 0.139, 0.043, 0.076, 0.042, 0.072, 0.056, 0.252, 0.246, 0.162, 0.114, 0.225, 0.977398, 0.002916, 0.015416, 0.002717, 0.411199, 0.57449, 0.006479, 0.005882, 0.9665, 0.01259, 0.011376, 0.009535, 61.3, 0.02191, 0.1928, 0.369, 0.673566, 25.329932, 31.712321, 2.938893, 38.858083], [\"S14000020\", 0.2193, 0.1088, 0.4016, 0.2651, 679.242189, 155.747098, 3235, 0.286282, 30.57945, 0.033292, -0.003785, 660, 215915.6, 0.579916, 6.291246, 0.28957, 0.359399, 0.094954, 0.237059, 0.165, 0.141, 0.023, 0.053, 0.074, 0.043, 0.152, 0.037, 0.08, 0.062, 0.095, 0.075, 0.251, 0.25, 0.143, 0.086, 0.27, 0.982892, 0.00364, 0.009577, 0.002868, 0.47359, 0.514717, 0.005094, 0.004031, 0.94706, 0.028631, 0.016136, 0.008163, 27.2, 0.04115, 0.2043, 0.354, 0.707205, 29.6002, 36.075021, 3.110348, 30.557643], [\"S14000021\", 0.2306, 0.103, 0.3847, 0.2619, 174.254074, 546.156529, 2670, 0.292978, 28.055059, 0.022296, -0.009466, 790, 215093.8, 0.526592, 5.235974, 0.384365, 0.433123, 0.055527, 0.116051, 0.145, 0.156, 0.005, 0.048, 0.076, 0.04, 0.152, 0.034, 0.117, 0.071, 0.093, 0.064, 0.192, 0.184, 0.172, 0.099, 0.352, 0.940789, 0.004262, 0.050467, 0.001855, 0.32877, 0.597721, 0.033144, 0.038477, 0.952105, 0.01432, 0.01231, 0.021264, 60.3, 0.00807, 0.1623, 0.257, 0.767908, 40.001489, 26.696193, 2.069299, 31.233019], [\"S14000022\", 0.3503, 0.2569, 0.3895, 0.1738, 25.818944, 4151.292878, 3375, 0.278409, 31.488496, 0.030887, -0.02276, 590, 245914.1, 0.510433, 8.015453, 0.221298, 0.284539, 0.254942, 0.21963, 0.092, 0.13, 0.003, 0.104, 0.068, 0.042, 0.143, 0.046, 0.101, 0.072, 0.121, 0.078, 0.198, 0.191, 0.185, 0.074, 0.352, 0.902711, 0.010208, 0.068227, 0.011331, 0.534916, 0.407862, 0.032325, 0.019619, 0.809671, 0.093722, 0.047632, 0.048975, 58.9, 0.02718, 0.1414, 0.276, 0.661998, 18.567194, 34.657537, 4.248328, 42.52694], [\"S14000023\", 0.2568, 0.1851, 0.4767, 0.1723, 20.076667, 5652.432197, 7130, 0.31793, 62.829347, 0.026109, -0.019065, 610, 245914.1, 0.510433, 7.752652, 0.221071, 0.302119, 0.297536, 0.161986, 0.086, 0.106, 0.004, 0.095, 0.061, 0.028, 0.132, 0.047, 0.093, 0.106, 0.163, 0.079, 0.145, 0.158, 0.123, 0.079, 0.495, 0.913583, 0.011085, 0.055423, 0.013317, 0.543788, 0.405084, 0.024995, 0.021472, 0.807427, 0.098773, 0.052664, 0.041127, 59.8, 0.00447, 0.106, 0.218, 0.712494, 27.20505, 31.153629, 4.560405, 34.02709], [\"S14000024\", 0.2899, 0.1918, 0.3805, 0.2276, 28.683002, 3183.697423, 2425, 0.34349, 26.555553, 0.016526, -0.017406, 720, 245914.1, 0.510433, 6.568219, 0.33152, 0.331119, 0.200134, 0.120911, 0.088, 0.106, 0.003, 0.07, 0.061, 0.03, 0.159, 0.034, 0.142, 0.099, 0.135, 0.072, 0.147, 0.155, 0.165, 0.064, 0.469, 0.91249, 0.009364, 0.06145, 0.007925, 0.526037, 0.428363, 0.027743, 0.014771, 0.847443, 0.063759, 0.046494, 0.042305, 66.2, 0.00364, 0.0899, 0.222, 0.742227, 19.707358, 54.910117, 2.901338, 22.481187], [\"S14000025\", 0.3028, 0.2048, 0.4032, 0.1954, 90.26859, 1174.794017, 3260, 0.567308, 30.741086, 0.026253, -0.021304, 570, 245914.1, 0.510433, 8.296697, 0.255292, 0.316328, 0.2146, 0.197603, 0.095, 0.125, 0.003, 0.076, 0.074, 0.042, 0.133, 0.048, 0.105, 0.076, 0.155, 0.067, 0.177, 0.205, 0.153, 0.079, 0.386, 0.910174, 0.006893, 0.054658, 0.017121, 0.5091, 0.439427, 0.028407, 0.019479, 0.841811, 0.071043, 0.044278, 0.042857, 68.3, 0.00263, 0.0972, 0.279, 0.694934, 33.363029, 26.752379, 4.300466, 35.584126], [\"S14000026\", 0.2201, 0.1228, 0.4224, 0.2387, 98.497143, 1020.039736, 3000, 0.5, 29.859362, 0.019842, -0.014226, 610, 245914.1, 0.510433, 7.752652, 0.356203, 0.370261, 0.119703, 0.13985, 0.119, 0.122, 0.004, 0.059, 0.077, 0.048, 0.132, 0.042, 0.088, 0.074, 0.171, 0.065, 0.193, 0.22, 0.145, 0.081, 0.362, 0.949236, 0.004972, 0.03518, 0.007012, 0.477533, 0.492169, 0.016598, 0.01098, 0.910711, 0.039717, 0.026095, 0.023476, 63.5, 0.00861, 0.1576, 0.288, 0.739385, 21.894119, 14.918079, 34.298703, 28.639076], [\"S14000027\", 0.189, 0.0862, 0.3896, 0.3264, 3097.150963, 8.6628, 1185, 0.161765, 44.166977, 0.026948, -0.006781, 520, 94595.87, 0.362149, 3.498368, 0.46867, 0.260576, 0.068225, 0.175891, 0.198, 0.115, 0.048, 0.062, 0.078, 0.075, 0.179, 0.03, 0.099, 0.036, 0.033, 0.048, 0.3, 0.206, 0.137, 0.093, 0.264, 0.99115, 0.00242, 0.005129, 0.00065, 0.252601, 0.738766, 0.002203, 0.002926, 0.971789, 0.013257, 0.009897, 0.005057, 29.4, 0.15272, 0.2977, 0.448, 0.697291, 16.473208, 33.783237, 1.687137, 40.579026], [\"S14000028\", 0.2234, 0.115, 0.42, 0.2502, 174.66412, 640.429185, 2690, 0.265882, 24.047917, 0.039773, -0.008967, 550, 118872.7, 0.667183, 4.156387, 0.253906, 0.398038, 0.077671, 0.258548, 0.224, 0.166, 0.01, 0.046, 0.085, 0.051, 0.145, 0.048, 0.067, 0.034, 0.074, 0.05, 0.264, 0.273, 0.145, 0.106, 0.212, 0.97912, 0.002249, 0.014914, 0.002138, 0.445964, 0.538039, 0.010133, 0.003598, 0.96493, 0.016723, 0.009279, 0.009068, 66.3, 0.00882, 0.1727, 0.421, 0.654998, 26.181494, 29.788697, 2.081436, 38.937724], [\"S14000029\", 0.3939, 0.3016, 0.3916, 0.1214, 20.279723, 5101.697008, 8220, 0.354201, 79.450228, 0.064525, -0.020182, 600, 127136.9, 0.321834, 4.074902, 0.115179, 0.221122, 0.310268, 0.332356, 0.107, 0.152, 0.003, 0.117, 0.05, 0.041, 0.127, 0.054, 0.084, 0.069, 0.121, 0.075, 0.247, 0.152, 0.158, 0.097, 0.346, 0.758495, 0.007594, 0.187876, 0.032469, 0.399147, 0.428745, 0.129009, 0.039285, 0.75386, 0.070855, 0.056324, 0.118961, 37.2, 0.00634, 0.1489, 0.288, 0.560998, 13.933971, 38.430969, 2.904068, 44.730992], [\"S14000030\", 0.2486, 0.1482, 0.4181, 0.2094, 38.724558, 2441.525582, 1915, 0.37276, 20.254477, 0.071299, -0.026632, 510, 127136.9, 0.321834, 4.794002, 0.176049, 0.285827, 0.091111, 0.432617, 0.203, 0.174, 0.004, 0.062, 0.059, 0.065, 0.147, 0.061, 0.068, 0.03, 0.067, 0.063, 0.422, 0.247, 0.117, 0.086, 0.127, 0.96396, 0.00167, 0.020411, 0.011842, 0.325851, 0.65582, 0.011144, 0.005641, 0.94634, 0.027871, 0.014187, 0.011602, 46.7, 0.00725, 0.2196, 0.438, 0.546813, 18.84643, 38.569375, 1.567771, 38.776752], [\"S14000031\", 0.37, 0.2859, 0.3891, 0.1608, 16.870706, 4652.324495, 2130, 0.260355, 27.137906, 0.048667, -0.019281, 590, 127136.9, 0.321834, 4.143968, 0.175418, 0.263367, 0.253661, 0.289495, 0.092, 0.123, 0.002, 0.095, 0.052, 0.033, 0.167, 0.04, 0.132, 0.079, 0.104, 0.079, 0.196, 0.135, 0.186, 0.078, 0.406, 0.865905, 0.009534, 0.092803, 0.02267, 0.480401, 0.443953, 0.047783, 0.023787, 0.833422, 0.057848, 0.049989, 0.058741, 55.3, 0.00477, 0.1459, 0.216, 0.622591, 14.743226, 34.466585, 3.444567, 37.633316], [\"S14000032\", 0.2723, 0.1772, 0.423, 0.1941, 27.746111, 3123.140435, 1540, 0.412844, 17.771623, 0.080529, -0.031665, 500, 127136.9, 0.321834, 4.889882, 0.139626, 0.232749, 0.121821, 0.49012, 0.147, 0.164, 0.003, 0.084, 0.055, 0.062, 0.171, 0.067, 0.072, 0.036, 0.072, 0.068, 0.425, 0.217, 0.106, 0.084, 0.167, 0.892154, 0.002854, 0.054243, 0.043772, 0.346484, 0.603443, 0.034477, 0.013465, 0.88972, 0.030878, 0.046754, 0.032648, 51.6, 0.003, 0.1835, 0.407, 0.531144, 12.922109, 42.917388, 2.004721, 42.155783], [\"S14000033\", 0.2538, 0.158, 0.4379, 0.2001, 18.072349, 4867.325297, 1625, 0.371308, 18.473466, 0.06046, -0.026222, 570, 127136.9, 0.321834, 4.289371, 0.188016, 0.293475, 0.134921, 0.369352, 0.134, 0.128, 0.002, 0.064, 0.061, 0.045, 0.194, 0.049, 0.109, 0.06, 0.089, 0.067, 0.301, 0.194, 0.123, 0.09, 0.292, 0.916665, 0.004751, 0.049102, 0.02387, 0.410633, 0.541639, 0.031299, 0.013763, 0.901842, 0.032556, 0.036981, 0.028621, 49.9, 0.00066, 0.1911, 0.315, 0.610493, 18.02595, 35.905159, 3.570693, 42.498198], [\"S14000034\", 0.2341, 0.1433, 0.4464, 0.2161, 26.715723, 3317.297442, 1920, 0.301695, 21.66456, 0.047868, -0.021056, 630, 127136.9, 0.321834, 3.880859, 0.227695, 0.349847, 0.160168, 0.25022, 0.136, 0.144, 0.003, 0.059, 0.066, 0.046, 0.16, 0.045, 0.104, 0.064, 0.105, 0.069, 0.27, 0.189, 0.13, 0.097, 0.314, 0.887652, 0.00494, 0.089423, 0.014285, 0.369223, 0.538383, 0.073123, 0.016312, 0.905773, 0.03227, 0.023665, 0.038292, 53.0, 0.00246, 0.1612, 0.282, 0.645676, 19.093154, 36.554433, 3.248036, 41.104377], [\"S14000035\", 0.2544, 0.1456, 0.4204, 0.2026, 26.306985, 3336.908408, 1590, 0.432432, 18.11264, 0.070957, -0.022628, 490, 127136.9, 0.321834, 4.989676, 0.17597, 0.31594, 0.097083, 0.39844, 0.164, 0.179, 0.002, 0.067, 0.06, 0.056, 0.182, 0.057, 0.067, 0.033, 0.069, 0.064, 0.376, 0.246, 0.12, 0.095, 0.162, 0.908346, 0.003227, 0.065933, 0.018648, 0.349433, 0.588433, 0.046595, 0.01373, 0.913621, 0.031365, 0.023649, 0.031365, 35.7, 0.00374, 0.251, 0.409, 0.562684, 15.614224, 40.494092, 1.868393, 40.663689], [\"S14000036\", 0.2246, 0.1126, 0.3918, 0.2671, 177.232074, 496.134802, 1765, 0.176667, 20.072557, 0.064971, -0.009036, 540, 130071.1, 0.500303, 4.632163, 0.259916, 0.344525, 0.093073, 0.29142, 0.257, 0.16, 0.021, 0.049, 0.077, 0.042, 0.158, 0.04, 0.064, 0.028, 0.042, 0.061, 0.319, 0.273, 0.128, 0.122, 0.158, 0.982164, 0.002038, 0.012999, 0.001982, 0.567553, 0.417869, 0.008352, 0.003045, 0.965135, 0.018328, 0.008588, 0.007938, 61.1, 0.01603, 0.161, 0.476, 0.609238, 19.495532, 34.713731, 2.990173, 42.800564], [\"S14000037\", 0.2053, 0.1021, 0.4218, 0.2564, 1516.975896, 68.498122, 5025, 0.117909, 48.359157, 0.016644, 0.004912, 690, 192005.5, 0.885754, 5.351324, 0.34421, 0.424702, 0.082796, 0.128908, 0.257, 0.151, 0.028, 0.045, 0.047, 0.058, 0.114, 0.039, 0.084, 0.093, 0.034, 0.047, 0.21, 0.258, 0.147, 0.103, 0.282, 0.97508, 0.003825, 0.013256, 0.005657, 0.519624, 0.467761, 0.005877, 0.004285, 0.945164, 0.024109, 0.019193, 0.011534, 27.3, 0.09173, 0.2791, 0.443, 0.684316, 40.720872, 11.80963, 11.604731, 35.864767], [\"S14000038\", 0.2228, 0.1173, 0.402, 0.2772, 161.938816, 482.589672, 1640, 0.175627, 20.985285, 0.064378, 0.000538, 540, 97733.43, 0.151156, 3.480535, 0.263824, 0.350083, 0.105305, 0.269621, 0.169, 0.145, 0.006, 0.047, 0.066, 0.056, 0.188, 0.049, 0.077, 0.035, 0.102, 0.06, 0.326, 0.23, 0.132, 0.115, 0.197, 0.98639, 0.002197, 0.00918, 0.001632, 0.251825, 0.740603, 0.002418, 0.003412, 0.974192, 0.011082, 0.008627, 0.006087, 65.4, 0.00607, 0.1215, 0.362, 0.665217, 21.484665, 37.515668, 2.501727, 38.497941], [\"S14000039\", 0.2181, 0.1102, 0.4129, 0.2631, 4928.711003, 21.426495, 3935, 0.150585, 37.261493, 0.024932, -0.004389, 580, 157947.2, 0.582176, 5.236977, 0.322618, 0.338075, 0.144339, 0.167481, 0.162, 0.164, 0.026, 0.091, 0.074, 0.052, 0.169, 0.041, 0.07, 0.043, 0.041, 0.066, 0.233, 0.244, 0.146, 0.096, 0.281, 0.981008, 0.003551, 0.011488, 0.002609, 0.469324, 0.517854, 0.004336, 0.004513, 0.928573, 0.044155, 0.017109, 0.010163, 28.8, 0.06088, 0.2691, 0.401, 0.687991, 30.525937, 16.196663, 12.266813, 39.851518], [\"S14000040\", 0.2231, 0.1172, 0.4038, 0.2637, 701.814868, 138.066325, 2560, 0.177011, 26.419807, 0.062636, -0.006452, 640, 93977.9, 0.359716, 2.823855, 0.260684, 0.365596, 0.087114, 0.275641, 0.224, 0.158, 0.021, 0.048, 0.071, 0.046, 0.173, 0.049, 0.068, 0.037, 0.05, 0.053, 0.327, 0.24, 0.138, 0.103, 0.192, 0.987212, 0.002303, 0.008222, 0.001343, 0.441958, 0.548394, 0.003409, 0.003419, 0.975271, 0.010805, 0.008728, 0.005185, 40.0, 0.02434, 0.2312, 0.395, 0.635373, 26.670107, 28.85678, 2.137221, 42.335892], [\"S14000041\", 0.2187, 0.1104, 0.3961, 0.2687, 148.630417, 666.519022, 2770, 0.485255, 27.961439, 0.065356, -0.001039, 550, 130071.1, 0.500303, 4.547942, 0.278336, 0.33798, 0.100129, 0.271062, 0.214, 0.156, 0.009, 0.048, 0.072, 0.045, 0.161, 0.043, 0.073, 0.037, 0.084, 0.059, 0.297, 0.246, 0.13, 0.114, 0.214, 0.977073, 0.002816, 0.014852, 0.003589, 0.547819, 0.436772, 0.008014, 0.004167, 0.949216, 0.029435, 0.011541, 0.009808, 48.6, 0.00317, 0.115, 0.433, 0.635992, 23.297902, 36.83675, 2.42028, 36.276059], [\"S14000042\", 0.2154, 0.1112, 0.4042, 0.2763, 363.440563, 269.749747, 3280, 0.208103, 33.456415, 0.047279, -0.00869, 610, 125997.3, 0.462969, 3.972172, 0.294968, 0.376169, 0.083436, 0.23222, 0.206, 0.157, 0.013, 0.043, 0.076, 0.057, 0.155, 0.041, 0.077, 0.046, 0.07, 0.057, 0.3, 0.222, 0.142, 0.1, 0.236, 0.982023, 0.00201, 0.012798, 0.001897, 0.352117, 0.636049, 0.005968, 0.004102, 0.970322, 0.013547, 0.008358, 0.007773, 49.0, 0.02289, 0.1665, 0.36, 0.653538, 32.054686, 31.868437, 2.405389, 32.581732], [\"S14000043\", 0.2238, 0.1113, 0.4228, 0.2314, 280.049357, 425.821366, 2960, 0.243697, 24.821595, 0.038367, -0.016325, 570, 118872.7, 0.667183, 4.010549, 0.249301, 0.380227, 0.081536, 0.277037, 0.223, 0.165, 0.012, 0.042, 0.079, 0.056, 0.117, 0.048, 0.065, 0.042, 0.098, 0.052, 0.273, 0.274, 0.136, 0.102, 0.215, 0.985036, 0.002262, 0.009539, 0.0022, 0.455987, 0.532595, 0.006101, 0.002699, 0.957069, 0.026471, 0.010608, 0.005852, 48.7, 0.01399, 0.2027, 0.42, 0.651916, 29.077976, 31.142368, 3.433522, 36.346133], [\"S14000044\", 0.2424, 0.1202, 0.4229, 0.2175, 271.434625, 410.297692, 2785, 0.313679, 25.006959, 0.035574, -0.016845, 580, 153303.3, 0.600087, 5.083001, 0.216369, 0.413143, 0.09725, 0.262159, 0.202, 0.176, 0.008, 0.044, 0.072, 0.062, 0.119, 0.054, 0.06, 0.038, 0.118, 0.047, 0.265, 0.293, 0.142, 0.1, 0.199, 0.970277, 0.003358, 0.021096, 0.003877, 0.475009, 0.504514, 0.012486, 0.005406, 0.938305, 0.036058, 0.013242, 0.012386, 52.0, 0.01138, 0.1832, 0.433, 0.647584, 24.376726, 32.678792, 2.879726, 40.064756], [\"S14000045\", 0.2227, 0.1135, 0.4037, 0.2478, 355.280499, 257.092636, 2425, 0.303763, 26.549157, 0.031094, -0.013026, 550, 164898.1, 0.448199, 5.765669, 0.275402, 0.370519, 0.073703, 0.266367, 0.164, 0.154, 0.009, 0.047, 0.079, 0.052, 0.158, 0.044, 0.08, 0.05, 0.098, 0.065, 0.286, 0.273, 0.145, 0.085, 0.211, 0.982305, 0.002524, 0.010939, 0.003101, 0.514251, 0.474509, 0.006107, 0.002633, 0.959849, 0.020412, 0.012406, 0.007333, 28.2, 0.03371, 0.2666, 0.379, 0.663623, 25.447839, 36.352793, 3.801383, 34.397986], [\"S14000046\", 0.2215, 0.1106, 0.3963, 0.2801, 2237.832001, 42.684169, 3250, 0.13438, 34.024288, 0.030307, 0.001086, 560, 147536.9, 0.723417, 5.066514, 0.34871, 0.308122, 0.126204, 0.193525, 0.243, 0.148, 0.039, 0.06, 0.119, 0.042, 0.127, 0.032, 0.079, 0.035, 0.023, 0.052, 0.267, 0.263, 0.144, 0.099, 0.227, 0.988938, 0.002487, 0.00642, 0.001554, 0.488761, 0.499234, 0.00253, 0.002926, 0.948143, 0.033228, 0.011598, 0.007031, 28.0, 0.07651, 0.2731, 0.499, 0.674702, 47.551728, 10.940027, 2.264468, 38.81525], [\"S14000047\", 0.2385, 0.1227, 0.4204, 0.2265, 58.082038, 1617.367478, 1885, 0.375912, 20.066, 0.051848, -0.02486, 550, 103919.4, 0.508762, 3.633546, 0.194794, 0.349018, 0.069124, 0.376357, 0.21, 0.167, 0.004, 0.041, 0.079, 0.067, 0.157, 0.047, 0.069, 0.03, 0.073, 0.056, 0.332, 0.25, 0.139, 0.105, 0.175, 0.974924, 0.001913, 0.019739, 0.002641, 0.297112, 0.685344, 0.012848, 0.003163, 0.964032, 0.019163, 0.007576, 0.009228, 66.8, 0.00255, 0.1396, 0.377, 0.615466, 20.249964, 37.761771, 2.194342, 38.52025], [\"S14000048\", 0.2185, 0.1094, 0.3792, 0.3043, 817.127241, 114.602715, 2350, 0.175, 25.094773, 0.071465, -0.00595, 570, 101203.9, 0.39492, 3.414436, 0.310572, 0.328406, 0.093119, 0.256243, 0.217, 0.144, 0.014, 0.064, 0.065, 0.056, 0.165, 0.044, 0.081, 0.037, 0.053, 0.063, 0.301, 0.233, 0.137, 0.115, 0.214, 0.990473, 0.002586, 0.005381, 0.000995, 0.396001, 0.596723, 0.001183, 0.003277, 0.973774, 0.013003, 0.00936, 0.003853, 27.1, 0.01903, 0.2257, 0.424, 0.649325, 31.239854, 27.491409, 2.369658, 38.899079], [\"S14000049\", 0.2758, 0.1689, 0.3477, 0.2942, 770.65721, 108.115513, 2685, 0.10041, 32.225156, 0.026394, -0.001033, 570, 130071.1, 0.500303, 4.388365, 0.370225, 0.291852, 0.164212, 0.150065, 0.148, 0.123, 0.031, 0.082, 0.087, 0.03, 0.141, 0.029, 0.162, 0.049, 0.038, 0.079, 0.192, 0.197, 0.176, 0.095, 0.339, 0.964891, 0.006699, 0.022703, 0.003561, 0.460164, 0.522666, 0.004665, 0.008771, 0.897849, 0.041349, 0.038546, 0.022256, 31.8, 0.04345, 0.1997, 0.363, 0.713095, 24.121276, 9.626512, 32.855913, 32.860695], [\"S14000050\", 0.2193, 0.1017, 0.3947, 0.2845, 1712.043754, 61.119349, 3560, 0.141026, 34.021732, 0.034705, -0.007985, 580, 179242.4, 0.556276, 5.943051, 0.322383, 0.344, 0.101982, 0.208292, 0.207, 0.152, 0.031, 0.072, 0.07, 0.039, 0.135, 0.04, 0.093, 0.042, 0.059, 0.06, 0.246, 0.235, 0.144, 0.099, 0.277, 0.985175, 0.002905, 0.009134, 0.00207, 0.464618, 0.525909, 0.004268, 0.002696, 0.951077, 0.025979, 0.015323, 0.007622, 28.7, 0.0582, 0.2366, 0.395, 0.706619, 41.48021, 20.024738, 3.215921, 35.279132], [\"S14000051\", 0.2127, 0.1053, 0.3972, 0.2855, 2482.548644, 18.199039, 3010, 0.135849, 66.622399, 0.016609, 0.001679, 600, 172370.9, 1.573581, 5.524708, 0.407573, 0.263024, 0.09906, 0.188107, 0.196, 0.125, 0.081, 0.059, 0.06, 0.097, 0.154, 0.029, 0.09, 0.04, 0.019, 0.05, 0.259, 0.244, 0.145, 0.085, 0.266, 0.988543, 0.002493, 0.007256, 0.001078, 0.511704, 0.475806, 0.002606, 0.003437, 0.958127, 0.024126, 0.011052, 0.006694, 24.6, 0.22233, 0.3977, 0.403, 0.68259, 8.695279, 11.444774, 48.597328, 28.994286], [\"S14000052\", 0.2292, 0.1187, 0.4078, 0.2516, 123.353614, 750.079363, 2575, 0.206089, 27.830316, 0.03395, -0.014729, 730, 121825.7, 0.448674, 3.209318, 0.284715, 0.41933, 0.082513, 0.20388, 0.189, 0.156, 0.004, 0.052, 0.074, 0.063, 0.156, 0.047, 0.083, 0.045, 0.073, 0.058, 0.27, 0.23, 0.149, 0.115, 0.236, 0.971666, 0.002474, 0.02055, 0.003739, 0.381061, 0.60101, 0.008123, 0.008078, 0.962233, 0.015251, 0.01106, 0.011456, 57.8, 0.01016, 0.1993, 0.355, 0.692004, 27.549072, 31.839537, 3.166363, 37.445028], [\"S14000053\", 0.2359, 0.134, 0.4149, 0.2498, 138.112167, 617.360525, 2070, 0.239521, 24.277253, 0.05477, -0.01247, 550, 121825.7, 0.448674, 4.25964, 0.224245, 0.365628, 0.116152, 0.285147, 0.185, 0.153, 0.004, 0.049, 0.074, 0.068, 0.169, 0.046, 0.084, 0.041, 0.068, 0.059, 0.292, 0.232, 0.141, 0.109, 0.225, 0.97369, 0.002523, 0.014944, 0.006852, 0.409621, 0.575887, 0.006876, 0.00522, 0.952403, 0.023567, 0.014052, 0.009978, 61.1, 0.00813, 0.1339, 0.348, 0.68093, 19.471615, 34.57758, 3.181339, 40.669352], [\"S14000054\", 0.208, 0.1123, 0.3938, 0.298, 3830.609046, 25.596713, 3725, 0.135671, 37.990434, 0.029097, -0.001449, 540, 179242.4, 0.556276, 6.383277, 0.32043, 0.299101, 0.157016, 0.194545, 0.186, 0.165, 0.037, 0.084, 0.06, 0.041, 0.148, 0.039, 0.073, 0.041, 0.054, 0.069, 0.248, 0.232, 0.135, 0.098, 0.287, 0.976637, 0.003146, 0.015063, 0.0029, 0.450958, 0.533528, 0.00662, 0.00582, 0.924582, 0.044953, 0.017369, 0.013096, 47.9, 0.0668, 0.204, 0.399, 0.719378, 42.276565, 10.381368, 5.024745, 42.317322], [\"S14000055\", 0.2007, 0.0918, 0.393, 0.3115, 12605.900858, 5.503851, 3805, 0.122419, 54.842104, 0.022126, -0.000596, 560, 157947.2, 0.582176, 5.424012, 0.393121, 0.290758, 0.099511, 0.180451, 0.189, 0.137, 0.06, 0.11, 0.057, 0.053, 0.139, 0.036, 0.085, 0.042, 0.027, 0.064, 0.249, 0.236, 0.147, 0.084, 0.285, 0.989465, 0.002575, 0.006018, 0.001295, 0.419645, 0.569879, 0.002266, 0.00409, 0.948313, 0.02997, 0.014978, 0.006739, 24.6, 0.18636, 0.3762, 0.435, 0.717831, 24.863473, 12.209393, 20.913299, 40.25589], [\"S14000056\", 0.223, 0.1158, 0.421, 0.2385, 51.386427, 2053.63569, 2285, 0.340176, 21.652816, 0.052526, -0.01285, 550, 125997.3, 0.462969, 4.405499, 0.233368, 0.416807, 0.074019, 0.266546, 0.203, 0.165, 0.003, 0.043, 0.079, 0.057, 0.138, 0.047, 0.075, 0.041, 0.086, 0.06, 0.314, 0.248, 0.137, 0.104, 0.197, 0.970486, 0.002506, 0.022123, 0.003826, 0.347545, 0.63442, 0.012043, 0.004419, 0.962144, 0.016306, 0.009673, 0.011877, 62.4, 0.00576, 0.175, 0.376, 0.635834, 19.541201, 37.547177, 4.242019, 37.026262], [\"S14000057\", 0.2712, 0.1528, 0.3815, 0.2502, 2253.411864, 41.860967, 3900, 0.153846, 41.344217, 0.032053, -0.008415, 650, 170742.2, 0.340674, 5.051546, 0.321461, 0.336954, 0.122212, 0.198823, 0.166, 0.149, 0.025, 0.083, 0.07, 0.034, 0.136, 0.042, 0.102, 0.052, 0.073, 0.067, 0.213, 0.204, 0.162, 0.087, 0.333, 0.968342, 0.003579, 0.022848, 0.002903, 0.449333, 0.534123, 0.006405, 0.007413, 0.929449, 0.030638, 0.020145, 0.019768, 28.3, 0.04652, 0.2508, 0.323, 0.744229, 37.059324, 22.0885, 3.40992, 36.759462], [\"S14000058\", 0.206, 0.0901, 0.4231, 0.2516, 3266.977613, 29.703601, 5415, 0.216854, 55.801156, 0.013497, 0.003598, 690, 192005.5, 0.885754, 5.351324, 0.348043, 0.400302, 0.105622, 0.119353, 0.246, 0.137, 0.034, 0.051, 0.044, 0.046, 0.12, 0.039, 0.089, 0.104, 0.035, 0.055, 0.181, 0.237, 0.144, 0.105, 0.333, 0.980155, 0.003686, 0.010828, 0.004024, 0.499956, 0.489336, 0.003478, 0.004503, 0.938295, 0.026856, 0.023345, 0.011504, 27.6, 0.12466, 0.2828, 0.392, 0.712971, 47.852785, 11.052785, 8.641162, 32.453269], [\"S14000059\", 0.2314, 0.1242, 0.4051, 0.253, 177.250305, 502.848219, 1790, 0.269504, 20.083025, 0.063596, -0.008607, 520, 105915.5, 0.530838, 3.916993, 0.212986, 0.335808, 0.065857, 0.372519, 0.184, 0.14, 0.004, 0.063, 0.1, 0.051, 0.171, 0.053, 0.078, 0.03, 0.065, 0.061, 0.328, 0.252, 0.144, 0.111, 0.165, 0.984414, 0.001962, 0.009314, 0.003208, 0.33912, 0.652083, 0.003792, 0.003285, 0.968959, 0.015377, 0.010097, 0.005567, 74.5, 0.00509, 0.1251, 0.38, 0.653368, 17.199374, 37.660776, 2.288864, 42.850986], [\"W07000041\", 0.2016, 0.1005, 0.3614, 0.3278, 714.50284, 97.915636, 2560, 0.09636, 36.591815, 0.036853, -0.020457, 540, 166000.0, 0.328, 5.911681, 0.406746, 0.278715, 0.141335, 0.146663, 0.205, 0.144, 0.031, 0.069, 0.09, 0.052, 0.15, 0.032, 0.112, 0.036, 0.026, 0.053, 0.242, 0.1845, 0.1725, 0.1295, 0.2715, 0.982352, 0.006882, 0.007039, 0.001161, 0.337644, 0.650887, 0.003584, 0.004201, 0.966008, 0.017964, 0.009462, 0.006566, 29.4, 0.0357, 0.2674, 0.509, 0.706846, 27.789226, 41.863141, 1.28188, 0.0], [\"W07000042\", 0.215, 0.1017, 0.381, 0.2965, 282.608749, 247.150876, 2485, 0.20339, 35.577763, 0.038684, -0.003377, 530, 158000.0, 0.373913, 5.732946, 0.37028, 0.360779, 0.09858, 0.155174, 0.283, 0.147, 0.012, 0.056, 0.062, 0.042, 0.117, 0.041, 0.096, 0.047, 0.046, 0.051, 0.245, 0.20325, 0.17725, 0.12525, 0.24825, 0.987514, 0.004771, 0.005786, 0.0009, 0.316995, 0.674262, 0.002657, 0.003571, 0.964472, 0.023, 0.0072, 0.005328, 30.0, 0.038, 0.2658, 0.544, 0.730024, 41.435385, 52.191892, 2.615556, 0.0], [\"W07000043\", 0.232, 0.118, 0.4024, 0.2465, 154.916683, 553.497521, 2870, 0.242424, 33.470949, 0.031184, -0.008363, 510, 160000.0, 0.333333, 6.033183, 0.334835, 0.391091, 0.111408, 0.148021, 0.287, 0.175, 0.007, 0.049, 0.053, 0.04, 0.105, 0.046, 0.078, 0.044, 0.069, 0.045, 0.226, 0.22225, 0.18925, 0.13825, 0.22425, 0.982171, 0.006266, 0.009648, 0.000958, 0.334198, 0.655706, 0.003588, 0.004254, 0.953191, 0.031537, 0.007672, 0.0076, 30.8, 0.01861, 0.2712, 0.581, 0.711663, 40.393208, 52.088919, 2.406166, 0.0], [\"W07000044\", 0.225, 0.1141, 0.397, 0.2588, 103.152956, 690.450404, 2255, 0.165375, 31.661565, 0.041983, -0.005413, 610, 156250.0, 0.25, 4.925914, 0.305393, 0.324373, 0.130887, 0.218692, 0.265, 0.156, 0.007, 0.05, 0.062, 0.042, 0.145, 0.046, 0.087, 0.041, 0.051, 0.047, 0.265, 0.18425, 0.17225, 0.12725, 0.25225, 0.956899, 0.009061, 0.026208, 0.005711, 0.337018, 0.641283, 0.009019, 0.010616, 0.913487, 0.05342, 0.011789, 0.021303, 31.1, 0.00723, 0.2569, 0.576, 0.704878, 43.659524, 48.880087, 2.464949, 0.0], [\"W07000045\", 0.2266, 0.111, 0.3784, 0.2785, 234.991675, 353.782746, 1995, 0.133523, 23.996824, 0.042764, -0.009002, 510, 122000.0, 0.419017, 4.600302, 0.377707, 0.312434, 0.120735, 0.170561, 0.204, 0.177, 0.011, 0.052, 0.096, 0.041, 0.16, 0.037, 0.101, 0.032, 0.037, 0.052, 0.282, 0.2005, 0.1765, 0.1205, 0.2215, 0.979457, 0.005526, 0.011939, 0.001317, 0.387888, 0.599385, 0.00384, 0.00517, 0.953843, 0.029737, 0.00704, 0.009379, 29.7, 0.02933, 0.2223, 0.567, 0.679712, 23.657726, 53.462892, 1.358386, 0.0], [\"W07000046\", 0.2157, 0.1016, 0.376, 0.3028, 298.089366, 266.711963, 2835, 0.386308, 35.658583, 0.027039, -0.004837, 560, 160000.0, 0.230769, 5.494505, 0.415934, 0.358559, 0.097791, 0.109266, 0.168, 0.154, 0.009, 0.052, 0.102, 0.032, 0.155, 0.037, 0.124, 0.049, 0.06, 0.058, 0.203, 0.17475, 0.17475, 0.12275, 0.32575, 0.97926, 0.006734, 0.009188, 0.001786, 0.366967, 0.619527, 0.004588, 0.005102, 0.965214, 0.015112, 0.011964, 0.00771, 45.8, 0.01479, 0.1698, 0.493, 0.734022, 42.693523, 49.866158, 2.042742, 0.0], [\"W07000047\", 0.3498, 0.241, 0.3309, 0.2281, 32.743999, 2547.886716, 2240, 0.108911, 26.849499, 0.059138, 0.003938, 620, 150000.0, 0.153846, 4.652605, 0.302292, 0.241046, 0.209909, 0.22552, 0.126, 0.162, 0.002, 0.093, 0.08, 0.036, 0.149, 0.039, 0.13, 0.046, 0.067, 0.069, 0.209, 0.14575, 0.14775, 0.20475, 0.29175, 0.893589, 0.012198, 0.05835, 0.014479, 0.431274, 0.503657, 0.045631, 0.013859, 0.880436, 0.034413, 0.043103, 0.042049, 66.5, 0.00124, 0.1336, 0.434, 0.656771, 31.328791, 59.755378, 3.403787, 0.0], [\"W07000048\", 0.265, 0.1488, 0.3867, 0.2261, 48.750803, 1713.489738, 1750, 0.178451, 20.949553, 0.058204, 0.00124, 520, 119000.0, 0.337079, 4.400888, 0.287306, 0.321053, 0.132466, 0.238061, 0.172, 0.194, 0.001, 0.058, 0.101, 0.052, 0.151, 0.045, 0.078, 0.03, 0.065, 0.052, 0.308, 0.21225, 0.17125, 0.11825, 0.19025, 0.948743, 0.008096, 0.029564, 0.008394, 0.443218, 0.529093, 0.017098, 0.006929, 0.940288, 0.023791, 0.015819, 0.020103, 66.6, 0.00253, 0.1594, 0.618, 0.60175, 25.993345, 63.446059, 1.777639, 0.0], [\"W07000049\", 0.2327, 0.1175, 0.3968, 0.2574, 177.317861, 387.1522, 1370, 0.083004, 19.956591, 0.04995, -0.003387, 540, 103750.0, 0.440972, 3.694801, 0.346389, 0.321957, 0.111029, 0.199132, 0.277, 0.151, 0.003, 0.052, 0.086, 0.042, 0.138, 0.043, 0.076, 0.03, 0.049, 0.053, 0.329, 0.211, 0.168, 0.116, 0.176, 0.975867, 0.007334, 0.012505, 0.002964, 0.418006, 0.568234, 0.005686, 0.004642, 0.971557, 0.012566, 0.006835, 0.009042, 64.8, 0.00473, 0.1536, 0.601, 0.667943, 17.737766, 68.119514, 1.800529, 0.0], [\"W07000050\", 0.4764, 0.3565, 0.2892, 0.1421, 16.797459, 5590.012054, 3115, 0.248497, 33.174296, 0.047206, -0.005855, 580, 185000.0, 0.233745, 6.133952, 0.234127, 0.261794, 0.363381, 0.123547, 0.106, 0.163, 0.001, 0.111, 0.068, 0.025, 0.128, 0.04, 0.123, 0.068, 0.092, 0.075, 0.138, 0.11475, 0.12475, 0.27375, 0.34975, 0.806974, 0.028764, 0.115645, 0.020546, 0.415758, 0.458676, 0.087506, 0.032623, 0.812048, 0.058095, 0.059185, 0.070672, 64.9, 0.00918, 0.1461, 0.32, 0.682212, 19.810736, 62.409889, 13.414423, 0.0], [\"W07000051\", 0.2627, 0.1404, 0.378, 0.2411, 42.655042, 2115.107523, 2520, 0.282443, 27.931722, 0.022551, -0.008445, 630, 237500.0, 0.392962, 7.249695, 0.360128, 0.388708, 0.134532, 0.099233, 0.133, 0.131, 0.001, 0.047, 0.101, 0.026, 0.174, 0.034, 0.132, 0.068, 0.093, 0.06, 0.168, 0.1495, 0.1515, 0.1475, 0.3835, 0.908766, 0.019747, 0.050832, 0.008398, 0.359194, 0.588124, 0.030086, 0.0191, 0.91469, 0.028282, 0.027203, 0.029814, 55.9, 0.00444, 0.1862, 0.391, 0.775353, 42.11103, 50.134558, 3.29476, 0.0], [\"W07000052\", 0.2467, 0.1353, 0.3765, 0.2604, 99.872801, 696.255631, 1185, 0.227979, 17.041287, 0.057294, -0.015454, 460, 67000.0, 0.410526, 2.801003, 0.402374, 0.299767, 0.158826, 0.122136, 0.282, 0.139, 0.002, 0.047, 0.077, 0.044, 0.169, 0.039, 0.09, 0.025, 0.035, 0.053, 0.378, 0.18875, 0.16775, 0.11475, 0.14975, 0.980726, 0.005232, 0.008523, 0.004499, 0.535601, 0.453073, 0.003794, 0.002918, 0.97949, 0.007546, 0.005979, 0.006985, 29.5, 0.00038, 0.2426, 0.604, 0.653205, 10.119626, 64.051494, 0.841025, 0.0], [\"W07000053\", 0.2384, 0.127, 0.3869, 0.2548, 117.600356, 707.013168, 1975, 0.189759, 23.753683, 0.049378, -0.009377, 540, 133000.0, 0.478599, 4.736467, 0.301042, 0.347747, 0.086834, 0.248701, 0.253, 0.16, 0.003, 0.046, 0.095, 0.042, 0.136, 0.041, 0.087, 0.031, 0.046, 0.06, 0.295, 0.207, 0.174, 0.122, 0.203, 0.980273, 0.00651, 0.010492, 0.001615, 0.442521, 0.545754, 0.002417, 0.005782, 0.97438, 0.011035, 0.005856, 0.008729, 42.3, 0.01063, 0.244, 0.608, 0.622439, 30.950584, 57.597127, 2.217076, 0.0], [\"W07000054\", 0.2008, 0.0937, 0.3755, 0.3279, 830.420885, 103.817235, 4205, 0.150479, 48.775113, 0.021646, -0.009157, 620, 230000.0, 0.393939, 7.133995, 0.414059, 0.320704, 0.11015, 0.136999, 0.183, 0.152, 0.03, 0.055, 0.077, 0.031, 0.138, 0.038, 0.107, 0.064, 0.061, 0.063, 0.21, 0.16725, 0.15925, 0.11425, 0.34825, 0.978873, 0.00707, 0.010557, 0.001994, 0.360264, 0.626288, 0.003081, 0.006139, 0.954845, 0.020649, 0.014188, 0.010319, 27.4, 0.07868, 0.3277, 0.481, 0.767197, 53.104516, 36.604737, 4.150078, 0.0], [\"W07000055\", 0.2492, 0.1319, 0.3961, 0.2225, 122.442984, 668.890917, 1960, 0.252396, 23.931332, 0.047474, -0.006887, 530, 144950.0, 0.260435, 5.259434, 0.309239, 0.354369, 0.134388, 0.183558, 0.207, 0.194, 0.004, 0.069, 0.067, 0.049, 0.124, 0.047, 0.075, 0.038, 0.074, 0.052, 0.28, 0.20475, 0.16875, 0.12875, 0.21675, 0.916551, 0.016138, 0.049581, 0.012466, 0.385675, 0.560789, 0.042276, 0.007998, 0.92799, 0.027089, 0.018564, 0.026357, 55.0, 0.01389, 0.1797, 0.593, 0.644523, 34.766431, 56.501901, 2.623574, 0.0], [\"W07000056\", 0.2353, 0.1211, 0.3996, 0.2372, 96.531193, 924.416218, 3565, 0.747549, 39.950692, 0.053191, -0.007421, 560, 180000.0, 0.385148, 6.181319, 0.297346, 0.348987, 0.133396, 0.200919, 0.187, 0.159, 0.003, 0.06, 0.087, 0.043, 0.146, 0.042, 0.09, 0.048, 0.082, 0.054, 0.249, 0.1845, 0.1645, 0.1235, 0.2765, 0.900669, 0.018759, 0.049953, 0.018489, 0.35989, 0.585988, 0.042025, 0.008864, 0.915633, 0.029192, 0.026299, 0.028876, 53.3, 0.00692, 0.1985, 0.537, 0.675756, 39.285879, 52.31134, 2.246881, 0.0], [\"W07000057\", 0.321, 0.198, 0.3417, 0.2271, 409.241703, 153.349474, 1910, 0.100865, 30.434852, 0.036244, -0.013403, 480, 150000.0, 0.428571, 6.009615, 0.333127, 0.291439, 0.155594, 0.193811, 0.164, 0.144, 0.015, 0.084, 0.08, 0.034, 0.159, 0.032, 0.151, 0.037, 0.036, 0.065, 0.21, 0.151, 0.157, 0.192, 0.29, 0.943589, 0.009856, 0.03074, 0.003483, 0.410992, 0.556254, 0.019365, 0.008288, 0.932759, 0.023162, 0.020124, 0.023955, 29.3, 0.02762, 0.2462, 0.358, 0.683516, 16.357062, 40.509784, 2.297221, 0.0], [\"W07000058\", 0.1945, 0.0981, 0.367, 0.3399, 604.28195, 97.979097, 2245, 0.139594, 37.917814, 0.032029, -0.008124, 490, 162500.0, 0.203704, 6.377551, 0.412547, 0.284902, 0.161876, 0.118762, 0.142, 0.168, 0.017, 0.12, 0.067, 0.036, 0.157, 0.036, 0.103, 0.05, 0.035, 0.067, 0.237, 0.1815, 0.1755, 0.1225, 0.2825, 0.978375, 0.008402, 0.008792, 0.001719, 0.341966, 0.644563, 0.004077, 0.005335, 0.954799, 0.026021, 0.011788, 0.007392, 29.6, 0.04104, 0.2834, 0.522, 0.712205, 44.59409, 42.618974, 2.926905, 0.0], [\"W07000059\", 0.1992, 0.0902, 0.3581, 0.3409, 926.073845, 79.409434, 3155, 0.097391, 42.902406, 0.041533, -0.003705, 590, 157500.0, 0.296296, 5.133638, 0.393052, 0.308332, 0.161865, 0.111698, 0.161, 0.158, 0.033, 0.073, 0.073, 0.036, 0.17, 0.037, 0.109, 0.046, 0.039, 0.063, 0.255, 0.17525, 0.17225, 0.12625, 0.27025, 0.975812, 0.007197, 0.012744, 0.001542, 0.332616, 0.652354, 0.00556, 0.005479, 0.960511, 0.018885, 0.010214, 0.01039, 28.4, 0.05921, 0.2659, 0.53, 0.699123, 48.066611, 39.612338, 2.683623, 0.0], [\"W07000060\", 0.2228, 0.1125, 0.3617, 0.2991, 216.263905, 333.601671, 2160, 0.116279, 29.93929, 0.052101, -0.003985, 470, 135000.0, 0.285714, 5.523732, 0.353447, 0.321622, 0.168078, 0.13382, 0.184, 0.155, 0.011, 0.069, 0.068, 0.04, 0.207, 0.037, 0.09, 0.037, 0.036, 0.065, 0.272, 0.19575, 0.17875, 0.12575, 0.22875, 0.971477, 0.007946, 0.017116, 0.001997, 0.346226, 0.639569, 0.00557, 0.005035, 0.95813, 0.019268, 0.008973, 0.013628, 30.6, 0.01319, 0.2002, 0.566, 0.681578, 44.05956, 50.209389, 1.721642, 0.0], [\"W07000061\", 0.2106, 0.1092, 0.3417, 0.3505, 2138.969454, 28.71523, 3415, 0.042748, 55.599876, 0.019541, -0.006325, 480, 158000.0, 0.316667, 6.330128, 0.463582, 0.215855, 0.151898, 0.136899, 0.197, 0.145, 0.053, 0.112, 0.049, 0.034, 0.135, 0.038, 0.103, 0.037, 0.026, 0.07, 0.253, 0.1805, 0.1865, 0.1205, 0.2605, 0.985579, 0.005987, 0.005024, 0.001272, 0.35404, 0.633089, 0.003344, 0.004176, 0.97124, 0.015383, 0.008499, 0.004878, 28.6, 0.08266, 0.2915, 0.474, 0.68044, 29.118888, 20.670225, 3.087518, 0.0], [\"W07000062\", 0.2213, 0.109, 0.3905, 0.2659, 622.788739, 116.448798, 2255, 0.11358, 31.093584, 0.038301, -0.005097, 550, 141000.0, 0.282401, 4.93007, 0.31402, 0.331094, 0.109786, 0.223176, 0.271, 0.144, 0.022, 0.051, 0.057, 0.044, 0.147, 0.042, 0.092, 0.037, 0.04, 0.052, 0.266, 0.1975, 0.1755, 0.1265, 0.2335, 0.982256, 0.006185, 0.006897, 0.003183, 0.364489, 0.625264, 0.003309, 0.004049, 0.964288, 0.021318, 0.008335, 0.006059, 28.9, 0.0457, 0.2756, 0.599, 0.698505, 39.083098, 50.707157, 1.950686, 0.0], [\"W07000063\", 0.2093, 0.1015, 0.3664, 0.3256, 2181.356701, 29.017262, 4260, 0.024038, 67.301768, 0.021255, -0.000947, 520, 165000.0, 0.269231, 6.102071, 0.421091, 0.257176, 0.148529, 0.148819, 0.223, 0.171, 0.087, 0.058, 0.045, 0.039, 0.12, 0.031, 0.093, 0.046, 0.031, 0.056, 0.252, 0.1815, 0.1825, 0.1265, 0.2585, 0.988554, 0.005425, 0.004296, 0.001003, 0.368037, 0.619028, 0.001866, 0.004688, 0.962151, 0.02297, 0.009799, 0.00508, 24.9, 0.12247, 0.3808, 0.558, 0.688917, 51.80419, 15.883752, 25.192743, 0.0], [\"W07000064\", 0.2791, 0.1663, 0.3113, 0.3178, 1789.031559, 40.799727, 3960, -0.005025, 54.252521, 0.024443, -0.000158, 500, 180000.0, 0.241379, 6.923077, 0.4379, 0.237691, 0.198815, 0.101261, 0.15, 0.148, 0.071, 0.083, 0.056, 0.031, 0.133, 0.03, 0.154, 0.044, 0.029, 0.07, 0.198, 0.14775, 0.16075, 0.20275, 0.28975, 0.967348, 0.009694, 0.014475, 0.003504, 0.395564, 0.579292, 0.006862, 0.008509, 0.940386, 0.032876, 0.014383, 0.012355, 25.5, 0.12434, 0.3796, 0.454, 0.733828, 18.374532, 20.159932, 28.966228, 0.0], [\"W07000065\", 0.2124, 0.1038, 0.3625, 0.3168, 1180.495749, 67.071821, 3815, 0.088445, 48.182576, 0.032202, -0.007653, 490, 155000.0, 0.192766, 6.083203, 0.423718, 0.269346, 0.127724, 0.159377, 0.197, 0.161, 0.055, 0.072, 0.08, 0.042, 0.14, 0.034, 0.093, 0.04, 0.026, 0.061, 0.24, 0.188, 0.18, 0.128, 0.264, 0.980597, 0.00581, 0.01042, 0.001619, 0.367504, 0.61624, 0.003734, 0.006711, 0.95558, 0.023346, 0.010681, 0.010393, 30.4, 0.09102, 0.2634, 0.553, 0.721659, 43.372752, 42.628623, 2.621039, 0.0], [\"W07000066\", 0.2102, 0.1045, 0.3608, 0.3261, 1018.379769, 76.43514, 3930, 0.062162, 50.488181, 0.035038, -0.001858, 520, 165000.0, 0.238274, 6.102071, 0.41726, 0.271147, 0.146503, 0.144522, 0.187, 0.158, 0.048, 0.095, 0.074, 0.037, 0.143, 0.035, 0.095, 0.042, 0.027, 0.061, 0.25, 0.182, 0.176, 0.132, 0.261, 0.978962, 0.006556, 0.010642, 0.00159, 0.333316, 0.651788, 0.00362, 0.005883, 0.95318, 0.025925, 0.010318, 0.010577, 29.8, 0.06123, 0.3038, 0.552, 0.722121, 46.821863, 39.456733, 2.264008, 0.0], [\"W07000067\", 0.2005, 0.093, 0.3662, 0.333, 1555.766132, 46.580909, 3890, 0.045699, 53.678124, 0.031242, 0.001489, 570, 145000.0, 0.208333, 4.892038, 0.452186, 0.29629, 0.103297, 0.128498, 0.197, 0.154, 0.062, 0.047, 0.086, 0.037, 0.145, 0.03, 0.112, 0.039, 0.038, 0.054, 0.262, 0.1755, 0.1745, 0.1185, 0.2695, 0.986065, 0.005138, 0.006165, 0.001464, 0.362061, 0.624877, 0.002421, 0.004603, 0.968302, 0.01751, 0.008459, 0.005729, 24.7, 0.11941, 0.3776, 0.532, 0.733779, 26.269224, 29.781374, 2.242316, 0.0], [\"W07000068\", 0.1898, 0.0877, 0.3541, 0.3615, 3014.909837, 22.936009, 4440, 0.032558, 64.208243, 0.019993, -0.009094, 540, 180000.0, 0.230769, 6.410256, 0.455437, 0.239606, 0.147622, 0.13187, 0.182, 0.132, 0.086, 0.07, 0.09, 0.031, 0.139, 0.041, 0.092, 0.043, 0.033, 0.063, 0.244, 0.16925, 0.16925, 0.12725, 0.28925, 0.979493, 0.005983, 0.012544, 0.000983, 0.366056, 0.616197, 0.001676, 0.01042, 0.95507, 0.020434, 0.011821, 0.012674, 24.2, 0.13516, 0.3469, 0.519, 0.7391, 48.582281, 17.745682, 29.13582, 0.0], [\"W07000069\", 0.2197, 0.1055, 0.3912, 0.2834, 264.961521, 280.255788, 1640, 0.184116, 22.08546, 0.046302, -0.002258, 510, 117000.0, 0.456528, 4.411765, 0.379588, 0.323812, 0.094708, 0.184012, 0.233, 0.143, 0.004, 0.043, 0.108, 0.04, 0.155, 0.038, 0.096, 0.034, 0.049, 0.057, 0.291, 0.19875, 0.17075, 0.12175, 0.21675, 0.984677, 0.005768, 0.007356, 0.001398, 0.404566, 0.584522, 0.002674, 0.004085, 0.977321, 0.010654, 0.006325, 0.0057, 47.2, 0.00872, 0.1731, 0.54, 0.686835, 23.722084, 56.714118, 1.911976, 0.0], [\"W07000070\", 0.2459, 0.1352, 0.3818, 0.2507, 182.387598, 389.516615, 1415, 0.219828, 19.917515, 0.04952, -0.016276, 490, 85000.0, 0.465517, 3.33595, 0.367562, 0.32222, 0.135152, 0.159424, 0.27, 0.15, 0.002, 0.049, 0.072, 0.039, 0.15, 0.043, 0.097, 0.03, 0.044, 0.053, 0.338, 0.192, 0.172, 0.114, 0.184, 0.978507, 0.005685, 0.010399, 0.004075, 0.44444, 0.544625, 0.003814, 0.004293, 0.973025, 0.012327, 0.006932, 0.007716, 29.7, 0.00738, 0.2435, 0.567, 0.620895, 19.388718, 61.015031, 1.839507, 0.0], [\"W07000071\", 0.2384, 0.1267, 0.3938, 0.2463, 161.892179, 471.461934, 1570, 0.34188, 20.569662, 0.057598, -0.026116, 490, 90000.0, 0.578947, 3.532182, 0.337714, 0.30644, 0.112561, 0.224962, 0.267, 0.156, 0.002, 0.048, 0.082, 0.038, 0.163, 0.047, 0.08, 0.028, 0.041, 0.049, 0.357, 0.1925, 0.1625, 0.1115, 0.1755, 0.978689, 0.00698, 0.010476, 0.002247, 0.445786, 0.543605, 0.002951, 0.004174, 0.961672, 0.024807, 0.005491, 0.00803, 29.1, 0.00435, 0.2801, 0.584, 0.606098, 18.104039, 66.79684, 2.50708, 0.0], [\"W07000072\", 0.2342, 0.1273, 0.396, 0.2588, 108.719033, 641.22167, 1205, 0.211055, 17.285155, 0.052861, -0.039502, 460, 82000.0, 0.366667, 3.428094, 0.329399, 0.291458, 0.127959, 0.239479, 0.304, 0.152, 0.003, 0.046, 0.07, 0.039, 0.173, 0.039, 0.079, 0.02, 0.027, 0.048, 0.36, 0.2035, 0.1655, 0.1085, 0.1625, 0.98476, 0.005644, 0.006947, 0.001361, 0.491964, 0.498539, 0.002564, 0.003309, 0.978658, 0.012161, 0.003653, 0.005529, 28.9, 0.00618, 0.2018, 0.62, 0.63285, 14.769639, 58.013216, 0.910944, 0.0], [\"W07000073\", 0.22, 0.1148, 0.4013, 0.2678, 84.672516, 993.651821, 2500, 0.22549, 29.71415, 0.035718, -0.008055, 580, 165000.0, 0.320528, 5.470822, 0.345151, 0.377278, 0.124341, 0.137167, 0.215, 0.162, 0.004, 0.06, 0.096, 0.036, 0.14, 0.038, 0.095, 0.042, 0.059, 0.054, 0.24, 0.18675, 0.17275, 0.12375, 0.27675, 0.971843, 0.008326, 0.014849, 0.002529, 0.420129, 0.564897, 0.005233, 0.005934, 0.954403, 0.023738, 0.010041, 0.011819, 30.9, 0.0093, 0.2661, 0.503, 0.69647, 39.794243, 50.660039, 2.12461, 0.0], [\"W07000074\", 0.2295, 0.1171, 0.4031, 0.2447, 202.935406, 384.565717, 1710, 0.1875, 21.911279, 0.039563, -0.015, 500, 129000.0, 0.433931, 4.961538, 0.34164, 0.380051, 0.118314, 0.145487, 0.268, 0.157, 0.004, 0.049, 0.078, 0.042, 0.151, 0.044, 0.083, 0.028, 0.047, 0.05, 0.333, 0.1985, 0.1655, 0.1135, 0.1895, 0.984546, 0.005794, 0.007118, 0.00194, 0.46564, 0.52494, 0.001887, 0.004282, 0.976745, 0.011453, 0.006463, 0.005339, 31.5, 0.00902, 0.2204, 0.589, 0.652534, 25.142458, 62.426083, 1.596603, 0.0], [\"W07000075\", 0.2541, 0.1383, 0.3888, 0.2444, 105.017003, 783.206505, 3130, 0.682796, 38.054711, 0.029483, -0.011242, 580, 149250.0, 0.338565, 4.948607, 0.342352, 0.393452, 0.122664, 0.125433, 0.216, 0.158, 0.003, 0.053, 0.081, 0.036, 0.147, 0.039, 0.115, 0.041, 0.057, 0.054, 0.252, 0.1765, 0.1625, 0.1405, 0.2685, 0.962336, 0.00808, 0.019279, 0.008477, 0.465599, 0.516899, 0.006265, 0.007483, 0.955462, 0.014929, 0.015016, 0.014593, 40.7, 0.01158, 0.2261, 0.465, 0.660458, 26.708277, 55.404321, 4.920539, 0.0], [\"W07000076\", 0.234, 0.1195, 0.3958, 0.2473, 114.529516, 770.648502, 2065, 0.286604, 23.396252, 0.04227, -0.021866, 540, 140000.0, 0.429301, 4.985755, 0.314376, 0.388748, 0.111127, 0.174147, 0.242, 0.15, 0.003, 0.046, 0.095, 0.038, 0.124, 0.049, 0.099, 0.044, 0.063, 0.049, 0.293, 0.193, 0.175, 0.124, 0.215, 0.981019, 0.007255, 0.009025, 0.001575, 0.477524, 0.512152, 0.002483, 0.004242, 0.97289, 0.013946, 0.006933, 0.006231, 31.8, 0.00352, 0.2351, 0.551, 0.642736, 25.214907, 54.461583, 1.755575, 0.0], [\"W07000077\", 0.2364, 0.1216, 0.393, 0.2587, 112.003274, 684.033576, 2550, 0.841155, 33.283734, 0.038407, -0.018107, 580, 115000.0, 0.352941, 3.812997, 0.336346, 0.363305, 0.104345, 0.183508, 0.293, 0.152, 0.002, 0.042, 0.093, 0.039, 0.12, 0.04, 0.087, 0.033, 0.049, 0.049, 0.316, 0.20225, 0.17125, 0.12125, 0.19025, 0.985174, 0.006365, 0.006219, 0.001048, 0.484259, 0.506312, 0.001989, 0.003315, 0.979671, 0.010728, 0.004814, 0.004787, 29.2, 0.00344, 0.2564, 0.589, 0.642971, 27.224115, 58.842435, 1.897875, 0.0], [\"W07000078\", 0.2255, 0.1119, 0.3889, 0.2685, 315.170195, 324.75152, 3205, 0.209434, 31.313506, 0.03498, -0.015114, 560, 195000.0, 0.51751, 6.696429, 0.344641, 0.369321, 0.142568, 0.130594, 0.171, 0.15, 0.008, 0.053, 0.104, 0.05, 0.141, 0.044, 0.101, 0.054, 0.064, 0.059, 0.212, 0.19025, 0.18325, 0.13125, 0.28225, 0.968097, 0.013342, 0.012309, 0.003878, 0.408511, 0.576776, 0.005617, 0.004789, 0.956207, 0.020484, 0.013598, 0.00971, 47.7, 0.01863, 0.205, 0.526, 0.727173, 47.471983, 43.395138, 1.898805, 0.0], [\"W07000079\", 0.2543, 0.1372, 0.4005, 0.2092, 50.993058, 1833.210301, 2670, 0.283654, 28.561954, 0.048172, -0.010095, 590, 200000.0, 0.408451, 6.518905, 0.273633, 0.340317, 0.163145, 0.20489, 0.133, 0.147, 0.001, 0.06, 0.074, 0.041, 0.14, 0.043, 0.125, 0.065, 0.092, 0.078, 0.252, 0.1645, 0.1485, 0.1075, 0.3275, 0.874554, 0.028376, 0.067848, 0.017489, 0.396882, 0.524877, 0.053083, 0.021543, 0.898052, 0.034627, 0.030793, 0.036528, 62.1, 0.00061, 0.1623, 0.438, 0.699633, 29.754016, 56.670741, 2.60353, 0.0], [\"W07000080\", 0.2836, 0.1715, 0.3958, 0.1912, 47.909336, 2430.8832, 4055, 0.422807, 34.818224, 0.049581, -0.014526, 570, 168000.0, 0.226277, 5.668016, 0.239524, 0.322117, 0.210399, 0.207348, 0.15, 0.155, 0.001, 0.066, 0.07, 0.044, 0.135, 0.049, 0.104, 0.061, 0.096, 0.067, 0.256, 0.16875, 0.15175, 0.11675, 0.30675, 0.833484, 0.033177, 0.072644, 0.038798, 0.383975, 0.509506, 0.080964, 0.02186, 0.868001, 0.040342, 0.0511, 0.040557, 59.2, 0.01466, 0.1873, 0.428, 0.664623, 30.19158, 59.488332, 2.818512, 0.0]];\n",
       "\n",
       "    if (typeof require === 'undefined') {\n",
       "        // TODO: This should become the default (use a simple import)\n",
       "        // when the ESM version works independently of whether\n",
       "        // require.js is there or not, see\n",
       "        // https://datatables.net/forums/discussion/69066/esm-es6-module-support?\n",
       "        const {default: $} = await import(\"https://esm.sh/jquery@3.5.0\");\n",
       "        const {default: initDataTables} = await import(\"https://esm.sh/datatables.net@1.11.3?deps=jquery@3.5.0\");\n",
       "\n",
       "        initDataTables();\n",
       "\n",
       "        // Define the dt_args\n",
       "        let dt_args = {\"columnDefs\": [{\"width\": \"70px\", \"targets\": \"_all\"}]};\n",
       "        dt_args[\"data\"] = data;\n",
       "\n",
       "        // Display the table\n",
       "        $(document).ready(function () {\n",
       "            $('#823e22a9-024b-43c9-be96-ad91210f31b4').DataTable(dt_args);\n",
       "        });\n",
       "    } else {\n",
       "        require([\"jquery\", \"datatables\"], ($, datatables) => {\n",
       "                // Define the dt_args\n",
       "                let dt_args = {\"columnDefs\": [{\"width\": \"70px\", \"targets\": \"_all\"}]};\n",
       "                dt_args[\"data\"] = data;\n",
       "\n",
       "                // Display the table\n",
       "                $(document).ready(function () {\n",
       "                    $('#823e22a9-024b-43c9-be96-ad91210f31b4').DataTable(dt_args);\n",
       "                });\n",
       "            }\n",
       "        )\n",
       "    }\n",
       "</script>\n"
      ],
      "text/plain": [
       "<IPython.core.display.HTML object>"
      ]
     },
     "metadata": {},
     "output_type": "display_data"
    }
   ],
   "source": [
    "itables.options.maxBytes = 0\n",
    "itables.options.maxColumns = 60\n",
    "itables.show(X_gb_with_snp)"
   ]
  },
  {
   "cell_type": "markdown",
   "id": "85119dad",
   "metadata": {},
   "source": [
    "## Dimensionality Reduction Methods\n",
    "\n",
    "Progressing ahead to feature reduction, this is crucial due to the curse of dimensionality hindrance since clustering methods rely mainly on distance metrics to quantify the similarity between observations. Consequently, excessive dimensionality will result in every data point being seemingly equidistant to one another, i.e., overfitting the data [(Yiu, 2019a)](https://towardsdatascience.com/the-curse-of-dimensionality-50dc6e49aa1e). Therefore, by exploiting methods like UMAP and PCA, one can be restricted to the pertinent variables whilst also getting rid of multicollinearity and existent noise from the dataset.\n",
    "\n",
    "Regarding PCA, it is perhaps the most widely known method of dimensionality reduction. It transforms the data into a smaller orthogonal components that contain the primary underlying trends of the data [(Yiu, 2019b)](https://towardsdatascience.com/understanding-pca-fae3e243731d). Another prominent and state-of-the-art non-linear transformation used for data visualisation usually, is Uniform Manifold Approximation and Projection, i.e., UMAP, which computes and evaluates the similarity scores between highly dimensional data points using an exponential probability distribution [(Allaoui et al., 2020)](https://link.springer.com/chapter/10.1007/978-3-030-51935-3_34). It is scalable with outstanding run-time performance as it exploits the stochastic gradient descent method whilst preserving the approximate vicinities between similar data points, thus retaining most of the global/macro data structure. As a result, it can be used generally in any machine learning problem for dimensionality reduction ([McInnes et al., 2018](https://arxiv.org/abs/1802.03426); [Spacagna, 2021](https://towardsdatascience.com/manifold-clustering-in-the-embedding-space-using-umap-and-gmm-dbab26a9efba)). Hence, using both linear PCA and manifold learning can enable us to explore any disparity in the clusters generated and to determine whether one method is superior over the other based on the clusters.\n"
   ]
  },
  {
   "cell_type": "code",
   "execution_count": 10,
   "id": "ea8bc679",
   "metadata": {
    "tags": [
     "remove_all_output",
     "remove_input"
    ]
   },
   "outputs": [],
   "source": [
    "# With SNP Votes\n",
    "scaler = StandardScaler()\n",
    "X_gb_scaled_snp = scaler.fit_transform(X_gb_with_snp)\n",
    "\n",
    "# Without SNP Votes\n",
    "scaler = StandardScaler()\n",
    "X_gb_scaled_without_snp = scaler.fit_transform(X_gb_without_snp)"
   ]
  },
  {
   "cell_type": "code",
   "execution_count": 12,
   "id": "e1589841",
   "metadata": {
    "tags": [
     "remove_all_output",
     "remove_input"
    ]
   },
   "outputs": [
    {
     "name": "stderr",
     "output_type": "stream",
     "text": [
      "WARNING:matplotlib.font_manager:findfont: Font family ['Franklin Gothic Book'] not found. Falling back to DejaVu Sans.\n",
      "WARNING:matplotlib.font_manager:findfont: Font family ['Franklin Gothic Book'] not found. Falling back to DejaVu Sans.\n"
     ]
    },
    {
     "data": {
      "image/png": "[encoded data removed]",
      "text/plain": [
       "<Figure size 720x576 with 1 Axes>"
      ]
     },
     "metadata": {},
     "output_type": "display_data"
    },
    {
     "data": {
      "text/html": [
       "<table id=\"11473a45-a99c-4af3-b6f8-1f51a1ef36f6\" class=\"display\"style=\"max-width:100%\"><thead><th></th><th>model</th><th>var</th></thead><tbody><tr><td>Loading... (need <a href=https://mwouts.github.io/itables/troubleshooting.html>help</a>?)</td></tr></tbody></table>\n",
       "<link rel=\"stylesheet\" type=\"text/css\" href=\"https://cdn.datatables.net/1.11.3/css/jquery.dataTables.min.css\">\n",
       "<style> table td {\n",
       "    text-overflow: ellipsis;\n",
       "    overflow: hidden;\n",
       "} </style>\n",
       "<style> table th {\n",
       "    text-overflow: ellipsis;\n",
       "    overflow: hidden;\n",
       "} </style>\n",
       "<script type=\"module\">\n",
       "    // Define the table data\n",
       "    const data = [[49, \"PCA(n_components=49)\", \"0.9999261036751873\"], [48, \"PCA(n_components=48)\", \"0.9998771808946134\"], [47, \"PCA(n_components=47)\", \"0.9997668941004174\"], [46, \"PCA(n_components=46)\", \"0.999577730089989\"], [45, \"PCA(n_components=45)\", \"0.9992692698558675\"], [44, \"PCA(n_components=44)\", \"0.9987980784996947\"], [43, \"PCA(n_components=43)\", \"0.9982681580277091\"], [42, \"PCA(n_components=42)\", \"0.9976222118388551\"], [41, \"PCA(n_components=41)\", \"0.9968340414830412\"], [40, \"PCA(n_components=40)\", \"0.995973606991176\"], [39, \"PCA(n_components=39)\", \"0.9949529740272158\"], [38, \"PCA(n_components=38)\", \"0.9937741085038295\"], [37, \"PCA(n_components=37)\", \"0.9924492334373584\"], [36, \"PCA(n_components=36)\", \"0.9909701996522904\"], [35, \"PCA(n_components=35)\", \"0.9893420673699793\"], [34, \"PCA(n_components=34)\", \"0.9875264281596197\"], [33, \"PCA(n_components=33)\", \"0.9856230963256136\"], [32, \"PCA(n_components=32)\", \"0.9835584353055955\"], [31, \"PCA(n_components=31)\", \"0.9811220483669718\"], [30, \"PCA(n_components=30)\", \"0.9786200688775236\"], [29, \"PCA(n_components=29)\", \"0.9757866825653266\"], [28, \"PCA(n_components=28)\", \"0.9723261676827808\"], [27, \"PCA(n_components=27)\", \"0.9685806634566808\"], [26, \"PCA(n_components=26)\", \"0.9642827106665328\"], [25, \"PCA(n_components=25)\", \"0.9599707160391215\"], [24, \"PCA(n_components=24)\", \"0.9551977241416779\"], [23, \"PCA(n_components=23)\", \"0.9503172955694613\"], [22, \"PCA(n_components=22)\", \"0.9449411198831656\"], [21, \"PCA(n_components=21)\", \"0.9393249808341743\"], [20, \"PCA(n_components=20)\", \"0.933667179754387\"], [19, \"PCA(n_components=19)\", \"0.9275274411384117\"], [18, \"PCA(n_components=18)\", \"0.9210572711847712\"], [17, \"PCA(n_components=17)\", \"0.9132830321029152\"], [16, \"PCA(n_components=16)\", \"0.9043496288941869\"], [15, \"PCA(n_components=15)\", \"0.8940882122192644\"], [14, \"PCA(n_components=14)\", \"0.8831705481957638\"], [13, \"PCA(n_components=13)\", \"0.8707224213193892\"], [12, \"PCA(n_components=12)\", \"0.8573464351466444\"], [11, \"PCA(n_components=11)\", \"0.843666965773595\"], [10, \"PCA(n_components=10)\", \"0.8283473817330514\"]];\n",
       "\n",
       "    if (typeof require === 'undefined') {\n",
       "        // TODO: This should become the default (use a simple import)\n",
       "        // when the ESM version works independently of whether\n",
       "        // require.js is there or not, see\n",
       "        // https://datatables.net/forums/discussion/69066/esm-es6-module-support?\n",
       "        const {default: $} = await import(\"https://esm.sh/jquery@3.5.0\");\n",
       "        const {default: initDataTables} = await import(\"https://esm.sh/datatables.net@1.11.3?deps=jquery@3.5.0\");\n",
       "\n",
       "        initDataTables();\n",
       "\n",
       "        // Define the dt_args\n",
       "        let dt_args = {\"columnDefs\": [{\"width\": \"70px\", \"targets\": \"_all\"}]};\n",
       "        dt_args[\"data\"] = data;\n",
       "\n",
       "        // Display the table\n",
       "        $(document).ready(function () {\n",
       "            $('#11473a45-a99c-4af3-b6f8-1f51a1ef36f6').DataTable(dt_args);\n",
       "        });\n",
       "    } else {\n",
       "        require([\"jquery\", \"datatables\"], ($, datatables) => {\n",
       "                // Define the dt_args\n",
       "                let dt_args = {\"columnDefs\": [{\"width\": \"70px\", \"targets\": \"_all\"}]};\n",
       "                dt_args[\"data\"] = data;\n",
       "\n",
       "                // Display the table\n",
       "                $(document).ready(function () {\n",
       "                    $('#11473a45-a99c-4af3-b6f8-1f51a1ef36f6').DataTable(dt_args);\n",
       "                });\n",
       "            }\n",
       "        )\n",
       "    }\n",
       "</script>\n"
      ],
      "text/plain": [
       "                   model       var\n",
       "n                                 \n",
       "49  PCA(n_components=49)  0.999926\n",
       "48  PCA(n_components=48)  0.999877\n",
       "47  PCA(n_components=47)  0.999767\n",
       "46  PCA(n_components=46)  0.999578\n",
       "45  PCA(n_components=45)  0.999269\n",
       "44  PCA(n_components=44)  0.998798\n",
       "43  PCA(n_components=43)  0.998268\n",
       "42  PCA(n_components=42)  0.997622\n",
       "41  PCA(n_components=41)  0.996834\n",
       "40  PCA(n_components=40)  0.995974\n",
       "39  PCA(n_components=39)  0.994953\n",
       "38  PCA(n_components=38)  0.993774\n",
       "37  PCA(n_components=37)  0.992449\n",
       "36  PCA(n_components=36)   0.99097\n",
       "35  PCA(n_components=35)  0.989342\n",
       "34  PCA(n_components=34)  0.987526\n",
       "33  PCA(n_components=33)  0.985623\n",
       "32  PCA(n_components=32)  0.983558\n",
       "31  PCA(n_components=31)  0.981122\n",
       "30  PCA(n_components=30)   0.97862\n",
       "29  PCA(n_components=29)  0.975787\n",
       "28  PCA(n_components=28)  0.972326\n",
       "27  PCA(n_components=27)  0.968581\n",
       "26  PCA(n_components=26)  0.964283\n",
       "25  PCA(n_components=25)  0.959971\n",
       "24  PCA(n_components=24)  0.955198\n",
       "23  PCA(n_components=23)  0.950317\n",
       "22  PCA(n_components=22)  0.944941\n",
       "21  PCA(n_components=21)  0.939325\n",
       "20  PCA(n_components=20)  0.933667\n",
       "19  PCA(n_components=19)  0.927527\n",
       "18  PCA(n_components=18)  0.921057\n",
       "17  PCA(n_components=17)  0.913283\n",
       "16  PCA(n_components=16)   0.90435\n",
       "15  PCA(n_components=15)  0.894088\n",
       "14  PCA(n_components=14)  0.883171\n",
       "13  PCA(n_components=13)  0.870722\n",
       "12  PCA(n_components=12)  0.857346\n",
       "11  PCA(n_components=11)  0.843667\n",
       "10  PCA(n_components=10)  0.828347"
      ]
     },
     "execution_count": 12,
     "metadata": {},
     "output_type": "execute_result"
    }
   ],
   "source": [
    "# log columns\n",
    "from sklearn.decomposition import PCA\n",
    "\n",
    "pca_list = list()\n",
    "feature_weight_list = list()\n",
    "\n",
    "# Fit a range of PCA models\n",
    "\n",
    "for n in range(1, 50):\n",
    "    \n",
    "    # Create and fit the model\n",
    "    PCAmod = PCA(n_components=n)\n",
    "    PCAmod.fit(X_gb_scaled_without_snp) # has 86 features\n",
    "    \n",
    "    # Store the model and variance\n",
    "    pca_list.append(pd.Series({'n':n, 'model':PCAmod,\n",
    "                               'var': PCAmod.explained_variance_ratio_.sum()}))\n",
    "    \n",
    "    \n",
    "pca_df = pd.concat(pca_list, axis=1).T.set_index('n')\n",
    "\n",
    "\n",
    "plt.figure(figsize=(10,8))\n",
    "sns.lineplot(x='n', y='var', data=pca_df, color='red')\n",
    "plt.xlabel('PCA Components')\n",
    "plt.ylabel('Variance')\n",
    "plt.show()\n",
    "\n",
    "\n",
    "pca_df.sort_values(by='var', ascending=False).head(40)"
   ]
  },
  {
   "cell_type": "markdown",
   "id": "385805cc",
   "metadata": {},
   "source": [
    "Concerning the number of selected components, we aim to retain 90% of the variance explained with PCA; this leads to 16 features. As for UMAP, we will pick the same number as PCA for a fair comparison of dimensionality. In addition, we add a random state to both these algorithms for reproducibility purposes.\n",
    "\n",
    "![PCA variance plot](Blog_images/PCA_variance.png)"
   ]
  },
  {
   "cell_type": "code",
   "execution_count": 13,
   "id": "d727820e",
   "metadata": {
    "tags": [
     "remove_all_output",
     "remove_input"
    ]
   },
   "outputs": [],
   "source": [
    "PCAmod = PCA(n_components=16, random_state=100)\n",
    "PCAmod.fit(X_gb_scaled_snp)\n",
    "PCA_df_gb = pd.DataFrame(PCAmod.transform(X_gb_scaled_snp))\n",
    "\n",
    "\n",
    "PCAmod = PCA(n_components=16, random_state=100)\n",
    "PCAmod.fit(X_gb_scaled_without_snp)\n",
    "PCA_df_gb_without_snp = pd.DataFrame(PCAmod.transform(X_gb_scaled_without_snp))\n",
    "\n",
    "# For fair comparison, we will select the number of components from UMAP (Non-Linear) as we did with PCA i.e., 16 components\n",
    "umap_c = umap.UMAP(n_components=16, metric='euclidean' , init='random', random_state=0)\n",
    "umap_df = umap_c.fit_transform(X_gb_scaled_snp)\n",
    "\n",
    "umap_c = umap.UMAP(n_components=16, metric='euclidean' , init='random', random_state=0)\n",
    "umap_df_without_snp = umap_c.fit_transform(X_gb_scaled_without_snp)"
   ]
  },
  {
   "cell_type": "markdown",
   "id": "a390e357",
   "metadata": {},
   "source": [
    "## A quick overview of considered Algorithms and Metrics\n",
    "\n",
    "### K-Means\n",
    "\n",
    "The popular K-Means algorithm starts by allocating k randomly placed centroids to the dataset and assigning points to the nearest centroid. Then it iteratively relocates the centroids to the mean of the assigned points and reassigns them based on the distance to the new centroids, leading to a reduction of the within-cluster sum of squares until convergence is reached. Some drawbacks of this method are that different initial starting points of centroids leads to different clustering results and the user is required to pre-specify the desired number of clusters\n",
    "[(Garbade 2018)](https://towardsdatascience.com/understanding-k-means-clustering-in-machine-learning-6a6e67336aa1).\n",
    "\n",
    "### HAC\n",
    "\n",
    "This commonly used technique exploits a distance metric to allocate clusters using a bottom-up clustering approach. It iteratively identifies pairs of points with minimal distance as clusters and successfully merges those pairs with the closest clusters [(Dobilas, 2021)](https://towardsdatascience.com/hac-hierarchical-agglomerative-clustering-is-it-better-than-k-means-4ff6f459e390). This leads to a hierarchy of clusters and subclusters within those, until each point is its own cluster. This method thus provides the added advantage of enabling us to visualize dendrograms, gain insight as to when and how the segmentation of a given cluster occurred, and select the clusterings that appear to be the most distinct.\n",
    "\n",
    "### DBSCAN\n",
    "\n",
    "The method of DBSCAN is *density based* meaning that it attempts to locate regions of high density by classifying data points as either core, reachable or outlier points. One advantage this algorithm brings is that it generates the number of clusters instead of requiring it as a hyperparameter input. However, an essential thing to point out is that UMAP does not preserve the density of the original data [(Taylor, 2019)](http://localhost:8889/notebooks/OneDrive/Documents/Super%20important%20documents/Warwick%20Data%20Science%20Research%20Project/Clustering%20Algorithms/Blog_Clustering_Template.ipynb). Hence, we expect DBSCAN to produce disparate results when working with PCA to when using UMAP. Additionally, not maintaining density is acceptable as we are searching for unique clusterings that can help us spot any specific or general trends. To create the best segments, the key hyperparameters we experiment with include; the minimum number of points for defining a cluster (min sample points); the in-sample distance for a point to be considered as part of a cluster (epsilon); and lastly, the algorithm to locate the nearest neighbours (ball_tree, kd_tree, brute, auto). DBSCAN effectively picks up high density, noise, and outlier patterns in the data however, it can be challenging to find the ideal cluster number [(Yildirim, 2020)](http://localhost:8889/notebooks/OneDrive/Documents/Super%20important%20documents/Warwick%20Data%20Science%20Research%20Project/Clustering%20Algorithms/Blog_Clustering_Template.ipynb).\n",
    "\n",
    "### GMM\n",
    "\n",
    "The last clustering method left to discuss, GMM, involves working with varying Gaussian distributions (a distribution-based model unlike K-Means or HAC which are distance based) that are used to assign probabilities (soft assignment/clustering) to each data point. These probabilities indicate which distributions would have likely generated a specific point. On the other hand, K-Means, HAC or DBSCAN are hard clustering methods which allocate a data point to only one cluster [(Foley, 2019)](https://towardsdatascience.com/gaussian-mixture-modelling-gmm-833c88587c7f#:~:text=At%20its%20simplest%2C%20GMM%20is,means%2C%20we%20have%20soft%20assignments). Hence, each cluster will consist of data points from a unique Gaussian distribution where the uncertainties of those points belonging to other clusters are also encapsulated. Thus, this method mostly avoids biases for specific clustering types and is valuable for non-linear and higher-dimensional data. Concerning the hyperparameters to be optimized, we select: the number of components or clusters similar to K-Means or HAC and the covariance matrix types of the clusters. The choices for the covariance matrices include full (clusters take arbitrary shape or position), tied (clusters have identical shapes), diagonal (contour shapes directed towards the coordinate axes with varying eccentricities of the ellipticals), and finally spherical (circular diagonal contours).\n",
    "\n",
    "### Tuning Criteria\n",
    "\n",
    "Regardless of which algorithm is employed, we require hyperparameter tuning for instance, finding the best cluster number in K-Means. We find numerous metrics available as tuning criteria. Starting with the Silhouette Score, it measures the inter-cluster separation where a value close to 1 indicates a greater distance between samples of one cluster to neighbouring cluster data points, which is ideal. Moving onto the Calinski-Harabasz Index or the Variance Ratio Criterion, it calculates the ratio between the dispersion of points within distinct clusters and the variability of observations in clusters. Thus, a higher index would be more valuable as the between-cluster variability ought to be low for superior segmentation, resulting in distant and compact clusters [(Baruah, 2020)](https://towardsdatascience.com/cheat-sheet-to-implementing-7-methods-for-selecting-optimal-number-of-clusters-in-python-898241e1d6ad). Next we have the Davies Bouldin Index which computes the average of similarity scores between a cluster and its most identical cluster. The similarity score involves calculating the ratio of intra-cluster distances to inter-cluster distances where a low result is ideal, unlike the previous metrics. The reason is trivial, as having denser clusters far away from neighbouring clusters produces the best segmentation [(Zuccarelli, 2021)](https://towardsdatascience.com/performance-metrics-in-machine-learning-part-3-clustering-d69550662dc6#:~:text=The%20Davies%2DBouldin%20Index%20is,lead%20to%20a%20better%20score). Lastly, concerning BIC, it locates the hyperparameters that result in the least number of parameters being used that still explain the data reasonably when running the GMM model. Thus, the higher the BIC score is, the more parameters need to be introduced to cluster the data. The ultimate aim would be to minimise this metric based on the Occam’s razor principle [(Klassen, 2020)](https://towardsdatascience.com/an-intuitive-explanation-of-the-bayesian-information-criterion-71a7a3d3a5c5). As GMM implements the expectation maximization (EM) algorithm and the maximum likelihood estimation framework, we can use the BIC score as an evaluation metric in this case."
   ]
  },
  {
   "cell_type": "code",
   "execution_count": 14,
   "id": "7cfa1de6",
   "metadata": {
    "tags": [
     "remove_all_output",
     "remove_input"
    ]
   },
   "outputs": [],
   "source": [
    "# Define all the UK political parties and their colours we will use for later in our visualizations \n",
    "\n",
    "party_list = ['con safe','con lab marginal',\n",
    "'lab safe','ld safe',\n",
    "'con ld marginal','lab ld marginal',\n",
    "'green safe', 'con snp marginal', 'snp safe', 'ld snp marginal']\n",
    "\n",
    "\n",
    "party_colors = [con_blue, con_lab, lab_red, lib_yel,con_lib, lab_lib, \n",
    "                green_green, con_snp, snp_yel, lib_snp]\n",
    "\n",
    "\n",
    "\n",
    "# Metric Visuals\n",
    "\n",
    "def elbow_visuals(metr, model, data):\n",
    "    if str(metr) == 'Distortion':\n",
    "        visualizer = KElbowVisualizer(model, k=(2,18), timings= True)\n",
    "        visualizer.fit(data)        # Fit data to visualizer\n",
    "        visualizer.show()  \n",
    "        \n",
    "    elif str(metr) == 'Calinski':\n",
    "        visualizer = KElbowVisualizer(model, k=(2,18), metric='calinski_harabasz', timings= True)\n",
    "        visualizer.fit(data)        # Fit data to visualizer\n",
    "        visualizer.show()  \n",
    "        \n",
    "    elif str(metr) == 'Silhouette':\n",
    "        visualizer = KElbowVisualizer(model, k=(2,18), metric='silhouette', timings= True)\n",
    "        visualizer.fit(data)        # Fit data to visualizer\n",
    "        visualizer.show()  \n",
    "        \n",
    "# Dendogram for Heirarchical Clustering\n",
    "from scipy.cluster.hierarchy import dendrogram\n",
    "from scipy.cluster import hierarchy\n",
    "\n",
    "\n",
    "def dendro_hac(model, data):\n",
    "    \n",
    "    m = model.fit(data)\n",
    "    Z = hierarchy.linkage(m.children_, 'ward')\n",
    "    plt.figure(figsize=(20,10))\n",
    "    plt.title(\"Dendrograms\") \n",
    "    dn=hierarchy.dendrogram(Z)\n",
    "\n",
    "\n",
    "\n",
    "def Davies_Bouldin_Viz(model, data):\n",
    "    \n",
    "    # Davies Bouldin Score\n",
    "    # Davies Bouldin Index - need at least 2 points in each cluster\n",
    "    # As DB Index falls, clustering improves\n",
    "    # Davies Bouldin score for K means\n",
    "    \n",
    "    scores = []\n",
    "    p = []\n",
    "    centers = range(2, 20)\n",
    "    \n",
    "    if model == 'KMeans':\n",
    "        \n",
    "        for i in list(centers):\n",
    "            kmeans = KMeans(n_clusters=i)\n",
    "            m = kmeans.fit_predict(data)\n",
    "            score = davies_bouldin_score(data, m)\n",
    "            scores.append(score)\n",
    "            p.append((i, score))\n",
    "            \n",
    "    if model == 'HAC':\n",
    "        \n",
    "        for i in list(centers):\n",
    "            hac = AgglomerativeClustering(n_clusters=i)\n",
    "            m = hac.fit_predict(data)\n",
    "            score = davies_bouldin_score(data, m)\n",
    "            scores.append(score)\n",
    "            p.append((i, score))\n",
    "            \n",
    "#     display(round(pd.DataFrame(p)[1]), 4)\n",
    "#     print(round(min(scores), 4))\n",
    "    sns.lineplot(list(centers), scores, linestyle='--', marker='o', color='b');\n",
    "    plt.xlabel('K');\n",
    "    plt.ylabel('Davies Bouldin score');\n",
    "    plt.title('Davies Bouldin score vs. K');\n",
    "    \n",
    "    df = pd.DataFrame(p)[round(pd.DataFrame(p)[1], 3) == round(min(scores), 3)]\n",
    "    df.columns = ['# Clusters', 'Davies_Bouldin_Score']\n",
    "    return df\n",
    "\n",
    "\n",
    "\n",
    "\n",
    "    \n",
    "# Heatmap function\n",
    "\n",
    "def kpi_heatmap(kpi_data, data, snp=True):\n",
    "    \n",
    "    if snp == True:\n",
    "\n",
    "        heatmap_cluster_kpis(kpis=kpi_data,data=X_gb_with_snp,cmap='coolwarm_r',size=0.7, cluster_data=data)\n",
    "        plt.title('Heatmap of English Constituency Clusters by KPI\\n\\\n",
    "        (0.0=Lowest Cluster For That KPI, 1.0=Highest Cluster For That KPI)\\n')\n",
    "        plt.ylabel('Cluster Number')\n",
    "        \n",
    "    if snp == False:\n",
    "        \n",
    "        heatmap_cluster_kpis(kpis=kpi_data,data=X_gb_without_snp ,cmap='coolwarm_r',size=0.7, cluster_data=data)\n",
    "        plt.title('Heatmap of English Constituency Clusters by KPI\\n\\\n",
    "        (0.0=Lowest Cluster For That KPI, 1.0=Highest Cluster For That KPI)\\n')\n",
    "        plt.ylabel('Cluster Number') \n",
    "        \n",
    "    \n",
    "    \n",
    "def Map_cluster(data):\n",
    "    kpi_map('Population',colors=data[['Colors']], data=df_con,\n",
    "    exc_color='#ffffff',exclude=['Northern Ireland'], width=11)\n",
    "    \n",
    "\n",
    "def cluster_bar_visual(data, snp_included):\n",
    "\n",
    "    gb_cluster_bar = (data/ data.sum()).T.sort_values(by='lab safe', ascending=True)\n",
    "\n",
    "    gb_cluster_bar.plot.barh(stacked=True,\n",
    "                  figsize=(12,5),\n",
    "                  width=0.8,\n",
    "                  color=party_colors)\n",
    "\n",
    "    plt.xticks(ticks = np.arange(0,1.2,0.2), labels = np.arange(0,120,20))\n",
    "    plt.xlim(0,1);\n",
    "    \n",
    "    if snp_included == True:\n",
    "\n",
    "        plt.title('GB Constituency Clusters with %SNP Votes');\n",
    "        \n",
    "    else:\n",
    "        plt.title('GB Constituency Clusters without %SNP Votes');\n",
    "    plt.ylabel('Cluster Number')\n",
    "\n",
    "    plt.legend(bbox_to_anchor=(0.85, -0.1),\n",
    "                   ncol=4,frameon=False)\n",
    "    \n",
    "    \n",
    "def clustering_metrics(model, data, clust=None): # yhat = model.fit(data)\n",
    "    \n",
    "    if clust == 'BIC':\n",
    "        model.fit(data)\n",
    "        model2 = model.predict(data)\n",
    "        score_AGclustering_s = silhouette_score(data, model2, metric='euclidean')\n",
    "        score_AGclustering_c = calinski_harabasz_score(data, model2)\n",
    "        score_AGclustering_d = davies_bouldin_score(data, model2)\n",
    "        \n",
    "    else:\n",
    "    \n",
    "        yhat = model.fit(data)\n",
    "        yhat_2 = model.fit_predict(data)\n",
    "\n",
    "        # retrieve unique clusters\n",
    "        # Calculate cluster validation metrics\n",
    "        score_AGclustering_s = silhouette_score(data, yhat.labels_, metric='euclidean')\n",
    "        score_AGclustering_c = calinski_harabasz_score(data, yhat.labels_)\n",
    "        score_AGclustering_d = davies_bouldin_score(data, yhat_2)\n",
    "    \n",
    "\n",
    "    print('Silhouette Score: %.4f' % score_AGclustering_s)\n",
    "    print('Calinski Harabasz Score: %.4f' % score_AGclustering_c)\n",
    "    print('Davies Bouldin Score: %.4f' % score_AGclustering_d)  \n",
    "    \n",
    "    \n",
    "def cluster_dataframes(preds, GMM=None, max_weights=None):\n",
    "    \n",
    "    gb_cluster_yg = pd.concat([y19_st_gb,\n",
    "                       pd.DataFrame(preds[0],\n",
    "                                    index=y17_st_gb.index,\n",
    "                                    columns=['Cluster'])],\n",
    "                       axis=1)\n",
    "    \n",
    "    \n",
    "    gb_cluster_yg_pivot = pd.pivot_table(data = gb_cluster_yg,\n",
    "                                         index='seat_types_yg',\n",
    "                                         columns='Cluster',\n",
    "\n",
    "                                         aggfunc=len,\n",
    "                                         fill_value=0)\n",
    "\n",
    "    gb_cluster_yg_pivot = gb_cluster_yg_pivot.reindex(party_list)\n",
    "    \n",
    "    if GMM == True:\n",
    "        \n",
    "        gb_cluster_yg_2 = pd.concat([gb_cluster_yg, pd.DataFrame(max_weights,index=y17_st_gb.index,\n",
    "                                    columns=['Weights'])], axis=1, join='inner')\n",
    "    \n",
    "        return gb_cluster_yg, gb_cluster_yg_pivot, gb_cluster_yg_2\n",
    "    \n",
    "    else:\n",
    "        return gb_cluster_yg, gb_cluster_yg_pivot"
   ]
  },
  {
   "cell_type": "code",
   "execution_count": 15,
   "id": "3a0a5c8f",
   "metadata": {
    "tags": [
     "remove_all_output",
     "remove_input"
    ]
   },
   "outputs": [],
   "source": [
    "# Clustering Algorithms\n",
    "\n",
    "def K_Means(n_clusters, data):\n",
    "    \n",
    "    k_means = KMeans(n_clusters, random_state=0)\n",
    "    k_means.fit(data)\n",
    "\n",
    "    #Store the predicted labels\n",
    "    km_preds_gb = []\n",
    "    km_preds_gb.append(k_means.predict(data))\n",
    "    \n",
    "    clustering_metrics(k_means, data)\n",
    "    \n",
    "    return km_preds_gb\n",
    "    \n",
    "\n",
    "\n",
    "def HAC(n_clusters, data):\n",
    "    \n",
    "    #Instantiate and run a HAC algorithm\n",
    "    HAC = AgglomerativeClustering(n_clusters)\n",
    "\n",
    "    #Store the predicted labels\n",
    "    hac_preds_gb = []\n",
    "    hac_preds_gb.append(HAC.fit_predict(data))\n",
    "    clustering_metrics(HAC, data)\n",
    "    \n",
    "    return hac_preds_gb\n",
    "\n",
    "def DB_Clustering(ep, min_points, alg, data):\n",
    "    \n",
    "    db = DBSCAN(eps=float(ep), min_samples=float(min_points), algorithm=str(alg))\n",
    "    #Store the predicted labels\n",
    "    db_preds_gb = []\n",
    "    preds = db.fit_predict(data)\n",
    "    db_preds_gb.append(preds)\n",
    "    clustering_metrics(db, data)\n",
    "    \n",
    "    # Fit the models\n",
    "    clm46 = db.fit(data)\n",
    "    # Print DBSCAN results\n",
    "    print('*************** DBSCAN Clustering Model ***************')\n",
    "    print(\"Cluster labels\")\n",
    "    print(np.unique(clm46.labels_))\n",
    "    \n",
    "    return db_preds_gb \n",
    "\n",
    "\n",
    "def Mean_Shift(b, data):\n",
    "    \n",
    "    ms = MeanShift(bandwidth=float(b)) \n",
    "    ms.fit(data)\n",
    "\n",
    "    yhat = ms.predict(data)\n",
    "\n",
    "    ms_preds_gb = []\n",
    "    #Store the predicted labels\n",
    "    ms_preds_gb.append(yhat)\n",
    "    \n",
    "    clustering_metrics(ms, data)\n",
    "    \n",
    "    return ms_preds_gb\n",
    "\n",
    "def GMM(n_comp, covar, data):\n",
    "    \n",
    "    gmm = GaussianMixture(n_components=int(n_comp),covariance_type=str(covar), random_state = 100)\n",
    "    gmm_preds_gb = []\n",
    "    weights = []\n",
    "    gmm.fit(data)\n",
    "    preds = gmm.predict(data)\n",
    "    weight = gmm.predict_proba(data)\n",
    "    clustering_metrics(gmm, data, clust = 'BIC')\n",
    "    gmm_preds_gb.append(preds)\n",
    "    \n",
    "    return gmm_preds_gb, weight\n",
    "\n",
    "# Finalize the data function\n",
    "# We will output this with our main function at the very end --> Section 4\n",
    "def constituency_clusters(cluster_df, data, GMM=None):      \n",
    "\n",
    "    if GMM == True:\n",
    "        dframe = pd.concat([data, cluster_df], join='inner', axis=1)[['Constituency', 'Region', 'seat_types_yg', 'Colors', 'Cluster', 'Weights']]\n",
    "    else:\n",
    "        dframe = pd.concat([data, cluster_df], join='inner', axis=1)[['Constituency', 'Region', 'seat_types_yg', 'Colors', 'Cluster']]\n",
    "    dframe = dframe.loc[:,~dframe.columns.duplicated()].reset_index()\n",
    "\n",
    "    return dframe\n",
    "\n",
    "\n",
    "\n",
    "def DBScan_func(dim_red, metric, data, snp_inc=True):\n",
    "\n",
    "    score = []\n",
    "    # Define ranges to explore\n",
    "    eps_range=range(3,13)  \n",
    "    minpts_range=range(3,11)\n",
    "    if snp_inc == False:\n",
    "        eps_range=range(3,6)  \n",
    "    \n",
    "    for k in eps_range:\n",
    "        for j in minpts_range:\n",
    "            for x in ['auto', 'ball_tree', 'kd_tree', 'brute']:\n",
    "            \n",
    "                if str(dim_red) == 'PCA':\n",
    "                    model = DBSCAN(eps=k, min_samples=j, algorithm=x)\n",
    "                    clm = model.fit(data)\n",
    "                    score_d = davies_bouldin_score(data, clm.labels_)\n",
    "                    score_s = metrics.silhouette_score(data, clm.labels_, metric='euclidean')\n",
    "                    score_h = metrics.calinski_harabasz_score(data, clm.labels_)\n",
    "                    score.append((k, j, score_d, score_s, score_h, x))\n",
    "\n",
    "                elif str(dim_red) == 'UMAP':\n",
    "                    model = DBSCAN(eps=k/10, min_samples=j, algorithm=x)\n",
    "                    clm = model.fit(data)\n",
    "                    score_d = metrics.davies_bouldin_score(data, clm.labels_)\n",
    "                    score_s = metrics.silhouette_score(data, clm.labels_, metric='euclidean')\n",
    "                    score_h = metrics.calinski_harabasz_score(data, clm.labels_)\n",
    "                    score.append((k/10, j, score_d, score_s, score_h, x))\n",
    "                \n",
    "    score_1 = pd.DataFrame(score)\n",
    "    score_1.columns = ['Epsilon', 'Minimum_points', 'Davies_Bouldin_Score', 'Silhouette_Score', 'Calinski_Harabasz', 'Algorithm']\n",
    "    \n",
    "    if str(metric) == 'Davies Bouldin':\n",
    "        score_2 = score_1[score_1.Davies_Bouldin_Score == score_1.Davies_Bouldin_Score.min()]\n",
    "        \n",
    "    elif str(metric) == 'Silhouette':\n",
    "        score_2 = score_1[score_1.Silhouette_Score == score_1.Silhouette_Score.max()] \n",
    "        \n",
    "    elif str(metric) == 'Calinski':\n",
    "        score_2 = score_1[score_1.Calinski_Harabasz == score_1.Calinski_Harabasz.max()]\n",
    "    \n",
    "    return score_2.head(2)\n",
    "\n",
    "\n",
    "def Gaussian_MM_metrics(dim_red, metric, data):\n",
    "    \n",
    "        \n",
    "    score = []\n",
    "    n_components = range(2, 20)\n",
    "    covariance_type = ['spherical', 'tied', 'diag', 'full']\n",
    "    \n",
    "    for cov in covariance_type:\n",
    "        for n_comp in n_components:\n",
    "            gmm=GaussianMixture(n_components=n_comp,covariance_type=cov, random_state=101, reg_covar=1e-04)\n",
    "            gmm.fit(data)\n",
    "            model2 = gmm.predict(data)\n",
    "            Calin  = calinski_harabasz_score(data, model2)\n",
    "            Silh   = silhouette_score(data, model2) \n",
    "            Davies = davies_bouldin_score(data, model2)\n",
    "            score.append((cov,n_comp, gmm.bic(data), Calin, Silh, Davies))\n",
    "            \n",
    "            \n",
    "    score_1 = pd.DataFrame(score)\n",
    "    score_1.columns = ['Covariance_Type', 'N_Components', 'BIC_Score', 'Calinski_Harabasz_Score', \\\n",
    "                       'Silhouette_Score', 'Davies_Bouldin_Score']\n",
    "    \n",
    "        \n",
    "    if str(metric) == 'BIC':\n",
    "        score_2 = score_1[score_1.BIC_Score == score_1.BIC_Score.min()]\n",
    "        \n",
    "    elif str(metric) == 'Davies Bouldin':\n",
    "        score_2 = score_1[score_1.Davies_Bouldin_Score == score_1.Davies_Bouldin_Score.min()]\n",
    "        \n",
    "    elif str(metric) == 'Silhouette':\n",
    "        score_2 = score_1[score_1.Silhouette_Score == score_1.Silhouette_Score.max()]      \n",
    "        \n",
    "    elif str(metric) == 'Calinski':\n",
    "        score_2 = score_1[score_1.Calinski_Harabasz_Score == score_1.Calinski_Harabasz_Score.max()]\n",
    "        \n",
    "    return score_2.head(2)\n",
    "\n",
    "\n",
    "def Mean_Shift_metrics(dim_red, metric, data):\n",
    "    \n",
    "    if str(dim_red) == 'PCA':\n",
    "        bandwidths = range(2, 11)\n",
    "    elif str(dim_red) == 'UMAP':\n",
    "        bandwidths = np.round(np.linspace(0.2, 1.2, 11), 2)\n",
    "            \n",
    "    score = []\n",
    "\n",
    "    for b in bandwidths:\n",
    "        ms = MeanShift(bandwidth=b)\n",
    "        model = ms.fit(data)\n",
    "        model_2 = model.predict(data)\n",
    "        score_c = calinski_harabasz_score(data, model_2)\n",
    "        score_d = davies_bouldin_score(data, model_2)\n",
    "        score_s = silhouette_score(data, model_2, metric='euclidean')\n",
    "        \n",
    "        score.append((b, score_c, score_d, score_s))\n",
    "        \n",
    "    score_1 = pd.DataFrame(score)\n",
    "    score_1.columns = ['Bandwidth', 'Calinski_Harabasz_Score', 'Davies_Bouldin_Score', 'Silhouette_Score']\n",
    "    \n",
    "    if str(metric) == 'Davies Bouldin':\n",
    "        score_2 = score_1[score_1.Davies_Bouldin_Score == score_1.Davies_Bouldin_Score.min()]\n",
    "        \n",
    "    elif str(metric) == 'Silhouette':\n",
    "        score_2 = score_1[score_1.Silhouette_Score == score_1.Silhouette_Score.max()]      \n",
    "        \n",
    "    elif str(metric) == 'Calinski':\n",
    "        score_2 = score_1[score_1.Calinski_Harabasz_Score == score_1.Calinski_Harabasz_Score.max()]\n",
    "        \n",
    "    else:\n",
    "        print('Try again!')\n",
    "        \n",
    "    return score_2.head(2)"
   ]
  },
  {
   "cell_type": "code",
   "execution_count": 16,
   "id": "3c379a45-ceac-412e-aaa5-4d9a83fe084d",
   "metadata": {
    "tags": [
     "remove_input",
     "remove_all_output"
    ]
   },
   "outputs": [],
   "source": [
    "def WDSS_clustering(data, dim_reduction, clustering_method, metric_visuals=False, map_plot=False, cluster_bar=False,\n",
    "                   metric=None, heatmap=False, dendrogram=False, snp_included=True):\n",
    "    \n",
    "    # Dimensionality Reduction \n",
    "    \n",
    "    if dim_reduction == 'PCA':\n",
    "        if snp_included == False:\n",
    "            data_main = PCA_df_gb_without_snp\n",
    "        else:\n",
    "            data_main = PCA_df_gb\n",
    "            \n",
    "    elif dim_reduction == 'UMAP':\n",
    "        if snp_included == False:\n",
    "            data_main = umap_df_without_snp\n",
    "        else:\n",
    "            data_main = umap_df\n",
    "            \n",
    " # Clustering Algorithms\n",
    " # K-Means:   \n",
    "    \n",
    "    if clustering_method == 'KMeans':\n",
    "        model = KMeans(random_state=0)\n",
    "\n",
    "        if metric_visuals == True:\n",
    "            metr = input(\"Please input the metric of your choice from ['Distortion', 'Silhouette', 'Calinski', 'Davies Bouldin']: \")\n",
    "            if metr == 'Davies Bouldin':\n",
    "                display(Davies_Bouldin_Viz(clustering_method, data_main))\n",
    "            else:\n",
    "                elbow_visuals(metr, model, data_main)\n",
    "        n_clust = int(input(\"Enter number of clusters: \"))\n",
    "        preds_gb = K_Means(n_clust, data_main)\n",
    "            \n",
    "            \n",
    "     # HAC: \n",
    "    elif clustering_method == 'HAC':\n",
    "        model = AgglomerativeClustering()\n",
    "        \n",
    "        if metric_visuals == True:\n",
    "            metr = input(\"Please input from the visuals of your choice ['Distortion', 'Silhouette', 'Calinski', 'Davies Bouldin']: \")\n",
    "            if metr == 'Davies Bouldin':\n",
    "                display(Davies_Bouldin_Viz(clustering_method, data_main))\n",
    "            else:\n",
    "                elbow_visuals(metr, model, data_main)\n",
    "                    \n",
    "        if dendrogram == True:\n",
    "            dendro_hac(model, data_main)\n",
    "                     \n",
    "        n_clust = int(input(\"Enter number of clusters: \"))\n",
    "        preds_gb = HAC(n_clust, data_main)\n",
    "            \n",
    "            \n",
    "     # DB Scan:\n",
    "    elif clustering_method == 'DBScan':  \n",
    "\n",
    "        if metric_visuals == True:\n",
    "            metr = input(\"Please input the metric of your choice from ['Davies Bouldin', 'Silhouette', 'Calinski']: \")\n",
    "            display(DBScan_func(dim_reduction, metr, data_main, snp_inc=snp_included))\n",
    "\n",
    "        if dim_reduction == 'UMAP':\n",
    "            ep = input(\"Enter epsilon value from 0.3 or above: \")\n",
    "        else:\n",
    "            ep = input(\"Enter epsilon value from 3 or above: \")\n",
    "            \n",
    "        mns = input(\"Enter minimum samples value from 3 or above: \")\n",
    "        algo = input(\"Enter algorithm type from the list: [‘auto’, ‘ball_tree’, ‘kd_tree’, ‘brute’]: \")\n",
    "        preds_gb = DB_Clustering(ep, mns, algo, data_main)\n",
    "        \n",
    "    # Mean Shift\n",
    "            \n",
    "    elif clustering_method == 'MS':\n",
    "\n",
    "        if metric_visuals == True:\n",
    "            metr = input(\"Please input the metric of your choice from ['Davies Bouldin', 'Silhouette', 'Calinski']: \")\n",
    "            display(Mean_Shift_metrics(dim_reduction, metr, data_main))\n",
    "                \n",
    "        b = input(\"Enter bandwidth for Mean Shift: \")\n",
    "        preds_gb = Mean_Shift(b, data_main)\n",
    "            \n",
    "            \n",
    "     # GMM:\n",
    "            \n",
    "    elif clustering_method == 'GMM':\n",
    "\n",
    "        if metric_visuals == True:\n",
    "            metr = input(\"Please input the metric of your choice from ['BIC', 'Davies Bouldin', 'Silhouette', 'Calinski']: \")\n",
    "            display(Gaussian_MM_metrics(dim_reduction, metr, data_main))\n",
    "                \n",
    "        n_compon = input(\"Enter number of components/clusters for GMM: \")\n",
    "        covar = input(\"Enter the covariance type for GMM: \")\n",
    "        preds_gb, weights = GMM(n_compon, str(covar), data_main)\n",
    "    \n",
    "        max_weights = []\n",
    "        for i in weights:\n",
    "            max_weights.append(i.max().round(6))\n",
    "    \n",
    "    if clustering_method == 'GMM':\n",
    "        gb_cluster_yg, gb_cluster_yg_pivot, gb_cluster_yg_2 = cluster_dataframes(preds_gb, GMM=True, max_weights=max_weights)\n",
    "        \n",
    "    else:   \n",
    "        gb_cluster_yg, gb_cluster_yg_pivot = cluster_dataframes(preds_gb)\n",
    "    \n",
    "    if len(np.unique(gb_cluster_yg['Cluster'])) >= 15:\n",
    "        print(\"Too many clusters to show - reduce clusters from the current {} clusters\".format(len(np.unique(gb_cluster_yg['Cluster']))))\n",
    "        return gb_cluster_yg\n",
    "    \n",
    "    else:\n",
    "\n",
    "        gb_cluster_yg['Colors'] = gb_cluster_yg['Cluster'].map(lambda x: color_list[x])\n",
    "        if cluster_bar == True:\n",
    "\n",
    "            cluster_bar_visual(gb_cluster_yg_pivot, snp_included)\n",
    "\n",
    "        if map_plot == True:\n",
    "            Map_cluster(gb_cluster_yg)\n",
    "\n",
    "            \n",
    "        if clustering_method == 'GMM':\n",
    "            gb_cluster_yg_2['Colors'] = gb_cluster_yg['Cluster'].map(lambda x: color_list[x])\n",
    "            df = constituency_clusters(gb_cluster_yg_2, data, GMM=True)\n",
    "            \n",
    "        else:\n",
    "            df = constituency_clusters(gb_cluster_yg, data)\n",
    "\n",
    "\n",
    "        #Define a standard list of KPIs to look at\n",
    "\n",
    "        if heatmap == True:\n",
    "            if snp_included == True:\n",
    "\n",
    "                kpis_gb = ['Pop_Density','2019_Wage', 'HousePricePerWage', '%HousePriceGrowth','%OwnOutright','%OwnWithMort',\n",
    "                      '%PrivateRent','%SocialHousing','%Unemployment', 'UnemploymentChange',\n",
    "                      '%Heavy Industry & Manufacturing', '%Wholesale & Retail',\n",
    "                      '%FS & ICT', '%White', '%Muslim', '%BornUK','%Level4+', '%LeaveVote', 'con%', 'snp%', 'lab%']\n",
    "\n",
    "                kpi_heatmap(kpis_gb, gb_cluster_yg)\n",
    "                \n",
    "            elif snp_included == False:\n",
    "                kpis_gb = ['Pop_Density','2019_Wage', 'HousePricePerWage', '%HousePriceGrowth','%OwnOutright','%OwnWithMort',\n",
    "                '%PrivateRent','%SocialHousing','%Unemployment', 'UnemploymentChange',\n",
    "                '%Heavy Industry & Manufacturing', '%Wholesale & Retail',\n",
    "                '%FS & ICT', '%White', '%Muslim', '%BornUK','%Level4+', '%LeaveVote', 'con%', 'ld%', 'lab%']\n",
    "\n",
    "                kpi_heatmap(kpis_gb, gb_cluster_yg, snp=False)\n",
    "        \n",
    "\n",
    "        return df"
   ]
  },
  {
   "cell_type": "markdown",
   "id": "bb9d3fb6",
   "metadata": {},
   "source": [
    "## Model Results\n",
    "\n",
    "Collectively, we could fit 60 models by combining all the metrics and algorithms where depending on the various decisions we could compare results obtained just altering the algorithm, or the choice of dimensionality reduction. To facilitate this exploration, we developed a function in Python which allows us to easily fit all of the choices just through changing the corresponding arguments: \n"
   ]
  },
  {
   "cell_type": "code",
   "execution_count": 148,
   "id": "a64cdd87",
   "metadata": {
    "tags": [
     "remove_all_output"
    ]
   },
   "outputs": [
    {
     "name": "stdin",
     "output_type": "stream",
     "text": [
      "Please input from the visuals of your choice ['Distortion', 'Silhouette', 'Calinski', 'Davies Bouldin']:  Distortion\n"
     ]
    },
    {
     "data": {
      "image/png": "[encoded data removed]",
      "text/plain": [
       "<Figure size 432x288 with 2 Axes>"
      ]
     },
     "metadata": {},
     "output_type": "display_data"
    },
    {
     "name": "stdin",
     "output_type": "stream",
     "text": [
      "Enter number of clusters:  6\n"
     ]
    },
    {
     "name": "stdout",
     "output_type": "stream",
     "text": [
      "Silhouette Score: 0.4650\n",
      "Calinski Harabasz Score: 833.8581\n",
      "Davies Bouldin Score: 0.6868\n"
     ]
    },
    {
     "data": {
      "text/html": [
       "<table id=\"5cf929c1-259e-4689-9383-862aec6528d3\" class=\"display\"style=\"max-width:100%\"><thead><th>ID</th><th>Constituency</th><th>Region</th><th>seat_types_yg</th><th>Colors</th><th>Cluster</th></thead><tbody><tr><td>Loading... (need <a href=https://mwouts.github.io/itables/troubleshooting.html>help</a>?)</td></tr></tbody></table>\n",
       "<link rel=\"stylesheet\" type=\"text/css\" href=\"https://cdn.datatables.net/1.11.3/css/jquery.dataTables.min.css\">\n",
       "<style> table td {\n",
       "    text-overflow: ellipsis;\n",
       "    overflow: hidden;\n",
       "} </style>\n",
       "<style> table th {\n",
       "    text-overflow: ellipsis;\n",
       "    overflow: hidden;\n",
       "} </style>\n",
       "<script type=\"module\">\n",
       "    // Define the table data\n",
       "    const data = [[\"E14000554\", \"Berwick-upon-Tweed\", \"North East\", \"con safe\", \"#47DBCD\", 1], [\"E14000569\", \"Bishop Auckland\", \"North East\", \"con lab marginal\", \"#2CBDFE\", 0], [\"E14000574\", \"Blaydon\", \"North East\", \"lab safe\", \"#2CBDFE\", 0], [\"E14000575\", \"Blyth Valley\", \"North East\", \"con lab marginal\", \"#2CBDFE\", 0], [\"E14000641\", \"City of Durham\", \"North East\", \"con lab marginal\", \"#016794\", 5], [\"E14000658\", \"Darlington\", \"North East\", \"con lab marginal\", \"#2CBDFE\", 0], [\"E14000677\", \"Easington\", \"North East\", \"lab safe\", \"#2CBDFE\", 0], [\"E14000709\", \"Gateshead\", \"North East\", \"lab safe\", \"#2CBDFE\", 0], [\"E14000733\", \"Hartlepool\", \"North East\", \"con lab marginal\", \"#2CBDFE\", 0], [\"E14000746\", \"Hexham\", \"North East\", \"con safe\", \"#47DBCD\", 1], [\"E14000754\", \"Houghton and Sunderland South\", \"North East\", \"lab safe\", \"#2CBDFE\", 0], [\"E14000765\", \"Jarrow\", \"North East\", \"lab safe\", \"#2CBDFE\", 0], [\"E14000819\", \"Middlesbrough\", \"North East\", \"lab safe\", \"#2CBDFE\", 0], [\"E14000820\", \"Middlesbrough South and East Cleveland\", \"North East\", \"con safe\", \"#2CBDFE\", 0], [\"E14000831\", \"Newcastle upon Tyne Central\", \"North East\", \"lab safe\", \"#016794\", 5], [\"E14000832\", \"Newcastle upon Tyne East\", \"North East\", \"lab safe\", \"#016794\", 5], [\"E14000833\", \"Newcastle upon Tyne North\", \"North East\", \"con lab marginal\", \"#2CBDFE\", 0], [\"E14000840\", \"North Durham\", \"North East\", \"lab safe\", \"#2CBDFE\", 0], [\"E14000853\", \"North Tyneside\", \"North East\", \"lab safe\", \"#2CBDFE\", 0], [\"E14000856\", \"North West Durham\", \"North East\", \"con lab marginal\", \"#2CBDFE\", 0], [\"E14000891\", \"Redcar\", \"North East\", \"con lab marginal\", \"#2CBDFE\", 0], [\"E14000915\", \"Sedgefield\", \"North East\", \"con lab marginal\", \"#2CBDFE\", 0], [\"E14000944\", \"South Shields\", \"North East\", \"lab safe\", \"#2CBDFE\", 0], [\"E14000970\", \"Stockton North\", \"North East\", \"con lab marginal\", \"#2CBDFE\", 0], [\"E14000971\", \"Stockton South\", \"North East\", \"con lab marginal\", \"#2CBDFE\", 0], [\"E14000982\", \"Sunderland Central\", \"North East\", \"lab safe\", \"#2CBDFE\", 0], [\"E14001006\", \"Tynemouth\", \"North East\", \"con lab marginal\", \"#47DBCD\", 1], [\"E14001014\", \"Wansbeck\", \"North East\", \"con lab marginal\", \"#2CBDFE\", 0], [\"E14001020\", \"Washington and Sunderland West\", \"North East\", \"lab safe\", \"#2CBDFE\", 0], [\"E14000532\", \"Altrincham and Sale West\", \"North West\", \"con safe\", \"#F5B14C\", 2], [\"E14000537\", \"Ashton-under-Lyne\", \"North West\", \"con lab marginal\", \"#2CBDFE\", 0], [\"E14000543\", \"Barrow and Furness\", \"North West\", \"con safe\", \"#2CBDFE\", 0], [\"E14000559\", \"Birkenhead\", \"North West\", \"lab safe\", \"#2CBDFE\", 0], [\"E14000570\", \"Blackburn\", \"North West\", \"lab safe\", \"#2CBDFE\", 0], [\"E14000571\", \"Blackley and Broughton\", \"North West\", \"lab safe\", \"#2CBDFE\", 0], [\"E14000572\", \"Blackpool North and Cleveleys\", \"North West\", \"con safe\", \"#2CBDFE\", 0], [\"E14000573\", \"Blackpool South\", \"North West\", \"con lab marginal\", \"#2CBDFE\", 0], [\"E14000578\", \"Bolton North East\", \"North West\", \"con lab marginal\", \"#2CBDFE\", 0], [\"E14000579\", \"Bolton South East\", \"North West\", \"lab safe\", \"#2CBDFE\", 0], [\"E14000580\", \"Bolton West\", \"North West\", \"con safe\", \"#2CBDFE\", 0], [\"E14000581\", \"Bootle\", \"North West\", \"lab safe\", \"#2CBDFE\", 0], [\"E14000609\", \"Burnley\", \"North West\", \"con lab marginal\", \"#2CBDFE\", 0], [\"E14000611\", \"Bury North\", \"North West\", \"con lab marginal\", \"#2CBDFE\", 0], [\"E14000612\", \"Bury South\", \"North West\", \"con lab marginal\", \"#2CBDFE\", 0], [\"E14000620\", \"Carlisle\", \"North West\", \"con safe\", \"#2CBDFE\", 0], [\"E14000627\", \"Cheadle\", \"North West\", \"con ld marginal\", \"#F5B14C\", 2], [\"E14000640\", \"City of Chester\", \"North West\", \"con lab marginal\", \"#47DBCD\", 1], [\"E14000646\", \"Congleton\", \"North West\", \"con safe\", \"#47DBCD\", 1], [\"E14000647\", \"Copeland\", \"North West\", \"con safe\", \"#2CBDFE\", 0], [\"E14000653\", \"Crewe and Nantwich\", \"North West\", \"con lab marginal\", \"#2CBDFE\", 0], [\"E14000661\", \"Denton and Reddish\", \"North West\", \"lab safe\", \"#2CBDFE\", 0], [\"E14000686\", \"Eddisbury\", \"North West\", \"con safe\", \"#47DBCD\", 1], [\"E14000688\", \"Ellesmere Port and Neston\", \"North West\", \"con lab marginal\", \"#2CBDFE\", 0], [\"E14000706\", \"Fylde\", \"North West\", \"con safe\", \"#47DBCD\", 1], [\"E14000708\", \"Garston and Halewood\", \"North West\", \"lab safe\", \"#2CBDFE\", 0], [\"E14000725\", \"Halton\", \"North West\", \"lab safe\", \"#2CBDFE\", 0], [\"E14000738\", \"Hazel Grove\", \"North West\", \"con ld marginal\", \"#F5B14C\", 2], [\"E14000747\", \"Heywood and Middleton\", \"North West\", \"con lab marginal\", \"#2CBDFE\", 0], [\"E14000758\", \"Hyndburn\", \"North West\", \"con lab marginal\", \"#2CBDFE\", 0], [\"E14000775\", \"Knowsley\", \"North West\", \"lab safe\", \"#2CBDFE\", 0], [\"E14000776\", \"Lancaster and Fleetwood\", \"North West\", \"con lab marginal\", \"#016794\", 5], [\"E14000785\", \"Leigh\", \"North West\", \"con lab marginal\", \"#2CBDFE\", 0], [\"E14000793\", \"Liverpool, Riverside\", \"North West\", \"lab safe\", \"#016794\", 5], [\"E14000794\", \"Liverpool, Walton\", \"North West\", \"lab safe\", \"#2CBDFE\", 0], [\"E14000795\", \"Liverpool, Wavertree\", \"North West\", \"lab safe\", \"#016794\", 5], [\"E14000796\", \"Liverpool, West Derby\", \"North West\", \"lab safe\", \"#2CBDFE\", 0], [\"E14000802\", \"Macclesfield\", \"North West\", \"con safe\", \"#F5B14C\", 2], [\"E14000805\", \"Makerfield\", \"North West\", \"con lab marginal\", \"#2CBDFE\", 0], [\"E14000807\", \"Manchester Central\", \"North West\", \"lab safe\", \"#016794\", 5], [\"E14000808\", \"Manchester, Gorton\", \"North West\", \"lab safe\", \"#016794\", 5], [\"E14000809\", \"Manchester, Withington\", \"North West\", \"lab safe\", \"#016794\", 5], [\"E14000825\", \"Morecambe and Lunesdale\", \"North West\", \"con lab marginal\", \"#2CBDFE\", 0], [\"E14000870\", \"Oldham East and Saddleworth\", \"North West\", \"con lab marginal\", \"#2CBDFE\", 0], [\"E14000871\", \"Oldham West and Royton\", \"North West\", \"lab safe\", \"#2CBDFE\", 0], [\"E14000875\", \"Pendle\", \"North West\", \"con safe\", \"#2CBDFE\", 0], [\"E14000877\", \"Penrith and The Border\", \"North West\", \"con safe\", \"#47DBCD\", 1], [\"E14000885\", \"Preston\", \"North West\", \"lab safe\", \"#016794\", 5], [\"E14000894\", \"Ribble Valley\", \"North West\", \"con safe\", \"#47DBCD\", 1], [\"E14000897\", \"Rochdale\", \"North West\", \"lab safe\", \"#2CBDFE\", 0], [\"E14000902\", \"Rossendale and Darwen\", \"North West\", \"con safe\", \"#2CBDFE\", 0], [\"E14000911\", \"Salford and Eccles\", \"North West\", \"lab safe\", \"#016794\", 5], [\"E14000916\", \"Sefton Central\", \"North West\", \"lab safe\", \"#47DBCD\", 1], [\"E14000943\", \"South Ribble\", \"North West\", \"con safe\", \"#47DBCD\", 1], [\"E14000958\", \"Southport\", \"North West\", \"con safe\", \"#47DBCD\", 1], [\"E14000962\", \"St Helens North\", \"North West\", \"lab safe\", \"#2CBDFE\", 0], [\"E14000963\", \"St Helens South and Whiston\", \"North West\", \"lab safe\", \"#2CBDFE\", 0], [\"E14000967\", \"Stalybridge and Hyde\", \"North West\", \"con lab marginal\", \"#2CBDFE\", 0], [\"E14000969\", \"Stockport\", \"North West\", \"lab safe\", \"#016794\", 5], [\"E14000979\", \"Stretford and Urmston\", \"North West\", \"lab safe\", \"#016794\", 5], [\"E14000987\", \"Tatton\", \"North West\", \"con safe\", \"#F5B14C\", 2], [\"E14001010\", \"Wallasey\", \"North West\", \"lab safe\", \"#2CBDFE\", 0], [\"E14001017\", \"Warrington North\", \"North West\", \"con lab marginal\", \"#2CBDFE\", 0], [\"E14001018\", \"Warrington South\", \"North West\", \"con lab marginal\", \"#2CBDFE\", 0], [\"E14001024\", \"Weaver Vale\", \"North West\", \"con lab marginal\", \"#2CBDFE\", 0], [\"E14001033\", \"West Lancashire\", \"North West\", \"con lab marginal\", \"#2CBDFE\", 0], [\"E14001037\", \"Westmorland and Lonsdale\", \"North West\", \"con ld marginal\", \"#47DBCD\", 1], [\"E14001039\", \"Wigan\", \"North West\", \"con lab marginal\", \"#2CBDFE\", 0], [\"E14001043\", \"Wirral South\", \"North West\", \"con lab marginal\", \"#47DBCD\", 1], [\"E14001044\", \"Wirral West\", \"North West\", \"con lab marginal\", \"#47DBCD\", 1], [\"E14001053\", \"Workington\", \"North West\", \"con lab marginal\", \"#2CBDFE\", 0], [\"E14001054\", \"Worsley and Eccles South\", \"North West\", \"con lab marginal\", \"#2CBDFE\", 0], [\"E14001057\", \"Wyre and Preston North\", \"North West\", \"con safe\", \"#47DBCD\", 1], [\"E14001059\", \"Wythenshawe and Sale East\", \"North West\", \"lab safe\", \"#016794\", 5], [\"E14000541\", \"Barnsley Central\", \"Yorkshire and The Humber\", \"lab safe\", \"#2CBDFE\", 0], [\"E14000542\", \"Barnsley East\", \"Yorkshire and The Humber\", \"con lab marginal\", \"#2CBDFE\", 0], [\"E14000548\", \"Batley and Spen\", \"Yorkshire and The Humber\", \"con lab marginal\", \"#2CBDFE\", 0], [\"E14000556\", \"Beverley and Holderness\", \"Yorkshire and The Humber\", \"con safe\", \"#47DBCD\", 1], [\"E14000587\", \"Bradford East\", \"Yorkshire and The Humber\", \"lab safe\", \"#2CBDFE\", 0], [\"E14000588\", \"Bradford South\", \"Yorkshire and The Humber\", \"con lab marginal\", \"#2CBDFE\", 0], [\"E14000589\", \"Bradford West\", \"Yorkshire and The Humber\", \"lab safe\", \"#2CBDFE\", 0], [\"E14000596\", \"Brigg and Goole\", \"Yorkshire and The Humber\", \"con safe\", \"#2CBDFE\", 0], [\"E14000614\", \"Calder Valley\", \"Yorkshire and The Humber\", \"con lab marginal\", \"#47DBCD\", 1], [\"E14000643\", \"Cleethorpes\", \"Yorkshire and The Humber\", \"con safe\", \"#2CBDFE\", 0], [\"E14000645\", \"Colne Valley\", \"Yorkshire and The Humber\", \"con lab marginal\", \"#47DBCD\", 1], [\"E14000666\", \"Dewsbury\", \"Yorkshire and The Humber\", \"con lab marginal\", \"#2CBDFE\", 0], [\"E14000667\", \"Don Valley\", \"Yorkshire and The Humber\", \"con lab marginal\", \"#2CBDFE\", 0], [\"E14000668\", \"Doncaster Central\", \"Yorkshire and The Humber\", \"con lab marginal\", \"#2CBDFE\", 0], [\"E14000669\", \"Doncaster North\", \"Yorkshire and The Humber\", \"con lab marginal\", \"#2CBDFE\", 0], [\"E14000683\", \"East Yorkshire\", \"Yorkshire and The Humber\", \"con safe\", \"#47DBCD\", 1], [\"E14000689\", \"Elmet and Rothwell\", \"Yorkshire and The Humber\", \"con safe\", \"#47DBCD\", 1], [\"E14000716\", \"Great Grimsby\", \"Yorkshire and The Humber\", \"con lab marginal\", \"#2CBDFE\", 0], [\"E14000723\", \"Halifax\", \"Yorkshire and The Humber\", \"con lab marginal\", \"#2CBDFE\", 0], [\"E14000724\", \"Haltemprice and Howden\", \"Yorkshire and The Humber\", \"con safe\", \"#47DBCD\", 1], [\"E14000730\", \"Harrogate and Knaresborough\", \"Yorkshire and The Humber\", \"con safe\", \"#F5B14C\", 2], [\"E14000740\", \"Hemsworth\", \"Yorkshire and The Humber\", \"con lab marginal\", \"#2CBDFE\", 0], [\"E14000756\", \"Huddersfield\", \"Yorkshire and The Humber\", \"con lab marginal\", \"#016794\", 5], [\"E14000766\", \"Keighley\", \"Yorkshire and The Humber\", \"con lab marginal\", \"#2CBDFE\", 0], [\"E14000771\", \"Kingston upon Hull East\", \"Yorkshire and The Humber\", \"con lab marginal\", \"#2CBDFE\", 0], [\"E14000772\", \"Kingston upon Hull North\", \"Yorkshire and The Humber\", \"lab safe\", \"#2CBDFE\", 0], [\"E14000773\", \"Kingston upon Hull West and Hessle\", \"Yorkshire and The Humber\", \"con lab marginal\", \"#2CBDFE\", 0], [\"E14000777\", \"Leeds Central\", \"Yorkshire and The Humber\", \"lab safe\", \"#016794\", 5], [\"E14000778\", \"Leeds East\", \"Yorkshire and The Humber\", \"lab safe\", \"#2CBDFE\", 0], [\"E14000779\", \"Leeds North East\", \"Yorkshire and The Humber\", \"lab safe\", \"#016794\", 5], [\"E14000780\", \"Leeds North West\", \"Yorkshire and The Humber\", \"lab safe\", \"#016794\", 5], [\"E14000781\", \"Leeds West\", \"Yorkshire and The Humber\", \"lab safe\", \"#016794\", 5], [\"E14000826\", \"Morley and Outwood\", \"Yorkshire and The Humber\", \"con safe\", \"#2CBDFE\", 0], [\"E14000836\", \"Normanton, Pontefract and Castleford\", \"Yorkshire and The Humber\", \"con lab marginal\", \"#2CBDFE\", 0], [\"E14000876\", \"Penistone and Stocksbridge\", \"Yorkshire and The Humber\", \"con lab marginal\", \"#2CBDFE\", 0], [\"E14000886\", \"Pudsey\", \"Yorkshire and The Humber\", \"con lab marginal\", \"#47DBCD\", 1], [\"E14000895\", \"Richmond (Yorks)\", \"Yorkshire and The Humber\", \"con safe\", \"#47DBCD\", 1], [\"E14000903\", \"Rother Valley\", \"Yorkshire and The Humber\", \"con lab marginal\", \"#2CBDFE\", 0], [\"E14000904\", \"Rotherham\", \"Yorkshire and The Humber\", \"con lab marginal\", \"#2CBDFE\", 0], [\"E14000913\", \"Scarborough and Whitby\", \"Yorkshire and The Humber\", \"con safe\", \"#47DBCD\", 1], [\"E14000914\", \"Scunthorpe\", \"Yorkshire and The Humber\", \"con lab marginal\", \"#2CBDFE\", 0], [\"E14000917\", \"Selby and Ainsty\", \"Yorkshire and The Humber\", \"con safe\", \"#47DBCD\", 1], [\"E14000919\", \"Sheffield Central\", \"Yorkshire and The Humber\", \"lab safe\", \"#016794\", 5], [\"E14000920\", \"Sheffield South East\", \"Yorkshire and The Humber\", \"con lab marginal\", \"#2CBDFE\", 0], [\"E14000921\", \"Sheffield, Brightside and Hillsborough\", \"Yorkshire and The Humber\", \"lab safe\", \"#2CBDFE\", 0], [\"E14000922\", \"Sheffield, Hallam\", \"Yorkshire and The Humber\", \"lab ld marginal\", \"#F5B14C\", 2], [\"E14000923\", \"Sheffield, Heeley\", \"Yorkshire and The Humber\", \"lab safe\", \"#2CBDFE\", 0], [\"E14000925\", \"Shipley\", \"Yorkshire and The Humber\", \"con lab marginal\", \"#47DBCD\", 1], [\"E14000928\", \"Skipton and Ripon\", \"Yorkshire and The Humber\", \"con safe\", \"#47DBCD\", 1], [\"E14000993\", \"Thirsk and Malton\", \"Yorkshire and The Humber\", \"con safe\", \"#47DBCD\", 1], [\"E14001009\", \"Wakefield\", \"Yorkshire and The Humber\", \"con lab marginal\", \"#2CBDFE\", 0], [\"E14001028\", \"Wentworth and Dearne\", \"Yorkshire and The Humber\", \"con lab marginal\", \"#2CBDFE\", 0], [\"E14001061\", \"York Central\", \"Yorkshire and The Humber\", \"lab safe\", \"#016794\", 5], [\"E14001062\", \"York Outer\", \"Yorkshire and The Humber\", \"con safe\", \"#47DBCD\", 1], [\"E14000533\", \"Amber Valley\", \"East Midlands\", \"con safe\", \"#2CBDFE\", 0], [\"E14000535\", \"Ashfield\", \"East Midlands\", \"con lab marginal\", \"#2CBDFE\", 0], [\"E14000546\", \"Bassetlaw\", \"East Midlands\", \"con lab marginal\", \"#2CBDFE\", 0], [\"E14000577\", \"Bolsover\", \"East Midlands\", \"con lab marginal\", \"#2CBDFE\", 0], [\"E14000582\", \"Boston and Skegness\", \"East Midlands\", \"con safe\", \"#47DBCD\", 1], [\"E14000583\", \"Bosworth\", \"East Midlands\", \"con safe\", \"#2CBDFE\", 0], [\"E14000607\", \"Broxtowe\", \"East Midlands\", \"con lab marginal\", \"#47DBCD\", 1], [\"E14000625\", \"Charnwood\", \"East Midlands\", \"con safe\", \"#47DBCD\", 1], [\"E14000632\", \"Chesterfield\", \"East Midlands\", \"con lab marginal\", \"#2CBDFE\", 0], [\"E14000648\", \"Corby\", \"East Midlands\", \"con safe\", \"#2CBDFE\", 0], [\"E14000660\", \"Daventry\", \"East Midlands\", \"con safe\", \"#F5B14C\", 2], [\"E14000662\", \"Derby North\", \"East Midlands\", \"con lab marginal\", \"#016794\", 5], [\"E14000663\", \"Derby South\", \"East Midlands\", \"con lab marginal\", \"#2CBDFE\", 0], [\"E14000664\", \"Derbyshire Dales\", \"East Midlands\", \"con safe\", \"#47DBCD\", 1], [\"E14000695\", \"Erewash\", \"East Midlands\", \"con safe\", \"#2CBDFE\", 0], [\"E14000707\", \"Gainsborough\", \"East Midlands\", \"con safe\", \"#47DBCD\", 1], [\"E14000710\", \"Gedling\", \"East Midlands\", \"con lab marginal\", \"#F5B14C\", 2], [\"E14000714\", \"Grantham and Stamford\", \"East Midlands\", \"con safe\", \"#47DBCD\", 1], [\"E14000728\", \"Harborough\", \"East Midlands\", \"con safe\", \"#47DBCD\", 1], [\"E14000748\", \"High Peak\", \"East Midlands\", \"con lab marginal\", \"#47DBCD\", 1], [\"E14000769\", \"Kettering\", \"East Midlands\", \"con safe\", \"#2CBDFE\", 0], [\"E14000782\", \"Leicester East\", \"East Midlands\", \"lab safe\", \"#661D98\", 4], [\"E14000783\", \"Leicester South\", \"East Midlands\", \"lab safe\", \"#016794\", 5], [\"E14000784\", \"Leicester West\", \"East Midlands\", \"lab safe\", \"#2CBDFE\", 0], [\"E14000792\", \"Lincoln\", \"East Midlands\", \"con lab marginal\", \"#016794\", 5], [\"E14000797\", \"Loughborough\", \"East Midlands\", \"con lab marginal\", \"#016794\", 5], [\"E14000798\", \"Louth and Horncastle\", \"East Midlands\", \"con safe\", \"#47DBCD\", 1], [\"E14000810\", \"Mansfield\", \"East Midlands\", \"con safe\", \"#2CBDFE\", 0], [\"E14000814\", \"Mid Derbyshire\", \"East Midlands\", \"con safe\", \"#47DBCD\", 1], [\"E14000829\", \"Newark\", \"East Midlands\", \"con safe\", \"#47DBCD\", 1], [\"E14000843\", \"North East Derbyshire\", \"East Midlands\", \"con safe\", \"#2CBDFE\", 0], [\"E14000858\", \"North West Leicestershire\", \"East Midlands\", \"con safe\", \"#2CBDFE\", 0], [\"E14000861\", \"Northampton North\", \"East Midlands\", \"con lab marginal\", \"#F5B14C\", 2], [\"E14000862\", \"Northampton South\", \"East Midlands\", \"con safe\", \"#F5B14C\", 2], [\"E14000865\", \"Nottingham East\", \"East Midlands\", \"lab safe\", \"#016794\", 5], [\"E14000866\", \"Nottingham North\", \"East Midlands\", \"lab safe\", \"#2CBDFE\", 0], [\"E14000867\", \"Nottingham South\", \"East Midlands\", \"lab safe\", \"#016794\", 5], [\"E14000908\", \"Rushcliffe\", \"East Midlands\", \"con safe\", \"#47DBCD\", 1], [\"E14000909\", \"Rutland and Melton\", \"East Midlands\", \"con safe\", \"#47DBCD\", 1], [\"E14000924\", \"Sherwood\", \"East Midlands\", \"con safe\", \"#2CBDFE\", 0], [\"E14000929\", \"Sleaford and North Hykeham\", \"East Midlands\", \"con safe\", \"#47DBCD\", 1], [\"E14000935\", \"South Derbyshire\", \"East Midlands\", \"con safe\", \"#2CBDFE\", 0], [\"E14000939\", \"South Holland and The Deepings\", \"East Midlands\", \"con safe\", \"#47DBCD\", 1], [\"E14000940\", \"South Leicestershire\", \"East Midlands\", \"con safe\", \"#2CBDFE\", 0], [\"E14000942\", \"South Northamptonshire\", \"East Midlands\", \"con safe\", \"#F5B14C\", 2], [\"E14001025\", \"Wellingborough\", \"East Midlands\", \"con safe\", \"#F5B14C\", 2], [\"E14000531\", \"Aldridge-Brownhills\", \"West Midlands\", \"con safe\", \"#2CBDFE\", 0], [\"E14000560\", \"Birmingham, Edgbaston\", \"West Midlands\", \"con lab marginal\", \"#016794\", 5], [\"E14000561\", \"Birmingham, Erdington\", \"West Midlands\", \"con lab marginal\", \"#2CBDFE\", 0], [\"E14000562\", \"Birmingham, Hall Green\", \"West Midlands\", \"lab safe\", \"#2CBDFE\", 0], [\"E14000563\", \"Birmingham, Hodge Hill\", \"West Midlands\", \"lab safe\", \"#2CBDFE\", 0], [\"E14000564\", \"Birmingham, Ladywood\", \"West Midlands\", \"lab safe\", \"#016794\", 5], [\"E14000565\", \"Birmingham, Northfield\", \"West Midlands\", \"con lab marginal\", \"#2CBDFE\", 0], [\"E14000566\", \"Birmingham, Perry Barr\", \"West Midlands\", \"lab safe\", \"#2CBDFE\", 0], [\"E14000567\", \"Birmingham, Selly Oak\", \"West Midlands\", \"lab safe\", \"#016794\", 5], [\"E14000568\", \"Birmingham, Yardley\", \"West Midlands\", \"lab safe\", \"#2CBDFE\", 0], [\"E14000605\", \"Bromsgrove\", \"West Midlands\", \"con safe\", \"#47DBCD\", 1], [\"E14000610\", \"Burton\", \"West Midlands\", \"con safe\", \"#2CBDFE\", 0], [\"E14000618\", \"Cannock Chase\", \"West Midlands\", \"con safe\", \"#2CBDFE\", 0], [\"E14000649\", \"Coventry North East\", \"West Midlands\", \"lab safe\", \"#2CBDFE\", 0], [\"E14000650\", \"Coventry North West\", \"West Midlands\", \"con lab marginal\", \"#016794\", 5], [\"E14000651\", \"Coventry South\", \"West Midlands\", \"con lab marginal\", \"#016794\", 5], [\"E14000671\", \"Dudley North\", \"West Midlands\", \"con lab marginal\", \"#2CBDFE\", 0], [\"E14000672\", \"Dudley South\", \"West Midlands\", \"con safe\", \"#2CBDFE\", 0], [\"E14000722\", \"Halesowen and Rowley Regis\", \"West Midlands\", \"con safe\", \"#2CBDFE\", 0], [\"E14000743\", \"Hereford and South Herefordshire\", \"West Midlands\", \"con safe\", \"#47DBCD\", 1], [\"E14000767\", \"Kenilworth and Southam\", \"West Midlands\", \"con safe\", \"#F5B14C\", 2], [\"E14000791\", \"Lichfield\", \"West Midlands\", \"con safe\", \"#47DBCD\", 1], [\"E14000799\", \"Ludlow\", \"West Midlands\", \"con safe\", \"#47DBCD\", 1], [\"E14000812\", \"Meriden\", \"West Midlands\", \"con safe\", \"#2CBDFE\", 0], [\"E14000818\", \"Mid Worcestershire\", \"West Midlands\", \"con safe\", \"#47DBCD\", 1], [\"E14000834\", \"Newcastle-under-Lyme\", \"West Midlands\", \"con lab marginal\", \"#2CBDFE\", 0], [\"E14000847\", \"North Herefordshire\", \"West Midlands\", \"con safe\", \"#47DBCD\", 1], [\"E14000849\", \"North Shropshire\", \"West Midlands\", \"con safe\", \"#47DBCD\", 1], [\"E14000854\", \"North Warwickshire\", \"West Midlands\", \"con safe\", \"#2CBDFE\", 0], [\"E14000868\", \"Nuneaton\", \"West Midlands\", \"con safe\", \"#2CBDFE\", 0], [\"E14000892\", \"Redditch\", \"West Midlands\", \"con safe\", \"#2CBDFE\", 0], [\"E14000905\", \"Rugby\", \"West Midlands\", \"con safe\", \"#2CBDFE\", 0], [\"E14000926\", \"Shrewsbury and Atcham\", \"West Midlands\", \"con safe\", \"#47DBCD\", 1], [\"E14000931\", \"Solihull\", \"West Midlands\", \"con safe\", \"#47DBCD\", 1], [\"E14000945\", \"South Staffordshire\", \"West Midlands\", \"con safe\", \"#47DBCD\", 1], [\"E14000965\", \"Stafford\", \"West Midlands\", \"con safe\", \"#47DBCD\", 1], [\"E14000966\", \"Staffordshire Moorlands\", \"West Midlands\", \"con safe\", \"#47DBCD\", 1], [\"E14000972\", \"Stoke-on-Trent Central\", \"West Midlands\", \"con lab marginal\", \"#2CBDFE\", 0], [\"E14000973\", \"Stoke-on-Trent North\", \"West Midlands\", \"con lab marginal\", \"#2CBDFE\", 0], [\"E14000974\", \"Stoke-on-Trent South\", \"West Midlands\", \"con safe\", \"#2CBDFE\", 0], [\"E14000975\", \"Stone\", \"West Midlands\", \"con safe\", \"#47DBCD\", 1], [\"E14000976\", \"Stourbridge\", \"West Midlands\", \"con safe\", \"#2CBDFE\", 0], [\"E14000977\", \"Stratford-on-Avon\", \"West Midlands\", \"con safe\", \"#F5B14C\", 2], [\"E14000985\", \"Sutton Coldfield\", \"West Midlands\", \"con safe\", \"#47DBCD\", 1], [\"E14000986\", \"Tamworth\", \"West Midlands\", \"con safe\", \"#2CBDFE\", 0], [\"E14000989\", \"Telford\", \"West Midlands\", \"con safe\", \"#2CBDFE\", 0], [\"E14000992\", \"The Wrekin\", \"West Midlands\", \"con safe\", \"#47DBCD\", 1], [\"E14001011\", \"Walsall North\", \"West Midlands\", \"con safe\", \"#2CBDFE\", 0], [\"E14001012\", \"Walsall South\", \"West Midlands\", \"con lab marginal\", \"#2CBDFE\", 0], [\"E14001016\", \"Warley\", \"West Midlands\", \"lab safe\", \"#2CBDFE\", 0], [\"E14001019\", \"Warwick and Leamington\", \"West Midlands\", \"con lab marginal\", \"#016794\", 5], [\"E14001029\", \"West Bromwich East\", \"West Midlands\", \"con lab marginal\", \"#2CBDFE\", 0], [\"E14001030\", \"West Bromwich West\", \"West Midlands\", \"con lab marginal\", \"#2CBDFE\", 0], [\"E14001035\", \"West Worcestershire\", \"West Midlands\", \"con safe\", \"#47DBCD\", 1], [\"E14001049\", \"Wolverhampton North East\", \"West Midlands\", \"con lab marginal\", \"#2CBDFE\", 0], [\"E14001050\", \"Wolverhampton South East\", \"West Midlands\", \"con lab marginal\", \"#2CBDFE\", 0], [\"E14001051\", \"Wolverhampton South West\", \"West Midlands\", \"con lab marginal\", \"#016794\", 5], [\"E14001052\", \"Worcester\", \"West Midlands\", \"con safe\", \"#2CBDFE\", 0], [\"E14001058\", \"Wyre Forest\", \"West Midlands\", \"con safe\", \"#2CBDFE\", 0], [\"E14000544\", \"Basildon and Billericay\", \"East of England\", \"con safe\", \"#F5B14C\", 2], [\"E14000552\", \"Bedford\", \"East of England\", \"con lab marginal\", \"#F5B14C\", 2], [\"E14000590\", \"Braintree\", \"East of England\", \"con safe\", \"#F5B14C\", 2], [\"E14000594\", \"Brentwood and Ongar\", \"East of England\", \"con safe\", \"#F5B14C\", 2], [\"E14000603\", \"Broadland\", \"East of England\", \"con safe\", \"#47DBCD\", 1], [\"E14000606\", \"Broxbourne\", \"East of England\", \"con safe\", \"#F5B14C\", 2], [\"E14000613\", \"Bury St Edmunds\", \"East of England\", \"con safe\", \"#47DBCD\", 1], [\"E14000617\", \"Cambridge\", \"East of England\", \"lab safe\", \"#016794\", 5], [\"E14000622\", \"Castle Point\", \"East of England\", \"con safe\", \"#F5B14C\", 2], [\"E14000624\", \"Central Suffolk and North Ipswich\", \"East of England\", \"con safe\", \"#47DBCD\", 1], [\"E14000628\", \"Chelmsford\", \"East of England\", \"con safe\", \"#F5B14C\", 2], [\"E14000642\", \"Clacton\", \"East of England\", \"con safe\", \"#47DBCD\", 1], [\"E14000644\", \"Colchester\", \"East of England\", \"con safe\", \"#F5B14C\", 2], [\"E14000693\", \"Epping Forest\", \"East of England\", \"con safe\", \"#F5B14C\", 2], [\"E14000717\", \"Great Yarmouth\", \"East of England\", \"con safe\", \"#47DBCD\", 1], [\"E14000729\", \"Harlow\", \"East of England\", \"con safe\", \"#F5B14C\", 2], [\"E14000734\", \"Harwich and North Essex\", \"East of England\", \"con safe\", \"#47DBCD\", 1], [\"E14000739\", \"Hemel Hempstead\", \"East of England\", \"con safe\", \"#F5B14C\", 2], [\"E14000744\", \"Hertford and Stortford\", \"East of England\", \"con safe\", \"#F5B14C\", 2], [\"E14000745\", \"Hertsmere\", \"East of England\", \"con safe\", \"#F5B14C\", 2], [\"E14000749\", \"Hitchin and Harpenden\", \"East of England\", \"con safe\", \"#F5B14C\", 2], [\"E14000757\", \"Huntingdon\", \"East of England\", \"con safe\", \"#F5B14C\", 2], [\"E14000761\", \"Ipswich\", \"East of England\", \"con lab marginal\", \"#F5B14C\", 2], [\"E14000800\", \"Luton North\", \"East of England\", \"con lab marginal\", \"#661D98\", 4], [\"E14000801\", \"Luton South\", \"East of England\", \"lab safe\", \"#661D98\", 4], [\"E14000806\", \"Maldon\", \"East of England\", \"con safe\", \"#F5B14C\", 2], [\"E14000813\", \"Mid Bedfordshire\", \"East of England\", \"con safe\", \"#F5B14C\", 2], [\"E14000816\", \"Mid Norfolk\", \"East of England\", \"con safe\", \"#47DBCD\", 1], [\"E14000841\", \"North East Bedfordshire\", \"East of England\", \"con safe\", \"#F5B14C\", 2], [\"E14000842\", \"North East Cambridgeshire\", \"East of England\", \"con safe\", \"#47DBCD\", 1], [\"E14000845\", \"North East Hertfordshire\", \"East of England\", \"con safe\", \"#F5B14C\", 2], [\"E14000848\", \"North Norfolk\", \"East of England\", \"con ld marginal\", \"#47DBCD\", 1], [\"E14000855\", \"North West Cambridgeshire\", \"East of England\", \"con safe\", \"#F5B14C\", 2], [\"E14000859\", \"North West Norfolk\", \"East of England\", \"con safe\", \"#47DBCD\", 1], [\"E14000863\", \"Norwich North\", \"East of England\", \"con lab marginal\", \"#2CBDFE\", 0], [\"E14000864\", \"Norwich South\", \"East of England\", \"lab safe\", \"#016794\", 5], [\"E14000878\", \"Peterborough\", \"East of England\", \"con lab marginal\", \"#F5B14C\", 2], [\"E14000888\", \"Rayleigh and Wickford\", \"East of England\", \"con safe\", \"#F5B14C\", 2], [\"E14000899\", \"Rochford and Southend East\", \"East of England\", \"con safe\", \"#F5B14C\", 2], [\"E14000910\", \"Saffron Walden\", \"East of England\", \"con safe\", \"#F5B14C\", 2], [\"E14000933\", \"South Basildon and East Thurrock\", \"East of England\", \"con safe\", \"#F5B14C\", 2], [\"E14000934\", \"South Cambridgeshire\", \"East of England\", \"con ld marginal\", \"#F5B14C\", 2], [\"E14000937\", \"South East Cambridgeshire\", \"East of England\", \"con safe\", \"#F5B14C\", 2], [\"E14000941\", \"South Norfolk\", \"East of England\", \"con safe\", \"#47DBCD\", 1], [\"E14000946\", \"South Suffolk\", \"East of England\", \"con safe\", \"#47DBCD\", 1], [\"E14000949\", \"South West Bedfordshire\", \"East of England\", \"con safe\", \"#F5B14C\", 2], [\"E14000951\", \"South West Hertfordshire\", \"East of England\", \"con safe\", \"#F5B14C\", 2], [\"E14000952\", \"South West Norfolk\", \"East of England\", \"con safe\", \"#47DBCD\", 1], [\"E14000957\", \"Southend West\", \"East of England\", \"con safe\", \"#F5B14C\", 2], [\"E14000960\", \"St Albans\", \"East of England\", \"con ld marginal\", \"#F5B14C\", 2], [\"E14000968\", \"Stevenage\", \"East of England\", \"con safe\", \"#F5B14C\", 2], [\"E14000981\", \"Suffolk Coastal\", \"East of England\", \"con safe\", \"#47DBCD\", 1], [\"E14000995\", \"Thurrock\", \"East of England\", \"con safe\", \"#F5B14C\", 2], [\"E14001021\", \"Watford\", \"East of England\", \"con safe\", \"#661D98\", 4], [\"E14001022\", \"Waveney\", \"East of England\", \"con safe\", \"#47DBCD\", 1], [\"E14001027\", \"Welwyn Hatfield\", \"East of England\", \"con safe\", \"#F5B14C\", 2], [\"E14001034\", \"West Suffolk\", \"East of England\", \"con safe\", \"#47DBCD\", 1], [\"E14001045\", \"Witham\", \"East of England\", \"con safe\", \"#F5B14C\", 2], [\"E14000540\", \"Barking\", \"London\", \"lab safe\", \"#661D98\", 4], [\"E14000549\", \"Battersea\", \"London\", \"con lab marginal\", \"#661D98\", 4], [\"E14000551\", \"Beckenham\", \"London\", \"con safe\", \"#F5B14C\", 2], [\"E14000553\", \"Bermondsey and Old Southwark\", \"London\", \"lab safe\", \"#661D98\", 4], [\"E14000555\", \"Bethnal Green and Bow\", \"London\", \"lab safe\", \"#661D98\", 4], [\"E14000558\", \"Bexleyheath and Crayford\", \"London\", \"con safe\", \"#F5B14C\", 2], [\"E14000591\", \"Brent Central\", \"London\", \"lab safe\", \"#661D98\", 4], [\"E14000592\", \"Brent North\", \"London\", \"lab safe\", \"#661D98\", 4], [\"E14000593\", \"Brentford and Isleworth\", \"London\", \"con lab marginal\", \"#661D98\", 4], [\"E14000604\", \"Bromley and Chislehurst\", \"London\", \"con safe\", \"#F5B14C\", 2], [\"E14000615\", \"Camberwell and Peckham\", \"London\", \"lab safe\", \"#661D98\", 4], [\"E14000621\", \"Carshalton and Wallington\", \"London\", \"con ld marginal\", \"#F5B14C\", 2], [\"E14000629\", \"Chelsea and Fulham\", \"London\", \"con ld marginal\", \"#661D98\", 4], [\"E14000634\", \"Chingford and Woodford Green\", \"London\", \"con lab marginal\", \"#661D98\", 4], [\"E14000636\", \"Chipping Barnet\", \"London\", \"con lab marginal\", \"#661D98\", 4], [\"E14000639\", \"Cities of London and Westminster\", \"London\", \"con lab marginal\", \"#661D98\", 4], [\"E14000654\", \"Croydon Central\", \"London\", \"con lab marginal\", \"#661D98\", 4], [\"E14000655\", \"Croydon North\", \"London\", \"lab safe\", \"#661D98\", 4], [\"E14000656\", \"Croydon South\", \"London\", \"con safe\", \"#F5B14C\", 2], [\"E14000657\", \"Dagenham and Rainham\", \"London\", \"con lab marginal\", \"#F5B14C\", 2], [\"E14000673\", \"Dulwich and West Norwood\", \"London\", \"lab safe\", \"#661D98\", 4], [\"E14000674\", \"Ealing Central and Acton\", \"London\", \"lab safe\", \"#661D98\", 4], [\"E14000675\", \"Ealing North\", \"London\", \"lab safe\", \"#661D98\", 4], [\"E14000676\", \"Ealing, Southall\", \"London\", \"lab safe\", \"#661D98\", 4], [\"E14000679\", \"East Ham\", \"London\", \"lab safe\", \"#661D98\", 4], [\"E14000687\", \"Edmonton\", \"London\", \"lab safe\", \"#661D98\", 4], [\"E14000690\", \"Eltham\", \"London\", \"con lab marginal\", \"#661D98\", 4], [\"E14000691\", \"Enfield North\", \"London\", \"con lab marginal\", \"#661D98\", 4], [\"E14000692\", \"Enfield, Southgate\", \"London\", \"con lab marginal\", \"#661D98\", 4], [\"E14000696\", \"Erith and Thamesmead\", \"London\", \"con lab marginal\", \"#661D98\", 4], [\"E14000701\", \"Feltham and Heston\", \"London\", \"lab safe\", \"#661D98\", 4], [\"E14000703\", \"Finchley and Golders Green\", \"London\", \"con safe\", \"#661D98\", 4], [\"E14000718\", \"Greenwich and Woolwich\", \"London\", \"lab safe\", \"#661D98\", 4], [\"E14000720\", \"Hackney North and Stoke Newington\", \"London\", \"lab safe\", \"#661D98\", 4], [\"E14000721\", \"Hackney South and Shoreditch\", \"London\", \"lab safe\", \"#661D98\", 4], [\"E14000726\", \"Hammersmith\", \"London\", \"lab safe\", \"#661D98\", 4], [\"E14000727\", \"Hampstead and Kilburn\", \"London\", \"lab safe\", \"#661D98\", 4], [\"E14000731\", \"Harrow East\", \"London\", \"con lab marginal\", \"#661D98\", 4], [\"E14000732\", \"Harrow West\", \"London\", \"lab safe\", \"#661D98\", 4], [\"E14000737\", \"Hayes and Harlington\", \"London\", \"lab safe\", \"#661D98\", 4], [\"E14000741\", \"Hendon\", \"London\", \"con lab marginal\", \"#661D98\", 4], [\"E14000750\", \"Holborn and St Pancras\", \"London\", \"lab safe\", \"#661D98\", 4], [\"E14000751\", \"Hornchurch and Upminster\", \"London\", \"con safe\", \"#F5B14C\", 2], [\"E14000752\", \"Hornsey and Wood Green\", \"London\", \"lab safe\", \"#661D98\", 4], [\"E14000759\", \"Ilford North\", \"London\", \"con lab marginal\", \"#661D98\", 4], [\"E14000760\", \"Ilford South\", \"London\", \"lab safe\", \"#661D98\", 4], [\"E14000763\", \"Islington North\", \"London\", \"lab safe\", \"#661D98\", 4], [\"E14000764\", \"Islington South and Finsbury\", \"London\", \"lab safe\", \"#661D98\", 4], [\"E14000768\", \"Kensington\", \"London\", \"con ld marginal\", \"#661D98\", 4], [\"E14000770\", \"Kingston and Surbiton\", \"London\", \"ld safe\", \"#F5B14C\", 2], [\"E14000787\", \"Lewisham East\", \"London\", \"lab safe\", \"#661D98\", 4], [\"E14000788\", \"Lewisham West and Penge\", \"London\", \"lab safe\", \"#661D98\", 4], [\"E14000789\", \"Lewisham, Deptford\", \"London\", \"lab safe\", \"#661D98\", 4], [\"E14000790\", \"Leyton and Wanstead\", \"London\", \"lab safe\", \"#661D98\", 4], [\"E14000823\", \"Mitcham and Morden\", \"London\", \"lab safe\", \"#661D98\", 4], [\"E14000869\", \"Old Bexley and Sidcup\", \"London\", \"con safe\", \"#F5B14C\", 2], [\"E14000872\", \"Orpington\", \"London\", \"con safe\", \"#F5B14C\", 2], [\"E14000882\", \"Poplar and Limehouse\", \"London\", \"lab safe\", \"#661D98\", 4], [\"E14000887\", \"Putney\", \"London\", \"con lab marginal\", \"#661D98\", 4], [\"E14000896\", \"Richmond Park\", \"London\", \"con ld marginal\", \"#661D98\", 4], [\"E14000900\", \"Romford\", \"London\", \"con safe\", \"#F5B14C\", 2], [\"E14000906\", \"Ruislip, Northwood and Pinner\", \"London\", \"con safe\", \"#F5B14C\", 2], [\"E14000978\", \"Streatham\", \"London\", \"lab safe\", \"#661D98\", 4], [\"E14000984\", \"Sutton and Cheam\", \"London\", \"con safe\", \"#F5B14C\", 2], [\"E14000998\", \"Tooting\", \"London\", \"lab safe\", \"#661D98\", 4], [\"E14001002\", \"Tottenham\", \"London\", \"lab safe\", \"#661D98\", 4], [\"E14001005\", \"Twickenham\", \"London\", \"ld safe\", \"#F5B14C\", 2], [\"E14001007\", \"Uxbridge and South Ruislip\", \"London\", \"con lab marginal\", \"#661D98\", 4], [\"E14001008\", \"Vauxhall\", \"London\", \"lab safe\", \"#661D98\", 4], [\"E14001013\", \"Walthamstow\", \"London\", \"lab safe\", \"#661D98\", 4], [\"E14001032\", \"West Ham\", \"London\", \"lab safe\", \"#661D98\", 4], [\"E14001036\", \"Westminster North\", \"London\", \"lab safe\", \"#661D98\", 4], [\"E14001040\", \"Wimbledon\", \"London\", \"con ld marginal\", \"#661D98\", 4], [\"E14000530\", \"Aldershot\", \"South East\", \"con safe\", \"#F5B14C\", 2], [\"E14000534\", \"Arundel and South Downs\", \"South East\", \"con safe\", \"#F5B14C\", 2], [\"E14000536\", \"Ashford\", \"South East\", \"con safe\", \"#F5B14C\", 2], [\"E14000538\", \"Aylesbury\", \"South East\", \"con safe\", \"#F5B14C\", 2], [\"E14000539\", \"Banbury\", \"South East\", \"con safe\", \"#F5B14C\", 2], [\"E14000545\", \"Basingstoke\", \"South East\", \"con safe\", \"#F5B14C\", 2], [\"E14000550\", \"Beaconsfield\", \"South East\", \"con safe\", \"#F5B14C\", 2], [\"E14000557\", \"Bexhill and Battle\", \"South East\", \"con safe\", \"#47DBCD\", 1], [\"E14000576\", \"Bognor Regis and Littlehampton\", \"South East\", \"con safe\", \"#47DBCD\", 1], [\"E14000586\", \"Bracknell\", \"South East\", \"con safe\", \"#F5B14C\", 2], [\"E14000597\", \"Brighton, Kemptown\", \"South East\", \"lab safe\", \"#016794\", 5], [\"E14000598\", \"Brighton, Pavilion\", \"South East\", \"green safe\", \"#016794\", 5], [\"E14000608\", \"Buckingham\", \"South East\", \"con safe\", \"#F5B14C\", 2], [\"E14000619\", \"Canterbury\", \"South East\", \"con lab marginal\", \"#016794\", 5], [\"E14000626\", \"Chatham and Aylesford\", \"South East\", \"con safe\", \"#F5B14C\", 2], [\"E14000631\", \"Chesham and Amersham\", \"South East\", \"con safe\", \"#F5B14C\", 2], [\"E14000633\", \"Chichester\", \"South East\", \"con safe\", \"#47DBCD\", 1], [\"E14000652\", \"Crawley\", \"South East\", \"con lab marginal\", \"#F5B14C\", 2], [\"E14000659\", \"Dartford\", \"South East\", \"con safe\", \"#F5B14C\", 2], [\"E14000670\", \"Dover\", \"South East\", \"con safe\", \"#47DBCD\", 1], [\"E14000680\", \"East Hampshire\", \"South East\", \"con safe\", \"#F5B14C\", 2], [\"E14000681\", \"East Surrey\", \"South East\", \"con safe\", \"#F5B14C\", 2], [\"E14000682\", \"East Worthing and Shoreham\", \"South East\", \"con safe\", \"#F5B14C\", 2], [\"E14000684\", \"Eastbourne\", \"South East\", \"con ld marginal\", \"#47DBCD\", 1], [\"E14000685\", \"Eastleigh\", \"South East\", \"con safe\", \"#F5B14C\", 2], [\"E14000694\", \"Epsom and Ewell\", \"South East\", \"con safe\", \"#F5B14C\", 2], [\"E14000697\", \"Esher and Walton\", \"South East\", \"con ld marginal\", \"#F5B14C\", 2], [\"E14000699\", \"Fareham\", \"South East\", \"con safe\", \"#F5B14C\", 2], [\"E14000700\", \"Faversham and Mid Kent\", \"South East\", \"con safe\", \"#F5B14C\", 2], [\"E14000704\", \"Folkestone and Hythe\", \"South East\", \"con safe\", \"#47DBCD\", 1], [\"E14000711\", \"Gillingham and Rainham\", \"South East\", \"con safe\", \"#F5B14C\", 2], [\"E14000713\", \"Gosport\", \"South East\", \"con safe\", \"#47DBCD\", 1], [\"E14000715\", \"Gravesham\", \"South East\", \"con safe\", \"#F5B14C\", 2], [\"E14000719\", \"Guildford\", \"South East\", \"con ld marginal\", \"#F5B14C\", 2], [\"E14000735\", \"Hastings and Rye\", \"South East\", \"con lab marginal\", \"#47DBCD\", 1], [\"E14000736\", \"Havant\", \"South East\", \"con safe\", \"#2CBDFE\", 0], [\"E14000742\", \"Henley\", \"South East\", \"con safe\", \"#F5B14C\", 2], [\"E14000753\", \"Horsham\", \"South East\", \"con safe\", \"#F5B14C\", 2], [\"E14000755\", \"Hove\", \"South East\", \"lab safe\", \"#016794\", 5], [\"E14000762\", \"Isle of Wight\", \"South East\", \"con safe\", \"#47DBCD\", 1], [\"E14000786\", \"Lewes\", \"South East\", \"con ld marginal\", \"#F5B14C\", 2], [\"E14000803\", \"Maidenhead\", \"South East\", \"con safe\", \"#F5B14C\", 2], [\"E14000804\", \"Maidstone and The Weald\", \"South East\", \"con safe\", \"#F5B14C\", 2], [\"E14000811\", \"Meon Valley\", \"South East\", \"con safe\", \"#F5B14C\", 2], [\"E14000817\", \"Mid Sussex\", \"South East\", \"con safe\", \"#F5B14C\", 2], [\"E14000821\", \"Milton Keynes North\", \"South East\", \"con lab marginal\", \"#F5B14C\", 2], [\"E14000822\", \"Milton Keynes South\", \"South East\", \"con lab marginal\", \"#F5B14C\", 2], [\"E14000824\", \"Mole Valley\", \"South East\", \"con safe\", \"#F5B14C\", 2], [\"E14000827\", \"New Forest East\", \"South East\", \"con safe\", \"#47DBCD\", 1], [\"E14000828\", \"New Forest West\", \"South East\", \"con safe\", \"#47DBCD\", 1], [\"E14000830\", \"Newbury\", \"South East\", \"con safe\", \"#F5B14C\", 2], [\"E14000844\", \"North East Hampshire\", \"South East\", \"con safe\", \"#F5B14C\", 2], [\"E14000852\", \"North Thanet\", \"South East\", \"con safe\", \"#47DBCD\", 1], [\"E14000857\", \"North West Hampshire\", \"South East\", \"con safe\", \"#F5B14C\", 2], [\"E14000873\", \"Oxford East\", \"South East\", \"lab safe\", \"#016794\", 5], [\"E14000874\", \"Oxford West and Abingdon\", \"South East\", \"ld safe\", \"#F5B14C\", 2], [\"E14000883\", \"Portsmouth North\", \"South East\", \"con safe\", \"#F5B14C\", 2], [\"E14000884\", \"Portsmouth South\", \"South East\", \"con lab marginal\", \"#016794\", 5], [\"E14000889\", \"Reading East\", \"South East\", \"con lab marginal\", \"#016794\", 5], [\"E14000890\", \"Reading West\", \"South East\", \"con lab marginal\", \"#F5B14C\", 2], [\"E14000893\", \"Reigate\", \"South East\", \"con safe\", \"#F5B14C\", 2], [\"E14000898\", \"Rochester and Strood\", \"South East\", \"con safe\", \"#F5B14C\", 2], [\"E14000901\", \"Romsey and Southampton North\", \"South East\", \"con safe\", \"#F5B14C\", 2], [\"E14000907\", \"Runnymede and Weybridge\", \"South East\", \"con safe\", \"#F5B14C\", 2], [\"E14000918\", \"Sevenoaks\", \"South East\", \"con safe\", \"#F5B14C\", 2], [\"E14000927\", \"Sittingbourne and Sheppey\", \"South East\", \"con safe\", \"#F5B14C\", 2], [\"E14000930\", \"Slough\", \"South East\", \"lab safe\", \"#661D98\", 4], [\"E14000948\", \"South Thanet\", \"South East\", \"con safe\", \"#47DBCD\", 1], [\"E14000953\", \"South West Surrey\", \"South East\", \"con safe\", \"#F5B14C\", 2], [\"E14000955\", \"Southampton, Itchen\", \"South East\", \"con lab marginal\", \"#016794\", 5], [\"E14000956\", \"Southampton, Test\", \"South East\", \"lab safe\", \"#016794\", 5], [\"E14000959\", \"Spelthorne\", \"South East\", \"con safe\", \"#F5B14C\", 2], [\"E14000983\", \"Surrey Heath\", \"South East\", \"con safe\", \"#F5B14C\", 2], [\"E14000997\", \"Tonbridge and Malling\", \"South East\", \"con safe\", \"#F5B14C\", 2], [\"E14001004\", \"Tunbridge Wells\", \"South East\", \"con safe\", \"#F5B14C\", 2], [\"E14001015\", \"Wantage\", \"South East\", \"con safe\", \"#F5B14C\", 2], [\"E14001023\", \"Wealden\", \"South East\", \"con safe\", \"#F5B14C\", 2], [\"E14001041\", \"Winchester\", \"South East\", \"con ld marginal\", \"#F5B14C\", 2], [\"E14001042\", \"Windsor\", \"South East\", \"con safe\", \"#F5B14C\", 2], [\"E14001046\", \"Witney\", \"South East\", \"con safe\", \"#F5B14C\", 2], [\"E14001047\", \"Woking\", \"South East\", \"con safe\", \"#F5B14C\", 2], [\"E14001048\", \"Wokingham\", \"South East\", \"con ld marginal\", \"#F5B14C\", 2], [\"E14001055\", \"Worthing West\", \"South East\", \"con safe\", \"#F5B14C\", 2], [\"E14001056\", \"Wycombe\", \"South East\", \"con lab marginal\", \"#F5B14C\", 2], [\"E14000547\", \"Bath\", \"South West\", \"ld safe\", \"#016794\", 5], [\"E14000584\", \"Bournemouth East\", \"South West\", \"con safe\", \"#F5B14C\", 2], [\"E14000585\", \"Bournemouth West\", \"South West\", \"con safe\", \"#016794\", 5], [\"E14000595\", \"Bridgwater and West Somerset\", \"South West\", \"con safe\", \"#47DBCD\", 1], [\"E14000599\", \"Bristol East\", \"South West\", \"lab safe\", \"#016794\", 5], [\"E14000600\", \"Bristol North West\", \"South West\", \"con lab marginal\", \"#016794\", 5], [\"E14000601\", \"Bristol South\", \"South West\", \"lab safe\", \"#016794\", 5], [\"E14000602\", \"Bristol West\", \"South West\", \"lab safe\", \"#016794\", 5], [\"E14000616\", \"Camborne and Redruth\", \"South West\", \"con lab marginal\", \"#47DBCD\", 1], [\"E14000623\", \"Central Devon\", \"South West\", \"con safe\", \"#47DBCD\", 1], [\"E14000630\", \"Cheltenham\", \"South West\", \"con ld marginal\", \"#F5B14C\", 2], [\"E14000635\", \"Chippenham\", \"South West\", \"con safe\", \"#F5B14C\", 2], [\"E14000638\", \"Christchurch\", \"South West\", \"con safe\", \"#47DBCD\", 1], [\"E14000665\", \"Devizes\", \"South West\", \"con safe\", \"#47DBCD\", 1], [\"E14000678\", \"East Devon\", \"South West\", \"con safe\", \"#47DBCD\", 1], [\"E14000698\", \"Exeter\", \"South West\", \"lab safe\", \"#016794\", 5], [\"E14000702\", \"Filton and Bradley Stoke\", \"South West\", \"con lab marginal\", \"#F5B14C\", 2], [\"E14000705\", \"Forest of Dean\", \"South West\", \"con safe\", \"#47DBCD\", 1], [\"E14000712\", \"Gloucester\", \"South West\", \"con safe\", \"#F5B14C\", 2], [\"E14000774\", \"Kingswood\", \"South West\", \"con safe\", \"#F5B14C\", 2], [\"E14000815\", \"Mid Dorset and North Poole\", \"South West\", \"con safe\", \"#F5B14C\", 2], [\"E14000835\", \"Newton Abbot\", \"South West\", \"con safe\", \"#47DBCD\", 1], [\"E14000837\", \"North Cornwall\", \"South West\", \"con safe\", \"#47DBCD\", 1], [\"E14000838\", \"North Devon\", \"South West\", \"con safe\", \"#47DBCD\", 1], [\"E14000839\", \"North Dorset\", \"South West\", \"con safe\", \"#47DBCD\", 1], [\"E14000846\", \"North East Somerset\", \"South West\", \"con safe\", \"#47DBCD\", 1], [\"E14000850\", \"North Somerset\", \"South West\", \"con safe\", \"#F5B14C\", 2], [\"E14000851\", \"North Swindon\", \"South West\", \"con safe\", \"#F5B14C\", 2], [\"E14000860\", \"North Wiltshire\", \"South West\", \"con safe\", \"#F5B14C\", 2], [\"E14000879\", \"Plymouth, Moor View\", \"South West\", \"con safe\", \"#2CBDFE\", 0], [\"E14000880\", \"Plymouth, Sutton and Devonport\", \"South West\", \"con lab marginal\", \"#016794\", 5], [\"E14000881\", \"Poole\", \"South West\", \"con safe\", \"#F5B14C\", 2], [\"E14000912\", \"Salisbury\", \"South West\", \"con safe\", \"#47DBCD\", 1], [\"E14000932\", \"Somerton and Frome\", \"South West\", \"con safe\", \"#47DBCD\", 1], [\"E14000936\", \"South Dorset\", \"South West\", \"con safe\", \"#47DBCD\", 1], [\"E14000938\", \"South East Cornwall\", \"South West\", \"con safe\", \"#47DBCD\", 1], [\"E14000947\", \"South Swindon\", \"South West\", \"con lab marginal\", \"#F5B14C\", 2], [\"E14000950\", \"South West Devon\", \"South West\", \"con safe\", \"#47DBCD\", 1], [\"E14000954\", \"South West Wiltshire\", \"South West\", \"con safe\", \"#47DBCD\", 1], [\"E14000961\", \"St Austell and Newquay\", \"South West\", \"con safe\", \"#47DBCD\", 1], [\"E14000964\", \"St Ives\", \"South West\", \"con ld marginal\", \"#47DBCD\", 1], [\"E14000980\", \"Stroud\", \"South West\", \"con lab marginal\", \"#47DBCD\", 1], [\"E14000988\", \"Taunton Deane\", \"South West\", \"con safe\", \"#47DBCD\", 1], [\"E14000990\", \"Tewkesbury\", \"South West\", \"con safe\", \"#F5B14C\", 2], [\"E14000991\", \"The Cotswolds\", \"South West\", \"con safe\", \"#F5B14C\", 2], [\"E14000994\", \"Thornbury and Yate\", \"South West\", \"con ld marginal\", \"#F5B14C\", 2], [\"E14000996\", \"Tiverton and Honiton\", \"South West\", \"con safe\", \"#47DBCD\", 1], [\"E14000999\", \"Torbay\", \"South West\", \"con safe\", \"#47DBCD\", 1], [\"E14001000\", \"Torridge and West Devon\", \"South West\", \"con safe\", \"#47DBCD\", 1], [\"E14001001\", \"Totnes\", \"South West\", \"con safe\", \"#47DBCD\", 1], [\"E14001003\", \"Truro and Falmouth\", \"South West\", \"con lab marginal\", \"#47DBCD\", 1], [\"E14001026\", \"Wells\", \"South West\", \"con ld marginal\", \"#47DBCD\", 1], [\"E14001031\", \"West Dorset\", \"South West\", \"con safe\", \"#47DBCD\", 1], [\"E14001038\", \"Weston-Super-Mare\", \"South West\", \"con safe\", \"#47DBCD\", 1], [\"E14001060\", \"Yeovil\", \"South West\", \"con safe\", \"#47DBCD\", 1], [\"S14000001\", \"Aberdeen North\", \"Scotland\", \"snp safe\", \"#F3A0F2\", 3], [\"S14000002\", \"Aberdeen South\", \"Scotland\", \"con snp marginal\", \"#F3A0F2\", 3], [\"S14000003\", \"Airdrie and Shotts\", \"Scotland\", \"lab snp marginal\", \"#F3A0F2\", 3], [\"S14000004\", \"Angus\", \"Scotland\", \"con snp marginal\", \"#F3A0F2\", 3], [\"S14000005\", \"Argyll and Bute\", \"Scotland\", \"con snp marginal\", \"#F3A0F2\", 3], [\"S14000006\", \"Ayr, Carrick and Cumnock\", \"Scotland\", \"con snp marginal\", \"#F3A0F2\", 3], [\"S14000007\", \"Banff and Buchan\", \"Scotland\", \"con snp marginal\", \"#F3A0F2\", 3], [\"S14000008\", \"Berwickshire, Roxburgh and Selkirk\", \"Scotland\", \"con snp marginal\", \"#F3A0F2\", 3], [\"S14000009\", \"Caithness, Sutherland and Easter Ross\", \"Scotland\", \"ld snp marginal\", \"#F3A0F2\", 3], [\"S14000010\", \"Central Ayrshire\", \"Scotland\", \"con snp marginal\", \"#F3A0F2\", 3], [\"S14000011\", \"Coatbridge, Chryston and Bellshill\", \"Scotland\", \"lab snp marginal\", \"#F3A0F2\", 3], [\"S14000012\", \"Cumbernauld, Kilsyth and Kirkintilloch East\", \"Scotland\", \"snp safe\", \"#F3A0F2\", 3], [\"S14000013\", \"Dumfries and Galloway\", \"Scotland\", \"con snp marginal\", \"#F3A0F2\", 3], [\"S14000014\", \"Dumfriesshire, Clydesdale and Tweeddale\", \"Scotland\", \"con snp marginal\", \"#F3A0F2\", 3], [\"S14000015\", \"Dundee East\", \"Scotland\", \"snp safe\", \"#F3A0F2\", 3], [\"S14000016\", \"Dundee West\", \"Scotland\", \"snp safe\", \"#F3A0F2\", 3], [\"S14000017\", \"Dunfermline and West Fife\", \"Scotland\", \"con snp marginal\", \"#F3A0F2\", 3], [\"S14000018\", \"East Dunbartonshire\", \"Scotland\", \"ld snp marginal\", \"#47DBCD\", 1], [\"S14000019\", \"East Kilbride, Strathaven and Lesmahagow\", \"Scotland\", \"snp safe\", \"#F3A0F2\", 3], [\"S14000020\", \"East Lothian\", \"Scotland\", \"lab snp marginal\", \"#F3A0F2\", 3], [\"S14000021\", \"East Renfrewshire\", \"Scotland\", \"con snp marginal\", \"#47DBCD\", 1], [\"S14000022\", \"Edinburgh East\", \"Scotland\", \"snp safe\", \"#016794\", 5], [\"S14000023\", \"Edinburgh North and Leith\", \"Scotland\", \"snp safe\", \"#016794\", 5], [\"S14000024\", \"Edinburgh South\", \"Scotland\", \"lab safe\", \"#016794\", 5], [\"S14000025\", \"Edinburgh South West\", \"Scotland\", \"snp safe\", \"#016794\", 5], [\"S14000026\", \"Edinburgh West\", \"Scotland\", \"ld snp marginal\", \"#47DBCD\", 1], [\"S14000027\", \"Na h-Eileanan An Iar\", \"Scotland\", \"snp safe\", \"#F3A0F2\", 3], [\"S14000028\", \"Falkirk\", \"Scotland\", \"snp safe\", \"#F3A0F2\", 3], [\"S14000029\", \"Glasgow Central\", \"Scotland\", \"snp safe\", \"#016794\", 5], [\"S14000030\", \"Glasgow East\", \"Scotland\", \"lab snp marginal\", \"#F3A0F2\", 3], [\"S14000031\", \"Glasgow North\", \"Scotland\", \"snp safe\", \"#016794\", 5], [\"S14000032\", \"Glasgow North East\", \"Scotland\", \"lab snp marginal\", \"#F3A0F2\", 3], [\"S14000033\", \"Glasgow North West\", \"Scotland\", \"snp safe\", \"#F3A0F2\", 3], [\"S14000034\", \"Glasgow South\", \"Scotland\", \"snp safe\", \"#F3A0F2\", 3], [\"S14000035\", \"Glasgow South West\", \"Scotland\", \"snp safe\", \"#F3A0F2\", 3], [\"S14000036\", \"Glenrothes\", \"Scotland\", \"snp safe\", \"#F3A0F2\", 3], [\"S14000037\", \"Gordon\", \"Scotland\", \"con snp marginal\", \"#F3A0F2\", 3], [\"S14000038\", \"Inverclyde\", \"Scotland\", \"snp safe\", \"#F3A0F2\", 3], [\"S14000039\", \"Inverness, Nairn, Badenoch and Strathspey\", \"Scotland\", \"snp safe\", \"#F3A0F2\", 3], [\"S14000040\", \"Kilmarnock and Loudoun\", \"Scotland\", \"snp safe\", \"#F3A0F2\", 3], [\"S14000041\", \"Kirkcaldy and Cowdenbeath\", \"Scotland\", \"lab snp marginal\", \"#F3A0F2\", 3], [\"S14000042\", \"Lanark and Hamilton East\", \"Scotland\", \"con snp marginal\", \"#F3A0F2\", 3], [\"S14000043\", \"Linlithgow and East Falkirk\", \"Scotland\", \"con snp marginal\", \"#F3A0F2\", 3], [\"S14000044\", \"Livingston\", \"Scotland\", \"snp safe\", \"#F3A0F2\", 3], [\"S14000045\", \"Midlothian\", \"Scotland\", \"lab snp marginal\", \"#F3A0F2\", 3], [\"S14000046\", \"Moray\", \"Scotland\", \"con snp marginal\", \"#F3A0F2\", 3], [\"S14000047\", \"Motherwell and Wishaw\", \"Scotland\", \"lab snp marginal\", \"#F3A0F2\", 3], [\"S14000048\", \"North Ayrshire and Arran\", \"Scotland\", \"con snp marginal\", \"#F3A0F2\", 3], [\"S14000049\", \"North East Fife\", \"Scotland\", \"ld snp marginal\", \"#47DBCD\", 1], [\"S14000050\", \"Ochil and South Perthshire\", \"Scotland\", \"con snp marginal\", \"#F3A0F2\", 3], [\"S14000051\", \"Orkney and Shetland\", \"Scotland\", \"ld snp marginal\", \"#F3A0F2\", 3], [\"S14000052\", \"Paisley and Renfrewshire North\", \"Scotland\", \"snp safe\", \"#F3A0F2\", 3], [\"S14000053\", \"Paisley and Renfrewshire South\", \"Scotland\", \"snp safe\", \"#F3A0F2\", 3], [\"S14000054\", \"Perth and North Perthshire\", \"Scotland\", \"con snp marginal\", \"#F3A0F2\", 3], [\"S14000055\", \"Ross, Skye and Lochaber\", \"Scotland\", \"snp safe\", \"#F3A0F2\", 3], [\"S14000056\", \"Rutherglen and Hamilton West\", \"Scotland\", \"lab snp marginal\", \"#F3A0F2\", 3], [\"S14000057\", \"Stirling\", \"Scotland\", \"con snp marginal\", \"#F3A0F2\", 3], [\"S14000058\", \"West Aberdeenshire and Kincardine\", \"Scotland\", \"con snp marginal\", \"#F3A0F2\", 3], [\"S14000059\", \"West Dunbartonshire\", \"Scotland\", \"lab snp marginal\", \"#F3A0F2\", 3], [\"W07000041\", \"Ynys Mon\", \"Wales\", \"con lab marginal\", \"#47DBCD\", 1], [\"W07000042\", \"Delyn\", \"Wales\", \"con lab marginal\", \"#2CBDFE\", 0], [\"W07000043\", \"Alyn and Deeside\", \"Wales\", \"con lab marginal\", \"#2CBDFE\", 0], [\"W07000044\", \"Wrexham\", \"Wales\", \"con lab marginal\", \"#2CBDFE\", 0], [\"W07000045\", \"Llanelli\", \"Wales\", \"lab safe\", \"#2CBDFE\", 0], [\"W07000046\", \"Gower\", \"Wales\", \"con lab marginal\", \"#47DBCD\", 1], [\"W07000047\", \"Swansea West\", \"Wales\", \"lab safe\", \"#016794\", 5], [\"W07000048\", \"Swansea East\", \"Wales\", \"lab safe\", \"#2CBDFE\", 0], [\"W07000049\", \"Aberavon\", \"Wales\", \"lab safe\", \"#2CBDFE\", 0], [\"W07000050\", \"Cardiff Central\", \"Wales\", \"lab safe\", \"#016794\", 5], [\"W07000051\", \"Cardiff North\", \"Wales\", \"con lab marginal\", \"#47DBCD\", 1], [\"W07000052\", \"Rhondda\", \"Wales\", \"lab safe\", \"#2CBDFE\", 0], [\"W07000053\", \"Torfaen\", \"Wales\", \"con lab marginal\", \"#2CBDFE\", 0], [\"W07000054\", \"Monmouth\", \"Wales\", \"con safe\", \"#47DBCD\", 1], [\"W07000055\", \"Newport East\", \"Wales\", \"con lab marginal\", \"#2CBDFE\", 0], [\"W07000056\", \"Newport West\", \"Wales\", \"con lab marginal\", \"#2CBDFE\", 0], [\"W07000057\", \"Arfon\", \"Wales\", \"pc safe\", \"#016794\", 5], [\"W07000058\", \"Aberconwy\", \"Wales\", \"con lab marginal\", \"#47DBCD\", 1], [\"W07000059\", \"Clwyd West\", \"Wales\", \"con safe\", \"#47DBCD\", 1], [\"W07000060\", \"Vale of Clwyd\", \"Wales\", \"con lab marginal\", \"#47DBCD\", 1], [\"W07000061\", \"Dwyfor Meirionnydd\", \"Wales\", \"pc safe\", \"#47DBCD\", 1], [\"W07000062\", \"Clwyd South\", \"Wales\", \"con lab marginal\", \"#2CBDFE\", 0], [\"W07000063\", \"Montgomeryshire\", \"Wales\", \"con safe\", \"#47DBCD\", 1], [\"W07000064\", \"Ceredigion\", \"Wales\", \"ld pc marginal\", \"#47DBCD\", 1], [\"W07000065\", \"Preseli Pembrokeshire\", \"Wales\", \"con lab marginal\", \"#47DBCD\", 1], [\"W07000066\", \"Carmarthen West and Pembrokeshire South\", \"Wales\", \"con lab marginal\", \"#47DBCD\", 1], [\"W07000067\", \"Carmarthen East and Dinefwr\", \"Wales\", \"con pc marginal\", \"#47DBCD\", 1], [\"W07000068\", \"Brecon and Radnorshire\", \"Wales\", \"con ld marginal\", \"#47DBCD\", 1], [\"W07000069\", \"Neath\", \"Wales\", \"lab safe\", \"#2CBDFE\", 0], [\"W07000070\", \"Cynon Valley\", \"Wales\", \"lab safe\", \"#2CBDFE\", 0], [\"W07000071\", \"Merthyr Tydfil and Rhymney\", \"Wales\", \"lab safe\", \"#2CBDFE\", 0], [\"W07000072\", \"Blaenau Gwent\", \"Wales\", \"lab safe\", \"#2CBDFE\", 0], [\"W07000073\", \"Bridgend\", \"Wales\", \"con lab marginal\", \"#2CBDFE\", 0], [\"W07000074\", \"Ogmore\", \"Wales\", \"lab safe\", \"#2CBDFE\", 0], [\"W07000075\", \"Pontypridd\", \"Wales\", \"lab safe\", \"#2CBDFE\", 0], [\"W07000076\", \"Caerphilly\", \"Wales\", \"lab safe\", \"#2CBDFE\", 0], [\"W07000077\", \"Islwyn\", \"Wales\", \"lab safe\", \"#2CBDFE\", 0], [\"W07000078\", \"Vale of Glamorgan\", \"Wales\", \"con lab marginal\", \"#47DBCD\", 1], [\"W07000079\", \"Cardiff West\", \"Wales\", \"lab safe\", \"#016794\", 5], [\"W07000080\", \"Cardiff South and Penarth\", \"Wales\", \"lab safe\", \"#016794\", 5]];\n",
       "\n",
       "    if (typeof require === 'undefined') {\n",
       "        // TODO: This should become the default (use a simple import)\n",
       "        // when the ESM version works independently of whether\n",
       "        // require.js is there or not, see\n",
       "        // https://datatables.net/forums/discussion/69066/esm-es6-module-support?\n",
       "        const {default: $} = await import(\"https://esm.sh/jquery@3.5.0\");\n",
       "        const {default: initDataTables} = await import(\"https://esm.sh/datatables.net@1.11.3?deps=jquery@3.5.0\");\n",
       "\n",
       "        initDataTables();\n",
       "\n",
       "        // Define the dt_args\n",
       "        let dt_args = {\"columnDefs\": [{\"width\": \"70px\", \"targets\": \"_all\"}]};\n",
       "        dt_args[\"data\"] = data;\n",
       "\n",
       "        // Display the table\n",
       "        $(document).ready(function () {\n",
       "            $('#5cf929c1-259e-4689-9383-862aec6528d3').DataTable(dt_args);\n",
       "        });\n",
       "    } else {\n",
       "        require([\"jquery\", \"datatables\"], ($, datatables) => {\n",
       "                // Define the dt_args\n",
       "                let dt_args = {\"columnDefs\": [{\"width\": \"70px\", \"targets\": \"_all\"}]};\n",
       "                dt_args[\"data\"] = data;\n",
       "\n",
       "                // Display the table\n",
       "                $(document).ready(function () {\n",
       "                    $('#5cf929c1-259e-4689-9383-862aec6528d3').DataTable(dt_args);\n",
       "                });\n",
       "            }\n",
       "        )\n",
       "    }\n",
       "</script>\n"
      ],
      "text/plain": [
       "            ID               Constituency      Region     seat_types_yg  \\\n",
       "0    E14000554         Berwick-upon-Tweed  North East          con safe   \n",
       "1    E14000569            Bishop Auckland  North East  con lab marginal   \n",
       "2    E14000574                    Blaydon  North East          lab safe   \n",
       "3    E14000575               Blyth Valley  North East  con lab marginal   \n",
       "4    E14000641             City of Durham  North East  con lab marginal   \n",
       "..         ...                        ...         ...               ...   \n",
       "626  W07000076                 Caerphilly       Wales          lab safe   \n",
       "627  W07000077                     Islwyn       Wales          lab safe   \n",
       "628  W07000078          Vale of Glamorgan       Wales  con lab marginal   \n",
       "629  W07000079               Cardiff West       Wales          lab safe   \n",
       "630  W07000080  Cardiff South and Penarth       Wales          lab safe   \n",
       "\n",
       "      Colors  Cluster  \n",
       "0    #47DBCD        1  \n",
       "1    #2CBDFE        0  \n",
       "2    #2CBDFE        0  \n",
       "3    #2CBDFE        0  \n",
       "4    #016794        5  \n",
       "..       ...      ...  \n",
       "626  #2CBDFE        0  \n",
       "627  #2CBDFE        0  \n",
       "628  #47DBCD        1  \n",
       "629  #016794        5  \n",
       "630  #016794        5  \n",
       "\n",
       "[631 rows x 6 columns]"
      ]
     },
     "execution_count": 148,
     "metadata": {},
     "output_type": "execute_result"
    },
    {
     "data": {
      "image/png": "[encoded data removed]",
      "text/plain": [
       "<Figure size 864x360 with 1 Axes>"
      ]
     },
     "metadata": {},
     "output_type": "display_data"
    },
    {
     "data": {
      "image/png": "[encoded data removed]",
      "text/plain": [
       "<Figure size 792x1228.97 with 2 Axes>"
      ]
     },
     "metadata": {},
     "output_type": "display_data"
    },
    {
     "data": {
      "image/png": "[encoded data removed]",
      "text/plain": [
       "<Figure size 1164.24x302.4 with 2 Axes>"
      ]
     },
     "metadata": {},
     "output_type": "display_data"
    }
   ],
   "source": [
    "## Clustering Methods: HAC, KMeans, DBScan, GMM, MS\n",
    "WDSS_clustering(data=df_con, dim_reduction='UMAP', clustering_method='HAC', map_plot=True, metric_visuals=True,\n",
    "                    cluster_bar=True, heatmap=True, dendrogram=False, snp_included=True)"
   ]
  },
  {
   "cell_type": "markdown",
   "id": "c6a50500",
   "metadata": {},
   "source": [
    "We also present an interactive table to see the recommended number of clusters for each model permutation: "
   ]
  },
  {
   "cell_type": "code",
   "execution_count": 17,
   "id": "b014881e",
   "metadata": {
    "tags": [
     "remove_input"
    ]
   },
   "outputs": [
    {
     "data": {
      "application/javascript": [
       "if (typeof require !== 'undefined')\n",
       "    require.config({\n",
       "        paths: {\n",
       "            jquery: 'https://code.jquery.com/jquery-3.5.1.min',\n",
       "            datatables: 'https://cdn.datatables.net/1.11.3/js/jquery.dataTables.min',\n",
       "        }\n",
       "    });\n"
      ],
      "text/plain": [
       "<IPython.core.display.Javascript object>"
      ]
     },
     "metadata": {},
     "output_type": "display_data"
    },
    {
     "data": {
      "text/html": [
       "<table id=\"a887ef54-bc74-417b-8c88-96ca1612039f\" class=\"display\"style=\"max-width:100%\"><thead><th>Dimensionality Reduction</th><th>Feature Selection</th><th>Algorithm</th><th>Metric</th><th>Recommended clusters</th></thead><tbody><tr><td>Loading... (need <a href=https://mwouts.github.io/itables/troubleshooting.html>help</a>?)</td></tr></tbody></table>\n",
       "<link rel=\"stylesheet\" type=\"text/css\" href=\"https://cdn.datatables.net/1.11.3/css/jquery.dataTables.min.css\">\n",
       "<style> table td {\n",
       "    text-overflow: ellipsis;\n",
       "    overflow: hidden;\n",
       "} </style>\n",
       "<style> table th {\n",
       "    text-overflow: ellipsis;\n",
       "    overflow: hidden;\n",
       "} </style>\n",
       "<script type=\"module\">\n",
       "    // Define the table data\n",
       "    const data = [[\"UMAP\", \"With %snp votes\", \"K-Means\", \"Distortion\", 6], [\"UMAP\", \"With %snp votes\", \"K-Means\", \"Davies Bouldin\", 4], [\"UMAP\", \"With %snp votes\", \"K-Means\", \"Silhouette\", 4], [\"UMAP\", \"With %snp votes\", \"K-Means\", \"Calinski\", 8], [\"UMAP\", \"With %snp votes\", \"HAC\", \"Distortion\", 6], [\"UMAP\", \"With %snp votes\", \"HAC\", \"Davies Bouldin\", 5], [\"UMAP\", \"With %snp votes\", \"HAC\", \"Silhouette\", 6], [\"UMAP\", \"With %snp votes\", \"HAC\", \"Calinski\", 6], [\"UMAP\", \"With %snp votes\", \"DB Scan\", \"Davies Bouldin\", 2], [\"UMAP\", \"With %snp votes\", \"DB Scan\", \"Silhouette\", 2], [\"UMAP\", \"With %snp votes\", \"DB Scan\", \"Calinski\", 14], [\"UMAP\", \"With %snp votes\", \"GMM\", \"BIC\", 7], [\"UMAP\", \"With %snp votes\", \"GMM\", \"Davies Bouldin\", 5], [\"UMAP\", \"With %snp votes\", \"GMM\", \"Silhouette\", 6], [\"UMAP\", \"With %snp votes\", \"GMM\", \"Calinski\", 11], [\"UMAP\", \"Without %snp votes\", \"K-Means\", \"Distortion\", 6], [\"UMAP\", \"Without %snp votes\", \"K-Means\", \"Davies Bouldin\", 8], [\"UMAP\", \"Without %snp votes\", \"K-Means\", \"Silhouette\", 3], [\"UMAP\", \"Without %snp votes\", \"K-Means\", \"Calinski\", 6], [\"UMAP\", \"Without %snp votes\", \"HAC\", \"Distortion\", 6], [\"UMAP\", \"Without %snp votes\", \"HAC\", \"Davies Bouldin\", 6], [\"UMAP\", \"Without %snp votes\", \"HAC\", \"Silhouette\", 4], [\"UMAP\", \"Without %snp votes\", \"HAC\", \"Calinski\", 12], [\"UMAP\", \"Without %snp votes\", \"DB Scan\", \"Davies Bouldin\", 10], [\"UMAP\", \"Without %snp votes\", \"DB Scan\", \"Silhouette\", 9], [\"UMAP\", \"Without %snp votes\", \"DB Scan\", \"Calinski\", 9], [\"UMAP\", \"Without %snp votes\", \"GMM\", \"BIC\", 7], [\"UMAP\", \"Without %snp votes\", \"GMM\", \"Davies Bouldin\", 8], [\"UMAP\", \"Without %snp votes\", \"GMM\", \"Silhouette\", 8], [\"UMAP\", \"Without %snp votes\", \"GMM\", \"Calinski\", 12], [\"PCA\", \"With %snp votes\", \"K-Means\", \"Distortion\", 7], [\"PCA\", \"With %snp votes\", \"K-Means\", \"Davies Bouldin\", 8], [\"PCA\", \"With %snp votes\", \"K-Means\", \"Silhouette\", 2], [\"PCA\", \"With %snp votes\", \"K-Means\", \"Calinski\", 2], [\"PCA\", \"With %snp votes\", \"HAC\", \"Distortion\", 7], [\"PCA\", \"With %snp votes\", \"HAC\", \"Davies Bouldin\", 2], [\"PCA\", \"With %snp votes\", \"HAC\", \"Silhouette\", 2], [\"PCA\", \"With %snp votes\", \"HAC\", \"Calinski\", 2], [\"PCA\", \"With %snp votes\", \"DB Scan\", \"Davies Bouldin\", 2], [\"PCA\", \"With %snp votes\", \"DB Scan\", \"Silhouette\", 2], [\"PCA\", \"With %snp votes\", \"DB Scan\", \"Calinski\", 3], [\"PCA\", \"With %snp votes\", \"GMM\", \"BIC\", 5], [\"PCA\", \"With %snp votes\", \"GMM\", \"Davies Bouldin\", 2], [\"PCA\", \"With %snp votes\", \"GMM\", \"Silhouette\", 2], [\"PCA\", \"With %snp votes\", \"GMM\", \"Calinski\", 2], [\"PCA\", \"Without %snp votes\", \"K-Means\", \"Distortion\", 7], [\"PCA\", \"Without %snp votes\", \"K-Means\", \"Davies Bouldin\", 8], [\"PCA\", \"Without %snp votes\", \"K-Means\", \"Silhouette\", 2], [\"PCA\", \"Without %snp votes\", \"K-Means\", \"Calinski\", 2], [\"PCA\", \"Without %snp votes\", \"HAC\", \"Distortion\", 6], [\"PCA\", \"Without %snp votes\", \"HAC\", \"Davies Bouldin\", 9], [\"PCA\", \"Without %snp votes\", \"HAC\", \"Silhouette\", 2], [\"PCA\", \"Without %snp votes\", \"HAC\", \"Calinski\", 2], [\"PCA\", \"Without %snp votes\", \"DB Scan\", \"Davies Bouldin\", 9], [\"PCA\", \"Without %snp votes\", \"DB Scan\", \"Silhouette\", 3], [\"PCA\", \"Without %snp votes\", \"DB Scan\", \"Calinski\", 2], [\"PCA\", \"Without %snp votes\", \"GMM\", \"BIC\", 5], [\"PCA\", \"Without %snp votes\", \"GMM\", \"Davies Bouldin\", 2], [\"PCA\", \"Without %snp votes\", \"GMM\", \"Silhouette\", 2], [\"PCA\", \"Without %snp votes\", \"GMM\", \"Calinski\", 2]];\n",
       "\n",
       "    if (typeof require === 'undefined') {\n",
       "        // TODO: This should become the default (use a simple import)\n",
       "        // when the ESM version works independently of whether\n",
       "        // require.js is there or not, see\n",
       "        // https://datatables.net/forums/discussion/69066/esm-es6-module-support?\n",
       "        const {default: $} = await import(\"https://esm.sh/jquery@3.5.0\");\n",
       "        const {default: initDataTables} = await import(\"https://esm.sh/datatables.net@1.11.3?deps=jquery@3.5.0\");\n",
       "\n",
       "        initDataTables();\n",
       "\n",
       "        // Define the dt_args\n",
       "        let dt_args = {\"lengthMenu\": [16, 30, 60], \"columnDefs\": [{\"width\": \"70px\", \"targets\": \"_all\"}]};\n",
       "        dt_args[\"data\"] = data;\n",
       "\n",
       "        // Display the table\n",
       "        $(document).ready(function () {\n",
       "            $('#a887ef54-bc74-417b-8c88-96ca1612039f').DataTable(dt_args);\n",
       "        });\n",
       "    } else {\n",
       "        require([\"jquery\", \"datatables\"], ($, datatables) => {\n",
       "                // Define the dt_args\n",
       "                let dt_args = {\"lengthMenu\": [16, 30, 60], \"columnDefs\": [{\"width\": \"70px\", \"targets\": \"_all\"}]};\n",
       "                dt_args[\"data\"] = data;\n",
       "\n",
       "                // Display the table\n",
       "                $(document).ready(function () {\n",
       "                    $('#a887ef54-bc74-417b-8c88-96ca1612039f').DataTable(dt_args);\n",
       "                });\n",
       "            }\n",
       "        )\n",
       "    }\n",
       "</script>\n"
      ],
      "text/plain": [
       "<IPython.core.display.HTML object>"
      ]
     },
     "metadata": {},
     "output_type": "display_data"
    }
   ],
   "source": [
    "itables.init_notebook_mode(all_interactive=True)  # Activate\n",
    "\n",
    "result = pd.read_excel(\"Clustering_results_2.xlsx\").drop(columns=['Further Information','Model ID']).dropna()\n",
    "\n",
    "itables.show(result, lengthMenu = [16, 30, 60])"
   ]
  },
  {
   "cell_type": "markdown",
   "id": "98b352c0",
   "metadata": {},
   "source": [
    "We should point out that different operating systems may lead to slight variations in the recommended cluster number. Hence, for reproducibility purposes, we ran the code in Google Colab. \n",
    "\n",
    "We have visualized all the 60 possible results using R to spot general trends and augment our understandability of all model outcomes:\n",
    "\n",
    "- Majority of the models, except for a few permutations with DBSCAN, show one particular cluster being mainly composed of London constituencies. \n",
    "- UMAP datasets tend to suggest a higher number of clusters than PCA.\n",
    "- UMAP leans toward assigning the London region to its own cluster, whereas PCA connects other big city constituencies to the London cluster. \n",
    "\n",
    "![](Blog_images/All_Maps.png)\n",
    "\n",
    "Before we proceed to investigate the different algorithms' results in more detail for political campaigns and insight, we assume a suitable cluster number would lie in the range of 4 – 10 approximately to effectively analyse and target anomalously behaving constituencies present in each cluster. With this in mind, we can now start searching for the best clustering solutions."
   ]
  },
  {
   "cell_type": "markdown",
   "id": "92ceea27",
   "metadata": {
    "tags": []
   },
   "source": [
    "\n",
    "#### K-Means\n",
    "\n",
    "\n",
    "Firstly, looking at K Means with PCA, both the Calinski and Silhouette metrics lead to selecting 2 clusters as the optimal clustering. One cluster consists of mainly London constituencies alongside a few other city constituencies towards the North and West directions like Bradford or Birmingham or even in Scotland. The second cluster comprises the rest of the constituencies. We get this result irrespective of whether we include the % of SNP votes or not. We can see an example of this clustering with PCA in the first panel of the following figure:\n",
    "\n",
    "\n",
    "![](Blog_images/KMeans_Examples.png)\n",
    "\n",
    "\n",
    "UMAP models generally assign Scotland (apart from some constituencies in Edinburgh or Glasgow) to its own cluster. This result occurs with or without incorporating the \"Scottish identifying variable,\" the % of SNP votes. On the contrary, PCA models do not usually detect Scotland as its own cluster. An example of this behaviour was shown in the previous figure. Additionally, this time, the Calinski and Silhouette metrics produce slightly different clusterings with UMAP when we include or exclude the % of SNP voters. Perchance, the reason is UMAP detects non-linearities and subtleties better than PCA.\n",
    "\n",
    "The Distortion and Davies Bouldin result in a higher and more appropriate number of clusters than the Calinski and Silhouette Indexes. Thus, these are the metrics to choose when working with this algorithm.\n",
    "\n",
    "\n",
    "#### HAC \n",
    "\n",
    "Progressing ahead to HAC, this technique outputs similar results to K-Means under PCA, except that the K-Means clusterings appear to be more compact with a higher number of clusters. Additionally, the SNP voter feature makes a difference for some city constituencies in Scotland. For example, they stop being part of the London cluster when we include the % of SNP votes, the metric being the Silhouette or Calinski Index. Apart from that, there were no significant differences between the PCA HAC and K-Means permutations. \n",
    "\n",
    "On the other hand, UMAP HAC offers more diverse clusterings. In fact, we obtained one of the highest cluster numbers compared with all the 60 models with HAC when the model sequence is UMAP without SNP votes, with the metric or criteria being the Calinski score. Furthermore, HAC tends to narrow better the distinction between the inner London constituencies and their surrounding clusters than K-Means. Hence, when working with UMAP, one would pick HAC over K-Means due to the more logical and superior segmentation obtained. Finally, even when the recommended clusters are 12, HAC outputs structured and reasonable clusters based on the demographics of the UK constituencies.  \n",
    "\n",
    "As mentioned before, one attractive feature of HAC is its hierarchical nature. Even if any metric like Silhouette recommends a specific cluster number, one can still inspect the relationship between the recommended cluster number combinations by visualizing how they merge on a dendrogram. For instance, in the following figure, we see an animation of how HAC aggregates clusters when using the PCA with the SNP voters dataset:\n",
    "\n",
    "<a>\n",
    "    <center> \n",
    "        <img src = \"Blog_images/pca_snp_true.gif\">\n",
    "        <br>\n",
    "        <img src = \"Blog_images/Dendogram_PCA_SNP_true_reduced.png\">\n",
    "    </center>\n",
    "</a>\n",
    "\n",
    "If instead, we pick the UMAP without the %SNP votes dataset, the results divert to the following:\n",
    "<a>\n",
    "    <center> \n",
    "        <img src = \"Blog_images/umap_snp_false.gif\">\n",
    "        <br>\n",
    "        <img src = \"Blog_images/Dendogram_UMAP_SNP_False_reduced.png\">\n",
    "    </center>\n",
    "</a>\n",
    "\n",
    "The distortion metric appears to be the most stable metric as we get the same 6 or 7 recommended segments.  \n",
    "\n",
    "#### DBSCAN\n",
    "\n",
    "For DBSCAN, we obtain the most unique but the least valuable clusterings, both with PCA and UMAP. We notice the results primarily being a London versus non-London divide concerning PCA. The London cluster tends to compose more city constituencies of Scotland and the rest of the UK compared with K-Means or HAC. One of the most surprising clusterings we notice is with the Davies Bouldin or Silhouette metric using PCA, where including the % SNP vote variable outputs two clusters. One cluster is identified as the \"Cities of London and Westminster\" constituency,  and all the other constituencies belong to the second cluster. This result shows how much of an outlier this central London constituency is. Alternatively, when more than 2 clusters are recommended, like when we use the Davies Bouldin without SNP model, the London region breaks down into several clusters, each possessing a few constituencies. Another variation is with the Calinski metric. Here we obtain three clusters that we could generally identify as London and a few big cities; most of Scotland; and the rest of the UK. \n",
    "\n",
    "Focusing on UMAP, DBSCAN seems to perform better with the Calinski metric when we include the SNP votes. Another distinctive clustering generated is the Scotland vs. Non-Scotland division when using the SNP votes, which could perhaps come from DBSCAN detecting the high density of SNP votes from the majority of the Scotland regions. Below are the most peculiar choropleth maps we stumbled across when working with DBSCAN.\n",
    "\n",
    "![](Blog_images/DBScan_Examples.png)\n",
    "\n",
    "\n",
    "#### GMM\n",
    "\n",
    "Our final method, GMM, yields similar outcomes to HAC with PCA apart from the BIC metric. All the other metrics produce two clusterings, one involving London constituencies and a few constituencies in Birmingham, Manchester, Bradford, or Warley. The other cluster comprises the rest of the UK. These clustering maps could potentially be practical when searching for constituencies with similar characteristics to London. With the BIC metric, it performs well as we obtain 5 clusters with trivial variation irrespective of the inclusion or exclusion of the SNP voting percentage. Overall, the GMM method appears ineffective when working with PCA. \n",
    "\n",
    "Focusing on UMAP, the Calinski metric outputs several clusters (11-12) regardless of the SNP variable. However, GMM visibly picks up the Scotland cluster just like DBScan. Unlike other algorithms, all metrics work exceptionally well with GMM and UMAP, yielding the recommended cluster number in an ideal range of 5-8. Additionally, BIC is consistent with 7 clusters irrespective of inclusion of the % SNP votes. \n",
    "\n",
    "Since GMM is a form of *soft clustering*, we gain access to the probabilities or weights of each constituency belonging to a given cluster. Therefore, we can visually inspect our selected models' confidence in their cluster assignments. For example, we include a plot of the most uncertain model, i.e., which yields the highest number of low probability cluster assignments. As a result, we notice only four or five constituencies with a relatively low probability for their assigned cluster, while the rest are highly certain. However, the same permutation under UMAP has much higher confidence in its assignments, as shown in the figure below. This result is crucial as we can be confident that a clear separation of clusters occurs.\n",
    "\n",
    "![](Blog_images/GMM_Probabilities.png)\n",
    "\n"
   ]
  },
  {
   "cell_type": "markdown",
   "id": "9bf4da05",
   "metadata": {},
   "source": [
    "## Discussion\n",
    "\n",
    "Our results show that UMAP generally tends to output a less simplistic, more diverse clustering solution with all the clustering algorithms. Furthermore, UMAP is most effective with GMM and HAC, whereas PCA works well only with a few model permutations like K-Means with Davies Bouldin or Distortion. The distortion metric outputs similar clusterings in terms of the diversity and number of clusters regardless of PCA or UMAP. With PCA, the distortion metric does yield a more central and smaller London cluster relative to UMAP. However, when using other metrics, PCA primarily selects the aforementioned London versus Non-London clustering in contrast to UMAP, which identifies that clustering in addition to the Scotland and non-Scotland divide and other segments. As a result, it generates clusters having more geographic structure despite us having removed the regions variable from Ballard's dataset. Hence, UMAP happens to be a superior choice for political targeting when implementing clustering based on votes as it picks up both the London and Scotland separation. \n",
    "\n",
    "Moreover, among the considered algorithms, we saw that DBSCAN underperforms relative to K-Means, HAC, and GMM. Thus, for further inspection of the relationships between the obtained clusterings from these last 3 methods we take advantage of a Sankey diagram. This Sankey plot demonstrates how the usual two clusterings found with PCA evolve and transform into smaller clusters when switching the dimensionality reduction to UMAP. Even though the cluster number contrasts slightly between models, large *streams* or *flows* exist, signalling that many constituencies are always grouped together in the same cluster irrespective of the chosen algorithm. This allows us to approximately label and identify common clusters across models. For example, what we labelled as cluster A across models consists mostly of a single stream, and we identify it in the choropleth figure as being made up of the London constituencies. Similarly, clusters labelled as C can be associated with Scotland. If we see the clusters from the UMAP + GMM model, we also notice how the streams labeled B, D, E, or F are mostly preserved throughout the various algorithms, even if they get absorbed into bigger clusters. \n",
    "\n",
    "![](Blog_images/Sankey_Comparison.png)\n",
    "\n",
    "Overall, we think that the HAC + UMAP + SNP model provides compeling results. It has a nice balance between the number of clusters with the general trends picked up by most models, such as the London, Scotland, or big cities patterns. We also see that it gives similar results to those of Ballard. We can then analyse each cluster's traits further in more detail under this particular model with the following interactive plot and heatmap. \n"
   ]
  },
  {
   "cell_type": "code",
   "execution_count": 25,
   "id": "52506e23-84f6-42c7-b1a1-5b7c59855b94",
   "metadata": {
    "tags": [
     "remove_input",
     "remove_all_output"
    ]
   },
   "outputs": [],
   "source": [
    "# Plotly interactive kpi map (made by myself)\n",
    "\n",
    "def interactive_kpi_map(datamap, output_data):\n",
    "\n",
    "    datamap_2 = pd.concat([output_data.set_index('ID'), datamap[['X', 'Y']]], axis=1, join='inner')\n",
    "    fig = px.scatter(datamap_2, x='X', y='Y', width=700, height=1000, \n",
    "                     color='Cluster_Name', \n",
    "                     color_discrete_map={\n",
    "                        \"A\": \"#A92E5E\",\n",
    "                        \"B\": \"#48BFE3\",\n",
    "                        \"C\": \"#F5DB4B\",\n",
    "                        \"D\": \"#FCAD12\",\n",
    "                        \"E\": \"#000004\",\n",
    "                        \"F\": \"#3A0963\"},\n",
    "                     custom_data=['Constituency', 'Region', 'Cluster_Name', 'seat_types_yg'], title='UK Constituency Map for UMAP + HAC + with %SNP')\n",
    "\n",
    "    fig.update_traces(marker=dict(size=13.5,\n",
    "    line=dict(width=0), symbol='square'),\n",
    "    selector=dict(mode='markers'))\n",
    "\n",
    "\n",
    "\n",
    "    fig.update_layout(showlegend=False, plot_bgcolor='rgba(0,0,0,0)')\n",
    "    fig.update_yaxes(visible=False, showticklabels=False)\n",
    "    fig.update_xaxes(visible=False, showticklabels=False)\n",
    "\n",
    "\n",
    "\n",
    "    fig.update_traces(\n",
    "        hovertemplate=\"<br>\".join([\n",
    "        \"Constituency: %{customdata[0]}\",\n",
    "        \"Region: %{customdata[1]}\",\n",
    "        \"Cluster: %{customdata[2]}\",\n",
    "        \"YouGov Seat: %{customdata[3]}\"\n",
    "        ])\n",
    "    )\n",
    "\n",
    "\n",
    "    #fig.update_traces(marker=dict(color=datamap_2['Colors']))\n",
    "        \n",
    "    fig.show()"
   ]
  },
  {
   "cell_type": "code",
   "execution_count": 26,
   "id": "b35d94bd-d1e1-48f9-80b5-8a1ec0b137a4",
   "metadata": {
    "tags": [
     "remove_input"
    ]
   },
   "outputs": [
    {
     "data": {
      "application/vnd.plotly.v1+json": {
       "config": {
        "plotlyServerURL": "https://plot.ly"
       },
       "data": [
        {
         "customdata": [
          [
           "Berwick-upon-Tweed",
           "North East",
           "E",
           "con safe"
          ],
          [
           "Hexham",
           "North East",
           "E",
           "con safe"
          ],
          [
           "Tynemouth",
           "North East",
           "E",
           "con lab marginal"
          ],
          [
           "City of Chester",
           "North West",
           "E",
           "con lab marginal"
          ],
          [
           "Congleton",
           "North West",
           "E",
           "con safe"
          ],
          [
           "Eddisbury",
           "North West",
           "E",
           "con safe"
          ],
          [
           "Fylde",
           "North West",
           "E",
           "con safe"
          ],
          [
           "Penrith and The Border",
           "North West",
           "E",
           "con safe"
          ],
          [
           "Ribble Valley",
           "North West",
           "E",
           "con safe"
          ],
          [
           "Sefton Central",
           "North West",
           "E",
           "lab safe"
          ],
          [
           "South Ribble",
           "North West",
           "E",
           "con safe"
          ],
          [
           "Southport",
           "North West",
           "E",
           "con safe"
          ],
          [
           "Westmorland and Lonsdale",
           "North West",
           "E",
           "con ld marginal"
          ],
          [
           "Wirral South",
           "North West",
           "E",
           "con lab marginal"
          ],
          [
           "Wirral West",
           "North West",
           "E",
           "con lab marginal"
          ],
          [
           "Wyre and Preston North",
           "North West",
           "E",
           "con safe"
          ],
          [
           "Beverley and Holderness",
           "Yorkshire and The Humber",
           "E",
           "con safe"
          ],
          [
           "Calder Valley",
           "Yorkshire and The Humber",
           "E",
           "con lab marginal"
          ],
          [
           "Colne Valley",
           "Yorkshire and The Humber",
           "E",
           "con lab marginal"
          ],
          [
           "East Yorkshire",
           "Yorkshire and The Humber",
           "E",
           "con safe"
          ],
          [
           "Elmet and Rothwell",
           "Yorkshire and The Humber",
           "E",
           "con safe"
          ],
          [
           "Haltemprice and Howden",
           "Yorkshire and The Humber",
           "E",
           "con safe"
          ],
          [
           "Pudsey",
           "Yorkshire and The Humber",
           "E",
           "con lab marginal"
          ],
          [
           "Richmond (Yorks)",
           "Yorkshire and The Humber",
           "E",
           "con safe"
          ],
          [
           "Scarborough and Whitby",
           "Yorkshire and The Humber",
           "E",
           "con safe"
          ],
          [
           "Selby and Ainsty",
           "Yorkshire and The Humber",
           "E",
           "con safe"
          ],
          [
           "Shipley",
           "Yorkshire and The Humber",
           "E",
           "con lab marginal"
          ],
          [
           "Skipton and Ripon",
           "Yorkshire and The Humber",
           "E",
           "con safe"
          ],
          [
           "Thirsk and Malton",
           "Yorkshire and The Humber",
           "E",
           "con safe"
          ],
          [
           "York Outer",
           "Yorkshire and The Humber",
           "E",
           "con safe"
          ],
          [
           "Boston and Skegness",
           "East Midlands",
           "E",
           "con safe"
          ],
          [
           "Broxtowe",
           "East Midlands",
           "E",
           "con lab marginal"
          ],
          [
           "Charnwood",
           "East Midlands",
           "E",
           "con safe"
          ],
          [
           "Derbyshire Dales",
           "East Midlands",
           "E",
           "con safe"
          ],
          [
           "Gainsborough",
           "East Midlands",
           "E",
           "con safe"
          ],
          [
           "Harborough",
           "East Midlands",
           "E",
           "con safe"
          ],
          [
           "High Peak",
           "East Midlands",
           "E",
           "con lab marginal"
          ],
          [
           "Louth and Horncastle",
           "East Midlands",
           "E",
           "con safe"
          ],
          [
           "Mid Derbyshire",
           "East Midlands",
           "E",
           "con safe"
          ],
          [
           "Newark",
           "East Midlands",
           "E",
           "con safe"
          ],
          [
           "Rushcliffe",
           "East Midlands",
           "E",
           "con safe"
          ],
          [
           "Rutland and Melton",
           "East Midlands",
           "E",
           "con safe"
          ],
          [
           "Sleaford and North Hykeham",
           "East Midlands",
           "E",
           "con safe"
          ],
          [
           "South Holland and The Deepings",
           "East Midlands",
           "E",
           "con safe"
          ],
          [
           "Bromsgrove",
           "West Midlands",
           "E",
           "con safe"
          ],
          [
           "Hereford and South Herefordshire",
           "West Midlands",
           "E",
           "con safe"
          ],
          [
           "Lichfield",
           "West Midlands",
           "E",
           "con safe"
          ],
          [
           "Ludlow",
           "West Midlands",
           "E",
           "con safe"
          ],
          [
           "Mid Worcestershire",
           "West Midlands",
           "E",
           "con safe"
          ],
          [
           "North Herefordshire",
           "West Midlands",
           "E",
           "con safe"
          ],
          [
           "North Shropshire",
           "West Midlands",
           "E",
           "con safe"
          ],
          [
           "Shrewsbury and Atcham",
           "West Midlands",
           "E",
           "con safe"
          ],
          [
           "Solihull",
           "West Midlands",
           "E",
           "con safe"
          ],
          [
           "South Staffordshire",
           "West Midlands",
           "E",
           "con safe"
          ],
          [
           "Stafford",
           "West Midlands",
           "E",
           "con safe"
          ],
          [
           "Staffordshire Moorlands",
           "West Midlands",
           "E",
           "con safe"
          ],
          [
           "Stone",
           "West Midlands",
           "E",
           "con safe"
          ],
          [
           "Sutton Coldfield",
           "West Midlands",
           "E",
           "con safe"
          ],
          [
           "The Wrekin",
           "West Midlands",
           "E",
           "con safe"
          ],
          [
           "West Worcestershire",
           "West Midlands",
           "E",
           "con safe"
          ],
          [
           "Broadland",
           "East of England",
           "E",
           "con safe"
          ],
          [
           "Central Suffolk and North Ipswich",
           "East of England",
           "E",
           "con safe"
          ],
          [
           "Clacton",
           "East of England",
           "E",
           "con safe"
          ],
          [
           "Great Yarmouth",
           "East of England",
           "E",
           "con safe"
          ],
          [
           "Harwich and North Essex",
           "East of England",
           "E",
           "con safe"
          ],
          [
           "Mid Norfolk",
           "East of England",
           "E",
           "con safe"
          ],
          [
           "North East Cambridgeshire",
           "East of England",
           "E",
           "con safe"
          ],
          [
           "North Norfolk",
           "East of England",
           "E",
           "con ld marginal"
          ],
          [
           "North West Norfolk",
           "East of England",
           "E",
           "con safe"
          ],
          [
           "South Norfolk",
           "East of England",
           "E",
           "con safe"
          ],
          [
           "South Suffolk",
           "East of England",
           "E",
           "con safe"
          ],
          [
           "South West Norfolk",
           "East of England",
           "E",
           "con safe"
          ],
          [
           "Suffolk Coastal",
           "East of England",
           "E",
           "con safe"
          ],
          [
           "Waveney",
           "East of England",
           "E",
           "con safe"
          ],
          [
           "Bexhill and Battle",
           "South East",
           "E",
           "con safe"
          ],
          [
           "Bognor Regis and Littlehampton",
           "South East",
           "E",
           "con safe"
          ],
          [
           "Chichester",
           "South East",
           "E",
           "con safe"
          ],
          [
           "Eastbourne",
           "South East",
           "E",
           "con ld marginal"
          ],
          [
           "Gosport",
           "South East",
           "E",
           "con safe"
          ],
          [
           "Hastings and Rye",
           "South East",
           "E",
           "con lab marginal"
          ],
          [
           "Isle of Wight",
           "South East",
           "E",
           "con safe"
          ],
          [
           "New Forest East",
           "South East",
           "E",
           "con safe"
          ],
          [
           "New Forest West",
           "South East",
           "E",
           "con safe"
          ],
          [
           "North Thanet",
           "South East",
           "E",
           "con safe"
          ],
          [
           "South Thanet",
           "South East",
           "E",
           "con safe"
          ],
          [
           "Bridgwater and West Somerset",
           "South West",
           "E",
           "con safe"
          ],
          [
           "Camborne and Redruth",
           "South West",
           "E",
           "con lab marginal"
          ],
          [
           "Central Devon",
           "South West",
           "E",
           "con safe"
          ],
          [
           "Christchurch",
           "South West",
           "E",
           "con safe"
          ],
          [
           "Devizes",
           "South West",
           "E",
           "con safe"
          ],
          [
           "East Devon",
           "South West",
           "E",
           "con safe"
          ],
          [
           "Forest of Dean",
           "South West",
           "E",
           "con safe"
          ],
          [
           "Newton Abbot",
           "South West",
           "E",
           "con safe"
          ],
          [
           "North Cornwall",
           "South West",
           "E",
           "con safe"
          ],
          [
           "North Devon",
           "South West",
           "E",
           "con safe"
          ],
          [
           "North Dorset",
           "South West",
           "E",
           "con safe"
          ],
          [
           "North East Somerset",
           "South West",
           "E",
           "con safe"
          ],
          [
           "Somerton and Frome",
           "South West",
           "E",
           "con safe"
          ],
          [
           "South Dorset",
           "South West",
           "E",
           "con safe"
          ],
          [
           "South East Cornwall",
           "South West",
           "E",
           "con safe"
          ],
          [
           "South West Devon",
           "South West",
           "E",
           "con safe"
          ],
          [
           "St Austell and Newquay",
           "South West",
           "E",
           "con safe"
          ],
          [
           "St Ives",
           "South West",
           "E",
           "con ld marginal"
          ],
          [
           "Stroud",
           "South West",
           "E",
           "con lab marginal"
          ],
          [
           "Taunton Deane",
           "South West",
           "E",
           "con safe"
          ],
          [
           "Tiverton and Honiton",
           "South West",
           "E",
           "con safe"
          ],
          [
           "Torbay",
           "South West",
           "E",
           "con safe"
          ],
          [
           "Torridge and West Devon",
           "South West",
           "E",
           "con safe"
          ],
          [
           "Totnes",
           "South West",
           "E",
           "con safe"
          ],
          [
           "Truro and Falmouth",
           "South West",
           "E",
           "con lab marginal"
          ],
          [
           "Wells",
           "South West",
           "E",
           "con ld marginal"
          ],
          [
           "West Dorset",
           "South West",
           "E",
           "con safe"
          ],
          [
           "Weston-Super-Mare",
           "South West",
           "E",
           "con safe"
          ],
          [
           "Yeovil",
           "South West",
           "E",
           "con safe"
          ],
          [
           "East Dunbartonshire",
           "Scotland",
           "E",
           "ld snp marginal"
          ],
          [
           "East Renfrewshire",
           "Scotland",
           "E",
           "con snp marginal"
          ],
          [
           "Edinburgh West",
           "Scotland",
           "E",
           "ld snp marginal"
          ],
          [
           "North East Fife",
           "Scotland",
           "E",
           "ld snp marginal"
          ],
          [
           "Ynys Mon",
           "Wales",
           "E",
           "con lab marginal"
          ],
          [
           "Gower",
           "Wales",
           "E",
           "con lab marginal"
          ],
          [
           "Cardiff North",
           "Wales",
           "E",
           "con lab marginal"
          ],
          [
           "Monmouth",
           "Wales",
           "E",
           "con safe"
          ],
          [
           "Aberconwy",
           "Wales",
           "E",
           "con lab marginal"
          ],
          [
           "Clwyd West",
           "Wales",
           "E",
           "con safe"
          ],
          [
           "Vale of Clwyd",
           "Wales",
           "E",
           "con lab marginal"
          ],
          [
           "Dwyfor Meirionnydd",
           "Wales",
           "E",
           "pc safe"
          ],
          [
           "Montgomeryshire",
           "Wales",
           "E",
           "con safe"
          ],
          [
           "Ceredigion",
           "Wales",
           "E",
           "ld pc marginal"
          ],
          [
           "Preseli Pembrokeshire",
           "Wales",
           "E",
           "con lab marginal"
          ],
          [
           "Carmarthen West and Pembrokeshire South",
           "Wales",
           "E",
           "con lab marginal"
          ],
          [
           "Carmarthen East and Dinefwr",
           "Wales",
           "E",
           "con pc marginal"
          ],
          [
           "Brecon and Radnorshire",
           "Wales",
           "E",
           "con ld marginal"
          ],
          [
           "Vale of Glamorgan",
           "Wales",
           "E",
           "con lab marginal"
          ]
         ],
         "hovertemplate": "Constituency: %{customdata[0]}<br>Region: %{customdata[1]}<br>Cluster: %{customdata[2]}<br>YouGov Seat: %{customdata[3]}",
         "legendgroup": "E",
         "marker": {
          "color": "#000004",
          "line": {
           "width": 0
          },
          "size": 13.5,
          "symbol": "square"
         },
         "mode": "markers",
         "name": "E",
         "orientation": "v",
         "showlegend": true,
         "type": "scatter",
         "x": [
          -4,
          -4,
          -1,
          -8,
          -5,
          -7,
          -7,
          -5,
          -3,
          -9,
          -8,
          -9,
          -4,
          -9,
          -11,
          -6,
          4,
          -4,
          -4,
          3,
          2,
          2,
          -1,
          -3,
          2,
          2,
          -2,
          -4,
          1,
          -1,
          4,
          0,
          3,
          -3,
          2,
          3,
          -3,
          4,
          -2,
          3,
          3,
          4,
          4,
          4,
          -4,
          -7,
          -2,
          -8,
          -5,
          -8,
          -8,
          -9,
          -2,
          -6,
          -4,
          -3,
          -5,
          -2,
          -7,
          -7,
          7,
          10,
          10,
          8,
          10,
          6,
          6,
          6,
          5,
          9,
          10,
          7,
          9,
          8,
          10,
          2,
          -1,
          9,
          -3,
          11,
          -6,
          -6,
          -6,
          13,
          13,
          -11,
          -15,
          -13,
          -7,
          -5,
          -11,
          -7,
          -12,
          -14,
          -12,
          -7,
          -6,
          -8,
          -9,
          -14,
          -13,
          -15,
          -16,
          -6,
          -10,
          -11,
          -13,
          -13,
          -13,
          -15,
          -10,
          -9,
          -9,
          -10,
          -8,
          -10,
          -7,
          -4,
          -14,
          -14,
          -10,
          -8,
          -12,
          -11,
          -10,
          -12,
          -11,
          -12,
          -15,
          -15,
          -14,
          -9,
          -11
         ],
         "xaxis": "x",
         "y": [
          17,
          16,
          17,
          1,
          2,
          1,
          10,
          15,
          12,
          8,
          9,
          9,
          13,
          2,
          2,
          11,
          8,
          9,
          7,
          10,
          10,
          9,
          10,
          11,
          11,
          8,
          10,
          11,
          11,
          11,
          5,
          1,
          0,
          3,
          5,
          -1,
          4,
          6,
          2,
          4,
          1,
          2,
          4,
          3,
          -5,
          -5,
          0,
          -2,
          -5,
          -4,
          0,
          -1,
          -4,
          0,
          0,
          2,
          0,
          -1,
          0,
          -4,
          2,
          0,
          -3,
          2,
          -2,
          1,
          0,
          2,
          1,
          0,
          -1,
          0,
          1,
          1,
          -15,
          -15,
          -15,
          -15,
          -14,
          -14,
          -15,
          -13,
          -12,
          -10,
          -11,
          -12,
          -17,
          -13,
          -13,
          -10,
          -14,
          -6,
          -14,
          -13,
          -12,
          -12,
          -10,
          -11,
          -15,
          -14,
          -14,
          -15,
          -16,
          -7,
          -13,
          -13,
          -15,
          -12,
          -16,
          -16,
          -12,
          -14,
          -12,
          -14,
          22,
          18,
          19,
          23,
          1,
          -9,
          -7,
          -5,
          0,
          0,
          0,
          -1,
          -1,
          -6,
          -7,
          -8,
          -7,
          -2,
          -9
         ],
         "yaxis": "y"
        },
        {
         "customdata": [
          [
           "Bishop Auckland",
           "North East",
           "D",
           "con lab marginal"
          ],
          [
           "Blaydon",
           "North East",
           "D",
           "lab safe"
          ],
          [
           "Blyth Valley",
           "North East",
           "D",
           "con lab marginal"
          ],
          [
           "Darlington",
           "North East",
           "D",
           "con lab marginal"
          ],
          [
           "Easington",
           "North East",
           "D",
           "lab safe"
          ],
          [
           "Gateshead",
           "North East",
           "D",
           "lab safe"
          ],
          [
           "Hartlepool",
           "North East",
           "D",
           "con lab marginal"
          ],
          [
           "Houghton and Sunderland South",
           "North East",
           "D",
           "lab safe"
          ],
          [
           "Jarrow",
           "North East",
           "D",
           "lab safe"
          ],
          [
           "Middlesbrough",
           "North East",
           "D",
           "lab safe"
          ],
          [
           "Middlesbrough South and East Cleveland",
           "North East",
           "D",
           "con safe"
          ],
          [
           "Newcastle upon Tyne North",
           "North East",
           "D",
           "con lab marginal"
          ],
          [
           "North Durham",
           "North East",
           "D",
           "lab safe"
          ],
          [
           "North Tyneside",
           "North East",
           "D",
           "lab safe"
          ],
          [
           "North West Durham",
           "North East",
           "D",
           "con lab marginal"
          ],
          [
           "Redcar",
           "North East",
           "D",
           "con lab marginal"
          ],
          [
           "Sedgefield",
           "North East",
           "D",
           "con lab marginal"
          ],
          [
           "South Shields",
           "North East",
           "D",
           "lab safe"
          ],
          [
           "Stockton North",
           "North East",
           "D",
           "con lab marginal"
          ],
          [
           "Stockton South",
           "North East",
           "D",
           "con lab marginal"
          ],
          [
           "Sunderland Central",
           "North East",
           "D",
           "lab safe"
          ],
          [
           "Wansbeck",
           "North East",
           "D",
           "con lab marginal"
          ],
          [
           "Washington and Sunderland West",
           "North East",
           "D",
           "lab safe"
          ],
          [
           "Ashton-under-Lyne",
           "North West",
           "D",
           "con lab marginal"
          ],
          [
           "Barrow and Furness",
           "North West",
           "D",
           "con safe"
          ],
          [
           "Birkenhead",
           "North West",
           "D",
           "lab safe"
          ],
          [
           "Blackpool North and Cleveleys",
           "North West",
           "D",
           "con safe"
          ],
          [
           "Blackpool South",
           "North West",
           "D",
           "con lab marginal"
          ],
          [
           "Bolton North East",
           "North West",
           "D",
           "con lab marginal"
          ],
          [
           "Bolton West",
           "North West",
           "D",
           "con safe"
          ],
          [
           "Bootle",
           "North West",
           "D",
           "lab safe"
          ],
          [
           "Burnley",
           "North West",
           "D",
           "con lab marginal"
          ],
          [
           "Bury North",
           "North West",
           "D",
           "con lab marginal"
          ],
          [
           "Bury South",
           "North West",
           "D",
           "con lab marginal"
          ],
          [
           "Carlisle",
           "North West",
           "D",
           "con safe"
          ],
          [
           "Copeland",
           "North West",
           "D",
           "con safe"
          ],
          [
           "Crewe and Nantwich",
           "North West",
           "D",
           "con lab marginal"
          ],
          [
           "Denton and Reddish",
           "North West",
           "D",
           "lab safe"
          ],
          [
           "Ellesmere Port and Neston",
           "North West",
           "D",
           "con lab marginal"
          ],
          [
           "Garston and Halewood",
           "North West",
           "D",
           "lab safe"
          ],
          [
           "Halton",
           "North West",
           "D",
           "lab safe"
          ],
          [
           "Heywood and Middleton",
           "North West",
           "D",
           "con lab marginal"
          ],
          [
           "Hyndburn",
           "North West",
           "D",
           "con lab marginal"
          ],
          [
           "Knowsley",
           "North West",
           "D",
           "lab safe"
          ],
          [
           "Leigh",
           "North West",
           "D",
           "con lab marginal"
          ],
          [
           "Liverpool, Walton",
           "North West",
           "D",
           "lab safe"
          ],
          [
           "Liverpool, West Derby",
           "North West",
           "D",
           "lab safe"
          ],
          [
           "Makerfield",
           "North West",
           "D",
           "con lab marginal"
          ],
          [
           "Morecambe and Lunesdale",
           "North West",
           "D",
           "con lab marginal"
          ],
          [
           "Oldham East and Saddleworth",
           "North West",
           "D",
           "con lab marginal"
          ],
          [
           "Pendle",
           "North West",
           "D",
           "con safe"
          ],
          [
           "Rossendale and Darwen",
           "North West",
           "D",
           "con safe"
          ],
          [
           "St Helens North",
           "North West",
           "D",
           "lab safe"
          ],
          [
           "St Helens South and Whiston",
           "North West",
           "D",
           "lab safe"
          ],
          [
           "Stalybridge and Hyde",
           "North West",
           "D",
           "con lab marginal"
          ],
          [
           "Wallasey",
           "North West",
           "D",
           "lab safe"
          ],
          [
           "Warrington North",
           "North West",
           "D",
           "con lab marginal"
          ],
          [
           "Warrington South",
           "North West",
           "D",
           "con lab marginal"
          ],
          [
           "Weaver Vale",
           "North West",
           "D",
           "con lab marginal"
          ],
          [
           "West Lancashire",
           "North West",
           "D",
           "con lab marginal"
          ],
          [
           "Wigan",
           "North West",
           "D",
           "con lab marginal"
          ],
          [
           "Workington",
           "North West",
           "D",
           "con lab marginal"
          ],
          [
           "Worsley and Eccles South",
           "North West",
           "D",
           "con lab marginal"
          ],
          [
           "Barnsley Central",
           "Yorkshire and The Humber",
           "D",
           "lab safe"
          ],
          [
           "Barnsley East",
           "Yorkshire and The Humber",
           "D",
           "con lab marginal"
          ],
          [
           "Batley and Spen",
           "Yorkshire and The Humber",
           "D",
           "con lab marginal"
          ],
          [
           "Bradford South",
           "Yorkshire and The Humber",
           "D",
           "con lab marginal"
          ],
          [
           "Brigg and Goole",
           "Yorkshire and The Humber",
           "D",
           "con safe"
          ],
          [
           "Cleethorpes",
           "Yorkshire and The Humber",
           "D",
           "con safe"
          ],
          [
           "Dewsbury",
           "Yorkshire and The Humber",
           "D",
           "con lab marginal"
          ],
          [
           "Don Valley",
           "Yorkshire and The Humber",
           "D",
           "con lab marginal"
          ],
          [
           "Doncaster Central",
           "Yorkshire and The Humber",
           "D",
           "con lab marginal"
          ],
          [
           "Doncaster North",
           "Yorkshire and The Humber",
           "D",
           "con lab marginal"
          ],
          [
           "Great Grimsby",
           "Yorkshire and The Humber",
           "D",
           "con lab marginal"
          ],
          [
           "Halifax",
           "Yorkshire and The Humber",
           "D",
           "con lab marginal"
          ],
          [
           "Hemsworth",
           "Yorkshire and The Humber",
           "D",
           "con lab marginal"
          ],
          [
           "Keighley",
           "Yorkshire and The Humber",
           "D",
           "con lab marginal"
          ],
          [
           "Kingston upon Hull East",
           "Yorkshire and The Humber",
           "D",
           "con lab marginal"
          ],
          [
           "Kingston upon Hull North",
           "Yorkshire and The Humber",
           "D",
           "lab safe"
          ],
          [
           "Kingston upon Hull West and Hessle",
           "Yorkshire and The Humber",
           "D",
           "con lab marginal"
          ],
          [
           "Morley and Outwood",
           "Yorkshire and The Humber",
           "D",
           "con safe"
          ],
          [
           "Normanton, Pontefract and Castleford",
           "Yorkshire and The Humber",
           "D",
           "con lab marginal"
          ],
          [
           "Penistone and Stocksbridge",
           "Yorkshire and The Humber",
           "D",
           "con lab marginal"
          ],
          [
           "Rother Valley",
           "Yorkshire and The Humber",
           "D",
           "con lab marginal"
          ],
          [
           "Rotherham",
           "Yorkshire and The Humber",
           "D",
           "con lab marginal"
          ],
          [
           "Scunthorpe",
           "Yorkshire and The Humber",
           "D",
           "con lab marginal"
          ],
          [
           "Sheffield South East",
           "Yorkshire and The Humber",
           "D",
           "con lab marginal"
          ],
          [
           "Sheffield, Brightside and Hillsborough",
           "Yorkshire and The Humber",
           "D",
           "lab safe"
          ],
          [
           "Sheffield, Heeley",
           "Yorkshire and The Humber",
           "D",
           "lab safe"
          ],
          [
           "Wakefield",
           "Yorkshire and The Humber",
           "D",
           "con lab marginal"
          ],
          [
           "Wentworth and Dearne",
           "Yorkshire and The Humber",
           "D",
           "con lab marginal"
          ],
          [
           "Amber Valley",
           "East Midlands",
           "D",
           "con safe"
          ],
          [
           "Ashfield",
           "East Midlands",
           "D",
           "con lab marginal"
          ],
          [
           "Bassetlaw",
           "East Midlands",
           "D",
           "con lab marginal"
          ],
          [
           "Bolsover",
           "East Midlands",
           "D",
           "con lab marginal"
          ],
          [
           "Bosworth",
           "East Midlands",
           "D",
           "con safe"
          ],
          [
           "Chesterfield",
           "East Midlands",
           "D",
           "con lab marginal"
          ],
          [
           "Corby",
           "East Midlands",
           "D",
           "con safe"
          ],
          [
           "Erewash",
           "East Midlands",
           "D",
           "con safe"
          ],
          [
           "Gedling",
           "East Midlands",
           "D",
           "con lab marginal"
          ],
          [
           "Kettering",
           "East Midlands",
           "D",
           "con safe"
          ],
          [
           "Mansfield",
           "East Midlands",
           "D",
           "con safe"
          ],
          [
           "North East Derbyshire",
           "East Midlands",
           "D",
           "con safe"
          ],
          [
           "North West Leicestershire",
           "East Midlands",
           "D",
           "con safe"
          ],
          [
           "Sherwood",
           "East Midlands",
           "D",
           "con safe"
          ],
          [
           "South Derbyshire",
           "East Midlands",
           "D",
           "con safe"
          ],
          [
           "South Leicestershire",
           "East Midlands",
           "D",
           "con safe"
          ],
          [
           "Aldridge-Brownhills",
           "West Midlands",
           "D",
           "con safe"
          ],
          [
           "Birmingham, Northfield",
           "West Midlands",
           "D",
           "con lab marginal"
          ],
          [
           "Burton",
           "West Midlands",
           "D",
           "con safe"
          ],
          [
           "Cannock Chase",
           "West Midlands",
           "D",
           "con safe"
          ],
          [
           "Dudley North",
           "West Midlands",
           "D",
           "con lab marginal"
          ],
          [
           "Dudley South",
           "West Midlands",
           "D",
           "con safe"
          ],
          [
           "Halesowen and Rowley Regis",
           "West Midlands",
           "D",
           "con safe"
          ],
          [
           "Meriden",
           "West Midlands",
           "D",
           "con safe"
          ],
          [
           "Newcastle-under-Lyme",
           "West Midlands",
           "D",
           "con lab marginal"
          ],
          [
           "North Warwickshire",
           "West Midlands",
           "D",
           "con safe"
          ],
          [
           "Nuneaton",
           "West Midlands",
           "D",
           "con safe"
          ],
          [
           "Redditch",
           "West Midlands",
           "D",
           "con safe"
          ],
          [
           "Rugby",
           "West Midlands",
           "D",
           "con safe"
          ],
          [
           "Stoke-on-Trent Central",
           "West Midlands",
           "D",
           "con lab marginal"
          ],
          [
           "Stoke-on-Trent North",
           "West Midlands",
           "D",
           "con lab marginal"
          ],
          [
           "Stoke-on-Trent South",
           "West Midlands",
           "D",
           "con safe"
          ],
          [
           "Stourbridge",
           "West Midlands",
           "D",
           "con safe"
          ],
          [
           "Tamworth",
           "West Midlands",
           "D",
           "con safe"
          ],
          [
           "Telford",
           "West Midlands",
           "D",
           "con safe"
          ],
          [
           "Walsall North",
           "West Midlands",
           "D",
           "con safe"
          ],
          [
           "Worcester",
           "West Midlands",
           "D",
           "con safe"
          ],
          [
           "Wyre Forest",
           "West Midlands",
           "D",
           "con safe"
          ],
          [
           "Norwich North",
           "East of England",
           "D",
           "con lab marginal"
          ],
          [
           "Havant",
           "South East",
           "D",
           "con safe"
          ],
          [
           "Plymouth, Moor View",
           "South West",
           "D",
           "con safe"
          ],
          [
           "Delyn",
           "Wales",
           "D",
           "con lab marginal"
          ],
          [
           "Alyn and Deeside",
           "Wales",
           "D",
           "con lab marginal"
          ],
          [
           "Wrexham",
           "Wales",
           "D",
           "con lab marginal"
          ],
          [
           "Llanelli",
           "Wales",
           "D",
           "lab safe"
          ],
          [
           "Swansea East",
           "Wales",
           "D",
           "lab safe"
          ],
          [
           "Aberavon",
           "Wales",
           "D",
           "lab safe"
          ],
          [
           "Rhondda",
           "Wales",
           "D",
           "lab safe"
          ],
          [
           "Torfaen",
           "Wales",
           "D",
           "con lab marginal"
          ],
          [
           "Newport East",
           "Wales",
           "D",
           "con lab marginal"
          ],
          [
           "Newport West",
           "Wales",
           "D",
           "con lab marginal"
          ],
          [
           "Clwyd South",
           "Wales",
           "D",
           "con lab marginal"
          ],
          [
           "Neath",
           "Wales",
           "D",
           "lab safe"
          ],
          [
           "Cynon Valley",
           "Wales",
           "D",
           "lab safe"
          ],
          [
           "Merthyr Tydfil and Rhymney",
           "Wales",
           "D",
           "lab safe"
          ],
          [
           "Blaenau Gwent",
           "Wales",
           "D",
           "lab safe"
          ],
          [
           "Bridgend",
           "Wales",
           "D",
           "con lab marginal"
          ],
          [
           "Ogmore",
           "Wales",
           "D",
           "lab safe"
          ],
          [
           "Pontypridd",
           "Wales",
           "D",
           "lab safe"
          ],
          [
           "Caerphilly",
           "Wales",
           "D",
           "lab safe"
          ],
          [
           "Islwyn",
           "Wales",
           "D",
           "lab safe"
          ]
         ],
         "hovertemplate": "Constituency: %{customdata[0]}<br>Region: %{customdata[1]}<br>Cluster: %{customdata[2]}<br>YouGov Seat: %{customdata[3]}",
         "legendgroup": "D",
         "marker": {
          "color": "#FCAD12",
          "line": {
           "width": 0
          },
          "size": 13.5,
          "symbol": "square"
         },
         "mode": "markers",
         "name": "D",
         "orientation": "v",
         "showlegend": true,
         "type": "scatter",
         "x": [
          -2,
          -3,
          -2,
          -1,
          0,
          -3,
          1,
          -1,
          -1,
          1,
          2,
          -3,
          -2,
          -1,
          -3,
          1,
          -1,
          0,
          0,
          0,
          0,
          -3,
          -2,
          -5,
          -5,
          -10,
          -6,
          -8,
          -7,
          -8,
          -10,
          -4,
          -6,
          -6,
          -4,
          -6,
          -6,
          -4,
          -9,
          -9,
          -8,
          -5,
          -5,
          -9,
          -8,
          -10,
          -10,
          -9,
          -5,
          -5,
          -5,
          -5,
          -9,
          -9,
          -4,
          -11,
          -8,
          -8,
          -7,
          -8,
          -7,
          -5,
          -8,
          -2,
          -1,
          -1,
          -2,
          1,
          2,
          -2,
          1,
          1,
          0,
          3,
          -3,
          0,
          -3,
          3,
          3,
          3,
          0,
          1,
          -3,
          1,
          0,
          2,
          0,
          -2,
          -2,
          -1,
          -1,
          0,
          1,
          2,
          0,
          0,
          -1,
          4,
          1,
          3,
          4,
          1,
          -2,
          0,
          2,
          -2,
          1,
          -3,
          -4,
          -3,
          -4,
          -7,
          -6,
          -6,
          -2,
          -5,
          -1,
          0,
          -4,
          0,
          -4,
          -4,
          -3,
          -5,
          -1,
          -8,
          -6,
          -6,
          -8,
          7,
          -1,
          -14,
          -11,
          -10,
          -9,
          -14,
          -13,
          -12,
          -11,
          -9,
          -8,
          -9,
          -10,
          -12,
          -10,
          -9,
          -9,
          -12,
          -11,
          -11,
          -10,
          -9
         ],
         "xaxis": "x",
         "y": [
          12,
          14,
          17,
          12,
          14,
          15,
          14,
          14,
          15,
          12,
          12,
          16,
          14,
          16,
          13,
          13,
          13,
          16,
          13,
          12,
          15,
          17,
          15,
          6,
          13,
          2,
          12,
          11,
          7,
          7,
          7,
          10,
          9,
          8,
          14,
          13,
          1,
          5,
          1,
          3,
          2,
          8,
          10,
          6,
          6,
          6,
          5,
          7,
          12,
          7,
          11,
          9,
          5,
          4,
          6,
          3,
          4,
          3,
          2,
          8,
          8,
          14,
          5,
          6,
          6,
          8,
          8,
          7,
          7,
          7,
          5,
          6,
          6,
          6,
          8,
          7,
          10,
          7,
          9,
          8,
          8,
          8,
          6,
          4,
          5,
          6,
          4,
          5,
          4,
          7,
          5,
          2,
          2,
          4,
          3,
          -1,
          3,
          1,
          0,
          2,
          0,
          3,
          3,
          0,
          3,
          1,
          -2,
          -1,
          -4,
          1,
          -1,
          -3,
          -4,
          -3,
          -5,
          1,
          -1,
          -2,
          -6,
          -3,
          1,
          2,
          0,
          -4,
          0,
          -1,
          -1,
          -5,
          -3,
          1,
          -14,
          -15,
          1,
          1,
          0,
          -8,
          -7,
          -8,
          -6,
          -5,
          -6,
          -7,
          -1,
          -7,
          -5,
          -4,
          -3,
          -9,
          -8,
          -7,
          -6,
          -6
         ],
         "yaxis": "y"
        },
        {
         "customdata": [
          [
           "City of Durham",
           "North East",
           "B",
           "con lab marginal"
          ],
          [
           "Newcastle upon Tyne Central",
           "North East",
           "B",
           "lab safe"
          ],
          [
           "Newcastle upon Tyne East",
           "North East",
           "B",
           "lab safe"
          ],
          [
           "Blackburn",
           "North West",
           "B",
           "lab safe"
          ],
          [
           "Blackley and Broughton",
           "North West",
           "B",
           "lab safe"
          ],
          [
           "Bolton South East",
           "North West",
           "B",
           "lab safe"
          ],
          [
           "Lancaster and Fleetwood",
           "North West",
           "B",
           "con lab marginal"
          ],
          [
           "Liverpool, Riverside",
           "North West",
           "B",
           "lab safe"
          ],
          [
           "Liverpool, Wavertree",
           "North West",
           "B",
           "lab safe"
          ],
          [
           "Manchester Central",
           "North West",
           "B",
           "lab safe"
          ],
          [
           "Manchester, Gorton",
           "North West",
           "B",
           "lab safe"
          ],
          [
           "Manchester, Withington",
           "North West",
           "B",
           "lab safe"
          ],
          [
           "Oldham West and Royton",
           "North West",
           "B",
           "lab safe"
          ],
          [
           "Preston",
           "North West",
           "B",
           "lab safe"
          ],
          [
           "Rochdale",
           "North West",
           "B",
           "lab safe"
          ],
          [
           "Salford and Eccles",
           "North West",
           "B",
           "lab safe"
          ],
          [
           "Stockport",
           "North West",
           "B",
           "lab safe"
          ],
          [
           "Stretford and Urmston",
           "North West",
           "B",
           "lab safe"
          ],
          [
           "Wythenshawe and Sale East",
           "North West",
           "B",
           "lab safe"
          ],
          [
           "Bradford East",
           "Yorkshire and The Humber",
           "B",
           "lab safe"
          ],
          [
           "Bradford West",
           "Yorkshire and The Humber",
           "B",
           "lab safe"
          ],
          [
           "Huddersfield",
           "Yorkshire and The Humber",
           "B",
           "con lab marginal"
          ],
          [
           "Leeds Central",
           "Yorkshire and The Humber",
           "B",
           "lab safe"
          ],
          [
           "Leeds East",
           "Yorkshire and The Humber",
           "B",
           "lab safe"
          ],
          [
           "Leeds North East",
           "Yorkshire and The Humber",
           "B",
           "lab safe"
          ],
          [
           "Leeds North West",
           "Yorkshire and The Humber",
           "B",
           "lab safe"
          ],
          [
           "Leeds West",
           "Yorkshire and The Humber",
           "B",
           "lab safe"
          ],
          [
           "Sheffield Central",
           "Yorkshire and The Humber",
           "B",
           "lab safe"
          ],
          [
           "York Central",
           "Yorkshire and The Humber",
           "B",
           "lab safe"
          ],
          [
           "Derby North",
           "East Midlands",
           "B",
           "con lab marginal"
          ],
          [
           "Derby South",
           "East Midlands",
           "B",
           "con lab marginal"
          ],
          [
           "Leicester South",
           "East Midlands",
           "B",
           "lab safe"
          ],
          [
           "Leicester West",
           "East Midlands",
           "B",
           "lab safe"
          ],
          [
           "Lincoln",
           "East Midlands",
           "B",
           "con lab marginal"
          ],
          [
           "Loughborough",
           "East Midlands",
           "B",
           "con lab marginal"
          ],
          [
           "Nottingham East",
           "East Midlands",
           "B",
           "lab safe"
          ],
          [
           "Nottingham North",
           "East Midlands",
           "B",
           "lab safe"
          ],
          [
           "Nottingham South",
           "East Midlands",
           "B",
           "lab safe"
          ],
          [
           "Birmingham, Edgbaston",
           "West Midlands",
           "B",
           "con lab marginal"
          ],
          [
           "Birmingham, Erdington",
           "West Midlands",
           "B",
           "con lab marginal"
          ],
          [
           "Birmingham, Hall Green",
           "West Midlands",
           "B",
           "lab safe"
          ],
          [
           "Birmingham, Hodge Hill",
           "West Midlands",
           "B",
           "lab safe"
          ],
          [
           "Birmingham, Ladywood",
           "West Midlands",
           "B",
           "lab safe"
          ],
          [
           "Birmingham, Perry Barr",
           "West Midlands",
           "B",
           "lab safe"
          ],
          [
           "Birmingham, Selly Oak",
           "West Midlands",
           "B",
           "lab safe"
          ],
          [
           "Birmingham, Yardley",
           "West Midlands",
           "B",
           "lab safe"
          ],
          [
           "Coventry North East",
           "West Midlands",
           "B",
           "lab safe"
          ],
          [
           "Coventry North West",
           "West Midlands",
           "B",
           "con lab marginal"
          ],
          [
           "Coventry South",
           "West Midlands",
           "B",
           "con lab marginal"
          ],
          [
           "Walsall South",
           "West Midlands",
           "B",
           "con lab marginal"
          ],
          [
           "Warley",
           "West Midlands",
           "B",
           "lab safe"
          ],
          [
           "Warwick and Leamington",
           "West Midlands",
           "B",
           "con lab marginal"
          ],
          [
           "West Bromwich East",
           "West Midlands",
           "B",
           "con lab marginal"
          ],
          [
           "West Bromwich West",
           "West Midlands",
           "B",
           "con lab marginal"
          ],
          [
           "Wolverhampton North East",
           "West Midlands",
           "B",
           "con lab marginal"
          ],
          [
           "Wolverhampton South East",
           "West Midlands",
           "B",
           "con lab marginal"
          ],
          [
           "Wolverhampton South West",
           "West Midlands",
           "B",
           "con lab marginal"
          ],
          [
           "Cambridge",
           "East of England",
           "B",
           "lab safe"
          ],
          [
           "Norwich South",
           "East of England",
           "B",
           "lab safe"
          ],
          [
           "Brighton, Kemptown",
           "South East",
           "B",
           "lab safe"
          ],
          [
           "Brighton, Pavilion",
           "South East",
           "B",
           "green safe"
          ],
          [
           "Canterbury",
           "South East",
           "B",
           "con lab marginal"
          ],
          [
           "Hove",
           "South East",
           "B",
           "lab safe"
          ],
          [
           "Oxford East",
           "South East",
           "B",
           "lab safe"
          ],
          [
           "Portsmouth South",
           "South East",
           "B",
           "con lab marginal"
          ],
          [
           "Reading East",
           "South East",
           "B",
           "con lab marginal"
          ],
          [
           "Southampton, Itchen",
           "South East",
           "B",
           "con lab marginal"
          ],
          [
           "Southampton, Test",
           "South East",
           "B",
           "lab safe"
          ],
          [
           "Bath",
           "South West",
           "B",
           "ld safe"
          ],
          [
           "Bournemouth West",
           "South West",
           "B",
           "con safe"
          ],
          [
           "Bristol East",
           "South West",
           "B",
           "lab safe"
          ],
          [
           "Bristol North West",
           "South West",
           "B",
           "con lab marginal"
          ],
          [
           "Bristol South",
           "South West",
           "B",
           "lab safe"
          ],
          [
           "Bristol West",
           "South West",
           "B",
           "lab safe"
          ],
          [
           "Exeter",
           "South West",
           "B",
           "lab safe"
          ],
          [
           "Plymouth, Sutton and Devonport",
           "South West",
           "B",
           "con lab marginal"
          ],
          [
           "Edinburgh East",
           "Scotland",
           "B",
           "snp safe"
          ],
          [
           "Edinburgh North and Leith",
           "Scotland",
           "B",
           "snp safe"
          ],
          [
           "Edinburgh South",
           "Scotland",
           "B",
           "lab safe"
          ],
          [
           "Edinburgh South West",
           "Scotland",
           "B",
           "snp safe"
          ],
          [
           "Glasgow Central",
           "Scotland",
           "B",
           "snp safe"
          ],
          [
           "Glasgow North",
           "Scotland",
           "B",
           "snp safe"
          ],
          [
           "Swansea West",
           "Wales",
           "B",
           "lab safe"
          ],
          [
           "Cardiff Central",
           "Wales",
           "B",
           "lab safe"
          ],
          [
           "Arfon",
           "Wales",
           "B",
           "pc safe"
          ],
          [
           "Cardiff West",
           "Wales",
           "B",
           "lab safe"
          ],
          [
           "Cardiff South and Penarth",
           "Wales",
           "B",
           "lab safe"
          ]
         ],
         "hovertemplate": "Constituency: %{customdata[0]}<br>Region: %{customdata[1]}<br>Cluster: %{customdata[2]}<br>YouGov Seat: %{customdata[3]}",
         "legendgroup": "B",
         "marker": {
          "color": "#48BFE3",
          "line": {
           "width": 0
          },
          "size": 13.5,
          "symbol": "square"
         },
         "mode": "markers",
         "name": "B",
         "orientation": "v",
         "showlegend": true,
         "type": "scatter",
         "x": [
          -2,
          -4,
          -2,
          -6,
          -6,
          -7,
          -4,
          -10,
          -10,
          -6,
          -5,
          -6,
          -6,
          -7,
          -4,
          -7,
          -5,
          -7,
          -6,
          -2,
          -3,
          -3,
          0,
          1,
          1,
          0,
          -1,
          -1,
          0,
          -1,
          -1,
          2,
          1,
          3,
          2,
          2,
          2,
          1,
          -4,
          -2,
          -3,
          -1,
          -3,
          -3,
          -3,
          -2,
          -1,
          -1,
          0,
          -5,
          -5,
          -1,
          -4,
          -5,
          -7,
          -6,
          -7,
          6,
          8,
          7,
          6,
          12,
          5,
          0,
          -2,
          -3,
          -5,
          -5,
          -6,
          -8,
          -7,
          -8,
          -7,
          -8,
          -12,
          -14,
          -5,
          -6,
          -5,
          -6,
          -9,
          -9,
          -13,
          -9,
          -13,
          -10,
          -10
         ],
         "xaxis": "x",
         "y": [
          13,
          15,
          16,
          10,
          6,
          6,
          12,
          4,
          3,
          5,
          5,
          4,
          7,
          11,
          8,
          5,
          4,
          4,
          3,
          9,
          9,
          7,
          9,
          9,
          10,
          10,
          9,
          4,
          11,
          2,
          1,
          -2,
          -1,
          5,
          0,
          1,
          2,
          1,
          -3,
          -2,
          -4,
          -2,
          -3,
          -2,
          -5,
          -3,
          -3,
          -4,
          -4,
          -1,
          -3,
          -5,
          -2,
          -2,
          -1,
          -2,
          -2,
          -1,
          0,
          -15,
          -15,
          -12,
          -15,
          -5,
          -14,
          -7,
          -13,
          -12,
          -9,
          -14,
          -9,
          -9,
          -10,
          -10,
          -13,
          -16,
          19,
          19,
          18,
          18,
          19,
          20,
          -8,
          -8,
          -1,
          -8,
          -9
         ],
         "yaxis": "y"
        },
        {
         "customdata": [
          [
           "Altrincham and Sale West",
           "North West",
           "F",
           "con safe"
          ],
          [
           "Cheadle",
           "North West",
           "F",
           "con ld marginal"
          ],
          [
           "Hazel Grove",
           "North West",
           "F",
           "con ld marginal"
          ],
          [
           "Macclesfield",
           "North West",
           "F",
           "con safe"
          ],
          [
           "Tatton",
           "North West",
           "F",
           "con safe"
          ],
          [
           "Harrogate and Knaresborough",
           "Yorkshire and The Humber",
           "F",
           "con safe"
          ],
          [
           "Sheffield, Hallam",
           "Yorkshire and The Humber",
           "F",
           "lab ld marginal"
          ],
          [
           "Daventry",
           "East Midlands",
           "F",
           "con safe"
          ],
          [
           "Grantham and Stamford",
           "East Midlands",
           "F",
           "con safe"
          ],
          [
           "Northampton North",
           "East Midlands",
           "F",
           "con lab marginal"
          ],
          [
           "Northampton South",
           "East Midlands",
           "F",
           "con safe"
          ],
          [
           "South Northamptonshire",
           "East Midlands",
           "F",
           "con safe"
          ],
          [
           "Wellingborough",
           "East Midlands",
           "F",
           "con safe"
          ],
          [
           "Kenilworth and Southam",
           "West Midlands",
           "F",
           "con safe"
          ],
          [
           "Stratford-on-Avon",
           "West Midlands",
           "F",
           "con safe"
          ],
          [
           "Basildon and Billericay",
           "East of England",
           "F",
           "con safe"
          ],
          [
           "Bedford",
           "East of England",
           "F",
           "con lab marginal"
          ],
          [
           "Braintree",
           "East of England",
           "F",
           "con safe"
          ],
          [
           "Brentwood and Ongar",
           "East of England",
           "F",
           "con safe"
          ],
          [
           "Broxbourne",
           "East of England",
           "F",
           "con safe"
          ],
          [
           "Bury St Edmunds",
           "East of England",
           "F",
           "con safe"
          ],
          [
           "Castle Point",
           "East of England",
           "F",
           "con safe"
          ],
          [
           "Chelmsford",
           "East of England",
           "F",
           "con safe"
          ],
          [
           "Colchester",
           "East of England",
           "F",
           "con safe"
          ],
          [
           "Epping Forest",
           "East of England",
           "F",
           "con safe"
          ],
          [
           "Harlow",
           "East of England",
           "F",
           "con safe"
          ],
          [
           "Hemel Hempstead",
           "East of England",
           "F",
           "con safe"
          ],
          [
           "Hertford and Stortford",
           "East of England",
           "F",
           "con safe"
          ],
          [
           "Hertsmere",
           "East of England",
           "F",
           "con safe"
          ],
          [
           "Hitchin and Harpenden",
           "East of England",
           "F",
           "con safe"
          ],
          [
           "Huntingdon",
           "East of England",
           "F",
           "con safe"
          ],
          [
           "Ipswich",
           "East of England",
           "F",
           "con lab marginal"
          ],
          [
           "Maldon",
           "East of England",
           "F",
           "con safe"
          ],
          [
           "Mid Bedfordshire",
           "East of England",
           "F",
           "con safe"
          ],
          [
           "North East Bedfordshire",
           "East of England",
           "F",
           "con safe"
          ],
          [
           "North East Hertfordshire",
           "East of England",
           "F",
           "con safe"
          ],
          [
           "North West Cambridgeshire",
           "East of England",
           "F",
           "con safe"
          ],
          [
           "Peterborough",
           "East of England",
           "F",
           "con lab marginal"
          ],
          [
           "Rayleigh and Wickford",
           "East of England",
           "F",
           "con safe"
          ],
          [
           "Rochford and Southend East",
           "East of England",
           "F",
           "con safe"
          ],
          [
           "Saffron Walden",
           "East of England",
           "F",
           "con safe"
          ],
          [
           "South Basildon and East Thurrock",
           "East of England",
           "F",
           "con safe"
          ],
          [
           "South Cambridgeshire",
           "East of England",
           "F",
           "con ld marginal"
          ],
          [
           "South East Cambridgeshire",
           "East of England",
           "F",
           "con safe"
          ],
          [
           "South West Bedfordshire",
           "East of England",
           "F",
           "con safe"
          ],
          [
           "South West Hertfordshire",
           "East of England",
           "F",
           "con safe"
          ],
          [
           "Southend West",
           "East of England",
           "F",
           "con safe"
          ],
          [
           "St Albans",
           "East of England",
           "F",
           "con ld marginal"
          ],
          [
           "Stevenage",
           "East of England",
           "F",
           "con safe"
          ],
          [
           "Thurrock",
           "East of England",
           "F",
           "con safe"
          ],
          [
           "Welwyn Hatfield",
           "East of England",
           "F",
           "con safe"
          ],
          [
           "West Suffolk",
           "East of England",
           "F",
           "con safe"
          ],
          [
           "Witham",
           "East of England",
           "F",
           "con safe"
          ],
          [
           "Beckenham",
           "London",
           "F",
           "con safe"
          ],
          [
           "Bexleyheath and Crayford",
           "London",
           "F",
           "con safe"
          ],
          [
           "Bromley and Chislehurst",
           "London",
           "F",
           "con safe"
          ],
          [
           "Carshalton and Wallington",
           "London",
           "F",
           "con ld marginal"
          ],
          [
           "Croydon South",
           "London",
           "F",
           "con safe"
          ],
          [
           "Dagenham and Rainham",
           "London",
           "F",
           "con lab marginal"
          ],
          [
           "Hornchurch and Upminster",
           "London",
           "F",
           "con safe"
          ],
          [
           "Kingston and Surbiton",
           "London",
           "F",
           "ld safe"
          ],
          [
           "Old Bexley and Sidcup",
           "London",
           "F",
           "con safe"
          ],
          [
           "Orpington",
           "London",
           "F",
           "con safe"
          ],
          [
           "Richmond Park",
           "London",
           "F",
           "con ld marginal"
          ],
          [
           "Romford",
           "London",
           "F",
           "con safe"
          ],
          [
           "Ruislip, Northwood and Pinner",
           "London",
           "F",
           "con safe"
          ],
          [
           "Sutton and Cheam",
           "London",
           "F",
           "con safe"
          ],
          [
           "Twickenham",
           "London",
           "F",
           "ld safe"
          ],
          [
           "Aldershot",
           "South East",
           "F",
           "con safe"
          ],
          [
           "Arundel and South Downs",
           "South East",
           "F",
           "con safe"
          ],
          [
           "Ashford",
           "South East",
           "F",
           "con safe"
          ],
          [
           "Aylesbury",
           "South East",
           "F",
           "con safe"
          ],
          [
           "Banbury",
           "South East",
           "F",
           "con safe"
          ],
          [
           "Basingstoke",
           "South East",
           "F",
           "con safe"
          ],
          [
           "Beaconsfield",
           "South East",
           "F",
           "con safe"
          ],
          [
           "Bracknell",
           "South East",
           "F",
           "con safe"
          ],
          [
           "Buckingham",
           "South East",
           "F",
           "con safe"
          ],
          [
           "Chatham and Aylesford",
           "South East",
           "F",
           "con safe"
          ],
          [
           "Chesham and Amersham",
           "South East",
           "F",
           "con safe"
          ],
          [
           "Crawley",
           "South East",
           "F",
           "con lab marginal"
          ],
          [
           "Dartford",
           "South East",
           "F",
           "con safe"
          ],
          [
           "Dover",
           "South East",
           "F",
           "con safe"
          ],
          [
           "East Hampshire",
           "South East",
           "F",
           "con safe"
          ],
          [
           "East Surrey",
           "South East",
           "F",
           "con safe"
          ],
          [
           "East Worthing and Shoreham",
           "South East",
           "F",
           "con safe"
          ],
          [
           "Eastleigh",
           "South East",
           "F",
           "con safe"
          ],
          [
           "Epsom and Ewell",
           "South East",
           "F",
           "con safe"
          ],
          [
           "Esher and Walton",
           "South East",
           "F",
           "con ld marginal"
          ],
          [
           "Fareham",
           "South East",
           "F",
           "con safe"
          ],
          [
           "Faversham and Mid Kent",
           "South East",
           "F",
           "con safe"
          ],
          [
           "Folkestone and Hythe",
           "South East",
           "F",
           "con safe"
          ],
          [
           "Gillingham and Rainham",
           "South East",
           "F",
           "con safe"
          ],
          [
           "Gravesham",
           "South East",
           "F",
           "con safe"
          ],
          [
           "Guildford",
           "South East",
           "F",
           "con ld marginal"
          ],
          [
           "Henley",
           "South East",
           "F",
           "con safe"
          ],
          [
           "Horsham",
           "South East",
           "F",
           "con safe"
          ],
          [
           "Lewes",
           "South East",
           "F",
           "con ld marginal"
          ],
          [
           "Maidenhead",
           "South East",
           "F",
           "con safe"
          ],
          [
           "Maidstone and The Weald",
           "South East",
           "F",
           "con safe"
          ],
          [
           "Meon Valley",
           "South East",
           "F",
           "con safe"
          ],
          [
           "Mid Sussex",
           "South East",
           "F",
           "con safe"
          ],
          [
           "Milton Keynes North",
           "South East",
           "F",
           "con lab marginal"
          ],
          [
           "Milton Keynes South",
           "South East",
           "F",
           "con lab marginal"
          ],
          [
           "Mole Valley",
           "South East",
           "F",
           "con safe"
          ],
          [
           "Newbury",
           "South East",
           "F",
           "con safe"
          ],
          [
           "North East Hampshire",
           "South East",
           "F",
           "con safe"
          ],
          [
           "North West Hampshire",
           "South East",
           "F",
           "con safe"
          ],
          [
           "Oxford West and Abingdon",
           "South East",
           "F",
           "ld safe"
          ],
          [
           "Portsmouth North",
           "South East",
           "F",
           "con safe"
          ],
          [
           "Reading West",
           "South East",
           "F",
           "con lab marginal"
          ],
          [
           "Reigate",
           "South East",
           "F",
           "con safe"
          ],
          [
           "Rochester and Strood",
           "South East",
           "F",
           "con safe"
          ],
          [
           "Romsey and Southampton North",
           "South East",
           "F",
           "con safe"
          ],
          [
           "Runnymede and Weybridge",
           "South East",
           "F",
           "con safe"
          ],
          [
           "Sevenoaks",
           "South East",
           "F",
           "con safe"
          ],
          [
           "Sittingbourne and Sheppey",
           "South East",
           "F",
           "con safe"
          ],
          [
           "South West Surrey",
           "South East",
           "F",
           "con safe"
          ],
          [
           "Spelthorne",
           "South East",
           "F",
           "con safe"
          ],
          [
           "Surrey Heath",
           "South East",
           "F",
           "con safe"
          ],
          [
           "Tonbridge and Malling",
           "South East",
           "F",
           "con safe"
          ],
          [
           "Tunbridge Wells",
           "South East",
           "F",
           "con safe"
          ],
          [
           "Wantage",
           "South East",
           "F",
           "con safe"
          ],
          [
           "Wealden",
           "South East",
           "F",
           "con safe"
          ],
          [
           "Winchester",
           "South East",
           "F",
           "con ld marginal"
          ],
          [
           "Windsor",
           "South East",
           "F",
           "con safe"
          ],
          [
           "Witney",
           "South East",
           "F",
           "con safe"
          ],
          [
           "Woking",
           "South East",
           "F",
           "con safe"
          ],
          [
           "Wokingham",
           "South East",
           "F",
           "con ld marginal"
          ],
          [
           "Worthing West",
           "South East",
           "F",
           "con safe"
          ],
          [
           "Wycombe",
           "South East",
           "F",
           "con lab marginal"
          ],
          [
           "Bournemouth East",
           "South West",
           "F",
           "con safe"
          ],
          [
           "Cheltenham",
           "South West",
           "F",
           "con ld marginal"
          ],
          [
           "Chippenham",
           "South West",
           "F",
           "con safe"
          ],
          [
           "Filton and Bradley Stoke",
           "South West",
           "F",
           "con lab marginal"
          ],
          [
           "Gloucester",
           "South West",
           "F",
           "con safe"
          ],
          [
           "Kingswood",
           "South West",
           "F",
           "con safe"
          ],
          [
           "Mid Dorset and North Poole",
           "South West",
           "F",
           "con safe"
          ],
          [
           "North Somerset",
           "South West",
           "F",
           "con safe"
          ],
          [
           "North Swindon",
           "South West",
           "F",
           "con safe"
          ],
          [
           "North Wiltshire",
           "South West",
           "F",
           "con safe"
          ],
          [
           "Poole",
           "South West",
           "F",
           "con safe"
          ],
          [
           "Salisbury",
           "South West",
           "F",
           "con safe"
          ],
          [
           "South Swindon",
           "South West",
           "F",
           "con lab marginal"
          ],
          [
           "South West Wiltshire",
           "South West",
           "F",
           "con safe"
          ],
          [
           "Tewkesbury",
           "South West",
           "F",
           "con safe"
          ],
          [
           "The Cotswolds",
           "South West",
           "F",
           "con safe"
          ],
          [
           "Thornbury and Yate",
           "South West",
           "F",
           "con ld marginal"
          ]
         ],
         "hovertemplate": "Constituency: %{customdata[0]}<br>Region: %{customdata[1]}<br>Cluster: %{customdata[2]}<br>YouGov Seat: %{customdata[3]}",
         "legendgroup": "F",
         "marker": {
          "color": "#3A0963",
          "line": {
           "width": 0
          },
          "size": 13.5,
          "symbol": "square"
         },
         "mode": "markers",
         "name": "F",
         "orientation": "v",
         "showlegend": true,
         "type": "scatter",
         "x": [
          -7,
          -5,
          -4,
          -4,
          -6,
          -2,
          -3,
          1,
          3,
          3,
          2,
          2,
          4,
          1,
          -3,
          8,
          4,
          8,
          8,
          8,
          9,
          10,
          9,
          9,
          9,
          8,
          5,
          7,
          7,
          5,
          5,
          9,
          11,
          4,
          4,
          6,
          5,
          5,
          9,
          10,
          7,
          9,
          6,
          7,
          3,
          3,
          10,
          6,
          6,
          8,
          7,
          8,
          10,
          7,
          9,
          8,
          4,
          5,
          9,
          8,
          0,
          9,
          8,
          1,
          7,
          1,
          2,
          0,
          -3,
          0,
          12,
          2,
          1,
          -3,
          -1,
          -2,
          2,
          10,
          0,
          1,
          9,
          13,
          -3,
          9,
          4,
          -4,
          1,
          -1,
          -4,
          12,
          12,
          11,
          10,
          -2,
          1,
          1,
          8,
          -2,
          11,
          -4,
          10,
          3,
          3,
          0,
          -4,
          -3,
          -4,
          0,
          -3,
          -3,
          2,
          11,
          -5,
          -1,
          9,
          12,
          -2,
          -1,
          -1,
          10,
          10,
          -2,
          11,
          -4,
          -2,
          -1,
          -2,
          -4,
          3,
          -1,
          -8,
          -7,
          -5,
          -8,
          -7,
          -6,
          -8,
          -9,
          -5,
          -5,
          -9,
          -6,
          -4,
          -7,
          -6,
          -5,
          -8
         ],
         "xaxis": "x",
         "y": [
          3,
          3,
          4,
          3,
          2,
          11,
          5,
          -3,
          3,
          -2,
          -3,
          -4,
          -1,
          -4,
          -6,
          -5,
          -3,
          -2,
          -4,
          -6,
          -2,
          -7,
          -4,
          -3,
          -6,
          -3,
          -5,
          -3,
          -5,
          -3,
          -2,
          -1,
          -4,
          -4,
          -2,
          -3,
          -1,
          0,
          -5,
          -5,
          -2,
          -7,
          -2,
          -1,
          -5,
          -6,
          -6,
          -5,
          -4,
          -7,
          -4,
          -1,
          -4,
          -14,
          -10,
          -13,
          -14,
          -14,
          -8,
          -8,
          -13,
          -12,
          -14,
          -12,
          -7,
          -7,
          -13,
          -12,
          -11,
          -15,
          -13,
          -6,
          -5,
          -10,
          -8,
          -10,
          -5,
          -11,
          -7,
          -14,
          -11,
          -12,
          -12,
          -14,
          -15,
          -12,
          -13,
          -13,
          -14,
          -11,
          -14,
          -11,
          -10,
          -13,
          -6,
          -15,
          -15,
          -7,
          -12,
          -13,
          -14,
          -3,
          -4,
          -14,
          -7,
          -9,
          -10,
          -6,
          -13,
          -8,
          -14,
          -10,
          -11,
          -12,
          -13,
          -10,
          -12,
          -11,
          -10,
          -12,
          -13,
          -6,
          -13,
          -11,
          -9,
          -6,
          -11,
          -9,
          -15,
          -7,
          -13,
          -7,
          -9,
          -8,
          -8,
          -8,
          -12,
          -11,
          -7,
          -8,
          -13,
          -11,
          -8,
          -11,
          -6,
          -6,
          -7
         ],
         "yaxis": "y"
        },
        {
         "customdata": [
          [
           "Leicester East",
           "East Midlands",
           "A",
           "lab safe"
          ],
          [
           "Luton North",
           "East of England",
           "A",
           "con lab marginal"
          ],
          [
           "Luton South",
           "East of England",
           "A",
           "lab safe"
          ],
          [
           "Watford",
           "East of England",
           "A",
           "con safe"
          ],
          [
           "Barking",
           "London",
           "A",
           "lab safe"
          ],
          [
           "Battersea",
           "London",
           "A",
           "con lab marginal"
          ],
          [
           "Bermondsey and Old Southwark",
           "London",
           "A",
           "lab safe"
          ],
          [
           "Bethnal Green and Bow",
           "London",
           "A",
           "lab safe"
          ],
          [
           "Brent Central",
           "London",
           "A",
           "lab safe"
          ],
          [
           "Brent North",
           "London",
           "A",
           "lab safe"
          ],
          [
           "Brentford and Isleworth",
           "London",
           "A",
           "con lab marginal"
          ],
          [
           "Camberwell and Peckham",
           "London",
           "A",
           "lab safe"
          ],
          [
           "Chelsea and Fulham",
           "London",
           "A",
           "con ld marginal"
          ],
          [
           "Chingford and Woodford Green",
           "London",
           "A",
           "con lab marginal"
          ],
          [
           "Chipping Barnet",
           "London",
           "A",
           "con lab marginal"
          ],
          [
           "Cities of London and Westminster",
           "London",
           "A",
           "con lab marginal"
          ],
          [
           "Croydon Central",
           "London",
           "A",
           "con lab marginal"
          ],
          [
           "Croydon North",
           "London",
           "A",
           "lab safe"
          ],
          [
           "Dulwich and West Norwood",
           "London",
           "A",
           "lab safe"
          ],
          [
           "Ealing Central and Acton",
           "London",
           "A",
           "lab safe"
          ],
          [
           "Ealing North",
           "London",
           "A",
           "lab safe"
          ],
          [
           "Ealing, Southall",
           "London",
           "A",
           "lab safe"
          ],
          [
           "East Ham",
           "London",
           "A",
           "lab safe"
          ],
          [
           "Edmonton",
           "London",
           "A",
           "lab safe"
          ],
          [
           "Eltham",
           "London",
           "A",
           "con lab marginal"
          ],
          [
           "Enfield North",
           "London",
           "A",
           "con lab marginal"
          ],
          [
           "Enfield, Southgate",
           "London",
           "A",
           "con lab marginal"
          ],
          [
           "Erith and Thamesmead",
           "London",
           "A",
           "con lab marginal"
          ],
          [
           "Feltham and Heston",
           "London",
           "A",
           "lab safe"
          ],
          [
           "Finchley and Golders Green",
           "London",
           "A",
           "con safe"
          ],
          [
           "Greenwich and Woolwich",
           "London",
           "A",
           "lab safe"
          ],
          [
           "Hackney North and Stoke Newington",
           "London",
           "A",
           "lab safe"
          ],
          [
           "Hackney South and Shoreditch",
           "London",
           "A",
           "lab safe"
          ],
          [
           "Hammersmith",
           "London",
           "A",
           "lab safe"
          ],
          [
           "Hampstead and Kilburn",
           "London",
           "A",
           "lab safe"
          ],
          [
           "Harrow East",
           "London",
           "A",
           "con lab marginal"
          ],
          [
           "Harrow West",
           "London",
           "A",
           "lab safe"
          ],
          [
           "Hayes and Harlington",
           "London",
           "A",
           "lab safe"
          ],
          [
           "Hendon",
           "London",
           "A",
           "con lab marginal"
          ],
          [
           "Holborn and St Pancras",
           "London",
           "A",
           "lab safe"
          ],
          [
           "Hornsey and Wood Green",
           "London",
           "A",
           "lab safe"
          ],
          [
           "Ilford North",
           "London",
           "A",
           "con lab marginal"
          ],
          [
           "Ilford South",
           "London",
           "A",
           "lab safe"
          ],
          [
           "Islington North",
           "London",
           "A",
           "lab safe"
          ],
          [
           "Islington South and Finsbury",
           "London",
           "A",
           "lab safe"
          ],
          [
           "Kensington",
           "London",
           "A",
           "con ld marginal"
          ],
          [
           "Lewisham East",
           "London",
           "A",
           "lab safe"
          ],
          [
           "Lewisham West and Penge",
           "London",
           "A",
           "lab safe"
          ],
          [
           "Lewisham, Deptford",
           "London",
           "A",
           "lab safe"
          ],
          [
           "Leyton and Wanstead",
           "London",
           "A",
           "lab safe"
          ],
          [
           "Mitcham and Morden",
           "London",
           "A",
           "lab safe"
          ],
          [
           "Poplar and Limehouse",
           "London",
           "A",
           "lab safe"
          ],
          [
           "Putney",
           "London",
           "A",
           "con lab marginal"
          ],
          [
           "Streatham",
           "London",
           "A",
           "lab safe"
          ],
          [
           "Tooting",
           "London",
           "A",
           "lab safe"
          ],
          [
           "Tottenham",
           "London",
           "A",
           "lab safe"
          ],
          [
           "Uxbridge and South Ruislip",
           "London",
           "A",
           "con lab marginal"
          ],
          [
           "Vauxhall",
           "London",
           "A",
           "lab safe"
          ],
          [
           "Walthamstow",
           "London",
           "A",
           "lab safe"
          ],
          [
           "West Ham",
           "London",
           "A",
           "lab safe"
          ],
          [
           "Westminster North",
           "London",
           "A",
           "lab safe"
          ],
          [
           "Wimbledon",
           "London",
           "A",
           "con ld marginal"
          ],
          [
           "Slough",
           "South East",
           "A",
           "lab safe"
          ]
         ],
         "hovertemplate": "Constituency: %{customdata[0]}<br>Region: %{customdata[1]}<br>Cluster: %{customdata[2]}<br>YouGov Seat: %{customdata[3]}",
         "legendgroup": "A",
         "marker": {
          "color": "#A92E5E",
          "line": {
           "width": 0
          },
          "size": 13.5,
          "symbol": "square"
         },
         "mode": "markers",
         "name": "A",
         "orientation": "v",
         "showlegend": true,
         "type": "scatter",
         "x": [
          2,
          5,
          4,
          7,
          8,
          4,
          5,
          7,
          2,
          1,
          1,
          6,
          2,
          6,
          3,
          4,
          6,
          6,
          5,
          1,
          0,
          0,
          7,
          5,
          8,
          5,
          4,
          8,
          0,
          3,
          7,
          5,
          6,
          2,
          3,
          2,
          1,
          -1,
          2,
          4,
          4,
          6,
          7,
          4,
          5,
          3,
          7,
          7,
          6,
          6,
          3,
          8,
          3,
          4,
          3,
          4,
          0,
          5,
          5,
          6,
          3,
          2,
          -2
         ],
         "xaxis": "x",
         "y": [
          -1,
          -4,
          -5,
          -6,
          -9,
          -12,
          -11,
          -10,
          -9,
          -9,
          -11,
          -12,
          -11,
          -6,
          -7,
          -11,
          -14,
          -13,
          -13,
          -10,
          -9,
          -10,
          -9,
          -7,
          -12,
          -6,
          -6,
          -11,
          -11,
          -8,
          -11,
          -9,
          -10,
          -10,
          -9,
          -8,
          -8,
          -9,
          -7,
          -10,
          -7,
          -7,
          -8,
          -9,
          -10,
          -10,
          -13,
          -12,
          -11,
          -8,
          -14,
          -10,
          -12,
          -13,
          -13,
          -8,
          -8,
          -12,
          -8,
          -9,
          -11,
          -12,
          -8
         ],
         "yaxis": "y"
        },
        {
         "customdata": [
          [
           "Aberdeen North",
           "Scotland",
           "C",
           "snp safe"
          ],
          [
           "Aberdeen South",
           "Scotland",
           "C",
           "con snp marginal"
          ],
          [
           "Airdrie and Shotts",
           "Scotland",
           "C",
           "lab snp marginal"
          ],
          [
           "Angus",
           "Scotland",
           "C",
           "con snp marginal"
          ],
          [
           "Argyll and Bute",
           "Scotland",
           "C",
           "con snp marginal"
          ],
          [
           "Ayr, Carrick and Cumnock",
           "Scotland",
           "C",
           "con snp marginal"
          ],
          [
           "Banff and Buchan",
           "Scotland",
           "C",
           "con snp marginal"
          ],
          [
           "Berwickshire, Roxburgh and Selkirk",
           "Scotland",
           "C",
           "con snp marginal"
          ],
          [
           "Caithness, Sutherland and Easter Ross",
           "Scotland",
           "C",
           "ld snp marginal"
          ],
          [
           "Central Ayrshire",
           "Scotland",
           "C",
           "con snp marginal"
          ],
          [
           "Coatbridge, Chryston and Bellshill",
           "Scotland",
           "C",
           "lab snp marginal"
          ],
          [
           "Cumbernauld, Kilsyth and Kirkintilloch East",
           "Scotland",
           "C",
           "snp safe"
          ],
          [
           "Dumfries and Galloway",
           "Scotland",
           "C",
           "con snp marginal"
          ],
          [
           "Dumfriesshire, Clydesdale and Tweeddale",
           "Scotland",
           "C",
           "con snp marginal"
          ],
          [
           "Dundee East",
           "Scotland",
           "C",
           "snp safe"
          ],
          [
           "Dundee West",
           "Scotland",
           "C",
           "snp safe"
          ],
          [
           "Dunfermline and West Fife",
           "Scotland",
           "C",
           "con snp marginal"
          ],
          [
           "East Kilbride, Strathaven and Lesmahagow",
           "Scotland",
           "C",
           "snp safe"
          ],
          [
           "East Lothian",
           "Scotland",
           "C",
           "lab snp marginal"
          ],
          [
           "Na h-Eileanan An Iar",
           "Scotland",
           "C",
           "snp safe"
          ],
          [
           "Falkirk",
           "Scotland",
           "C",
           "snp safe"
          ],
          [
           "Glasgow East",
           "Scotland",
           "C",
           "lab snp marginal"
          ],
          [
           "Glasgow North East",
           "Scotland",
           "C",
           "lab snp marginal"
          ],
          [
           "Glasgow North West",
           "Scotland",
           "C",
           "snp safe"
          ],
          [
           "Glasgow South",
           "Scotland",
           "C",
           "snp safe"
          ],
          [
           "Glasgow South West",
           "Scotland",
           "C",
           "snp safe"
          ],
          [
           "Glenrothes",
           "Scotland",
           "C",
           "snp safe"
          ],
          [
           "Gordon",
           "Scotland",
           "C",
           "con snp marginal"
          ],
          [
           "Inverclyde",
           "Scotland",
           "C",
           "snp safe"
          ],
          [
           "Inverness, Nairn, Badenoch and Strathspey",
           "Scotland",
           "C",
           "snp safe"
          ],
          [
           "Kilmarnock and Loudoun",
           "Scotland",
           "C",
           "snp safe"
          ],
          [
           "Kirkcaldy and Cowdenbeath",
           "Scotland",
           "C",
           "lab snp marginal"
          ],
          [
           "Lanark and Hamilton East",
           "Scotland",
           "C",
           "con snp marginal"
          ],
          [
           "Linlithgow and East Falkirk",
           "Scotland",
           "C",
           "con snp marginal"
          ],
          [
           "Livingston",
           "Scotland",
           "C",
           "snp safe"
          ],
          [
           "Midlothian",
           "Scotland",
           "C",
           "lab snp marginal"
          ],
          [
           "Moray",
           "Scotland",
           "C",
           "con snp marginal"
          ],
          [
           "Motherwell and Wishaw",
           "Scotland",
           "C",
           "lab snp marginal"
          ],
          [
           "North Ayrshire and Arran",
           "Scotland",
           "C",
           "con snp marginal"
          ],
          [
           "Ochil and South Perthshire",
           "Scotland",
           "C",
           "con snp marginal"
          ],
          [
           "Orkney and Shetland",
           "Scotland",
           "C",
           "ld snp marginal"
          ],
          [
           "Paisley and Renfrewshire North",
           "Scotland",
           "C",
           "snp safe"
          ],
          [
           "Paisley and Renfrewshire South",
           "Scotland",
           "C",
           "snp safe"
          ],
          [
           "Perth and North Perthshire",
           "Scotland",
           "C",
           "con snp marginal"
          ],
          [
           "Ross, Skye and Lochaber",
           "Scotland",
           "C",
           "snp safe"
          ],
          [
           "Rutherglen and Hamilton West",
           "Scotland",
           "C",
           "lab snp marginal"
          ],
          [
           "Stirling",
           "Scotland",
           "C",
           "con snp marginal"
          ],
          [
           "West Aberdeenshire and Kincardine",
           "Scotland",
           "C",
           "con snp marginal"
          ],
          [
           "West Dunbartonshire",
           "Scotland",
           "C",
           "lab snp marginal"
          ]
         ],
         "hovertemplate": "Constituency: %{customdata[0]}<br>Region: %{customdata[1]}<br>Cluster: %{customdata[2]}<br>YouGov Seat: %{customdata[3]}",
         "legendgroup": "C",
         "marker": {
          "color": "#F5DB4B",
          "line": {
           "width": 0
          },
          "size": 13.5,
          "symbol": "square"
         },
         "mode": "markers",
         "name": "C",
         "orientation": "v",
         "showlegend": true,
         "type": "scatter",
         "x": [
          -4,
          -3,
          -7,
          -5,
          -8,
          -8,
          -5,
          -5,
          -6,
          -10,
          -8,
          -8,
          -6,
          -5,
          -5,
          -6,
          -6,
          -8,
          -4,
          -8,
          -7,
          -8,
          -9,
          -10,
          -9,
          -10,
          -4,
          -5,
          -11,
          -7,
          -7,
          -5,
          -7,
          -6,
          -7,
          -6,
          -6,
          -8,
          -11,
          -6,
          -5,
          -10,
          -11,
          -7,
          -7,
          -9,
          -7,
          -4,
          -9
         ],
         "xaxis": "x",
         "y": [
          25,
          24,
          20,
          23,
          23,
          16,
          24,
          17,
          26,
          17,
          20,
          21,
          16,
          16,
          22,
          23,
          21,
          17,
          18,
          26,
          21,
          18,
          21,
          21,
          18,
          19,
          22,
          25,
          21,
          25,
          16,
          21,
          17,
          20,
          18,
          17,
          24,
          19,
          18,
          22,
          28,
          20,
          19,
          23,
          24,
          17,
          22,
          24,
          22
         ],
         "yaxis": "y"
        }
       ],
       "layout": {
        "height": 1000,
        "legend": {
         "title": {
          "text": "Cluster_Name"
         },
         "tracegroupgap": 0
        },
        "plot_bgcolor": "rgba(0, 0, 0, 0)",
        "showlegend": false,
        "template": {
         "data": {
          "bar": [
           {
            "error_x": {
             "color": "#2a3f5f"
            },
            "error_y": {
             "color": "#2a3f5f"
            },
            "marker": {
             "line": {
              "color": "#E5ECF6",
              "width": 0.5
             },
             "pattern": {
              "fillmode": "overlay",
              "size": 10,
              "solidity": 0.2
             }
            },
            "type": "bar"
           }
          ],
          "barpolar": [
           {
            "marker": {
             "line": {
              "color": "#E5ECF6",
              "width": 0.5
             },
             "pattern": {
              "fillmode": "overlay",
              "size": 10,
              "solidity": 0.2
             }
            },
            "type": "barpolar"
           }
          ],
          "carpet": [
           {
            "aaxis": {
             "endlinecolor": "#2a3f5f",
             "gridcolor": "white",
             "linecolor": "white",
             "minorgridcolor": "white",
             "startlinecolor": "#2a3f5f"
            },
            "baxis": {
             "endlinecolor": "#2a3f5f",
             "gridcolor": "white",
             "linecolor": "white",
             "minorgridcolor": "white",
             "startlinecolor": "#2a3f5f"
            },
            "type": "carpet"
           }
          ],
          "choropleth": [
           {
            "colorbar": {
             "outlinewidth": 0,
             "ticks": ""
            },
            "type": "choropleth"
           }
          ],
          "contour": [
           {
            "colorbar": {
             "outlinewidth": 0,
             "ticks": ""
            },
            "colorscale": [
             [
              0,
              "#0d0887"
             ],
             [
              0.1111111111111111,
              "#46039f"
             ],
             [
              0.2222222222222222,
              "#7201a8"
             ],
             [
              0.3333333333333333,
              "#9c179e"
             ],
             [
              0.4444444444444444,
              "#bd3786"
             ],
             [
              0.5555555555555556,
              "#d8576b"
             ],
             [
              0.6666666666666666,
              "#ed7953"
             ],
             [
              0.7777777777777778,
              "#fb9f3a"
             ],
             [
              0.8888888888888888,
              "#fdca26"
             ],
             [
              1,
              "#f0f921"
             ]
            ],
            "type": "contour"
           }
          ],
          "contourcarpet": [
           {
            "colorbar": {
             "outlinewidth": 0,
             "ticks": ""
            },
            "type": "contourcarpet"
           }
          ],
          "heatmap": [
           {
            "colorbar": {
             "outlinewidth": 0,
             "ticks": ""
            },
            "colorscale": [
             [
              0,
              "#0d0887"
             ],
             [
              0.1111111111111111,
              "#46039f"
             ],
             [
              0.2222222222222222,
              "#7201a8"
             ],
             [
              0.3333333333333333,
              "#9c179e"
             ],
             [
              0.4444444444444444,
              "#bd3786"
             ],
             [
              0.5555555555555556,
              "#d8576b"
             ],
             [
              0.6666666666666666,
              "#ed7953"
             ],
             [
              0.7777777777777778,
              "#fb9f3a"
             ],
             [
              0.8888888888888888,
              "#fdca26"
             ],
             [
              1,
              "#f0f921"
             ]
            ],
            "type": "heatmap"
           }
          ],
          "heatmapgl": [
           {
            "colorbar": {
             "outlinewidth": 0,
             "ticks": ""
            },
            "colorscale": [
             [
              0,
              "#0d0887"
             ],
             [
              0.1111111111111111,
              "#46039f"
             ],
             [
              0.2222222222222222,
              "#7201a8"
             ],
             [
              0.3333333333333333,
              "#9c179e"
             ],
             [
              0.4444444444444444,
              "#bd3786"
             ],
             [
              0.5555555555555556,
              "#d8576b"
             ],
             [
              0.6666666666666666,
              "#ed7953"
             ],
             [
              0.7777777777777778,
              "#fb9f3a"
             ],
             [
              0.8888888888888888,
              "#fdca26"
             ],
             [
              1,
              "#f0f921"
             ]
            ],
            "type": "heatmapgl"
           }
          ],
          "histogram": [
           {
            "marker": {
             "pattern": {
              "fillmode": "overlay",
              "size": 10,
              "solidity": 0.2
             }
            },
            "type": "histogram"
           }
          ],
          "histogram2d": [
           {
            "colorbar": {
             "outlinewidth": 0,
             "ticks": ""
            },
            "colorscale": [
             [
              0,
              "#0d0887"
             ],
             [
              0.1111111111111111,
              "#46039f"
             ],
             [
              0.2222222222222222,
              "#7201a8"
             ],
             [
              0.3333333333333333,
              "#9c179e"
             ],
             [
              0.4444444444444444,
              "#bd3786"
             ],
             [
              0.5555555555555556,
              "#d8576b"
             ],
             [
              0.6666666666666666,
              "#ed7953"
             ],
             [
              0.7777777777777778,
              "#fb9f3a"
             ],
             [
              0.8888888888888888,
              "#fdca26"
             ],
             [
              1,
              "#f0f921"
             ]
            ],
            "type": "histogram2d"
           }
          ],
          "histogram2dcontour": [
           {
            "colorbar": {
             "outlinewidth": 0,
             "ticks": ""
            },
            "colorscale": [
             [
              0,
              "#0d0887"
             ],
             [
              0.1111111111111111,
              "#46039f"
             ],
             [
              0.2222222222222222,
              "#7201a8"
             ],
             [
              0.3333333333333333,
              "#9c179e"
             ],
             [
              0.4444444444444444,
              "#bd3786"
             ],
             [
              0.5555555555555556,
              "#d8576b"
             ],
             [
              0.6666666666666666,
              "#ed7953"
             ],
             [
              0.7777777777777778,
              "#fb9f3a"
             ],
             [
              0.8888888888888888,
              "#fdca26"
             ],
             [
              1,
              "#f0f921"
             ]
            ],
            "type": "histogram2dcontour"
           }
          ],
          "mesh3d": [
           {
            "colorbar": {
             "outlinewidth": 0,
             "ticks": ""
            },
            "type": "mesh3d"
           }
          ],
          "parcoords": [
           {
            "line": {
             "colorbar": {
              "outlinewidth": 0,
              "ticks": ""
             }
            },
            "type": "parcoords"
           }
          ],
          "pie": [
           {
            "automargin": true,
            "type": "pie"
           }
          ],
          "scatter": [
           {
            "marker": {
             "colorbar": {
              "outlinewidth": 0,
              "ticks": ""
             }
            },
            "type": "scatter"
           }
          ],
          "scatter3d": [
           {
            "line": {
             "colorbar": {
              "outlinewidth": 0,
              "ticks": ""
             }
            },
            "marker": {
             "colorbar": {
              "outlinewidth": 0,
              "ticks": ""
             }
            },
            "type": "scatter3d"
           }
          ],
          "scattercarpet": [
           {
            "marker": {
             "colorbar": {
              "outlinewidth": 0,
              "ticks": ""
             }
            },
            "type": "scattercarpet"
           }
          ],
          "scattergeo": [
           {
            "marker": {
             "colorbar": {
              "outlinewidth": 0,
              "ticks": ""
             }
            },
            "type": "scattergeo"
           }
          ],
          "scattergl": [
           {
            "marker": {
             "colorbar": {
              "outlinewidth": 0,
              "ticks": ""
             }
            },
            "type": "scattergl"
           }
          ],
          "scattermapbox": [
           {
            "marker": {
             "colorbar": {
              "outlinewidth": 0,
              "ticks": ""
             }
            },
            "type": "scattermapbox"
           }
          ],
          "scatterpolar": [
           {
            "marker": {
             "colorbar": {
              "outlinewidth": 0,
              "ticks": ""
             }
            },
            "type": "scatterpolar"
           }
          ],
          "scatterpolargl": [
           {
            "marker": {
             "colorbar": {
              "outlinewidth": 0,
              "ticks": ""
             }
            },
            "type": "scatterpolargl"
           }
          ],
          "scatterternary": [
           {
            "marker": {
             "colorbar": {
              "outlinewidth": 0,
              "ticks": ""
             }
            },
            "type": "scatterternary"
           }
          ],
          "surface": [
           {
            "colorbar": {
             "outlinewidth": 0,
             "ticks": ""
            },
            "colorscale": [
             [
              0,
              "#0d0887"
             ],
             [
              0.1111111111111111,
              "#46039f"
             ],
             [
              0.2222222222222222,
              "#7201a8"
             ],
             [
              0.3333333333333333,
              "#9c179e"
             ],
             [
              0.4444444444444444,
              "#bd3786"
             ],
             [
              0.5555555555555556,
              "#d8576b"
             ],
             [
              0.6666666666666666,
              "#ed7953"
             ],
             [
              0.7777777777777778,
              "#fb9f3a"
             ],
             [
              0.8888888888888888,
              "#fdca26"
             ],
             [
              1,
              "#f0f921"
             ]
            ],
            "type": "surface"
           }
          ],
          "table": [
           {
            "cells": {
             "fill": {
              "color": "#EBF0F8"
             },
             "line": {
              "color": "white"
             }
            },
            "header": {
             "fill": {
              "color": "#C8D4E3"
             },
             "line": {
              "color": "white"
             }
            },
            "type": "table"
           }
          ]
         },
         "layout": {
          "annotationdefaults": {
           "arrowcolor": "#2a3f5f",
           "arrowhead": 0,
           "arrowwidth": 1
          },
          "autotypenumbers": "strict",
          "coloraxis": {
           "colorbar": {
            "outlinewidth": 0,
            "ticks": ""
           }
          },
          "colorscale": {
           "diverging": [
            [
             0,
             "#8e0152"
            ],
            [
             0.1,
             "#c51b7d"
            ],
            [
             0.2,
             "#de77ae"
            ],
            [
             0.3,
             "#f1b6da"
            ],
            [
             0.4,
             "#fde0ef"
            ],
            [
             0.5,
             "#f7f7f7"
            ],
            [
             0.6,
             "#e6f5d0"
            ],
            [
             0.7,
             "#b8e186"
            ],
            [
             0.8,
             "#7fbc41"
            ],
            [
             0.9,
             "#4d9221"
            ],
            [
             1,
             "#276419"
            ]
           ],
           "sequential": [
            [
             0,
             "#0d0887"
            ],
            [
             0.1111111111111111,
             "#46039f"
            ],
            [
             0.2222222222222222,
             "#7201a8"
            ],
            [
             0.3333333333333333,
             "#9c179e"
            ],
            [
             0.4444444444444444,
             "#bd3786"
            ],
            [
             0.5555555555555556,
             "#d8576b"
            ],
            [
             0.6666666666666666,
             "#ed7953"
            ],
            [
             0.7777777777777778,
             "#fb9f3a"
            ],
            [
             0.8888888888888888,
             "#fdca26"
            ],
            [
             1,
             "#f0f921"
            ]
           ],
           "sequentialminus": [
            [
             0,
             "#0d0887"
            ],
            [
             0.1111111111111111,
             "#46039f"
            ],
            [
             0.2222222222222222,
             "#7201a8"
            ],
            [
             0.3333333333333333,
             "#9c179e"
            ],
            [
             0.4444444444444444,
             "#bd3786"
            ],
            [
             0.5555555555555556,
             "#d8576b"
            ],
            [
             0.6666666666666666,
             "#ed7953"
            ],
            [
             0.7777777777777778,
             "#fb9f3a"
            ],
            [
             0.8888888888888888,
             "#fdca26"
            ],
            [
             1,
             "#f0f921"
            ]
           ]
          },
          "colorway": [
           "#636efa",
           "#EF553B",
           "#00cc96",
           "#ab63fa",
           "#FFA15A",
           "#19d3f3",
           "#FF6692",
           "#B6E880",
           "#FF97FF",
           "#FECB52"
          ],
          "font": {
           "color": "#2a3f5f"
          },
          "geo": {
           "bgcolor": "white",
           "lakecolor": "white",
           "landcolor": "#E5ECF6",
           "showlakes": true,
           "showland": true,
           "subunitcolor": "white"
          },
          "hoverlabel": {
           "align": "left"
          },
          "hovermode": "closest",
          "mapbox": {
           "style": "light"
          },
          "paper_bgcolor": "white",
          "plot_bgcolor": "#E5ECF6",
          "polar": {
           "angularaxis": {
            "gridcolor": "white",
            "linecolor": "white",
            "ticks": ""
           },
           "bgcolor": "#E5ECF6",
           "radialaxis": {
            "gridcolor": "white",
            "linecolor": "white",
            "ticks": ""
           }
          },
          "scene": {
           "xaxis": {
            "backgroundcolor": "#E5ECF6",
            "gridcolor": "white",
            "gridwidth": 2,
            "linecolor": "white",
            "showbackground": true,
            "ticks": "",
            "zerolinecolor": "white"
           },
           "yaxis": {
            "backgroundcolor": "#E5ECF6",
            "gridcolor": "white",
            "gridwidth": 2,
            "linecolor": "white",
            "showbackground": true,
            "ticks": "",
            "zerolinecolor": "white"
           },
           "zaxis": {
            "backgroundcolor": "#E5ECF6",
            "gridcolor": "white",
            "gridwidth": 2,
            "linecolor": "white",
            "showbackground": true,
            "ticks": "",
            "zerolinecolor": "white"
           }
          },
          "shapedefaults": {
           "line": {
            "color": "#2a3f5f"
           }
          },
          "ternary": {
           "aaxis": {
            "gridcolor": "white",
            "linecolor": "white",
            "ticks": ""
           },
           "baxis": {
            "gridcolor": "white",
            "linecolor": "white",
            "ticks": ""
           },
           "bgcolor": "#E5ECF6",
           "caxis": {
            "gridcolor": "white",
            "linecolor": "white",
            "ticks": ""
           }
          },
          "title": {
           "x": 0.05
          },
          "xaxis": {
           "automargin": true,
           "gridcolor": "white",
           "linecolor": "white",
           "ticks": "",
           "title": {
            "standoff": 15
           },
           "zerolinecolor": "white",
           "zerolinewidth": 2
          },
          "yaxis": {
           "automargin": true,
           "gridcolor": "white",
           "linecolor": "white",
           "ticks": "",
           "title": {
            "standoff": 15
           },
           "zerolinecolor": "white",
           "zerolinewidth": 2
          }
         }
        },
        "title": {
         "text": "UK Constituency Map for UMAP + HAC + with %SNP"
        },
        "width": 700,
        "xaxis": {
         "anchor": "y",
         "autorange": true,
         "domain": [
          0,
          1
         ],
         "range": [
          -18.190647482014388,
          15.190647482014388
         ],
         "showticklabels": false,
         "title": {
          "text": "X"
         },
         "type": "linear",
         "visible": false
        },
        "yaxis": {
         "anchor": "x",
         "autorange": true,
         "domain": [
          0,
          1
         ],
         "range": [
          -20.085023400936038,
          31.085023400936038
         ],
         "showticklabels": false,
         "title": {
          "text": "Y"
         },
         "type": "linear",
         "visible": false
        }
       }
      },
      "image/png": "[encoded data removed]",
      "text/html": [
       "<div>                            <div id=\"920912d2-7648-41d5-8b01-294a54bb9a23\" class=\"plotly-graph-div\" style=\"height:1000px; width:700px;\"></div>            <script type=\"text/javascript\">                require([\"plotly\"], function(Plotly) {                    window.PLOTLYENV=window.PLOTLYENV || {};                                    if (document.getElementById(\"920912d2-7648-41d5-8b01-294a54bb9a23\")) {                    Plotly.newPlot(                        \"920912d2-7648-41d5-8b01-294a54bb9a23\",                        [{\"customdata\":[[\"Berwick-upon-Tweed\",\"North East\",\"E\",\"con safe\"],[\"Hexham\",\"North East\",\"E\",\"con safe\"],[\"Tynemouth\",\"North East\",\"E\",\"con lab marginal\"],[\"City of Chester\",\"North West\",\"E\",\"con lab marginal\"],[\"Congleton\",\"North West\",\"E\",\"con safe\"],[\"Eddisbury\",\"North West\",\"E\",\"con safe\"],[\"Fylde\",\"North West\",\"E\",\"con safe\"],[\"Penrith and The Border\",\"North West\",\"E\",\"con safe\"],[\"Ribble Valley\",\"North West\",\"E\",\"con safe\"],[\"Sefton Central\",\"North West\",\"E\",\"lab safe\"],[\"South Ribble\",\"North West\",\"E\",\"con safe\"],[\"Southport\",\"North West\",\"E\",\"con safe\"],[\"Westmorland and Lonsdale\",\"North West\",\"E\",\"con ld marginal\"],[\"Wirral South\",\"North West\",\"E\",\"con lab marginal\"],[\"Wirral West\",\"North West\",\"E\",\"con lab marginal\"],[\"Wyre and Preston North\",\"North West\",\"E\",\"con safe\"],[\"Beverley and Holderness\",\"Yorkshire and The Humber\",\"E\",\"con safe\"],[\"Calder Valley\",\"Yorkshire and The Humber\",\"E\",\"con lab marginal\"],[\"Colne Valley\",\"Yorkshire and The Humber\",\"E\",\"con lab marginal\"],[\"East Yorkshire\",\"Yorkshire and The Humber\",\"E\",\"con safe\"],[\"Elmet and Rothwell\",\"Yorkshire and The Humber\",\"E\",\"con safe\"],[\"Haltemprice and Howden\",\"Yorkshire and The Humber\",\"E\",\"con safe\"],[\"Pudsey\",\"Yorkshire and The Humber\",\"E\",\"con lab marginal\"],[\"Richmond (Yorks)\",\"Yorkshire and The Humber\",\"E\",\"con safe\"],[\"Scarborough and Whitby\",\"Yorkshire and The Humber\",\"E\",\"con safe\"],[\"Selby and Ainsty\",\"Yorkshire and The Humber\",\"E\",\"con safe\"],[\"Shipley\",\"Yorkshire and The Humber\",\"E\",\"con lab marginal\"],[\"Skipton and Ripon\",\"Yorkshire and The Humber\",\"E\",\"con safe\"],[\"Thirsk and Malton\",\"Yorkshire and The Humber\",\"E\",\"con safe\"],[\"York Outer\",\"Yorkshire and The Humber\",\"E\",\"con safe\"],[\"Boston and Skegness\",\"East Midlands\",\"E\",\"con safe\"],[\"Broxtowe\",\"East Midlands\",\"E\",\"con lab marginal\"],[\"Charnwood\",\"East Midlands\",\"E\",\"con safe\"],[\"Derbyshire Dales\",\"East Midlands\",\"E\",\"con safe\"],[\"Gainsborough\",\"East Midlands\",\"E\",\"con safe\"],[\"Harborough\",\"East Midlands\",\"E\",\"con safe\"],[\"High Peak\",\"East Midlands\",\"E\",\"con lab marginal\"],[\"Louth and Horncastle\",\"East Midlands\",\"E\",\"con safe\"],[\"Mid Derbyshire\",\"East Midlands\",\"E\",\"con safe\"],[\"Newark\",\"East Midlands\",\"E\",\"con safe\"],[\"Rushcliffe\",\"East Midlands\",\"E\",\"con safe\"],[\"Rutland and Melton\",\"East Midlands\",\"E\",\"con safe\"],[\"Sleaford and North Hykeham\",\"East Midlands\",\"E\",\"con safe\"],[\"South Holland and The Deepings\",\"East Midlands\",\"E\",\"con safe\"],[\"Bromsgrove\",\"West Midlands\",\"E\",\"con safe\"],[\"Hereford and South Herefordshire\",\"West Midlands\",\"E\",\"con safe\"],[\"Lichfield\",\"West Midlands\",\"E\",\"con safe\"],[\"Ludlow\",\"West Midlands\",\"E\",\"con safe\"],[\"Mid Worcestershire\",\"West Midlands\",\"E\",\"con safe\"],[\"North Herefordshire\",\"West Midlands\",\"E\",\"con safe\"],[\"North Shropshire\",\"West Midlands\",\"E\",\"con safe\"],[\"Shrewsbury and Atcham\",\"West Midlands\",\"E\",\"con safe\"],[\"Solihull\",\"West Midlands\",\"E\",\"con safe\"],[\"South Staffordshire\",\"West Midlands\",\"E\",\"con safe\"],[\"Stafford\",\"West Midlands\",\"E\",\"con safe\"],[\"Staffordshire Moorlands\",\"West Midlands\",\"E\",\"con safe\"],[\"Stone\",\"West Midlands\",\"E\",\"con safe\"],[\"Sutton Coldfield\",\"West Midlands\",\"E\",\"con safe\"],[\"The Wrekin\",\"West Midlands\",\"E\",\"con safe\"],[\"West Worcestershire\",\"West Midlands\",\"E\",\"con safe\"],[\"Broadland\",\"East of England\",\"E\",\"con safe\"],[\"Central Suffolk and North Ipswich\",\"East of England\",\"E\",\"con safe\"],[\"Clacton\",\"East of England\",\"E\",\"con safe\"],[\"Great Yarmouth\",\"East of England\",\"E\",\"con safe\"],[\"Harwich and North Essex\",\"East of England\",\"E\",\"con safe\"],[\"Mid Norfolk\",\"East of England\",\"E\",\"con safe\"],[\"North East Cambridgeshire\",\"East of England\",\"E\",\"con safe\"],[\"North Norfolk\",\"East of England\",\"E\",\"con ld marginal\"],[\"North West Norfolk\",\"East of England\",\"E\",\"con safe\"],[\"South Norfolk\",\"East of England\",\"E\",\"con safe\"],[\"South Suffolk\",\"East of England\",\"E\",\"con safe\"],[\"South West Norfolk\",\"East of England\",\"E\",\"con safe\"],[\"Suffolk Coastal\",\"East of England\",\"E\",\"con safe\"],[\"Waveney\",\"East of England\",\"E\",\"con safe\"],[\"Bexhill and Battle\",\"South East\",\"E\",\"con safe\"],[\"Bognor Regis and Littlehampton\",\"South East\",\"E\",\"con safe\"],[\"Chichester\",\"South East\",\"E\",\"con safe\"],[\"Eastbourne\",\"South East\",\"E\",\"con ld marginal\"],[\"Gosport\",\"South East\",\"E\",\"con safe\"],[\"Hastings and Rye\",\"South East\",\"E\",\"con lab marginal\"],[\"Isle of Wight\",\"South East\",\"E\",\"con safe\"],[\"New Forest East\",\"South East\",\"E\",\"con safe\"],[\"New Forest West\",\"South East\",\"E\",\"con safe\"],[\"North Thanet\",\"South East\",\"E\",\"con safe\"],[\"South Thanet\",\"South East\",\"E\",\"con safe\"],[\"Bridgwater and West Somerset\",\"South West\",\"E\",\"con safe\"],[\"Camborne and Redruth\",\"South West\",\"E\",\"con lab marginal\"],[\"Central Devon\",\"South West\",\"E\",\"con safe\"],[\"Christchurch\",\"South West\",\"E\",\"con safe\"],[\"Devizes\",\"South West\",\"E\",\"con safe\"],[\"East Devon\",\"South West\",\"E\",\"con safe\"],[\"Forest of Dean\",\"South West\",\"E\",\"con safe\"],[\"Newton Abbot\",\"South West\",\"E\",\"con safe\"],[\"North Cornwall\",\"South West\",\"E\",\"con safe\"],[\"North Devon\",\"South West\",\"E\",\"con safe\"],[\"North Dorset\",\"South West\",\"E\",\"con safe\"],[\"North East Somerset\",\"South West\",\"E\",\"con safe\"],[\"Somerton and Frome\",\"South West\",\"E\",\"con safe\"],[\"South Dorset\",\"South West\",\"E\",\"con safe\"],[\"South East Cornwall\",\"South West\",\"E\",\"con safe\"],[\"South West Devon\",\"South West\",\"E\",\"con safe\"],[\"St Austell and Newquay\",\"South West\",\"E\",\"con safe\"],[\"St Ives\",\"South West\",\"E\",\"con ld marginal\"],[\"Stroud\",\"South West\",\"E\",\"con lab marginal\"],[\"Taunton Deane\",\"South West\",\"E\",\"con safe\"],[\"Tiverton and Honiton\",\"South West\",\"E\",\"con safe\"],[\"Torbay\",\"South West\",\"E\",\"con safe\"],[\"Torridge and West Devon\",\"South West\",\"E\",\"con safe\"],[\"Totnes\",\"South West\",\"E\",\"con safe\"],[\"Truro and Falmouth\",\"South West\",\"E\",\"con lab marginal\"],[\"Wells\",\"South West\",\"E\",\"con ld marginal\"],[\"West Dorset\",\"South West\",\"E\",\"con safe\"],[\"Weston-Super-Mare\",\"South West\",\"E\",\"con safe\"],[\"Yeovil\",\"South West\",\"E\",\"con safe\"],[\"East Dunbartonshire\",\"Scotland\",\"E\",\"ld snp marginal\"],[\"East Renfrewshire\",\"Scotland\",\"E\",\"con snp marginal\"],[\"Edinburgh West\",\"Scotland\",\"E\",\"ld snp marginal\"],[\"North East Fife\",\"Scotland\",\"E\",\"ld snp marginal\"],[\"Ynys Mon\",\"Wales\",\"E\",\"con lab marginal\"],[\"Gower\",\"Wales\",\"E\",\"con lab marginal\"],[\"Cardiff North\",\"Wales\",\"E\",\"con lab marginal\"],[\"Monmouth\",\"Wales\",\"E\",\"con safe\"],[\"Aberconwy\",\"Wales\",\"E\",\"con lab marginal\"],[\"Clwyd West\",\"Wales\",\"E\",\"con safe\"],[\"Vale of Clwyd\",\"Wales\",\"E\",\"con lab marginal\"],[\"Dwyfor Meirionnydd\",\"Wales\",\"E\",\"pc safe\"],[\"Montgomeryshire\",\"Wales\",\"E\",\"con safe\"],[\"Ceredigion\",\"Wales\",\"E\",\"ld pc marginal\"],[\"Preseli Pembrokeshire\",\"Wales\",\"E\",\"con lab marginal\"],[\"Carmarthen West and Pembrokeshire South\",\"Wales\",\"E\",\"con lab marginal\"],[\"Carmarthen East and Dinefwr\",\"Wales\",\"E\",\"con pc marginal\"],[\"Brecon and Radnorshire\",\"Wales\",\"E\",\"con ld marginal\"],[\"Vale of Glamorgan\",\"Wales\",\"E\",\"con lab marginal\"]],\"hovertemplate\":\"Constituency: %{customdata[0]}<br>Region: %{customdata[1]}<br>Cluster: %{customdata[2]}<br>YouGov Seat: %{customdata[3]}\",\"legendgroup\":\"E\",\"marker\":{\"color\":\"#000004\",\"symbol\":\"square\",\"line\":{\"width\":0},\"size\":13.5},\"mode\":\"markers\",\"name\":\"E\",\"orientation\":\"v\",\"showlegend\":true,\"x\":[-4,-4,-1,-8,-5,-7,-7,-5,-3,-9,-8,-9,-4,-9,-11,-6,4,-4,-4,3,2,2,-1,-3,2,2,-2,-4,1,-1,4,0,3,-3,2,3,-3,4,-2,3,3,4,4,4,-4,-7,-2,-8,-5,-8,-8,-9,-2,-6,-4,-3,-5,-2,-7,-7,7,10,10,8,10,6,6,6,5,9,10,7,9,8,10,2,-1,9,-3,11,-6,-6,-6,13,13,-11,-15,-13,-7,-5,-11,-7,-12,-14,-12,-7,-6,-8,-9,-14,-13,-15,-16,-6,-10,-11,-13,-13,-13,-15,-10,-9,-9,-10,-8,-10,-7,-4,-14,-14,-10,-8,-12,-11,-10,-12,-11,-12,-15,-15,-14,-9,-11],\"xaxis\":\"x\",\"y\":[17,16,17,1,2,1,10,15,12,8,9,9,13,2,2,11,8,9,7,10,10,9,10,11,11,8,10,11,11,11,5,1,0,3,5,-1,4,6,2,4,1,2,4,3,-5,-5,0,-2,-5,-4,0,-1,-4,0,0,2,0,-1,0,-4,2,0,-3,2,-2,1,0,2,1,0,-1,0,1,1,-15,-15,-15,-15,-14,-14,-15,-13,-12,-10,-11,-12,-17,-13,-13,-10,-14,-6,-14,-13,-12,-12,-10,-11,-15,-14,-14,-15,-16,-7,-13,-13,-15,-12,-16,-16,-12,-14,-12,-14,22,18,19,23,1,-9,-7,-5,0,0,0,-1,-1,-6,-7,-8,-7,-2,-9],\"yaxis\":\"y\",\"type\":\"scatter\"},{\"customdata\":[[\"Bishop Auckland\",\"North East\",\"D\",\"con lab marginal\"],[\"Blaydon\",\"North East\",\"D\",\"lab safe\"],[\"Blyth Valley\",\"North East\",\"D\",\"con lab marginal\"],[\"Darlington\",\"North East\",\"D\",\"con lab marginal\"],[\"Easington\",\"North East\",\"D\",\"lab safe\"],[\"Gateshead\",\"North East\",\"D\",\"lab safe\"],[\"Hartlepool\",\"North East\",\"D\",\"con lab marginal\"],[\"Houghton and Sunderland South\",\"North East\",\"D\",\"lab safe\"],[\"Jarrow\",\"North East\",\"D\",\"lab safe\"],[\"Middlesbrough\",\"North East\",\"D\",\"lab safe\"],[\"Middlesbrough South and East Cleveland\",\"North East\",\"D\",\"con safe\"],[\"Newcastle upon Tyne North\",\"North East\",\"D\",\"con lab marginal\"],[\"North Durham\",\"North East\",\"D\",\"lab safe\"],[\"North Tyneside\",\"North East\",\"D\",\"lab safe\"],[\"North West Durham\",\"North East\",\"D\",\"con lab marginal\"],[\"Redcar\",\"North East\",\"D\",\"con lab marginal\"],[\"Sedgefield\",\"North East\",\"D\",\"con lab marginal\"],[\"South Shields\",\"North East\",\"D\",\"lab safe\"],[\"Stockton North\",\"North East\",\"D\",\"con lab marginal\"],[\"Stockton South\",\"North East\",\"D\",\"con lab marginal\"],[\"Sunderland Central\",\"North East\",\"D\",\"lab safe\"],[\"Wansbeck\",\"North East\",\"D\",\"con lab marginal\"],[\"Washington and Sunderland West\",\"North East\",\"D\",\"lab safe\"],[\"Ashton-under-Lyne\",\"North West\",\"D\",\"con lab marginal\"],[\"Barrow and Furness\",\"North West\",\"D\",\"con safe\"],[\"Birkenhead\",\"North West\",\"D\",\"lab safe\"],[\"Blackpool North and Cleveleys\",\"North West\",\"D\",\"con safe\"],[\"Blackpool South\",\"North West\",\"D\",\"con lab marginal\"],[\"Bolton North East\",\"North West\",\"D\",\"con lab marginal\"],[\"Bolton West\",\"North West\",\"D\",\"con safe\"],[\"Bootle\",\"North West\",\"D\",\"lab safe\"],[\"Burnley\",\"North West\",\"D\",\"con lab marginal\"],[\"Bury North\",\"North West\",\"D\",\"con lab marginal\"],[\"Bury South\",\"North West\",\"D\",\"con lab marginal\"],[\"Carlisle\",\"North West\",\"D\",\"con safe\"],[\"Copeland\",\"North West\",\"D\",\"con safe\"],[\"Crewe and Nantwich\",\"North West\",\"D\",\"con lab marginal\"],[\"Denton and Reddish\",\"North West\",\"D\",\"lab safe\"],[\"Ellesmere Port and Neston\",\"North West\",\"D\",\"con lab marginal\"],[\"Garston and Halewood\",\"North West\",\"D\",\"lab safe\"],[\"Halton\",\"North West\",\"D\",\"lab safe\"],[\"Heywood and Middleton\",\"North West\",\"D\",\"con lab marginal\"],[\"Hyndburn\",\"North West\",\"D\",\"con lab marginal\"],[\"Knowsley\",\"North West\",\"D\",\"lab safe\"],[\"Leigh\",\"North West\",\"D\",\"con lab marginal\"],[\"Liverpool, Walton\",\"North West\",\"D\",\"lab safe\"],[\"Liverpool, West Derby\",\"North West\",\"D\",\"lab safe\"],[\"Makerfield\",\"North West\",\"D\",\"con lab marginal\"],[\"Morecambe and Lunesdale\",\"North West\",\"D\",\"con lab marginal\"],[\"Oldham East and Saddleworth\",\"North West\",\"D\",\"con lab marginal\"],[\"Pendle\",\"North West\",\"D\",\"con safe\"],[\"Rossendale and Darwen\",\"North West\",\"D\",\"con safe\"],[\"St Helens North\",\"North West\",\"D\",\"lab safe\"],[\"St Helens South and Whiston\",\"North West\",\"D\",\"lab safe\"],[\"Stalybridge and Hyde\",\"North West\",\"D\",\"con lab marginal\"],[\"Wallasey\",\"North West\",\"D\",\"lab safe\"],[\"Warrington North\",\"North West\",\"D\",\"con lab marginal\"],[\"Warrington South\",\"North West\",\"D\",\"con lab marginal\"],[\"Weaver Vale\",\"North West\",\"D\",\"con lab marginal\"],[\"West Lancashire\",\"North West\",\"D\",\"con lab marginal\"],[\"Wigan\",\"North West\",\"D\",\"con lab marginal\"],[\"Workington\",\"North West\",\"D\",\"con lab marginal\"],[\"Worsley and Eccles South\",\"North West\",\"D\",\"con lab marginal\"],[\"Barnsley Central\",\"Yorkshire and The Humber\",\"D\",\"lab safe\"],[\"Barnsley East\",\"Yorkshire and The Humber\",\"D\",\"con lab marginal\"],[\"Batley and Spen\",\"Yorkshire and The Humber\",\"D\",\"con lab marginal\"],[\"Bradford South\",\"Yorkshire and The Humber\",\"D\",\"con lab marginal\"],[\"Brigg and Goole\",\"Yorkshire and The Humber\",\"D\",\"con safe\"],[\"Cleethorpes\",\"Yorkshire and The Humber\",\"D\",\"con safe\"],[\"Dewsbury\",\"Yorkshire and The Humber\",\"D\",\"con lab marginal\"],[\"Don Valley\",\"Yorkshire and The Humber\",\"D\",\"con lab marginal\"],[\"Doncaster Central\",\"Yorkshire and The Humber\",\"D\",\"con lab marginal\"],[\"Doncaster North\",\"Yorkshire and The Humber\",\"D\",\"con lab marginal\"],[\"Great Grimsby\",\"Yorkshire and The Humber\",\"D\",\"con lab marginal\"],[\"Halifax\",\"Yorkshire and The Humber\",\"D\",\"con lab marginal\"],[\"Hemsworth\",\"Yorkshire and The Humber\",\"D\",\"con lab marginal\"],[\"Keighley\",\"Yorkshire and The Humber\",\"D\",\"con lab marginal\"],[\"Kingston upon Hull East\",\"Yorkshire and The Humber\",\"D\",\"con lab marginal\"],[\"Kingston upon Hull North\",\"Yorkshire and The Humber\",\"D\",\"lab safe\"],[\"Kingston upon Hull West and Hessle\",\"Yorkshire and The Humber\",\"D\",\"con lab marginal\"],[\"Morley and Outwood\",\"Yorkshire and The Humber\",\"D\",\"con safe\"],[\"Normanton, Pontefract and Castleford\",\"Yorkshire and The Humber\",\"D\",\"con lab marginal\"],[\"Penistone and Stocksbridge\",\"Yorkshire and The Humber\",\"D\",\"con lab marginal\"],[\"Rother Valley\",\"Yorkshire and The Humber\",\"D\",\"con lab marginal\"],[\"Rotherham\",\"Yorkshire and The Humber\",\"D\",\"con lab marginal\"],[\"Scunthorpe\",\"Yorkshire and The Humber\",\"D\",\"con lab marginal\"],[\"Sheffield South East\",\"Yorkshire and The Humber\",\"D\",\"con lab marginal\"],[\"Sheffield, Brightside and Hillsborough\",\"Yorkshire and The Humber\",\"D\",\"lab safe\"],[\"Sheffield, Heeley\",\"Yorkshire and The Humber\",\"D\",\"lab safe\"],[\"Wakefield\",\"Yorkshire and The Humber\",\"D\",\"con lab marginal\"],[\"Wentworth and Dearne\",\"Yorkshire and The Humber\",\"D\",\"con lab marginal\"],[\"Amber Valley\",\"East Midlands\",\"D\",\"con safe\"],[\"Ashfield\",\"East Midlands\",\"D\",\"con lab marginal\"],[\"Bassetlaw\",\"East Midlands\",\"D\",\"con lab marginal\"],[\"Bolsover\",\"East Midlands\",\"D\",\"con lab marginal\"],[\"Bosworth\",\"East Midlands\",\"D\",\"con safe\"],[\"Chesterfield\",\"East Midlands\",\"D\",\"con lab marginal\"],[\"Corby\",\"East Midlands\",\"D\",\"con safe\"],[\"Erewash\",\"East Midlands\",\"D\",\"con safe\"],[\"Gedling\",\"East Midlands\",\"D\",\"con lab marginal\"],[\"Kettering\",\"East Midlands\",\"D\",\"con safe\"],[\"Mansfield\",\"East Midlands\",\"D\",\"con safe\"],[\"North East Derbyshire\",\"East Midlands\",\"D\",\"con safe\"],[\"North West Leicestershire\",\"East Midlands\",\"D\",\"con safe\"],[\"Sherwood\",\"East Midlands\",\"D\",\"con safe\"],[\"South Derbyshire\",\"East Midlands\",\"D\",\"con safe\"],[\"South Leicestershire\",\"East Midlands\",\"D\",\"con safe\"],[\"Aldridge-Brownhills\",\"West Midlands\",\"D\",\"con safe\"],[\"Birmingham, Northfield\",\"West Midlands\",\"D\",\"con lab marginal\"],[\"Burton\",\"West Midlands\",\"D\",\"con safe\"],[\"Cannock Chase\",\"West Midlands\",\"D\",\"con safe\"],[\"Dudley North\",\"West Midlands\",\"D\",\"con lab marginal\"],[\"Dudley South\",\"West Midlands\",\"D\",\"con safe\"],[\"Halesowen and Rowley Regis\",\"West Midlands\",\"D\",\"con safe\"],[\"Meriden\",\"West Midlands\",\"D\",\"con safe\"],[\"Newcastle-under-Lyme\",\"West Midlands\",\"D\",\"con lab marginal\"],[\"North Warwickshire\",\"West Midlands\",\"D\",\"con safe\"],[\"Nuneaton\",\"West Midlands\",\"D\",\"con safe\"],[\"Redditch\",\"West Midlands\",\"D\",\"con safe\"],[\"Rugby\",\"West Midlands\",\"D\",\"con safe\"],[\"Stoke-on-Trent Central\",\"West Midlands\",\"D\",\"con lab marginal\"],[\"Stoke-on-Trent North\",\"West Midlands\",\"D\",\"con lab marginal\"],[\"Stoke-on-Trent South\",\"West Midlands\",\"D\",\"con safe\"],[\"Stourbridge\",\"West Midlands\",\"D\",\"con safe\"],[\"Tamworth\",\"West Midlands\",\"D\",\"con safe\"],[\"Telford\",\"West Midlands\",\"D\",\"con safe\"],[\"Walsall North\",\"West Midlands\",\"D\",\"con safe\"],[\"Worcester\",\"West Midlands\",\"D\",\"con safe\"],[\"Wyre Forest\",\"West Midlands\",\"D\",\"con safe\"],[\"Norwich North\",\"East of England\",\"D\",\"con lab marginal\"],[\"Havant\",\"South East\",\"D\",\"con safe\"],[\"Plymouth, Moor View\",\"South West\",\"D\",\"con safe\"],[\"Delyn\",\"Wales\",\"D\",\"con lab marginal\"],[\"Alyn and Deeside\",\"Wales\",\"D\",\"con lab marginal\"],[\"Wrexham\",\"Wales\",\"D\",\"con lab marginal\"],[\"Llanelli\",\"Wales\",\"D\",\"lab safe\"],[\"Swansea East\",\"Wales\",\"D\",\"lab safe\"],[\"Aberavon\",\"Wales\",\"D\",\"lab safe\"],[\"Rhondda\",\"Wales\",\"D\",\"lab safe\"],[\"Torfaen\",\"Wales\",\"D\",\"con lab marginal\"],[\"Newport East\",\"Wales\",\"D\",\"con lab marginal\"],[\"Newport West\",\"Wales\",\"D\",\"con lab marginal\"],[\"Clwyd South\",\"Wales\",\"D\",\"con lab marginal\"],[\"Neath\",\"Wales\",\"D\",\"lab safe\"],[\"Cynon Valley\",\"Wales\",\"D\",\"lab safe\"],[\"Merthyr Tydfil and Rhymney\",\"Wales\",\"D\",\"lab safe\"],[\"Blaenau Gwent\",\"Wales\",\"D\",\"lab safe\"],[\"Bridgend\",\"Wales\",\"D\",\"con lab marginal\"],[\"Ogmore\",\"Wales\",\"D\",\"lab safe\"],[\"Pontypridd\",\"Wales\",\"D\",\"lab safe\"],[\"Caerphilly\",\"Wales\",\"D\",\"lab safe\"],[\"Islwyn\",\"Wales\",\"D\",\"lab safe\"]],\"hovertemplate\":\"Constituency: %{customdata[0]}<br>Region: %{customdata[1]}<br>Cluster: %{customdata[2]}<br>YouGov Seat: %{customdata[3]}\",\"legendgroup\":\"D\",\"marker\":{\"color\":\"#FCAD12\",\"symbol\":\"square\",\"line\":{\"width\":0},\"size\":13.5},\"mode\":\"markers\",\"name\":\"D\",\"orientation\":\"v\",\"showlegend\":true,\"x\":[-2,-3,-2,-1,0,-3,1,-1,-1,1,2,-3,-2,-1,-3,1,-1,0,0,0,0,-3,-2,-5,-5,-10,-6,-8,-7,-8,-10,-4,-6,-6,-4,-6,-6,-4,-9,-9,-8,-5,-5,-9,-8,-10,-10,-9,-5,-5,-5,-5,-9,-9,-4,-11,-8,-8,-7,-8,-7,-5,-8,-2,-1,-1,-2,1,2,-2,1,1,0,3,-3,0,-3,3,3,3,0,1,-3,1,0,2,0,-2,-2,-1,-1,0,1,2,0,0,-1,4,1,3,4,1,-2,0,2,-2,1,-3,-4,-3,-4,-7,-6,-6,-2,-5,-1,0,-4,0,-4,-4,-3,-5,-1,-8,-6,-6,-8,7,-1,-14,-11,-10,-9,-14,-13,-12,-11,-9,-8,-9,-10,-12,-10,-9,-9,-12,-11,-11,-10,-9],\"xaxis\":\"x\",\"y\":[12,14,17,12,14,15,14,14,15,12,12,16,14,16,13,13,13,16,13,12,15,17,15,6,13,2,12,11,7,7,7,10,9,8,14,13,1,5,1,3,2,8,10,6,6,6,5,7,12,7,11,9,5,4,6,3,4,3,2,8,8,14,5,6,6,8,8,7,7,7,5,6,6,6,8,7,10,7,9,8,8,8,6,4,5,6,4,5,4,7,5,2,2,4,3,-1,3,1,0,2,0,3,3,0,3,1,-2,-1,-4,1,-1,-3,-4,-3,-5,1,-1,-2,-6,-3,1,2,0,-4,0,-1,-1,-5,-3,1,-14,-15,1,1,0,-8,-7,-8,-6,-5,-6,-7,-1,-7,-5,-4,-3,-9,-8,-7,-6,-6],\"yaxis\":\"y\",\"type\":\"scatter\"},{\"customdata\":[[\"City of Durham\",\"North East\",\"B\",\"con lab marginal\"],[\"Newcastle upon Tyne Central\",\"North East\",\"B\",\"lab safe\"],[\"Newcastle upon Tyne East\",\"North East\",\"B\",\"lab safe\"],[\"Blackburn\",\"North West\",\"B\",\"lab safe\"],[\"Blackley and Broughton\",\"North West\",\"B\",\"lab safe\"],[\"Bolton South East\",\"North West\",\"B\",\"lab safe\"],[\"Lancaster and Fleetwood\",\"North West\",\"B\",\"con lab marginal\"],[\"Liverpool, Riverside\",\"North West\",\"B\",\"lab safe\"],[\"Liverpool, Wavertree\",\"North West\",\"B\",\"lab safe\"],[\"Manchester Central\",\"North West\",\"B\",\"lab safe\"],[\"Manchester, Gorton\",\"North West\",\"B\",\"lab safe\"],[\"Manchester, Withington\",\"North West\",\"B\",\"lab safe\"],[\"Oldham West and Royton\",\"North West\",\"B\",\"lab safe\"],[\"Preston\",\"North West\",\"B\",\"lab safe\"],[\"Rochdale\",\"North West\",\"B\",\"lab safe\"],[\"Salford and Eccles\",\"North West\",\"B\",\"lab safe\"],[\"Stockport\",\"North West\",\"B\",\"lab safe\"],[\"Stretford and Urmston\",\"North West\",\"B\",\"lab safe\"],[\"Wythenshawe and Sale East\",\"North West\",\"B\",\"lab safe\"],[\"Bradford East\",\"Yorkshire and The Humber\",\"B\",\"lab safe\"],[\"Bradford West\",\"Yorkshire and The Humber\",\"B\",\"lab safe\"],[\"Huddersfield\",\"Yorkshire and The Humber\",\"B\",\"con lab marginal\"],[\"Leeds Central\",\"Yorkshire and The Humber\",\"B\",\"lab safe\"],[\"Leeds East\",\"Yorkshire and The Humber\",\"B\",\"lab safe\"],[\"Leeds North East\",\"Yorkshire and The Humber\",\"B\",\"lab safe\"],[\"Leeds North West\",\"Yorkshire and The Humber\",\"B\",\"lab safe\"],[\"Leeds West\",\"Yorkshire and The Humber\",\"B\",\"lab safe\"],[\"Sheffield Central\",\"Yorkshire and The Humber\",\"B\",\"lab safe\"],[\"York Central\",\"Yorkshire and The Humber\",\"B\",\"lab safe\"],[\"Derby North\",\"East Midlands\",\"B\",\"con lab marginal\"],[\"Derby South\",\"East Midlands\",\"B\",\"con lab marginal\"],[\"Leicester South\",\"East Midlands\",\"B\",\"lab safe\"],[\"Leicester West\",\"East Midlands\",\"B\",\"lab safe\"],[\"Lincoln\",\"East Midlands\",\"B\",\"con lab marginal\"],[\"Loughborough\",\"East Midlands\",\"B\",\"con lab marginal\"],[\"Nottingham East\",\"East Midlands\",\"B\",\"lab safe\"],[\"Nottingham North\",\"East Midlands\",\"B\",\"lab safe\"],[\"Nottingham South\",\"East Midlands\",\"B\",\"lab safe\"],[\"Birmingham, Edgbaston\",\"West Midlands\",\"B\",\"con lab marginal\"],[\"Birmingham, Erdington\",\"West Midlands\",\"B\",\"con lab marginal\"],[\"Birmingham, Hall Green\",\"West Midlands\",\"B\",\"lab safe\"],[\"Birmingham, Hodge Hill\",\"West Midlands\",\"B\",\"lab safe\"],[\"Birmingham, Ladywood\",\"West Midlands\",\"B\",\"lab safe\"],[\"Birmingham, Perry Barr\",\"West Midlands\",\"B\",\"lab safe\"],[\"Birmingham, Selly Oak\",\"West Midlands\",\"B\",\"lab safe\"],[\"Birmingham, Yardley\",\"West Midlands\",\"B\",\"lab safe\"],[\"Coventry North East\",\"West Midlands\",\"B\",\"lab safe\"],[\"Coventry North West\",\"West Midlands\",\"B\",\"con lab marginal\"],[\"Coventry South\",\"West Midlands\",\"B\",\"con lab marginal\"],[\"Walsall South\",\"West Midlands\",\"B\",\"con lab marginal\"],[\"Warley\",\"West Midlands\",\"B\",\"lab safe\"],[\"Warwick and Leamington\",\"West Midlands\",\"B\",\"con lab marginal\"],[\"West Bromwich East\",\"West Midlands\",\"B\",\"con lab marginal\"],[\"West Bromwich West\",\"West Midlands\",\"B\",\"con lab marginal\"],[\"Wolverhampton North East\",\"West Midlands\",\"B\",\"con lab marginal\"],[\"Wolverhampton South East\",\"West Midlands\",\"B\",\"con lab marginal\"],[\"Wolverhampton South West\",\"West Midlands\",\"B\",\"con lab marginal\"],[\"Cambridge\",\"East of England\",\"B\",\"lab safe\"],[\"Norwich South\",\"East of England\",\"B\",\"lab safe\"],[\"Brighton, Kemptown\",\"South East\",\"B\",\"lab safe\"],[\"Brighton, Pavilion\",\"South East\",\"B\",\"green safe\"],[\"Canterbury\",\"South East\",\"B\",\"con lab marginal\"],[\"Hove\",\"South East\",\"B\",\"lab safe\"],[\"Oxford East\",\"South East\",\"B\",\"lab safe\"],[\"Portsmouth South\",\"South East\",\"B\",\"con lab marginal\"],[\"Reading East\",\"South East\",\"B\",\"con lab marginal\"],[\"Southampton, Itchen\",\"South East\",\"B\",\"con lab marginal\"],[\"Southampton, Test\",\"South East\",\"B\",\"lab safe\"],[\"Bath\",\"South West\",\"B\",\"ld safe\"],[\"Bournemouth West\",\"South West\",\"B\",\"con safe\"],[\"Bristol East\",\"South West\",\"B\",\"lab safe\"],[\"Bristol North West\",\"South West\",\"B\",\"con lab marginal\"],[\"Bristol South\",\"South West\",\"B\",\"lab safe\"],[\"Bristol West\",\"South West\",\"B\",\"lab safe\"],[\"Exeter\",\"South West\",\"B\",\"lab safe\"],[\"Plymouth, Sutton and Devonport\",\"South West\",\"B\",\"con lab marginal\"],[\"Edinburgh East\",\"Scotland\",\"B\",\"snp safe\"],[\"Edinburgh North and Leith\",\"Scotland\",\"B\",\"snp safe\"],[\"Edinburgh South\",\"Scotland\",\"B\",\"lab safe\"],[\"Edinburgh South West\",\"Scotland\",\"B\",\"snp safe\"],[\"Glasgow Central\",\"Scotland\",\"B\",\"snp safe\"],[\"Glasgow North\",\"Scotland\",\"B\",\"snp safe\"],[\"Swansea West\",\"Wales\",\"B\",\"lab safe\"],[\"Cardiff Central\",\"Wales\",\"B\",\"lab safe\"],[\"Arfon\",\"Wales\",\"B\",\"pc safe\"],[\"Cardiff West\",\"Wales\",\"B\",\"lab safe\"],[\"Cardiff South and Penarth\",\"Wales\",\"B\",\"lab safe\"]],\"hovertemplate\":\"Constituency: %{customdata[0]}<br>Region: %{customdata[1]}<br>Cluster: %{customdata[2]}<br>YouGov Seat: %{customdata[3]}\",\"legendgroup\":\"B\",\"marker\":{\"color\":\"#48BFE3\",\"symbol\":\"square\",\"line\":{\"width\":0},\"size\":13.5},\"mode\":\"markers\",\"name\":\"B\",\"orientation\":\"v\",\"showlegend\":true,\"x\":[-2,-4,-2,-6,-6,-7,-4,-10,-10,-6,-5,-6,-6,-7,-4,-7,-5,-7,-6,-2,-3,-3,0,1,1,0,-1,-1,0,-1,-1,2,1,3,2,2,2,1,-4,-2,-3,-1,-3,-3,-3,-2,-1,-1,0,-5,-5,-1,-4,-5,-7,-6,-7,6,8,7,6,12,5,0,-2,-3,-5,-5,-6,-8,-7,-8,-7,-8,-12,-14,-5,-6,-5,-6,-9,-9,-13,-9,-13,-10,-10],\"xaxis\":\"x\",\"y\":[13,15,16,10,6,6,12,4,3,5,5,4,7,11,8,5,4,4,3,9,9,7,9,9,10,10,9,4,11,2,1,-2,-1,5,0,1,2,1,-3,-2,-4,-2,-3,-2,-5,-3,-3,-4,-4,-1,-3,-5,-2,-2,-1,-2,-2,-1,0,-15,-15,-12,-15,-5,-14,-7,-13,-12,-9,-14,-9,-9,-10,-10,-13,-16,19,19,18,18,19,20,-8,-8,-1,-8,-9],\"yaxis\":\"y\",\"type\":\"scatter\"},{\"customdata\":[[\"Altrincham and Sale West\",\"North West\",\"F\",\"con safe\"],[\"Cheadle\",\"North West\",\"F\",\"con ld marginal\"],[\"Hazel Grove\",\"North West\",\"F\",\"con ld marginal\"],[\"Macclesfield\",\"North West\",\"F\",\"con safe\"],[\"Tatton\",\"North West\",\"F\",\"con safe\"],[\"Harrogate and Knaresborough\",\"Yorkshire and The Humber\",\"F\",\"con safe\"],[\"Sheffield, Hallam\",\"Yorkshire and The Humber\",\"F\",\"lab ld marginal\"],[\"Daventry\",\"East Midlands\",\"F\",\"con safe\"],[\"Grantham and Stamford\",\"East Midlands\",\"F\",\"con safe\"],[\"Northampton North\",\"East Midlands\",\"F\",\"con lab marginal\"],[\"Northampton South\",\"East Midlands\",\"F\",\"con safe\"],[\"South Northamptonshire\",\"East Midlands\",\"F\",\"con safe\"],[\"Wellingborough\",\"East Midlands\",\"F\",\"con safe\"],[\"Kenilworth and Southam\",\"West Midlands\",\"F\",\"con safe\"],[\"Stratford-on-Avon\",\"West Midlands\",\"F\",\"con safe\"],[\"Basildon and Billericay\",\"East of England\",\"F\",\"con safe\"],[\"Bedford\",\"East of England\",\"F\",\"con lab marginal\"],[\"Braintree\",\"East of England\",\"F\",\"con safe\"],[\"Brentwood and Ongar\",\"East of England\",\"F\",\"con safe\"],[\"Broxbourne\",\"East of England\",\"F\",\"con safe\"],[\"Bury St Edmunds\",\"East of England\",\"F\",\"con safe\"],[\"Castle Point\",\"East of England\",\"F\",\"con safe\"],[\"Chelmsford\",\"East of England\",\"F\",\"con safe\"],[\"Colchester\",\"East of England\",\"F\",\"con safe\"],[\"Epping Forest\",\"East of England\",\"F\",\"con safe\"],[\"Harlow\",\"East of England\",\"F\",\"con safe\"],[\"Hemel Hempstead\",\"East of England\",\"F\",\"con safe\"],[\"Hertford and Stortford\",\"East of England\",\"F\",\"con safe\"],[\"Hertsmere\",\"East of England\",\"F\",\"con safe\"],[\"Hitchin and Harpenden\",\"East of England\",\"F\",\"con safe\"],[\"Huntingdon\",\"East of England\",\"F\",\"con safe\"],[\"Ipswich\",\"East of England\",\"F\",\"con lab marginal\"],[\"Maldon\",\"East of England\",\"F\",\"con safe\"],[\"Mid Bedfordshire\",\"East of England\",\"F\",\"con safe\"],[\"North East Bedfordshire\",\"East of England\",\"F\",\"con safe\"],[\"North East Hertfordshire\",\"East of England\",\"F\",\"con safe\"],[\"North West Cambridgeshire\",\"East of England\",\"F\",\"con safe\"],[\"Peterborough\",\"East of England\",\"F\",\"con lab marginal\"],[\"Rayleigh and Wickford\",\"East of England\",\"F\",\"con safe\"],[\"Rochford and Southend East\",\"East of England\",\"F\",\"con safe\"],[\"Saffron Walden\",\"East of England\",\"F\",\"con safe\"],[\"South Basildon and East Thurrock\",\"East of England\",\"F\",\"con safe\"],[\"South Cambridgeshire\",\"East of England\",\"F\",\"con ld marginal\"],[\"South East Cambridgeshire\",\"East of England\",\"F\",\"con safe\"],[\"South West Bedfordshire\",\"East of England\",\"F\",\"con safe\"],[\"South West Hertfordshire\",\"East of England\",\"F\",\"con safe\"],[\"Southend West\",\"East of England\",\"F\",\"con safe\"],[\"St Albans\",\"East of England\",\"F\",\"con ld marginal\"],[\"Stevenage\",\"East of England\",\"F\",\"con safe\"],[\"Thurrock\",\"East of England\",\"F\",\"con safe\"],[\"Welwyn Hatfield\",\"East of England\",\"F\",\"con safe\"],[\"West Suffolk\",\"East of England\",\"F\",\"con safe\"],[\"Witham\",\"East of England\",\"F\",\"con safe\"],[\"Beckenham\",\"London\",\"F\",\"con safe\"],[\"Bexleyheath and Crayford\",\"London\",\"F\",\"con safe\"],[\"Bromley and Chislehurst\",\"London\",\"F\",\"con safe\"],[\"Carshalton and Wallington\",\"London\",\"F\",\"con ld marginal\"],[\"Croydon South\",\"London\",\"F\",\"con safe\"],[\"Dagenham and Rainham\",\"London\",\"F\",\"con lab marginal\"],[\"Hornchurch and Upminster\",\"London\",\"F\",\"con safe\"],[\"Kingston and Surbiton\",\"London\",\"F\",\"ld safe\"],[\"Old Bexley and Sidcup\",\"London\",\"F\",\"con safe\"],[\"Orpington\",\"London\",\"F\",\"con safe\"],[\"Richmond Park\",\"London\",\"F\",\"con ld marginal\"],[\"Romford\",\"London\",\"F\",\"con safe\"],[\"Ruislip, Northwood and Pinner\",\"London\",\"F\",\"con safe\"],[\"Sutton and Cheam\",\"London\",\"F\",\"con safe\"],[\"Twickenham\",\"London\",\"F\",\"ld safe\"],[\"Aldershot\",\"South East\",\"F\",\"con safe\"],[\"Arundel and South Downs\",\"South East\",\"F\",\"con safe\"],[\"Ashford\",\"South East\",\"F\",\"con safe\"],[\"Aylesbury\",\"South East\",\"F\",\"con safe\"],[\"Banbury\",\"South East\",\"F\",\"con safe\"],[\"Basingstoke\",\"South East\",\"F\",\"con safe\"],[\"Beaconsfield\",\"South East\",\"F\",\"con safe\"],[\"Bracknell\",\"South East\",\"F\",\"con safe\"],[\"Buckingham\",\"South East\",\"F\",\"con safe\"],[\"Chatham and Aylesford\",\"South East\",\"F\",\"con safe\"],[\"Chesham and Amersham\",\"South East\",\"F\",\"con safe\"],[\"Crawley\",\"South East\",\"F\",\"con lab marginal\"],[\"Dartford\",\"South East\",\"F\",\"con safe\"],[\"Dover\",\"South East\",\"F\",\"con safe\"],[\"East Hampshire\",\"South East\",\"F\",\"con safe\"],[\"East Surrey\",\"South East\",\"F\",\"con safe\"],[\"East Worthing and Shoreham\",\"South East\",\"F\",\"con safe\"],[\"Eastleigh\",\"South East\",\"F\",\"con safe\"],[\"Epsom and Ewell\",\"South East\",\"F\",\"con safe\"],[\"Esher and Walton\",\"South East\",\"F\",\"con ld marginal\"],[\"Fareham\",\"South East\",\"F\",\"con safe\"],[\"Faversham and Mid Kent\",\"South East\",\"F\",\"con safe\"],[\"Folkestone and Hythe\",\"South East\",\"F\",\"con safe\"],[\"Gillingham and Rainham\",\"South East\",\"F\",\"con safe\"],[\"Gravesham\",\"South East\",\"F\",\"con safe\"],[\"Guildford\",\"South East\",\"F\",\"con ld marginal\"],[\"Henley\",\"South East\",\"F\",\"con safe\"],[\"Horsham\",\"South East\",\"F\",\"con safe\"],[\"Lewes\",\"South East\",\"F\",\"con ld marginal\"],[\"Maidenhead\",\"South East\",\"F\",\"con safe\"],[\"Maidstone and The Weald\",\"South East\",\"F\",\"con safe\"],[\"Meon Valley\",\"South East\",\"F\",\"con safe\"],[\"Mid Sussex\",\"South East\",\"F\",\"con safe\"],[\"Milton Keynes North\",\"South East\",\"F\",\"con lab marginal\"],[\"Milton Keynes South\",\"South East\",\"F\",\"con lab marginal\"],[\"Mole Valley\",\"South East\",\"F\",\"con safe\"],[\"Newbury\",\"South East\",\"F\",\"con safe\"],[\"North East Hampshire\",\"South East\",\"F\",\"con safe\"],[\"North West Hampshire\",\"South East\",\"F\",\"con safe\"],[\"Oxford West and Abingdon\",\"South East\",\"F\",\"ld safe\"],[\"Portsmouth North\",\"South East\",\"F\",\"con safe\"],[\"Reading West\",\"South East\",\"F\",\"con lab marginal\"],[\"Reigate\",\"South East\",\"F\",\"con safe\"],[\"Rochester and Strood\",\"South East\",\"F\",\"con safe\"],[\"Romsey and Southampton North\",\"South East\",\"F\",\"con safe\"],[\"Runnymede and Weybridge\",\"South East\",\"F\",\"con safe\"],[\"Sevenoaks\",\"South East\",\"F\",\"con safe\"],[\"Sittingbourne and Sheppey\",\"South East\",\"F\",\"con safe\"],[\"South West Surrey\",\"South East\",\"F\",\"con safe\"],[\"Spelthorne\",\"South East\",\"F\",\"con safe\"],[\"Surrey Heath\",\"South East\",\"F\",\"con safe\"],[\"Tonbridge and Malling\",\"South East\",\"F\",\"con safe\"],[\"Tunbridge Wells\",\"South East\",\"F\",\"con safe\"],[\"Wantage\",\"South East\",\"F\",\"con safe\"],[\"Wealden\",\"South East\",\"F\",\"con safe\"],[\"Winchester\",\"South East\",\"F\",\"con ld marginal\"],[\"Windsor\",\"South East\",\"F\",\"con safe\"],[\"Witney\",\"South East\",\"F\",\"con safe\"],[\"Woking\",\"South East\",\"F\",\"con safe\"],[\"Wokingham\",\"South East\",\"F\",\"con ld marginal\"],[\"Worthing West\",\"South East\",\"F\",\"con safe\"],[\"Wycombe\",\"South East\",\"F\",\"con lab marginal\"],[\"Bournemouth East\",\"South West\",\"F\",\"con safe\"],[\"Cheltenham\",\"South West\",\"F\",\"con ld marginal\"],[\"Chippenham\",\"South West\",\"F\",\"con safe\"],[\"Filton and Bradley Stoke\",\"South West\",\"F\",\"con lab marginal\"],[\"Gloucester\",\"South West\",\"F\",\"con safe\"],[\"Kingswood\",\"South West\",\"F\",\"con safe\"],[\"Mid Dorset and North Poole\",\"South West\",\"F\",\"con safe\"],[\"North Somerset\",\"South West\",\"F\",\"con safe\"],[\"North Swindon\",\"South West\",\"F\",\"con safe\"],[\"North Wiltshire\",\"South West\",\"F\",\"con safe\"],[\"Poole\",\"South West\",\"F\",\"con safe\"],[\"Salisbury\",\"South West\",\"F\",\"con safe\"],[\"South Swindon\",\"South West\",\"F\",\"con lab marginal\"],[\"South West Wiltshire\",\"South West\",\"F\",\"con safe\"],[\"Tewkesbury\",\"South West\",\"F\",\"con safe\"],[\"The Cotswolds\",\"South West\",\"F\",\"con safe\"],[\"Thornbury and Yate\",\"South West\",\"F\",\"con ld marginal\"]],\"hovertemplate\":\"Constituency: %{customdata[0]}<br>Region: %{customdata[1]}<br>Cluster: %{customdata[2]}<br>YouGov Seat: %{customdata[3]}\",\"legendgroup\":\"F\",\"marker\":{\"color\":\"#3A0963\",\"symbol\":\"square\",\"line\":{\"width\":0},\"size\":13.5},\"mode\":\"markers\",\"name\":\"F\",\"orientation\":\"v\",\"showlegend\":true,\"x\":[-7,-5,-4,-4,-6,-2,-3,1,3,3,2,2,4,1,-3,8,4,8,8,8,9,10,9,9,9,8,5,7,7,5,5,9,11,4,4,6,5,5,9,10,7,9,6,7,3,3,10,6,6,8,7,8,10,7,9,8,4,5,9,8,0,9,8,1,7,1,2,0,-3,0,12,2,1,-3,-1,-2,2,10,0,1,9,13,-3,9,4,-4,1,-1,-4,12,12,11,10,-2,1,1,8,-2,11,-4,10,3,3,0,-4,-3,-4,0,-3,-3,2,11,-5,-1,9,12,-2,-1,-1,10,10,-2,11,-4,-2,-1,-2,-4,3,-1,-8,-7,-5,-8,-7,-6,-8,-9,-5,-5,-9,-6,-4,-7,-6,-5,-8],\"xaxis\":\"x\",\"y\":[3,3,4,3,2,11,5,-3,3,-2,-3,-4,-1,-4,-6,-5,-3,-2,-4,-6,-2,-7,-4,-3,-6,-3,-5,-3,-5,-3,-2,-1,-4,-4,-2,-3,-1,0,-5,-5,-2,-7,-2,-1,-5,-6,-6,-5,-4,-7,-4,-1,-4,-14,-10,-13,-14,-14,-8,-8,-13,-12,-14,-12,-7,-7,-13,-12,-11,-15,-13,-6,-5,-10,-8,-10,-5,-11,-7,-14,-11,-12,-12,-14,-15,-12,-13,-13,-14,-11,-14,-11,-10,-13,-6,-15,-15,-7,-12,-13,-14,-3,-4,-14,-7,-9,-10,-6,-13,-8,-14,-10,-11,-12,-13,-10,-12,-11,-10,-12,-13,-6,-13,-11,-9,-6,-11,-9,-15,-7,-13,-7,-9,-8,-8,-8,-12,-11,-7,-8,-13,-11,-8,-11,-6,-6,-7],\"yaxis\":\"y\",\"type\":\"scatter\"},{\"customdata\":[[\"Leicester East\",\"East Midlands\",\"A\",\"lab safe\"],[\"Luton North\",\"East of England\",\"A\",\"con lab marginal\"],[\"Luton South\",\"East of England\",\"A\",\"lab safe\"],[\"Watford\",\"East of England\",\"A\",\"con safe\"],[\"Barking\",\"London\",\"A\",\"lab safe\"],[\"Battersea\",\"London\",\"A\",\"con lab marginal\"],[\"Bermondsey and Old Southwark\",\"London\",\"A\",\"lab safe\"],[\"Bethnal Green and Bow\",\"London\",\"A\",\"lab safe\"],[\"Brent Central\",\"London\",\"A\",\"lab safe\"],[\"Brent North\",\"London\",\"A\",\"lab safe\"],[\"Brentford and Isleworth\",\"London\",\"A\",\"con lab marginal\"],[\"Camberwell and Peckham\",\"London\",\"A\",\"lab safe\"],[\"Chelsea and Fulham\",\"London\",\"A\",\"con ld marginal\"],[\"Chingford and Woodford Green\",\"London\",\"A\",\"con lab marginal\"],[\"Chipping Barnet\",\"London\",\"A\",\"con lab marginal\"],[\"Cities of London and Westminster\",\"London\",\"A\",\"con lab marginal\"],[\"Croydon Central\",\"London\",\"A\",\"con lab marginal\"],[\"Croydon North\",\"London\",\"A\",\"lab safe\"],[\"Dulwich and West Norwood\",\"London\",\"A\",\"lab safe\"],[\"Ealing Central and Acton\",\"London\",\"A\",\"lab safe\"],[\"Ealing North\",\"London\",\"A\",\"lab safe\"],[\"Ealing, Southall\",\"London\",\"A\",\"lab safe\"],[\"East Ham\",\"London\",\"A\",\"lab safe\"],[\"Edmonton\",\"London\",\"A\",\"lab safe\"],[\"Eltham\",\"London\",\"A\",\"con lab marginal\"],[\"Enfield North\",\"London\",\"A\",\"con lab marginal\"],[\"Enfield, Southgate\",\"London\",\"A\",\"con lab marginal\"],[\"Erith and Thamesmead\",\"London\",\"A\",\"con lab marginal\"],[\"Feltham and Heston\",\"London\",\"A\",\"lab safe\"],[\"Finchley and Golders Green\",\"London\",\"A\",\"con safe\"],[\"Greenwich and Woolwich\",\"London\",\"A\",\"lab safe\"],[\"Hackney North and Stoke Newington\",\"London\",\"A\",\"lab safe\"],[\"Hackney South and Shoreditch\",\"London\",\"A\",\"lab safe\"],[\"Hammersmith\",\"London\",\"A\",\"lab safe\"],[\"Hampstead and Kilburn\",\"London\",\"A\",\"lab safe\"],[\"Harrow East\",\"London\",\"A\",\"con lab marginal\"],[\"Harrow West\",\"London\",\"A\",\"lab safe\"],[\"Hayes and Harlington\",\"London\",\"A\",\"lab safe\"],[\"Hendon\",\"London\",\"A\",\"con lab marginal\"],[\"Holborn and St Pancras\",\"London\",\"A\",\"lab safe\"],[\"Hornsey and Wood Green\",\"London\",\"A\",\"lab safe\"],[\"Ilford North\",\"London\",\"A\",\"con lab marginal\"],[\"Ilford South\",\"London\",\"A\",\"lab safe\"],[\"Islington North\",\"London\",\"A\",\"lab safe\"],[\"Islington South and Finsbury\",\"London\",\"A\",\"lab safe\"],[\"Kensington\",\"London\",\"A\",\"con ld marginal\"],[\"Lewisham East\",\"London\",\"A\",\"lab safe\"],[\"Lewisham West and Penge\",\"London\",\"A\",\"lab safe\"],[\"Lewisham, Deptford\",\"London\",\"A\",\"lab safe\"],[\"Leyton and Wanstead\",\"London\",\"A\",\"lab safe\"],[\"Mitcham and Morden\",\"London\",\"A\",\"lab safe\"],[\"Poplar and Limehouse\",\"London\",\"A\",\"lab safe\"],[\"Putney\",\"London\",\"A\",\"con lab marginal\"],[\"Streatham\",\"London\",\"A\",\"lab safe\"],[\"Tooting\",\"London\",\"A\",\"lab safe\"],[\"Tottenham\",\"London\",\"A\",\"lab safe\"],[\"Uxbridge and South Ruislip\",\"London\",\"A\",\"con lab marginal\"],[\"Vauxhall\",\"London\",\"A\",\"lab safe\"],[\"Walthamstow\",\"London\",\"A\",\"lab safe\"],[\"West Ham\",\"London\",\"A\",\"lab safe\"],[\"Westminster North\",\"London\",\"A\",\"lab safe\"],[\"Wimbledon\",\"London\",\"A\",\"con ld marginal\"],[\"Slough\",\"South East\",\"A\",\"lab safe\"]],\"hovertemplate\":\"Constituency: %{customdata[0]}<br>Region: %{customdata[1]}<br>Cluster: %{customdata[2]}<br>YouGov Seat: %{customdata[3]}\",\"legendgroup\":\"A\",\"marker\":{\"color\":\"#A92E5E\",\"symbol\":\"square\",\"line\":{\"width\":0},\"size\":13.5},\"mode\":\"markers\",\"name\":\"A\",\"orientation\":\"v\",\"showlegend\":true,\"x\":[2,5,4,7,8,4,5,7,2,1,1,6,2,6,3,4,6,6,5,1,0,0,7,5,8,5,4,8,0,3,7,5,6,2,3,2,1,-1,2,4,4,6,7,4,5,3,7,7,6,6,3,8,3,4,3,4,0,5,5,6,3,2,-2],\"xaxis\":\"x\",\"y\":[-1,-4,-5,-6,-9,-12,-11,-10,-9,-9,-11,-12,-11,-6,-7,-11,-14,-13,-13,-10,-9,-10,-9,-7,-12,-6,-6,-11,-11,-8,-11,-9,-10,-10,-9,-8,-8,-9,-7,-10,-7,-7,-8,-9,-10,-10,-13,-12,-11,-8,-14,-10,-12,-13,-13,-8,-8,-12,-8,-9,-11,-12,-8],\"yaxis\":\"y\",\"type\":\"scatter\"},{\"customdata\":[[\"Aberdeen North\",\"Scotland\",\"C\",\"snp safe\"],[\"Aberdeen South\",\"Scotland\",\"C\",\"con snp marginal\"],[\"Airdrie and Shotts\",\"Scotland\",\"C\",\"lab snp marginal\"],[\"Angus\",\"Scotland\",\"C\",\"con snp marginal\"],[\"Argyll and Bute\",\"Scotland\",\"C\",\"con snp marginal\"],[\"Ayr, Carrick and Cumnock\",\"Scotland\",\"C\",\"con snp marginal\"],[\"Banff and Buchan\",\"Scotland\",\"C\",\"con snp marginal\"],[\"Berwickshire, Roxburgh and Selkirk\",\"Scotland\",\"C\",\"con snp marginal\"],[\"Caithness, Sutherland and Easter Ross\",\"Scotland\",\"C\",\"ld snp marginal\"],[\"Central Ayrshire\",\"Scotland\",\"C\",\"con snp marginal\"],[\"Coatbridge, Chryston and Bellshill\",\"Scotland\",\"C\",\"lab snp marginal\"],[\"Cumbernauld, Kilsyth and Kirkintilloch East\",\"Scotland\",\"C\",\"snp safe\"],[\"Dumfries and Galloway\",\"Scotland\",\"C\",\"con snp marginal\"],[\"Dumfriesshire, Clydesdale and Tweeddale\",\"Scotland\",\"C\",\"con snp marginal\"],[\"Dundee East\",\"Scotland\",\"C\",\"snp safe\"],[\"Dundee West\",\"Scotland\",\"C\",\"snp safe\"],[\"Dunfermline and West Fife\",\"Scotland\",\"C\",\"con snp marginal\"],[\"East Kilbride, Strathaven and Lesmahagow\",\"Scotland\",\"C\",\"snp safe\"],[\"East Lothian\",\"Scotland\",\"C\",\"lab snp marginal\"],[\"Na h-Eileanan An Iar\",\"Scotland\",\"C\",\"snp safe\"],[\"Falkirk\",\"Scotland\",\"C\",\"snp safe\"],[\"Glasgow East\",\"Scotland\",\"C\",\"lab snp marginal\"],[\"Glasgow North East\",\"Scotland\",\"C\",\"lab snp marginal\"],[\"Glasgow North West\",\"Scotland\",\"C\",\"snp safe\"],[\"Glasgow South\",\"Scotland\",\"C\",\"snp safe\"],[\"Glasgow South West\",\"Scotland\",\"C\",\"snp safe\"],[\"Glenrothes\",\"Scotland\",\"C\",\"snp safe\"],[\"Gordon\",\"Scotland\",\"C\",\"con snp marginal\"],[\"Inverclyde\",\"Scotland\",\"C\",\"snp safe\"],[\"Inverness, Nairn, Badenoch and Strathspey\",\"Scotland\",\"C\",\"snp safe\"],[\"Kilmarnock and Loudoun\",\"Scotland\",\"C\",\"snp safe\"],[\"Kirkcaldy and Cowdenbeath\",\"Scotland\",\"C\",\"lab snp marginal\"],[\"Lanark and Hamilton East\",\"Scotland\",\"C\",\"con snp marginal\"],[\"Linlithgow and East Falkirk\",\"Scotland\",\"C\",\"con snp marginal\"],[\"Livingston\",\"Scotland\",\"C\",\"snp safe\"],[\"Midlothian\",\"Scotland\",\"C\",\"lab snp marginal\"],[\"Moray\",\"Scotland\",\"C\",\"con snp marginal\"],[\"Motherwell and Wishaw\",\"Scotland\",\"C\",\"lab snp marginal\"],[\"North Ayrshire and Arran\",\"Scotland\",\"C\",\"con snp marginal\"],[\"Ochil and South Perthshire\",\"Scotland\",\"C\",\"con snp marginal\"],[\"Orkney and Shetland\",\"Scotland\",\"C\",\"ld snp marginal\"],[\"Paisley and Renfrewshire North\",\"Scotland\",\"C\",\"snp safe\"],[\"Paisley and Renfrewshire South\",\"Scotland\",\"C\",\"snp safe\"],[\"Perth and North Perthshire\",\"Scotland\",\"C\",\"con snp marginal\"],[\"Ross, Skye and Lochaber\",\"Scotland\",\"C\",\"snp safe\"],[\"Rutherglen and Hamilton West\",\"Scotland\",\"C\",\"lab snp marginal\"],[\"Stirling\",\"Scotland\",\"C\",\"con snp marginal\"],[\"West Aberdeenshire and Kincardine\",\"Scotland\",\"C\",\"con snp marginal\"],[\"West Dunbartonshire\",\"Scotland\",\"C\",\"lab snp marginal\"]],\"hovertemplate\":\"Constituency: %{customdata[0]}<br>Region: %{customdata[1]}<br>Cluster: %{customdata[2]}<br>YouGov Seat: %{customdata[3]}\",\"legendgroup\":\"C\",\"marker\":{\"color\":\"#F5DB4B\",\"symbol\":\"square\",\"line\":{\"width\":0},\"size\":13.5},\"mode\":\"markers\",\"name\":\"C\",\"orientation\":\"v\",\"showlegend\":true,\"x\":[-4,-3,-7,-5,-8,-8,-5,-5,-6,-10,-8,-8,-6,-5,-5,-6,-6,-8,-4,-8,-7,-8,-9,-10,-9,-10,-4,-5,-11,-7,-7,-5,-7,-6,-7,-6,-6,-8,-11,-6,-5,-10,-11,-7,-7,-9,-7,-4,-9],\"xaxis\":\"x\",\"y\":[25,24,20,23,23,16,24,17,26,17,20,21,16,16,22,23,21,17,18,26,21,18,21,21,18,19,22,25,21,25,16,21,17,20,18,17,24,19,18,22,28,20,19,23,24,17,22,24,22],\"yaxis\":\"y\",\"type\":\"scatter\"}],                        {\"template\":{\"data\":{\"bar\":[{\"error_x\":{\"color\":\"#2a3f5f\"},\"error_y\":{\"color\":\"#2a3f5f\"},\"marker\":{\"line\":{\"color\":\"#E5ECF6\",\"width\":0.5},\"pattern\":{\"fillmode\":\"overlay\",\"size\":10,\"solidity\":0.2}},\"type\":\"bar\"}],\"barpolar\":[{\"marker\":{\"line\":{\"color\":\"#E5ECF6\",\"width\":0.5},\"pattern\":{\"fillmode\":\"overlay\",\"size\":10,\"solidity\":0.2}},\"type\":\"barpolar\"}],\"carpet\":[{\"aaxis\":{\"endlinecolor\":\"#2a3f5f\",\"gridcolor\":\"white\",\"linecolor\":\"white\",\"minorgridcolor\":\"white\",\"startlinecolor\":\"#2a3f5f\"},\"baxis\":{\"endlinecolor\":\"#2a3f5f\",\"gridcolor\":\"white\",\"linecolor\":\"white\",\"minorgridcolor\":\"white\",\"startlinecolor\":\"#2a3f5f\"},\"type\":\"carpet\"}],\"choropleth\":[{\"colorbar\":{\"outlinewidth\":0,\"ticks\":\"\"},\"type\":\"choropleth\"}],\"contour\":[{\"colorbar\":{\"outlinewidth\":0,\"ticks\":\"\"},\"colorscale\":[[0.0,\"#0d0887\"],[0.1111111111111111,\"#46039f\"],[0.2222222222222222,\"#7201a8\"],[0.3333333333333333,\"#9c179e\"],[0.4444444444444444,\"#bd3786\"],[0.5555555555555556,\"#d8576b\"],[0.6666666666666666,\"#ed7953\"],[0.7777777777777778,\"#fb9f3a\"],[0.8888888888888888,\"#fdca26\"],[1.0,\"#f0f921\"]],\"type\":\"contour\"}],\"contourcarpet\":[{\"colorbar\":{\"outlinewidth\":0,\"ticks\":\"\"},\"type\":\"contourcarpet\"}],\"heatmap\":[{\"colorbar\":{\"outlinewidth\":0,\"ticks\":\"\"},\"colorscale\":[[0.0,\"#0d0887\"],[0.1111111111111111,\"#46039f\"],[0.2222222222222222,\"#7201a8\"],[0.3333333333333333,\"#9c179e\"],[0.4444444444444444,\"#bd3786\"],[0.5555555555555556,\"#d8576b\"],[0.6666666666666666,\"#ed7953\"],[0.7777777777777778,\"#fb9f3a\"],[0.8888888888888888,\"#fdca26\"],[1.0,\"#f0f921\"]],\"type\":\"heatmap\"}],\"heatmapgl\":[{\"colorbar\":{\"outlinewidth\":0,\"ticks\":\"\"},\"colorscale\":[[0.0,\"#0d0887\"],[0.1111111111111111,\"#46039f\"],[0.2222222222222222,\"#7201a8\"],[0.3333333333333333,\"#9c179e\"],[0.4444444444444444,\"#bd3786\"],[0.5555555555555556,\"#d8576b\"],[0.6666666666666666,\"#ed7953\"],[0.7777777777777778,\"#fb9f3a\"],[0.8888888888888888,\"#fdca26\"],[1.0,\"#f0f921\"]],\"type\":\"heatmapgl\"}],\"histogram\":[{\"marker\":{\"pattern\":{\"fillmode\":\"overlay\",\"size\":10,\"solidity\":0.2}},\"type\":\"histogram\"}],\"histogram2d\":[{\"colorbar\":{\"outlinewidth\":0,\"ticks\":\"\"},\"colorscale\":[[0.0,\"#0d0887\"],[0.1111111111111111,\"#46039f\"],[0.2222222222222222,\"#7201a8\"],[0.3333333333333333,\"#9c179e\"],[0.4444444444444444,\"#bd3786\"],[0.5555555555555556,\"#d8576b\"],[0.6666666666666666,\"#ed7953\"],[0.7777777777777778,\"#fb9f3a\"],[0.8888888888888888,\"#fdca26\"],[1.0,\"#f0f921\"]],\"type\":\"histogram2d\"}],\"histogram2dcontour\":[{\"colorbar\":{\"outlinewidth\":0,\"ticks\":\"\"},\"colorscale\":[[0.0,\"#0d0887\"],[0.1111111111111111,\"#46039f\"],[0.2222222222222222,\"#7201a8\"],[0.3333333333333333,\"#9c179e\"],[0.4444444444444444,\"#bd3786\"],[0.5555555555555556,\"#d8576b\"],[0.6666666666666666,\"#ed7953\"],[0.7777777777777778,\"#fb9f3a\"],[0.8888888888888888,\"#fdca26\"],[1.0,\"#f0f921\"]],\"type\":\"histogram2dcontour\"}],\"mesh3d\":[{\"colorbar\":{\"outlinewidth\":0,\"ticks\":\"\"},\"type\":\"mesh3d\"}],\"parcoords\":[{\"line\":{\"colorbar\":{\"outlinewidth\":0,\"ticks\":\"\"}},\"type\":\"parcoords\"}],\"pie\":[{\"automargin\":true,\"type\":\"pie\"}],\"scatter\":[{\"marker\":{\"colorbar\":{\"outlinewidth\":0,\"ticks\":\"\"}},\"type\":\"scatter\"}],\"scatter3d\":[{\"line\":{\"colorbar\":{\"outlinewidth\":0,\"ticks\":\"\"}},\"marker\":{\"colorbar\":{\"outlinewidth\":0,\"ticks\":\"\"}},\"type\":\"scatter3d\"}],\"scattercarpet\":[{\"marker\":{\"colorbar\":{\"outlinewidth\":0,\"ticks\":\"\"}},\"type\":\"scattercarpet\"}],\"scattergeo\":[{\"marker\":{\"colorbar\":{\"outlinewidth\":0,\"ticks\":\"\"}},\"type\":\"scattergeo\"}],\"scattergl\":[{\"marker\":{\"colorbar\":{\"outlinewidth\":0,\"ticks\":\"\"}},\"type\":\"scattergl\"}],\"scattermapbox\":[{\"marker\":{\"colorbar\":{\"outlinewidth\":0,\"ticks\":\"\"}},\"type\":\"scattermapbox\"}],\"scatterpolar\":[{\"marker\":{\"colorbar\":{\"outlinewidth\":0,\"ticks\":\"\"}},\"type\":\"scatterpolar\"}],\"scatterpolargl\":[{\"marker\":{\"colorbar\":{\"outlinewidth\":0,\"ticks\":\"\"}},\"type\":\"scatterpolargl\"}],\"scatterternary\":[{\"marker\":{\"colorbar\":{\"outlinewidth\":0,\"ticks\":\"\"}},\"type\":\"scatterternary\"}],\"surface\":[{\"colorbar\":{\"outlinewidth\":0,\"ticks\":\"\"},\"colorscale\":[[0.0,\"#0d0887\"],[0.1111111111111111,\"#46039f\"],[0.2222222222222222,\"#7201a8\"],[0.3333333333333333,\"#9c179e\"],[0.4444444444444444,\"#bd3786\"],[0.5555555555555556,\"#d8576b\"],[0.6666666666666666,\"#ed7953\"],[0.7777777777777778,\"#fb9f3a\"],[0.8888888888888888,\"#fdca26\"],[1.0,\"#f0f921\"]],\"type\":\"surface\"}],\"table\":[{\"cells\":{\"fill\":{\"color\":\"#EBF0F8\"},\"line\":{\"color\":\"white\"}},\"header\":{\"fill\":{\"color\":\"#C8D4E3\"},\"line\":{\"color\":\"white\"}},\"type\":\"table\"}]},\"layout\":{\"annotationdefaults\":{\"arrowcolor\":\"#2a3f5f\",\"arrowhead\":0,\"arrowwidth\":1},\"autotypenumbers\":\"strict\",\"coloraxis\":{\"colorbar\":{\"outlinewidth\":0,\"ticks\":\"\"}},\"colorscale\":{\"diverging\":[[0,\"#8e0152\"],[0.1,\"#c51b7d\"],[0.2,\"#de77ae\"],[0.3,\"#f1b6da\"],[0.4,\"#fde0ef\"],[0.5,\"#f7f7f7\"],[0.6,\"#e6f5d0\"],[0.7,\"#b8e186\"],[0.8,\"#7fbc41\"],[0.9,\"#4d9221\"],[1,\"#276419\"]],\"sequential\":[[0.0,\"#0d0887\"],[0.1111111111111111,\"#46039f\"],[0.2222222222222222,\"#7201a8\"],[0.3333333333333333,\"#9c179e\"],[0.4444444444444444,\"#bd3786\"],[0.5555555555555556,\"#d8576b\"],[0.6666666666666666,\"#ed7953\"],[0.7777777777777778,\"#fb9f3a\"],[0.8888888888888888,\"#fdca26\"],[1.0,\"#f0f921\"]],\"sequentialminus\":[[0.0,\"#0d0887\"],[0.1111111111111111,\"#46039f\"],[0.2222222222222222,\"#7201a8\"],[0.3333333333333333,\"#9c179e\"],[0.4444444444444444,\"#bd3786\"],[0.5555555555555556,\"#d8576b\"],[0.6666666666666666,\"#ed7953\"],[0.7777777777777778,\"#fb9f3a\"],[0.8888888888888888,\"#fdca26\"],[1.0,\"#f0f921\"]]},\"colorway\":[\"#636efa\",\"#EF553B\",\"#00cc96\",\"#ab63fa\",\"#FFA15A\",\"#19d3f3\",\"#FF6692\",\"#B6E880\",\"#FF97FF\",\"#FECB52\"],\"font\":{\"color\":\"#2a3f5f\"},\"geo\":{\"bgcolor\":\"white\",\"lakecolor\":\"white\",\"landcolor\":\"#E5ECF6\",\"showlakes\":true,\"showland\":true,\"subunitcolor\":\"white\"},\"hoverlabel\":{\"align\":\"left\"},\"hovermode\":\"closest\",\"mapbox\":{\"style\":\"light\"},\"paper_bgcolor\":\"white\",\"plot_bgcolor\":\"#E5ECF6\",\"polar\":{\"angularaxis\":{\"gridcolor\":\"white\",\"linecolor\":\"white\",\"ticks\":\"\"},\"bgcolor\":\"#E5ECF6\",\"radialaxis\":{\"gridcolor\":\"white\",\"linecolor\":\"white\",\"ticks\":\"\"}},\"scene\":{\"xaxis\":{\"backgroundcolor\":\"#E5ECF6\",\"gridcolor\":\"white\",\"gridwidth\":2,\"linecolor\":\"white\",\"showbackground\":true,\"ticks\":\"\",\"zerolinecolor\":\"white\"},\"yaxis\":{\"backgroundcolor\":\"#E5ECF6\",\"gridcolor\":\"white\",\"gridwidth\":2,\"linecolor\":\"white\",\"showbackground\":true,\"ticks\":\"\",\"zerolinecolor\":\"white\"},\"zaxis\":{\"backgroundcolor\":\"#E5ECF6\",\"gridcolor\":\"white\",\"gridwidth\":2,\"linecolor\":\"white\",\"showbackground\":true,\"ticks\":\"\",\"zerolinecolor\":\"white\"}},\"shapedefaults\":{\"line\":{\"color\":\"#2a3f5f\"}},\"ternary\":{\"aaxis\":{\"gridcolor\":\"white\",\"linecolor\":\"white\",\"ticks\":\"\"},\"baxis\":{\"gridcolor\":\"white\",\"linecolor\":\"white\",\"ticks\":\"\"},\"bgcolor\":\"#E5ECF6\",\"caxis\":{\"gridcolor\":\"white\",\"linecolor\":\"white\",\"ticks\":\"\"}},\"title\":{\"x\":0.05},\"xaxis\":{\"automargin\":true,\"gridcolor\":\"white\",\"linecolor\":\"white\",\"ticks\":\"\",\"title\":{\"standoff\":15},\"zerolinecolor\":\"white\",\"zerolinewidth\":2},\"yaxis\":{\"automargin\":true,\"gridcolor\":\"white\",\"linecolor\":\"white\",\"ticks\":\"\",\"title\":{\"standoff\":15},\"zerolinecolor\":\"white\",\"zerolinewidth\":2}}},\"xaxis\":{\"anchor\":\"y\",\"domain\":[0.0,1.0],\"title\":{\"text\":\"X\"},\"visible\":false,\"showticklabels\":false},\"yaxis\":{\"anchor\":\"x\",\"domain\":[0.0,1.0],\"title\":{\"text\":\"Y\"},\"visible\":false,\"showticklabels\":false},\"legend\":{\"title\":{\"text\":\"Cluster_Name\"},\"tracegroupgap\":0},\"title\":{\"text\":\"UK Constituency Map for UMAP + HAC + with %SNP\"},\"height\":1000,\"width\":700,\"showlegend\":false,\"plot_bgcolor\":\"rgba(0,0,0,0)\"},                        {\"responsive\": true}                    ).then(function(){\n",
       "                            \n",
       "var gd = document.getElementById('920912d2-7648-41d5-8b01-294a54bb9a23');\n",
       "var x = new MutationObserver(function (mutations, observer) {{\n",
       "        var display = window.getComputedStyle(gd).display;\n",
       "        if (!display || display === 'none') {{\n",
       "            console.log([gd, 'removed!']);\n",
       "            Plotly.purge(gd);\n",
       "            observer.disconnect();\n",
       "        }}\n",
       "}});\n",
       "\n",
       "// Listen for the removal of the full notebook cells\n",
       "var notebookContainer = gd.closest('#notebook-container');\n",
       "if (notebookContainer) {{\n",
       "    x.observe(notebookContainer, {childList: true});\n",
       "}}\n",
       "\n",
       "// Listen for the clearing of the current output cell\n",
       "var outputEl = gd.closest('.output');\n",
       "if (outputEl) {{\n",
       "    x.observe(outputEl, {childList: true});\n",
       "}}\n",
       "\n",
       "                        })                };                });            </script>        </div>"
      ]
     },
     "metadata": {},
     "output_type": "display_data"
    }
   ],
   "source": [
    "data_final_model = pd.read_csv('final_model.csv')\n",
    "interactive_kpi_map(datamap = datamap, output_data = data_final_model)"
   ]
  },
  {
   "cell_type": "markdown",
   "id": "25641bc4-d894-44e4-813a-4d79601a230e",
   "metadata": {},
   "source": [
    "The heatmap shows the normalized average value of the variables for each cluster across its constituencies. Hence a blue (orange) tile represents a cluster tending to have higher (lower) values than the rest of the clusters in the given variable. \n",
    "\n",
    "![](Blog_images/Final_Heatmap.png)\n",
    "\n",
    "Exploring the characteristics of these clusters further, we can quickly notice that cluster A comprises London with few other city constituencies. This cluster includes substantial levels of Level 4+ educated individuals whose predominant support is for the Labour party and voted opposingly to Brexit, as seen on the heatmap. Furthermore, we spot that the algorithms classify C as mainly Scotland, and hence, we observe the high % SNP votes in this cluster. Moreover, F, for instance, consists of constituencies located right outside the London region, where these are highly conservative and primarily white. We see these two patterns further accentuated in cluster E. However the locations of the constituencies in this cluster do not follow any single geographical pattern.\n",
    "\n",
    "One final cluster to investigate further would be B which mainly consists of the Midlands and main cities like Edinburgh, Nottingham, Birmingham, Leeds, Newcastle. This cluster has high unemployment rates, low wages, house prices, and high broadband speeds where it generally prefers Labour, somewhat analogous to A. Thus, by analyzing the general voting pattern per cluster, political parties can target those regions that voted anomalously relative to the majority of the constituencies in a given cluster. For instance, the constituencies in Cluster A are either Labour safe seats or Conservative Labour marginal seats. We got this information from the 2019 Multilevel regression and Poststratification (MRP) YouGov Poll results included in Ballard's dataset. So, as an example, Labour could perhaps target those marginal seats as the characteristics of those constituencies are similar to Labour safe constituencies. Similar is the case with cluster B, where since most of the constituencies support Labour, the Labour party could target the SNP safe seats of Glasgow and Edinburgh. In fact, considering the 2019 election results, using the same reasoning, the Conservative party was able to exploit some sociodemographic factors in cluster D to win seats across the so-called *Red Wall* region, like the Workington seat in Cumbria. "
   ]
  },
  {
   "cell_type": "markdown",
   "id": "ae0c89ce",
   "metadata": {
    "tags": []
   },
   "source": [
    "## Future Work\n",
    "\n",
    "For further research, one could experiment with other features. For instance, including the percentage of votes from other parties may prove helpful when identifying similar behaviour of constituencies compared to limiting our exploration only to the Conservative, Labour, Liberal Democrat, and SNP votes. Furthermore, the demographic and constituency statistical data that we worked with is outdated as we acquired it from the 2011 UK Census and the 2019 UK Parliament webpage. When writing this blog, the 2021 census data was not yet available. Thus, we deemed it best to go with the same data as Ballard to allow a comparison of results. However, it would be interesting to update it whenever the new census data is released. Moreover, since we worked with the 2019 MRP poll, we could use the [2021 MRP poll results](https://yougov.co.uk/topics/politics/articles-reports/2021/10/04/new-yougov-mrp-model-shows-conservatives-losing-32) to look at the voting behaviour trends of constituencies in each cluster. We could also use the actual 2019 election results instead of the 2017 election to detect any changes to our current results. Lastly, we can consider different dimensionality reduction techniques, particularly non-linear ones like t-SNE, as UMAP provided more informative results than PCA.\n"
   ]
  }
 ],
 "metadata": {
  "kernelspec": {
   "display_name": "Python 3 (ipykernel)",
   "language": "python",
   "name": "python3"
  },
  "language_info": {
   "codemirror_mode": {
    "name": "ipython",
    "version": 3
   },
   "file_extension": ".py",
   "mimetype": "text/x-python",
   "name": "python",
   "nbconvert_exporter": "python",
   "pygments_lexer": "ipython3",
   "version": "3.9.7"
  }
 },
 "nbformat": 4,
 "nbformat_minor": 5
}
