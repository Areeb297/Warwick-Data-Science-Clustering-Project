{
 "cells": [
  {
   "cell_type": "markdown",
   "id": "1e9bea42",
   "metadata": {},
   "source": [
    "# Section 1"
   ]
  },
  {
   "cell_type": "markdown",
   "id": "9d3c0180",
   "metadata": {},
   "source": [
    "https://github.com/calbal91/project-understanding-elections \n",
    "\n",
    "Some of the code and ideas are adapted and taken from the above GitHub Respository which focuses much on ML prediction rather than clustering. We have only extended the author's work on the clustering section. We hope this is useful for anyone interested in the UK politics domain."
   ]
  },
  {
   "cell_type": "markdown",
   "id": "5ed107b4",
   "metadata": {},
   "source": [
    "###  Import packages & voting data "
   ]
  },
  {
   "cell_type": "code",
   "execution_count": 2,
   "id": "1c1e32d7",
   "metadata": {},
   "outputs": [],
   "source": [
    "#For data manipulation\n",
    "import numpy as np\n",
    "import pandas as pd\n",
    "import json\n",
    "import math\n",
    "\n",
    "#For data visualisation\n",
    "import matplotlib as mpl\n",
    "import matplotlib.pyplot as plt\n",
    "%matplotlib inline\n",
    "from matplotlib.lines import Line2D\n",
    "import matplotlib.font_manager\n",
    "from matplotlib.colors import LinearSegmentedColormap\n",
    "import seaborn as sns\n",
    "from matplotlib.pylab import rcParams\n",
    "\n",
    "\n",
    "#For data pre-processing\n",
    "from sklearn.preprocessing import StandardScaler\n",
    "from sklearn.preprocessing import OneHotEncoder\n",
    "from yellowbrick.cluster import KElbowVisualizer\n",
    "from yellowbrick.cluster import InterclusterDistance\n",
    "\n",
    "\n",
    "# Dimensionality Reduction\n",
    "import umap\n",
    "from sklearn.decomposition import PCA\n",
    "\n",
    "\n",
    "#For clustering analysis\n",
    "from sklearn.cluster import KMeans\n",
    "from sklearn.cluster import AgglomerativeClustering\n",
    "from sklearn.mixture import GaussianMixture\n",
    "from sklearn.cluster import MeanShift\n",
    "from sklearn.cluster import DBSCAN\n",
    "\n",
    "\n",
    "#For evaluating clusters\n",
    "from sklearn.metrics import calinski_harabasz_score\n",
    "from sklearn.metrics import davies_bouldin_score\n",
    "from sklearn.metrics import silhouette_score\n",
    "\n",
    "\n",
    "from scipy.cluster.hierarchy import dendrogram, ward\n",
    "from sklearn.neighbors import NearestNeighbors\n",
    "from kneed import KneeLocator\n",
    "from sklearn import metrics\n",
    "\n",
    "# Scaling\n",
    "from sklearn.preprocessing import StandardScaler\n",
    "from sklearn.preprocessing import MinMaxScaler\n",
    "\n",
    "#Suppress warnings from showing\n",
    "import warnings\n",
    "warnings.filterwarnings('ignore')\n",
    "\n",
    "#Allow ourselves to save things\n",
    "import pickle"
   ]
  },
  {
   "cell_type": "code",
   "execution_count": 3,
   "id": "93960dd0",
   "metadata": {},
   "outputs": [],
   "source": [
    "df_con = pd.read_csv('data_with_targets.csv') # Our base dataset\n",
    "df_con.set_index('ID', inplace=True)\n",
    "df = pd.read_csv('data_with_targets.csv') # We will use this dataset for feature engineering and preprocessing purposes"
   ]
  },
  {
   "cell_type": "code",
   "execution_count": 4,
   "id": "fe2d767c",
   "metadata": {},
   "outputs": [
    {
     "data": {
      "text/html": [
       "<div>\n",
       "<style scoped>\n",
       "    .dataframe tbody tr th:only-of-type {\n",
       "        vertical-align: middle;\n",
       "    }\n",
       "\n",
       "    .dataframe tbody tr th {\n",
       "        vertical-align: top;\n",
       "    }\n",
       "\n",
       "    .dataframe thead th {\n",
       "        text-align: right;\n",
       "    }\n",
       "</style>\n",
       "<table border=\"1\" class=\"dataframe\">\n",
       "  <thead>\n",
       "    <tr style=\"text-align: right;\">\n",
       "      <th></th>\n",
       "      <th>Constituency</th>\n",
       "      <th>Region</th>\n",
       "      <th>Type</th>\n",
       "      <th>Population</th>\n",
       "      <th>0-9</th>\n",
       "      <th>10-19</th>\n",
       "      <th>20-29</th>\n",
       "      <th>30-39</th>\n",
       "      <th>40-49</th>\n",
       "      <th>50-59</th>\n",
       "      <th>...</th>\n",
       "      <th>Depression</th>\n",
       "      <th>Obesity</th>\n",
       "      <th>Diabetes</th>\n",
       "      <th>Asthma</th>\n",
       "      <th>DiseasesPerPop</th>\n",
       "      <th>%LeaveVote</th>\n",
       "      <th>%17Turnout</th>\n",
       "      <th>Winner_17</th>\n",
       "      <th>seat_types_17</th>\n",
       "      <th>seat_types_yg</th>\n",
       "    </tr>\n",
       "    <tr>\n",
       "      <th>ID</th>\n",
       "      <th></th>\n",
       "      <th></th>\n",
       "      <th></th>\n",
       "      <th></th>\n",
       "      <th></th>\n",
       "      <th></th>\n",
       "      <th></th>\n",
       "      <th></th>\n",
       "      <th></th>\n",
       "      <th></th>\n",
       "      <th></th>\n",
       "      <th></th>\n",
       "      <th></th>\n",
       "      <th></th>\n",
       "      <th></th>\n",
       "      <th></th>\n",
       "      <th></th>\n",
       "      <th></th>\n",
       "      <th></th>\n",
       "      <th></th>\n",
       "      <th></th>\n",
       "    </tr>\n",
       "  </thead>\n",
       "  <tbody>\n",
       "    <tr>\n",
       "      <th>E14000554</th>\n",
       "      <td>Berwick-upon-Tweed</td>\n",
       "      <td>North East</td>\n",
       "      <td>Rural</td>\n",
       "      <td>75425</td>\n",
       "      <td>0.0863</td>\n",
       "      <td>0.0863</td>\n",
       "      <td>0.0902</td>\n",
       "      <td>0.1002</td>\n",
       "      <td>0.1102</td>\n",
       "      <td>0.1657</td>\n",
       "      <td>...</td>\n",
       "      <td>0.08551</td>\n",
       "      <td>0.13193</td>\n",
       "      <td>0.08029</td>\n",
       "      <td>0.07315</td>\n",
       "      <td>0.89389</td>\n",
       "      <td>0.553</td>\n",
       "      <td>0.719149</td>\n",
       "      <td>Con</td>\n",
       "      <td>con safe</td>\n",
       "      <td>con safe</td>\n",
       "    </tr>\n",
       "    <tr>\n",
       "      <th>E14000569</th>\n",
       "      <td>Bishop Auckland</td>\n",
       "      <td>North East</td>\n",
       "      <td>Rural</td>\n",
       "      <td>89415</td>\n",
       "      <td>0.1063</td>\n",
       "      <td>0.1086</td>\n",
       "      <td>0.1103</td>\n",
       "      <td>0.1090</td>\n",
       "      <td>0.1206</td>\n",
       "      <td>0.1533</td>\n",
       "      <td>...</td>\n",
       "      <td>0.12388</td>\n",
       "      <td>0.14646</td>\n",
       "      <td>0.08225</td>\n",
       "      <td>0.06856</td>\n",
       "      <td>0.89166</td>\n",
       "      <td>0.609</td>\n",
       "      <td>0.640827</td>\n",
       "      <td>Lab</td>\n",
       "      <td>con lab marginal</td>\n",
       "      <td>con lab marginal</td>\n",
       "    </tr>\n",
       "  </tbody>\n",
       "</table>\n",
       "<p>2 rows × 101 columns</p>\n",
       "</div>"
      ],
      "text/plain": [
       "                 Constituency      Region   Type  Population     0-9   10-19  \\\n",
       "ID                                                                             \n",
       "E14000554  Berwick-upon-Tweed  North East  Rural       75425  0.0863  0.0863   \n",
       "E14000569     Bishop Auckland  North East  Rural       89415  0.1063  0.1086   \n",
       "\n",
       "            20-29   30-39   40-49   50-59  ...  Depression  Obesity  Diabetes  \\\n",
       "ID                                         ...                                  \n",
       "E14000554  0.0902  0.1002  0.1102  0.1657  ...     0.08551  0.13193   0.08029   \n",
       "E14000569  0.1103  0.1090  0.1206  0.1533  ...     0.12388  0.14646   0.08225   \n",
       "\n",
       "            Asthma  DiseasesPerPop  %LeaveVote  %17Turnout  Winner_17  \\\n",
       "ID                                                                      \n",
       "E14000554  0.07315         0.89389       0.553    0.719149        Con   \n",
       "E14000569  0.06856         0.89166       0.609    0.640827        Lab   \n",
       "\n",
       "              seat_types_17     seat_types_yg  \n",
       "ID                                             \n",
       "E14000554          con safe          con safe  \n",
       "E14000569  con lab marginal  con lab marginal  \n",
       "\n",
       "[2 rows x 101 columns]"
      ]
     },
     "execution_count": 4,
     "metadata": {},
     "output_type": "execute_result"
    }
   ],
   "source": [
    "df_con.head(2)"
   ]
  },
  {
   "cell_type": "markdown",
   "id": "63613341",
   "metadata": {},
   "source": [
    "### Define colour mappings and functions for later use"
   ]
  },
  {
   "cell_type": "code",
   "execution_count": 5,
   "id": "7d918819",
   "metadata": {},
   "outputs": [],
   "source": [
    "#Define colours for the visuals\n",
    "CB91_Blue = '#2CBDFE'\n",
    "CB91_Green = '#47DBCD'\n",
    "CB91_Pink = '#F3A0F2'\n",
    "CB91_Purple = '#9D2EC5'\n",
    "CB91_Violet = '#661D98'\n",
    "CB91_Amber = '#F5B14C'\n",
    "\n",
    "CB91_BlueD = '#016794'\n",
    "CB91_GreenD = '#187970'\n",
    "CB91_PinkD = '#B317B1'\n",
    "CB91_PurpleD = '#4E1762'\n",
    "CB91_VioletD = '#330E4C'\n",
    "CB91_AmberD = '#985E09'\n",
    "\n",
    "CB91_BlueL = '#ABE5FF'\n",
    "CB91_GreenL = '#B5F1EB'\n",
    "CB91_PinkL = '#FAD9FA'\n",
    "CB91_PurpleL = '#D9A8EB'\n",
    "CB91_VioletL = '#ECD4F5'\n",
    "CB91_AmberL = '#F9D094'\n",
    "\n",
    "\n",
    "#The following gradients will be used for heatmaps, etc\n",
    "CB91_Grad_BP = ['#2CBDFE', '#2fb9fc', '#33b4fa', '#36b0f8',\n",
    "                '#3aacf6', '#3da8f4', '#41a3f2', '#449ff0',\n",
    "                '#489bee', '#4b97ec', '#4f92ea', '#528ee8',\n",
    "                '#568ae6', '#5986e4', '#5c81e2', '#607de0',\n",
    "                '#6379de', '#6775dc', '#6a70da', '#6e6cd8',\n",
    "                '#7168d7', '#7564d5', '#785fd3', '#7c5bd1',\n",
    "                '#7f57cf', '#8353cd', '#864ecb', '#894ac9',\n",
    "                '#8d46c7', '#9042c5', '#943dc3', '#9739c1',\n",
    "                '#9b35bf', '#9e31bd', '#a22cbb', '#a528b9',\n",
    "                '#a924b7', '#ac20b5', '#b01bb3', '#b317b1']\n",
    "\n",
    "CB91_Grad_BA = ['#2cbdfe', '#31bdf9', '#36bcf5', '#3bbcf0',\n",
    "                '#41bcec', '#46bbe7', '#4bbbe3', '#50bbde',\n",
    "                '#55bbd9', '#5abad5', '#60bad0', '#65bacc',\n",
    "                '#6ab9c7', '#6fb9c3', '#74b9be', '#79b8ba',\n",
    "                '#7eb8b5', '#84b8b0', '#89b7ac', '#8eb7a7',\n",
    "                '#93b7a3', '#98b79e', '#9db69a', '#a3b695',\n",
    "                '#a8b690', '#adb58c', '#b2b587', '#b7b583',\n",
    "                '#bcb47e', '#c1b47a', '#c7b475', '#ccb371',\n",
    "                '#d1b36c', '#d6b367', '#dbb363', '#e0b25e',\n",
    "                '#e6b25a', '#ebb255', '#f0b151', '#f5b14c']\n",
    "\n",
    "CB91_Grad_AP = ['#f5b14c', '#f3ae4f', '#f0aa52', '#eea755',\n",
    "                '#eca458', '#eaa05c', '#e79d5f', '#e59962',\n",
    "                '#e39665', '#e19368', '#de8f6b', '#dc8c6e',\n",
    "                '#da8971', '#d88574', '#d58277', '#d37f7b',\n",
    "                '#d17b7e', '#cf7881', '#cc7584', '#ca7187',\n",
    "                '#c86e8a', '#c66a8d', '#c36790', '#c16493',\n",
    "                '#bf6096', '#bd5d9a', '#ba5a9d', '#b856a0',\n",
    "                '#b653a3', '#b450a6', '#b14ca9', '#af49ac',\n",
    "                '#ad46af', '#ab42b2', '#a83fb5', '#a63bb9',\n",
    "                '#a438bc', '#a235bf', '#9f31c2', '#9d2ec5']\n",
    "\n",
    "CB91_Grad_GP = ['#47dbcd', '#4bd9ce', '#50d8cf', '#54d6d0',\n",
    "                '#59d5d1', '#5dd3d2', '#61d2d3', '#66d0d4',\n",
    "                '#6acfd5', '#6fcdd6', '#73ccd6', '#78cad7',\n",
    "                '#7cc9d8', '#80c7d9', '#85c6da', '#89c4db',\n",
    "                '#8ec3dc', '#92c1dd', '#96c0de', '#9bbedf',\n",
    "                '#9fbde0', '#a4bbe1', '#a8bae2', '#acb8e3',\n",
    "                '#b1b7e4', '#b5b5e5', '#bab4e6', '#beb2e7',\n",
    "                '#c2b1e8', '#c7afe9', '#cbaee9', '#d0acea',\n",
    "                '#d4abeb', '#d9a9ec', '#dda8ed', '#e1a6ee',\n",
    "                '#e6a5ef', '#eaa3f0', '#efa2f1', '#f3a0f2']\n",
    "\n",
    "CB91_Grad_GWP= ['#47dbcd','#4fdcce','#56ddd0','#5dded1',\n",
    "                '#64dfd2','#6ae0d3','#70e1d5','#75e2d6',\n",
    "                '#7be3d7','#80e4d8','#85e5da','#8ae6db',\n",
    "                '#8fe7dc','#94e8dd','#98e9df','#9deae0',\n",
    "                '#a1ebe1','#a6ece2','#aaede4','#afede5',\n",
    "                '#b3eee6','#b7efe8','#bbf0e9','#c0f1ea',\n",
    "                '#c4f2eb','#c8f3ed','#ccf4ee','#d0f5ef',\n",
    "                '#d4f6f1','#d8f6f2','#dcf7f3','#e0f8f5',\n",
    "                '#e4f9f6','#e8faf7','#ecfbf8','#f0fcfa',\n",
    "                '#f3fcfb','#f7fdfc','#fbfefe','#ffffff',\n",
    "                '#fdfafe','#fbf5fc','#f9f0fb','#f7eaf9',\n",
    "                '#f4e5f8','#f2e0f7','#f0dbf5','#eed6f4',\n",
    "                '#ecd1f2','#e9ccf1','#e7c7f0','#e5c1ee',\n",
    "                '#e2bced','#e0b7eb','#deb2ea','#dbade8',\n",
    "                '#d9a8e7','#d6a3e5','#d49ee4','#d199e2',\n",
    "                '#cf94e1','#cc8fdf','#ca89de','#c784dc',\n",
    "                '#c57fdb','#c27ad9','#bf75d8','#bd6fd6',\n",
    "                '#ba6ad5','#b765d3','#b45fd2','#b25ad0',\n",
    "                '#af54cf','#ac4ecd','#a949cb','#a642ca',\n",
    "                '#a33cc8','#a035c7','#9d2ec5']\n",
    "\n",
    "CB91_Grad_BWP= ['#2cbdfe','#31bffe','#37c0fe','#3cc2fe',\n",
    "                '#42c4fe','#47c5fe','#4cc7fe','#52c9fe',\n",
    "                '#57cbfe','#5dccfe','#62cefe','#68d0fe',\n",
    "                '#6dd1fe','#72d3fe','#78d5fe','#7dd6fe',\n",
    "                '#83d8fe','#88dafe','#8ddbfe','#93ddfe',\n",
    "                '#98dfff','#9ee1ff','#a3e2ff','#a8e4ff',\n",
    "                '#aee6ff','#b3e7ff','#b9e9ff','#beebff',\n",
    "                '#c3ecff','#c9eeff','#cef0ff','#d4f1ff',\n",
    "                '#d9f3ff','#dff5ff','#e4f7ff','#e9f8ff',\n",
    "                '#effaff','#f4fcff','#fafdff','#ffffff',\n",
    "                '#fdfafe','#fbf5fc','#f9f0fb','#f7eaf9',\n",
    "                '#f4e5f8','#f2e0f7','#f0dbf5','#eed6f4',\n",
    "                '#ecd1f2','#e9ccf1','#e7c7f0','#e5c1ee',\n",
    "                '#e2bced','#e0b7eb','#deb2ea','#dbade8',\n",
    "                '#d9a8e7','#d6a3e5','#d49ee4','#d199e2',\n",
    "                '#cf94e1','#cc8fdf','#ca89de','#c784dc',\n",
    "                '#c57fdb','#c27ad9','#bf75d8','#bd6fd6',\n",
    "                '#ba6ad5','#b765d3','#b45fd2','#b25ad0',\n",
    "                '#af54cf','#ac4ecd','#a949cb','#a642ca',\n",
    "                '#a33cc8','#a035c7','#9d2ec5']\n",
    "\n",
    "#Add party colors\n",
    "con_blue = '#0A3B7C'\n",
    "lab_red = '#E4003B'\n",
    "lib_yel = '#FAA61A'\n",
    "snp_yel = '#FFF481'\n",
    "green_green = '#52DF00'\n",
    "brex_blue = '#00E2ED'\n",
    "ukip_pur = '#470A65'\n",
    "plaid_green = '#006A56'\n",
    "\n",
    "con_lab = '#992281'\n",
    "con_lib = '#837859'\n",
    "con_snp = '#85987f'\n",
    "lab_lib = '#ef532b'\n",
    "lab_snp = '#f27a5e'\n",
    "lib_snp = '#fccf4d'\n",
    "\n",
    "\n",
    "#A list that we'll use to cycle through colors in charts\n",
    "color_list = [CB91_Blue, CB91_Green, CB91_Amber, CB91_Pink,\n",
    "              CB91_Violet, CB91_BlueD, CB91_GreenD, CB91_Purple,\n",
    "              CB91_AmberL, CB91_BlueL, CB91_GreenL, CB91_AmberD, \n",
    "              CB91_VioletD, CB91_PinkL, CB91_VioletL, CB91_PinkD]"
   ]
  },
  {
   "cell_type": "code",
   "execution_count": 6,
   "id": "8ec6311b",
   "metadata": {},
   "outputs": [],
   "source": [
    "def cluster_IDs(cluster, cluster_data, cluster_col='Cluster'):\n",
    "    \n",
    "    '''\n",
    "    Takes a cluster label (1, 2, 3, etc.) and a cluster dataframe,\n",
    "    and returns a list of constituency IDs that belong to the given cluster\n",
    "    '''\n",
    "    return list(cluster_data.loc[cluster_data['Cluster']==cluster].index)\n",
    "\n",
    "\n",
    "\n",
    "def cluster_kpi(kpi, data, cluster_data, cluster_col='Cluster'):\n",
    "    \n",
    "    '''\n",
    "    For a given set of cluster labels, and a given KPI, returns a\n",
    "    dataframe with one row, for that given kpi\n",
    "    '''\n",
    "    \n",
    "    #Find the unique cluster labels\n",
    "    cluster_labels = sorted(list(cluster_data[cluster_col].unique()))\n",
    "    \n",
    "    #Declare an empty list to store the KPI data in\n",
    "    kpi_values = []\n",
    "    \n",
    "    #Iterate through the labels\n",
    "    for i in cluster_labels:\n",
    "        #Work out which constituencies are in the cluster\n",
    "        cluster_index = cluster_IDs(cluster = i,\n",
    "                                    cluster_data = cluster_data,\n",
    "                                    cluster_col = cluster_col)\n",
    "        \n",
    "        #Go to the data table, and find the mean for that kpi\n",
    "        #for those constituencies. Append to the list\n",
    "        mean = data.loc[cluster_index, kpi].mean()\n",
    "        kpi_values.append(mean)\n",
    "        \n",
    "    #Create and return a dataframe as required\n",
    "    return pd.DataFrame([kpi_values],\n",
    "                        columns = cluster_labels,\n",
    "                        index = [kpi])\n",
    "\n",
    "\n",
    "\n",
    "def cluster_kpis(kpis, data, cluster_data, cluster_col='Cluster'):\n",
    "    \n",
    "    '''\n",
    "    For a list of KPIs, return a dataframe showing mean\n",
    "    values on a cluster by cluster basis\n",
    "    \n",
    "    '''\n",
    "    \n",
    "    #Declare an empty dataframe\n",
    "    df_temp = pd.DataFrame()\n",
    "    \n",
    "    #For each kpi, find the average cluster means, and append to the dataframe\n",
    "    for i in kpis:\n",
    "        cluster_values = cluster_kpi(kpi=i,\n",
    "                                     data=data,\n",
    "                                     cluster_data=cluster_data,\n",
    "                                     cluster_col=cluster_col)\n",
    "        \n",
    "        df_temp = pd.concat([df_temp, cluster_values])\n",
    "        \n",
    "    return df_temp\n",
    "        \n",
    "        \n",
    "\n",
    "def heatmap_cluster_kpis(kpis, data,\n",
    "                       cluster_data,\n",
    "                       size=0.4,\n",
    "                       cmap=CB91_Grad_BP,\n",
    "                       cluster_col='Cluster'):\n",
    "    \n",
    "    '''\n",
    "    Heatmap the table produced by the cluster_kpis function\n",
    "    '''\n",
    "    \n",
    "    #Calculate the required table and transpose\n",
    "    df_temp = cluster_kpis(kpis=kpis,\n",
    "                           data=data,\n",
    "                           cluster_data=cluster_data,\n",
    "                           cluster_col=cluster_col).T\n",
    "    \n",
    "    #For each kpi, scale as required\n",
    "    scaler = MinMaxScaler()\n",
    "    scaler.fit(df_temp)\n",
    "    df_scale = scaler.transform(df_temp)\n",
    "    \n",
    "    df_scale = pd.DataFrame(df_scale,\n",
    "                            columns=df_temp.columns,\n",
    "                            index=df_temp.index)\n",
    "    \n",
    "    height = size*len(df_scale.index)\n",
    "    width = 1.1*size*len(df_scale.columns)\n",
    "    \n",
    "    plt.figure(figsize=(width,height))\n",
    "    sns.heatmap(df_scale,cbar=True,cmap=cmap)\n",
    "    plt.yticks(rotation='horizontal')\n",
    "\n",
    "\n",
    "#Use seaborn to set all the default chart visual settings\n",
    "sns.set(font='Franklin Gothic Book',\n",
    "        rc={\n",
    " 'axes.axisbelow': False,\n",
    " 'axes.edgecolor': 'lightgrey',\n",
    " 'axes.facecolor': 'white',\n",
    " 'axes.grid': False,\n",
    " 'axes.labelcolor': 'dimgrey',\n",
    " 'axes.spines.right': False,\n",
    " 'axes.spines.top': False,\n",
    " 'figure.facecolor': 'white',\n",
    " 'lines.solid_capstyle': 'round',\n",
    " 'patch.edgecolor': 'w',\n",
    " 'patch.force_edgecolor': True,\n",
    " 'text.color': 'dimgrey',\n",
    " 'xtick.bottom': False,\n",
    " 'xtick.color': 'dimgrey',\n",
    " 'xtick.direction': 'out',\n",
    " 'xtick.top': False,\n",
    " 'ytick.color': 'dimgrey',\n",
    " 'ytick.direction': 'out',\n",
    " 'ytick.left': False,\n",
    " 'ytick.right': False})\n",
    "\n",
    "sns.set_context(\"notebook\", rc={\"font.size\":16,\n",
    "                                \"axes.titlesize\":20,\n",
    "                                \"axes.labelsize\":16})\n",
    "\n",
    "plt.rcParams['axes.prop_cycle'] = plt.cycler(color=color_list)"
   ]
  },
  {
   "cell_type": "code",
   "execution_count": 7,
   "id": "c8afe519",
   "metadata": {},
   "outputs": [],
   "source": [
    "def gradient_mapper(kpi, grad, outliers=None, stretch=1, factor=1):\n",
    "    \n",
    "    '''\n",
    "    Takes a list/series of numbers, outputs a list of hex colours,\n",
    "    appropriate for heatmapping the initial data.\n",
    "    \n",
    "    Parameters:\n",
    "    - col (list/series, etc.): The data to be transformed\n",
    "    - grad (list hex codes): A list of colors that the data will be transformed to\n",
    "    - outliers (top,bottom,both): Stretches the outliers, resulting in more gradient\n",
    "                                  change amongst clustered values\n",
    "    - stretch (int): The number of colors to duplicate if outliers variable used\n",
    "    - factor (int): The scale of color duplication if outliers variable used\n",
    "    \n",
    "    '''\n",
    "    #Work out how many colours we have in the given gradient\n",
    "    colors = len(grad)\n",
    "    half = colors // 2\n",
    "    \n",
    "    #Ensure that stretch is possible\n",
    "    stretch = min(half//3, stretch)\n",
    "    \n",
    "    factors = [4*factor, 3*factor, 2*factor]\n",
    "    \n",
    "    if outliers != None:\n",
    "        #Stretch gradient if required. Declare three lists:\n",
    "        #Start is the stretch map for the bottom end\n",
    "        if (outliers.lower() == 'bottom') or (outliers.lower() == 'both'):\n",
    "            start = [factors[0]]*stretch + [factors[1]]*stretch + [factors[2]]*stretch\n",
    "        else:\n",
    "            start = []\n",
    "\n",
    "        #End is the stretch map for the top end\n",
    "        if (outliers.lower() == 'top') or (outliers.lower() == 'both'):\n",
    "            end = [factors[2]]*stretch + [factors[1]]*stretch + [factors[0]]*stretch\n",
    "        else:\n",
    "            end = []\n",
    "\n",
    "        #Middle is a list of 1s which will be non-transformed\n",
    "        middle = [1 for i in range(colors - len(start) - len(end))]\n",
    "\n",
    "        stretch_map = start + middle + end\n",
    "        \n",
    "    else:\n",
    "        stretch_map = [1 for i in range(colors)]\n",
    "        \n",
    "    #Create tuples of the gradients, and the number of\n",
    "    #times they should be repeated in the list\n",
    "    zip_list = list(zip(grad,stretch_map))\n",
    "    \n",
    "    #Use this to create a list of lists\n",
    "    #Each element will be a list of the same gradient\n",
    "    #repeated the required number of times\n",
    "    list_of_lists = [[i[0]]*i[1] for i in zip_list]\n",
    "    \n",
    "    #Melt this list of lists into a single list\n",
    "    grad = sum(list_of_lists, [])\n",
    "    \n",
    "    #Re-define colors variable\n",
    "    colors = len(grad)-1\n",
    "    \n",
    "    #Define the lowest and the highest points in the dataset\n",
    "    kpi_min = kpi.min()\n",
    "    kpi_max = kpi.max()\n",
    "    \n",
    "    #Transform the data to integers between zero and the length of the gradient list\n",
    "    first_map = list(map(lambda x: int(round(colors*(x-kpi_min) /\n",
    "                                             (kpi_max-kpi_min),0)), list(kpi)))\n",
    "    \n",
    "    #Map the integers onto the gradient list\n",
    "    second_map = list(map(lambda x: grad[x], first_map))\n",
    "    \n",
    "    #Return this, as well as the new gradient\n",
    "    return second_map, grad\n",
    "\n",
    "\n",
    "\n",
    "\n",
    "f = open('constituencieshex.json')\n",
    "datamap = json.load(f)\n",
    "datamap = pd.DataFrame(datamap['hexes']).T\n",
    "datamap = datamap[['n','q','r']]\n",
    "datamap.columns=['Name','X','Y']\n",
    "\n",
    "def kpi_map(kpi, width=6, colorbar=True,\n",
    "            outliers=None, stretch=1, factor=1,\n",
    "            exclude=[], title=None,\n",
    "            colors=None, exc_color='#999999',\n",
    "            grad=CB91_Grad_AP, data=df):\n",
    "    \n",
    "    '''\n",
    "    Outputs a choropleth map, showing each constituency in the same size.\n",
    "    \n",
    "    Parameters:\n",
    "    - kpi (list/series, etc.): The data to be transformed\n",
    "    - width (float): The desired width of the figure\n",
    "    - df (dataframe): The dataframe to get the data from\n",
    "    - grad (list hex codes): A list of colors that the data will be transformed to\n",
    "    - outliers (top,bottom,both): Stretches the outliers, resulting in more gradient\n",
    "                                  change amongst clustered values\n",
    "    - stretch (int): The number of colors to duplicate if outliers variable used\n",
    "    - factor (int): The scale of color duplication if outliers variable used\n",
    "    - exclude (list): A list of regions to exclude from the chart\n",
    "    - colors (dataframe): A dataframe of hex-codes (index should be constituency codes)\n",
    "    - title (string): The desired title of the chart\n",
    "    \n",
    "    '''    \n",
    "    \n",
    "    #Filter out different regions, depending on paramaters\n",
    "    df_filtered = pd.concat([datamap, data[['Region',kpi]]], axis=1)\n",
    "    \n",
    "    #If we have colors to add, concatonate these in\n",
    "    if isinstance(colors, pd.DataFrame):\n",
    "        df_filtered = pd.concat([df_filtered, colors], axis=1)\n",
    "        df_filtered.columns = ['Name', 'X', 'Y', 'Region', kpi, 'Colors']\n",
    "    \n",
    "    df_filtered = df_filtered.loc[~df_filtered['Region'].isin(exclude)]\n",
    "    kpi_filtered = df_filtered[kpi]\n",
    "    \n",
    "    if isinstance(colors, pd.DataFrame) is False:\n",
    "        #Use the gradient mapper function to return the colors for the plot\n",
    "        gradient_map = gradient_mapper(kpi=kpi_filtered,\n",
    "                                    grad=grad,\n",
    "                                    outliers=outliers,\n",
    "                                    stretch=stretch,\n",
    "                                    factor=factor)\n",
    "        colors_map = gradient_map[0]\n",
    "    \n",
    "    else:\n",
    "        #Fill in nan colors with white\n",
    "        df_filtered['Colors'].fillna(exc_color, inplace=True)\n",
    "        \n",
    "        #Return the column to be used as the colours list in the plot\n",
    "        colors_map = list(df_filtered['Colors'])\n",
    "    \n",
    "    #Work out the aspect ratio of the filtered constituencies\n",
    "    X_diff = np.max(df_filtered['X'])-np.min(df_filtered['X'])\n",
    "    Y_diff = np.max(df_filtered['Y'])-np.min(df_filtered['Y'])\n",
    "    \n",
    "    #Declare the width and height of the plot\n",
    "    height = width * (Y_diff/X_diff)\n",
    "    size = 500*math.pi*((width/X_diff)**2)\n",
    "    \n",
    "    #Create the figure\n",
    "    fig, ax = plt.subplots(figsize=(width,height))\n",
    "    \n",
    "    plt.xticks([])\n",
    "    plt.yticks([])\n",
    "\n",
    "    #Plot the scatter\n",
    "    ax1 = fig.add_subplot(1,1,1)\n",
    "    ax1.scatter(df_filtered['X'],\n",
    "                df_filtered['Y'],\n",
    "                s=size,\n",
    "                marker='s',\n",
    "                c=colors_map)\n",
    "    \n",
    "    #Remove axes\n",
    "    sns.despine(left=True, bottom=True)\n",
    "    ax1.set_title(title);\n",
    "    \n",
    "    #plot the colorbar\n",
    "    if (colorbar == True) and isinstance(colors, pd.DataFrame) is False:        \n",
    "        cmap = LinearSegmentedColormap.from_list(name= '',\n",
    "                                                 colors=gradient_map[1])\n",
    "        ax2 = fig.add_subplot(2,30,28)\n",
    "        norm = mpl.colors_map.Normalize(vmin=df_filtered[kpi].min(),\n",
    "                                    vmax=df_filtered[kpi].max())\n",
    "        cb = mpl.colorbar.ColorbarBase(ax2, cmap=cmap,\n",
    "                                       norm=norm, orientation='vertical')\n",
    "    \n",
    "        # remove the x and y ticks\n",
    "        for ax in [ax1,ax2]:\n",
    "            ax.set_xticks([])\n",
    "            ax.set_yticks([])\n",
    "    \n",
    "    else:\n",
    "        ax1.set_xticks([])\n",
    "        ax1.set_yticks([])"
   ]
  },
  {
   "cell_type": "markdown",
   "id": "3ed3c958",
   "metadata": {},
   "source": [
    "# Section 2"
   ]
  },
  {
   "cell_type": "markdown",
   "id": "83d3580a",
   "metadata": {},
   "source": [
    "### Data preprocessing & Feature Engineering"
   ]
  },
  {
   "cell_type": "code",
   "execution_count": 8,
   "id": "528566a2",
   "metadata": {},
   "outputs": [
    {
     "data": {
      "text/html": [
       "<div>\n",
       "<style scoped>\n",
       "    .dataframe tbody tr th:only-of-type {\n",
       "        vertical-align: middle;\n",
       "    }\n",
       "\n",
       "    .dataframe tbody tr th {\n",
       "        vertical-align: top;\n",
       "    }\n",
       "\n",
       "    .dataframe thead th {\n",
       "        text-align: right;\n",
       "    }\n",
       "</style>\n",
       "<table border=\"1\" class=\"dataframe\">\n",
       "  <thead>\n",
       "    <tr style=\"text-align: right;\">\n",
       "      <th></th>\n",
       "      <th>ID</th>\n",
       "      <th>Constituency</th>\n",
       "      <th>Region</th>\n",
       "      <th>Type</th>\n",
       "      <th>Population</th>\n",
       "      <th>0-9</th>\n",
       "      <th>10-19</th>\n",
       "      <th>20-29</th>\n",
       "      <th>30-39</th>\n",
       "      <th>40-49</th>\n",
       "      <th>...</th>\n",
       "      <th>Depression</th>\n",
       "      <th>Obesity</th>\n",
       "      <th>Diabetes</th>\n",
       "      <th>Asthma</th>\n",
       "      <th>DiseasesPerPop</th>\n",
       "      <th>%LeaveVote</th>\n",
       "      <th>%17Turnout</th>\n",
       "      <th>Winner_17</th>\n",
       "      <th>seat_types_17</th>\n",
       "      <th>seat_types_yg</th>\n",
       "    </tr>\n",
       "  </thead>\n",
       "  <tbody>\n",
       "    <tr>\n",
       "      <th>0</th>\n",
       "      <td>E14000554</td>\n",
       "      <td>Berwick-upon-Tweed</td>\n",
       "      <td>North East</td>\n",
       "      <td>Rural</td>\n",
       "      <td>75425</td>\n",
       "      <td>0.0863</td>\n",
       "      <td>0.0863</td>\n",
       "      <td>0.0902</td>\n",
       "      <td>0.1002</td>\n",
       "      <td>0.1102</td>\n",
       "      <td>...</td>\n",
       "      <td>0.08551</td>\n",
       "      <td>0.13193</td>\n",
       "      <td>0.08029</td>\n",
       "      <td>0.07315</td>\n",
       "      <td>0.89389</td>\n",
       "      <td>0.553</td>\n",
       "      <td>0.719149</td>\n",
       "      <td>Con</td>\n",
       "      <td>con safe</td>\n",
       "      <td>con safe</td>\n",
       "    </tr>\n",
       "    <tr>\n",
       "      <th>1</th>\n",
       "      <td>E14000569</td>\n",
       "      <td>Bishop Auckland</td>\n",
       "      <td>North East</td>\n",
       "      <td>Rural</td>\n",
       "      <td>89415</td>\n",
       "      <td>0.1063</td>\n",
       "      <td>0.1086</td>\n",
       "      <td>0.1103</td>\n",
       "      <td>0.1090</td>\n",
       "      <td>0.1206</td>\n",
       "      <td>...</td>\n",
       "      <td>0.12388</td>\n",
       "      <td>0.14646</td>\n",
       "      <td>0.08225</td>\n",
       "      <td>0.06856</td>\n",
       "      <td>0.89166</td>\n",
       "      <td>0.609</td>\n",
       "      <td>0.640827</td>\n",
       "      <td>Lab</td>\n",
       "      <td>con lab marginal</td>\n",
       "      <td>con lab marginal</td>\n",
       "    </tr>\n",
       "  </tbody>\n",
       "</table>\n",
       "<p>2 rows × 102 columns</p>\n",
       "</div>"
      ],
      "text/plain": [
       "          ID        Constituency      Region   Type  Population     0-9  \\\n",
       "0  E14000554  Berwick-upon-Tweed  North East  Rural       75425  0.0863   \n",
       "1  E14000569     Bishop Auckland  North East  Rural       89415  0.1063   \n",
       "\n",
       "    10-19   20-29   30-39   40-49  ...  Depression  Obesity  Diabetes  \\\n",
       "0  0.0863  0.0902  0.1002  0.1102  ...     0.08551  0.13193   0.08029   \n",
       "1  0.1086  0.1103  0.1090  0.1206  ...     0.12388  0.14646   0.08225   \n",
       "\n",
       "    Asthma  DiseasesPerPop  %LeaveVote  %17Turnout  Winner_17  \\\n",
       "0  0.07315         0.89389       0.553    0.719149        Con   \n",
       "1  0.06856         0.89166       0.609    0.640827        Lab   \n",
       "\n",
       "      seat_types_17     seat_types_yg  \n",
       "0          con safe          con safe  \n",
       "1  con lab marginal  con lab marginal  \n",
       "\n",
       "[2 rows x 102 columns]"
      ]
     },
     "execution_count": 8,
     "metadata": {},
     "output_type": "execute_result"
    }
   ],
   "source": [
    "# df = pd.read_csv('data_with_targets.csv') # We will use this dataset for feature engineering and preprocessing purposes\n",
    "\n",
    "df.head(2)"
   ]
  },
  {
   "cell_type": "code",
   "execution_count": 9,
   "id": "cc31eb57",
   "metadata": {},
   "outputs": [],
   "source": [
    "# We first remove the Northern Ireland Region and Chorley seat (Speaker Seat) since these will cause outliers\n",
    "df = df.loc[(df['Region'] != 'Northern Ireland')\n",
    "           &(df['Constituency'] != 'Chorley')]\n",
    "\n",
    "# Copy the data so you can use later if needed\n",
    "data = df.copy()\n",
    "\n",
    "df.set_index('ID', inplace=True)\n",
    "\n",
    "# Remove constituency, type, and region column as we do not any geographic location data to affect our clustering\n",
    "df = df.iloc[:, 4:]\n",
    "\n",
    "# Reduce the ranges of the age columns\n",
    "# Looking at all the age columns, it is best to combine some of them say above 60 category as the more older a person gets, \n",
    "# it maybe that he does not even vote or separating ages into such narrow categories does not seem to produce much benefit. \n",
    "# So our proposed categories would be (0-19) (how many kids/teenagers a household has, going uni etc), (20-29) \n",
    "# would involve uni,\n",
    "# marriage, work life etc, (30-59) would include mainly parents, adulthood, maturity, richer category compared \n",
    "# to other categories, 60-80+ would represent old age categories.\n",
    "# df['0-19%'] = df.iloc[:, 1] + df.iloc[:, 2]\n",
    "df['0-9'] = df.iloc[:, 1] + df.iloc[:, 2]\n",
    "df.rename(columns={'0-9': '0-19%'}, inplace=True)\n",
    "df.drop(columns=['10-19'], inplace=True)\n",
    "\n",
    "df['30-39'] = df['30-39'] + df['40-49'] + df['50-59']\n",
    "df.rename(columns={'30-39': '30-59%'}, inplace=True)\n",
    "df.rename(columns={'20-29': '20-29%'}, inplace=True)\n",
    "\n",
    "df.drop(columns=['40-49', '50-59'], inplace=True)\n",
    "df['60-69'] = df['60-69'] + df['70-79'] + df['80+']\n",
    "df.rename(columns={'60-69': '60+%'}, inplace=True)\n",
    "df.drop(columns=['70-79', '80+'], inplace=True)\n",
    "\n",
    "# We will restrict born regions to 'Born UK', 'Born Asia', 'Born Other Europe', 'Born Rest of the World' which can \n",
    "# signficantly better focus target campaigns of different political parties as to target even more than 3 ethnicities\n",
    "# does require lot of effort.\n",
    "\n",
    "# With regards to religion, we can use the top 3-4 categories of religion according to wikipedia which would be Christianity, \n",
    "# Islam, No religion or atheism and Hinduisim. There are 7 categories in the current dataframe and targeting all these religions\n",
    "# specifically would not be very effective. We will restrict to 4 categories specifically: Islam, Christianity, No religion and \n",
    "# other religion\n",
    "\n",
    "# Born UK and being Christian is highly correlated or being white and christian or being south asian and muslim. \n",
    "# As our focus on predicting clusters rather than interpreting the parameters obtained, having such intercorrelation \n",
    "# issues should not be an issue.\n",
    "\n",
    "# Lastly, concerning race colour, I believe the 4 mentioned (White, Black, Asian, Mixed) are sufficient to be used \n",
    "# for our clustering algorithms\n",
    "\n",
    "# Country of Birth\n",
    "df['%BornSouthAsia'] = df['%BornSouthAsia'] + df['%BornSEAsia'] + df['%BornEastAsia']\n",
    "df.rename(columns={'%BornSouthAsia': '%Born_Asia'}, inplace=True)\n",
    "df.drop(columns=['%BornSEAsia', '%BornEastAsia'], inplace=True)\n",
    "\n",
    "df['%BornIreland'] = df['%BornIreland'] + df['%BornOtherEU'] + df['%BornOtherEurope']\n",
    "df.rename(columns={'%BornIreland': '%Born_Other_Europe'}, inplace=True)\n",
    "df.drop(columns=['%BornOtherEU', '%BornOtherEurope'], inplace=True)\n",
    "\n",
    "\n",
    "df['%BornAfrica'] = df['%BornAfrica'] + df['%BornME'] + df['%BornNAmerica'] + df['%BornLatinAmerica'] + df['%BornAustralasia']\n",
    "df.rename(columns={'%BornAfrica': '%Born_RestOf_theWorld'}, inplace=True)\n",
    "df.drop(columns=['%BornME', '%BornNAmerica', '%BornLatinAmerica', '%BornAustralasia'], inplace=True)\n",
    "\n",
    "\n",
    "# Religion\n",
    "df['%Sikh'] = df['%Sikh'] + df['%Hindu'] + df['%Buddhist'] + df['%Jewish']\n",
    "df.rename(columns={'%Sikh': '%Other_Religion'}, inplace=True)\n",
    "df.drop(columns=['%Hindu', '%Jewish', '%Buddhist'], inplace=True)\n",
    "\n",
    "\n",
    "# Obtain only the Great Britian dataset by droppping all columns which have NAs\n",
    "# When we drop all columns with NAs, we keep rows with constituencies being from Scotland and Wales \n",
    "# as these constituencies cause the NAs mainly. \n",
    "# When we drop all rows with NAs, automatically these constituencies are removed\n",
    "\n",
    "df_gb = df.dropna(axis=1)"
   ]
  },
  {
   "cell_type": "code",
   "execution_count": 10,
   "id": "69e7746b",
   "metadata": {},
   "outputs": [],
   "source": [
    "# Apply log transformations to reduce skewness in the data for dimensionality reduction\n",
    "df_gb[['AreaKM2', 'Pop_Density','Businesses', 'BusinessesPer1kCap','2019_Wage', 'HousePrice', \n",
    "       'HousePricePerWage']].apply(np.log1p, inplace=True)\n",
    "\n",
    "# GB Dataset\n",
    "X_gb = df_gb.iloc[:,:-3]\n",
    "y17_gb = df_gb['Winner_17']\n",
    "y17_st_gb = df_gb['seat_types_17']\n",
    "y19_st_gb = df_gb['seat_types_yg'] # You Gov\n",
    "\n",
    "\n",
    "\n",
    "# Add percentages of seats won by the conservative, labour, liberal, Scottish and Green party in every constituency\n",
    "df_election = pd.read_csv('HoC-GE2017-constituency-results.csv', index_col='ons_id')\n",
    "df_election.drop(columns=['ons_region_id', 'constituency_name', 'county_name', 'region_name',\n",
    "       'country_name', 'constituency_type', 'declaration_time', 'result',\n",
    "       'first_party', 'second_party', 'electorate'], inplace=True)\n",
    "\n",
    "df_election.drop(columns=['invalid_votes', 'dup', 'sdlp', 'uup',\n",
    "       'alliance', 'other', 'other_winner'], inplace=True)\n",
    "\n",
    "df_election['con%'] = (df_election['con'] / df_election['valid_votes']) * 100\n",
    "df_election['lab%'] = (df_election['lab'] / df_election['valid_votes']) * 100\n",
    "df_election['ld%'] = (df_election['ld'] / df_election['valid_votes']) * 100\n",
    "df_election['snp%'] = (df_election['snp'] / df_election['valid_votes']) * 100\n",
    "df_election['green%'] = (df_election['green'] / df_election['valid_votes']) * 100\n",
    "df_election.index.names = ['ID']\n",
    "\n",
    "# Merge the two datasets together\n",
    "# We will work with two datasets at the end - one with the % of snp votes included and the other without\n",
    "# This is so we can analyze the clusters we get based on either including or excluding the column\n",
    "X_gb_with_snp = pd.concat([X_gb, df_election[['con%','lab%','ld%','snp%']]], axis=1, join='inner')\n",
    "\n",
    "X_gb_without_snp = pd.concat([X_gb, df_election[['con%','lab%','ld%']]], axis=1, join='inner')"
   ]
  },
  {
   "cell_type": "markdown",
   "id": "18eeefaa",
   "metadata": {},
   "source": [
    "### Scaling & Dimensionality Reduction"
   ]
  },
  {
   "cell_type": "code",
   "execution_count": 11,
   "id": "9bee4113",
   "metadata": {},
   "outputs": [],
   "source": [
    "# With SNP Votes\n",
    "scaler = StandardScaler()\n",
    "X_gb_scaled_snp = scaler.fit_transform(X_gb_with_snp)\n",
    "\n",
    "# Without SNP Votes\n",
    "scaler = StandardScaler()\n",
    "X_gb_scaled_without_snp = scaler.fit_transform(X_gb_without_snp)"
   ]
  },
  {
   "cell_type": "code",
   "execution_count": 12,
   "id": "0e618a66",
   "metadata": {},
   "outputs": [
    {
     "data": {
      "text/plain": [
       "(631, 56)"
      ]
     },
     "execution_count": 12,
     "metadata": {},
     "output_type": "execute_result"
    }
   ],
   "source": [
    "X_gb_scaled_without_snp.shape"
   ]
  },
  {
   "cell_type": "code",
   "execution_count": 13,
   "id": "3b9f464a",
   "metadata": {},
   "outputs": [
    {
     "data": {
      "text/plain": [
       "(631, 57)"
      ]
     },
     "execution_count": 13,
     "metadata": {},
     "output_type": "execute_result"
    }
   ],
   "source": [
    "X_gb_scaled_snp.shape"
   ]
  },
  {
   "cell_type": "markdown",
   "id": "fbc4c11f",
   "metadata": {},
   "source": [
    "### PCA"
   ]
  },
  {
   "cell_type": "code",
   "execution_count": 14,
   "id": "c3586126",
   "metadata": {},
   "outputs": [
    {
     "data": {
      "image/png": "[encoded data removed]",
      "text/plain": [
       "<Figure size 720x576 with 1 Axes>"
      ]
     },
     "metadata": {},
     "output_type": "display_data"
    },
    {
     "data": {
      "text/html": [
       "<div>\n",
       "<style scoped>\n",
       "    .dataframe tbody tr th:only-of-type {\n",
       "        vertical-align: middle;\n",
       "    }\n",
       "\n",
       "    .dataframe tbody tr th {\n",
       "        vertical-align: top;\n",
       "    }\n",
       "\n",
       "    .dataframe thead th {\n",
       "        text-align: right;\n",
       "    }\n",
       "</style>\n",
       "<table border=\"1\" class=\"dataframe\">\n",
       "  <thead>\n",
       "    <tr style=\"text-align: right;\">\n",
       "      <th></th>\n",
       "      <th>model</th>\n",
       "      <th>var</th>\n",
       "    </tr>\n",
       "    <tr>\n",
       "      <th>n</th>\n",
       "      <th></th>\n",
       "      <th></th>\n",
       "    </tr>\n",
       "  </thead>\n",
       "  <tbody>\n",
       "    <tr>\n",
       "      <th>49</th>\n",
       "      <td>PCA(n_components=49)</td>\n",
       "      <td>0.999926</td>\n",
       "    </tr>\n",
       "    <tr>\n",
       "      <th>48</th>\n",
       "      <td>PCA(n_components=48)</td>\n",
       "      <td>0.999877</td>\n",
       "    </tr>\n",
       "    <tr>\n",
       "      <th>47</th>\n",
       "      <td>PCA(n_components=47)</td>\n",
       "      <td>0.999767</td>\n",
       "    </tr>\n",
       "    <tr>\n",
       "      <th>46</th>\n",
       "      <td>PCA(n_components=46)</td>\n",
       "      <td>0.999578</td>\n",
       "    </tr>\n",
       "    <tr>\n",
       "      <th>45</th>\n",
       "      <td>PCA(n_components=45)</td>\n",
       "      <td>0.999269</td>\n",
       "    </tr>\n",
       "    <tr>\n",
       "      <th>44</th>\n",
       "      <td>PCA(n_components=44)</td>\n",
       "      <td>0.998798</td>\n",
       "    </tr>\n",
       "    <tr>\n",
       "      <th>43</th>\n",
       "      <td>PCA(n_components=43)</td>\n",
       "      <td>0.998268</td>\n",
       "    </tr>\n",
       "    <tr>\n",
       "      <th>42</th>\n",
       "      <td>PCA(n_components=42)</td>\n",
       "      <td>0.997622</td>\n",
       "    </tr>\n",
       "    <tr>\n",
       "      <th>41</th>\n",
       "      <td>PCA(n_components=41)</td>\n",
       "      <td>0.996834</td>\n",
       "    </tr>\n",
       "    <tr>\n",
       "      <th>40</th>\n",
       "      <td>PCA(n_components=40)</td>\n",
       "      <td>0.995974</td>\n",
       "    </tr>\n",
       "    <tr>\n",
       "      <th>39</th>\n",
       "      <td>PCA(n_components=39)</td>\n",
       "      <td>0.994953</td>\n",
       "    </tr>\n",
       "    <tr>\n",
       "      <th>38</th>\n",
       "      <td>PCA(n_components=38)</td>\n",
       "      <td>0.993774</td>\n",
       "    </tr>\n",
       "    <tr>\n",
       "      <th>37</th>\n",
       "      <td>PCA(n_components=37)</td>\n",
       "      <td>0.992449</td>\n",
       "    </tr>\n",
       "    <tr>\n",
       "      <th>36</th>\n",
       "      <td>PCA(n_components=36)</td>\n",
       "      <td>0.99097</td>\n",
       "    </tr>\n",
       "    <tr>\n",
       "      <th>35</th>\n",
       "      <td>PCA(n_components=35)</td>\n",
       "      <td>0.989342</td>\n",
       "    </tr>\n",
       "    <tr>\n",
       "      <th>34</th>\n",
       "      <td>PCA(n_components=34)</td>\n",
       "      <td>0.987526</td>\n",
       "    </tr>\n",
       "    <tr>\n",
       "      <th>33</th>\n",
       "      <td>PCA(n_components=33)</td>\n",
       "      <td>0.985623</td>\n",
       "    </tr>\n",
       "    <tr>\n",
       "      <th>32</th>\n",
       "      <td>PCA(n_components=32)</td>\n",
       "      <td>0.983559</td>\n",
       "    </tr>\n",
       "    <tr>\n",
       "      <th>31</th>\n",
       "      <td>PCA(n_components=31)</td>\n",
       "      <td>0.981122</td>\n",
       "    </tr>\n",
       "    <tr>\n",
       "      <th>30</th>\n",
       "      <td>PCA(n_components=30)</td>\n",
       "      <td>0.97862</td>\n",
       "    </tr>\n",
       "    <tr>\n",
       "      <th>29</th>\n",
       "      <td>PCA(n_components=29)</td>\n",
       "      <td>0.975787</td>\n",
       "    </tr>\n",
       "    <tr>\n",
       "      <th>28</th>\n",
       "      <td>PCA(n_components=28)</td>\n",
       "      <td>0.972326</td>\n",
       "    </tr>\n",
       "    <tr>\n",
       "      <th>27</th>\n",
       "      <td>PCA(n_components=27)</td>\n",
       "      <td>0.96858</td>\n",
       "    </tr>\n",
       "    <tr>\n",
       "      <th>26</th>\n",
       "      <td>PCA(n_components=26)</td>\n",
       "      <td>0.964282</td>\n",
       "    </tr>\n",
       "    <tr>\n",
       "      <th>25</th>\n",
       "      <td>PCA(n_components=25)</td>\n",
       "      <td>0.959971</td>\n",
       "    </tr>\n",
       "    <tr>\n",
       "      <th>24</th>\n",
       "      <td>PCA(n_components=24)</td>\n",
       "      <td>0.955197</td>\n",
       "    </tr>\n",
       "    <tr>\n",
       "      <th>23</th>\n",
       "      <td>PCA(n_components=23)</td>\n",
       "      <td>0.950317</td>\n",
       "    </tr>\n",
       "    <tr>\n",
       "      <th>22</th>\n",
       "      <td>PCA(n_components=22)</td>\n",
       "      <td>0.94494</td>\n",
       "    </tr>\n",
       "    <tr>\n",
       "      <th>21</th>\n",
       "      <td>PCA(n_components=21)</td>\n",
       "      <td>0.939324</td>\n",
       "    </tr>\n",
       "    <tr>\n",
       "      <th>20</th>\n",
       "      <td>PCA(n_components=20)</td>\n",
       "      <td>0.933649</td>\n",
       "    </tr>\n",
       "    <tr>\n",
       "      <th>19</th>\n",
       "      <td>PCA(n_components=19)</td>\n",
       "      <td>0.927526</td>\n",
       "    </tr>\n",
       "    <tr>\n",
       "      <th>18</th>\n",
       "      <td>PCA(n_components=18)</td>\n",
       "      <td>0.921055</td>\n",
       "    </tr>\n",
       "    <tr>\n",
       "      <th>17</th>\n",
       "      <td>PCA(n_components=17)</td>\n",
       "      <td>0.913274</td>\n",
       "    </tr>\n",
       "    <tr>\n",
       "      <th>16</th>\n",
       "      <td>PCA(n_components=16)</td>\n",
       "      <td>0.904349</td>\n",
       "    </tr>\n",
       "    <tr>\n",
       "      <th>15</th>\n",
       "      <td>PCA(n_components=15)</td>\n",
       "      <td>0.894091</td>\n",
       "    </tr>\n",
       "    <tr>\n",
       "      <th>14</th>\n",
       "      <td>PCA(n_components=14)</td>\n",
       "      <td>0.883171</td>\n",
       "    </tr>\n",
       "    <tr>\n",
       "      <th>13</th>\n",
       "      <td>PCA(n_components=13)</td>\n",
       "      <td>0.870724</td>\n",
       "    </tr>\n",
       "    <tr>\n",
       "      <th>12</th>\n",
       "      <td>PCA(n_components=12)</td>\n",
       "      <td>0.857341</td>\n",
       "    </tr>\n",
       "    <tr>\n",
       "      <th>11</th>\n",
       "      <td>PCA(n_components=11)</td>\n",
       "      <td>0.843671</td>\n",
       "    </tr>\n",
       "    <tr>\n",
       "      <th>10</th>\n",
       "      <td>PCA(n_components=10)</td>\n",
       "      <td>0.828352</td>\n",
       "    </tr>\n",
       "  </tbody>\n",
       "</table>\n",
       "</div>"
      ],
      "text/plain": [
       "                   model       var\n",
       "n                                 \n",
       "49  PCA(n_components=49)  0.999926\n",
       "48  PCA(n_components=48)  0.999877\n",
       "47  PCA(n_components=47)  0.999767\n",
       "46  PCA(n_components=46)  0.999578\n",
       "45  PCA(n_components=45)  0.999269\n",
       "44  PCA(n_components=44)  0.998798\n",
       "43  PCA(n_components=43)  0.998268\n",
       "42  PCA(n_components=42)  0.997622\n",
       "41  PCA(n_components=41)  0.996834\n",
       "40  PCA(n_components=40)  0.995974\n",
       "39  PCA(n_components=39)  0.994953\n",
       "38  PCA(n_components=38)  0.993774\n",
       "37  PCA(n_components=37)  0.992449\n",
       "36  PCA(n_components=36)   0.99097\n",
       "35  PCA(n_components=35)  0.989342\n",
       "34  PCA(n_components=34)  0.987526\n",
       "33  PCA(n_components=33)  0.985623\n",
       "32  PCA(n_components=32)  0.983559\n",
       "31  PCA(n_components=31)  0.981122\n",
       "30  PCA(n_components=30)   0.97862\n",
       "29  PCA(n_components=29)  0.975787\n",
       "28  PCA(n_components=28)  0.972326\n",
       "27  PCA(n_components=27)   0.96858\n",
       "26  PCA(n_components=26)  0.964282\n",
       "25  PCA(n_components=25)  0.959971\n",
       "24  PCA(n_components=24)  0.955197\n",
       "23  PCA(n_components=23)  0.950317\n",
       "22  PCA(n_components=22)   0.94494\n",
       "21  PCA(n_components=21)  0.939324\n",
       "20  PCA(n_components=20)  0.933649\n",
       "19  PCA(n_components=19)  0.927526\n",
       "18  PCA(n_components=18)  0.921055\n",
       "17  PCA(n_components=17)  0.913274\n",
       "16  PCA(n_components=16)  0.904349\n",
       "15  PCA(n_components=15)  0.894091\n",
       "14  PCA(n_components=14)  0.883171\n",
       "13  PCA(n_components=13)  0.870724\n",
       "12  PCA(n_components=12)  0.857341\n",
       "11  PCA(n_components=11)  0.843671\n",
       "10  PCA(n_components=10)  0.828352"
      ]
     },
     "execution_count": 14,
     "metadata": {},
     "output_type": "execute_result"
    }
   ],
   "source": [
    "# log columns\n",
    "from sklearn.decomposition import PCA\n",
    "\n",
    "pca_list = list()\n",
    "feature_weight_list = list()\n",
    "\n",
    "# Fit a range of PCA models\n",
    "\n",
    "for n in range(1, 50):\n",
    "    \n",
    "    # Create and fit the model\n",
    "    PCAmod = PCA(n_components=n)\n",
    "    PCAmod.fit(X_gb_scaled_without_snp) # has 86 features\n",
    "    \n",
    "    # Store the model and variance\n",
    "    pca_list.append(pd.Series({'n':n, 'model':PCAmod,\n",
    "                               'var': PCAmod.explained_variance_ratio_.sum()}))\n",
    "    \n",
    "    \n",
    "pca_df = pd.concat(pca_list, axis=1).T.set_index('n')\n",
    "\n",
    "\n",
    "plt.figure(figsize=(10,8))\n",
    "sns.lineplot(x='n', y='var', data=pca_df, color='red')\n",
    "plt.xlabel('PCA Components')\n",
    "plt.ylabel('Variance')\n",
    "plt.show()\n",
    "\n",
    "\n",
    "pca_df.sort_values(by='var', ascending=False).head(40)"
   ]
  },
  {
   "cell_type": "code",
   "execution_count": 15,
   "id": "be3df63a",
   "metadata": {},
   "outputs": [],
   "source": [
    "# We will narrow down our components to 16 as it preserves at least 90% of the variance and reduces the dimensionality \n",
    "# significantly (from 56/57) --> # 16"
   ]
  },
  {
   "cell_type": "code",
   "execution_count": 16,
   "id": "a9af18be",
   "metadata": {},
   "outputs": [],
   "source": [
    "PCAmod = PCA(n_components=16, random_state=100)\n",
    "PCAmod.fit(X_gb_scaled_snp)\n",
    "PCA_df_gb = pd.DataFrame(PCAmod.transform(X_gb_scaled_snp))\n",
    "\n",
    "\n",
    "PCAmod = PCA(n_components=16, random_state=100)\n",
    "PCAmod.fit(X_gb_scaled_without_snp)\n",
    "PCA_df_gb_without_snp = pd.DataFrame(PCAmod.transform(X_gb_scaled_without_snp))"
   ]
  },
  {
   "cell_type": "markdown",
   "id": "920f2430",
   "metadata": {},
   "source": [
    "### UMAP"
   ]
  },
  {
   "cell_type": "code",
   "execution_count": 17,
   "id": "2a3b1202",
   "metadata": {},
   "outputs": [],
   "source": [
    "# For fair comparison, we will select the number of components from UMAP (Non-Linear) as we did with PCA i.e., 16 components\n",
    "umap_c = umap.UMAP(n_components=16, metric='euclidean' , init='random', random_state=0)\n",
    "umap_df = umap_c.fit_transform(X_gb_scaled_snp)\n",
    "\n",
    "umap_c = umap.UMAP(n_components=16, metric='euclidean' , init='random', random_state=0)\n",
    "umap_df_without_snp = umap_c.fit_transform(X_gb_scaled_without_snp)"
   ]
  },
  {
   "cell_type": "markdown",
   "id": "462d1fca",
   "metadata": {},
   "source": [
    "# Section 3"
   ]
  },
  {
   "cell_type": "markdown",
   "id": "ab58e7fc",
   "metadata": {},
   "source": [
    "### Functions for visualizations"
   ]
  },
  {
   "cell_type": "code",
   "execution_count": 18,
   "id": "8e878667",
   "metadata": {},
   "outputs": [],
   "source": [
    "# Define all the UK political parties and their colours we will use for later in our visualizations \n",
    "\n",
    "party_list = ['con safe','con lab marginal',\n",
    "'lab safe','ld safe',\n",
    "'con ld marginal','lab ld marginal',\n",
    "'green safe', 'con snp marginal', 'snp safe', 'ld snp marginal']\n",
    "\n",
    "\n",
    "party_colors = [con_blue, con_lab, lab_red, lib_yel,con_lib, lab_lib, \n",
    "                green_green, con_snp, snp_yel, lib_snp]"
   ]
  },
  {
   "cell_type": "code",
   "execution_count": 58,
   "id": "37d2aadf",
   "metadata": {},
   "outputs": [],
   "source": [
    "# Plotly interactive kpi map (made by myself)\n",
    "\n",
    "def interactive_kpi_map(datamap, output_data):\n",
    "    \n",
    "    datamap_2 = pd.concat([output_data.set_index('ID'), datamap[['X', 'Y']]], axis=1, join='inner')\n",
    "    fig = px.scatter(datamap_2, x='X', y='Y', width=630, height=870, color=datamap_2['Colors'], custom_data=['Constituency', 'Region', 'Cluster', 'seat_types_yg'], title='UK Constituency Map')\n",
    "\n",
    "\n",
    "    fig.update_traces(marker=dict(size=12,\n",
    "                                  line=dict(width=0), symbol='square'),\n",
    "                      selector=dict(mode='markers'))\n",
    "\n",
    "    fig.update_layout(showlegend=False, plot_bgcolor='rgba(0,0,0,0)')\n",
    "    fig.update_yaxes(visible=False, showticklabels=False)\n",
    "    fig.update_xaxes(visible=False, showticklabels=False)\n",
    "\n",
    "    fig.update_traces(\n",
    "        hovertemplate=\"<br>\".join([\n",
    "            \"Constituency: %{customdata[0]}\",\n",
    "            \"Region: %{customdata[1]}\",\n",
    "            \"Cluster: %{customdata[2]}\",\n",
    "            \"YouGov Seat: %{customdata[3]}\"\n",
    "        ])\n",
    "    )\n",
    "\n",
    "    fig.show()"
   ]
  },
  {
   "cell_type": "code",
   "execution_count": 19,
   "id": "80091699",
   "metadata": {},
   "outputs": [],
   "source": [
    "# Metric Visuals\n",
    "\n",
    "def elbow_visuals(metr, model, data):\n",
    "    if str(metr) == 'Distortion':\n",
    "        visualizer = KElbowVisualizer(model, k=(2,18), timings= True)\n",
    "        visualizer.fit(data)        # Fit data to visualizer\n",
    "        visualizer.show()  \n",
    "        \n",
    "    elif str(metr) == 'Calinski':\n",
    "        visualizer = KElbowVisualizer(model, k=(2,18), metric='calinski_harabasz', timings= True)\n",
    "        visualizer.fit(data)        # Fit data to visualizer\n",
    "        visualizer.show()  \n",
    "        \n",
    "    elif str(metr) == 'Silhouette':\n",
    "        visualizer = KElbowVisualizer(model, k=(2,18), metric='silhouette', timings= True)\n",
    "        visualizer.fit(data)        # Fit data to visualizer\n",
    "        visualizer.show()  \n",
    "        \n",
    "# Dendogram for Heirarchical Clustering\n",
    "from scipy.cluster.hierarchy import dendrogram\n",
    "from scipy.cluster import hierarchy\n",
    "\n",
    "\n",
    "def dendro_hac(model, data):\n",
    "    \n",
    "    m = model.fit(data)\n",
    "    Z = hierarchy.linkage(m.children_, 'ward')\n",
    "    plt.figure(figsize=(20,10))\n",
    "    plt.title(\"Dendrograms\") \n",
    "    dn=hierarchy.dendrogram(Z)\n",
    "\n",
    "\n",
    "\n",
    "def Davies_Bouldin_Viz(model, data):\n",
    "    \n",
    "    # Davies Bouldin Score\n",
    "    # Davies Bouldin Index - need at least 2 points in each cluster\n",
    "    # As DB Index falls, clustering improves\n",
    "    # Davies Bouldin score for K means\n",
    "    \n",
    "    scores = []\n",
    "    p = []\n",
    "    centers = range(2, 20)\n",
    "    \n",
    "    if model == 'KMeans':\n",
    "        \n",
    "        for i in list(centers):\n",
    "            kmeans = KMeans(n_clusters=i)\n",
    "            m = kmeans.fit_predict(data)\n",
    "            score = davies_bouldin_score(data, m)\n",
    "            scores.append(score)\n",
    "            p.append((i, score))\n",
    "            \n",
    "    if model == 'HAC':\n",
    "        \n",
    "        for i in list(centers):\n",
    "            hac = AgglomerativeClustering(n_clusters=i)\n",
    "            m = hac.fit_predict(data)\n",
    "            score = davies_bouldin_score(data, m)\n",
    "            scores.append(score)\n",
    "            p.append((i, score))\n",
    "            \n",
    "#     display(round(pd.DataFrame(p)[1]), 4)\n",
    "#     print(round(min(scores), 4))\n",
    "    sns.lineplot(list(centers), scores, linestyle='--', marker='o', color='b');\n",
    "    plt.xlabel('K');\n",
    "    plt.ylabel('Davies Bouldin score');\n",
    "    plt.title('Davies Bouldin score vs. K');\n",
    "    \n",
    "    df = pd.DataFrame(p)[round(pd.DataFrame(p)[1], 3) == round(min(scores), 3)]\n",
    "    df.columns = ['# Clusters', 'Davies_Bouldin_Score']\n",
    "    return df\n",
    "\n",
    "\n",
    "\n",
    "\n",
    "    \n",
    "# Heatmap function\n",
    "\n",
    "def kpi_heatmap(kpi_data, data, snp=True):\n",
    "    \n",
    "    if snp == True:\n",
    "\n",
    "        heatmap_cluster_kpis(kpis=kpi_data,data=X_gb_with_snp,cmap='coolwarm_r',size=0.7, cluster_data=data)\n",
    "        plt.title('Heatmap of English Constituency Clusters by KPI\\n\\\n",
    "        (0.0=Lowest Cluster For That KPI, 1.0=Highest Cluster For That KPI)\\n')\n",
    "        plt.ylabel('Cluster Number')\n",
    "        \n",
    "    if snp == False:\n",
    "        \n",
    "        heatmap_cluster_kpis(kpis=kpi_data,data=X_gb_without_snp ,cmap='coolwarm_r',size=0.7, cluster_data=data)\n",
    "        plt.title('Heatmap of English Constituency Clusters by KPI\\n\\\n",
    "        (0.0=Lowest Cluster For That KPI, 1.0=Highest Cluster For That KPI)\\n')\n",
    "        plt.ylabel('Cluster Number') \n",
    "        \n",
    "    \n",
    "    \n",
    "def Map_cluster(data):\n",
    "    kpi_map('Population',colors=data[['Colors']], data=df_con,\n",
    "    exc_color='#ffffff',exclude=['Northern Ireland'], width=11)\n",
    "    \n",
    "\n",
    "def cluster_bar_visual(data, snp_included):\n",
    "\n",
    "    gb_cluster_bar = (data/ data.sum()).T.sort_values(by='lab safe', ascending=True)\n",
    "\n",
    "    gb_cluster_bar.plot.barh(stacked=True,\n",
    "                  figsize=(12,5),\n",
    "                  width=0.8,\n",
    "                  color=party_colors)\n",
    "\n",
    "    plt.xticks(ticks = np.arange(0,1.2,0.2), labels = np.arange(0,120,20))\n",
    "    plt.xlim(0,1);\n",
    "    \n",
    "    if snp_included == True:\n",
    "\n",
    "        plt.title('GB Constituency Clusters with %SNP Votes');\n",
    "        \n",
    "    else:\n",
    "        plt.title('GB Constituency Clusters without %SNP Votes');\n",
    "    plt.ylabel('Cluster Number')\n",
    "\n",
    "    plt.legend(bbox_to_anchor=(0.85, -0.1),\n",
    "                   ncol=4,frameon=False)\n",
    "    \n",
    "    \n",
    "def clustering_metrics(model, data, clust=None): # yhat = model.fit(data)\n",
    "    \n",
    "    if clust == 'BIC':\n",
    "        model.fit(data)\n",
    "        model2 = model.predict(data)\n",
    "        score_AGclustering_s = silhouette_score(data, model2, metric='euclidean')\n",
    "        score_AGclustering_c = calinski_harabasz_score(data, model2)\n",
    "        score_AGclustering_d = davies_bouldin_score(data, model2)\n",
    "        \n",
    "    else:\n",
    "    \n",
    "        yhat = model.fit(data)\n",
    "        yhat_2 = model.fit_predict(data)\n",
    "\n",
    "        # retrieve unique clusters\n",
    "        # Calculate cluster validation metrics\n",
    "        score_AGclustering_s = silhouette_score(data, yhat.labels_, metric='euclidean')\n",
    "        score_AGclustering_c = calinski_harabasz_score(data, yhat.labels_)\n",
    "        score_AGclustering_d = davies_bouldin_score(data, yhat_2)\n",
    "    \n",
    "\n",
    "    print('Silhouette Score: %.4f' % score_AGclustering_s)\n",
    "    print('Calinski Harabasz Score: %.4f' % score_AGclustering_c)\n",
    "    print('Davies Bouldin Score: %.4f' % score_AGclustering_d)  \n",
    "    \n",
    "    \n",
    "def cluster_dataframes(preds, GMM=None, max_weights=None):\n",
    "    \n",
    "    gb_cluster_yg = pd.concat([y19_st_gb,\n",
    "                       pd.DataFrame(preds[0],\n",
    "                                    index=y17_st_gb.index,\n",
    "                                    columns=['Cluster'])],\n",
    "                       axis=1)\n",
    "    \n",
    "    \n",
    "    gb_cluster_yg_pivot = pd.pivot_table(data = gb_cluster_yg,\n",
    "                                         index='seat_types_yg',\n",
    "                                         columns='Cluster',\n",
    "\n",
    "                                         aggfunc=len,\n",
    "                                         fill_value=0)\n",
    "\n",
    "    gb_cluster_yg_pivot = gb_cluster_yg_pivot.reindex(party_list)\n",
    "    \n",
    "    if GMM == True:\n",
    "        \n",
    "        gb_cluster_yg_2 = pd.concat([gb_cluster_yg, pd.DataFrame(max_weights,index=y17_st_gb.index,\n",
    "                                    columns=['Weights'])], axis=1, join='inner')\n",
    "    \n",
    "        return gb_cluster_yg, gb_cluster_yg_pivot, gb_cluster_yg_2\n",
    "    \n",
    "    else:\n",
    "        return gb_cluster_yg, gb_cluster_yg_pivot"
   ]
  },
  {
   "cell_type": "markdown",
   "id": "bc0bf96f",
   "metadata": {},
   "source": [
    "### Define all the clustering algorithms to all be used in Section 4"
   ]
  },
  {
   "cell_type": "code",
   "execution_count": 20,
   "id": "f04fd323",
   "metadata": {},
   "outputs": [],
   "source": [
    "# Clustering Algorithms\n",
    "\n",
    "def K_Means(n_clusters, data):\n",
    "    \n",
    "    k_means = KMeans(n_clusters, random_state=0)\n",
    "    k_means.fit(data)\n",
    "\n",
    "    #Store the predicted labels\n",
    "    km_preds_gb = []\n",
    "    km_preds_gb.append(k_means.predict(data))\n",
    "    \n",
    "    clustering_metrics(k_means, data)\n",
    "    \n",
    "    return km_preds_gb\n",
    "    \n",
    "\n",
    "\n",
    "def HAC(n_clusters, data):\n",
    "    \n",
    "    #Instantiate and run a HAC algorithm\n",
    "    HAC = AgglomerativeClustering(n_clusters)\n",
    "\n",
    "    #Store the predicted labels\n",
    "    hac_preds_gb = []\n",
    "    hac_preds_gb.append(HAC.fit_predict(data))\n",
    "    clustering_metrics(HAC, data)\n",
    "    \n",
    "    return hac_preds_gb\n",
    "\n",
    "def DB_Clustering(ep, min_points, alg, data):\n",
    "    \n",
    "    db = DBSCAN(eps=float(ep), min_samples=float(min_points), algorithm=str(alg))\n",
    "    #Store the predicted labels\n",
    "    db_preds_gb = []\n",
    "    preds = db.fit_predict(data)\n",
    "    db_preds_gb.append(preds)\n",
    "    clustering_metrics(db, data)\n",
    "    \n",
    "    # Fit the models\n",
    "    clm46 = db.fit(data)\n",
    "    # Print DBSCAN results\n",
    "    print('*************** DBSCAN Clustering Model ***************')\n",
    "    print(\"Cluster labels\")\n",
    "    print(np.unique(clm46.labels_))\n",
    "    \n",
    "    return db_preds_gb \n",
    "\n",
    "\n",
    "def Mean_Shift(b, data):\n",
    "    \n",
    "    ms = MeanShift(bandwidth=float(b)) \n",
    "    ms.fit(data)\n",
    "\n",
    "    yhat = ms.predict(data)\n",
    "\n",
    "    ms_preds_gb = []\n",
    "    #Store the predicted labels\n",
    "    ms_preds_gb.append(yhat)\n",
    "    \n",
    "    clustering_metrics(ms, data)\n",
    "    \n",
    "    return ms_preds_gb\n",
    "\n",
    "def GMM(n_comp, covar, data):\n",
    "    \n",
    "    gmm = GaussianMixture(n_components=int(n_comp),covariance_type=str(covar), random_state = 100)\n",
    "    gmm_preds_gb = []\n",
    "    weights = []\n",
    "    gmm.fit(data)\n",
    "    preds = gmm.predict(data)\n",
    "    weight = gmm.predict_proba(data)\n",
    "    clustering_metrics(gmm, data, clust = 'BIC')\n",
    "    gmm_preds_gb.append(preds)\n",
    "    \n",
    "    return gmm_preds_gb, weight\n",
    "\n",
    "# Finalize the data function\n",
    "# We will output this with our main function at the very end --> Section 4\n",
    "def constituency_clusters(cluster_df, data, GMM=None):      \n",
    "\n",
    "    if GMM == True:\n",
    "        dframe = pd.concat([data, cluster_df], join='inner', axis=1)[['Constituency', 'Region', 'seat_types_yg', 'Colors', 'Cluster', 'Weights']]\n",
    "    else:\n",
    "        dframe = pd.concat([data, cluster_df], join='inner', axis=1)[['Constituency', 'Region', 'seat_types_yg', 'Colors', 'Cluster']]\n",
    "    dframe = dframe.loc[:,~dframe.columns.duplicated()].reset_index()\n",
    "\n",
    "    return dframe"
   ]
  },
  {
   "cell_type": "code",
   "execution_count": null,
   "id": "a8f545f3",
   "metadata": {},
   "outputs": [],
   "source": []
  },
  {
   "cell_type": "code",
   "execution_count": 59,
   "id": "55e80060",
   "metadata": {},
   "outputs": [],
   "source": [
    "def DBScan_func(dim_red, metric, data, snp_inc=True):\n",
    "\n",
    "    score = []\n",
    "    # Define ranges to explore\n",
    "    eps_range=range(3,13)  \n",
    "    minpts_range=range(3,11)\n",
    "    if snp_inc == False:\n",
    "        eps_range=range(3,6)  \n",
    "    \n",
    "    for k in eps_range:\n",
    "        for j in minpts_range:\n",
    "            for x in ['auto', 'ball_tree', 'kd_tree', 'brute']:\n",
    "            \n",
    "                if str(dim_red) == 'PCA':\n",
    "                    model = DBSCAN(eps=k, min_samples=j, algorithm=x)\n",
    "                    clm = model.fit(data)\n",
    "                    score_d = davies_bouldin_score(data, clm.labels_)\n",
    "                    score_s = metrics.silhouette_score(data, clm.labels_, metric='euclidean')\n",
    "                    score_h = metrics.calinski_harabasz_score(data, clm.labels_)\n",
    "                    score.append((k, j, score_d, score_s, score_h, x))\n",
    "\n",
    "                elif str(dim_red) == 'UMAP':\n",
    "                    model = DBSCAN(eps=k/10, min_samples=j, algorithm=x)\n",
    "                    clm = model.fit(data)\n",
    "                    score_d = metrics.davies_bouldin_score(data, clm.labels_)\n",
    "                    score_s = metrics.silhouette_score(data, clm.labels_, metric='euclidean')\n",
    "                    score_h = metrics.calinski_harabasz_score(data, clm.labels_)\n",
    "                    score.append((k/10, j, score_d, score_s, score_h, x))\n",
    "                \n",
    "    score_1 = pd.DataFrame(score)\n",
    "    score_1.columns = ['Epsilon', 'Minimum_points', 'Davies_Bouldin_Score', 'Silhouette_Score', 'Calinski_Harabasz', 'Algorithm']\n",
    "    \n",
    "    if str(metric) == 'Davies Bouldin':\n",
    "        score_2 = score_1[score_1.Davies_Bouldin_Score == score_1.Davies_Bouldin_Score.min()]\n",
    "        \n",
    "    elif str(metric) == 'Silhouette':\n",
    "        score_2 = score_1[score_1.Silhouette_Score == score_1.Silhouette_Score.max()] \n",
    "        \n",
    "    elif str(metric) == 'Calinski':\n",
    "        score_2 = score_1[score_1.Calinski_Harabasz == score_1.Calinski_Harabasz.max()]\n",
    "    \n",
    "    return score_2.head(2)\n",
    "\n",
    "\n",
    "def Gaussian_MM_metrics(dim_red, metric, data):\n",
    "    \n",
    "        \n",
    "    score = []\n",
    "    n_components = range(2, 20)\n",
    "    covariance_type = ['spherical', 'tied', 'diag', 'full']\n",
    "    \n",
    "    for cov in covariance_type:\n",
    "        for n_comp in n_components:\n",
    "            gmm=GaussianMixture(n_components=n_comp,covariance_type=cov, random_state=101, reg_covar=1e-04)\n",
    "            gmm.fit(data)\n",
    "            model2 = gmm.predict(data)\n",
    "            Calin  = calinski_harabasz_score(data, model2)\n",
    "            Silh   = silhouette_score(data, model2) \n",
    "            Davies = davies_bouldin_score(data, model2)\n",
    "            score.append((cov,n_comp, gmm.bic(data), Calin, Silh, Davies))\n",
    "            \n",
    "            \n",
    "    score_1 = pd.DataFrame(score)\n",
    "    score_1.columns = ['Covariance_Type', 'N_Components', 'BIC_Score', 'Calinski_Harabasz_Score', \\\n",
    "                       'Silhouette_Score', 'Davies_Bouldin_Score']\n",
    "    \n",
    "        \n",
    "    if str(metric) == 'BIC':\n",
    "        score_2 = score_1[score_1.BIC_Score == score_1.BIC_Score.min()]\n",
    "        \n",
    "    elif str(metric) == 'Davies Bouldin':\n",
    "        score_2 = score_1[score_1.Davies_Bouldin_Score == score_1.Davies_Bouldin_Score.min()]\n",
    "        \n",
    "    elif str(metric) == 'Silhouette':\n",
    "        score_2 = score_1[score_1.Silhouette_Score == score_1.Silhouette_Score.max()]      \n",
    "        \n",
    "    elif str(metric) == 'Calinski':\n",
    "        score_2 = score_1[score_1.Calinski_Harabasz_Score == score_1.Calinski_Harabasz_Score.max()]\n",
    "        \n",
    "    return score_2.head(2)\n",
    "\n",
    "\n",
    "def Mean_Shift_metrics(dim_red, metric, data):\n",
    "    \n",
    "    if str(dim_red) == 'PCA':\n",
    "        bandwidths = range(2, 11)\n",
    "    elif str(dim_red) == 'UMAP':\n",
    "        bandwidths = np.round(np.linspace(0.2, 1.2, 11), 2)\n",
    "            \n",
    "    score = []\n",
    "\n",
    "    for b in bandwidths:\n",
    "        ms = MeanShift(bandwidth=b)\n",
    "        model = ms.fit(data)\n",
    "        model_2 = model.predict(data)\n",
    "        score_c = calinski_harabasz_score(data, model_2)\n",
    "        score_d = davies_bouldin_score(data, model_2)\n",
    "        score_s = silhouette_score(data, model_2, metric='euclidean')\n",
    "        \n",
    "        score.append((b, score_c, score_d, score_s))\n",
    "        \n",
    "    score_1 = pd.DataFrame(score)\n",
    "    score_1.columns = ['Bandwidth', 'Calinski_Harabasz_Score', 'Davies_Bouldin_Score', 'Silhouette_Score']\n",
    "    \n",
    "    if str(metric) == 'Davies Bouldin':\n",
    "        score_2 = score_1[score_1.Davies_Bouldin_Score == score_1.Davies_Bouldin_Score.min()]\n",
    "        \n",
    "    elif str(metric) == 'Silhouette':\n",
    "        score_2 = score_1[score_1.Silhouette_Score == score_1.Silhouette_Score.max()]      \n",
    "        \n",
    "    elif str(metric) == 'Calinski':\n",
    "        score_2 = score_1[score_1.Calinski_Harabasz_Score == score_1.Calinski_Harabasz_Score.max()]\n",
    "        \n",
    "    else:\n",
    "        print('Try again!')\n",
    "        \n",
    "    return score_2.head(2)"
   ]
  },
  {
   "cell_type": "markdown",
   "id": "435e3db2",
   "metadata": {},
   "source": [
    "# Section 4 - Final"
   ]
  },
  {
   "cell_type": "markdown",
   "id": "acb0e61f",
   "metadata": {},
   "source": [
    "### Our main function "
   ]
  },
  {
   "cell_type": "code",
   "execution_count": 60,
   "id": "f59d9ecb",
   "metadata": {},
   "outputs": [],
   "source": [
    "def WDSS_clustering(data, dim_reduction, clustering_method, metric_visuals=False, map_plot=False, cluster_bar=False,\n",
    "                   metric=None, heatmap=False, dendrogram=False, snp_included=True):\n",
    "    \n",
    "    # Dimensionality Reduction \n",
    "    \n",
    "    if dim_reduction == 'PCA':\n",
    "        if snp_included == False:\n",
    "            data_main = PCA_df_gb_without_snp\n",
    "        else:\n",
    "            data_main = PCA_df_gb\n",
    "            \n",
    "    elif dim_reduction == 'UMAP':\n",
    "        if snp_included == False:\n",
    "            data_main = umap_df_without_snp\n",
    "        else:\n",
    "            data_main = umap_df\n",
    "            \n",
    " # Clustering Algorithms\n",
    " # K-Means:   \n",
    "    \n",
    "    if clustering_method == 'KMeans':\n",
    "        model = KMeans(random_state=0)\n",
    "\n",
    "        if metric_visuals == True:\n",
    "            metr = input(\"Please input the metric of your choice from ['Distortion', 'Silhouette', 'Calinski', 'Davies Bouldin']: \")\n",
    "            if metr == 'Davies Bouldin':\n",
    "                display(Davies_Bouldin_Viz(clustering_method, data_main))\n",
    "            else:\n",
    "                elbow_visuals(metr, model, data_main)\n",
    "        n_clust = int(input(\"Enter number of clusters: \"))\n",
    "        preds_gb = K_Means(n_clust, data_main)\n",
    "            \n",
    "            \n",
    "     # HAC: \n",
    "    elif clustering_method == 'HAC':\n",
    "        model = AgglomerativeClustering()\n",
    "        \n",
    "        if metric_visuals == True:\n",
    "            metr = input(\"Please input from the visuals of your choice ['Distortion', 'Silhouette', 'Calinski', 'Davies Bouldin']: \")\n",
    "            if metr == 'Davies Bouldin':\n",
    "                display(Davies_Bouldin_Viz(clustering_method, data_main))\n",
    "            else:\n",
    "                elbow_visuals(metr, model, data_main)\n",
    "                    \n",
    "        if dendrogram == True:\n",
    "            dendro_hac(model, data_main)\n",
    "                     \n",
    "        n_clust = int(input(\"Enter number of clusters: \"))\n",
    "        preds_gb = HAC(n_clust, data_main)\n",
    "            \n",
    "            \n",
    "     # DB Scan:\n",
    "    elif clustering_method == 'DBScan':  \n",
    "\n",
    "        if metric_visuals == True:\n",
    "            metr = input(\"Please input the metric of your choice from ['Davies Bouldin', 'Silhouette', 'Calinski']: \")\n",
    "            display(DBScan_func(dim_reduction, metr, data_main, snp_inc=snp_included))\n",
    "\n",
    "        if dim_reduction == 'UMAP':\n",
    "            ep = input(\"Enter epsilon value from 0.3 or above: \")\n",
    "        else:\n",
    "            ep = input(\"Enter epsilon value from 3 or above: \")\n",
    "            \n",
    "        mns = input(\"Enter minimum samples value from 3 or above: \")\n",
    "        algo = input(\"Enter algorithm type from the list: [‘auto’, ‘ball_tree’, ‘kd_tree’, ‘brute’]: \")\n",
    "        preds_gb = DB_Clustering(ep, mns, algo, data_main)\n",
    "        \n",
    "    # Mean Shift\n",
    "            \n",
    "    elif clustering_method == 'MS':\n",
    "\n",
    "        if metric_visuals == True:\n",
    "            metr = input(\"Please input the metric of your choice from ['Davies Bouldin', 'Silhouette', 'Calinski']: \")\n",
    "            display(Mean_Shift_metrics(dim_reduction, metr, data_main))\n",
    "                \n",
    "        b = input(\"Enter bandwidth for Mean Shift: \")\n",
    "        preds_gb = Mean_Shift(b, data_main)\n",
    "            \n",
    "            \n",
    "     # GMM:\n",
    "            \n",
    "    elif clustering_method == 'GMM':\n",
    "\n",
    "        if metric_visuals == True:\n",
    "            metr = input(\"Please input the metric of your choice from ['BIC', 'Davies Bouldin', 'Silhouette', 'Calinski']: \")\n",
    "            display(Gaussian_MM_metrics(dim_reduction, metr, data_main))\n",
    "                \n",
    "        n_compon = input(\"Enter number of components/clusters for GMM: \")\n",
    "        covar = input(\"Enter the covariance type for GMM: \")\n",
    "        preds_gb, weights = GMM(n_compon, str(covar), data_main)\n",
    "    \n",
    "        max_weights = []\n",
    "        for i in weights:\n",
    "            max_weights.append(i.max().round(6))\n",
    "    \n",
    "    if clustering_method == 'GMM':\n",
    "        gb_cluster_yg, gb_cluster_yg_pivot, gb_cluster_yg_2 = cluster_dataframes(preds_gb, GMM=True, max_weights=max_weights)\n",
    "        \n",
    "    else:   \n",
    "        gb_cluster_yg, gb_cluster_yg_pivot = cluster_dataframes(preds_gb)\n",
    "    \n",
    "    if len(np.unique(gb_cluster_yg['Cluster'])) >= 15:\n",
    "        print(\"Too many clusters to show - reduce clusters from the current {} clusters\".format(len(np.unique(gb_cluster_yg['Cluster']))))\n",
    "        return gb_cluster_yg\n",
    "    \n",
    "    else:\n",
    "\n",
    "        gb_cluster_yg['Colors'] = gb_cluster_yg['Cluster'].map(lambda x: color_list[x])\n",
    "        if cluster_bar == True:\n",
    "\n",
    "            cluster_bar_visual(gb_cluster_yg_pivot, snp_included)\n",
    "\n",
    "        if map_plot == True:\n",
    "            Map_cluster(gb_cluster_yg)\n",
    "\n",
    "            \n",
    "        if clustering_method == 'GMM':\n",
    "            gb_cluster_yg_2['Colors'] = gb_cluster_yg['Cluster'].map(lambda x: color_list[x])\n",
    "            df = constituency_clusters(gb_cluster_yg_2, data, GMM=True)\n",
    "            \n",
    "        else:\n",
    "            df = constituency_clusters(gb_cluster_yg, data)\n",
    "\n",
    "\n",
    "        #Define a standard list of KPIs to look at\n",
    "\n",
    "        if heatmap == True:\n",
    "            if snp_included == True:\n",
    "\n",
    "                kpis_gb = ['Pop_Density','2019_Wage', 'HousePricePerWage', '%HousePriceGrowth','%OwnOutright','%OwnWithMort',\n",
    "                      '%PrivateRent','%SocialHousing','%Unemployment', 'UnemploymentChange',\n",
    "                      '%Heavy Industry & Manufacturing', '%Wholesale & Retail',\n",
    "                      '%FS & ICT', '%White', '%Muslim', '%BornUK','%Level4+', '%LeaveVote', 'con%', 'snp%', 'lab%']\n",
    "\n",
    "                kpi_heatmap(kpis_gb, gb_cluster_yg)\n",
    "                \n",
    "            elif snp_included == False:\n",
    "                kpis_gb = ['Pop_Density','2019_Wage', 'HousePricePerWage', '%HousePriceGrowth','%OwnOutright','%OwnWithMort',\n",
    "                '%PrivateRent','%SocialHousing','%Unemployment', 'UnemploymentChange',\n",
    "                '%Heavy Industry & Manufacturing', '%Wholesale & Retail',\n",
    "                '%FS & ICT', '%White', '%Muslim', '%BornUK','%Level4+', '%LeaveVote', 'con%', 'ld%', 'lab%']\n",
    "\n",
    "                kpi_heatmap(kpis_gb, gb_cluster_yg, snp=False)\n",
    "        \n",
    "\n",
    "        return df"
   ]
  },
  {
   "cell_type": "code",
   "execution_count": 23,
   "id": "098d1710",
   "metadata": {
    "scrolled": true
   },
   "outputs": [
    {
     "name": "stdout",
     "output_type": "stream",
     "text": [
      "Requirement already satisfied: itables in c:\\users\\areeb\\anaconda3\\lib\\site-packages (0.4.5)\n",
      "Requirement already satisfied: IPython in c:\\users\\areeb\\anaconda3\\lib\\site-packages (from itables) (8.1.1)\n",
      "Requirement already satisfied: pandas in c:\\users\\areeb\\anaconda3\\lib\\site-packages (from itables) (1.4.1)\n",
      "Requirement already satisfied: pickleshare in c:\\users\\areeb\\anaconda3\\lib\\site-packages (from IPython->itables) (0.7.5)\n",
      "Requirement already satisfied: pygments>=2.4.0 in c:\\users\\areeb\\anaconda3\\lib\\site-packages (from IPython->itables) (2.11.2)\n",
      "Requirement already satisfied: stack-data in c:\\users\\areeb\\anaconda3\\lib\\site-packages (from IPython->itables) (0.2.0)\n",
      "Requirement already satisfied: setuptools>=18.5 in c:\\users\\areeb\\anaconda3\\lib\\site-packages (from IPython->itables) (58.0.4)\n",
      "Requirement already satisfied: decorator in c:\\users\\areeb\\anaconda3\\lib\\site-packages (from IPython->itables) (5.1.1)\n",
      "Requirement already satisfied: traitlets>=5 in c:\\users\\areeb\\anaconda3\\lib\\site-packages (from IPython->itables) (5.1.1)\n",
      "Requirement already satisfied: colorama in c:\\users\\areeb\\anaconda3\\lib\\site-packages (from IPython->itables) (0.4.4)\n",
      "Requirement already satisfied: matplotlib-inline in c:\\users\\areeb\\anaconda3\\lib\\site-packages (from IPython->itables) (0.1.2)\n",
      "Requirement already satisfied: jedi>=0.16 in c:\\users\\areeb\\anaconda3\\lib\\site-packages (from IPython->itables) (0.18.1)\n",
      "Requirement already satisfied: prompt-toolkit!=3.0.0,!=3.0.1,<3.1.0,>=2.0.0 in c:\\users\\areeb\\anaconda3\\lib\\site-packages (from IPython->itables) (3.0.20)\n",
      "Requirement already satisfied: backcall in c:\\users\\areeb\\anaconda3\\lib\\site-packages (from IPython->itables) (0.2.0)\n",
      "Requirement already satisfied: parso<0.9.0,>=0.8.0 in c:\\users\\areeb\\anaconda3\\lib\\site-packages (from jedi>=0.16->IPython->itables) (0.8.3)\n",
      "Requirement already satisfied: wcwidth in c:\\users\\areeb\\anaconda3\\lib\\site-packages (from prompt-toolkit!=3.0.0,!=3.0.1,<3.1.0,>=2.0.0->IPython->itables) (0.2.5)\n",
      "Requirement already satisfied: numpy>=1.18.5 in c:\\users\\areeb\\anaconda3\\lib\\site-packages (from pandas->itables) (1.21.5)\n",
      "Requirement already satisfied: python-dateutil>=2.8.1 in c:\\users\\areeb\\anaconda3\\lib\\site-packages (from pandas->itables) (2.8.2)\n",
      "Requirement already satisfied: pytz>=2020.1 in c:\\users\\areeb\\anaconda3\\lib\\site-packages (from pandas->itables) (2021.3)\n",
      "Requirement already satisfied: six>=1.5 in c:\\users\\areeb\\anaconda3\\lib\\site-packages (from python-dateutil>=2.8.1->pandas->itables) (1.16.0)\n",
      "Requirement already satisfied: executing in c:\\users\\areeb\\anaconda3\\lib\\site-packages (from stack-data->IPython->itables) (0.8.3)\n",
      "Requirement already satisfied: pure-eval in c:\\users\\areeb\\anaconda3\\lib\\site-packages (from stack-data->IPython->itables) (0.2.2)\n",
      "Requirement already satisfied: asttokens in c:\\users\\areeb\\anaconda3\\lib\\site-packages (from stack-data->IPython->itables) (2.0.5)\n"
     ]
    }
   ],
   "source": [
    "!pip install itables"
   ]
  },
  {
   "cell_type": "code",
   "execution_count": 24,
   "id": "07187222",
   "metadata": {},
   "outputs": [],
   "source": [
    "import itables"
   ]
  },
  {
   "cell_type": "code",
   "execution_count": 25,
   "id": "b1117567-846e-41e1-a67e-b1ddbb04ebd4",
   "metadata": {},
   "outputs": [
    {
     "data": {
      "application/javascript": [
       "if (typeof require !== 'undefined')\n",
       "    require.config({\n",
       "        paths: {\n",
       "            jquery: 'https://code.jquery.com/jquery-3.5.1.min',\n",
       "            datatables: 'https://cdn.datatables.net/1.11.3/js/jquery.dataTables.min',\n",
       "        }\n",
       "    });\n"
      ],
      "text/plain": [
       "<IPython.core.display.Javascript object>"
      ]
     },
     "metadata": {},
     "output_type": "display_data"
    }
   ],
   "source": [
    "itables.init_notebook_mode(all_interactive=False) # to activate\n",
    "# init_notebook_mode(all_interactive=False) # to deactivate interactive table"
   ]
  },
  {
   "cell_type": "code",
   "execution_count": 81,
   "id": "ae4342ad",
   "metadata": {
    "scrolled": false
   },
   "outputs": [
    {
     "name": "stdout",
     "output_type": "stream",
     "text": [
      "Please input the metric of your choice from ['Distortion', 'Silhouette', 'Calinski', 'Davies Bouldin']: Davies Bouldin\n"
     ]
    },
    {
     "data": {
      "text/html": [
       "<div>\n",
       "<style scoped>\n",
       "    .dataframe tbody tr th:only-of-type {\n",
       "        vertical-align: middle;\n",
       "    }\n",
       "\n",
       "    .dataframe tbody tr th {\n",
       "        vertical-align: top;\n",
       "    }\n",
       "\n",
       "    .dataframe thead th {\n",
       "        text-align: right;\n",
       "    }\n",
       "</style>\n",
       "<table border=\"1\" class=\"dataframe\">\n",
       "  <thead>\n",
       "    <tr style=\"text-align: right;\">\n",
       "      <th></th>\n",
       "      <th># Clusters</th>\n",
       "      <th>Davies_Bouldin_Score</th>\n",
       "    </tr>\n",
       "  </thead>\n",
       "  <tbody>\n",
       "    <tr>\n",
       "      <th>6</th>\n",
       "      <td>8</td>\n",
       "      <td>0.745156</td>\n",
       "    </tr>\n",
       "  </tbody>\n",
       "</table>\n",
       "</div>"
      ],
      "text/plain": [
       "   # Clusters  Davies_Bouldin_Score\n",
       "6           8              0.745156"
      ]
     },
     "metadata": {},
     "output_type": "display_data"
    },
    {
     "name": "stdout",
     "output_type": "stream",
     "text": [
      "Enter number of clusters: 8\n",
      "Silhouette Score: 0.4458\n",
      "Calinski Harabasz Score: 770.5898\n",
      "Davies Bouldin Score: 0.7455\n"
     ]
    },
    {
     "data": {
      "text/html": [
       "<div>\n",
       "<style scoped>\n",
       "    .dataframe tbody tr th:only-of-type {\n",
       "        vertical-align: middle;\n",
       "    }\n",
       "\n",
       "    .dataframe tbody tr th {\n",
       "        vertical-align: top;\n",
       "    }\n",
       "\n",
       "    .dataframe thead th {\n",
       "        text-align: right;\n",
       "    }\n",
       "</style>\n",
       "<table border=\"1\" class=\"dataframe\">\n",
       "  <thead>\n",
       "    <tr style=\"text-align: right;\">\n",
       "      <th></th>\n",
       "      <th>ID</th>\n",
       "      <th>Constituency</th>\n",
       "      <th>Region</th>\n",
       "      <th>seat_types_yg</th>\n",
       "      <th>Colors</th>\n",
       "      <th>Cluster</th>\n",
       "    </tr>\n",
       "  </thead>\n",
       "  <tbody>\n",
       "    <tr>\n",
       "      <th>0</th>\n",
       "      <td>E14000554</td>\n",
       "      <td>Berwick-upon-Tweed</td>\n",
       "      <td>North East</td>\n",
       "      <td>con safe</td>\n",
       "      <td>#187970</td>\n",
       "      <td>6</td>\n",
       "    </tr>\n",
       "    <tr>\n",
       "      <th>1</th>\n",
       "      <td>E14000569</td>\n",
       "      <td>Bishop Auckland</td>\n",
       "      <td>North East</td>\n",
       "      <td>con lab marginal</td>\n",
       "      <td>#47DBCD</td>\n",
       "      <td>1</td>\n",
       "    </tr>\n",
       "    <tr>\n",
       "      <th>2</th>\n",
       "      <td>E14000574</td>\n",
       "      <td>Blaydon</td>\n",
       "      <td>North East</td>\n",
       "      <td>lab safe</td>\n",
       "      <td>#47DBCD</td>\n",
       "      <td>1</td>\n",
       "    </tr>\n",
       "    <tr>\n",
       "      <th>3</th>\n",
       "      <td>E14000575</td>\n",
       "      <td>Blyth Valley</td>\n",
       "      <td>North East</td>\n",
       "      <td>con lab marginal</td>\n",
       "      <td>#47DBCD</td>\n",
       "      <td>1</td>\n",
       "    </tr>\n",
       "    <tr>\n",
       "      <th>4</th>\n",
       "      <td>E14000641</td>\n",
       "      <td>City of Durham</td>\n",
       "      <td>North East</td>\n",
       "      <td>con lab marginal</td>\n",
       "      <td>#016794</td>\n",
       "      <td>5</td>\n",
       "    </tr>\n",
       "  </tbody>\n",
       "</table>\n",
       "</div>"
      ],
      "text/plain": [
       "          ID        Constituency      Region     seat_types_yg   Colors  \\\n",
       "0  E14000554  Berwick-upon-Tweed  North East          con safe  #187970   \n",
       "1  E14000569     Bishop Auckland  North East  con lab marginal  #47DBCD   \n",
       "2  E14000574             Blaydon  North East          lab safe  #47DBCD   \n",
       "3  E14000575        Blyth Valley  North East  con lab marginal  #47DBCD   \n",
       "4  E14000641      City of Durham  North East  con lab marginal  #016794   \n",
       "\n",
       "   Cluster  \n",
       "0        6  \n",
       "1        1  \n",
       "2        1  \n",
       "3        1  \n",
       "4        5  "
      ]
     },
     "execution_count": 81,
     "metadata": {},
     "output_type": "execute_result"
    },
    {
     "data": {
      "image/png": "[encoded data removed]",
      "text/plain": [
       "<Figure size 432x288 with 1 Axes>"
      ]
     },
     "metadata": {
      "needs_background": "light"
     },
     "output_type": "display_data"
    },
    {
     "data": {
      "image/png": "[encoded data removed]",
      "text/plain": [
       "<Figure size 864x360 with 1 Axes>"
      ]
     },
     "metadata": {
      "needs_background": "light"
     },
     "output_type": "display_data"
    },
    {
     "data": {
      "image/png": "[encoded data removed]",
      "text/plain": [
       "<Figure size 792x1228.97 with 2 Axes>"
      ]
     },
     "metadata": {},
     "output_type": "display_data"
    },
    {
     "data": {
      "image/png": "[encoded data removed]",
      "text/plain": [
       "<Figure size 1164.24x403.2 with 2 Axes>"
      ]
     },
     "metadata": {
      "needs_background": "light"
     },
     "output_type": "display_data"
    }
   ],
   "source": [
    "## Clustering Methods: HAC, KMeans, DBScan, GMM, MS\n",
    "dat = WDSS_clustering(data=df_con, dim_reduction='UMAP', clustering_method='KMeans', map_plot=True, metric_visuals=True,\n",
    "                     cluster_bar=True, heatmap=True, dendrogram=False, snp_included=False)\n",
    "dat.head()"
   ]
  },
  {
   "cell_type": "code",
   "execution_count": 82,
   "id": "d4fccc9f",
   "metadata": {},
   "outputs": [
    {
     "data": {
      "application/vnd.plotly.v1+json": {
       "config": {
        "plotlyServerURL": "https://plot.ly"
       },
       "data": [
        {
         "customdata": [
          [
           "Berwick-upon-Tweed",
           "North East",
           6,
           "con safe"
          ],
          [
           "Hexham",
           "North East",
           6,
           "con safe"
          ],
          [
           "Penrith and The Border",
           "North West",
           6,
           "con safe"
          ],
          [
           "Southport",
           "North West",
           6,
           "con safe"
          ],
          [
           "Westmorland and Lonsdale",
           "North West",
           6,
           "con ld marginal"
          ],
          [
           "East Yorkshire",
           "Yorkshire and The Humber",
           6,
           "con safe"
          ],
          [
           "Scarborough and Whitby",
           "Yorkshire and The Humber",
           6,
           "con safe"
          ],
          [
           "Skipton and Ripon",
           "Yorkshire and The Humber",
           6,
           "con safe"
          ],
          [
           "Thirsk and Malton",
           "Yorkshire and The Humber",
           6,
           "con safe"
          ],
          [
           "Boston and Skegness",
           "East Midlands",
           6,
           "con safe"
          ],
          [
           "Derbyshire Dales",
           "East Midlands",
           6,
           "con safe"
          ],
          [
           "Gainsborough",
           "East Midlands",
           6,
           "con safe"
          ],
          [
           "Louth and Horncastle",
           "East Midlands",
           6,
           "con safe"
          ],
          [
           "South Holland and The Deepings",
           "East Midlands",
           6,
           "con safe"
          ],
          [
           "Hereford and South Herefordshire",
           "West Midlands",
           6,
           "con safe"
          ],
          [
           "Ludlow",
           "West Midlands",
           6,
           "con safe"
          ],
          [
           "North Herefordshire",
           "West Midlands",
           6,
           "con safe"
          ],
          [
           "North Shropshire",
           "West Midlands",
           6,
           "con safe"
          ],
          [
           "Shrewsbury and Atcham",
           "West Midlands",
           6,
           "con safe"
          ],
          [
           "West Worcestershire",
           "West Midlands",
           6,
           "con safe"
          ],
          [
           "Broadland",
           "East of England",
           6,
           "con safe"
          ],
          [
           "Central Suffolk and North Ipswich",
           "East of England",
           6,
           "con safe"
          ],
          [
           "Clacton",
           "East of England",
           6,
           "con safe"
          ],
          [
           "Great Yarmouth",
           "East of England",
           6,
           "con safe"
          ],
          [
           "Harwich and North Essex",
           "East of England",
           6,
           "con safe"
          ],
          [
           "Mid Norfolk",
           "East of England",
           6,
           "con safe"
          ],
          [
           "North Norfolk",
           "East of England",
           6,
           "con ld marginal"
          ],
          [
           "North West Norfolk",
           "East of England",
           6,
           "con safe"
          ],
          [
           "South Norfolk",
           "East of England",
           6,
           "con safe"
          ],
          [
           "South West Norfolk",
           "East of England",
           6,
           "con safe"
          ],
          [
           "Waveney",
           "East of England",
           6,
           "con safe"
          ],
          [
           "Bexhill and Battle",
           "South East",
           6,
           "con safe"
          ],
          [
           "Bognor Regis and Littlehampton",
           "South East",
           6,
           "con safe"
          ],
          [
           "Chichester",
           "South East",
           6,
           "con safe"
          ],
          [
           "Eastbourne",
           "South East",
           6,
           "con ld marginal"
          ],
          [
           "Hastings and Rye",
           "South East",
           6,
           "con lab marginal"
          ],
          [
           "Isle of Wight",
           "South East",
           6,
           "con safe"
          ],
          [
           "New Forest West",
           "South East",
           6,
           "con safe"
          ],
          [
           "North Thanet",
           "South East",
           6,
           "con safe"
          ],
          [
           "South Thanet",
           "South East",
           6,
           "con safe"
          ],
          [
           "Bridgwater and West Somerset",
           "South West",
           6,
           "con safe"
          ],
          [
           "Camborne and Redruth",
           "South West",
           6,
           "con lab marginal"
          ],
          [
           "Central Devon",
           "South West",
           6,
           "con safe"
          ],
          [
           "Christchurch",
           "South West",
           6,
           "con safe"
          ],
          [
           "East Devon",
           "South West",
           6,
           "con safe"
          ],
          [
           "Forest of Dean",
           "South West",
           6,
           "con safe"
          ],
          [
           "Newton Abbot",
           "South West",
           6,
           "con safe"
          ],
          [
           "North Cornwall",
           "South West",
           6,
           "con safe"
          ],
          [
           "North Devon",
           "South West",
           6,
           "con safe"
          ],
          [
           "North Dorset",
           "South West",
           6,
           "con safe"
          ],
          [
           "Somerton and Frome",
           "South West",
           6,
           "con safe"
          ],
          [
           "South Dorset",
           "South West",
           6,
           "con safe"
          ],
          [
           "South East Cornwall",
           "South West",
           6,
           "con safe"
          ],
          [
           "St Austell and Newquay",
           "South West",
           6,
           "con safe"
          ],
          [
           "St Ives",
           "South West",
           6,
           "con ld marginal"
          ],
          [
           "Taunton Deane",
           "South West",
           6,
           "con safe"
          ],
          [
           "Tiverton and Honiton",
           "South West",
           6,
           "con safe"
          ],
          [
           "Torbay",
           "South West",
           6,
           "con safe"
          ],
          [
           "Torridge and West Devon",
           "South West",
           6,
           "con safe"
          ],
          [
           "Totnes",
           "South West",
           6,
           "con safe"
          ],
          [
           "Truro and Falmouth",
           "South West",
           6,
           "con lab marginal"
          ],
          [
           "Wells",
           "South West",
           6,
           "con ld marginal"
          ],
          [
           "West Dorset",
           "South West",
           6,
           "con safe"
          ],
          [
           "Weston-Super-Mare",
           "South West",
           6,
           "con safe"
          ],
          [
           "Yeovil",
           "South West",
           6,
           "con safe"
          ],
          [
           "Na h-Eileanan An Iar",
           "Scotland",
           6,
           "snp safe"
          ],
          [
           "North East Fife",
           "Scotland",
           6,
           "ld snp marginal"
          ],
          [
           "Orkney and Shetland",
           "Scotland",
           6,
           "ld snp marginal"
          ],
          [
           "Ynys Mon",
           "Wales",
           6,
           "con lab marginal"
          ],
          [
           "Monmouth",
           "Wales",
           6,
           "con safe"
          ],
          [
           "Aberconwy",
           "Wales",
           6,
           "con lab marginal"
          ],
          [
           "Clwyd West",
           "Wales",
           6,
           "con safe"
          ],
          [
           "Vale of Clwyd",
           "Wales",
           6,
           "con lab marginal"
          ],
          [
           "Dwyfor Meirionnydd",
           "Wales",
           6,
           "pc safe"
          ],
          [
           "Montgomeryshire",
           "Wales",
           6,
           "con safe"
          ],
          [
           "Ceredigion",
           "Wales",
           6,
           "ld pc marginal"
          ],
          [
           "Preseli Pembrokeshire",
           "Wales",
           6,
           "con lab marginal"
          ],
          [
           "Carmarthen West and Pembrokeshire South",
           "Wales",
           6,
           "con lab marginal"
          ],
          [
           "Carmarthen East and Dinefwr",
           "Wales",
           6,
           "con pc marginal"
          ],
          [
           "Brecon and Radnorshire",
           "Wales",
           6,
           "con ld marginal"
          ]
         ],
         "hovertemplate": "Constituency: %{customdata[0]}<br>Region: %{customdata[1]}<br>Cluster: %{customdata[2]}<br>YouGov Seat: %{customdata[3]}",
         "legendgroup": "#187970",
         "marker": {
          "color": "#636efa",
          "line": {
           "width": 0
          },
          "size": 12,
          "symbol": "square"
         },
         "mode": "markers",
         "name": "#187970",
         "orientation": "v",
         "showlegend": true,
         "type": "scatter",
         "x": [
          -4,
          -4,
          -5,
          -9,
          -4,
          3,
          2,
          -4,
          1,
          4,
          -3,
          2,
          4,
          4,
          -7,
          -8,
          -8,
          -8,
          -9,
          -7,
          7,
          10,
          10,
          8,
          10,
          6,
          6,
          5,
          9,
          7,
          8,
          10,
          2,
          -1,
          9,
          11,
          -6,
          -6,
          13,
          13,
          -11,
          -15,
          -13,
          -7,
          -11,
          -7,
          -12,
          -14,
          -12,
          -7,
          -8,
          -9,
          -14,
          -15,
          -16,
          -10,
          -11,
          -13,
          -13,
          -13,
          -15,
          -10,
          -9,
          -9,
          -10,
          -8,
          -4,
          -5,
          -14,
          -8,
          -12,
          -11,
          -10,
          -12,
          -11,
          -12,
          -15,
          -15,
          -14,
          -9
         ],
         "xaxis": "x",
         "y": [
          17,
          16,
          15,
          9,
          13,
          10,
          11,
          11,
          11,
          5,
          3,
          5,
          6,
          3,
          -5,
          -2,
          -4,
          0,
          -1,
          -4,
          2,
          0,
          -3,
          2,
          -2,
          1,
          2,
          1,
          0,
          0,
          1,
          -15,
          -15,
          -15,
          -15,
          -14,
          -15,
          -12,
          -10,
          -11,
          -12,
          -17,
          -13,
          -13,
          -14,
          -6,
          -14,
          -13,
          -12,
          -12,
          -11,
          -15,
          -14,
          -15,
          -16,
          -13,
          -13,
          -15,
          -12,
          -16,
          -16,
          -12,
          -14,
          -12,
          -14,
          26,
          23,
          28,
          1,
          -5,
          0,
          0,
          0,
          -1,
          -1,
          -6,
          -7,
          -8,
          -7,
          -2
         ],
         "yaxis": "y"
        },
        {
         "customdata": [
          [
           "Bishop Auckland",
           "North East",
           1,
           "con lab marginal"
          ],
          [
           "Blaydon",
           "North East",
           1,
           "lab safe"
          ],
          [
           "Blyth Valley",
           "North East",
           1,
           "con lab marginal"
          ],
          [
           "Darlington",
           "North East",
           1,
           "con lab marginal"
          ],
          [
           "Easington",
           "North East",
           1,
           "lab safe"
          ],
          [
           "Gateshead",
           "North East",
           1,
           "lab safe"
          ],
          [
           "Hartlepool",
           "North East",
           1,
           "con lab marginal"
          ],
          [
           "Houghton and Sunderland South",
           "North East",
           1,
           "lab safe"
          ],
          [
           "Jarrow",
           "North East",
           1,
           "lab safe"
          ],
          [
           "Middlesbrough South and East Cleveland",
           "North East",
           1,
           "con safe"
          ],
          [
           "Newcastle upon Tyne North",
           "North East",
           1,
           "con lab marginal"
          ],
          [
           "North Durham",
           "North East",
           1,
           "lab safe"
          ],
          [
           "North Tyneside",
           "North East",
           1,
           "lab safe"
          ],
          [
           "North West Durham",
           "North East",
           1,
           "con lab marginal"
          ],
          [
           "Redcar",
           "North East",
           1,
           "con lab marginal"
          ],
          [
           "Sedgefield",
           "North East",
           1,
           "con lab marginal"
          ],
          [
           "South Shields",
           "North East",
           1,
           "lab safe"
          ],
          [
           "Stockton North",
           "North East",
           1,
           "con lab marginal"
          ],
          [
           "Stockton South",
           "North East",
           1,
           "con lab marginal"
          ],
          [
           "Sunderland Central",
           "North East",
           1,
           "lab safe"
          ],
          [
           "Wansbeck",
           "North East",
           1,
           "con lab marginal"
          ],
          [
           "Washington and Sunderland West",
           "North East",
           1,
           "lab safe"
          ],
          [
           "Ashton-under-Lyne",
           "North West",
           1,
           "con lab marginal"
          ],
          [
           "Barrow and Furness",
           "North West",
           1,
           "con safe"
          ],
          [
           "Birkenhead",
           "North West",
           1,
           "lab safe"
          ],
          [
           "Blackpool North and Cleveleys",
           "North West",
           1,
           "con safe"
          ],
          [
           "Blackpool South",
           "North West",
           1,
           "con lab marginal"
          ],
          [
           "Bolton North East",
           "North West",
           1,
           "con lab marginal"
          ],
          [
           "Bolton West",
           "North West",
           1,
           "con safe"
          ],
          [
           "Bootle",
           "North West",
           1,
           "lab safe"
          ],
          [
           "Burnley",
           "North West",
           1,
           "con lab marginal"
          ],
          [
           "Bury North",
           "North West",
           1,
           "con lab marginal"
          ],
          [
           "Bury South",
           "North West",
           1,
           "con lab marginal"
          ],
          [
           "Carlisle",
           "North West",
           1,
           "con safe"
          ],
          [
           "Copeland",
           "North West",
           1,
           "con safe"
          ],
          [
           "Crewe and Nantwich",
           "North West",
           1,
           "con lab marginal"
          ],
          [
           "Denton and Reddish",
           "North West",
           1,
           "lab safe"
          ],
          [
           "Ellesmere Port and Neston",
           "North West",
           1,
           "con lab marginal"
          ],
          [
           "Garston and Halewood",
           "North West",
           1,
           "lab safe"
          ],
          [
           "Halton",
           "North West",
           1,
           "lab safe"
          ],
          [
           "Heywood and Middleton",
           "North West",
           1,
           "con lab marginal"
          ],
          [
           "Hyndburn",
           "North West",
           1,
           "con lab marginal"
          ],
          [
           "Knowsley",
           "North West",
           1,
           "lab safe"
          ],
          [
           "Leigh",
           "North West",
           1,
           "con lab marginal"
          ],
          [
           "Liverpool, Walton",
           "North West",
           1,
           "lab safe"
          ],
          [
           "Liverpool, West Derby",
           "North West",
           1,
           "lab safe"
          ],
          [
           "Makerfield",
           "North West",
           1,
           "con lab marginal"
          ],
          [
           "Morecambe and Lunesdale",
           "North West",
           1,
           "con lab marginal"
          ],
          [
           "Oldham East and Saddleworth",
           "North West",
           1,
           "con lab marginal"
          ],
          [
           "Pendle",
           "North West",
           1,
           "con safe"
          ],
          [
           "Rossendale and Darwen",
           "North West",
           1,
           "con safe"
          ],
          [
           "St Helens North",
           "North West",
           1,
           "lab safe"
          ],
          [
           "St Helens South and Whiston",
           "North West",
           1,
           "lab safe"
          ],
          [
           "Stalybridge and Hyde",
           "North West",
           1,
           "con lab marginal"
          ],
          [
           "Wallasey",
           "North West",
           1,
           "lab safe"
          ],
          [
           "Warrington North",
           "North West",
           1,
           "con lab marginal"
          ],
          [
           "Warrington South",
           "North West",
           1,
           "con lab marginal"
          ],
          [
           "Weaver Vale",
           "North West",
           1,
           "con lab marginal"
          ],
          [
           "West Lancashire",
           "North West",
           1,
           "con lab marginal"
          ],
          [
           "Wigan",
           "North West",
           1,
           "con lab marginal"
          ],
          [
           "Workington",
           "North West",
           1,
           "con lab marginal"
          ],
          [
           "Worsley and Eccles South",
           "North West",
           1,
           "con lab marginal"
          ],
          [
           "Barnsley Central",
           "Yorkshire and The Humber",
           1,
           "lab safe"
          ],
          [
           "Barnsley East",
           "Yorkshire and The Humber",
           1,
           "con lab marginal"
          ],
          [
           "Batley and Spen",
           "Yorkshire and The Humber",
           1,
           "con lab marginal"
          ],
          [
           "Bradford South",
           "Yorkshire and The Humber",
           1,
           "con lab marginal"
          ],
          [
           "Brigg and Goole",
           "Yorkshire and The Humber",
           1,
           "con safe"
          ],
          [
           "Dewsbury",
           "Yorkshire and The Humber",
           1,
           "con lab marginal"
          ],
          [
           "Don Valley",
           "Yorkshire and The Humber",
           1,
           "con lab marginal"
          ],
          [
           "Doncaster Central",
           "Yorkshire and The Humber",
           1,
           "con lab marginal"
          ],
          [
           "Doncaster North",
           "Yorkshire and The Humber",
           1,
           "con lab marginal"
          ],
          [
           "Great Grimsby",
           "Yorkshire and The Humber",
           1,
           "con lab marginal"
          ],
          [
           "Halifax",
           "Yorkshire and The Humber",
           1,
           "con lab marginal"
          ],
          [
           "Hemsworth",
           "Yorkshire and The Humber",
           1,
           "con lab marginal"
          ],
          [
           "Keighley",
           "Yorkshire and The Humber",
           1,
           "con lab marginal"
          ],
          [
           "Kingston upon Hull East",
           "Yorkshire and The Humber",
           1,
           "con lab marginal"
          ],
          [
           "Kingston upon Hull West and Hessle",
           "Yorkshire and The Humber",
           1,
           "con lab marginal"
          ],
          [
           "Morley and Outwood",
           "Yorkshire and The Humber",
           1,
           "con safe"
          ],
          [
           "Normanton, Pontefract and Castleford",
           "Yorkshire and The Humber",
           1,
           "con lab marginal"
          ],
          [
           "Penistone and Stocksbridge",
           "Yorkshire and The Humber",
           1,
           "con lab marginal"
          ],
          [
           "Rother Valley",
           "Yorkshire and The Humber",
           1,
           "con lab marginal"
          ],
          [
           "Rotherham",
           "Yorkshire and The Humber",
           1,
           "con lab marginal"
          ],
          [
           "Scunthorpe",
           "Yorkshire and The Humber",
           1,
           "con lab marginal"
          ],
          [
           "Sheffield South East",
           "Yorkshire and The Humber",
           1,
           "con lab marginal"
          ],
          [
           "Sheffield, Brightside and Hillsborough",
           "Yorkshire and The Humber",
           1,
           "lab safe"
          ],
          [
           "Sheffield, Heeley",
           "Yorkshire and The Humber",
           1,
           "lab safe"
          ],
          [
           "Wakefield",
           "Yorkshire and The Humber",
           1,
           "con lab marginal"
          ],
          [
           "Wentworth and Dearne",
           "Yorkshire and The Humber",
           1,
           "con lab marginal"
          ],
          [
           "Amber Valley",
           "East Midlands",
           1,
           "con safe"
          ],
          [
           "Ashfield",
           "East Midlands",
           1,
           "con lab marginal"
          ],
          [
           "Bassetlaw",
           "East Midlands",
           1,
           "con lab marginal"
          ],
          [
           "Bolsover",
           "East Midlands",
           1,
           "con lab marginal"
          ],
          [
           "Chesterfield",
           "East Midlands",
           1,
           "con lab marginal"
          ],
          [
           "Mansfield",
           "East Midlands",
           1,
           "con safe"
          ],
          [
           "North East Derbyshire",
           "East Midlands",
           1,
           "con safe"
          ],
          [
           "Sherwood",
           "East Midlands",
           1,
           "con safe"
          ],
          [
           "Aldridge-Brownhills",
           "West Midlands",
           1,
           "con safe"
          ],
          [
           "Birmingham, Northfield",
           "West Midlands",
           1,
           "con lab marginal"
          ],
          [
           "Burton",
           "West Midlands",
           1,
           "con safe"
          ],
          [
           "Cannock Chase",
           "West Midlands",
           1,
           "con safe"
          ],
          [
           "Dudley North",
           "West Midlands",
           1,
           "con lab marginal"
          ],
          [
           "Dudley South",
           "West Midlands",
           1,
           "con safe"
          ],
          [
           "Halesowen and Rowley Regis",
           "West Midlands",
           1,
           "con safe"
          ],
          [
           "Newcastle-under-Lyme",
           "West Midlands",
           1,
           "con lab marginal"
          ],
          [
           "Stoke-on-Trent North",
           "West Midlands",
           1,
           "con lab marginal"
          ],
          [
           "Stoke-on-Trent South",
           "West Midlands",
           1,
           "con safe"
          ],
          [
           "Stourbridge",
           "West Midlands",
           1,
           "con safe"
          ],
          [
           "Walsall North",
           "West Midlands",
           1,
           "con safe"
          ],
          [
           "Worcester",
           "West Midlands",
           1,
           "con safe"
          ],
          [
           "Wyre Forest",
           "West Midlands",
           1,
           "con safe"
          ],
          [
           "Norwich North",
           "East of England",
           1,
           "con lab marginal"
          ],
          [
           "Plymouth, Moor View",
           "South West",
           1,
           "con safe"
          ],
          [
           "Delyn",
           "Wales",
           1,
           "con lab marginal"
          ],
          [
           "Alyn and Deeside",
           "Wales",
           1,
           "con lab marginal"
          ],
          [
           "Wrexham",
           "Wales",
           1,
           "con lab marginal"
          ],
          [
           "Llanelli",
           "Wales",
           1,
           "lab safe"
          ],
          [
           "Swansea East",
           "Wales",
           1,
           "lab safe"
          ],
          [
           "Aberavon",
           "Wales",
           1,
           "lab safe"
          ],
          [
           "Rhondda",
           "Wales",
           1,
           "lab safe"
          ],
          [
           "Torfaen",
           "Wales",
           1,
           "con lab marginal"
          ],
          [
           "Newport East",
           "Wales",
           1,
           "con lab marginal"
          ],
          [
           "Newport West",
           "Wales",
           1,
           "con lab marginal"
          ],
          [
           "Clwyd South",
           "Wales",
           1,
           "con lab marginal"
          ],
          [
           "Neath",
           "Wales",
           1,
           "lab safe"
          ],
          [
           "Cynon Valley",
           "Wales",
           1,
           "lab safe"
          ],
          [
           "Merthyr Tydfil and Rhymney",
           "Wales",
           1,
           "lab safe"
          ],
          [
           "Blaenau Gwent",
           "Wales",
           1,
           "lab safe"
          ],
          [
           "Bridgend",
           "Wales",
           1,
           "con lab marginal"
          ],
          [
           "Ogmore",
           "Wales",
           1,
           "lab safe"
          ],
          [
           "Pontypridd",
           "Wales",
           1,
           "lab safe"
          ],
          [
           "Caerphilly",
           "Wales",
           1,
           "lab safe"
          ],
          [
           "Islwyn",
           "Wales",
           1,
           "lab safe"
          ]
         ],
         "hovertemplate": "Constituency: %{customdata[0]}<br>Region: %{customdata[1]}<br>Cluster: %{customdata[2]}<br>YouGov Seat: %{customdata[3]}",
         "legendgroup": "#47DBCD",
         "marker": {
          "color": "#EF553B",
          "line": {
           "width": 0
          },
          "size": 12,
          "symbol": "square"
         },
         "mode": "markers",
         "name": "#47DBCD",
         "orientation": "v",
         "showlegend": true,
         "type": "scatter",
         "x": [
          -2,
          -3,
          -2,
          -1,
          0,
          -3,
          1,
          -1,
          -1,
          2,
          -3,
          -2,
          -1,
          -3,
          1,
          -1,
          0,
          0,
          0,
          0,
          -3,
          -2,
          -5,
          -5,
          -10,
          -6,
          -8,
          -7,
          -8,
          -10,
          -4,
          -6,
          -6,
          -4,
          -6,
          -6,
          -4,
          -9,
          -9,
          -8,
          -5,
          -5,
          -9,
          -8,
          -10,
          -10,
          -9,
          -5,
          -5,
          -5,
          -5,
          -9,
          -9,
          -4,
          -11,
          -8,
          -8,
          -7,
          -8,
          -7,
          -5,
          -8,
          -2,
          -1,
          -1,
          -2,
          1,
          -2,
          1,
          1,
          0,
          3,
          -3,
          0,
          -3,
          3,
          3,
          0,
          1,
          -3,
          1,
          0,
          2,
          0,
          -2,
          -2,
          -1,
          -1,
          0,
          1,
          2,
          0,
          -1,
          1,
          -2,
          2,
          -3,
          -4,
          -3,
          -4,
          -7,
          -6,
          -6,
          -5,
          -4,
          -3,
          -5,
          -6,
          -6,
          -8,
          7,
          -14,
          -11,
          -10,
          -9,
          -14,
          -13,
          -12,
          -11,
          -9,
          -8,
          -9,
          -10,
          -12,
          -10,
          -9,
          -9,
          -12,
          -11,
          -11,
          -10,
          -9
         ],
         "xaxis": "x",
         "y": [
          12,
          14,
          17,
          12,
          14,
          15,
          14,
          14,
          15,
          12,
          16,
          14,
          16,
          13,
          13,
          13,
          16,
          13,
          12,
          15,
          17,
          15,
          6,
          13,
          2,
          12,
          11,
          7,
          7,
          7,
          10,
          9,
          8,
          14,
          13,
          1,
          5,
          1,
          3,
          2,
          8,
          10,
          6,
          6,
          6,
          5,
          7,
          12,
          7,
          11,
          9,
          5,
          4,
          6,
          3,
          4,
          3,
          2,
          8,
          8,
          14,
          5,
          6,
          6,
          8,
          8,
          7,
          7,
          5,
          6,
          6,
          6,
          8,
          7,
          10,
          7,
          8,
          8,
          8,
          6,
          4,
          5,
          6,
          4,
          5,
          4,
          7,
          5,
          2,
          2,
          4,
          3,
          3,
          3,
          3,
          3,
          -1,
          -4,
          1,
          -1,
          -3,
          -4,
          -3,
          1,
          2,
          0,
          -4,
          -1,
          -5,
          -3,
          1,
          -15,
          1,
          1,
          0,
          -8,
          -7,
          -8,
          -6,
          -5,
          -6,
          -7,
          -1,
          -7,
          -5,
          -4,
          -3,
          -9,
          -8,
          -7,
          -6,
          -6
         ],
         "yaxis": "y"
        },
        {
         "customdata": [
          [
           "City of Durham",
           "North East",
           5,
           "con lab marginal"
          ],
          [
           "Middlesbrough",
           "North East",
           5,
           "lab safe"
          ],
          [
           "Newcastle upon Tyne Central",
           "North East",
           5,
           "lab safe"
          ],
          [
           "Newcastle upon Tyne East",
           "North East",
           5,
           "lab safe"
          ],
          [
           "Blackburn",
           "North West",
           5,
           "lab safe"
          ],
          [
           "Blackley and Broughton",
           "North West",
           5,
           "lab safe"
          ],
          [
           "Bolton South East",
           "North West",
           5,
           "lab safe"
          ],
          [
           "Lancaster and Fleetwood",
           "North West",
           5,
           "con lab marginal"
          ],
          [
           "Liverpool, Riverside",
           "North West",
           5,
           "lab safe"
          ],
          [
           "Liverpool, Wavertree",
           "North West",
           5,
           "lab safe"
          ],
          [
           "Manchester Central",
           "North West",
           5,
           "lab safe"
          ],
          [
           "Manchester, Gorton",
           "North West",
           5,
           "lab safe"
          ],
          [
           "Manchester, Withington",
           "North West",
           5,
           "lab safe"
          ],
          [
           "Oldham West and Royton",
           "North West",
           5,
           "lab safe"
          ],
          [
           "Preston",
           "North West",
           5,
           "lab safe"
          ],
          [
           "Rochdale",
           "North West",
           5,
           "lab safe"
          ],
          [
           "Salford and Eccles",
           "North West",
           5,
           "lab safe"
          ],
          [
           "Stockport",
           "North West",
           5,
           "lab safe"
          ],
          [
           "Stretford and Urmston",
           "North West",
           5,
           "lab safe"
          ],
          [
           "Wythenshawe and Sale East",
           "North West",
           5,
           "lab safe"
          ],
          [
           "Bradford East",
           "Yorkshire and The Humber",
           5,
           "lab safe"
          ],
          [
           "Bradford West",
           "Yorkshire and The Humber",
           5,
           "lab safe"
          ],
          [
           "Huddersfield",
           "Yorkshire and The Humber",
           5,
           "con lab marginal"
          ],
          [
           "Kingston upon Hull North",
           "Yorkshire and The Humber",
           5,
           "lab safe"
          ],
          [
           "Leeds Central",
           "Yorkshire and The Humber",
           5,
           "lab safe"
          ],
          [
           "Leeds East",
           "Yorkshire and The Humber",
           5,
           "lab safe"
          ],
          [
           "Leeds North East",
           "Yorkshire and The Humber",
           5,
           "lab safe"
          ],
          [
           "Leeds North West",
           "Yorkshire and The Humber",
           5,
           "lab safe"
          ],
          [
           "Leeds West",
           "Yorkshire and The Humber",
           5,
           "lab safe"
          ],
          [
           "Sheffield Central",
           "Yorkshire and The Humber",
           5,
           "lab safe"
          ],
          [
           "York Central",
           "Yorkshire and The Humber",
           5,
           "lab safe"
          ],
          [
           "Derby North",
           "East Midlands",
           5,
           "con lab marginal"
          ],
          [
           "Derby South",
           "East Midlands",
           5,
           "con lab marginal"
          ],
          [
           "Leicester South",
           "East Midlands",
           5,
           "lab safe"
          ],
          [
           "Leicester West",
           "East Midlands",
           5,
           "lab safe"
          ],
          [
           "Lincoln",
           "East Midlands",
           5,
           "con lab marginal"
          ],
          [
           "Loughborough",
           "East Midlands",
           5,
           "con lab marginal"
          ],
          [
           "Nottingham East",
           "East Midlands",
           5,
           "lab safe"
          ],
          [
           "Nottingham North",
           "East Midlands",
           5,
           "lab safe"
          ],
          [
           "Nottingham South",
           "East Midlands",
           5,
           "lab safe"
          ],
          [
           "Birmingham, Edgbaston",
           "West Midlands",
           5,
           "con lab marginal"
          ],
          [
           "Birmingham, Erdington",
           "West Midlands",
           5,
           "con lab marginal"
          ],
          [
           "Birmingham, Hall Green",
           "West Midlands",
           5,
           "lab safe"
          ],
          [
           "Birmingham, Hodge Hill",
           "West Midlands",
           5,
           "lab safe"
          ],
          [
           "Birmingham, Ladywood",
           "West Midlands",
           5,
           "lab safe"
          ],
          [
           "Birmingham, Perry Barr",
           "West Midlands",
           5,
           "lab safe"
          ],
          [
           "Birmingham, Selly Oak",
           "West Midlands",
           5,
           "lab safe"
          ],
          [
           "Birmingham, Yardley",
           "West Midlands",
           5,
           "lab safe"
          ],
          [
           "Coventry North East",
           "West Midlands",
           5,
           "lab safe"
          ],
          [
           "Coventry North West",
           "West Midlands",
           5,
           "con lab marginal"
          ],
          [
           "Coventry South",
           "West Midlands",
           5,
           "con lab marginal"
          ],
          [
           "Stoke-on-Trent Central",
           "West Midlands",
           5,
           "con lab marginal"
          ],
          [
           "Walsall South",
           "West Midlands",
           5,
           "con lab marginal"
          ],
          [
           "Warley",
           "West Midlands",
           5,
           "lab safe"
          ],
          [
           "Warwick and Leamington",
           "West Midlands",
           5,
           "con lab marginal"
          ],
          [
           "West Bromwich East",
           "West Midlands",
           5,
           "con lab marginal"
          ],
          [
           "West Bromwich West",
           "West Midlands",
           5,
           "con lab marginal"
          ],
          [
           "Wolverhampton North East",
           "West Midlands",
           5,
           "con lab marginal"
          ],
          [
           "Wolverhampton South East",
           "West Midlands",
           5,
           "con lab marginal"
          ],
          [
           "Wolverhampton South West",
           "West Midlands",
           5,
           "con lab marginal"
          ],
          [
           "Cambridge",
           "East of England",
           5,
           "lab safe"
          ],
          [
           "Norwich South",
           "East of England",
           5,
           "lab safe"
          ],
          [
           "Brighton, Kemptown",
           "South East",
           5,
           "lab safe"
          ],
          [
           "Brighton, Pavilion",
           "South East",
           5,
           "green safe"
          ],
          [
           "Canterbury",
           "South East",
           5,
           "con lab marginal"
          ],
          [
           "Hove",
           "South East",
           5,
           "lab safe"
          ],
          [
           "Oxford East",
           "South East",
           5,
           "lab safe"
          ],
          [
           "Portsmouth South",
           "South East",
           5,
           "con lab marginal"
          ],
          [
           "Reading East",
           "South East",
           5,
           "con lab marginal"
          ],
          [
           "Southampton, Itchen",
           "South East",
           5,
           "con lab marginal"
          ],
          [
           "Southampton, Test",
           "South East",
           5,
           "lab safe"
          ],
          [
           "Bath",
           "South West",
           5,
           "ld safe"
          ],
          [
           "Bournemouth West",
           "South West",
           5,
           "con safe"
          ],
          [
           "Bristol East",
           "South West",
           5,
           "lab safe"
          ],
          [
           "Bristol North West",
           "South West",
           5,
           "con lab marginal"
          ],
          [
           "Bristol South",
           "South West",
           5,
           "lab safe"
          ],
          [
           "Bristol West",
           "South West",
           5,
           "lab safe"
          ],
          [
           "Exeter",
           "South West",
           5,
           "lab safe"
          ],
          [
           "Plymouth, Sutton and Devonport",
           "South West",
           5,
           "con lab marginal"
          ],
          [
           "Aberdeen North",
           "Scotland",
           5,
           "snp safe"
          ],
          [
           "Aberdeen South",
           "Scotland",
           5,
           "con snp marginal"
          ],
          [
           "Dundee West",
           "Scotland",
           5,
           "snp safe"
          ],
          [
           "Edinburgh East",
           "Scotland",
           5,
           "snp safe"
          ],
          [
           "Edinburgh North and Leith",
           "Scotland",
           5,
           "snp safe"
          ],
          [
           "Edinburgh South",
           "Scotland",
           5,
           "lab safe"
          ],
          [
           "Edinburgh South West",
           "Scotland",
           5,
           "snp safe"
          ],
          [
           "Glasgow Central",
           "Scotland",
           5,
           "snp safe"
          ],
          [
           "Glasgow North",
           "Scotland",
           5,
           "snp safe"
          ],
          [
           "Swansea West",
           "Wales",
           5,
           "lab safe"
          ],
          [
           "Cardiff Central",
           "Wales",
           5,
           "lab safe"
          ],
          [
           "Arfon",
           "Wales",
           5,
           "pc safe"
          ],
          [
           "Cardiff West",
           "Wales",
           5,
           "lab safe"
          ],
          [
           "Cardiff South and Penarth",
           "Wales",
           5,
           "lab safe"
          ]
         ],
         "hovertemplate": "Constituency: %{customdata[0]}<br>Region: %{customdata[1]}<br>Cluster: %{customdata[2]}<br>YouGov Seat: %{customdata[3]}",
         "legendgroup": "#016794",
         "marker": {
          "color": "#00cc96",
          "line": {
           "width": 0
          },
          "size": 12,
          "symbol": "square"
         },
         "mode": "markers",
         "name": "#016794",
         "orientation": "v",
         "showlegend": true,
         "type": "scatter",
         "x": [
          -2,
          1,
          -4,
          -2,
          -6,
          -6,
          -7,
          -4,
          -10,
          -10,
          -6,
          -5,
          -6,
          -6,
          -7,
          -4,
          -7,
          -5,
          -7,
          -6,
          -2,
          -3,
          -3,
          3,
          0,
          1,
          1,
          0,
          -1,
          -1,
          0,
          -1,
          -1,
          2,
          1,
          3,
          2,
          2,
          2,
          1,
          -4,
          -2,
          -3,
          -1,
          -3,
          -3,
          -3,
          -2,
          -1,
          -1,
          0,
          -4,
          -5,
          -5,
          -1,
          -4,
          -5,
          -7,
          -6,
          -7,
          6,
          8,
          7,
          6,
          12,
          5,
          0,
          -2,
          -3,
          -5,
          -5,
          -6,
          -8,
          -7,
          -8,
          -7,
          -8,
          -12,
          -14,
          -4,
          -3,
          -6,
          -5,
          -6,
          -5,
          -6,
          -9,
          -9,
          -13,
          -9,
          -13,
          -10,
          -10
         ],
         "xaxis": "x",
         "y": [
          13,
          12,
          15,
          16,
          10,
          6,
          6,
          12,
          4,
          3,
          5,
          5,
          4,
          7,
          11,
          8,
          5,
          4,
          4,
          3,
          9,
          9,
          7,
          9,
          9,
          9,
          10,
          10,
          9,
          4,
          11,
          2,
          1,
          -2,
          -1,
          5,
          0,
          1,
          2,
          1,
          -3,
          -2,
          -4,
          -2,
          -3,
          -2,
          -5,
          -3,
          -3,
          -4,
          -4,
          1,
          -1,
          -3,
          -5,
          -2,
          -2,
          -1,
          -2,
          -2,
          -1,
          0,
          -15,
          -15,
          -12,
          -15,
          -5,
          -14,
          -7,
          -13,
          -12,
          -9,
          -14,
          -9,
          -9,
          -10,
          -10,
          -13,
          -16,
          25,
          24,
          23,
          19,
          19,
          18,
          18,
          19,
          20,
          -8,
          -8,
          -1,
          -8,
          -9
         ],
         "yaxis": "y"
        },
        {
         "customdata": [
          [
           "Tynemouth",
           "North East",
           0,
           "con lab marginal"
          ],
          [
           "Cheadle",
           "North West",
           0,
           "con ld marginal"
          ],
          [
           "City of Chester",
           "North West",
           0,
           "con lab marginal"
          ],
          [
           "Congleton",
           "North West",
           0,
           "con safe"
          ],
          [
           "Eddisbury",
           "North West",
           0,
           "con safe"
          ],
          [
           "Fylde",
           "North West",
           0,
           "con safe"
          ],
          [
           "Hazel Grove",
           "North West",
           0,
           "con ld marginal"
          ],
          [
           "Macclesfield",
           "North West",
           0,
           "con safe"
          ],
          [
           "Ribble Valley",
           "North West",
           0,
           "con safe"
          ],
          [
           "Sefton Central",
           "North West",
           0,
           "lab safe"
          ],
          [
           "South Ribble",
           "North West",
           0,
           "con safe"
          ],
          [
           "Wirral South",
           "North West",
           0,
           "con lab marginal"
          ],
          [
           "Wirral West",
           "North West",
           0,
           "con lab marginal"
          ],
          [
           "Wyre and Preston North",
           "North West",
           0,
           "con safe"
          ],
          [
           "Beverley and Holderness",
           "Yorkshire and The Humber",
           0,
           "con safe"
          ],
          [
           "Calder Valley",
           "Yorkshire and The Humber",
           0,
           "con lab marginal"
          ],
          [
           "Colne Valley",
           "Yorkshire and The Humber",
           0,
           "con lab marginal"
          ],
          [
           "Elmet and Rothwell",
           "Yorkshire and The Humber",
           0,
           "con safe"
          ],
          [
           "Haltemprice and Howden",
           "Yorkshire and The Humber",
           0,
           "con safe"
          ],
          [
           "Harrogate and Knaresborough",
           "Yorkshire and The Humber",
           0,
           "con safe"
          ],
          [
           "Pudsey",
           "Yorkshire and The Humber",
           0,
           "con lab marginal"
          ],
          [
           "Richmond (Yorks)",
           "Yorkshire and The Humber",
           0,
           "con safe"
          ],
          [
           "Selby and Ainsty",
           "Yorkshire and The Humber",
           0,
           "con safe"
          ],
          [
           "Shipley",
           "Yorkshire and The Humber",
           0,
           "con lab marginal"
          ],
          [
           "York Outer",
           "Yorkshire and The Humber",
           0,
           "con safe"
          ],
          [
           "Broxtowe",
           "East Midlands",
           0,
           "con lab marginal"
          ],
          [
           "Charnwood",
           "East Midlands",
           0,
           "con safe"
          ],
          [
           "Daventry",
           "East Midlands",
           0,
           "con safe"
          ],
          [
           "Grantham and Stamford",
           "East Midlands",
           0,
           "con safe"
          ],
          [
           "Harborough",
           "East Midlands",
           0,
           "con safe"
          ],
          [
           "High Peak",
           "East Midlands",
           0,
           "con lab marginal"
          ],
          [
           "Mid Derbyshire",
           "East Midlands",
           0,
           "con safe"
          ],
          [
           "Newark",
           "East Midlands",
           0,
           "con safe"
          ],
          [
           "Rushcliffe",
           "East Midlands",
           0,
           "con safe"
          ],
          [
           "Rutland and Melton",
           "East Midlands",
           0,
           "con safe"
          ],
          [
           "Sleaford and North Hykeham",
           "East Midlands",
           0,
           "con safe"
          ],
          [
           "Bromsgrove",
           "West Midlands",
           0,
           "con safe"
          ],
          [
           "Lichfield",
           "West Midlands",
           0,
           "con safe"
          ],
          [
           "Mid Worcestershire",
           "West Midlands",
           0,
           "con safe"
          ],
          [
           "Solihull",
           "West Midlands",
           0,
           "con safe"
          ],
          [
           "South Staffordshire",
           "West Midlands",
           0,
           "con safe"
          ],
          [
           "Stafford",
           "West Midlands",
           0,
           "con safe"
          ],
          [
           "Staffordshire Moorlands",
           "West Midlands",
           0,
           "con safe"
          ],
          [
           "Stone",
           "West Midlands",
           0,
           "con safe"
          ],
          [
           "Stratford-on-Avon",
           "West Midlands",
           0,
           "con safe"
          ],
          [
           "Sutton Coldfield",
           "West Midlands",
           0,
           "con safe"
          ],
          [
           "The Wrekin",
           "West Midlands",
           0,
           "con safe"
          ],
          [
           "Braintree",
           "East of England",
           0,
           "con safe"
          ],
          [
           "Bury St Edmunds",
           "East of England",
           0,
           "con safe"
          ],
          [
           "Huntingdon",
           "East of England",
           0,
           "con safe"
          ],
          [
           "Maldon",
           "East of England",
           0,
           "con safe"
          ],
          [
           "North East Cambridgeshire",
           "East of England",
           0,
           "con safe"
          ],
          [
           "North West Cambridgeshire",
           "East of England",
           0,
           "con safe"
          ],
          [
           "Rayleigh and Wickford",
           "East of England",
           0,
           "con safe"
          ],
          [
           "South Suffolk",
           "East of England",
           0,
           "con safe"
          ],
          [
           "Suffolk Coastal",
           "East of England",
           0,
           "con safe"
          ],
          [
           "West Suffolk",
           "East of England",
           0,
           "con safe"
          ],
          [
           "Witham",
           "East of England",
           0,
           "con safe"
          ],
          [
           "Arundel and South Downs",
           "South East",
           0,
           "con safe"
          ],
          [
           "Ashford",
           "South East",
           0,
           "con safe"
          ],
          [
           "Dover",
           "South East",
           0,
           "con safe"
          ],
          [
           "Fareham",
           "South East",
           0,
           "con safe"
          ],
          [
           "Faversham and Mid Kent",
           "South East",
           0,
           "con safe"
          ],
          [
           "Folkestone and Hythe",
           "South East",
           0,
           "con safe"
          ],
          [
           "Gosport",
           "South East",
           0,
           "con safe"
          ],
          [
           "Lewes",
           "South East",
           0,
           "con ld marginal"
          ],
          [
           "Maidstone and The Weald",
           "South East",
           0,
           "con safe"
          ],
          [
           "Meon Valley",
           "South East",
           0,
           "con safe"
          ],
          [
           "New Forest East",
           "South East",
           0,
           "con safe"
          ],
          [
           "North West Hampshire",
           "South East",
           0,
           "con safe"
          ],
          [
           "Wealden",
           "South East",
           0,
           "con safe"
          ],
          [
           "Chippenham",
           "South West",
           0,
           "con safe"
          ],
          [
           "Devizes",
           "South West",
           0,
           "con safe"
          ],
          [
           "Mid Dorset and North Poole",
           "South West",
           0,
           "con safe"
          ],
          [
           "North East Somerset",
           "South West",
           0,
           "con safe"
          ],
          [
           "North Wiltshire",
           "South West",
           0,
           "con safe"
          ],
          [
           "Salisbury",
           "South West",
           0,
           "con safe"
          ],
          [
           "South West Devon",
           "South West",
           0,
           "con safe"
          ],
          [
           "South West Wiltshire",
           "South West",
           0,
           "con safe"
          ],
          [
           "Stroud",
           "South West",
           0,
           "con lab marginal"
          ],
          [
           "Tewkesbury",
           "South West",
           0,
           "con safe"
          ],
          [
           "Thornbury and Yate",
           "South West",
           0,
           "con ld marginal"
          ],
          [
           "East Dunbartonshire",
           "Scotland",
           0,
           "ld snp marginal"
          ],
          [
           "East Renfrewshire",
           "Scotland",
           0,
           "con snp marginal"
          ],
          [
           "Edinburgh West",
           "Scotland",
           0,
           "ld snp marginal"
          ],
          [
           "Gower",
           "Wales",
           0,
           "con lab marginal"
          ],
          [
           "Cardiff North",
           "Wales",
           0,
           "con lab marginal"
          ],
          [
           "Vale of Glamorgan",
           "Wales",
           0,
           "con lab marginal"
          ]
         ],
         "hovertemplate": "Constituency: %{customdata[0]}<br>Region: %{customdata[1]}<br>Cluster: %{customdata[2]}<br>YouGov Seat: %{customdata[3]}",
         "legendgroup": "#2CBDFE",
         "marker": {
          "color": "#ab63fa",
          "line": {
           "width": 0
          },
          "size": 12,
          "symbol": "square"
         },
         "mode": "markers",
         "name": "#2CBDFE",
         "orientation": "v",
         "showlegend": true,
         "type": "scatter",
         "x": [
          -1,
          -5,
          -8,
          -5,
          -7,
          -7,
          -4,
          -4,
          -3,
          -9,
          -8,
          -9,
          -11,
          -6,
          4,
          -4,
          -4,
          2,
          2,
          -2,
          -1,
          -3,
          2,
          -2,
          -1,
          0,
          3,
          1,
          3,
          3,
          -3,
          -2,
          3,
          3,
          4,
          4,
          -4,
          -2,
          -5,
          -2,
          -6,
          -4,
          -3,
          -5,
          -3,
          -2,
          -7,
          8,
          9,
          5,
          11,
          6,
          5,
          9,
          10,
          9,
          8,
          10,
          0,
          12,
          13,
          -4,
          12,
          12,
          -3,
          8,
          11,
          -4,
          -6,
          -4,
          11,
          -5,
          -5,
          -8,
          -6,
          -5,
          -6,
          -13,
          -7,
          -6,
          -6,
          -8,
          -8,
          -10,
          -7,
          -14,
          -10,
          -11
         ],
         "xaxis": "x",
         "y": [
          17,
          3,
          1,
          2,
          1,
          10,
          4,
          3,
          12,
          8,
          9,
          2,
          2,
          11,
          8,
          9,
          7,
          10,
          9,
          11,
          10,
          11,
          8,
          10,
          11,
          1,
          0,
          -3,
          3,
          -1,
          4,
          2,
          4,
          1,
          2,
          4,
          -5,
          0,
          -5,
          -4,
          0,
          0,
          2,
          0,
          -6,
          -1,
          0,
          -2,
          -2,
          -2,
          -4,
          0,
          -1,
          -5,
          -1,
          1,
          -1,
          -4,
          -15,
          -13,
          -12,
          -14,
          -11,
          -14,
          -14,
          -15,
          -12,
          -13,
          -13,
          -10,
          -13,
          -9,
          -10,
          -12,
          -10,
          -8,
          -11,
          -14,
          -11,
          -7,
          -6,
          -7,
          22,
          18,
          19,
          -9,
          -7,
          -9
         ],
         "yaxis": "y"
        },
        {
         "customdata": [
          [
           "Altrincham and Sale West",
           "North West",
           2,
           "con safe"
          ],
          [
           "Tatton",
           "North West",
           2,
           "con safe"
          ],
          [
           "Sheffield, Hallam",
           "Yorkshire and The Humber",
           2,
           "lab ld marginal"
          ],
          [
           "South Northamptonshire",
           "East Midlands",
           2,
           "con safe"
          ],
          [
           "Kenilworth and Southam",
           "West Midlands",
           2,
           "con safe"
          ],
          [
           "Brentwood and Ongar",
           "East of England",
           2,
           "con safe"
          ],
          [
           "Chelmsford",
           "East of England",
           2,
           "con safe"
          ],
          [
           "Epping Forest",
           "East of England",
           2,
           "con safe"
          ],
          [
           "Hertford and Stortford",
           "East of England",
           2,
           "con safe"
          ],
          [
           "Hertsmere",
           "East of England",
           2,
           "con safe"
          ],
          [
           "Hitchin and Harpenden",
           "East of England",
           2,
           "con safe"
          ],
          [
           "Mid Bedfordshire",
           "East of England",
           2,
           "con safe"
          ],
          [
           "North East Bedfordshire",
           "East of England",
           2,
           "con safe"
          ],
          [
           "North East Hertfordshire",
           "East of England",
           2,
           "con safe"
          ],
          [
           "Saffron Walden",
           "East of England",
           2,
           "con safe"
          ],
          [
           "South Cambridgeshire",
           "East of England",
           2,
           "con ld marginal"
          ],
          [
           "South East Cambridgeshire",
           "East of England",
           2,
           "con safe"
          ],
          [
           "South West Hertfordshire",
           "East of England",
           2,
           "con safe"
          ],
          [
           "St Albans",
           "East of England",
           2,
           "con ld marginal"
          ],
          [
           "Watford",
           "East of England",
           2,
           "con safe"
          ],
          [
           "Beckenham",
           "London",
           2,
           "con safe"
          ],
          [
           "Bromley and Chislehurst",
           "London",
           2,
           "con safe"
          ],
          [
           "Carshalton and Wallington",
           "London",
           2,
           "con ld marginal"
          ],
          [
           "Croydon South",
           "London",
           2,
           "con safe"
          ],
          [
           "Kingston and Surbiton",
           "London",
           2,
           "ld safe"
          ],
          [
           "Old Bexley and Sidcup",
           "London",
           2,
           "con safe"
          ],
          [
           "Orpington",
           "London",
           2,
           "con safe"
          ],
          [
           "Ruislip, Northwood and Pinner",
           "London",
           2,
           "con safe"
          ],
          [
           "Sutton and Cheam",
           "London",
           2,
           "con safe"
          ],
          [
           "Twickenham",
           "London",
           2,
           "ld safe"
          ],
          [
           "Uxbridge and South Ruislip",
           "London",
           2,
           "con lab marginal"
          ],
          [
           "Banbury",
           "South East",
           2,
           "con safe"
          ],
          [
           "Beaconsfield",
           "South East",
           2,
           "con safe"
          ],
          [
           "Bracknell",
           "South East",
           2,
           "con safe"
          ],
          [
           "Buckingham",
           "South East",
           2,
           "con safe"
          ],
          [
           "Chesham and Amersham",
           "South East",
           2,
           "con safe"
          ],
          [
           "East Hampshire",
           "South East",
           2,
           "con safe"
          ],
          [
           "East Surrey",
           "South East",
           2,
           "con safe"
          ],
          [
           "Eastleigh",
           "South East",
           2,
           "con safe"
          ],
          [
           "Epsom and Ewell",
           "South East",
           2,
           "con safe"
          ],
          [
           "Esher and Walton",
           "South East",
           2,
           "con ld marginal"
          ],
          [
           "Guildford",
           "South East",
           2,
           "con ld marginal"
          ],
          [
           "Henley",
           "South East",
           2,
           "con safe"
          ],
          [
           "Horsham",
           "South East",
           2,
           "con safe"
          ],
          [
           "Maidenhead",
           "South East",
           2,
           "con safe"
          ],
          [
           "Mid Sussex",
           "South East",
           2,
           "con safe"
          ],
          [
           "Mole Valley",
           "South East",
           2,
           "con safe"
          ],
          [
           "Newbury",
           "South East",
           2,
           "con safe"
          ],
          [
           "North East Hampshire",
           "South East",
           2,
           "con safe"
          ],
          [
           "Oxford West and Abingdon",
           "South East",
           2,
           "ld safe"
          ],
          [
           "Reigate",
           "South East",
           2,
           "con safe"
          ],
          [
           "Romsey and Southampton North",
           "South East",
           2,
           "con safe"
          ],
          [
           "Runnymede and Weybridge",
           "South East",
           2,
           "con safe"
          ],
          [
           "Sevenoaks",
           "South East",
           2,
           "con safe"
          ],
          [
           "South West Surrey",
           "South East",
           2,
           "con safe"
          ],
          [
           "Surrey Heath",
           "South East",
           2,
           "con safe"
          ],
          [
           "Tonbridge and Malling",
           "South East",
           2,
           "con safe"
          ],
          [
           "Tunbridge Wells",
           "South East",
           2,
           "con safe"
          ],
          [
           "Wantage",
           "South East",
           2,
           "con safe"
          ],
          [
           "Winchester",
           "South East",
           2,
           "con ld marginal"
          ],
          [
           "Windsor",
           "South East",
           2,
           "con safe"
          ],
          [
           "Witney",
           "South East",
           2,
           "con safe"
          ],
          [
           "Woking",
           "South East",
           2,
           "con safe"
          ],
          [
           "Wokingham",
           "South East",
           2,
           "con ld marginal"
          ],
          [
           "Cheltenham",
           "South West",
           2,
           "con ld marginal"
          ],
          [
           "North Somerset",
           "South West",
           2,
           "con safe"
          ],
          [
           "The Cotswolds",
           "South West",
           2,
           "con safe"
          ]
         ],
         "hovertemplate": "Constituency: %{customdata[0]}<br>Region: %{customdata[1]}<br>Cluster: %{customdata[2]}<br>YouGov Seat: %{customdata[3]}",
         "legendgroup": "#F5B14C",
         "marker": {
          "color": "#FFA15A",
          "line": {
           "width": 0
          },
          "size": 12,
          "symbol": "square"
         },
         "mode": "markers",
         "name": "#F5B14C",
         "orientation": "v",
         "showlegend": true,
         "type": "scatter",
         "x": [
          -7,
          -6,
          -3,
          2,
          1,
          8,
          9,
          9,
          7,
          7,
          5,
          4,
          4,
          6,
          7,
          6,
          7,
          3,
          6,
          7,
          7,
          8,
          4,
          5,
          0,
          9,
          8,
          1,
          2,
          0,
          0,
          1,
          -1,
          -2,
          2,
          0,
          -3,
          9,
          -4,
          1,
          -1,
          -2,
          1,
          1,
          -2,
          10,
          0,
          -4,
          -3,
          0,
          2,
          -5,
          -1,
          9,
          -2,
          -1,
          10,
          10,
          -2,
          -4,
          -2,
          -1,
          -2,
          -4,
          -7,
          -9,
          -5
         ],
         "xaxis": "x",
         "y": [
          3,
          2,
          5,
          -4,
          -4,
          -4,
          -4,
          -6,
          -3,
          -5,
          -3,
          -4,
          -2,
          -3,
          -2,
          -2,
          -1,
          -6,
          -5,
          -6,
          -14,
          -13,
          -14,
          -14,
          -13,
          -12,
          -14,
          -7,
          -13,
          -12,
          -8,
          -5,
          -8,
          -10,
          -5,
          -7,
          -12,
          -14,
          -12,
          -13,
          -13,
          -13,
          -6,
          -15,
          -7,
          -14,
          -14,
          -7,
          -9,
          -6,
          -14,
          -11,
          -12,
          -13,
          -12,
          -10,
          -12,
          -13,
          -6,
          -11,
          -9,
          -6,
          -11,
          -9,
          -7,
          -11,
          -6
         ],
         "yaxis": "y"
        },
        {
         "customdata": [
          [
           "Cleethorpes",
           "Yorkshire and The Humber",
           7,
           "con safe"
          ],
          [
           "Bosworth",
           "East Midlands",
           7,
           "con safe"
          ],
          [
           "Corby",
           "East Midlands",
           7,
           "con safe"
          ],
          [
           "Erewash",
           "East Midlands",
           7,
           "con safe"
          ],
          [
           "Gedling",
           "East Midlands",
           7,
           "con lab marginal"
          ],
          [
           "Kettering",
           "East Midlands",
           7,
           "con safe"
          ],
          [
           "North West Leicestershire",
           "East Midlands",
           7,
           "con safe"
          ],
          [
           "Northampton North",
           "East Midlands",
           7,
           "con lab marginal"
          ],
          [
           "Northampton South",
           "East Midlands",
           7,
           "con safe"
          ],
          [
           "South Derbyshire",
           "East Midlands",
           7,
           "con safe"
          ],
          [
           "South Leicestershire",
           "East Midlands",
           7,
           "con safe"
          ],
          [
           "Wellingborough",
           "East Midlands",
           7,
           "con safe"
          ],
          [
           "Meriden",
           "West Midlands",
           7,
           "con safe"
          ],
          [
           "North Warwickshire",
           "West Midlands",
           7,
           "con safe"
          ],
          [
           "Nuneaton",
           "West Midlands",
           7,
           "con safe"
          ],
          [
           "Redditch",
           "West Midlands",
           7,
           "con safe"
          ],
          [
           "Rugby",
           "West Midlands",
           7,
           "con safe"
          ],
          [
           "Tamworth",
           "West Midlands",
           7,
           "con safe"
          ],
          [
           "Telford",
           "West Midlands",
           7,
           "con safe"
          ],
          [
           "Basildon and Billericay",
           "East of England",
           7,
           "con safe"
          ],
          [
           "Bedford",
           "East of England",
           7,
           "con lab marginal"
          ],
          [
           "Broxbourne",
           "East of England",
           7,
           "con safe"
          ],
          [
           "Castle Point",
           "East of England",
           7,
           "con safe"
          ],
          [
           "Colchester",
           "East of England",
           7,
           "con safe"
          ],
          [
           "Harlow",
           "East of England",
           7,
           "con safe"
          ],
          [
           "Hemel Hempstead",
           "East of England",
           7,
           "con safe"
          ],
          [
           "Ipswich",
           "East of England",
           7,
           "con lab marginal"
          ],
          [
           "Peterborough",
           "East of England",
           7,
           "con lab marginal"
          ],
          [
           "Rochford and Southend East",
           "East of England",
           7,
           "con safe"
          ],
          [
           "South Basildon and East Thurrock",
           "East of England",
           7,
           "con safe"
          ],
          [
           "South West Bedfordshire",
           "East of England",
           7,
           "con safe"
          ],
          [
           "Southend West",
           "East of England",
           7,
           "con safe"
          ],
          [
           "Stevenage",
           "East of England",
           7,
           "con safe"
          ],
          [
           "Thurrock",
           "East of England",
           7,
           "con safe"
          ],
          [
           "Welwyn Hatfield",
           "East of England",
           7,
           "con safe"
          ],
          [
           "Bexleyheath and Crayford",
           "London",
           7,
           "con safe"
          ],
          [
           "Dagenham and Rainham",
           "London",
           7,
           "con lab marginal"
          ],
          [
           "Hornchurch and Upminster",
           "London",
           7,
           "con safe"
          ],
          [
           "Romford",
           "London",
           7,
           "con safe"
          ],
          [
           "Aldershot",
           "South East",
           7,
           "con safe"
          ],
          [
           "Aylesbury",
           "South East",
           7,
           "con safe"
          ],
          [
           "Basingstoke",
           "South East",
           7,
           "con safe"
          ],
          [
           "Chatham and Aylesford",
           "South East",
           7,
           "con safe"
          ],
          [
           "Crawley",
           "South East",
           7,
           "con lab marginal"
          ],
          [
           "Dartford",
           "South East",
           7,
           "con safe"
          ],
          [
           "East Worthing and Shoreham",
           "South East",
           7,
           "con safe"
          ],
          [
           "Gillingham and Rainham",
           "South East",
           7,
           "con safe"
          ],
          [
           "Gravesham",
           "South East",
           7,
           "con safe"
          ],
          [
           "Havant",
           "South East",
           7,
           "con safe"
          ],
          [
           "Milton Keynes North",
           "South East",
           7,
           "con lab marginal"
          ],
          [
           "Milton Keynes South",
           "South East",
           7,
           "con lab marginal"
          ],
          [
           "Portsmouth North",
           "South East",
           7,
           "con safe"
          ],
          [
           "Reading West",
           "South East",
           7,
           "con lab marginal"
          ],
          [
           "Rochester and Strood",
           "South East",
           7,
           "con safe"
          ],
          [
           "Sittingbourne and Sheppey",
           "South East",
           7,
           "con safe"
          ],
          [
           "Spelthorne",
           "South East",
           7,
           "con safe"
          ],
          [
           "Worthing West",
           "South East",
           7,
           "con safe"
          ],
          [
           "Wycombe",
           "South East",
           7,
           "con lab marginal"
          ],
          [
           "Bournemouth East",
           "South West",
           7,
           "con safe"
          ],
          [
           "Filton and Bradley Stoke",
           "South West",
           7,
           "con lab marginal"
          ],
          [
           "Gloucester",
           "South West",
           7,
           "con safe"
          ],
          [
           "Kingswood",
           "South West",
           7,
           "con safe"
          ],
          [
           "North Swindon",
           "South West",
           7,
           "con safe"
          ],
          [
           "Poole",
           "South West",
           7,
           "con safe"
          ],
          [
           "South Swindon",
           "South West",
           7,
           "con lab marginal"
          ]
         ],
         "hovertemplate": "Constituency: %{customdata[0]}<br>Region: %{customdata[1]}<br>Cluster: %{customdata[2]}<br>YouGov Seat: %{customdata[3]}",
         "legendgroup": "#9D2EC5",
         "marker": {
          "color": "#19d3f3",
          "line": {
           "width": 0
          },
          "size": 12,
          "symbol": "square"
         },
         "mode": "markers",
         "name": "#9D2EC5",
         "orientation": "v",
         "showlegend": true,
         "type": "scatter",
         "x": [
          2,
          0,
          4,
          1,
          3,
          4,
          0,
          3,
          2,
          -2,
          1,
          4,
          -2,
          -1,
          0,
          -4,
          0,
          -1,
          -8,
          8,
          4,
          8,
          10,
          9,
          8,
          5,
          9,
          5,
          10,
          9,
          3,
          10,
          6,
          8,
          7,
          9,
          9,
          8,
          7,
          -3,
          2,
          -3,
          10,
          1,
          9,
          4,
          11,
          10,
          -1,
          3,
          3,
          -3,
          -3,
          11,
          12,
          -1,
          3,
          -1,
          -8,
          -8,
          -7,
          -6,
          -5,
          -9,
          -4
         ],
         "xaxis": "x",
         "y": [
          7,
          -1,
          1,
          0,
          2,
          0,
          0,
          -2,
          -3,
          1,
          -2,
          -1,
          -5,
          -1,
          -2,
          -6,
          -3,
          0,
          -1,
          -5,
          -3,
          -6,
          -7,
          -3,
          -3,
          -5,
          -1,
          0,
          -5,
          -7,
          -5,
          -6,
          -4,
          -7,
          -4,
          -10,
          -8,
          -8,
          -7,
          -11,
          -6,
          -10,
          -11,
          -14,
          -11,
          -15,
          -11,
          -10,
          -14,
          -3,
          -4,
          -13,
          -8,
          -10,
          -10,
          -11,
          -15,
          -7,
          -13,
          -8,
          -8,
          -8,
          -7,
          -13,
          -8
         ],
         "yaxis": "y"
        },
        {
         "customdata": [
          [
           "Leicester East",
           "East Midlands",
           4,
           "lab safe"
          ],
          [
           "Luton North",
           "East of England",
           4,
           "con lab marginal"
          ],
          [
           "Luton South",
           "East of England",
           4,
           "lab safe"
          ],
          [
           "Barking",
           "London",
           4,
           "lab safe"
          ],
          [
           "Battersea",
           "London",
           4,
           "con lab marginal"
          ],
          [
           "Bermondsey and Old Southwark",
           "London",
           4,
           "lab safe"
          ],
          [
           "Bethnal Green and Bow",
           "London",
           4,
           "lab safe"
          ],
          [
           "Brent Central",
           "London",
           4,
           "lab safe"
          ],
          [
           "Brent North",
           "London",
           4,
           "lab safe"
          ],
          [
           "Brentford and Isleworth",
           "London",
           4,
           "con lab marginal"
          ],
          [
           "Camberwell and Peckham",
           "London",
           4,
           "lab safe"
          ],
          [
           "Chelsea and Fulham",
           "London",
           4,
           "con ld marginal"
          ],
          [
           "Chingford and Woodford Green",
           "London",
           4,
           "con lab marginal"
          ],
          [
           "Chipping Barnet",
           "London",
           4,
           "con lab marginal"
          ],
          [
           "Cities of London and Westminster",
           "London",
           4,
           "con lab marginal"
          ],
          [
           "Croydon Central",
           "London",
           4,
           "con lab marginal"
          ],
          [
           "Croydon North",
           "London",
           4,
           "lab safe"
          ],
          [
           "Dulwich and West Norwood",
           "London",
           4,
           "lab safe"
          ],
          [
           "Ealing Central and Acton",
           "London",
           4,
           "lab safe"
          ],
          [
           "Ealing North",
           "London",
           4,
           "lab safe"
          ],
          [
           "Ealing, Southall",
           "London",
           4,
           "lab safe"
          ],
          [
           "East Ham",
           "London",
           4,
           "lab safe"
          ],
          [
           "Edmonton",
           "London",
           4,
           "lab safe"
          ],
          [
           "Eltham",
           "London",
           4,
           "con lab marginal"
          ],
          [
           "Enfield North",
           "London",
           4,
           "con lab marginal"
          ],
          [
           "Enfield, Southgate",
           "London",
           4,
           "con lab marginal"
          ],
          [
           "Erith and Thamesmead",
           "London",
           4,
           "con lab marginal"
          ],
          [
           "Feltham and Heston",
           "London",
           4,
           "lab safe"
          ],
          [
           "Finchley and Golders Green",
           "London",
           4,
           "con safe"
          ],
          [
           "Greenwich and Woolwich",
           "London",
           4,
           "lab safe"
          ],
          [
           "Hackney North and Stoke Newington",
           "London",
           4,
           "lab safe"
          ],
          [
           "Hackney South and Shoreditch",
           "London",
           4,
           "lab safe"
          ],
          [
           "Hammersmith",
           "London",
           4,
           "lab safe"
          ],
          [
           "Hampstead and Kilburn",
           "London",
           4,
           "lab safe"
          ],
          [
           "Harrow East",
           "London",
           4,
           "con lab marginal"
          ],
          [
           "Harrow West",
           "London",
           4,
           "lab safe"
          ],
          [
           "Hayes and Harlington",
           "London",
           4,
           "lab safe"
          ],
          [
           "Hendon",
           "London",
           4,
           "con lab marginal"
          ],
          [
           "Holborn and St Pancras",
           "London",
           4,
           "lab safe"
          ],
          [
           "Hornsey and Wood Green",
           "London",
           4,
           "lab safe"
          ],
          [
           "Ilford North",
           "London",
           4,
           "con lab marginal"
          ],
          [
           "Ilford South",
           "London",
           4,
           "lab safe"
          ],
          [
           "Islington North",
           "London",
           4,
           "lab safe"
          ],
          [
           "Islington South and Finsbury",
           "London",
           4,
           "lab safe"
          ],
          [
           "Kensington",
           "London",
           4,
           "con ld marginal"
          ],
          [
           "Lewisham East",
           "London",
           4,
           "lab safe"
          ],
          [
           "Lewisham West and Penge",
           "London",
           4,
           "lab safe"
          ],
          [
           "Lewisham, Deptford",
           "London",
           4,
           "lab safe"
          ],
          [
           "Leyton and Wanstead",
           "London",
           4,
           "lab safe"
          ],
          [
           "Mitcham and Morden",
           "London",
           4,
           "lab safe"
          ],
          [
           "Poplar and Limehouse",
           "London",
           4,
           "lab safe"
          ],
          [
           "Putney",
           "London",
           4,
           "con lab marginal"
          ],
          [
           "Richmond Park",
           "London",
           4,
           "con ld marginal"
          ],
          [
           "Streatham",
           "London",
           4,
           "lab safe"
          ],
          [
           "Tooting",
           "London",
           4,
           "lab safe"
          ],
          [
           "Tottenham",
           "London",
           4,
           "lab safe"
          ],
          [
           "Vauxhall",
           "London",
           4,
           "lab safe"
          ],
          [
           "Walthamstow",
           "London",
           4,
           "lab safe"
          ],
          [
           "West Ham",
           "London",
           4,
           "lab safe"
          ],
          [
           "Westminster North",
           "London",
           4,
           "lab safe"
          ],
          [
           "Wimbledon",
           "London",
           4,
           "con ld marginal"
          ],
          [
           "Slough",
           "South East",
           4,
           "lab safe"
          ]
         ],
         "hovertemplate": "Constituency: %{customdata[0]}<br>Region: %{customdata[1]}<br>Cluster: %{customdata[2]}<br>YouGov Seat: %{customdata[3]}",
         "legendgroup": "#661D98",
         "marker": {
          "color": "#FF6692",
          "line": {
           "width": 0
          },
          "size": 12,
          "symbol": "square"
         },
         "mode": "markers",
         "name": "#661D98",
         "orientation": "v",
         "showlegend": true,
         "type": "scatter",
         "x": [
          2,
          5,
          4,
          8,
          4,
          5,
          7,
          2,
          1,
          1,
          6,
          2,
          6,
          3,
          4,
          6,
          6,
          5,
          1,
          0,
          0,
          7,
          5,
          8,
          5,
          4,
          8,
          0,
          3,
          7,
          5,
          6,
          2,
          3,
          2,
          1,
          -1,
          2,
          4,
          4,
          6,
          7,
          4,
          5,
          3,
          7,
          7,
          6,
          6,
          3,
          8,
          3,
          1,
          4,
          3,
          4,
          5,
          5,
          6,
          3,
          2,
          -2
         ],
         "xaxis": "x",
         "y": [
          -1,
          -4,
          -5,
          -9,
          -12,
          -11,
          -10,
          -9,
          -9,
          -11,
          -12,
          -11,
          -6,
          -7,
          -11,
          -14,
          -13,
          -13,
          -10,
          -9,
          -10,
          -9,
          -7,
          -12,
          -6,
          -6,
          -11,
          -11,
          -8,
          -11,
          -9,
          -10,
          -10,
          -9,
          -8,
          -8,
          -9,
          -7,
          -10,
          -7,
          -7,
          -8,
          -9,
          -10,
          -10,
          -13,
          -12,
          -11,
          -8,
          -14,
          -10,
          -12,
          -12,
          -13,
          -13,
          -8,
          -12,
          -8,
          -9,
          -11,
          -12,
          -8
         ],
         "yaxis": "y"
        },
        {
         "customdata": [
          [
           "Airdrie and Shotts",
           "Scotland",
           3,
           "lab snp marginal"
          ],
          [
           "Angus",
           "Scotland",
           3,
           "con snp marginal"
          ],
          [
           "Argyll and Bute",
           "Scotland",
           3,
           "con snp marginal"
          ],
          [
           "Ayr, Carrick and Cumnock",
           "Scotland",
           3,
           "con snp marginal"
          ],
          [
           "Banff and Buchan",
           "Scotland",
           3,
           "con snp marginal"
          ],
          [
           "Berwickshire, Roxburgh and Selkirk",
           "Scotland",
           3,
           "con snp marginal"
          ],
          [
           "Caithness, Sutherland and Easter Ross",
           "Scotland",
           3,
           "ld snp marginal"
          ],
          [
           "Central Ayrshire",
           "Scotland",
           3,
           "con snp marginal"
          ],
          [
           "Coatbridge, Chryston and Bellshill",
           "Scotland",
           3,
           "lab snp marginal"
          ],
          [
           "Cumbernauld, Kilsyth and Kirkintilloch East",
           "Scotland",
           3,
           "snp safe"
          ],
          [
           "Dumfries and Galloway",
           "Scotland",
           3,
           "con snp marginal"
          ],
          [
           "Dumfriesshire, Clydesdale and Tweeddale",
           "Scotland",
           3,
           "con snp marginal"
          ],
          [
           "Dundee East",
           "Scotland",
           3,
           "snp safe"
          ],
          [
           "Dunfermline and West Fife",
           "Scotland",
           3,
           "con snp marginal"
          ],
          [
           "East Kilbride, Strathaven and Lesmahagow",
           "Scotland",
           3,
           "snp safe"
          ],
          [
           "East Lothian",
           "Scotland",
           3,
           "lab snp marginal"
          ],
          [
           "Falkirk",
           "Scotland",
           3,
           "snp safe"
          ],
          [
           "Glasgow East",
           "Scotland",
           3,
           "lab snp marginal"
          ],
          [
           "Glasgow North East",
           "Scotland",
           3,
           "lab snp marginal"
          ],
          [
           "Glasgow North West",
           "Scotland",
           3,
           "snp safe"
          ],
          [
           "Glasgow South",
           "Scotland",
           3,
           "snp safe"
          ],
          [
           "Glasgow South West",
           "Scotland",
           3,
           "snp safe"
          ],
          [
           "Glenrothes",
           "Scotland",
           3,
           "snp safe"
          ],
          [
           "Gordon",
           "Scotland",
           3,
           "con snp marginal"
          ],
          [
           "Inverclyde",
           "Scotland",
           3,
           "snp safe"
          ],
          [
           "Inverness, Nairn, Badenoch and Strathspey",
           "Scotland",
           3,
           "snp safe"
          ],
          [
           "Kilmarnock and Loudoun",
           "Scotland",
           3,
           "snp safe"
          ],
          [
           "Kirkcaldy and Cowdenbeath",
           "Scotland",
           3,
           "lab snp marginal"
          ],
          [
           "Lanark and Hamilton East",
           "Scotland",
           3,
           "con snp marginal"
          ],
          [
           "Linlithgow and East Falkirk",
           "Scotland",
           3,
           "con snp marginal"
          ],
          [
           "Livingston",
           "Scotland",
           3,
           "snp safe"
          ],
          [
           "Midlothian",
           "Scotland",
           3,
           "lab snp marginal"
          ],
          [
           "Moray",
           "Scotland",
           3,
           "con snp marginal"
          ],
          [
           "Motherwell and Wishaw",
           "Scotland",
           3,
           "lab snp marginal"
          ],
          [
           "North Ayrshire and Arran",
           "Scotland",
           3,
           "con snp marginal"
          ],
          [
           "Ochil and South Perthshire",
           "Scotland",
           3,
           "con snp marginal"
          ],
          [
           "Paisley and Renfrewshire North",
           "Scotland",
           3,
           "snp safe"
          ],
          [
           "Paisley and Renfrewshire South",
           "Scotland",
           3,
           "snp safe"
          ],
          [
           "Perth and North Perthshire",
           "Scotland",
           3,
           "con snp marginal"
          ],
          [
           "Ross, Skye and Lochaber",
           "Scotland",
           3,
           "snp safe"
          ],
          [
           "Rutherglen and Hamilton West",
           "Scotland",
           3,
           "lab snp marginal"
          ],
          [
           "Stirling",
           "Scotland",
           3,
           "con snp marginal"
          ],
          [
           "West Aberdeenshire and Kincardine",
           "Scotland",
           3,
           "con snp marginal"
          ],
          [
           "West Dunbartonshire",
           "Scotland",
           3,
           "lab snp marginal"
          ]
         ],
         "hovertemplate": "Constituency: %{customdata[0]}<br>Region: %{customdata[1]}<br>Cluster: %{customdata[2]}<br>YouGov Seat: %{customdata[3]}",
         "legendgroup": "#F3A0F2",
         "marker": {
          "color": "#B6E880",
          "line": {
           "width": 0
          },
          "size": 12,
          "symbol": "square"
         },
         "mode": "markers",
         "name": "#F3A0F2",
         "orientation": "v",
         "showlegend": true,
         "type": "scatter",
         "x": [
          -7,
          -5,
          -8,
          -8,
          -5,
          -5,
          -6,
          -10,
          -8,
          -8,
          -6,
          -5,
          -5,
          -6,
          -8,
          -4,
          -7,
          -8,
          -9,
          -10,
          -9,
          -10,
          -4,
          -5,
          -11,
          -7,
          -7,
          -5,
          -7,
          -6,
          -7,
          -6,
          -6,
          -8,
          -11,
          -6,
          -10,
          -11,
          -7,
          -7,
          -9,
          -7,
          -4,
          -9
         ],
         "xaxis": "x",
         "y": [
          20,
          23,
          23,
          16,
          24,
          17,
          26,
          17,
          20,
          21,
          16,
          16,
          22,
          21,
          17,
          18,
          21,
          18,
          21,
          21,
          18,
          19,
          22,
          25,
          21,
          25,
          16,
          21,
          17,
          20,
          18,
          17,
          24,
          19,
          18,
          22,
          20,
          19,
          23,
          24,
          17,
          22,
          24,
          22
         ],
         "yaxis": "y"
        }
       ],
       "layout": {
        "height": 870,
        "legend": {
         "title": {
          "text": "Colors"
         },
         "tracegroupgap": 0
        },
        "plot_bgcolor": "rgba(0,0,0,0)",
        "showlegend": false,
        "template": {
         "data": {
          "bar": [
           {
            "error_x": {
             "color": "#2a3f5f"
            },
            "error_y": {
             "color": "#2a3f5f"
            },
            "marker": {
             "line": {
              "color": "#E5ECF6",
              "width": 0.5
             },
             "pattern": {
              "fillmode": "overlay",
              "size": 10,
              "solidity": 0.2
             }
            },
            "type": "bar"
           }
          ],
          "barpolar": [
           {
            "marker": {
             "line": {
              "color": "#E5ECF6",
              "width": 0.5
             },
             "pattern": {
              "fillmode": "overlay",
              "size": 10,
              "solidity": 0.2
             }
            },
            "type": "barpolar"
           }
          ],
          "carpet": [
           {
            "aaxis": {
             "endlinecolor": "#2a3f5f",
             "gridcolor": "white",
             "linecolor": "white",
             "minorgridcolor": "white",
             "startlinecolor": "#2a3f5f"
            },
            "baxis": {
             "endlinecolor": "#2a3f5f",
             "gridcolor": "white",
             "linecolor": "white",
             "minorgridcolor": "white",
             "startlinecolor": "#2a3f5f"
            },
            "type": "carpet"
           }
          ],
          "choropleth": [
           {
            "colorbar": {
             "outlinewidth": 0,
             "ticks": ""
            },
            "type": "choropleth"
           }
          ],
          "contour": [
           {
            "colorbar": {
             "outlinewidth": 0,
             "ticks": ""
            },
            "colorscale": [
             [
              0,
              "#0d0887"
             ],
             [
              0.1111111111111111,
              "#46039f"
             ],
             [
              0.2222222222222222,
              "#7201a8"
             ],
             [
              0.3333333333333333,
              "#9c179e"
             ],
             [
              0.4444444444444444,
              "#bd3786"
             ],
             [
              0.5555555555555556,
              "#d8576b"
             ],
             [
              0.6666666666666666,
              "#ed7953"
             ],
             [
              0.7777777777777778,
              "#fb9f3a"
             ],
             [
              0.8888888888888888,
              "#fdca26"
             ],
             [
              1,
              "#f0f921"
             ]
            ],
            "type": "contour"
           }
          ],
          "contourcarpet": [
           {
            "colorbar": {
             "outlinewidth": 0,
             "ticks": ""
            },
            "type": "contourcarpet"
           }
          ],
          "heatmap": [
           {
            "colorbar": {
             "outlinewidth": 0,
             "ticks": ""
            },
            "colorscale": [
             [
              0,
              "#0d0887"
             ],
             [
              0.1111111111111111,
              "#46039f"
             ],
             [
              0.2222222222222222,
              "#7201a8"
             ],
             [
              0.3333333333333333,
              "#9c179e"
             ],
             [
              0.4444444444444444,
              "#bd3786"
             ],
             [
              0.5555555555555556,
              "#d8576b"
             ],
             [
              0.6666666666666666,
              "#ed7953"
             ],
             [
              0.7777777777777778,
              "#fb9f3a"
             ],
             [
              0.8888888888888888,
              "#fdca26"
             ],
             [
              1,
              "#f0f921"
             ]
            ],
            "type": "heatmap"
           }
          ],
          "heatmapgl": [
           {
            "colorbar": {
             "outlinewidth": 0,
             "ticks": ""
            },
            "colorscale": [
             [
              0,
              "#0d0887"
             ],
             [
              0.1111111111111111,
              "#46039f"
             ],
             [
              0.2222222222222222,
              "#7201a8"
             ],
             [
              0.3333333333333333,
              "#9c179e"
             ],
             [
              0.4444444444444444,
              "#bd3786"
             ],
             [
              0.5555555555555556,
              "#d8576b"
             ],
             [
              0.6666666666666666,
              "#ed7953"
             ],
             [
              0.7777777777777778,
              "#fb9f3a"
             ],
             [
              0.8888888888888888,
              "#fdca26"
             ],
             [
              1,
              "#f0f921"
             ]
            ],
            "type": "heatmapgl"
           }
          ],
          "histogram": [
           {
            "marker": {
             "pattern": {
              "fillmode": "overlay",
              "size": 10,
              "solidity": 0.2
             }
            },
            "type": "histogram"
           }
          ],
          "histogram2d": [
           {
            "colorbar": {
             "outlinewidth": 0,
             "ticks": ""
            },
            "colorscale": [
             [
              0,
              "#0d0887"
             ],
             [
              0.1111111111111111,
              "#46039f"
             ],
             [
              0.2222222222222222,
              "#7201a8"
             ],
             [
              0.3333333333333333,
              "#9c179e"
             ],
             [
              0.4444444444444444,
              "#bd3786"
             ],
             [
              0.5555555555555556,
              "#d8576b"
             ],
             [
              0.6666666666666666,
              "#ed7953"
             ],
             [
              0.7777777777777778,
              "#fb9f3a"
             ],
             [
              0.8888888888888888,
              "#fdca26"
             ],
             [
              1,
              "#f0f921"
             ]
            ],
            "type": "histogram2d"
           }
          ],
          "histogram2dcontour": [
           {
            "colorbar": {
             "outlinewidth": 0,
             "ticks": ""
            },
            "colorscale": [
             [
              0,
              "#0d0887"
             ],
             [
              0.1111111111111111,
              "#46039f"
             ],
             [
              0.2222222222222222,
              "#7201a8"
             ],
             [
              0.3333333333333333,
              "#9c179e"
             ],
             [
              0.4444444444444444,
              "#bd3786"
             ],
             [
              0.5555555555555556,
              "#d8576b"
             ],
             [
              0.6666666666666666,
              "#ed7953"
             ],
             [
              0.7777777777777778,
              "#fb9f3a"
             ],
             [
              0.8888888888888888,
              "#fdca26"
             ],
             [
              1,
              "#f0f921"
             ]
            ],
            "type": "histogram2dcontour"
           }
          ],
          "mesh3d": [
           {
            "colorbar": {
             "outlinewidth": 0,
             "ticks": ""
            },
            "type": "mesh3d"
           }
          ],
          "parcoords": [
           {
            "line": {
             "colorbar": {
              "outlinewidth": 0,
              "ticks": ""
             }
            },
            "type": "parcoords"
           }
          ],
          "pie": [
           {
            "automargin": true,
            "type": "pie"
           }
          ],
          "scatter": [
           {
            "marker": {
             "colorbar": {
              "outlinewidth": 0,
              "ticks": ""
             }
            },
            "type": "scatter"
           }
          ],
          "scatter3d": [
           {
            "line": {
             "colorbar": {
              "outlinewidth": 0,
              "ticks": ""
             }
            },
            "marker": {
             "colorbar": {
              "outlinewidth": 0,
              "ticks": ""
             }
            },
            "type": "scatter3d"
           }
          ],
          "scattercarpet": [
           {
            "marker": {
             "colorbar": {
              "outlinewidth": 0,
              "ticks": ""
             }
            },
            "type": "scattercarpet"
           }
          ],
          "scattergeo": [
           {
            "marker": {
             "colorbar": {
              "outlinewidth": 0,
              "ticks": ""
             }
            },
            "type": "scattergeo"
           }
          ],
          "scattergl": [
           {
            "marker": {
             "colorbar": {
              "outlinewidth": 0,
              "ticks": ""
             }
            },
            "type": "scattergl"
           }
          ],
          "scattermapbox": [
           {
            "marker": {
             "colorbar": {
              "outlinewidth": 0,
              "ticks": ""
             }
            },
            "type": "scattermapbox"
           }
          ],
          "scatterpolar": [
           {
            "marker": {
             "colorbar": {
              "outlinewidth": 0,
              "ticks": ""
             }
            },
            "type": "scatterpolar"
           }
          ],
          "scatterpolargl": [
           {
            "marker": {
             "colorbar": {
              "outlinewidth": 0,
              "ticks": ""
             }
            },
            "type": "scatterpolargl"
           }
          ],
          "scatterternary": [
           {
            "marker": {
             "colorbar": {
              "outlinewidth": 0,
              "ticks": ""
             }
            },
            "type": "scatterternary"
           }
          ],
          "surface": [
           {
            "colorbar": {
             "outlinewidth": 0,
             "ticks": ""
            },
            "colorscale": [
             [
              0,
              "#0d0887"
             ],
             [
              0.1111111111111111,
              "#46039f"
             ],
             [
              0.2222222222222222,
              "#7201a8"
             ],
             [
              0.3333333333333333,
              "#9c179e"
             ],
             [
              0.4444444444444444,
              "#bd3786"
             ],
             [
              0.5555555555555556,
              "#d8576b"
             ],
             [
              0.6666666666666666,
              "#ed7953"
             ],
             [
              0.7777777777777778,
              "#fb9f3a"
             ],
             [
              0.8888888888888888,
              "#fdca26"
             ],
             [
              1,
              "#f0f921"
             ]
            ],
            "type": "surface"
           }
          ],
          "table": [
           {
            "cells": {
             "fill": {
              "color": "#EBF0F8"
             },
             "line": {
              "color": "white"
             }
            },
            "header": {
             "fill": {
              "color": "#C8D4E3"
             },
             "line": {
              "color": "white"
             }
            },
            "type": "table"
           }
          ]
         },
         "layout": {
          "annotationdefaults": {
           "arrowcolor": "#2a3f5f",
           "arrowhead": 0,
           "arrowwidth": 1
          },
          "autotypenumbers": "strict",
          "coloraxis": {
           "colorbar": {
            "outlinewidth": 0,
            "ticks": ""
           }
          },
          "colorscale": {
           "diverging": [
            [
             0,
             "#8e0152"
            ],
            [
             0.1,
             "#c51b7d"
            ],
            [
             0.2,
             "#de77ae"
            ],
            [
             0.3,
             "#f1b6da"
            ],
            [
             0.4,
             "#fde0ef"
            ],
            [
             0.5,
             "#f7f7f7"
            ],
            [
             0.6,
             "#e6f5d0"
            ],
            [
             0.7,
             "#b8e186"
            ],
            [
             0.8,
             "#7fbc41"
            ],
            [
             0.9,
             "#4d9221"
            ],
            [
             1,
             "#276419"
            ]
           ],
           "sequential": [
            [
             0,
             "#0d0887"
            ],
            [
             0.1111111111111111,
             "#46039f"
            ],
            [
             0.2222222222222222,
             "#7201a8"
            ],
            [
             0.3333333333333333,
             "#9c179e"
            ],
            [
             0.4444444444444444,
             "#bd3786"
            ],
            [
             0.5555555555555556,
             "#d8576b"
            ],
            [
             0.6666666666666666,
             "#ed7953"
            ],
            [
             0.7777777777777778,
             "#fb9f3a"
            ],
            [
             0.8888888888888888,
             "#fdca26"
            ],
            [
             1,
             "#f0f921"
            ]
           ],
           "sequentialminus": [
            [
             0,
             "#0d0887"
            ],
            [
             0.1111111111111111,
             "#46039f"
            ],
            [
             0.2222222222222222,
             "#7201a8"
            ],
            [
             0.3333333333333333,
             "#9c179e"
            ],
            [
             0.4444444444444444,
             "#bd3786"
            ],
            [
             0.5555555555555556,
             "#d8576b"
            ],
            [
             0.6666666666666666,
             "#ed7953"
            ],
            [
             0.7777777777777778,
             "#fb9f3a"
            ],
            [
             0.8888888888888888,
             "#fdca26"
            ],
            [
             1,
             "#f0f921"
            ]
           ]
          },
          "colorway": [
           "#636efa",
           "#EF553B",
           "#00cc96",
           "#ab63fa",
           "#FFA15A",
           "#19d3f3",
           "#FF6692",
           "#B6E880",
           "#FF97FF",
           "#FECB52"
          ],
          "font": {
           "color": "#2a3f5f"
          },
          "geo": {
           "bgcolor": "white",
           "lakecolor": "white",
           "landcolor": "#E5ECF6",
           "showlakes": true,
           "showland": true,
           "subunitcolor": "white"
          },
          "hoverlabel": {
           "align": "left"
          },
          "hovermode": "closest",
          "mapbox": {
           "style": "light"
          },
          "paper_bgcolor": "white",
          "plot_bgcolor": "#E5ECF6",
          "polar": {
           "angularaxis": {
            "gridcolor": "white",
            "linecolor": "white",
            "ticks": ""
           },
           "bgcolor": "#E5ECF6",
           "radialaxis": {
            "gridcolor": "white",
            "linecolor": "white",
            "ticks": ""
           }
          },
          "scene": {
           "xaxis": {
            "backgroundcolor": "#E5ECF6",
            "gridcolor": "white",
            "gridwidth": 2,
            "linecolor": "white",
            "showbackground": true,
            "ticks": "",
            "zerolinecolor": "white"
           },
           "yaxis": {
            "backgroundcolor": "#E5ECF6",
            "gridcolor": "white",
            "gridwidth": 2,
            "linecolor": "white",
            "showbackground": true,
            "ticks": "",
            "zerolinecolor": "white"
           },
           "zaxis": {
            "backgroundcolor": "#E5ECF6",
            "gridcolor": "white",
            "gridwidth": 2,
            "linecolor": "white",
            "showbackground": true,
            "ticks": "",
            "zerolinecolor": "white"
           }
          },
          "shapedefaults": {
           "line": {
            "color": "#2a3f5f"
           }
          },
          "ternary": {
           "aaxis": {
            "gridcolor": "white",
            "linecolor": "white",
            "ticks": ""
           },
           "baxis": {
            "gridcolor": "white",
            "linecolor": "white",
            "ticks": ""
           },
           "bgcolor": "#E5ECF6",
           "caxis": {
            "gridcolor": "white",
            "linecolor": "white",
            "ticks": ""
           }
          },
          "title": {
           "x": 0.05
          },
          "xaxis": {
           "automargin": true,
           "gridcolor": "white",
           "linecolor": "white",
           "ticks": "",
           "title": {
            "standoff": 15
           },
           "zerolinecolor": "white",
           "zerolinewidth": 2
          },
          "yaxis": {
           "automargin": true,
           "gridcolor": "white",
           "linecolor": "white",
           "ticks": "",
           "title": {
            "standoff": 15
           },
           "zerolinecolor": "white",
           "zerolinewidth": 2
          }
         }
        },
        "title": {
         "text": "UK Constituency Map"
        },
        "width": 630,
        "xaxis": {
         "anchor": "y",
         "domain": [
          0,
          1
         ],
         "showticklabels": false,
         "title": {
          "text": "X"
         },
         "visible": false
        },
        "yaxis": {
         "anchor": "x",
         "domain": [
          0,
          1
         ],
         "showticklabels": false,
         "title": {
          "text": "Y"
         },
         "visible": false
        }
       }
      },
      "text/html": [
       "<div>                            <div id=\"f4b542cc-d4d4-4fbb-a772-dd680258bdba\" class=\"plotly-graph-div\" style=\"height:870px; width:630px;\"></div>            <script type=\"text/javascript\">                require([\"plotly\"], function(Plotly) {                    window.PLOTLYENV=window.PLOTLYENV || {};                                    if (document.getElementById(\"f4b542cc-d4d4-4fbb-a772-dd680258bdba\")) {                    Plotly.newPlot(                        \"f4b542cc-d4d4-4fbb-a772-dd680258bdba\",                        [{\"customdata\":[[\"Berwick-upon-Tweed\",\"North East\",6,\"con safe\"],[\"Hexham\",\"North East\",6,\"con safe\"],[\"Penrith and The Border\",\"North West\",6,\"con safe\"],[\"Southport\",\"North West\",6,\"con safe\"],[\"Westmorland and Lonsdale\",\"North West\",6,\"con ld marginal\"],[\"East Yorkshire\",\"Yorkshire and The Humber\",6,\"con safe\"],[\"Scarborough and Whitby\",\"Yorkshire and The Humber\",6,\"con safe\"],[\"Skipton and Ripon\",\"Yorkshire and The Humber\",6,\"con safe\"],[\"Thirsk and Malton\",\"Yorkshire and The Humber\",6,\"con safe\"],[\"Boston and Skegness\",\"East Midlands\",6,\"con safe\"],[\"Derbyshire Dales\",\"East Midlands\",6,\"con safe\"],[\"Gainsborough\",\"East Midlands\",6,\"con safe\"],[\"Louth and Horncastle\",\"East Midlands\",6,\"con safe\"],[\"South Holland and The Deepings\",\"East Midlands\",6,\"con safe\"],[\"Hereford and South Herefordshire\",\"West Midlands\",6,\"con safe\"],[\"Ludlow\",\"West Midlands\",6,\"con safe\"],[\"North Herefordshire\",\"West Midlands\",6,\"con safe\"],[\"North Shropshire\",\"West Midlands\",6,\"con safe\"],[\"Shrewsbury and Atcham\",\"West Midlands\",6,\"con safe\"],[\"West Worcestershire\",\"West Midlands\",6,\"con safe\"],[\"Broadland\",\"East of England\",6,\"con safe\"],[\"Central Suffolk and North Ipswich\",\"East of England\",6,\"con safe\"],[\"Clacton\",\"East of England\",6,\"con safe\"],[\"Great Yarmouth\",\"East of England\",6,\"con safe\"],[\"Harwich and North Essex\",\"East of England\",6,\"con safe\"],[\"Mid Norfolk\",\"East of England\",6,\"con safe\"],[\"North Norfolk\",\"East of England\",6,\"con ld marginal\"],[\"North West Norfolk\",\"East of England\",6,\"con safe\"],[\"South Norfolk\",\"East of England\",6,\"con safe\"],[\"South West Norfolk\",\"East of England\",6,\"con safe\"],[\"Waveney\",\"East of England\",6,\"con safe\"],[\"Bexhill and Battle\",\"South East\",6,\"con safe\"],[\"Bognor Regis and Littlehampton\",\"South East\",6,\"con safe\"],[\"Chichester\",\"South East\",6,\"con safe\"],[\"Eastbourne\",\"South East\",6,\"con ld marginal\"],[\"Hastings and Rye\",\"South East\",6,\"con lab marginal\"],[\"Isle of Wight\",\"South East\",6,\"con safe\"],[\"New Forest West\",\"South East\",6,\"con safe\"],[\"North Thanet\",\"South East\",6,\"con safe\"],[\"South Thanet\",\"South East\",6,\"con safe\"],[\"Bridgwater and West Somerset\",\"South West\",6,\"con safe\"],[\"Camborne and Redruth\",\"South West\",6,\"con lab marginal\"],[\"Central Devon\",\"South West\",6,\"con safe\"],[\"Christchurch\",\"South West\",6,\"con safe\"],[\"East Devon\",\"South West\",6,\"con safe\"],[\"Forest of Dean\",\"South West\",6,\"con safe\"],[\"Newton Abbot\",\"South West\",6,\"con safe\"],[\"North Cornwall\",\"South West\",6,\"con safe\"],[\"North Devon\",\"South West\",6,\"con safe\"],[\"North Dorset\",\"South West\",6,\"con safe\"],[\"Somerton and Frome\",\"South West\",6,\"con safe\"],[\"South Dorset\",\"South West\",6,\"con safe\"],[\"South East Cornwall\",\"South West\",6,\"con safe\"],[\"St Austell and Newquay\",\"South West\",6,\"con safe\"],[\"St Ives\",\"South West\",6,\"con ld marginal\"],[\"Taunton Deane\",\"South West\",6,\"con safe\"],[\"Tiverton and Honiton\",\"South West\",6,\"con safe\"],[\"Torbay\",\"South West\",6,\"con safe\"],[\"Torridge and West Devon\",\"South West\",6,\"con safe\"],[\"Totnes\",\"South West\",6,\"con safe\"],[\"Truro and Falmouth\",\"South West\",6,\"con lab marginal\"],[\"Wells\",\"South West\",6,\"con ld marginal\"],[\"West Dorset\",\"South West\",6,\"con safe\"],[\"Weston-Super-Mare\",\"South West\",6,\"con safe\"],[\"Yeovil\",\"South West\",6,\"con safe\"],[\"Na h-Eileanan An Iar\",\"Scotland\",6,\"snp safe\"],[\"North East Fife\",\"Scotland\",6,\"ld snp marginal\"],[\"Orkney and Shetland\",\"Scotland\",6,\"ld snp marginal\"],[\"Ynys Mon\",\"Wales\",6,\"con lab marginal\"],[\"Monmouth\",\"Wales\",6,\"con safe\"],[\"Aberconwy\",\"Wales\",6,\"con lab marginal\"],[\"Clwyd West\",\"Wales\",6,\"con safe\"],[\"Vale of Clwyd\",\"Wales\",6,\"con lab marginal\"],[\"Dwyfor Meirionnydd\",\"Wales\",6,\"pc safe\"],[\"Montgomeryshire\",\"Wales\",6,\"con safe\"],[\"Ceredigion\",\"Wales\",6,\"ld pc marginal\"],[\"Preseli Pembrokeshire\",\"Wales\",6,\"con lab marginal\"],[\"Carmarthen West and Pembrokeshire South\",\"Wales\",6,\"con lab marginal\"],[\"Carmarthen East and Dinefwr\",\"Wales\",6,\"con pc marginal\"],[\"Brecon and Radnorshire\",\"Wales\",6,\"con ld marginal\"]],\"hovertemplate\":\"Constituency: %{customdata[0]}<br>Region: %{customdata[1]}<br>Cluster: %{customdata[2]}<br>YouGov Seat: %{customdata[3]}\",\"legendgroup\":\"#187970\",\"marker\":{\"color\":\"#636efa\",\"symbol\":\"square\",\"line\":{\"width\":0},\"size\":12},\"mode\":\"markers\",\"name\":\"#187970\",\"orientation\":\"v\",\"showlegend\":true,\"x\":[-4,-4,-5,-9,-4,3,2,-4,1,4,-3,2,4,4,-7,-8,-8,-8,-9,-7,7,10,10,8,10,6,6,5,9,7,8,10,2,-1,9,11,-6,-6,13,13,-11,-15,-13,-7,-11,-7,-12,-14,-12,-7,-8,-9,-14,-15,-16,-10,-11,-13,-13,-13,-15,-10,-9,-9,-10,-8,-4,-5,-14,-8,-12,-11,-10,-12,-11,-12,-15,-15,-14,-9],\"xaxis\":\"x\",\"y\":[17,16,15,9,13,10,11,11,11,5,3,5,6,3,-5,-2,-4,0,-1,-4,2,0,-3,2,-2,1,2,1,0,0,1,-15,-15,-15,-15,-14,-15,-12,-10,-11,-12,-17,-13,-13,-14,-6,-14,-13,-12,-12,-11,-15,-14,-15,-16,-13,-13,-15,-12,-16,-16,-12,-14,-12,-14,26,23,28,1,-5,0,0,0,-1,-1,-6,-7,-8,-7,-2],\"yaxis\":\"y\",\"type\":\"scatter\"},{\"customdata\":[[\"Bishop Auckland\",\"North East\",1,\"con lab marginal\"],[\"Blaydon\",\"North East\",1,\"lab safe\"],[\"Blyth Valley\",\"North East\",1,\"con lab marginal\"],[\"Darlington\",\"North East\",1,\"con lab marginal\"],[\"Easington\",\"North East\",1,\"lab safe\"],[\"Gateshead\",\"North East\",1,\"lab safe\"],[\"Hartlepool\",\"North East\",1,\"con lab marginal\"],[\"Houghton and Sunderland South\",\"North East\",1,\"lab safe\"],[\"Jarrow\",\"North East\",1,\"lab safe\"],[\"Middlesbrough South and East Cleveland\",\"North East\",1,\"con safe\"],[\"Newcastle upon Tyne North\",\"North East\",1,\"con lab marginal\"],[\"North Durham\",\"North East\",1,\"lab safe\"],[\"North Tyneside\",\"North East\",1,\"lab safe\"],[\"North West Durham\",\"North East\",1,\"con lab marginal\"],[\"Redcar\",\"North East\",1,\"con lab marginal\"],[\"Sedgefield\",\"North East\",1,\"con lab marginal\"],[\"South Shields\",\"North East\",1,\"lab safe\"],[\"Stockton North\",\"North East\",1,\"con lab marginal\"],[\"Stockton South\",\"North East\",1,\"con lab marginal\"],[\"Sunderland Central\",\"North East\",1,\"lab safe\"],[\"Wansbeck\",\"North East\",1,\"con lab marginal\"],[\"Washington and Sunderland West\",\"North East\",1,\"lab safe\"],[\"Ashton-under-Lyne\",\"North West\",1,\"con lab marginal\"],[\"Barrow and Furness\",\"North West\",1,\"con safe\"],[\"Birkenhead\",\"North West\",1,\"lab safe\"],[\"Blackpool North and Cleveleys\",\"North West\",1,\"con safe\"],[\"Blackpool South\",\"North West\",1,\"con lab marginal\"],[\"Bolton North East\",\"North West\",1,\"con lab marginal\"],[\"Bolton West\",\"North West\",1,\"con safe\"],[\"Bootle\",\"North West\",1,\"lab safe\"],[\"Burnley\",\"North West\",1,\"con lab marginal\"],[\"Bury North\",\"North West\",1,\"con lab marginal\"],[\"Bury South\",\"North West\",1,\"con lab marginal\"],[\"Carlisle\",\"North West\",1,\"con safe\"],[\"Copeland\",\"North West\",1,\"con safe\"],[\"Crewe and Nantwich\",\"North West\",1,\"con lab marginal\"],[\"Denton and Reddish\",\"North West\",1,\"lab safe\"],[\"Ellesmere Port and Neston\",\"North West\",1,\"con lab marginal\"],[\"Garston and Halewood\",\"North West\",1,\"lab safe\"],[\"Halton\",\"North West\",1,\"lab safe\"],[\"Heywood and Middleton\",\"North West\",1,\"con lab marginal\"],[\"Hyndburn\",\"North West\",1,\"con lab marginal\"],[\"Knowsley\",\"North West\",1,\"lab safe\"],[\"Leigh\",\"North West\",1,\"con lab marginal\"],[\"Liverpool, Walton\",\"North West\",1,\"lab safe\"],[\"Liverpool, West Derby\",\"North West\",1,\"lab safe\"],[\"Makerfield\",\"North West\",1,\"con lab marginal\"],[\"Morecambe and Lunesdale\",\"North West\",1,\"con lab marginal\"],[\"Oldham East and Saddleworth\",\"North West\",1,\"con lab marginal\"],[\"Pendle\",\"North West\",1,\"con safe\"],[\"Rossendale and Darwen\",\"North West\",1,\"con safe\"],[\"St Helens North\",\"North West\",1,\"lab safe\"],[\"St Helens South and Whiston\",\"North West\",1,\"lab safe\"],[\"Stalybridge and Hyde\",\"North West\",1,\"con lab marginal\"],[\"Wallasey\",\"North West\",1,\"lab safe\"],[\"Warrington North\",\"North West\",1,\"con lab marginal\"],[\"Warrington South\",\"North West\",1,\"con lab marginal\"],[\"Weaver Vale\",\"North West\",1,\"con lab marginal\"],[\"West Lancashire\",\"North West\",1,\"con lab marginal\"],[\"Wigan\",\"North West\",1,\"con lab marginal\"],[\"Workington\",\"North West\",1,\"con lab marginal\"],[\"Worsley and Eccles South\",\"North West\",1,\"con lab marginal\"],[\"Barnsley Central\",\"Yorkshire and The Humber\",1,\"lab safe\"],[\"Barnsley East\",\"Yorkshire and The Humber\",1,\"con lab marginal\"],[\"Batley and Spen\",\"Yorkshire and The Humber\",1,\"con lab marginal\"],[\"Bradford South\",\"Yorkshire and The Humber\",1,\"con lab marginal\"],[\"Brigg and Goole\",\"Yorkshire and The Humber\",1,\"con safe\"],[\"Dewsbury\",\"Yorkshire and The Humber\",1,\"con lab marginal\"],[\"Don Valley\",\"Yorkshire and The Humber\",1,\"con lab marginal\"],[\"Doncaster Central\",\"Yorkshire and The Humber\",1,\"con lab marginal\"],[\"Doncaster North\",\"Yorkshire and The Humber\",1,\"con lab marginal\"],[\"Great Grimsby\",\"Yorkshire and The Humber\",1,\"con lab marginal\"],[\"Halifax\",\"Yorkshire and The Humber\",1,\"con lab marginal\"],[\"Hemsworth\",\"Yorkshire and The Humber\",1,\"con lab marginal\"],[\"Keighley\",\"Yorkshire and The Humber\",1,\"con lab marginal\"],[\"Kingston upon Hull East\",\"Yorkshire and The Humber\",1,\"con lab marginal\"],[\"Kingston upon Hull West and Hessle\",\"Yorkshire and The Humber\",1,\"con lab marginal\"],[\"Morley and Outwood\",\"Yorkshire and The Humber\",1,\"con safe\"],[\"Normanton, Pontefract and Castleford\",\"Yorkshire and The Humber\",1,\"con lab marginal\"],[\"Penistone and Stocksbridge\",\"Yorkshire and The Humber\",1,\"con lab marginal\"],[\"Rother Valley\",\"Yorkshire and The Humber\",1,\"con lab marginal\"],[\"Rotherham\",\"Yorkshire and The Humber\",1,\"con lab marginal\"],[\"Scunthorpe\",\"Yorkshire and The Humber\",1,\"con lab marginal\"],[\"Sheffield South East\",\"Yorkshire and The Humber\",1,\"con lab marginal\"],[\"Sheffield, Brightside and Hillsborough\",\"Yorkshire and The Humber\",1,\"lab safe\"],[\"Sheffield, Heeley\",\"Yorkshire and The Humber\",1,\"lab safe\"],[\"Wakefield\",\"Yorkshire and The Humber\",1,\"con lab marginal\"],[\"Wentworth and Dearne\",\"Yorkshire and The Humber\",1,\"con lab marginal\"],[\"Amber Valley\",\"East Midlands\",1,\"con safe\"],[\"Ashfield\",\"East Midlands\",1,\"con lab marginal\"],[\"Bassetlaw\",\"East Midlands\",1,\"con lab marginal\"],[\"Bolsover\",\"East Midlands\",1,\"con lab marginal\"],[\"Chesterfield\",\"East Midlands\",1,\"con lab marginal\"],[\"Mansfield\",\"East Midlands\",1,\"con safe\"],[\"North East Derbyshire\",\"East Midlands\",1,\"con safe\"],[\"Sherwood\",\"East Midlands\",1,\"con safe\"],[\"Aldridge-Brownhills\",\"West Midlands\",1,\"con safe\"],[\"Birmingham, Northfield\",\"West Midlands\",1,\"con lab marginal\"],[\"Burton\",\"West Midlands\",1,\"con safe\"],[\"Cannock Chase\",\"West Midlands\",1,\"con safe\"],[\"Dudley North\",\"West Midlands\",1,\"con lab marginal\"],[\"Dudley South\",\"West Midlands\",1,\"con safe\"],[\"Halesowen and Rowley Regis\",\"West Midlands\",1,\"con safe\"],[\"Newcastle-under-Lyme\",\"West Midlands\",1,\"con lab marginal\"],[\"Stoke-on-Trent North\",\"West Midlands\",1,\"con lab marginal\"],[\"Stoke-on-Trent South\",\"West Midlands\",1,\"con safe\"],[\"Stourbridge\",\"West Midlands\",1,\"con safe\"],[\"Walsall North\",\"West Midlands\",1,\"con safe\"],[\"Worcester\",\"West Midlands\",1,\"con safe\"],[\"Wyre Forest\",\"West Midlands\",1,\"con safe\"],[\"Norwich North\",\"East of England\",1,\"con lab marginal\"],[\"Plymouth, Moor View\",\"South West\",1,\"con safe\"],[\"Delyn\",\"Wales\",1,\"con lab marginal\"],[\"Alyn and Deeside\",\"Wales\",1,\"con lab marginal\"],[\"Wrexham\",\"Wales\",1,\"con lab marginal\"],[\"Llanelli\",\"Wales\",1,\"lab safe\"],[\"Swansea East\",\"Wales\",1,\"lab safe\"],[\"Aberavon\",\"Wales\",1,\"lab safe\"],[\"Rhondda\",\"Wales\",1,\"lab safe\"],[\"Torfaen\",\"Wales\",1,\"con lab marginal\"],[\"Newport East\",\"Wales\",1,\"con lab marginal\"],[\"Newport West\",\"Wales\",1,\"con lab marginal\"],[\"Clwyd South\",\"Wales\",1,\"con lab marginal\"],[\"Neath\",\"Wales\",1,\"lab safe\"],[\"Cynon Valley\",\"Wales\",1,\"lab safe\"],[\"Merthyr Tydfil and Rhymney\",\"Wales\",1,\"lab safe\"],[\"Blaenau Gwent\",\"Wales\",1,\"lab safe\"],[\"Bridgend\",\"Wales\",1,\"con lab marginal\"],[\"Ogmore\",\"Wales\",1,\"lab safe\"],[\"Pontypridd\",\"Wales\",1,\"lab safe\"],[\"Caerphilly\",\"Wales\",1,\"lab safe\"],[\"Islwyn\",\"Wales\",1,\"lab safe\"]],\"hovertemplate\":\"Constituency: %{customdata[0]}<br>Region: %{customdata[1]}<br>Cluster: %{customdata[2]}<br>YouGov Seat: %{customdata[3]}\",\"legendgroup\":\"#47DBCD\",\"marker\":{\"color\":\"#EF553B\",\"symbol\":\"square\",\"line\":{\"width\":0},\"size\":12},\"mode\":\"markers\",\"name\":\"#47DBCD\",\"orientation\":\"v\",\"showlegend\":true,\"x\":[-2,-3,-2,-1,0,-3,1,-1,-1,2,-3,-2,-1,-3,1,-1,0,0,0,0,-3,-2,-5,-5,-10,-6,-8,-7,-8,-10,-4,-6,-6,-4,-6,-6,-4,-9,-9,-8,-5,-5,-9,-8,-10,-10,-9,-5,-5,-5,-5,-9,-9,-4,-11,-8,-8,-7,-8,-7,-5,-8,-2,-1,-1,-2,1,-2,1,1,0,3,-3,0,-3,3,3,0,1,-3,1,0,2,0,-2,-2,-1,-1,0,1,2,0,-1,1,-2,2,-3,-4,-3,-4,-7,-6,-6,-5,-4,-3,-5,-6,-6,-8,7,-14,-11,-10,-9,-14,-13,-12,-11,-9,-8,-9,-10,-12,-10,-9,-9,-12,-11,-11,-10,-9],\"xaxis\":\"x\",\"y\":[12,14,17,12,14,15,14,14,15,12,16,14,16,13,13,13,16,13,12,15,17,15,6,13,2,12,11,7,7,7,10,9,8,14,13,1,5,1,3,2,8,10,6,6,6,5,7,12,7,11,9,5,4,6,3,4,3,2,8,8,14,5,6,6,8,8,7,7,5,6,6,6,8,7,10,7,8,8,8,6,4,5,6,4,5,4,7,5,2,2,4,3,3,3,3,3,-1,-4,1,-1,-3,-4,-3,1,2,0,-4,-1,-5,-3,1,-15,1,1,0,-8,-7,-8,-6,-5,-6,-7,-1,-7,-5,-4,-3,-9,-8,-7,-6,-6],\"yaxis\":\"y\",\"type\":\"scatter\"},{\"customdata\":[[\"City of Durham\",\"North East\",5,\"con lab marginal\"],[\"Middlesbrough\",\"North East\",5,\"lab safe\"],[\"Newcastle upon Tyne Central\",\"North East\",5,\"lab safe\"],[\"Newcastle upon Tyne East\",\"North East\",5,\"lab safe\"],[\"Blackburn\",\"North West\",5,\"lab safe\"],[\"Blackley and Broughton\",\"North West\",5,\"lab safe\"],[\"Bolton South East\",\"North West\",5,\"lab safe\"],[\"Lancaster and Fleetwood\",\"North West\",5,\"con lab marginal\"],[\"Liverpool, Riverside\",\"North West\",5,\"lab safe\"],[\"Liverpool, Wavertree\",\"North West\",5,\"lab safe\"],[\"Manchester Central\",\"North West\",5,\"lab safe\"],[\"Manchester, Gorton\",\"North West\",5,\"lab safe\"],[\"Manchester, Withington\",\"North West\",5,\"lab safe\"],[\"Oldham West and Royton\",\"North West\",5,\"lab safe\"],[\"Preston\",\"North West\",5,\"lab safe\"],[\"Rochdale\",\"North West\",5,\"lab safe\"],[\"Salford and Eccles\",\"North West\",5,\"lab safe\"],[\"Stockport\",\"North West\",5,\"lab safe\"],[\"Stretford and Urmston\",\"North West\",5,\"lab safe\"],[\"Wythenshawe and Sale East\",\"North West\",5,\"lab safe\"],[\"Bradford East\",\"Yorkshire and The Humber\",5,\"lab safe\"],[\"Bradford West\",\"Yorkshire and The Humber\",5,\"lab safe\"],[\"Huddersfield\",\"Yorkshire and The Humber\",5,\"con lab marginal\"],[\"Kingston upon Hull North\",\"Yorkshire and The Humber\",5,\"lab safe\"],[\"Leeds Central\",\"Yorkshire and The Humber\",5,\"lab safe\"],[\"Leeds East\",\"Yorkshire and The Humber\",5,\"lab safe\"],[\"Leeds North East\",\"Yorkshire and The Humber\",5,\"lab safe\"],[\"Leeds North West\",\"Yorkshire and The Humber\",5,\"lab safe\"],[\"Leeds West\",\"Yorkshire and The Humber\",5,\"lab safe\"],[\"Sheffield Central\",\"Yorkshire and The Humber\",5,\"lab safe\"],[\"York Central\",\"Yorkshire and The Humber\",5,\"lab safe\"],[\"Derby North\",\"East Midlands\",5,\"con lab marginal\"],[\"Derby South\",\"East Midlands\",5,\"con lab marginal\"],[\"Leicester South\",\"East Midlands\",5,\"lab safe\"],[\"Leicester West\",\"East Midlands\",5,\"lab safe\"],[\"Lincoln\",\"East Midlands\",5,\"con lab marginal\"],[\"Loughborough\",\"East Midlands\",5,\"con lab marginal\"],[\"Nottingham East\",\"East Midlands\",5,\"lab safe\"],[\"Nottingham North\",\"East Midlands\",5,\"lab safe\"],[\"Nottingham South\",\"East Midlands\",5,\"lab safe\"],[\"Birmingham, Edgbaston\",\"West Midlands\",5,\"con lab marginal\"],[\"Birmingham, Erdington\",\"West Midlands\",5,\"con lab marginal\"],[\"Birmingham, Hall Green\",\"West Midlands\",5,\"lab safe\"],[\"Birmingham, Hodge Hill\",\"West Midlands\",5,\"lab safe\"],[\"Birmingham, Ladywood\",\"West Midlands\",5,\"lab safe\"],[\"Birmingham, Perry Barr\",\"West Midlands\",5,\"lab safe\"],[\"Birmingham, Selly Oak\",\"West Midlands\",5,\"lab safe\"],[\"Birmingham, Yardley\",\"West Midlands\",5,\"lab safe\"],[\"Coventry North East\",\"West Midlands\",5,\"lab safe\"],[\"Coventry North West\",\"West Midlands\",5,\"con lab marginal\"],[\"Coventry South\",\"West Midlands\",5,\"con lab marginal\"],[\"Stoke-on-Trent Central\",\"West Midlands\",5,\"con lab marginal\"],[\"Walsall South\",\"West Midlands\",5,\"con lab marginal\"],[\"Warley\",\"West Midlands\",5,\"lab safe\"],[\"Warwick and Leamington\",\"West Midlands\",5,\"con lab marginal\"],[\"West Bromwich East\",\"West Midlands\",5,\"con lab marginal\"],[\"West Bromwich West\",\"West Midlands\",5,\"con lab marginal\"],[\"Wolverhampton North East\",\"West Midlands\",5,\"con lab marginal\"],[\"Wolverhampton South East\",\"West Midlands\",5,\"con lab marginal\"],[\"Wolverhampton South West\",\"West Midlands\",5,\"con lab marginal\"],[\"Cambridge\",\"East of England\",5,\"lab safe\"],[\"Norwich South\",\"East of England\",5,\"lab safe\"],[\"Brighton, Kemptown\",\"South East\",5,\"lab safe\"],[\"Brighton, Pavilion\",\"South East\",5,\"green safe\"],[\"Canterbury\",\"South East\",5,\"con lab marginal\"],[\"Hove\",\"South East\",5,\"lab safe\"],[\"Oxford East\",\"South East\",5,\"lab safe\"],[\"Portsmouth South\",\"South East\",5,\"con lab marginal\"],[\"Reading East\",\"South East\",5,\"con lab marginal\"],[\"Southampton, Itchen\",\"South East\",5,\"con lab marginal\"],[\"Southampton, Test\",\"South East\",5,\"lab safe\"],[\"Bath\",\"South West\",5,\"ld safe\"],[\"Bournemouth West\",\"South West\",5,\"con safe\"],[\"Bristol East\",\"South West\",5,\"lab safe\"],[\"Bristol North West\",\"South West\",5,\"con lab marginal\"],[\"Bristol South\",\"South West\",5,\"lab safe\"],[\"Bristol West\",\"South West\",5,\"lab safe\"],[\"Exeter\",\"South West\",5,\"lab safe\"],[\"Plymouth, Sutton and Devonport\",\"South West\",5,\"con lab marginal\"],[\"Aberdeen North\",\"Scotland\",5,\"snp safe\"],[\"Aberdeen South\",\"Scotland\",5,\"con snp marginal\"],[\"Dundee West\",\"Scotland\",5,\"snp safe\"],[\"Edinburgh East\",\"Scotland\",5,\"snp safe\"],[\"Edinburgh North and Leith\",\"Scotland\",5,\"snp safe\"],[\"Edinburgh South\",\"Scotland\",5,\"lab safe\"],[\"Edinburgh South West\",\"Scotland\",5,\"snp safe\"],[\"Glasgow Central\",\"Scotland\",5,\"snp safe\"],[\"Glasgow North\",\"Scotland\",5,\"snp safe\"],[\"Swansea West\",\"Wales\",5,\"lab safe\"],[\"Cardiff Central\",\"Wales\",5,\"lab safe\"],[\"Arfon\",\"Wales\",5,\"pc safe\"],[\"Cardiff West\",\"Wales\",5,\"lab safe\"],[\"Cardiff South and Penarth\",\"Wales\",5,\"lab safe\"]],\"hovertemplate\":\"Constituency: %{customdata[0]}<br>Region: %{customdata[1]}<br>Cluster: %{customdata[2]}<br>YouGov Seat: %{customdata[3]}\",\"legendgroup\":\"#016794\",\"marker\":{\"color\":\"#00cc96\",\"symbol\":\"square\",\"line\":{\"width\":0},\"size\":12},\"mode\":\"markers\",\"name\":\"#016794\",\"orientation\":\"v\",\"showlegend\":true,\"x\":[-2,1,-4,-2,-6,-6,-7,-4,-10,-10,-6,-5,-6,-6,-7,-4,-7,-5,-7,-6,-2,-3,-3,3,0,1,1,0,-1,-1,0,-1,-1,2,1,3,2,2,2,1,-4,-2,-3,-1,-3,-3,-3,-2,-1,-1,0,-4,-5,-5,-1,-4,-5,-7,-6,-7,6,8,7,6,12,5,0,-2,-3,-5,-5,-6,-8,-7,-8,-7,-8,-12,-14,-4,-3,-6,-5,-6,-5,-6,-9,-9,-13,-9,-13,-10,-10],\"xaxis\":\"x\",\"y\":[13,12,15,16,10,6,6,12,4,3,5,5,4,7,11,8,5,4,4,3,9,9,7,9,9,9,10,10,9,4,11,2,1,-2,-1,5,0,1,2,1,-3,-2,-4,-2,-3,-2,-5,-3,-3,-4,-4,1,-1,-3,-5,-2,-2,-1,-2,-2,-1,0,-15,-15,-12,-15,-5,-14,-7,-13,-12,-9,-14,-9,-9,-10,-10,-13,-16,25,24,23,19,19,18,18,19,20,-8,-8,-1,-8,-9],\"yaxis\":\"y\",\"type\":\"scatter\"},{\"customdata\":[[\"Tynemouth\",\"North East\",0,\"con lab marginal\"],[\"Cheadle\",\"North West\",0,\"con ld marginal\"],[\"City of Chester\",\"North West\",0,\"con lab marginal\"],[\"Congleton\",\"North West\",0,\"con safe\"],[\"Eddisbury\",\"North West\",0,\"con safe\"],[\"Fylde\",\"North West\",0,\"con safe\"],[\"Hazel Grove\",\"North West\",0,\"con ld marginal\"],[\"Macclesfield\",\"North West\",0,\"con safe\"],[\"Ribble Valley\",\"North West\",0,\"con safe\"],[\"Sefton Central\",\"North West\",0,\"lab safe\"],[\"South Ribble\",\"North West\",0,\"con safe\"],[\"Wirral South\",\"North West\",0,\"con lab marginal\"],[\"Wirral West\",\"North West\",0,\"con lab marginal\"],[\"Wyre and Preston North\",\"North West\",0,\"con safe\"],[\"Beverley and Holderness\",\"Yorkshire and The Humber\",0,\"con safe\"],[\"Calder Valley\",\"Yorkshire and The Humber\",0,\"con lab marginal\"],[\"Colne Valley\",\"Yorkshire and The Humber\",0,\"con lab marginal\"],[\"Elmet and Rothwell\",\"Yorkshire and The Humber\",0,\"con safe\"],[\"Haltemprice and Howden\",\"Yorkshire and The Humber\",0,\"con safe\"],[\"Harrogate and Knaresborough\",\"Yorkshire and The Humber\",0,\"con safe\"],[\"Pudsey\",\"Yorkshire and The Humber\",0,\"con lab marginal\"],[\"Richmond (Yorks)\",\"Yorkshire and The Humber\",0,\"con safe\"],[\"Selby and Ainsty\",\"Yorkshire and The Humber\",0,\"con safe\"],[\"Shipley\",\"Yorkshire and The Humber\",0,\"con lab marginal\"],[\"York Outer\",\"Yorkshire and The Humber\",0,\"con safe\"],[\"Broxtowe\",\"East Midlands\",0,\"con lab marginal\"],[\"Charnwood\",\"East Midlands\",0,\"con safe\"],[\"Daventry\",\"East Midlands\",0,\"con safe\"],[\"Grantham and Stamford\",\"East Midlands\",0,\"con safe\"],[\"Harborough\",\"East Midlands\",0,\"con safe\"],[\"High Peak\",\"East Midlands\",0,\"con lab marginal\"],[\"Mid Derbyshire\",\"East Midlands\",0,\"con safe\"],[\"Newark\",\"East Midlands\",0,\"con safe\"],[\"Rushcliffe\",\"East Midlands\",0,\"con safe\"],[\"Rutland and Melton\",\"East Midlands\",0,\"con safe\"],[\"Sleaford and North Hykeham\",\"East Midlands\",0,\"con safe\"],[\"Bromsgrove\",\"West Midlands\",0,\"con safe\"],[\"Lichfield\",\"West Midlands\",0,\"con safe\"],[\"Mid Worcestershire\",\"West Midlands\",0,\"con safe\"],[\"Solihull\",\"West Midlands\",0,\"con safe\"],[\"South Staffordshire\",\"West Midlands\",0,\"con safe\"],[\"Stafford\",\"West Midlands\",0,\"con safe\"],[\"Staffordshire Moorlands\",\"West Midlands\",0,\"con safe\"],[\"Stone\",\"West Midlands\",0,\"con safe\"],[\"Stratford-on-Avon\",\"West Midlands\",0,\"con safe\"],[\"Sutton Coldfield\",\"West Midlands\",0,\"con safe\"],[\"The Wrekin\",\"West Midlands\",0,\"con safe\"],[\"Braintree\",\"East of England\",0,\"con safe\"],[\"Bury St Edmunds\",\"East of England\",0,\"con safe\"],[\"Huntingdon\",\"East of England\",0,\"con safe\"],[\"Maldon\",\"East of England\",0,\"con safe\"],[\"North East Cambridgeshire\",\"East of England\",0,\"con safe\"],[\"North West Cambridgeshire\",\"East of England\",0,\"con safe\"],[\"Rayleigh and Wickford\",\"East of England\",0,\"con safe\"],[\"South Suffolk\",\"East of England\",0,\"con safe\"],[\"Suffolk Coastal\",\"East of England\",0,\"con safe\"],[\"West Suffolk\",\"East of England\",0,\"con safe\"],[\"Witham\",\"East of England\",0,\"con safe\"],[\"Arundel and South Downs\",\"South East\",0,\"con safe\"],[\"Ashford\",\"South East\",0,\"con safe\"],[\"Dover\",\"South East\",0,\"con safe\"],[\"Fareham\",\"South East\",0,\"con safe\"],[\"Faversham and Mid Kent\",\"South East\",0,\"con safe\"],[\"Folkestone and Hythe\",\"South East\",0,\"con safe\"],[\"Gosport\",\"South East\",0,\"con safe\"],[\"Lewes\",\"South East\",0,\"con ld marginal\"],[\"Maidstone and The Weald\",\"South East\",0,\"con safe\"],[\"Meon Valley\",\"South East\",0,\"con safe\"],[\"New Forest East\",\"South East\",0,\"con safe\"],[\"North West Hampshire\",\"South East\",0,\"con safe\"],[\"Wealden\",\"South East\",0,\"con safe\"],[\"Chippenham\",\"South West\",0,\"con safe\"],[\"Devizes\",\"South West\",0,\"con safe\"],[\"Mid Dorset and North Poole\",\"South West\",0,\"con safe\"],[\"North East Somerset\",\"South West\",0,\"con safe\"],[\"North Wiltshire\",\"South West\",0,\"con safe\"],[\"Salisbury\",\"South West\",0,\"con safe\"],[\"South West Devon\",\"South West\",0,\"con safe\"],[\"South West Wiltshire\",\"South West\",0,\"con safe\"],[\"Stroud\",\"South West\",0,\"con lab marginal\"],[\"Tewkesbury\",\"South West\",0,\"con safe\"],[\"Thornbury and Yate\",\"South West\",0,\"con ld marginal\"],[\"East Dunbartonshire\",\"Scotland\",0,\"ld snp marginal\"],[\"East Renfrewshire\",\"Scotland\",0,\"con snp marginal\"],[\"Edinburgh West\",\"Scotland\",0,\"ld snp marginal\"],[\"Gower\",\"Wales\",0,\"con lab marginal\"],[\"Cardiff North\",\"Wales\",0,\"con lab marginal\"],[\"Vale of Glamorgan\",\"Wales\",0,\"con lab marginal\"]],\"hovertemplate\":\"Constituency: %{customdata[0]}<br>Region: %{customdata[1]}<br>Cluster: %{customdata[2]}<br>YouGov Seat: %{customdata[3]}\",\"legendgroup\":\"#2CBDFE\",\"marker\":{\"color\":\"#ab63fa\",\"symbol\":\"square\",\"line\":{\"width\":0},\"size\":12},\"mode\":\"markers\",\"name\":\"#2CBDFE\",\"orientation\":\"v\",\"showlegend\":true,\"x\":[-1,-5,-8,-5,-7,-7,-4,-4,-3,-9,-8,-9,-11,-6,4,-4,-4,2,2,-2,-1,-3,2,-2,-1,0,3,1,3,3,-3,-2,3,3,4,4,-4,-2,-5,-2,-6,-4,-3,-5,-3,-2,-7,8,9,5,11,6,5,9,10,9,8,10,0,12,13,-4,12,12,-3,8,11,-4,-6,-4,11,-5,-5,-8,-6,-5,-6,-13,-7,-6,-6,-8,-8,-10,-7,-14,-10,-11],\"xaxis\":\"x\",\"y\":[17,3,1,2,1,10,4,3,12,8,9,2,2,11,8,9,7,10,9,11,10,11,8,10,11,1,0,-3,3,-1,4,2,4,1,2,4,-5,0,-5,-4,0,0,2,0,-6,-1,0,-2,-2,-2,-4,0,-1,-5,-1,1,-1,-4,-15,-13,-12,-14,-11,-14,-14,-15,-12,-13,-13,-10,-13,-9,-10,-12,-10,-8,-11,-14,-11,-7,-6,-7,22,18,19,-9,-7,-9],\"yaxis\":\"y\",\"type\":\"scatter\"},{\"customdata\":[[\"Altrincham and Sale West\",\"North West\",2,\"con safe\"],[\"Tatton\",\"North West\",2,\"con safe\"],[\"Sheffield, Hallam\",\"Yorkshire and The Humber\",2,\"lab ld marginal\"],[\"South Northamptonshire\",\"East Midlands\",2,\"con safe\"],[\"Kenilworth and Southam\",\"West Midlands\",2,\"con safe\"],[\"Brentwood and Ongar\",\"East of England\",2,\"con safe\"],[\"Chelmsford\",\"East of England\",2,\"con safe\"],[\"Epping Forest\",\"East of England\",2,\"con safe\"],[\"Hertford and Stortford\",\"East of England\",2,\"con safe\"],[\"Hertsmere\",\"East of England\",2,\"con safe\"],[\"Hitchin and Harpenden\",\"East of England\",2,\"con safe\"],[\"Mid Bedfordshire\",\"East of England\",2,\"con safe\"],[\"North East Bedfordshire\",\"East of England\",2,\"con safe\"],[\"North East Hertfordshire\",\"East of England\",2,\"con safe\"],[\"Saffron Walden\",\"East of England\",2,\"con safe\"],[\"South Cambridgeshire\",\"East of England\",2,\"con ld marginal\"],[\"South East Cambridgeshire\",\"East of England\",2,\"con safe\"],[\"South West Hertfordshire\",\"East of England\",2,\"con safe\"],[\"St Albans\",\"East of England\",2,\"con ld marginal\"],[\"Watford\",\"East of England\",2,\"con safe\"],[\"Beckenham\",\"London\",2,\"con safe\"],[\"Bromley and Chislehurst\",\"London\",2,\"con safe\"],[\"Carshalton and Wallington\",\"London\",2,\"con ld marginal\"],[\"Croydon South\",\"London\",2,\"con safe\"],[\"Kingston and Surbiton\",\"London\",2,\"ld safe\"],[\"Old Bexley and Sidcup\",\"London\",2,\"con safe\"],[\"Orpington\",\"London\",2,\"con safe\"],[\"Ruislip, Northwood and Pinner\",\"London\",2,\"con safe\"],[\"Sutton and Cheam\",\"London\",2,\"con safe\"],[\"Twickenham\",\"London\",2,\"ld safe\"],[\"Uxbridge and South Ruislip\",\"London\",2,\"con lab marginal\"],[\"Banbury\",\"South East\",2,\"con safe\"],[\"Beaconsfield\",\"South East\",2,\"con safe\"],[\"Bracknell\",\"South East\",2,\"con safe\"],[\"Buckingham\",\"South East\",2,\"con safe\"],[\"Chesham and Amersham\",\"South East\",2,\"con safe\"],[\"East Hampshire\",\"South East\",2,\"con safe\"],[\"East Surrey\",\"South East\",2,\"con safe\"],[\"Eastleigh\",\"South East\",2,\"con safe\"],[\"Epsom and Ewell\",\"South East\",2,\"con safe\"],[\"Esher and Walton\",\"South East\",2,\"con ld marginal\"],[\"Guildford\",\"South East\",2,\"con ld marginal\"],[\"Henley\",\"South East\",2,\"con safe\"],[\"Horsham\",\"South East\",2,\"con safe\"],[\"Maidenhead\",\"South East\",2,\"con safe\"],[\"Mid Sussex\",\"South East\",2,\"con safe\"],[\"Mole Valley\",\"South East\",2,\"con safe\"],[\"Newbury\",\"South East\",2,\"con safe\"],[\"North East Hampshire\",\"South East\",2,\"con safe\"],[\"Oxford West and Abingdon\",\"South East\",2,\"ld safe\"],[\"Reigate\",\"South East\",2,\"con safe\"],[\"Romsey and Southampton North\",\"South East\",2,\"con safe\"],[\"Runnymede and Weybridge\",\"South East\",2,\"con safe\"],[\"Sevenoaks\",\"South East\",2,\"con safe\"],[\"South West Surrey\",\"South East\",2,\"con safe\"],[\"Surrey Heath\",\"South East\",2,\"con safe\"],[\"Tonbridge and Malling\",\"South East\",2,\"con safe\"],[\"Tunbridge Wells\",\"South East\",2,\"con safe\"],[\"Wantage\",\"South East\",2,\"con safe\"],[\"Winchester\",\"South East\",2,\"con ld marginal\"],[\"Windsor\",\"South East\",2,\"con safe\"],[\"Witney\",\"South East\",2,\"con safe\"],[\"Woking\",\"South East\",2,\"con safe\"],[\"Wokingham\",\"South East\",2,\"con ld marginal\"],[\"Cheltenham\",\"South West\",2,\"con ld marginal\"],[\"North Somerset\",\"South West\",2,\"con safe\"],[\"The Cotswolds\",\"South West\",2,\"con safe\"]],\"hovertemplate\":\"Constituency: %{customdata[0]}<br>Region: %{customdata[1]}<br>Cluster: %{customdata[2]}<br>YouGov Seat: %{customdata[3]}\",\"legendgroup\":\"#F5B14C\",\"marker\":{\"color\":\"#FFA15A\",\"symbol\":\"square\",\"line\":{\"width\":0},\"size\":12},\"mode\":\"markers\",\"name\":\"#F5B14C\",\"orientation\":\"v\",\"showlegend\":true,\"x\":[-7,-6,-3,2,1,8,9,9,7,7,5,4,4,6,7,6,7,3,6,7,7,8,4,5,0,9,8,1,2,0,0,1,-1,-2,2,0,-3,9,-4,1,-1,-2,1,1,-2,10,0,-4,-3,0,2,-5,-1,9,-2,-1,10,10,-2,-4,-2,-1,-2,-4,-7,-9,-5],\"xaxis\":\"x\",\"y\":[3,2,5,-4,-4,-4,-4,-6,-3,-5,-3,-4,-2,-3,-2,-2,-1,-6,-5,-6,-14,-13,-14,-14,-13,-12,-14,-7,-13,-12,-8,-5,-8,-10,-5,-7,-12,-14,-12,-13,-13,-13,-6,-15,-7,-14,-14,-7,-9,-6,-14,-11,-12,-13,-12,-10,-12,-13,-6,-11,-9,-6,-11,-9,-7,-11,-6],\"yaxis\":\"y\",\"type\":\"scatter\"},{\"customdata\":[[\"Cleethorpes\",\"Yorkshire and The Humber\",7,\"con safe\"],[\"Bosworth\",\"East Midlands\",7,\"con safe\"],[\"Corby\",\"East Midlands\",7,\"con safe\"],[\"Erewash\",\"East Midlands\",7,\"con safe\"],[\"Gedling\",\"East Midlands\",7,\"con lab marginal\"],[\"Kettering\",\"East Midlands\",7,\"con safe\"],[\"North West Leicestershire\",\"East Midlands\",7,\"con safe\"],[\"Northampton North\",\"East Midlands\",7,\"con lab marginal\"],[\"Northampton South\",\"East Midlands\",7,\"con safe\"],[\"South Derbyshire\",\"East Midlands\",7,\"con safe\"],[\"South Leicestershire\",\"East Midlands\",7,\"con safe\"],[\"Wellingborough\",\"East Midlands\",7,\"con safe\"],[\"Meriden\",\"West Midlands\",7,\"con safe\"],[\"North Warwickshire\",\"West Midlands\",7,\"con safe\"],[\"Nuneaton\",\"West Midlands\",7,\"con safe\"],[\"Redditch\",\"West Midlands\",7,\"con safe\"],[\"Rugby\",\"West Midlands\",7,\"con safe\"],[\"Tamworth\",\"West Midlands\",7,\"con safe\"],[\"Telford\",\"West Midlands\",7,\"con safe\"],[\"Basildon and Billericay\",\"East of England\",7,\"con safe\"],[\"Bedford\",\"East of England\",7,\"con lab marginal\"],[\"Broxbourne\",\"East of England\",7,\"con safe\"],[\"Castle Point\",\"East of England\",7,\"con safe\"],[\"Colchester\",\"East of England\",7,\"con safe\"],[\"Harlow\",\"East of England\",7,\"con safe\"],[\"Hemel Hempstead\",\"East of England\",7,\"con safe\"],[\"Ipswich\",\"East of England\",7,\"con lab marginal\"],[\"Peterborough\",\"East of England\",7,\"con lab marginal\"],[\"Rochford and Southend East\",\"East of England\",7,\"con safe\"],[\"South Basildon and East Thurrock\",\"East of England\",7,\"con safe\"],[\"South West Bedfordshire\",\"East of England\",7,\"con safe\"],[\"Southend West\",\"East of England\",7,\"con safe\"],[\"Stevenage\",\"East of England\",7,\"con safe\"],[\"Thurrock\",\"East of England\",7,\"con safe\"],[\"Welwyn Hatfield\",\"East of England\",7,\"con safe\"],[\"Bexleyheath and Crayford\",\"London\",7,\"con safe\"],[\"Dagenham and Rainham\",\"London\",7,\"con lab marginal\"],[\"Hornchurch and Upminster\",\"London\",7,\"con safe\"],[\"Romford\",\"London\",7,\"con safe\"],[\"Aldershot\",\"South East\",7,\"con safe\"],[\"Aylesbury\",\"South East\",7,\"con safe\"],[\"Basingstoke\",\"South East\",7,\"con safe\"],[\"Chatham and Aylesford\",\"South East\",7,\"con safe\"],[\"Crawley\",\"South East\",7,\"con lab marginal\"],[\"Dartford\",\"South East\",7,\"con safe\"],[\"East Worthing and Shoreham\",\"South East\",7,\"con safe\"],[\"Gillingham and Rainham\",\"South East\",7,\"con safe\"],[\"Gravesham\",\"South East\",7,\"con safe\"],[\"Havant\",\"South East\",7,\"con safe\"],[\"Milton Keynes North\",\"South East\",7,\"con lab marginal\"],[\"Milton Keynes South\",\"South East\",7,\"con lab marginal\"],[\"Portsmouth North\",\"South East\",7,\"con safe\"],[\"Reading West\",\"South East\",7,\"con lab marginal\"],[\"Rochester and Strood\",\"South East\",7,\"con safe\"],[\"Sittingbourne and Sheppey\",\"South East\",7,\"con safe\"],[\"Spelthorne\",\"South East\",7,\"con safe\"],[\"Worthing West\",\"South East\",7,\"con safe\"],[\"Wycombe\",\"South East\",7,\"con lab marginal\"],[\"Bournemouth East\",\"South West\",7,\"con safe\"],[\"Filton and Bradley Stoke\",\"South West\",7,\"con lab marginal\"],[\"Gloucester\",\"South West\",7,\"con safe\"],[\"Kingswood\",\"South West\",7,\"con safe\"],[\"North Swindon\",\"South West\",7,\"con safe\"],[\"Poole\",\"South West\",7,\"con safe\"],[\"South Swindon\",\"South West\",7,\"con lab marginal\"]],\"hovertemplate\":\"Constituency: %{customdata[0]}<br>Region: %{customdata[1]}<br>Cluster: %{customdata[2]}<br>YouGov Seat: %{customdata[3]}\",\"legendgroup\":\"#9D2EC5\",\"marker\":{\"color\":\"#19d3f3\",\"symbol\":\"square\",\"line\":{\"width\":0},\"size\":12},\"mode\":\"markers\",\"name\":\"#9D2EC5\",\"orientation\":\"v\",\"showlegend\":true,\"x\":[2,0,4,1,3,4,0,3,2,-2,1,4,-2,-1,0,-4,0,-1,-8,8,4,8,10,9,8,5,9,5,10,9,3,10,6,8,7,9,9,8,7,-3,2,-3,10,1,9,4,11,10,-1,3,3,-3,-3,11,12,-1,3,-1,-8,-8,-7,-6,-5,-9,-4],\"xaxis\":\"x\",\"y\":[7,-1,1,0,2,0,0,-2,-3,1,-2,-1,-5,-1,-2,-6,-3,0,-1,-5,-3,-6,-7,-3,-3,-5,-1,0,-5,-7,-5,-6,-4,-7,-4,-10,-8,-8,-7,-11,-6,-10,-11,-14,-11,-15,-11,-10,-14,-3,-4,-13,-8,-10,-10,-11,-15,-7,-13,-8,-8,-8,-7,-13,-8],\"yaxis\":\"y\",\"type\":\"scatter\"},{\"customdata\":[[\"Leicester East\",\"East Midlands\",4,\"lab safe\"],[\"Luton North\",\"East of England\",4,\"con lab marginal\"],[\"Luton South\",\"East of England\",4,\"lab safe\"],[\"Barking\",\"London\",4,\"lab safe\"],[\"Battersea\",\"London\",4,\"con lab marginal\"],[\"Bermondsey and Old Southwark\",\"London\",4,\"lab safe\"],[\"Bethnal Green and Bow\",\"London\",4,\"lab safe\"],[\"Brent Central\",\"London\",4,\"lab safe\"],[\"Brent North\",\"London\",4,\"lab safe\"],[\"Brentford and Isleworth\",\"London\",4,\"con lab marginal\"],[\"Camberwell and Peckham\",\"London\",4,\"lab safe\"],[\"Chelsea and Fulham\",\"London\",4,\"con ld marginal\"],[\"Chingford and Woodford Green\",\"London\",4,\"con lab marginal\"],[\"Chipping Barnet\",\"London\",4,\"con lab marginal\"],[\"Cities of London and Westminster\",\"London\",4,\"con lab marginal\"],[\"Croydon Central\",\"London\",4,\"con lab marginal\"],[\"Croydon North\",\"London\",4,\"lab safe\"],[\"Dulwich and West Norwood\",\"London\",4,\"lab safe\"],[\"Ealing Central and Acton\",\"London\",4,\"lab safe\"],[\"Ealing North\",\"London\",4,\"lab safe\"],[\"Ealing, Southall\",\"London\",4,\"lab safe\"],[\"East Ham\",\"London\",4,\"lab safe\"],[\"Edmonton\",\"London\",4,\"lab safe\"],[\"Eltham\",\"London\",4,\"con lab marginal\"],[\"Enfield North\",\"London\",4,\"con lab marginal\"],[\"Enfield, Southgate\",\"London\",4,\"con lab marginal\"],[\"Erith and Thamesmead\",\"London\",4,\"con lab marginal\"],[\"Feltham and Heston\",\"London\",4,\"lab safe\"],[\"Finchley and Golders Green\",\"London\",4,\"con safe\"],[\"Greenwich and Woolwich\",\"London\",4,\"lab safe\"],[\"Hackney North and Stoke Newington\",\"London\",4,\"lab safe\"],[\"Hackney South and Shoreditch\",\"London\",4,\"lab safe\"],[\"Hammersmith\",\"London\",4,\"lab safe\"],[\"Hampstead and Kilburn\",\"London\",4,\"lab safe\"],[\"Harrow East\",\"London\",4,\"con lab marginal\"],[\"Harrow West\",\"London\",4,\"lab safe\"],[\"Hayes and Harlington\",\"London\",4,\"lab safe\"],[\"Hendon\",\"London\",4,\"con lab marginal\"],[\"Holborn and St Pancras\",\"London\",4,\"lab safe\"],[\"Hornsey and Wood Green\",\"London\",4,\"lab safe\"],[\"Ilford North\",\"London\",4,\"con lab marginal\"],[\"Ilford South\",\"London\",4,\"lab safe\"],[\"Islington North\",\"London\",4,\"lab safe\"],[\"Islington South and Finsbury\",\"London\",4,\"lab safe\"],[\"Kensington\",\"London\",4,\"con ld marginal\"],[\"Lewisham East\",\"London\",4,\"lab safe\"],[\"Lewisham West and Penge\",\"London\",4,\"lab safe\"],[\"Lewisham, Deptford\",\"London\",4,\"lab safe\"],[\"Leyton and Wanstead\",\"London\",4,\"lab safe\"],[\"Mitcham and Morden\",\"London\",4,\"lab safe\"],[\"Poplar and Limehouse\",\"London\",4,\"lab safe\"],[\"Putney\",\"London\",4,\"con lab marginal\"],[\"Richmond Park\",\"London\",4,\"con ld marginal\"],[\"Streatham\",\"London\",4,\"lab safe\"],[\"Tooting\",\"London\",4,\"lab safe\"],[\"Tottenham\",\"London\",4,\"lab safe\"],[\"Vauxhall\",\"London\",4,\"lab safe\"],[\"Walthamstow\",\"London\",4,\"lab safe\"],[\"West Ham\",\"London\",4,\"lab safe\"],[\"Westminster North\",\"London\",4,\"lab safe\"],[\"Wimbledon\",\"London\",4,\"con ld marginal\"],[\"Slough\",\"South East\",4,\"lab safe\"]],\"hovertemplate\":\"Constituency: %{customdata[0]}<br>Region: %{customdata[1]}<br>Cluster: %{customdata[2]}<br>YouGov Seat: %{customdata[3]}\",\"legendgroup\":\"#661D98\",\"marker\":{\"color\":\"#FF6692\",\"symbol\":\"square\",\"line\":{\"width\":0},\"size\":12},\"mode\":\"markers\",\"name\":\"#661D98\",\"orientation\":\"v\",\"showlegend\":true,\"x\":[2,5,4,8,4,5,7,2,1,1,6,2,6,3,4,6,6,5,1,0,0,7,5,8,5,4,8,0,3,7,5,6,2,3,2,1,-1,2,4,4,6,7,4,5,3,7,7,6,6,3,8,3,1,4,3,4,5,5,6,3,2,-2],\"xaxis\":\"x\",\"y\":[-1,-4,-5,-9,-12,-11,-10,-9,-9,-11,-12,-11,-6,-7,-11,-14,-13,-13,-10,-9,-10,-9,-7,-12,-6,-6,-11,-11,-8,-11,-9,-10,-10,-9,-8,-8,-9,-7,-10,-7,-7,-8,-9,-10,-10,-13,-12,-11,-8,-14,-10,-12,-12,-13,-13,-8,-12,-8,-9,-11,-12,-8],\"yaxis\":\"y\",\"type\":\"scatter\"},{\"customdata\":[[\"Airdrie and Shotts\",\"Scotland\",3,\"lab snp marginal\"],[\"Angus\",\"Scotland\",3,\"con snp marginal\"],[\"Argyll and Bute\",\"Scotland\",3,\"con snp marginal\"],[\"Ayr, Carrick and Cumnock\",\"Scotland\",3,\"con snp marginal\"],[\"Banff and Buchan\",\"Scotland\",3,\"con snp marginal\"],[\"Berwickshire, Roxburgh and Selkirk\",\"Scotland\",3,\"con snp marginal\"],[\"Caithness, Sutherland and Easter Ross\",\"Scotland\",3,\"ld snp marginal\"],[\"Central Ayrshire\",\"Scotland\",3,\"con snp marginal\"],[\"Coatbridge, Chryston and Bellshill\",\"Scotland\",3,\"lab snp marginal\"],[\"Cumbernauld, Kilsyth and Kirkintilloch East\",\"Scotland\",3,\"snp safe\"],[\"Dumfries and Galloway\",\"Scotland\",3,\"con snp marginal\"],[\"Dumfriesshire, Clydesdale and Tweeddale\",\"Scotland\",3,\"con snp marginal\"],[\"Dundee East\",\"Scotland\",3,\"snp safe\"],[\"Dunfermline and West Fife\",\"Scotland\",3,\"con snp marginal\"],[\"East Kilbride, Strathaven and Lesmahagow\",\"Scotland\",3,\"snp safe\"],[\"East Lothian\",\"Scotland\",3,\"lab snp marginal\"],[\"Falkirk\",\"Scotland\",3,\"snp safe\"],[\"Glasgow East\",\"Scotland\",3,\"lab snp marginal\"],[\"Glasgow North East\",\"Scotland\",3,\"lab snp marginal\"],[\"Glasgow North West\",\"Scotland\",3,\"snp safe\"],[\"Glasgow South\",\"Scotland\",3,\"snp safe\"],[\"Glasgow South West\",\"Scotland\",3,\"snp safe\"],[\"Glenrothes\",\"Scotland\",3,\"snp safe\"],[\"Gordon\",\"Scotland\",3,\"con snp marginal\"],[\"Inverclyde\",\"Scotland\",3,\"snp safe\"],[\"Inverness, Nairn, Badenoch and Strathspey\",\"Scotland\",3,\"snp safe\"],[\"Kilmarnock and Loudoun\",\"Scotland\",3,\"snp safe\"],[\"Kirkcaldy and Cowdenbeath\",\"Scotland\",3,\"lab snp marginal\"],[\"Lanark and Hamilton East\",\"Scotland\",3,\"con snp marginal\"],[\"Linlithgow and East Falkirk\",\"Scotland\",3,\"con snp marginal\"],[\"Livingston\",\"Scotland\",3,\"snp safe\"],[\"Midlothian\",\"Scotland\",3,\"lab snp marginal\"],[\"Moray\",\"Scotland\",3,\"con snp marginal\"],[\"Motherwell and Wishaw\",\"Scotland\",3,\"lab snp marginal\"],[\"North Ayrshire and Arran\",\"Scotland\",3,\"con snp marginal\"],[\"Ochil and South Perthshire\",\"Scotland\",3,\"con snp marginal\"],[\"Paisley and Renfrewshire North\",\"Scotland\",3,\"snp safe\"],[\"Paisley and Renfrewshire South\",\"Scotland\",3,\"snp safe\"],[\"Perth and North Perthshire\",\"Scotland\",3,\"con snp marginal\"],[\"Ross, Skye and Lochaber\",\"Scotland\",3,\"snp safe\"],[\"Rutherglen and Hamilton West\",\"Scotland\",3,\"lab snp marginal\"],[\"Stirling\",\"Scotland\",3,\"con snp marginal\"],[\"West Aberdeenshire and Kincardine\",\"Scotland\",3,\"con snp marginal\"],[\"West Dunbartonshire\",\"Scotland\",3,\"lab snp marginal\"]],\"hovertemplate\":\"Constituency: %{customdata[0]}<br>Region: %{customdata[1]}<br>Cluster: %{customdata[2]}<br>YouGov Seat: %{customdata[3]}\",\"legendgroup\":\"#F3A0F2\",\"marker\":{\"color\":\"#B6E880\",\"symbol\":\"square\",\"line\":{\"width\":0},\"size\":12},\"mode\":\"markers\",\"name\":\"#F3A0F2\",\"orientation\":\"v\",\"showlegend\":true,\"x\":[-7,-5,-8,-8,-5,-5,-6,-10,-8,-8,-6,-5,-5,-6,-8,-4,-7,-8,-9,-10,-9,-10,-4,-5,-11,-7,-7,-5,-7,-6,-7,-6,-6,-8,-11,-6,-10,-11,-7,-7,-9,-7,-4,-9],\"xaxis\":\"x\",\"y\":[20,23,23,16,24,17,26,17,20,21,16,16,22,21,17,18,21,18,21,21,18,19,22,25,21,25,16,21,17,20,18,17,24,19,18,22,20,19,23,24,17,22,24,22],\"yaxis\":\"y\",\"type\":\"scatter\"}],                        {\"template\":{\"data\":{\"bar\":[{\"error_x\":{\"color\":\"#2a3f5f\"},\"error_y\":{\"color\":\"#2a3f5f\"},\"marker\":{\"line\":{\"color\":\"#E5ECF6\",\"width\":0.5},\"pattern\":{\"fillmode\":\"overlay\",\"size\":10,\"solidity\":0.2}},\"type\":\"bar\"}],\"barpolar\":[{\"marker\":{\"line\":{\"color\":\"#E5ECF6\",\"width\":0.5},\"pattern\":{\"fillmode\":\"overlay\",\"size\":10,\"solidity\":0.2}},\"type\":\"barpolar\"}],\"carpet\":[{\"aaxis\":{\"endlinecolor\":\"#2a3f5f\",\"gridcolor\":\"white\",\"linecolor\":\"white\",\"minorgridcolor\":\"white\",\"startlinecolor\":\"#2a3f5f\"},\"baxis\":{\"endlinecolor\":\"#2a3f5f\",\"gridcolor\":\"white\",\"linecolor\":\"white\",\"minorgridcolor\":\"white\",\"startlinecolor\":\"#2a3f5f\"},\"type\":\"carpet\"}],\"choropleth\":[{\"colorbar\":{\"outlinewidth\":0,\"ticks\":\"\"},\"type\":\"choropleth\"}],\"contour\":[{\"colorbar\":{\"outlinewidth\":0,\"ticks\":\"\"},\"colorscale\":[[0.0,\"#0d0887\"],[0.1111111111111111,\"#46039f\"],[0.2222222222222222,\"#7201a8\"],[0.3333333333333333,\"#9c179e\"],[0.4444444444444444,\"#bd3786\"],[0.5555555555555556,\"#d8576b\"],[0.6666666666666666,\"#ed7953\"],[0.7777777777777778,\"#fb9f3a\"],[0.8888888888888888,\"#fdca26\"],[1.0,\"#f0f921\"]],\"type\":\"contour\"}],\"contourcarpet\":[{\"colorbar\":{\"outlinewidth\":0,\"ticks\":\"\"},\"type\":\"contourcarpet\"}],\"heatmap\":[{\"colorbar\":{\"outlinewidth\":0,\"ticks\":\"\"},\"colorscale\":[[0.0,\"#0d0887\"],[0.1111111111111111,\"#46039f\"],[0.2222222222222222,\"#7201a8\"],[0.3333333333333333,\"#9c179e\"],[0.4444444444444444,\"#bd3786\"],[0.5555555555555556,\"#d8576b\"],[0.6666666666666666,\"#ed7953\"],[0.7777777777777778,\"#fb9f3a\"],[0.8888888888888888,\"#fdca26\"],[1.0,\"#f0f921\"]],\"type\":\"heatmap\"}],\"heatmapgl\":[{\"colorbar\":{\"outlinewidth\":0,\"ticks\":\"\"},\"colorscale\":[[0.0,\"#0d0887\"],[0.1111111111111111,\"#46039f\"],[0.2222222222222222,\"#7201a8\"],[0.3333333333333333,\"#9c179e\"],[0.4444444444444444,\"#bd3786\"],[0.5555555555555556,\"#d8576b\"],[0.6666666666666666,\"#ed7953\"],[0.7777777777777778,\"#fb9f3a\"],[0.8888888888888888,\"#fdca26\"],[1.0,\"#f0f921\"]],\"type\":\"heatmapgl\"}],\"histogram\":[{\"marker\":{\"pattern\":{\"fillmode\":\"overlay\",\"size\":10,\"solidity\":0.2}},\"type\":\"histogram\"}],\"histogram2d\":[{\"colorbar\":{\"outlinewidth\":0,\"ticks\":\"\"},\"colorscale\":[[0.0,\"#0d0887\"],[0.1111111111111111,\"#46039f\"],[0.2222222222222222,\"#7201a8\"],[0.3333333333333333,\"#9c179e\"],[0.4444444444444444,\"#bd3786\"],[0.5555555555555556,\"#d8576b\"],[0.6666666666666666,\"#ed7953\"],[0.7777777777777778,\"#fb9f3a\"],[0.8888888888888888,\"#fdca26\"],[1.0,\"#f0f921\"]],\"type\":\"histogram2d\"}],\"histogram2dcontour\":[{\"colorbar\":{\"outlinewidth\":0,\"ticks\":\"\"},\"colorscale\":[[0.0,\"#0d0887\"],[0.1111111111111111,\"#46039f\"],[0.2222222222222222,\"#7201a8\"],[0.3333333333333333,\"#9c179e\"],[0.4444444444444444,\"#bd3786\"],[0.5555555555555556,\"#d8576b\"],[0.6666666666666666,\"#ed7953\"],[0.7777777777777778,\"#fb9f3a\"],[0.8888888888888888,\"#fdca26\"],[1.0,\"#f0f921\"]],\"type\":\"histogram2dcontour\"}],\"mesh3d\":[{\"colorbar\":{\"outlinewidth\":0,\"ticks\":\"\"},\"type\":\"mesh3d\"}],\"parcoords\":[{\"line\":{\"colorbar\":{\"outlinewidth\":0,\"ticks\":\"\"}},\"type\":\"parcoords\"}],\"pie\":[{\"automargin\":true,\"type\":\"pie\"}],\"scatter\":[{\"marker\":{\"colorbar\":{\"outlinewidth\":0,\"ticks\":\"\"}},\"type\":\"scatter\"}],\"scatter3d\":[{\"line\":{\"colorbar\":{\"outlinewidth\":0,\"ticks\":\"\"}},\"marker\":{\"colorbar\":{\"outlinewidth\":0,\"ticks\":\"\"}},\"type\":\"scatter3d\"}],\"scattercarpet\":[{\"marker\":{\"colorbar\":{\"outlinewidth\":0,\"ticks\":\"\"}},\"type\":\"scattercarpet\"}],\"scattergeo\":[{\"marker\":{\"colorbar\":{\"outlinewidth\":0,\"ticks\":\"\"}},\"type\":\"scattergeo\"}],\"scattergl\":[{\"marker\":{\"colorbar\":{\"outlinewidth\":0,\"ticks\":\"\"}},\"type\":\"scattergl\"}],\"scattermapbox\":[{\"marker\":{\"colorbar\":{\"outlinewidth\":0,\"ticks\":\"\"}},\"type\":\"scattermapbox\"}],\"scatterpolar\":[{\"marker\":{\"colorbar\":{\"outlinewidth\":0,\"ticks\":\"\"}},\"type\":\"scatterpolar\"}],\"scatterpolargl\":[{\"marker\":{\"colorbar\":{\"outlinewidth\":0,\"ticks\":\"\"}},\"type\":\"scatterpolargl\"}],\"scatterternary\":[{\"marker\":{\"colorbar\":{\"outlinewidth\":0,\"ticks\":\"\"}},\"type\":\"scatterternary\"}],\"surface\":[{\"colorbar\":{\"outlinewidth\":0,\"ticks\":\"\"},\"colorscale\":[[0.0,\"#0d0887\"],[0.1111111111111111,\"#46039f\"],[0.2222222222222222,\"#7201a8\"],[0.3333333333333333,\"#9c179e\"],[0.4444444444444444,\"#bd3786\"],[0.5555555555555556,\"#d8576b\"],[0.6666666666666666,\"#ed7953\"],[0.7777777777777778,\"#fb9f3a\"],[0.8888888888888888,\"#fdca26\"],[1.0,\"#f0f921\"]],\"type\":\"surface\"}],\"table\":[{\"cells\":{\"fill\":{\"color\":\"#EBF0F8\"},\"line\":{\"color\":\"white\"}},\"header\":{\"fill\":{\"color\":\"#C8D4E3\"},\"line\":{\"color\":\"white\"}},\"type\":\"table\"}]},\"layout\":{\"annotationdefaults\":{\"arrowcolor\":\"#2a3f5f\",\"arrowhead\":0,\"arrowwidth\":1},\"autotypenumbers\":\"strict\",\"coloraxis\":{\"colorbar\":{\"outlinewidth\":0,\"ticks\":\"\"}},\"colorscale\":{\"diverging\":[[0,\"#8e0152\"],[0.1,\"#c51b7d\"],[0.2,\"#de77ae\"],[0.3,\"#f1b6da\"],[0.4,\"#fde0ef\"],[0.5,\"#f7f7f7\"],[0.6,\"#e6f5d0\"],[0.7,\"#b8e186\"],[0.8,\"#7fbc41\"],[0.9,\"#4d9221\"],[1,\"#276419\"]],\"sequential\":[[0.0,\"#0d0887\"],[0.1111111111111111,\"#46039f\"],[0.2222222222222222,\"#7201a8\"],[0.3333333333333333,\"#9c179e\"],[0.4444444444444444,\"#bd3786\"],[0.5555555555555556,\"#d8576b\"],[0.6666666666666666,\"#ed7953\"],[0.7777777777777778,\"#fb9f3a\"],[0.8888888888888888,\"#fdca26\"],[1.0,\"#f0f921\"]],\"sequentialminus\":[[0.0,\"#0d0887\"],[0.1111111111111111,\"#46039f\"],[0.2222222222222222,\"#7201a8\"],[0.3333333333333333,\"#9c179e\"],[0.4444444444444444,\"#bd3786\"],[0.5555555555555556,\"#d8576b\"],[0.6666666666666666,\"#ed7953\"],[0.7777777777777778,\"#fb9f3a\"],[0.8888888888888888,\"#fdca26\"],[1.0,\"#f0f921\"]]},\"colorway\":[\"#636efa\",\"#EF553B\",\"#00cc96\",\"#ab63fa\",\"#FFA15A\",\"#19d3f3\",\"#FF6692\",\"#B6E880\",\"#FF97FF\",\"#FECB52\"],\"font\":{\"color\":\"#2a3f5f\"},\"geo\":{\"bgcolor\":\"white\",\"lakecolor\":\"white\",\"landcolor\":\"#E5ECF6\",\"showlakes\":true,\"showland\":true,\"subunitcolor\":\"white\"},\"hoverlabel\":{\"align\":\"left\"},\"hovermode\":\"closest\",\"mapbox\":{\"style\":\"light\"},\"paper_bgcolor\":\"white\",\"plot_bgcolor\":\"#E5ECF6\",\"polar\":{\"angularaxis\":{\"gridcolor\":\"white\",\"linecolor\":\"white\",\"ticks\":\"\"},\"bgcolor\":\"#E5ECF6\",\"radialaxis\":{\"gridcolor\":\"white\",\"linecolor\":\"white\",\"ticks\":\"\"}},\"scene\":{\"xaxis\":{\"backgroundcolor\":\"#E5ECF6\",\"gridcolor\":\"white\",\"gridwidth\":2,\"linecolor\":\"white\",\"showbackground\":true,\"ticks\":\"\",\"zerolinecolor\":\"white\"},\"yaxis\":{\"backgroundcolor\":\"#E5ECF6\",\"gridcolor\":\"white\",\"gridwidth\":2,\"linecolor\":\"white\",\"showbackground\":true,\"ticks\":\"\",\"zerolinecolor\":\"white\"},\"zaxis\":{\"backgroundcolor\":\"#E5ECF6\",\"gridcolor\":\"white\",\"gridwidth\":2,\"linecolor\":\"white\",\"showbackground\":true,\"ticks\":\"\",\"zerolinecolor\":\"white\"}},\"shapedefaults\":{\"line\":{\"color\":\"#2a3f5f\"}},\"ternary\":{\"aaxis\":{\"gridcolor\":\"white\",\"linecolor\":\"white\",\"ticks\":\"\"},\"baxis\":{\"gridcolor\":\"white\",\"linecolor\":\"white\",\"ticks\":\"\"},\"bgcolor\":\"#E5ECF6\",\"caxis\":{\"gridcolor\":\"white\",\"linecolor\":\"white\",\"ticks\":\"\"}},\"title\":{\"x\":0.05},\"xaxis\":{\"automargin\":true,\"gridcolor\":\"white\",\"linecolor\":\"white\",\"ticks\":\"\",\"title\":{\"standoff\":15},\"zerolinecolor\":\"white\",\"zerolinewidth\":2},\"yaxis\":{\"automargin\":true,\"gridcolor\":\"white\",\"linecolor\":\"white\",\"ticks\":\"\",\"title\":{\"standoff\":15},\"zerolinecolor\":\"white\",\"zerolinewidth\":2}}},\"xaxis\":{\"anchor\":\"y\",\"domain\":[0.0,1.0],\"title\":{\"text\":\"X\"},\"visible\":false,\"showticklabels\":false},\"yaxis\":{\"anchor\":\"x\",\"domain\":[0.0,1.0],\"title\":{\"text\":\"Y\"},\"visible\":false,\"showticklabels\":false},\"legend\":{\"title\":{\"text\":\"Colors\"},\"tracegroupgap\":0},\"title\":{\"text\":\"UK Constituency Map\"},\"height\":870,\"width\":630,\"showlegend\":false,\"plot_bgcolor\":\"rgba(0,0,0,0)\"},                        {\"responsive\": true}                    ).then(function(){\n",
       "                            \n",
       "var gd = document.getElementById('f4b542cc-d4d4-4fbb-a772-dd680258bdba');\n",
       "var x = new MutationObserver(function (mutations, observer) {{\n",
       "        var display = window.getComputedStyle(gd).display;\n",
       "        if (!display || display === 'none') {{\n",
       "            console.log([gd, 'removed!']);\n",
       "            Plotly.purge(gd);\n",
       "            observer.disconnect();\n",
       "        }}\n",
       "}});\n",
       "\n",
       "// Listen for the removal of the full notebook cells\n",
       "var notebookContainer = gd.closest('#notebook-container');\n",
       "if (notebookContainer) {{\n",
       "    x.observe(notebookContainer, {childList: true});\n",
       "}}\n",
       "\n",
       "// Listen for the clearing of the current output cell\n",
       "var outputEl = gd.closest('.output');\n",
       "if (outputEl) {{\n",
       "    x.observe(outputEl, {childList: true});\n",
       "}}\n",
       "\n",
       "                        })                };                });            </script>        </div>"
      ]
     },
     "metadata": {},
     "output_type": "display_data"
    }
   ],
   "source": [
    "interactive_kpi_map(datamap, dat)"
   ]
  },
  {
   "cell_type": "code",
   "execution_count": 45,
   "id": "4e80a258",
   "metadata": {},
   "outputs": [
    {
     "data": {
      "application/javascript": [
       "if (typeof require !== 'undefined')\n",
       "    require.config({\n",
       "        paths: {\n",
       "            jquery: 'https://code.jquery.com/jquery-3.5.1.min',\n",
       "            datatables: 'https://cdn.datatables.net/1.11.3/js/jquery.dataTables.min',\n",
       "        }\n",
       "    });\n"
      ],
      "text/plain": [
       "<IPython.core.display.Javascript object>"
      ]
     },
     "metadata": {},
     "output_type": "display_data"
    },
    {
     "data": {
      "text/html": [
       "<div>\n",
       "<style scoped>\n",
       "    .dataframe tbody tr th:only-of-type {\n",
       "        vertical-align: middle;\n",
       "    }\n",
       "\n",
       "    .dataframe tbody tr th {\n",
       "        vertical-align: top;\n",
       "    }\n",
       "\n",
       "    .dataframe thead th {\n",
       "        text-align: right;\n",
       "    }\n",
       "</style>\n",
       "<table border=\"1\" class=\"dataframe\">\n",
       "  <thead>\n",
       "    <tr style=\"text-align: right;\">\n",
       "      <th></th>\n",
       "      <th>ID</th>\n",
       "      <th>Constituency</th>\n",
       "      <th>Region</th>\n",
       "      <th>seat_types_yg</th>\n",
       "      <th>Colors</th>\n",
       "      <th>Cluster</th>\n",
       "    </tr>\n",
       "  </thead>\n",
       "  <tbody>\n",
       "    <tr>\n",
       "      <th>0</th>\n",
       "      <td>E14000554</td>\n",
       "      <td>Berwick-upon-Tweed</td>\n",
       "      <td>North East</td>\n",
       "      <td>con safe</td>\n",
       "      <td>#F5B14C</td>\n",
       "      <td>2</td>\n",
       "    </tr>\n",
       "    <tr>\n",
       "      <th>1</th>\n",
       "      <td>E14000569</td>\n",
       "      <td>Bishop Auckland</td>\n",
       "      <td>North East</td>\n",
       "      <td>con lab marginal</td>\n",
       "      <td>#661D98</td>\n",
       "      <td>4</td>\n",
       "    </tr>\n",
       "    <tr>\n",
       "      <th>2</th>\n",
       "      <td>E14000574</td>\n",
       "      <td>Blaydon</td>\n",
       "      <td>North East</td>\n",
       "      <td>lab safe</td>\n",
       "      <td>#661D98</td>\n",
       "      <td>4</td>\n",
       "    </tr>\n",
       "    <tr>\n",
       "      <th>3</th>\n",
       "      <td>E14000575</td>\n",
       "      <td>Blyth Valley</td>\n",
       "      <td>North East</td>\n",
       "      <td>con lab marginal</td>\n",
       "      <td>#661D98</td>\n",
       "      <td>4</td>\n",
       "    </tr>\n",
       "    <tr>\n",
       "      <th>4</th>\n",
       "      <td>E14000641</td>\n",
       "      <td>City of Durham</td>\n",
       "      <td>North East</td>\n",
       "      <td>con lab marginal</td>\n",
       "      <td>#47DBCD</td>\n",
       "      <td>1</td>\n",
       "    </tr>\n",
       "    <tr>\n",
       "      <th>...</th>\n",
       "      <td>...</td>\n",
       "      <td>...</td>\n",
       "      <td>...</td>\n",
       "      <td>...</td>\n",
       "      <td>...</td>\n",
       "      <td>...</td>\n",
       "    </tr>\n",
       "    <tr>\n",
       "      <th>626</th>\n",
       "      <td>W07000076</td>\n",
       "      <td>Caerphilly</td>\n",
       "      <td>Wales</td>\n",
       "      <td>lab safe</td>\n",
       "      <td>#661D98</td>\n",
       "      <td>4</td>\n",
       "    </tr>\n",
       "    <tr>\n",
       "      <th>627</th>\n",
       "      <td>W07000077</td>\n",
       "      <td>Islwyn</td>\n",
       "      <td>Wales</td>\n",
       "      <td>lab safe</td>\n",
       "      <td>#661D98</td>\n",
       "      <td>4</td>\n",
       "    </tr>\n",
       "    <tr>\n",
       "      <th>628</th>\n",
       "      <td>W07000078</td>\n",
       "      <td>Vale of Glamorgan</td>\n",
       "      <td>Wales</td>\n",
       "      <td>con lab marginal</td>\n",
       "      <td>#2CBDFE</td>\n",
       "      <td>0</td>\n",
       "    </tr>\n",
       "    <tr>\n",
       "      <th>629</th>\n",
       "      <td>W07000079</td>\n",
       "      <td>Cardiff West</td>\n",
       "      <td>Wales</td>\n",
       "      <td>lab safe</td>\n",
       "      <td>#47DBCD</td>\n",
       "      <td>1</td>\n",
       "    </tr>\n",
       "    <tr>\n",
       "      <th>630</th>\n",
       "      <td>W07000080</td>\n",
       "      <td>Cardiff South and Penarth</td>\n",
       "      <td>Wales</td>\n",
       "      <td>lab safe</td>\n",
       "      <td>#47DBCD</td>\n",
       "      <td>1</td>\n",
       "    </tr>\n",
       "  </tbody>\n",
       "</table>\n",
       "<p>631 rows × 6 columns</p>\n",
       "</div>"
      ],
      "text/plain": [
       "            ID               Constituency      Region     seat_types_yg  \\\n",
       "0    E14000554         Berwick-upon-Tweed  North East          con safe   \n",
       "1    E14000569            Bishop Auckland  North East  con lab marginal   \n",
       "2    E14000574                    Blaydon  North East          lab safe   \n",
       "3    E14000575               Blyth Valley  North East  con lab marginal   \n",
       "4    E14000641             City of Durham  North East  con lab marginal   \n",
       "..         ...                        ...         ...               ...   \n",
       "626  W07000076                 Caerphilly       Wales          lab safe   \n",
       "627  W07000077                     Islwyn       Wales          lab safe   \n",
       "628  W07000078          Vale of Glamorgan       Wales  con lab marginal   \n",
       "629  W07000079               Cardiff West       Wales          lab safe   \n",
       "630  W07000080  Cardiff South and Penarth       Wales          lab safe   \n",
       "\n",
       "      Colors  Cluster  \n",
       "0    #F5B14C        2  \n",
       "1    #661D98        4  \n",
       "2    #661D98        4  \n",
       "3    #661D98        4  \n",
       "4    #47DBCD        1  \n",
       "..       ...      ...  \n",
       "626  #661D98        4  \n",
       "627  #661D98        4  \n",
       "628  #2CBDFE        0  \n",
       "629  #47DBCD        1  \n",
       "630  #47DBCD        1  \n",
       "\n",
       "[631 rows x 6 columns]"
      ]
     },
     "execution_count": 45,
     "metadata": {},
     "output_type": "execute_result"
    }
   ],
   "source": [
    "itables.init_notebook_mode(all_interactive=False)\n",
    "dat"
   ]
  },
  {
   "cell_type": "code",
   "execution_count": 135,
   "id": "99f05cce-6063-42d0-8747-658349010150",
   "metadata": {},
   "outputs": [
    {
     "data": {
      "application/javascript": [
       "if (typeof require !== 'undefined')\n",
       "    require.config({\n",
       "        paths: {\n",
       "            jquery: 'https://code.jquery.com/jquery-3.5.1.min',\n",
       "            datatables: 'https://cdn.datatables.net/1.11.3/js/jquery.dataTables.min',\n",
       "        }\n",
       "    });\n"
      ],
      "text/plain": [
       "<IPython.core.display.Javascript object>"
      ]
     },
     "metadata": {},
     "output_type": "display_data"
    },
    {
     "data": {
      "text/html": [
       "<div>\n",
       "<style scoped>\n",
       "    .dataframe tbody tr th:only-of-type {\n",
       "        vertical-align: middle;\n",
       "    }\n",
       "\n",
       "    .dataframe tbody tr th {\n",
       "        vertical-align: top;\n",
       "    }\n",
       "\n",
       "    .dataframe thead th {\n",
       "        text-align: right;\n",
       "    }\n",
       "</style>\n",
       "<table border=\"1\" class=\"dataframe\">\n",
       "  <thead>\n",
       "    <tr style=\"text-align: right;\">\n",
       "      <th></th>\n",
       "      <th>Constituency</th>\n",
       "      <th>Region</th>\n",
       "      <th>Type</th>\n",
       "      <th>Population</th>\n",
       "      <th>0-9</th>\n",
       "      <th>10-19</th>\n",
       "      <th>20-29</th>\n",
       "      <th>30-39</th>\n",
       "      <th>40-49</th>\n",
       "      <th>50-59</th>\n",
       "      <th>...</th>\n",
       "      <th>Depression</th>\n",
       "      <th>Obesity</th>\n",
       "      <th>Diabetes</th>\n",
       "      <th>Asthma</th>\n",
       "      <th>DiseasesPerPop</th>\n",
       "      <th>%LeaveVote</th>\n",
       "      <th>%17Turnout</th>\n",
       "      <th>Winner_17</th>\n",
       "      <th>seat_types_17</th>\n",
       "      <th>seat_types_yg</th>\n",
       "    </tr>\n",
       "    <tr>\n",
       "      <th>ID</th>\n",
       "      <th></th>\n",
       "      <th></th>\n",
       "      <th></th>\n",
       "      <th></th>\n",
       "      <th></th>\n",
       "      <th></th>\n",
       "      <th></th>\n",
       "      <th></th>\n",
       "      <th></th>\n",
       "      <th></th>\n",
       "      <th></th>\n",
       "      <th></th>\n",
       "      <th></th>\n",
       "      <th></th>\n",
       "      <th></th>\n",
       "      <th></th>\n",
       "      <th></th>\n",
       "      <th></th>\n",
       "      <th></th>\n",
       "      <th></th>\n",
       "      <th></th>\n",
       "    </tr>\n",
       "  </thead>\n",
       "  <tbody>\n",
       "    <tr>\n",
       "      <th>E14000554</th>\n",
       "      <td>Berwick-upon-Tweed</td>\n",
       "      <td>North East</td>\n",
       "      <td>Rural</td>\n",
       "      <td>75425</td>\n",
       "      <td>0.0863</td>\n",
       "      <td>0.0863</td>\n",
       "      <td>0.0902</td>\n",
       "      <td>0.1002</td>\n",
       "      <td>0.1102</td>\n",
       "      <td>0.1657</td>\n",
       "      <td>...</td>\n",
       "      <td>0.08551</td>\n",
       "      <td>0.13193</td>\n",
       "      <td>0.08029</td>\n",
       "      <td>0.07315</td>\n",
       "      <td>0.89389</td>\n",
       "      <td>0.553</td>\n",
       "      <td>0.719149</td>\n",
       "      <td>Con</td>\n",
       "      <td>con safe</td>\n",
       "      <td>con safe</td>\n",
       "    </tr>\n",
       "    <tr>\n",
       "      <th>E14000569</th>\n",
       "      <td>Bishop Auckland</td>\n",
       "      <td>North East</td>\n",
       "      <td>Rural</td>\n",
       "      <td>89415</td>\n",
       "      <td>0.1063</td>\n",
       "      <td>0.1086</td>\n",
       "      <td>0.1103</td>\n",
       "      <td>0.1090</td>\n",
       "      <td>0.1206</td>\n",
       "      <td>0.1533</td>\n",
       "      <td>...</td>\n",
       "      <td>0.12388</td>\n",
       "      <td>0.14646</td>\n",
       "      <td>0.08225</td>\n",
       "      <td>0.06856</td>\n",
       "      <td>0.89166</td>\n",
       "      <td>0.609</td>\n",
       "      <td>0.640827</td>\n",
       "      <td>Lab</td>\n",
       "      <td>con lab marginal</td>\n",
       "      <td>con lab marginal</td>\n",
       "    </tr>\n",
       "    <tr>\n",
       "      <th>E14000574</th>\n",
       "      <td>Blaydon</td>\n",
       "      <td>North East</td>\n",
       "      <td>Small Town</td>\n",
       "      <td>87978</td>\n",
       "      <td>0.1053</td>\n",
       "      <td>0.1050</td>\n",
       "      <td>0.0984</td>\n",
       "      <td>0.1225</td>\n",
       "      <td>0.1284</td>\n",
       "      <td>0.1484</td>\n",
       "      <td>...</td>\n",
       "      <td>0.09790</td>\n",
       "      <td>0.12590</td>\n",
       "      <td>0.07011</td>\n",
       "      <td>0.06651</td>\n",
       "      <td>0.82772</td>\n",
       "      <td>0.561</td>\n",
       "      <td>0.703311</td>\n",
       "      <td>Lab</td>\n",
       "      <td>lab safe</td>\n",
       "      <td>lab safe</td>\n",
       "    </tr>\n",
       "    <tr>\n",
       "      <th>E14000575</th>\n",
       "      <td>Blyth Valley</td>\n",
       "      <td>North East</td>\n",
       "      <td>Small Town</td>\n",
       "      <td>84340</td>\n",
       "      <td>0.1106</td>\n",
       "      <td>0.1092</td>\n",
       "      <td>0.1087</td>\n",
       "      <td>0.1222</td>\n",
       "      <td>0.1256</td>\n",
       "      <td>0.1430</td>\n",
       "      <td>...</td>\n",
       "      <td>0.12216</td>\n",
       "      <td>0.13512</td>\n",
       "      <td>0.08322</td>\n",
       "      <td>0.07157</td>\n",
       "      <td>0.88176</td>\n",
       "      <td>0.605</td>\n",
       "      <td>0.671135</td>\n",
       "      <td>Lab</td>\n",
       "      <td>lab safe</td>\n",
       "      <td>con lab marginal</td>\n",
       "    </tr>\n",
       "    <tr>\n",
       "      <th>E14000641</th>\n",
       "      <td>City of Durham</td>\n",
       "      <td>North East</td>\n",
       "      <td>Small Town</td>\n",
       "      <td>102534</td>\n",
       "      <td>0.0917</td>\n",
       "      <td>0.1195</td>\n",
       "      <td>0.2110</td>\n",
       "      <td>0.1145</td>\n",
       "      <td>0.1068</td>\n",
       "      <td>0.1206</td>\n",
       "      <td>...</td>\n",
       "      <td>0.09814</td>\n",
       "      <td>0.08893</td>\n",
       "      <td>0.05807</td>\n",
       "      <td>0.05606</td>\n",
       "      <td>0.65024</td>\n",
       "      <td>0.433</td>\n",
       "      <td>0.680566</td>\n",
       "      <td>Lab</td>\n",
       "      <td>lab safe</td>\n",
       "      <td>con lab marginal</td>\n",
       "    </tr>\n",
       "  </tbody>\n",
       "</table>\n",
       "<p>5 rows × 101 columns</p>\n",
       "</div>"
      ],
      "text/plain": [
       "                 Constituency      Region        Type  Population     0-9  \\\n",
       "ID                                                                          \n",
       "E14000554  Berwick-upon-Tweed  North East       Rural       75425  0.0863   \n",
       "E14000569     Bishop Auckland  North East       Rural       89415  0.1063   \n",
       "E14000574             Blaydon  North East  Small Town       87978  0.1053   \n",
       "E14000575        Blyth Valley  North East  Small Town       84340  0.1106   \n",
       "E14000641      City of Durham  North East  Small Town      102534  0.0917   \n",
       "\n",
       "            10-19   20-29   30-39   40-49   50-59  ...  Depression  Obesity  \\\n",
       "ID                                                 ...                        \n",
       "E14000554  0.0863  0.0902  0.1002  0.1102  0.1657  ...     0.08551  0.13193   \n",
       "E14000569  0.1086  0.1103  0.1090  0.1206  0.1533  ...     0.12388  0.14646   \n",
       "E14000574  0.1050  0.0984  0.1225  0.1284  0.1484  ...     0.09790  0.12590   \n",
       "E14000575  0.1092  0.1087  0.1222  0.1256  0.1430  ...     0.12216  0.13512   \n",
       "E14000641  0.1195  0.2110  0.1145  0.1068  0.1206  ...     0.09814  0.08893   \n",
       "\n",
       "           Diabetes   Asthma  DiseasesPerPop  %LeaveVote  %17Turnout  \\\n",
       "ID                                                                     \n",
       "E14000554   0.08029  0.07315         0.89389       0.553    0.719149   \n",
       "E14000569   0.08225  0.06856         0.89166       0.609    0.640827   \n",
       "E14000574   0.07011  0.06651         0.82772       0.561    0.703311   \n",
       "E14000575   0.08322  0.07157         0.88176       0.605    0.671135   \n",
       "E14000641   0.05807  0.05606         0.65024       0.433    0.680566   \n",
       "\n",
       "           Winner_17     seat_types_17     seat_types_yg  \n",
       "ID                                                        \n",
       "E14000554        Con          con safe          con safe  \n",
       "E14000569        Lab  con lab marginal  con lab marginal  \n",
       "E14000574        Lab          lab safe          lab safe  \n",
       "E14000575        Lab          lab safe  con lab marginal  \n",
       "E14000641        Lab          lab safe  con lab marginal  \n",
       "\n",
       "[5 rows x 101 columns]"
      ]
     },
     "execution_count": 135,
     "metadata": {},
     "output_type": "execute_result"
    }
   ],
   "source": [
    "init_notebook_mode(all_interactive=False)\n",
    "df_con.head()"
   ]
  },
  {
   "cell_type": "code",
   "execution_count": 23,
   "id": "1be4211a",
   "metadata": {},
   "outputs": [],
   "source": [
    "## dat[(dat['Constituency'] == 'Cities of London and Westminster')]"
   ]
  },
  {
   "cell_type": "code",
   "execution_count": null,
   "id": "8b692907",
   "metadata": {},
   "outputs": [],
   "source": [
    "fig = px.scatter(datamap_2, x='X', y='Y', width=630, height=870, color='Colors', custom_data=['Constituency', 'Region', 'Cluster', 'seat_types_yg'], title='UK Constituency Map')\n",
    "\n",
    "\n",
    "fig.update_traces(marker=dict(size=12,\n",
    "                              line=dict(width=0), symbol='square'),\n",
    "                  selector=dict(mode='markers'))\n",
    "\n",
    "fig.update_layout(showlegend=False, plot_bgcolor='rgba(0,0,0,0)')\n",
    "fig.update_yaxes(visible=False, showticklabels=False)\n",
    "fig.update_xaxes(visible=False, showticklabels=False)\n",
    "\n",
    "fig.update_traces(\n",
    "    hovertemplate=\"<br>\".join([\n",
    "        \"Constituency: %{customdata[0]}\",\n",
    "        \"Region: %{customdata[1]}\",\n",
    "        \"Cluster: %{customdata[2]}\",\n",
    "        \"YouGov Seat: %{customdata[3]}\"\n",
    "    ])\n",
    ")\n",
    "\n",
    "fig.show()"
   ]
  },
  {
   "cell_type": "code",
   "execution_count": 24,
   "id": "8f0331e9",
   "metadata": {},
   "outputs": [
    {
     "data": {
      "text/html": [
       "<div>\n",
       "<style scoped>\n",
       "    .dataframe tbody tr th:only-of-type {\n",
       "        vertical-align: middle;\n",
       "    }\n",
       "\n",
       "    .dataframe tbody tr th {\n",
       "        vertical-align: top;\n",
       "    }\n",
       "\n",
       "    .dataframe thead th {\n",
       "        text-align: right;\n",
       "    }\n",
       "</style>\n",
       "<table border=\"1\" class=\"dataframe\">\n",
       "  <thead>\n",
       "    <tr style=\"text-align: right;\">\n",
       "      <th></th>\n",
       "      <th>ID</th>\n",
       "      <th>Constituency</th>\n",
       "      <th>Region</th>\n",
       "      <th>seat_types_yg</th>\n",
       "      <th>Colors</th>\n",
       "      <th>Cluster</th>\n",
       "    </tr>\n",
       "  </thead>\n",
       "  <tbody>\n",
       "    <tr>\n",
       "      <th>1</th>\n",
       "      <td>E14000569</td>\n",
       "      <td>Bishop Auckland</td>\n",
       "      <td>North East</td>\n",
       "      <td>con lab marginal</td>\n",
       "      <td>#47DBCD</td>\n",
       "      <td>1</td>\n",
       "    </tr>\n",
       "    <tr>\n",
       "      <th>2</th>\n",
       "      <td>E14000574</td>\n",
       "      <td>Blaydon</td>\n",
       "      <td>North East</td>\n",
       "      <td>lab safe</td>\n",
       "      <td>#47DBCD</td>\n",
       "      <td>1</td>\n",
       "    </tr>\n",
       "    <tr>\n",
       "      <th>3</th>\n",
       "      <td>E14000575</td>\n",
       "      <td>Blyth Valley</td>\n",
       "      <td>North East</td>\n",
       "      <td>con lab marginal</td>\n",
       "      <td>#47DBCD</td>\n",
       "      <td>1</td>\n",
       "    </tr>\n",
       "    <tr>\n",
       "      <th>5</th>\n",
       "      <td>E14000658</td>\n",
       "      <td>Darlington</td>\n",
       "      <td>North East</td>\n",
       "      <td>con lab marginal</td>\n",
       "      <td>#47DBCD</td>\n",
       "      <td>1</td>\n",
       "    </tr>\n",
       "    <tr>\n",
       "      <th>6</th>\n",
       "      <td>E14000677</td>\n",
       "      <td>Easington</td>\n",
       "      <td>North East</td>\n",
       "      <td>lab safe</td>\n",
       "      <td>#47DBCD</td>\n",
       "      <td>1</td>\n",
       "    </tr>\n",
       "    <tr>\n",
       "      <th>7</th>\n",
       "      <td>E14000709</td>\n",
       "      <td>Gateshead</td>\n",
       "      <td>North East</td>\n",
       "      <td>lab safe</td>\n",
       "      <td>#47DBCD</td>\n",
       "      <td>1</td>\n",
       "    </tr>\n",
       "    <tr>\n",
       "      <th>8</th>\n",
       "      <td>E14000733</td>\n",
       "      <td>Hartlepool</td>\n",
       "      <td>North East</td>\n",
       "      <td>con lab marginal</td>\n",
       "      <td>#47DBCD</td>\n",
       "      <td>1</td>\n",
       "    </tr>\n",
       "    <tr>\n",
       "      <th>10</th>\n",
       "      <td>E14000754</td>\n",
       "      <td>Houghton and Sunderland South</td>\n",
       "      <td>North East</td>\n",
       "      <td>lab safe</td>\n",
       "      <td>#47DBCD</td>\n",
       "      <td>1</td>\n",
       "    </tr>\n",
       "    <tr>\n",
       "      <th>11</th>\n",
       "      <td>E14000765</td>\n",
       "      <td>Jarrow</td>\n",
       "      <td>North East</td>\n",
       "      <td>lab safe</td>\n",
       "      <td>#47DBCD</td>\n",
       "      <td>1</td>\n",
       "    </tr>\n",
       "    <tr>\n",
       "      <th>13</th>\n",
       "      <td>E14000820</td>\n",
       "      <td>Middlesbrough South and East Cleveland</td>\n",
       "      <td>North East</td>\n",
       "      <td>con safe</td>\n",
       "      <td>#47DBCD</td>\n",
       "      <td>1</td>\n",
       "    </tr>\n",
       "  </tbody>\n",
       "</table>\n",
       "</div>"
      ],
      "text/plain": [
       "           ID                            Constituency      Region  \\\n",
       "1   E14000569                         Bishop Auckland  North East   \n",
       "2   E14000574                                 Blaydon  North East   \n",
       "3   E14000575                            Blyth Valley  North East   \n",
       "5   E14000658                              Darlington  North East   \n",
       "6   E14000677                               Easington  North East   \n",
       "7   E14000709                               Gateshead  North East   \n",
       "8   E14000733                              Hartlepool  North East   \n",
       "10  E14000754           Houghton and Sunderland South  North East   \n",
       "11  E14000765                                  Jarrow  North East   \n",
       "13  E14000820  Middlesbrough South and East Cleveland  North East   \n",
       "\n",
       "       seat_types_yg   Colors  Cluster  \n",
       "1   con lab marginal  #47DBCD        1  \n",
       "2           lab safe  #47DBCD        1  \n",
       "3   con lab marginal  #47DBCD        1  \n",
       "5   con lab marginal  #47DBCD        1  \n",
       "6           lab safe  #47DBCD        1  \n",
       "7           lab safe  #47DBCD        1  \n",
       "8   con lab marginal  #47DBCD        1  \n",
       "10          lab safe  #47DBCD        1  \n",
       "11          lab safe  #47DBCD        1  \n",
       "13          con safe  #47DBCD        1  "
      ]
     },
     "execution_count": 24,
     "metadata": {},
     "output_type": "execute_result"
    }
   ],
   "source": [
    "dat[dat['Colors'] == '#47DBCD'].head(10)"
   ]
  },
  {
   "cell_type": "markdown",
   "id": "714c178b",
   "metadata": {},
   "source": [
    "### Further Data Analysis of the results obtained"
   ]
  },
  {
   "cell_type": "code",
   "execution_count": 55,
   "id": "df881542",
   "metadata": {},
   "outputs": [],
   "source": [
    "result = pd.read_excel(\"Clustering results with 16 features.xlsx\").drop(columns='Further Information').dropna()"
   ]
  },
  {
   "cell_type": "code",
   "execution_count": 60,
   "id": "6910fa6b",
   "metadata": {},
   "outputs": [
    {
     "data": {
      "text/html": [
       "<table id=\"731b125d-cbfa-48c7-b9bb-6193e3c71132\" class=\"display\"style=\"max-width:100%\"><thead><th>Model ID</th><th>Dimensionality Reduction</th><th>Feature Selection</th><th>Algorithm</th><th>Metric</th><th>Recommended clusters</th></thead><tbody><tr><td>Loading... (need <a href=https://mwouts.github.io/itables/troubleshooting.html>help</a>?)</td></tr></tbody></table>\n",
       "<link rel=\"stylesheet\" type=\"text/css\" href=\"https://cdn.datatables.net/1.11.3/css/jquery.dataTables.min.css\">\n",
       "<style> table td {\n",
       "    text-overflow: ellipsis;\n",
       "    overflow: hidden;\n",
       "} </style>\n",
       "<style> table th {\n",
       "    text-overflow: ellipsis;\n",
       "    overflow: hidden;\n",
       "} </style>\n",
       "<script type=\"module\">\n",
       "    // Define the table data\n",
       "    const data = [[1, \"UMAP\", \"With %snp votes\", \"K-Means\", \"Distortion\", 6], [2, \"UMAP\", \"With %snp votes\", \"K-Means\", \"Davies Bouldin\", 4], [3, \"UMAP\", \"With %snp votes\", \"K-Means\", \"Silhouette\", 4], [4, \"UMAP\", \"With %snp votes\", \"K-Means\", \"Calinski\", 8], [5, \"UMAP\", \"With %snp votes\", \"HAC\", \"Distortion\", 6], [6, \"UMAP\", \"With %snp votes\", \"HAC\", \"Davies Bouldin\", 5], [7, \"UMAP\", \"With %snp votes\", \"HAC\", \"Silhouette\", 6], [8, \"UMAP\", \"With %snp votes\", \"HAC\", \"Calinski\", 6], [9, \"UMAP\", \"With %snp votes\", \"HAC\", \"Dendrogram\", 7], [10, \"UMAP\", \"With %snp votes\", \"DB Scan\", \"Davies Bouldin\", 2], [11, \"UMAP\", \"With %snp votes\", \"DB Scan\", \"Silhouette\", 2], [12, \"UMAP\", \"With %snp votes\", \"DB Scan\", \"Calinski\", 14], [13, \"UMAP\", \"With %snp votes\", \"GMM\", \"BIC\", 7], [14, \"UMAP\", \"With %snp votes\", \"GMM\", \"Davies Bouldin\", 5], [15, \"UMAP\", \"With %snp votes\", \"GMM\", \"Silhouette\", 6], [16, \"UMAP\", \"With %snp votes\", \"GMM\", \"Calinski\", 11], [17, \"UMAP\", \"Without %snp votes\", \"K-Means\", \"Distortion\", 6], [18, \"UMAP\", \"Without %snp votes\", \"K-Means\", \"Davies Bouldin\", 8], [19, \"UMAP\", \"Without %snp votes\", \"K-Means\", \"Silhouette\", 3], [20, \"UMAP\", \"Without %snp votes\", \"K-Means\", \"Calinski\", 6], [21, \"UMAP\", \"Without %snp votes\", \"HAC\", \"Distortion\", 6], [22, \"UMAP\", \"Without %snp votes\", \"HAC\", \"Davies Bouldin\", 6], [23, \"UMAP\", \"Without %snp votes\", \"HAC\", \"Silhouette\", 4], [24, \"UMAP\", \"Without %snp votes\", \"HAC\", \"Calinski\", 12], [25, \"UMAP\", \"Without %snp votes\", \"HAC\", \"Dendrogram\", 7], [26, \"UMAP\", \"Without %snp votes\", \"DB Scan\", \"Davies Bouldin\", 10], [27, \"UMAP\", \"Without %snp votes\", \"DB Scan\", \"Silhouette\", 9], [28, \"UMAP\", \"Without %snp votes\", \"DB Scan\", \"Calinski\", 9], [29, \"UMAP\", \"Without %snp votes\", \"GMM\", \"BIC\", 7], [30, \"UMAP\", \"Without %snp votes\", \"GMM\", \"Davies Bouldin\", 8], [31, \"UMAP\", \"Without %snp votes\", \"GMM\", \"Silhouette\", 8], [32, \"UMAP\", \"Without %snp votes\", \"GMM\", \"Calinski\", 12], [33, \"PCA\", \"With %snp votes\", \"K-Means\", \"Distortion\", 7], [34, \"PCA\", \"With %snp votes\", \"K-Means\", \"Davies Bouldin\", 8], [35, \"PCA\", \"With %snp votes\", \"K-Means\", \"Silhouette\", 2], [36, \"PCA\", \"With %snp votes\", \"K-Means\", \"Calinski\", 2], [37, \"PCA\", \"With %snp votes\", \"HAC\", \"Distortion\", 7], [38, \"PCA\", \"With %snp votes\", \"HAC\", \"Davies Bouldin\", 2], [39, \"PCA\", \"With %snp votes\", \"HAC\", \"Silhouette\", 2], [40, \"PCA\", \"With %snp votes\", \"HAC\", \"Calinski\", 2], [41, \"PCA\", \"With %snp votes\", \"HAC\", \"Dendrogram\", 5], [42, \"PCA\", \"With %snp votes\", \"DB Scan\", \"Davies Bouldin\", 2], [43, \"PCA\", \"With %snp votes\", \"DB Scan\", \"Silhouette\", 2], [44, \"PCA\", \"With %snp votes\", \"DB Scan\", \"Calinski\", 3], [45, \"PCA\", \"With %snp votes\", \"GMM\", \"BIC\", 5], [46, \"PCA\", \"With %snp votes\", \"GMM\", \"Davies Bouldin\", 2], [47, \"PCA\", \"With %snp votes\", \"GMM\", \"Silhouette\", 2], [48, \"PCA\", \"With %snp votes\", \"GMM\", \"Calinski\", 2], [49, \"PCA\", \"Without %snp votes\", \"K-Means\", \"Distortion\", 7], [50, \"PCA\", \"Without %snp votes\", \"K-Means\", \"Davies Bouldin\", 8], [51, \"PCA\", \"Without %snp votes\", \"K-Means\", \"Silhouette\", 2], [52, \"PCA\", \"Without %snp votes\", \"K-Means\", \"Calinski\", 2], [53, \"PCA\", \"Without %snp votes\", \"HAC\", \"Distortion\", 6], [54, \"PCA\", \"Without %snp votes\", \"HAC\", \"Davies Bouldin\", 9], [55, \"PCA\", \"Without %snp votes\", \"HAC\", \"Silhouette\", 2], [56, \"PCA\", \"Without %snp votes\", \"HAC\", \"Calinski\", 2], [57, \"PCA\", \"Without %snp votes\", \"HAC\", \"Dendrogram\", 8], [58, \"PCA\", \"Without %snp votes\", \"DB Scan\", \"Davies Bouldin\", 9], [59, \"PCA\", \"Without %snp votes\", \"DB Scan\", \"Silhouette\", 3], [60, \"PCA\", \"Without %snp votes\", \"DB Scan\", \"Calinski\", 2], [61, \"PCA\", \"Without %snp votes\", \"GMM\", \"BIC\", 5], [62, \"PCA\", \"Without %snp votes\", \"GMM\", \"Davies Bouldin\", 2], [63, \"PCA\", \"Without %snp votes\", \"GMM\", \"Silhouette\", 2], [64, \"PCA\", \"Without %snp votes\", \"GMM\", \"Calinski\", 2]];\n",
       "\n",
       "    if (typeof require === 'undefined') {\n",
       "        // TODO: This should become the default (use a simple import)\n",
       "        // when the ESM version works independently of whether\n",
       "        // require.js is there or not, see\n",
       "        // https://datatables.net/forums/discussion/69066/esm-es6-module-support?\n",
       "        const {default: $} = await import(\"https://esm.sh/jquery@3.5.0\");\n",
       "        const {default: initDataTables} = await import(\"https://esm.sh/datatables.net@1.11.3?deps=jquery@3.5.0\");\n",
       "\n",
       "        initDataTables();\n",
       "\n",
       "        // Define the dt_args\n",
       "        let dt_args = {\"columnDefs\": [{\"width\": \"70px\", \"targets\": \"_all\"}]};\n",
       "        dt_args[\"data\"] = data;\n",
       "\n",
       "        // Display the table\n",
       "        $(document).ready(function () {\n",
       "            $('#731b125d-cbfa-48c7-b9bb-6193e3c71132').DataTable(dt_args);\n",
       "        });\n",
       "    } else {\n",
       "        require([\"jquery\", \"datatables\"], ($, datatables) => {\n",
       "                // Define the dt_args\n",
       "                let dt_args = {\"columnDefs\": [{\"width\": \"70px\", \"targets\": \"_all\"}]};\n",
       "                dt_args[\"data\"] = data;\n",
       "\n",
       "                // Display the table\n",
       "                $(document).ready(function () {\n",
       "                    $('#731b125d-cbfa-48c7-b9bb-6193e3c71132').DataTable(dt_args);\n",
       "                });\n",
       "            }\n",
       "        )\n",
       "    }\n",
       "</script>\n"
      ],
      "text/plain": [
       "    Model ID Dimensionality Reduction   Feature Selection Algorithm  \\\n",
       "0          1                     UMAP     With %snp votes   K-Means   \n",
       "1          2                     UMAP     With %snp votes   K-Means   \n",
       "2          3                     UMAP     With %snp votes   K-Means   \n",
       "3          4                     UMAP     With %snp votes   K-Means   \n",
       "4          5                     UMAP     With %snp votes       HAC   \n",
       "..       ...                      ...                 ...       ...   \n",
       "59        60                      PCA  Without %snp votes   DB Scan   \n",
       "60        61                      PCA  Without %snp votes       GMM   \n",
       "61        62                      PCA  Without %snp votes       GMM   \n",
       "62        63                      PCA  Without %snp votes       GMM   \n",
       "63        64                      PCA  Without %snp votes       GMM   \n",
       "\n",
       "            Metric  Recommended clusters  \n",
       "0       Distortion                     6  \n",
       "1   Davies Bouldin                     4  \n",
       "2       Silhouette                     4  \n",
       "3         Calinski                     8  \n",
       "4       Distortion                     6  \n",
       "..             ...                   ...  \n",
       "59        Calinski                     2  \n",
       "60             BIC                     5  \n",
       "61  Davies Bouldin                     2  \n",
       "62      Silhouette                     2  \n",
       "63        Calinski                     2  \n",
       "\n",
       "[64 rows x 6 columns]"
      ]
     },
     "execution_count": 60,
     "metadata": {},
     "output_type": "execute_result"
    }
   ],
   "source": [
    "result"
   ]
  },
  {
   "cell_type": "code",
   "execution_count": 41,
   "id": "20057025-8ad2-4feb-af4a-b2c9125c605f",
   "metadata": {},
   "outputs": [
    {
     "data": {
      "application/javascript": [
       "if (typeof require !== 'undefined')\n",
       "    require.config({\n",
       "        paths: {\n",
       "            jquery: 'https://code.jquery.com/jquery-3.5.1.min',\n",
       "            datatables: 'https://cdn.datatables.net/1.11.3/js/jquery.dataTables.min',\n",
       "        }\n",
       "    });\n"
      ],
      "text/plain": [
       "<IPython.core.display.Javascript object>"
      ]
     },
     "metadata": {},
     "output_type": "display_data"
    }
   ],
   "source": [
    "from itables import init_notebook_mode\n",
    "init_notebook_mode(all_interactive=False) # to activate"
   ]
  },
  {
   "cell_type": "code",
   "execution_count": 42,
   "id": "4c3782b5-e787-44f2-8bca-76964e743c85",
   "metadata": {},
   "outputs": [
    {
     "data": {
      "text/html": [
       "<table id=\"04d56866-5500-4c7e-894b-9a7ea7f1a3a6\" class=\"display\"style=\"max-width:100%\"><thead><th>Model ID</th><th>Dimensionality Reduction</th><th>Feature Selection</th><th>Algorithm</th><th>Metric</th><th>Recommended clusters</th></thead><tbody><tr><td>Loading... (need <a href=https://mwouts.github.io/itables/troubleshooting.html>help</a>?)</td></tr></tbody></table>\n",
       "<link rel=\"stylesheet\" type=\"text/css\" href=\"https://cdn.datatables.net/1.11.3/css/jquery.dataTables.min.css\">\n",
       "<style> table td {\n",
       "    text-overflow: ellipsis;\n",
       "    overflow: hidden;\n",
       "} </style>\n",
       "<style> table th {\n",
       "    text-overflow: ellipsis;\n",
       "    overflow: hidden;\n",
       "} </style>\n",
       "<script type=\"module\">\n",
       "    // Define the table data\n",
       "    const data = [[1, \"UMAP\", \"With %snp votes\", \"K-Means\", \"Distortion\", 6], [2, \"UMAP\", \"With %snp votes\", \"K-Means\", \"Davies Bouldin\", 4], [3, \"UMAP\", \"With %snp votes\", \"K-Means\", \"Silhouette\", 4], [4, \"UMAP\", \"With %snp votes\", \"K-Means\", \"Calinski\", 8], [5, \"UMAP\", \"With %snp votes\", \"HAC\", \"Distortion\", 6], [6, \"UMAP\", \"With %snp votes\", \"HAC\", \"Davies Bouldin\", 5], [7, \"UMAP\", \"With %snp votes\", \"HAC\", \"Silhouette\", 6], [8, \"UMAP\", \"With %snp votes\", \"HAC\", \"Calinski\", 6], [9, \"UMAP\", \"With %snp votes\", \"HAC\", \"Dendrogram\", 7], [10, \"UMAP\", \"With %snp votes\", \"DB Scan\", \"Davies Bouldin\", 2], [11, \"UMAP\", \"With %snp votes\", \"DB Scan\", \"Silhouette\", 2], [12, \"UMAP\", \"With %snp votes\", \"DB Scan\", \"Calinski\", 14], [13, \"UMAP\", \"With %snp votes\", \"GMM\", \"BIC\", 7], [14, \"UMAP\", \"With %snp votes\", \"GMM\", \"Davies Bouldin\", 5], [15, \"UMAP\", \"With %snp votes\", \"GMM\", \"Silhouette\", 6], [16, \"UMAP\", \"With %snp votes\", \"GMM\", \"Calinski\", 11], [17, \"UMAP\", \"Without %snp votes\", \"K-Means\", \"Distortion\", 6], [18, \"UMAP\", \"Without %snp votes\", \"K-Means\", \"Davies Bouldin\", 8], [19, \"UMAP\", \"Without %snp votes\", \"K-Means\", \"Silhouette\", 3], [20, \"UMAP\", \"Without %snp votes\", \"K-Means\", \"Calinski\", 6], [21, \"UMAP\", \"Without %snp votes\", \"HAC\", \"Distortion\", 6], [22, \"UMAP\", \"Without %snp votes\", \"HAC\", \"Davies Bouldin\", 6], [23, \"UMAP\", \"Without %snp votes\", \"HAC\", \"Silhouette\", 4], [24, \"UMAP\", \"Without %snp votes\", \"HAC\", \"Calinski\", 12], [25, \"UMAP\", \"Without %snp votes\", \"HAC\", \"Dendrogram\", 7], [26, \"UMAP\", \"Without %snp votes\", \"DB Scan\", \"Davies Bouldin\", 10], [27, \"UMAP\", \"Without %snp votes\", \"DB Scan\", \"Silhouette\", 9], [28, \"UMAP\", \"Without %snp votes\", \"DB Scan\", \"Calinski\", 9], [29, \"UMAP\", \"Without %snp votes\", \"GMM\", \"BIC\", 7], [30, \"UMAP\", \"Without %snp votes\", \"GMM\", \"Davies Bouldin\", 8], [31, \"UMAP\", \"Without %snp votes\", \"GMM\", \"Silhouette\", 8], [32, \"UMAP\", \"Without %snp votes\", \"GMM\", \"Calinski\", 12], [33, \"PCA\", \"With %snp votes\", \"K-Means\", \"Distortion\", 7], [34, \"PCA\", \"With %snp votes\", \"K-Means\", \"Davies Bouldin\", 8], [35, \"PCA\", \"With %snp votes\", \"K-Means\", \"Silhouette\", 2], [36, \"PCA\", \"With %snp votes\", \"K-Means\", \"Calinski\", 2], [37, \"PCA\", \"With %snp votes\", \"HAC\", \"Distortion\", 7], [38, \"PCA\", \"With %snp votes\", \"HAC\", \"Davies Bouldin\", 2], [39, \"PCA\", \"With %snp votes\", \"HAC\", \"Silhouette\", 2], [40, \"PCA\", \"With %snp votes\", \"HAC\", \"Calinski\", 2], [41, \"PCA\", \"With %snp votes\", \"HAC\", \"Dendrogram\", 5], [42, \"PCA\", \"With %snp votes\", \"DB Scan\", \"Davies Bouldin\", 2], [43, \"PCA\", \"With %snp votes\", \"DB Scan\", \"Silhouette\", 2], [44, \"PCA\", \"With %snp votes\", \"DB Scan\", \"Calinski\", 3], [45, \"PCA\", \"With %snp votes\", \"GMM\", \"BIC\", 5], [46, \"PCA\", \"With %snp votes\", \"GMM\", \"Davies Bouldin\", 2], [47, \"PCA\", \"With %snp votes\", \"GMM\", \"Silhouette\", 2], [48, \"PCA\", \"With %snp votes\", \"GMM\", \"Calinski\", 2], [49, \"PCA\", \"Without %snp votes\", \"K-Means\", \"Distortion\", 7], [50, \"PCA\", \"Without %snp votes\", \"K-Means\", \"Davies Bouldin\", 8], [51, \"PCA\", \"Without %snp votes\", \"K-Means\", \"Silhouette\", 2], [52, \"PCA\", \"Without %snp votes\", \"K-Means\", \"Calinski\", 2], [53, \"PCA\", \"Without %snp votes\", \"HAC\", \"Distortion\", 6], [54, \"PCA\", \"Without %snp votes\", \"HAC\", \"Davies Bouldin\", 9], [55, \"PCA\", \"Without %snp votes\", \"HAC\", \"Silhouette\", 2], [56, \"PCA\", \"Without %snp votes\", \"HAC\", \"Calinski\", 2], [57, \"PCA\", \"Without %snp votes\", \"HAC\", \"Dendrogram\", 8], [58, \"PCA\", \"Without %snp votes\", \"DB Scan\", \"Davies Bouldin\", 9], [59, \"PCA\", \"Without %snp votes\", \"DB Scan\", \"Silhouette\", 3], [60, \"PCA\", \"Without %snp votes\", \"DB Scan\", \"Calinski\", 2], [61, \"PCA\", \"Without %snp votes\", \"GMM\", \"BIC\", 5], [62, \"PCA\", \"Without %snp votes\", \"GMM\", \"Davies Bouldin\", 2], [63, \"PCA\", \"Without %snp votes\", \"GMM\", \"Silhouette\", 2], [64, \"PCA\", \"Without %snp votes\", \"GMM\", \"Calinski\", 2]];\n",
       "\n",
       "    if (typeof require === 'undefined') {\n",
       "        // TODO: This should become the default (use a simple import)\n",
       "        // when the ESM version works independently of whether\n",
       "        // require.js is there or not, see\n",
       "        // https://datatables.net/forums/discussion/69066/esm-es6-module-support?\n",
       "        const {default: $} = await import(\"https://esm.sh/jquery@3.5.0\");\n",
       "        const {default: initDataTables} = await import(\"https://esm.sh/datatables.net@1.11.3?deps=jquery@3.5.0\");\n",
       "\n",
       "        initDataTables();\n",
       "\n",
       "        // Define the dt_args\n",
       "        let dt_args = {\"columnDefs\": [{\"width\": \"70px\", \"targets\": \"_all\"}]};\n",
       "        dt_args[\"data\"] = data;\n",
       "\n",
       "        // Display the table\n",
       "        $(document).ready(function () {\n",
       "            $('#04d56866-5500-4c7e-894b-9a7ea7f1a3a6').DataTable(dt_args);\n",
       "        });\n",
       "    } else {\n",
       "        require([\"jquery\", \"datatables\"], ($, datatables) => {\n",
       "                // Define the dt_args\n",
       "                let dt_args = {\"columnDefs\": [{\"width\": \"70px\", \"targets\": \"_all\"}]};\n",
       "                dt_args[\"data\"] = data;\n",
       "\n",
       "                // Display the table\n",
       "                $(document).ready(function () {\n",
       "                    $('#04d56866-5500-4c7e-894b-9a7ea7f1a3a6').DataTable(dt_args);\n",
       "                });\n",
       "            }\n",
       "        )\n",
       "    }\n",
       "</script>\n"
      ],
      "text/plain": [
       "<IPython.core.display.HTML object>"
      ]
     },
     "metadata": {},
     "output_type": "display_data"
    }
   ],
   "source": [
    "from itables import show\n",
    "show(result)"
   ]
  },
  {
   "cell_type": "code",
   "execution_count": 37,
   "id": "521b2e65",
   "metadata": {},
   "outputs": [
    {
     "data": {
      "text/html": [
       "<div>\n",
       "<style scoped>\n",
       "    .dataframe tbody tr th:only-of-type {\n",
       "        vertical-align: middle;\n",
       "    }\n",
       "\n",
       "    .dataframe tbody tr th {\n",
       "        vertical-align: top;\n",
       "    }\n",
       "\n",
       "    .dataframe thead th {\n",
       "        text-align: right;\n",
       "    }\n",
       "</style>\n",
       "<table border=\"1\" class=\"dataframe\">\n",
       "  <thead>\n",
       "    <tr style=\"text-align: right;\">\n",
       "      <th></th>\n",
       "      <th>ID</th>\n",
       "      <th>Constituency</th>\n",
       "      <th>Region</th>\n",
       "      <th>seat_types_yg</th>\n",
       "      <th>Colors</th>\n",
       "      <th>Cluster</th>\n",
       "    </tr>\n",
       "  </thead>\n",
       "  <tbody>\n",
       "    <tr>\n",
       "      <th>0</th>\n",
       "      <td>E14000554</td>\n",
       "      <td>Berwick-upon-Tweed</td>\n",
       "      <td>North East</td>\n",
       "      <td>con safe</td>\n",
       "      <td>#47DBCD</td>\n",
       "      <td>1</td>\n",
       "    </tr>\n",
       "    <tr>\n",
       "      <th>9</th>\n",
       "      <td>E14000746</td>\n",
       "      <td>Hexham</td>\n",
       "      <td>North East</td>\n",
       "      <td>con safe</td>\n",
       "      <td>#47DBCD</td>\n",
       "      <td>1</td>\n",
       "    </tr>\n",
       "    <tr>\n",
       "      <th>75</th>\n",
       "      <td>E14000877</td>\n",
       "      <td>Penrith and The Border</td>\n",
       "      <td>North West</td>\n",
       "      <td>con safe</td>\n",
       "      <td>#47DBCD</td>\n",
       "      <td>1</td>\n",
       "    </tr>\n",
       "    <tr>\n",
       "      <th>83</th>\n",
       "      <td>E14000958</td>\n",
       "      <td>Southport</td>\n",
       "      <td>North West</td>\n",
       "      <td>con safe</td>\n",
       "      <td>#47DBCD</td>\n",
       "      <td>1</td>\n",
       "    </tr>\n",
       "    <tr>\n",
       "      <th>95</th>\n",
       "      <td>E14001037</td>\n",
       "      <td>Westmorland and Lonsdale</td>\n",
       "      <td>North West</td>\n",
       "      <td>con ld marginal</td>\n",
       "      <td>#47DBCD</td>\n",
       "      <td>1</td>\n",
       "    </tr>\n",
       "    <tr>\n",
       "      <th>118</th>\n",
       "      <td>E14000683</td>\n",
       "      <td>East Yorkshire</td>\n",
       "      <td>Yorkshire and The Humber</td>\n",
       "      <td>con safe</td>\n",
       "      <td>#47DBCD</td>\n",
       "      <td>1</td>\n",
       "    </tr>\n",
       "    <tr>\n",
       "      <th>142</th>\n",
       "      <td>E14000913</td>\n",
       "      <td>Scarborough and Whitby</td>\n",
       "      <td>Yorkshire and The Humber</td>\n",
       "      <td>con safe</td>\n",
       "      <td>#47DBCD</td>\n",
       "      <td>1</td>\n",
       "    </tr>\n",
       "    <tr>\n",
       "      <th>151</th>\n",
       "      <td>E14000928</td>\n",
       "      <td>Skipton and Ripon</td>\n",
       "      <td>Yorkshire and The Humber</td>\n",
       "      <td>con safe</td>\n",
       "      <td>#47DBCD</td>\n",
       "      <td>1</td>\n",
       "    </tr>\n",
       "    <tr>\n",
       "      <th>152</th>\n",
       "      <td>E14000993</td>\n",
       "      <td>Thirsk and Malton</td>\n",
       "      <td>Yorkshire and The Humber</td>\n",
       "      <td>con safe</td>\n",
       "      <td>#47DBCD</td>\n",
       "      <td>1</td>\n",
       "    </tr>\n",
       "    <tr>\n",
       "      <th>161</th>\n",
       "      <td>E14000582</td>\n",
       "      <td>Boston and Skegness</td>\n",
       "      <td>East Midlands</td>\n",
       "      <td>con safe</td>\n",
       "      <td>#47DBCD</td>\n",
       "      <td>1</td>\n",
       "    </tr>\n",
       "  </tbody>\n",
       "</table>\n",
       "</div>"
      ],
      "text/plain": [
       "            ID              Constituency                    Region  \\\n",
       "0    E14000554        Berwick-upon-Tweed                North East   \n",
       "9    E14000746                    Hexham                North East   \n",
       "75   E14000877    Penrith and The Border                North West   \n",
       "83   E14000958                 Southport                North West   \n",
       "95   E14001037  Westmorland and Lonsdale                North West   \n",
       "118  E14000683            East Yorkshire  Yorkshire and The Humber   \n",
       "142  E14000913    Scarborough and Whitby  Yorkshire and The Humber   \n",
       "151  E14000928         Skipton and Ripon  Yorkshire and The Humber   \n",
       "152  E14000993         Thirsk and Malton  Yorkshire and The Humber   \n",
       "161  E14000582       Boston and Skegness             East Midlands   \n",
       "\n",
       "       seat_types_yg   Colors  Cluster  \n",
       "0           con safe  #47DBCD        1  \n",
       "9           con safe  #47DBCD        1  \n",
       "75          con safe  #47DBCD        1  \n",
       "83          con safe  #47DBCD        1  \n",
       "95   con ld marginal  #47DBCD        1  \n",
       "118         con safe  #47DBCD        1  \n",
       "142         con safe  #47DBCD        1  \n",
       "151         con safe  #47DBCD        1  \n",
       "152         con safe  #47DBCD        1  \n",
       "161         con safe  #47DBCD        1  "
      ]
     },
     "execution_count": 37,
     "metadata": {},
     "output_type": "execute_result"
    }
   ],
   "source": [
    "dat[dat['Colors'] == '#47DBCD'].head(10)"
   ]
  },
  {
   "cell_type": "code",
   "execution_count": 38,
   "id": "3595a19e",
   "metadata": {},
   "outputs": [
    {
     "data": {
      "text/plain": [
       "array(['#47DBCD', '#661D98', '#F5B14C', '#2CBDFE', '#F3A0F2', '#016794'],\n",
       "      dtype=object)"
      ]
     },
     "execution_count": 38,
     "metadata": {},
     "output_type": "execute_result"
    }
   ],
   "source": [
    "dat['Colors'].unique()"
   ]
  },
  {
   "cell_type": "code",
   "execution_count": 39,
   "id": "ca3cf327",
   "metadata": {},
   "outputs": [
    {
     "data": {
      "text/html": [
       "<div>\n",
       "<style scoped>\n",
       "    .dataframe tbody tr th:only-of-type {\n",
       "        vertical-align: middle;\n",
       "    }\n",
       "\n",
       "    .dataframe tbody tr th {\n",
       "        vertical-align: top;\n",
       "    }\n",
       "\n",
       "    .dataframe thead th {\n",
       "        text-align: right;\n",
       "    }\n",
       "</style>\n",
       "<table border=\"1\" class=\"dataframe\">\n",
       "  <thead>\n",
       "    <tr style=\"text-align: right;\">\n",
       "      <th></th>\n",
       "      <th>ID</th>\n",
       "      <th>Constituency</th>\n",
       "      <th>Region</th>\n",
       "      <th>seat_types_yg</th>\n",
       "      <th>Colors</th>\n",
       "      <th>Cluster</th>\n",
       "    </tr>\n",
       "  </thead>\n",
       "  <tbody>\n",
       "    <tr>\n",
       "      <th>0</th>\n",
       "      <td>E14000554</td>\n",
       "      <td>Berwick-upon-Tweed</td>\n",
       "      <td>North East</td>\n",
       "      <td>con safe</td>\n",
       "      <td>#47DBCD</td>\n",
       "      <td>1</td>\n",
       "    </tr>\n",
       "    <tr>\n",
       "      <th>9</th>\n",
       "      <td>E14000746</td>\n",
       "      <td>Hexham</td>\n",
       "      <td>North East</td>\n",
       "      <td>con safe</td>\n",
       "      <td>#47DBCD</td>\n",
       "      <td>1</td>\n",
       "    </tr>\n",
       "    <tr>\n",
       "      <th>75</th>\n",
       "      <td>E14000877</td>\n",
       "      <td>Penrith and The Border</td>\n",
       "      <td>North West</td>\n",
       "      <td>con safe</td>\n",
       "      <td>#47DBCD</td>\n",
       "      <td>1</td>\n",
       "    </tr>\n",
       "    <tr>\n",
       "      <th>83</th>\n",
       "      <td>E14000958</td>\n",
       "      <td>Southport</td>\n",
       "      <td>North West</td>\n",
       "      <td>con safe</td>\n",
       "      <td>#47DBCD</td>\n",
       "      <td>1</td>\n",
       "    </tr>\n",
       "    <tr>\n",
       "      <th>95</th>\n",
       "      <td>E14001037</td>\n",
       "      <td>Westmorland and Lonsdale</td>\n",
       "      <td>North West</td>\n",
       "      <td>con ld marginal</td>\n",
       "      <td>#47DBCD</td>\n",
       "      <td>1</td>\n",
       "    </tr>\n",
       "    <tr>\n",
       "      <th>...</th>\n",
       "      <td>...</td>\n",
       "      <td>...</td>\n",
       "      <td>...</td>\n",
       "      <td>...</td>\n",
       "      <td>...</td>\n",
       "      <td>...</td>\n",
       "    </tr>\n",
       "    <tr>\n",
       "      <th>614</th>\n",
       "      <td>W07000064</td>\n",
       "      <td>Ceredigion</td>\n",
       "      <td>Wales</td>\n",
       "      <td>ld pc marginal</td>\n",
       "      <td>#47DBCD</td>\n",
       "      <td>1</td>\n",
       "    </tr>\n",
       "    <tr>\n",
       "      <th>615</th>\n",
       "      <td>W07000065</td>\n",
       "      <td>Preseli Pembrokeshire</td>\n",
       "      <td>Wales</td>\n",
       "      <td>con lab marginal</td>\n",
       "      <td>#47DBCD</td>\n",
       "      <td>1</td>\n",
       "    </tr>\n",
       "    <tr>\n",
       "      <th>616</th>\n",
       "      <td>W07000066</td>\n",
       "      <td>Carmarthen West and Pembrokeshire South</td>\n",
       "      <td>Wales</td>\n",
       "      <td>con lab marginal</td>\n",
       "      <td>#47DBCD</td>\n",
       "      <td>1</td>\n",
       "    </tr>\n",
       "    <tr>\n",
       "      <th>617</th>\n",
       "      <td>W07000067</td>\n",
       "      <td>Carmarthen East and Dinefwr</td>\n",
       "      <td>Wales</td>\n",
       "      <td>con pc marginal</td>\n",
       "      <td>#47DBCD</td>\n",
       "      <td>1</td>\n",
       "    </tr>\n",
       "    <tr>\n",
       "      <th>618</th>\n",
       "      <td>W07000068</td>\n",
       "      <td>Brecon and Radnorshire</td>\n",
       "      <td>Wales</td>\n",
       "      <td>con ld marginal</td>\n",
       "      <td>#47DBCD</td>\n",
       "      <td>1</td>\n",
       "    </tr>\n",
       "  </tbody>\n",
       "</table>\n",
       "<p>100 rows × 6 columns</p>\n",
       "</div>"
      ],
      "text/plain": [
       "            ID                             Constituency      Region  \\\n",
       "0    E14000554                       Berwick-upon-Tweed  North East   \n",
       "9    E14000746                                   Hexham  North East   \n",
       "75   E14000877                   Penrith and The Border  North West   \n",
       "83   E14000958                                Southport  North West   \n",
       "95   E14001037                 Westmorland and Lonsdale  North West   \n",
       "..         ...                                      ...         ...   \n",
       "614  W07000064                               Ceredigion       Wales   \n",
       "615  W07000065                    Preseli Pembrokeshire       Wales   \n",
       "616  W07000066  Carmarthen West and Pembrokeshire South       Wales   \n",
       "617  W07000067              Carmarthen East and Dinefwr       Wales   \n",
       "618  W07000068                   Brecon and Radnorshire       Wales   \n",
       "\n",
       "        seat_types_yg   Colors  Cluster  \n",
       "0            con safe  #47DBCD        1  \n",
       "9            con safe  #47DBCD        1  \n",
       "75           con safe  #47DBCD        1  \n",
       "83           con safe  #47DBCD        1  \n",
       "95    con ld marginal  #47DBCD        1  \n",
       "..                ...      ...      ...  \n",
       "614    ld pc marginal  #47DBCD        1  \n",
       "615  con lab marginal  #47DBCD        1  \n",
       "616  con lab marginal  #47DBCD        1  \n",
       "617   con pc marginal  #47DBCD        1  \n",
       "618   con ld marginal  #47DBCD        1  \n",
       "\n",
       "[100 rows x 6 columns]"
      ]
     },
     "execution_count": 39,
     "metadata": {},
     "output_type": "execute_result"
    }
   ],
   "source": [
    "dat[dat['Colors'] == '#47DBCD']"
   ]
  },
  {
   "cell_type": "code",
   "execution_count": 40,
   "id": "4b623492",
   "metadata": {},
   "outputs": [],
   "source": [
    "# If we choose to save a dataset with a particular clustering:\n",
    "\n",
    "# dat.to_csv('YYY.csv')"
   ]
  },
  {
   "cell_type": "markdown",
   "id": "751ea17e",
   "metadata": {},
   "source": [
    "### Insights"
   ]
  },
  {
   "cell_type": "markdown",
   "id": "8d509c6c",
   "metadata": {},
   "source": [
    "When we use UMAP and clustering algorithms like KMeans and HAC, if we include snp votes, we get mainly 2 clusters based on the Davies Bouldin and Silhouette metrics which are Scotland and non-Scotland regions. \n",
    "\n",
    "Similarly, if we replace UMAP with PCA, we also get 2 clusters but this time, it is either london or non-london regions. This is due to PCA being affected easily by the huge difference london has with other regions. UMAP is more effective in detecting non-linear patterns and more sophisticated clusterings for example Scottish or non-Scottish"
   ]
  },
  {
   "cell_type": "markdown",
   "id": "00240f54",
   "metadata": {},
   "source": [
    "As can be seen in the heatmap, conservative areas tend to be more white, indigenous, have low unemployment, mostly are better off than labour clusters for example"
   ]
  }
 ],
 "metadata": {
  "kernelspec": {
   "display_name": "Python 3 (ipykernel)",
   "language": "python",
   "name": "python3"
  },
  "language_info": {
   "codemirror_mode": {
    "name": "ipython",
    "version": 3
   },
   "file_extension": ".py",
   "mimetype": "text/x-python",
   "name": "python",
   "nbconvert_exporter": "python",
   "pygments_lexer": "ipython3",
   "version": "3.9.7"
  }
 },
 "nbformat": 4,
 "nbformat_minor": 5
}
